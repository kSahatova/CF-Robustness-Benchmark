{
 "cells": [
  {
   "cell_type": "code",
   "execution_count": 1,
   "metadata": {},
   "outputs": [],
   "source": [
    "import warnings\n",
    "warnings.filterwarnings(\"ignore\")"
   ]
  },
  {
   "cell_type": "code",
   "execution_count": 2,
   "metadata": {},
   "outputs": [],
   "source": [
    "# expandable_segments allows the allocator to create a segment initially and then expand its size later when more memory is needed.\n",
    "import os\n",
    "os.environ[\"PYTORCH_CUDA_ALLOC_CONF\"] = \"expandable_segments:True\""
   ]
  },
  {
   "cell_type": "code",
   "execution_count": 3,
   "metadata": {},
   "outputs": [
    {
     "name": "stderr",
     "output_type": "stream",
     "text": [
      "mkdir -p failed for path /.cache/matplotlib: [Errno 13] Permission denied: '/.cache'\n",
      "Matplotlib created a temporary cache directory at /tmp/matplotlib-97987kua because there was an issue with the default path (/.cache/matplotlib); it is highly recommended to set the MPLCONFIGDIR environment variable to a writable directory, in particular to speed up the import of Matplotlib and to better support multiprocessing.\n",
      "Matplotlib is building the font cache; this may take a moment.\n",
      "2025-05-16 16:24:28.736568: E external/local_xla/xla/stream_executor/cuda/cuda_fft.cc:467] Unable to register cuFFT factory: Attempting to register factory for plugin cuFFT when one has already been registered\n",
      "WARNING: All log messages before absl::InitializeLog() is called are written to STDERR\n",
      "E0000 00:00:1747405468.754842 1310242 cuda_dnn.cc:8579] Unable to register cuDNN factory: Attempting to register factory for plugin cuDNN when one has already been registered\n",
      "E0000 00:00:1747405468.760310 1310242 cuda_blas.cc:1407] Unable to register cuBLAS factory: Attempting to register factory for plugin cuBLAS when one has already been registered\n",
      "W0000 00:00:1747405468.776106 1310242 computation_placer.cc:177] computation placer already registered. Please check linkage and avoid linking the same target more than once.\n",
      "W0000 00:00:1747405468.776123 1310242 computation_placer.cc:177] computation placer already registered. Please check linkage and avoid linking the same target more than once.\n",
      "W0000 00:00:1747405468.776125 1310242 computation_placer.cc:177] computation placer already registered. Please check linkage and avoid linking the same target more than once.\n",
      "W0000 00:00:1747405468.776127 1310242 computation_placer.cc:177] computation placer already registered. Please check linkage and avoid linking the same target more than once.\n",
      "2025-05-16 16:24:28.780925: I tensorflow/core/platform/cpu_feature_guard.cc:210] This TensorFlow binary is optimized to use available CPU instructions in performance-critical operations.\n",
      "To enable the following instructions: AVX2 AVX512F FMA, in other operations, rebuild TensorFlow with the appropriate compiler flags.\n"
     ]
    }
   ],
   "source": [
    "import tracemalloc\n",
    "import numpy as np\n",
    "import os.path as osp\n",
    "import matplotlib.pyplot as plt\n",
    "\n",
    "import torch\n",
    "\n",
    "from src.datasets import DatasetBuilder\n",
    "from src.utils import seed_everything, get_config, load_model_weights, evaluate_classification_model\n",
    "from src.cf_methods.coin import CounterfactualCGAN, CounterfactualTrainer\n",
    "\n",
    "seed_everything()"
   ]
  },
  {
   "cell_type": "code",
   "execution_count": 4,
   "metadata": {},
   "outputs": [],
   "source": [
    "# Prepare cuda to make a snapshot of the allocated memory  \n",
    "# torch.cuda.memory._record_memory_history()"
   ]
  },
  {
   "cell_type": "code",
   "execution_count": 4,
   "metadata": {},
   "outputs": [],
   "source": [
    "config_dir = '/data/leuven/365/vsc36567/CF-Robustness-Benchmark/configs' #'D:\\PycharmProjects\\CF-Robustness-Benchmark\\configs' #\n",
    "config_path = osp.join(config_dir, 'coin_derma.yaml') \n",
    "config = get_config(config_path) "
   ]
  },
  {
   "cell_type": "markdown",
   "metadata": {},
   "source": [
    "### Load the dataset"
   ]
  },
  {
   "cell_type": "code",
   "execution_count": 5,
   "metadata": {},
   "outputs": [],
   "source": [
    "ds_builder = DatasetBuilder(config)\n",
    "ds_builder.setup()\n",
    "train_loader, val_loader, test_loader = ds_builder.get_dataloaders()"
   ]
  },
  {
   "cell_type": "markdown",
   "metadata": {},
   "source": [
    "### Build the model and trainer"
   ]
  },
  {
   "cell_type": "markdown",
   "metadata": {},
   "source": [
    "For the training of the COIN that uses a CF-CGAN, we need the model itself and the corresponding trainer "
   ]
  },
  {
   "cell_type": "code",
   "execution_count": 6,
   "metadata": {},
   "outputs": [
    {
     "name": "stdout",
     "output_type": "stream",
     "text": [
      "Using SNConv in generator: False\n",
      "Generator in channels [1024, 1536, 768, 384, 192]\n",
      "Generator out channels [1024, 512, 256, 128, 64]\n",
      "Using SNConv in generator: False\n",
      "Using perturbation fuse scheme: skip_add_tanh\n"
     ]
    }
   ],
   "source": [
    "cfcgan = CounterfactualCGAN(opt=config, img_size=config.data.img_size)"
   ]
  },
  {
   "cell_type": "code",
   "execution_count": 7,
   "metadata": {},
   "outputs": [
    {
     "name": "stderr",
     "output_type": "stream",
     "text": [
      "[2025-05-16 14:31:18|INFO] - ================ Session (Fri May 16 14:31:18 2025) ================\n",
      "[2025-05-16 14:31:18|INFO] - Logging directory: /data/leuven/365/vsc36567/CF-Robustness-Benchmark/cf_output/derma/coin_cfe-May-15-2025_05+53PM-exp\n",
      "[2025-05-16 14:31:39|INFO] - Restored checkpoint /data/leuven/365/vsc36567/CF-Robustness-Benchmark/cf_output/derma/coin_cfe-May-15-2025_05+53PM-exp/checkpoints/checkpoint_2.pth (May 15, 2025)\n"
     ]
    }
   ],
   "source": [
    "continue_path = '/data/leuven/365/vsc36567/CF-Robustness-Benchmark/cf_output/derma/coin_cfe-May-15-2025_05+53PM-exp'\n",
    "trainer = CounterfactualTrainer(opt=config, model=cfcgan, continue_path=continue_path)"
   ]
  },
  {
   "cell_type": "markdown",
   "metadata": {},
   "source": [
    "### Training"
   ]
  },
  {
   "cell_type": "code",
   "execution_count": 8,
   "metadata": {},
   "outputs": [
    {
     "name": "stderr",
     "output_type": "stream",
     "text": [
      "                                                                  \r"
     ]
    }
   ],
   "source": [
    "trainer.fit([train_loader, val_loader]) "
   ]
  },
  {
   "cell_type": "code",
   "execution_count": 12,
   "metadata": {},
   "outputs": [],
   "source": [
    "# Finilizing a snapshot of the memory allocation\n",
    "# torch.cuda.memory._dump_snapshot(\"my_snapshot.pickle\")\n",
    "# torch.cuda.memory._record_memory_history(enabled=None)"
   ]
  },
  {
   "cell_type": "markdown",
   "metadata": {},
   "source": [
    "### Estimation of allocated memory"
   ]
  },
  {
   "cell_type": "code",
   "execution_count": 7,
   "metadata": {},
   "outputs": [
    {
     "name": "stdout",
     "output_type": "stream",
     "text": [
      "Total parameters: 96166150\n",
      "Total size (parameters + buffers): 367.14 MB\n"
     ]
    }
   ],
   "source": [
    "def get_model_memory_usage(model: torch.nn.Module):\n",
    "    total_params = sum(p.numel() for p in model.parameters())\n",
    "    param_size_bytes = sum(p.numel() * p.element_size() for p in model.parameters())\n",
    "    buffer_size_bytes = sum(b.numel() * b.element_size() for b in model.buffers())\n",
    "    total_size_bytes = param_size_bytes + buffer_size_bytes\n",
    "    total_size_mb = total_size_bytes / (1024 ** 2)\n",
    "\n",
    "    print(f\"Total parameters: {total_params}\")\n",
    "    print(f\"Total size (parameters + buffers): {total_size_mb:.2f} MB\")\n",
    "\n",
    "# Example usage\n",
    "get_model_memory_usage(cfcgan)\n"
   ]
  },
  {
   "cell_type": "code",
   "execution_count": 8,
   "metadata": {},
   "outputs": [
    {
     "name": "stdout",
     "output_type": "stream",
     "text": [
      "Allocated: 277.27 MB\n",
      "Reserved:  384.00 MB\n"
     ]
    }
   ],
   "source": [
    "print(f\"Allocated: {torch.cuda.memory_allocated() / (1024**2):.2f} MB\")\n",
    "print(f\"Reserved:  {torch.cuda.memory_reserved() / (1024**2):.2f} MB\")\n",
    "\n",
    "torch.cuda.reset_peak_memory_stats()"
   ]
  },
  {
   "cell_type": "code",
   "execution_count": 9,
   "metadata": {},
   "outputs": [
    {
     "name": "stdout",
     "output_type": "stream",
     "text": [
      "Input batch takes ~9.19 MB\n"
     ]
    }
   ],
   "source": [
    "# Calculation of approximate memory required for one batch\n",
    "input = torch.randn(config.batch_size, 3, 224, 224)  # shape = (16, 3, 224, 224)\n",
    "input_bytes = input.numel() * input.element_size()\n",
    "input_MB = input_bytes / (1024**2)\n",
    "print(f\"Input batch takes ~{input_MB:.2f} MB\")"
   ]
  },
  {
   "cell_type": "code",
   "execution_count": null,
   "metadata": {},
   "outputs": [],
   "source": []
  },
  {
   "cell_type": "code",
   "execution_count": null,
   "metadata": {},
   "outputs": [],
   "source": []
  }
 ],
 "metadata": {
  "kernelspec": {
   "display_name": "venv",
   "language": "python",
   "name": "python3"
  },
  "language_info": {
   "codemirror_mode": {
    "name": "ipython",
    "version": 3
   },
   "file_extension": ".py",
   "mimetype": "text/x-python",
   "name": "python",
   "nbconvert_exporter": "python",
   "pygments_lexer": "ipython3",
   "version": "3.12.4"
  }
 },
 "nbformat": 4,
 "nbformat_minor": 2
}
