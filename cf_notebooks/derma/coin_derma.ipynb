{
 "cells": [
  {
   "cell_type": "code",
   "execution_count": 1,
   "metadata": {},
   "outputs": [],
   "source": [
    "import warnings\n",
    "warnings.filterwarnings(\"ignore\")"
   ]
  },
  {
   "cell_type": "code",
   "execution_count": 2,
   "metadata": {},
   "outputs": [],
   "source": [
    "# expandable_segments allows the allocator to create a segment initially and then expand its size later when more memory is needed.\n",
    "import os\n",
    "os.environ[\"PYTORCH_CUDA_ALLOC_CONF\"] = \"expandable_segments:True\""
   ]
  },
  {
   "cell_type": "code",
   "execution_count": 5,
   "metadata": {},
   "outputs": [],
   "source": [
    "import tracemalloc\n",
    "import numpy as np\n",
    "import os.path as osp\n",
    "import matplotlib.pyplot as plt\n",
    "\n",
    "import torch\n",
    "\n",
    "from src.datasets import DatasetBuilder\n",
    "from src.utils import seed_everything, get_config, load_model_weights, evaluate_classification_model\n",
    "from src.cf_methods.coin import CounterfactualCGAN, CounterfactualTrainer, CounterfactualInpaintingCGAN\n",
    "\n",
    "seed_everything()"
   ]
  },
  {
   "cell_type": "code",
   "execution_count": 6,
   "metadata": {},
   "outputs": [],
   "source": [
    "# Prepare cuda to make a snapshot of the allocated memory  \n",
    "# torch.cuda.memory._record_memory_history()"
   ]
  },
  {
   "cell_type": "code",
   "execution_count": 7,
   "metadata": {},
   "outputs": [],
   "source": [
    "config_dir = '/data/leuven/365/vsc36567/CF-Robustness-Benchmark/configs' #'D:\\PycharmProjects\\CF-Robustness-Benchmark\\configs' #\n",
    "config_path = osp.join(config_dir, 'coin_derma.yaml') \n",
    "config = get_config(config_path) "
   ]
  },
  {
   "cell_type": "markdown",
   "metadata": {},
   "source": [
    "### Load the dataset"
   ]
  },
  {
   "cell_type": "code",
   "execution_count": 8,
   "metadata": {},
   "outputs": [],
   "source": [
    "ds_builder = DatasetBuilder(config)\n",
    "ds_builder.setup()\n",
    "train_loader, val_loader, test_loader = ds_builder.get_dataloaders()"
   ]
  },
  {
   "cell_type": "code",
   "execution_count": 9,
   "metadata": {},
   "outputs": [],
   "source": [
    "from src.utils import load_model_weights, evaluate_classification_model\n",
    "from src.models.classifiers import build_resnet50"
   ]
  },
  {
   "cell_type": "code",
   "execution_count": 10,
   "metadata": {},
   "outputs": [
    {
     "name": "stdout",
     "output_type": "stream",
     "text": [
      "Accuracy for the test dataset: 52.000%\n"
     ]
    }
   ],
   "source": [
    "classifier = build_resnet50(2)\n",
    "load_model_weights(classifier, \n",
    "                    weights_path='/data/leuven/365/vsc36567/CF-Robustness-Benchmark/notebooks/experiments/cv/model_fold_4.pth',\n",
    "\n",
    ")\n",
    "evaluate_classification_model(classifier, test_loader, num_classes=2)"
   ]
  },
  {
   "cell_type": "code",
   "execution_count": null,
   "metadata": {},
   "outputs": [],
   "source": [
    "# f(x)[k] - classifier prediction at class k\n",
    "f_x = classifier(x)\n",
    "f_x = f_x.softmax(dim=1) \n",
    "f_x = f_x[:, [self.explain_class_idx]]\n",
    "f_x_discrete = posterior2bin(f_x, self.num_bins)\n",
    "\n",
    "# # the posterior probabilities `c` we would like to obtain after the explanation image is fed into the classifier\n",
    "# f_x_desired = Variable(1.0 - f_x.detach(), requires_grad=False)\n",
    "# f_x_desired_discrete = posterior2bin(f_x_desired, self.num_bins)\n"
   ]
  },
  {
   "cell_type": "code",
   "execution_count": null,
   "metadata": {},
   "outputs": [],
   "source": [
    "def posterior_prob(self, x):\n",
    "        f_x, f_x_discrete, _, _ = super().posterior_prob(x)\n",
    "        f_x_desired = f_x.clone().detach()\n",
    "        f_x_desired_discrete = f_x_discrete.clone().detach()\n",
    "        \n",
    "        # mask of what samples classifier predicted as `abnormal`\n",
    "        inpaint_group = f_x_discrete.bool()\n",
    "        # `abnormalities` need to be inpainted and classifier should predict `normal` on them\n",
    "        f_x_desired[inpaint_group] = 1e-6\n",
    "        f_x_desired_discrete[inpaint_group] = 0\n",
    "        return f_x, f_x_discrete, f_x_desired, f_x_desired_discrete"
   ]
  },
  {
   "cell_type": "markdown",
   "metadata": {},
   "source": [
    "### Build the model and trainer"
   ]
  },
  {
   "cell_type": "markdown",
   "metadata": {},
   "source": [
    "For the training of the COIN that uses a CF-CGAN, we need the model itself and the corresponding trainer "
   ]
  },
  {
   "cell_type": "code",
   "execution_count": 12,
   "metadata": {},
   "outputs": [
    {
     "ename": "NameError",
     "evalue": "name 'CounterfactualInpaintingCGAN' is not defined",
     "output_type": "error",
     "traceback": [
      "\u001b[0;31m---------------------------------------------------------------------------\u001b[0m",
      "\u001b[0;31mNameError\u001b[0m                                 Traceback (most recent call last)",
      "Cell \u001b[0;32mIn[12], line 2\u001b[0m\n\u001b[1;32m      1\u001b[0m \u001b[38;5;66;03m# cfcgan = CounterfactualCGAN(opt=config, img_size=config.data.img_size)\u001b[39;00m\n\u001b[0;32m----> 2\u001b[0m cfcgan_inpainting \u001b[38;5;241m=\u001b[39m \u001b[43mCounterfactualInpaintingCGAN\u001b[49m(opt\u001b[38;5;241m=\u001b[39mconfig, img_size\u001b[38;5;241m=\u001b[39mconfig\u001b[38;5;241m.\u001b[39mdata\u001b[38;5;241m.\u001b[39mimg_size)\n",
      "\u001b[0;31mNameError\u001b[0m: name 'CounterfactualInpaintingCGAN' is not defined"
     ]
    }
   ],
   "source": [
    "# cfcgan = CounterfactualCGAN(opt=config, img_size=config.data.img_size)\n",
    "cfcgan_inpainting = CounterfactualInpaintingCGAN(opt=config, img_size=config.data.img_size)"
   ]
  },
  {
   "cell_type": "code",
   "execution_count": 13,
   "metadata": {},
   "outputs": [
    {
     "name": "stderr",
     "output_type": "stream",
     "text": [
      "[2025-05-28 14:15:11|INFO] - ================ Session (Wed May 28 14:15:11 2025) ================\n",
      "[2025-05-28 14:15:11|INFO] - Logging directory: /data/leuven/365/vsc36567/CF-Robustness-Benchmark/cf_output/derma/coin_cfe-May-28-2025_02+15PM-exp\n"
     ]
    }
   ],
   "source": [
    "# continue_path = '/data/leuven/365/vsc36567/CF-Robustness-Benchmark/cf_output/derma/coin_cfe-May-15-2025_05+53PM-exp'\n",
    "trainer = CounterfactualTrainer(opt=config, model=cfcgan) # continue_path=continue_path)"
   ]
  },
  {
   "cell_type": "code",
   "execution_count": 9,
   "metadata": {},
   "outputs": [],
   "source": [
    "# trainer = CounterfactualTrainer(opt=config, model=cfcgan_inpainting)"
   ]
  },
  {
   "cell_type": "markdown",
   "metadata": {},
   "source": [
    "### Training"
   ]
  },
  {
   "cell_type": "code",
   "execution_count": 27,
   "metadata": {},
   "outputs": [
    {
     "data": {
      "text/plain": [
       "(array([0, 1]), array([ 944, 1021]))"
      ]
     },
     "execution_count": 27,
     "metadata": {},
     "output_type": "execute_result"
    }
   ],
   "source": [
    "np.unique(train_loader.dataset.data.labels, return_counts=True)"
   ]
  },
  {
   "cell_type": "code",
   "execution_count": 9,
   "metadata": {},
   "outputs": [
    {
     "name": "stderr",
     "output_type": "stream",
     "text": [
      "[2025-05-28 12:17:02|INFO] - Finished evaluating counterfactual results for epoch: 0                                       \n",
      "[2025-05-28 12:17:02|INFO] - Counterfactual accuracy = 0.4925619834710744 (num_samples=1815)\n",
      "[2025-05-28 12:17:02|INFO] - CV(X, Xc) = 0.190 (τ=0.8, num_samples=1815)\n",
      "[2025-05-28 12:17:05|INFO] - FID(X, Xc) = 2.343 (num_samples=1815, features=768)\n",
      "[2025-05-28 12:17:05|INFO] - Ratio of true abnormal slices to classified as abnormal slices: 0.0\n",
      "[2025-05-28 12:17:05|INFO] - [Finished training epoch 0/10] [Epoch D loss: 1.525589] [Epoch G loss: 38.073501]\n",
      "[2025-05-28 12:17:08|INFO] - [Average positives/negatives ratio in batch: 0.333000]\n",
      "[2025-05-28 12:17:10|INFO] - Finished evaluating counterfactual results for epoch: 0\n",
      "[2025-05-28 12:17:10|INFO] - Counterfactual accuracy = 0.3442622950819672 (num_samples=61)\n",
      "[2025-05-28 12:17:10|INFO] - CV(X, Xc) = 0.049 (τ=0.8, num_samples=61)\n",
      "[2025-05-28 12:17:11|INFO] - FID(X, Xc) = 2.516 (num_samples=61, features=768)\n",
      "[2025-05-28 12:17:11|INFO] - Ratio of true abnormal slices to classified as abnormal slices: 0.0\n",
      "[2025-05-28 12:17:11|INFO] - [Finished validation epoch 0/10] [Epoch D loss: 0.417493] [Epoch G loss: 3.010123]\n",
      "[2025-05-28 12:17:12|INFO] - Saved checkpoint parameters at epoch 0: /data/leuven/365/vsc36567/CF-Robustness-Benchmark/cf_output/derma/coin_cfe-May-28-2025_12+13PM-exp/checkpoints/checkpoint_0.pth\n",
      "[2025-05-28 12:19:04|INFO] - [Finished training epoch 1/10] [Epoch D loss: 0.734624] [Epoch G loss: 3.456307]             \n",
      "[2025-05-28 12:19:08|INFO] - [Average positives/negatives ratio in batch: 0.333000]\n",
      "[2025-05-28 12:19:08|INFO] - [Finished validation epoch 1/10] [Epoch D loss: 0.628551] [Epoch G loss: 2.306852]\n",
      "[2025-05-28 12:19:09|INFO] - Saved checkpoint parameters at epoch 1: /data/leuven/365/vsc36567/CF-Robustness-Benchmark/cf_output/derma/coin_cfe-May-28-2025_12+13PM-exp/checkpoints/checkpoint_1.pth\n",
      "[2025-05-28 12:22:03|INFO] - Finished evaluating counterfactual results for epoch: 2                                      \n",
      "[2025-05-28 12:22:03|INFO] - Counterfactual accuracy = 0.5553719008264463 (num_samples=1815)\n",
      "[2025-05-28 12:22:03|INFO] - CV(X, Xc) = 0.268 (τ=0.8, num_samples=1815)\n",
      "[2025-05-28 12:22:03|INFO] - FID(X, Xc) = 2.167 (num_samples=1815, features=768)\n",
      "[2025-05-28 12:22:03|INFO] - Ratio of true abnormal slices to classified as abnormal slices: 0.0\n",
      "[2025-05-28 12:22:03|INFO] - [Finished training epoch 2/10] [Epoch D loss: 0.671963] [Epoch G loss: 2.421809]\n",
      "[2025-05-28 12:22:07|INFO] - [Average positives/negatives ratio in batch: 0.333000]\n",
      "[2025-05-28 12:22:09|INFO] - Finished evaluating counterfactual results for epoch: 2\n",
      "[2025-05-28 12:22:09|INFO] - Counterfactual accuracy = 0.5245901639344263 (num_samples=61)\n",
      "[2025-05-28 12:22:09|INFO] - CV(X, Xc) = 0.246 (τ=0.8, num_samples=61)\n",
      "[2025-05-28 12:22:10|INFO] - FID(X, Xc) = 2.390 (num_samples=61, features=768)\n",
      "[2025-05-28 12:22:10|INFO] - Ratio of true abnormal slices to classified as abnormal slices: 0.0\n",
      "[2025-05-28 12:22:10|INFO] - [Finished validation epoch 2/10] [Epoch D loss: 0.872139] [Epoch G loss: 1.827159]\n",
      "[2025-05-28 12:22:11|INFO] - Saved checkpoint parameters at epoch 2: /data/leuven/365/vsc36567/CF-Robustness-Benchmark/cf_output/derma/coin_cfe-May-28-2025_12+13PM-exp/checkpoints/checkpoint_2.pth\n",
      "[2025-05-28 12:24:03|INFO] - [Finished training epoch 3/10] [Epoch D loss: 0.702427] [Epoch G loss: 2.137487]             \n",
      "[2025-05-28 12:24:06|INFO] - [Average positives/negatives ratio in batch: 0.333000]\n",
      "[2025-05-28 12:24:06|INFO] - [Finished validation epoch 3/10] [Epoch D loss: 0.614131] [Epoch G loss: 2.144936]\n",
      "[2025-05-28 12:24:08|INFO] - Saved checkpoint parameters at epoch 3: /data/leuven/365/vsc36567/CF-Robustness-Benchmark/cf_output/derma/coin_cfe-May-28-2025_12+13PM-exp/checkpoints/checkpoint_3.pth\n",
      "[2025-05-28 12:27:02|INFO] - Finished evaluating counterfactual results for epoch: 4                                      \n",
      "[2025-05-28 12:27:02|INFO] - Counterfactual accuracy = 0.5498622589531681 (num_samples=1815)\n",
      "[2025-05-28 12:27:02|INFO] - CV(X, Xc) = 0.247 (τ=0.8, num_samples=1815)\n",
      "[2025-05-28 12:27:02|INFO] - FID(X, Xc) = 2.152 (num_samples=1815, features=768)\n",
      "[2025-05-28 12:27:02|INFO] - Ratio of true abnormal slices to classified as abnormal slices: 0.0\n",
      "[2025-05-28 12:27:02|INFO] - [Finished training epoch 4/10] [Epoch D loss: 0.653713] [Epoch G loss: 2.076447]\n",
      "[2025-05-28 12:27:06|INFO] - [Average positives/negatives ratio in batch: 0.333000]\n",
      "[2025-05-28 12:27:08|INFO] - Finished evaluating counterfactual results for epoch: 4\n",
      "[2025-05-28 12:27:08|INFO] - Counterfactual accuracy = 0.4262295081967213 (num_samples=61)\n",
      "[2025-05-28 12:27:08|INFO] - CV(X, Xc) = 0.164 (τ=0.8, num_samples=61)\n",
      "[2025-05-28 12:27:08|INFO] - FID(X, Xc) = 2.398 (num_samples=61, features=768)\n",
      "[2025-05-28 12:27:08|INFO] - Ratio of true abnormal slices to classified as abnormal slices: 0.0\n",
      "[2025-05-28 12:27:08|INFO] - [Finished validation epoch 4/10] [Epoch D loss: 0.303700] [Epoch G loss: 2.251545]\n",
      "[2025-05-28 12:27:10|INFO] - Saved checkpoint parameters at epoch 4: /data/leuven/365/vsc36567/CF-Robustness-Benchmark/cf_output/derma/coin_cfe-May-28-2025_12+13PM-exp/checkpoints/checkpoint_4.pth\n",
      "[2025-05-28 12:29:01|INFO] - [Finished training epoch 5/10] [Epoch D loss: 0.640979] [Epoch G loss: 2.210104]             \n",
      "[2025-05-28 12:29:05|INFO] - [Average positives/negatives ratio in batch: 0.333000]\n",
      "[2025-05-28 12:29:05|INFO] - [Finished validation epoch 5/10] [Epoch D loss: 0.519948] [Epoch G loss: 1.866379]\n",
      "[2025-05-28 12:29:06|INFO] - Saved checkpoint parameters at epoch 5: /data/leuven/365/vsc36567/CF-Robustness-Benchmark/cf_output/derma/coin_cfe-May-28-2025_12+13PM-exp/checkpoints/checkpoint_5.pth\n",
      "[2025-05-28 12:32:00|INFO] - Finished evaluating counterfactual results for epoch: 6                                      \n",
      "[2025-05-28 12:32:00|INFO] - Counterfactual accuracy = 0.6022038567493113 (num_samples=1815)\n",
      "[2025-05-28 12:32:00|INFO] - CV(X, Xc) = 0.258 (τ=0.8, num_samples=1815)\n",
      "[2025-05-28 12:32:00|INFO] - FID(X, Xc) = 2.173 (num_samples=1815, features=768)\n",
      "[2025-05-28 12:32:00|INFO] - Ratio of true abnormal slices to classified as abnormal slices: 0.0\n",
      "[2025-05-28 12:32:00|INFO] - [Finished training epoch 6/10] [Epoch D loss: 0.663364] [Epoch G loss: 2.031235]\n",
      "[2025-05-28 12:32:04|INFO] - [Average positives/negatives ratio in batch: 0.333000]\n",
      "[2025-05-28 12:32:06|INFO] - Finished evaluating counterfactual results for epoch: 6\n",
      "[2025-05-28 12:32:06|INFO] - Counterfactual accuracy = 0.4426229508196721 (num_samples=61)\n",
      "[2025-05-28 12:32:06|INFO] - CV(X, Xc) = 0.131 (τ=0.8, num_samples=61)\n",
      "[2025-05-28 12:32:06|INFO] - FID(X, Xc) = 2.399 (num_samples=61, features=768)\n",
      "[2025-05-28 12:32:06|INFO] - Ratio of true abnormal slices to classified as abnormal slices: 0.0\n",
      "[2025-05-28 12:32:06|INFO] - [Finished validation epoch 6/10] [Epoch D loss: 0.523054] [Epoch G loss: 1.843506]\n",
      "[2025-05-28 12:32:08|INFO] - Saved checkpoint parameters at epoch 6: /data/leuven/365/vsc36567/CF-Robustness-Benchmark/cf_output/derma/coin_cfe-May-28-2025_12+13PM-exp/checkpoints/checkpoint_6.pth\n",
      "[2025-05-28 12:33:59|INFO] - [Finished training epoch 7/10] [Epoch D loss: 0.619301] [Epoch G loss: 2.268873]             \n",
      "[2025-05-28 12:34:02|INFO] - [Average positives/negatives ratio in batch: 0.333000]\n",
      "[2025-05-28 12:34:02|INFO] - [Finished validation epoch 7/10] [Epoch D loss: 0.535837] [Epoch G loss: 1.864970]\n",
      "[2025-05-28 12:34:03|INFO] - Saved checkpoint parameters at epoch 7: /data/leuven/365/vsc36567/CF-Robustness-Benchmark/cf_output/derma/coin_cfe-May-28-2025_12+13PM-exp/checkpoints/checkpoint_7.pth\n",
      "[2025-05-28 12:36:57|INFO] - Finished evaluating counterfactual results for epoch: 8                                      \n",
      "[2025-05-28 12:36:57|INFO] - Counterfactual accuracy = 0.6677685950413224 (num_samples=1815)\n",
      "[2025-05-28 12:36:57|INFO] - CV(X, Xc) = 0.409 (τ=0.8, num_samples=1815)\n",
      "[2025-05-28 12:36:57|INFO] - FID(X, Xc) = 2.134 (num_samples=1815, features=768)\n",
      "[2025-05-28 12:36:57|INFO] - Ratio of true abnormal slices to classified as abnormal slices: 0.0\n",
      "[2025-05-28 12:36:57|INFO] - [Finished training epoch 8/10] [Epoch D loss: 0.623748] [Epoch G loss: 2.108448]\n",
      "[2025-05-28 12:37:01|INFO] - [Average positives/negatives ratio in batch: 0.333000]\n",
      "[2025-05-28 12:37:03|INFO] - Finished evaluating counterfactual results for epoch: 8\n",
      "[2025-05-28 12:37:03|INFO] - Counterfactual accuracy = 0.5409836065573771 (num_samples=61)\n",
      "[2025-05-28 12:37:03|INFO] - CV(X, Xc) = 0.311 (τ=0.8, num_samples=61)\n",
      "[2025-05-28 12:37:03|INFO] - FID(X, Xc) = 2.321 (num_samples=61, features=768)\n",
      "[2025-05-28 12:37:03|INFO] - Ratio of true abnormal slices to classified as abnormal slices: 0.0\n",
      "[2025-05-28 12:37:03|INFO] - [Finished validation epoch 8/10] [Epoch D loss: 0.658992] [Epoch G loss: 2.321078]\n"
     ]
    }
   ],
   "source": [
    "trainer.fit([train_loader, val_loader]) "
   ]
  },
  {
   "cell_type": "code",
   "execution_count": 12,
   "metadata": {},
   "outputs": [],
   "source": [
    "# Finilizing a snapshot of the memory allocation\n",
    "# torch.cuda.memory._dump_snapshot(\"my_snapshot.pickle\")\n",
    "# torch.cuda.memory._record_memory_history(enabled=None)"
   ]
  },
  {
   "cell_type": "markdown",
   "metadata": {},
   "source": [
    "### Estimation of allocated memory"
   ]
  },
  {
   "cell_type": "code",
   "execution_count": 7,
   "metadata": {},
   "outputs": [
    {
     "name": "stdout",
     "output_type": "stream",
     "text": [
      "Total parameters: 96166150\n",
      "Total size (parameters + buffers): 367.14 MB\n"
     ]
    }
   ],
   "source": [
    "def get_model_memory_usage(model: torch.nn.Module):\n",
    "    total_params = sum(p.numel() for p in model.parameters())\n",
    "    param_size_bytes = sum(p.numel() * p.element_size() for p in model.parameters())\n",
    "    buffer_size_bytes = sum(b.numel() * b.element_size() for b in model.buffers())\n",
    "    total_size_bytes = param_size_bytes + buffer_size_bytes\n",
    "    total_size_mb = total_size_bytes / (1024 ** 2)\n",
    "\n",
    "    print(f\"Total parameters: {total_params}\")\n",
    "    print(f\"Total size (parameters + buffers): {total_size_mb:.2f} MB\")\n",
    "\n",
    "# Example usage\n",
    "get_model_memory_usage(cfcgan)\n"
   ]
  },
  {
   "cell_type": "code",
   "execution_count": 8,
   "metadata": {},
   "outputs": [
    {
     "name": "stdout",
     "output_type": "stream",
     "text": [
      "Allocated: 277.27 MB\n",
      "Reserved:  384.00 MB\n"
     ]
    }
   ],
   "source": [
    "print(f\"Allocated: {torch.cuda.memory_allocated() / (1024**2):.2f} MB\")\n",
    "print(f\"Reserved:  {torch.cuda.memory_reserved() / (1024**2):.2f} MB\")\n",
    "\n",
    "torch.cuda.reset_peak_memory_stats()"
   ]
  },
  {
   "cell_type": "code",
   "execution_count": 9,
   "metadata": {},
   "outputs": [
    {
     "name": "stdout",
     "output_type": "stream",
     "text": [
      "Input batch takes ~9.19 MB\n"
     ]
    }
   ],
   "source": [
    "# Calculation of approximate memory required for one batch\n",
    "input = torch.randn(config.batch_size, 3, 224, 224)  # shape = (16, 3, 224, 224)\n",
    "input_bytes = input.numel() * input.element_size()\n",
    "input_MB = input_bytes / (1024**2)\n",
    "print(f\"Input batch takes ~{input_MB:.2f} MB\")"
   ]
  },
  {
   "cell_type": "code",
   "execution_count": null,
   "metadata": {},
   "outputs": [],
   "source": []
  },
  {
   "cell_type": "code",
   "execution_count": null,
   "metadata": {},
   "outputs": [],
   "source": []
  }
 ],
 "metadata": {
  "kernelspec": {
   "display_name": "venv",
   "language": "python",
   "name": "python3"
  },
  "language_info": {
   "codemirror_mode": {
    "name": "ipython",
    "version": 3
   },
   "file_extension": ".py",
   "mimetype": "text/x-python",
   "name": "python",
   "nbconvert_exporter": "python",
   "pygments_lexer": "ipython3",
   "version": "3.12.4"
  }
 },
 "nbformat": 4,
 "nbformat_minor": 2
}
