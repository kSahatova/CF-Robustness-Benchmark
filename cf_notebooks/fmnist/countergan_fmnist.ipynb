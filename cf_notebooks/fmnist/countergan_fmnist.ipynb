{
 "cells": [
  {
   "cell_type": "code",
   "execution_count": 46,
   "metadata": {},
   "outputs": [],
   "source": [
    "import os\n",
    "import pickle\n",
    "import numpy as np\n",
    "import pandas as pd\n",
    "from tqdm import tqdm\n",
    "import os.path as osp\n",
    "import seaborn as sns\n",
    "from typing import List\n",
    "import matplotlib.pyplot as plt\n",
    "\n",
    "import torch\n",
    "from torch.nn.functional import one_hot \n",
    "from datetime import datetime\n",
    "\n",
    "import tensorflow as tf\n",
    "from tensorflow.keras import losses\n",
    "from tensorflow.keras.utils import to_categorical\n",
    "from tensorflow.keras.datasets import fashion_mnist\n",
    "from tensorflow.keras.models import load_model\n",
    "\n",
    "\n",
    "from src.models.classifiers import CNNtf\n",
    "import src.cf_methods.countergan.utils  as cutils\n",
    "\n",
    "tf.experimental.numpy.experimental_enable_numpy_behavior()\n",
    "\n",
    "plt.style.use('seaborn-v0_8-darkgrid')"
   ]
  },
  {
   "cell_type": "code",
   "execution_count": 2,
   "metadata": {},
   "outputs": [],
   "source": [
    "from src.utils import seed_tf\n",
    "\n",
    "seed_tf()"
   ]
  },
  {
   "cell_type": "markdown",
   "metadata": {},
   "source": [
    "Loading MNIST data"
   ]
  },
  {
   "cell_type": "code",
   "execution_count": 78,
   "metadata": {},
   "outputs": [],
   "source": [
    "DESIRED_CLASS = 4  # This is the target class that the generator will learn to synthetize\n",
    "N_CLASSES = 10\n",
    "\n",
    "(x_train, y_train), (x_test, y_test) = fashion_mnist.load_data()\n",
    "\n",
    "x_train = (x_train / 255.).astype(\"float32\")\n",
    "x_test = (x_test / 255.).astype(\"float32\")"
   ]
  },
  {
   "cell_type": "code",
   "execution_count": 79,
   "metadata": {},
   "outputs": [],
   "source": [
    "def get_factual_instances(x: np.ndarray, y: np.ndarray, class_indices: List[int]):\n",
    "    labels = []\n",
    "    factuals = []\n",
    "    for new_ind, class_ind in enumerate(class_indices):\n",
    "        class_mask = (y == class_ind)\n",
    "        labels.extend(y[class_mask].shape[0]* [new_ind])\n",
    "        factuals.extend(x[class_mask])\n",
    "    indices = np.arange(len(labels))\n",
    "    np.random.shuffle(indices)\n",
    "    factuals, labels = np.array(factuals), np.array(labels)\n",
    "    factuals = factuals[indices]\n",
    "    labels = labels[indices]\n",
    "    return factuals, labels"
   ]
  },
  {
   "cell_type": "code",
   "execution_count": 87,
   "metadata": {},
   "outputs": [],
   "source": [
    "factual_classes = [0, 2, 4, 6]\n",
    "x_train_red, y_train_red = get_factual_instances(x_train, y_train, factual_classes)\n",
    "x_test_red, y_test_red = get_factual_instances(x_test, y_test, factual_classes)\n",
    "# np.unique(y_train_red, return_counts=True)"
   ]
  },
  {
   "cell_type": "code",
   "execution_count": 89,
   "metadata": {},
   "outputs": [],
   "source": [
    "X_train = tf.expand_dims(x_train_red, axis=-1)\n",
    "X_test = tf.expand_dims(x_test_red, axis=-1)\n",
    "\n",
    "y_train_encoded = to_categorical(y_train_red, len(factual_classes))\n",
    "y_test_encoded = to_categorical(y_test_red, len(factual_classes))"
   ]
  },
  {
   "cell_type": "markdown",
   "metadata": {},
   "source": [
    "## Train a classifier and AE"
   ]
  },
  {
   "cell_type": "code",
   "execution_count": null,
   "metadata": {},
   "outputs": [],
   "source": [
    "\"\"\"import tensorflow as tf\n",
    "from tensorflow import keras\n",
    "import tensorflow.keras as tfk\n",
    "import tensorflow.keras.layers as tl\n",
    "from tensorflow.keras import Model\n",
    "from tensorflow.keras.models import Sequential\n",
    "\n",
    "class CNNtf(Model):\n",
    "    def __init__(self, input_channels, num_classes):\n",
    "        super(CNNtf, self).__init__()\n",
    "\n",
    "        self.input_channels = input_channels\n",
    "        self.num_classes = num_classes\n",
    "\n",
    "        # First conv block\n",
    "        self.main = [\n",
    "            tl.Conv2D(8, kernel_size=7, strides=1, padding=\"same\", input_shape=(None, None, input_channels)),\n",
    "            tl.ReLU(),\n",
    "            tl.MaxPool2D(pool_size=2, strides=2),\n",
    "            # tl.Dropout(0.1),\n",
    "            # Second conv block\n",
    "            tl.Conv2D(16, kernel_size=5, strides=1, padding=\"same\"),\n",
    "            tl.ReLU(),\n",
    "            tl.MaxPool2D(pool_size=2, strides=2),\n",
    "            # tl.Dropout(0.1),\n",
    "            # Third conv block\n",
    "            tl.Conv2D(32, kernel_size=3, strides=1, padding=\"same\"),\n",
    "            tl.ReLU(),\n",
    "            tl.MaxPool2D(pool_size=2, strides=2),\n",
    "            # tl.Dropout(0.1),\n",
    "            tl.Flatten(),\n",
    "        ]\n",
    "\n",
    "        # Classifier layer\n",
    "        self.classifier = [tl.Dense(128), tl.Dense(num_classes)]\n",
    "\n",
    "    def call(self, x):\n",
    "        # Forward pass through conv layers\n",
    "        for layer in self.main:\n",
    "            x = layer(x)\n",
    "            # print(x.shape)\n",
    "\n",
    "        # Classification layer\n",
    "        x = self.classifier[0](x)\n",
    "        logits = self.classifier[1](x)\n",
    "\n",
    "        return logits \n",
    "\n",
    "    def get_params_num(self):\n",
    "        total_params = 0\n",
    "\n",
    "        # Count trainable parameters in main layers\n",
    "        for layer in self.main:\n",
    "            total_params += np.sum(\n",
    "                [tfk.backend.count_params(w) for w in layer.trainable_weights]\n",
    "            )\n",
    "\n",
    "        # Count trainable parameters in classifier\n",
    "        for layer in self.classifier:\n",
    "            total_params += np.sum(\n",
    "                [tfk.backend.count_params(w) for w in layer.trainable_weights]\n",
    "            )\n",
    "        # total_params += np.sum(\n",
    "        #     [tfk.backend.count_params(w) for w in self.classifier.trainable_weights]\n",
    "        # )\n",
    "\n",
    "        return total_params\"\"\""
   ]
  },
  {
   "cell_type": "code",
   "execution_count": 90,
   "metadata": {},
   "outputs": [],
   "source": [
    "batch_size = 64\n",
    "h, w, ch = X_train.shape[1:]\n",
    "input_shape = (None, h, w, ch) # for tf models, it goes batch_size x height x width x channels"
   ]
  },
  {
   "cell_type": "code",
   "execution_count": 98,
   "metadata": {},
   "outputs": [
    {
     "name": "stdout",
     "output_type": "stream",
     "text": [
      "Number of trainable parameters in the model:  45764.0\n"
     ]
    }
   ],
   "source": [
    "classifier = CNNtf(input_channels=ch, num_classes=len(factual_classes))\n",
    "classifier.build(input_shape)\n",
    "loss = tf.keras.losses.SparseCategoricalCrossentropy(from_logits=True)\n",
    "#loss = 'binary_crossentropy' if is_binary_clf else 'categorical_crossentropy'\n",
    "print('Number of trainable parameters in the model: ', classifier.get_params_num())"
   ]
  },
  {
   "cell_type": "code",
   "execution_count": 99,
   "metadata": {},
   "outputs": [
    {
     "name": "stdout",
     "output_type": "stream",
     "text": [
      "Epoch 1/20\n"
     ]
    },
    {
     "name": "stderr",
     "output_type": "stream",
     "text": [
      "d:\\PycharmProjects\\CF-Robustness-Benchmark\\venv\\Lib\\site-packages\\keras\\src\\backend.py:5729: UserWarning: \"`sparse_categorical_crossentropy` received `from_logits=True`, but the `output` argument was produced by a Softmax activation and thus does not represent logits. Was this intended?\n",
      "  output, from_logits = _get_logits(\n"
     ]
    },
    {
     "name": "stdout",
     "output_type": "stream",
     "text": [
      "300/300 [==============================] - 7s 20ms/step - loss: 0.8582 - accuracy: 0.6336 - val_loss: 0.6257 - val_accuracy: 0.7542\n",
      "Epoch 2/20\n",
      "300/300 [==============================] - 6s 21ms/step - loss: 0.6282 - accuracy: 0.7493 - val_loss: 0.5527 - val_accuracy: 0.7879\n",
      "Epoch 3/20\n",
      "300/300 [==============================] - 6s 19ms/step - loss: 0.5654 - accuracy: 0.7745 - val_loss: 0.5268 - val_accuracy: 0.7900\n",
      "Epoch 4/20\n",
      "300/300 [==============================] - 6s 19ms/step - loss: 0.5331 - accuracy: 0.7839 - val_loss: 0.4808 - val_accuracy: 0.8127\n",
      "Epoch 5/20\n",
      "300/300 [==============================] - 6s 19ms/step - loss: 0.5062 - accuracy: 0.7977 - val_loss: 0.4932 - val_accuracy: 0.8050\n",
      "Epoch 6/20\n",
      "300/300 [==============================] - 6s 18ms/step - loss: 0.4880 - accuracy: 0.8051 - val_loss: 0.4537 - val_accuracy: 0.8190\n",
      "Epoch 7/20\n",
      "300/300 [==============================] - 5s 18ms/step - loss: 0.4716 - accuracy: 0.8087 - val_loss: 0.4462 - val_accuracy: 0.8219\n",
      "Epoch 8/20\n",
      "300/300 [==============================] - 6s 19ms/step - loss: 0.4639 - accuracy: 0.8141 - val_loss: 0.4445 - val_accuracy: 0.8194\n",
      "Epoch 9/20\n",
      "300/300 [==============================] - 6s 19ms/step - loss: 0.4493 - accuracy: 0.8210 - val_loss: 0.4240 - val_accuracy: 0.8285\n",
      "Epoch 10/20\n",
      "300/300 [==============================] - 6s 19ms/step - loss: 0.4370 - accuracy: 0.8261 - val_loss: 0.4349 - val_accuracy: 0.8321\n",
      "Epoch 11/20\n",
      "300/300 [==============================] - 6s 19ms/step - loss: 0.4289 - accuracy: 0.8287 - val_loss: 0.4078 - val_accuracy: 0.8356\n",
      "Epoch 12/20\n",
      "300/300 [==============================] - 6s 18ms/step - loss: 0.4225 - accuracy: 0.8334 - val_loss: 0.4184 - val_accuracy: 0.8352\n",
      "Epoch 13/20\n",
      "300/300 [==============================] - 6s 18ms/step - loss: 0.4161 - accuracy: 0.8336 - val_loss: 0.4104 - val_accuracy: 0.8373\n",
      "Epoch 14/20\n",
      "300/300 [==============================] - 6s 19ms/step - loss: 0.4041 - accuracy: 0.8386 - val_loss: 0.4101 - val_accuracy: 0.8354\n",
      "Epoch 15/20\n",
      "300/300 [==============================] - 6s 20ms/step - loss: 0.3984 - accuracy: 0.8415 - val_loss: 0.3932 - val_accuracy: 0.8425\n",
      "Epoch 16/20\n",
      "300/300 [==============================] - 6s 21ms/step - loss: 0.3969 - accuracy: 0.8408 - val_loss: 0.4297 - val_accuracy: 0.8306\n",
      "Epoch 17/20\n",
      "300/300 [==============================] - 6s 21ms/step - loss: 0.3880 - accuracy: 0.8494 - val_loss: 0.4266 - val_accuracy: 0.8290\n",
      "Epoch 18/20\n",
      "300/300 [==============================] - 6s 20ms/step - loss: 0.3831 - accuracy: 0.8460 - val_loss: 0.3992 - val_accuracy: 0.8402\n",
      "Epoch 19/20\n",
      "300/300 [==============================] - 6s 21ms/step - loss: 0.3754 - accuracy: 0.8518 - val_loss: 0.3814 - val_accuracy: 0.8479\n",
      "Epoch 20/20\n",
      "300/300 [==============================] - 6s 21ms/step - loss: 0.3707 - accuracy: 0.8543 - val_loss: 0.3900 - val_accuracy: 0.8462\n"
     ]
    },
    {
     "data": {
      "text/plain": [
       "<keras.src.callbacks.History at 0x2078055fe10>"
      ]
     },
     "execution_count": 99,
     "metadata": {},
     "output_type": "execute_result"
    }
   ],
   "source": [
    "early_stopping_callback = tf.keras.callbacks.EarlyStopping(\n",
    "    monitor='val_loss',\n",
    "    verbose=0,\n",
    "    patience=5,\n",
    "    mode='auto',\n",
    "    baseline=None,\n",
    "    restore_best_weights=False,\n",
    "    start_from_epoch=0\n",
    ")\n",
    "num_epochs = 20\n",
    "\n",
    "classifier.compile(optimizer=\"adam\", \n",
    "                   loss=loss,\n",
    "                   metrics=['accuracy'])\n",
    "classifier.fit(X_train, y_train_red, batch_size=batch_size, shuffle=True, epochs=num_epochs, \n",
    "               validation_split=0.2, callbacks=[early_stopping_callback])"
   ]
  },
  {
   "cell_type": "code",
   "execution_count": 100,
   "metadata": {},
   "outputs": [
    {
     "name": "stdout",
     "output_type": "stream",
     "text": [
      "125/125 [==============================] - 1s 4ms/step\n",
      "Model's accuracy: 83.97%\n"
     ]
    }
   ],
   "source": [
    "pred_logits = classifier.predict(X_test)\n",
    "pred_targets = tf.argmax(pred_logits, axis=1, output_type=tf.int32)\n",
    "\n",
    "acc = tf.keras.metrics.Accuracy()\n",
    "acc.update_state(pred_targets, y_test_red)\n",
    "baseline_accuracy = acc.result().numpy()\n",
    "print(\"Model's accuracy: {:5.2f}%\".format(100 * baseline_accuracy))"
   ]
  },
  {
   "cell_type": "code",
   "execution_count": 101,
   "metadata": {},
   "outputs": [],
   "source": [
    "saved_model_dir = r'D:\\PycharmProjects\\CF-Robustness-Benchmark\\notebooks\\experiments\\fmnist_classification\\multi\\tf_checkpoints'\n",
    "file_name = f'classifier_{DESIRED_CLASS}_{len(factual_classes)}_classes.keras'\n",
    "classifier.save(osp.join(saved_model_dir, file_name))"
   ]
  },
  {
   "cell_type": "markdown",
   "metadata": {},
   "source": [
    "Train an AE "
   ]
  },
  {
   "cell_type": "code",
   "execution_count": 102,
   "metadata": {},
   "outputs": [],
   "source": [
    "from src.cf_methods.countergan import create_convolutional_autoencoder\n",
    "from src.cf_methods.countergan import utils as cutils\n",
    "from pprint import pprint"
   ]
  },
  {
   "cell_type": "code",
   "execution_count": null,
   "metadata": {},
   "outputs": [
    {
     "name": "stdout",
     "output_type": "stream",
     "text": [
      "Epoch 1/10\n",
      "469/469 [==============================] - 55s 115ms/step - loss: 0.0252 - val_loss: 0.0174\n",
      "Epoch 2/10\n",
      "469/469 [==============================] - 53s 113ms/step - loss: 0.0188 - val_loss: 0.0168\n",
      "Epoch 3/10\n",
      "469/469 [==============================] - 53s 113ms/step - loss: 0.0176 - val_loss: 0.0155\n",
      "Epoch 4/10\n",
      "469/469 [==============================] - 53s 112ms/step - loss: 0.0168 - val_loss: 0.0148\n",
      "Epoch 5/10\n",
      "469/469 [==============================] - 53s 113ms/step - loss: 0.0163 - val_loss: 0.0137\n",
      "Epoch 6/10\n",
      "469/469 [==============================] - 52s 112ms/step - loss: 0.0160 - val_loss: 0.0137\n",
      "Epoch 7/10\n",
      "469/469 [==============================] - 52s 112ms/step - loss: 0.0158 - val_loss: 0.0127\n",
      "Epoch 8/10\n",
      "469/469 [==============================] - 53s 112ms/step - loss: 0.0156 - val_loss: 0.0125\n",
      "Epoch 9/10\n",
      "469/469 [==============================] - 52s 112ms/step - loss: 0.0155 - val_loss: 0.0122\n",
      "Epoch 10/10\n",
      "469/469 [==============================] - 54s 116ms/step - loss: 0.0154 - val_loss: 0.0122\n",
      "Training loss: 0.0154\n",
      "Validation loss: 0.0122\n",
      "{'reconstruction_error': '2.990 ± 0.015',\n",
      " 'reconstruction_error_noise': '8.186 ± 0.009'}\n"
     ]
    }
   ],
   "source": [
    "def add_noise(x, noise_factor=0.5):\n",
    "    noise_factor = 0.5\n",
    "    x_noisy = x + noise_factor * np.random.normal(loc=0.0, scale=1.0, size=x.shape)\n",
    "    x_noisy = np.clip(x_noisy, 0., 1.)\n",
    "    return x_noisy\n",
    "\n",
    "autoencoder = create_convolutional_autoencoder(in_shape=(28, 28, 1))\n",
    "training = autoencoder.fit(\n",
    "    add_noise(X_train), X_train, epochs=15, batch_size=128, shuffle=True,\n",
    "    verbose=1, validation_data=(X_test, X_test)\n",
    ")\n",
    "print(f\"Training loss: {training.history['loss'][-1]:.4f}\")\n",
    "print(f\"Validation loss: {training.history['val_loss'][-1]:.4f}\")\n",
    "\n",
    "# Compute the reconstruction error of noise data\n",
    "samples = np.random.uniform(low=0.0, high=1.0, size=(1000, 28, 28, 1))\n",
    "reconstruction_error_noise = cutils.compute_reconstruction_error(samples, autoencoder)\n",
    "\n",
    "# Save and print the autoencoder metrics\n",
    "reconstruction_error = cutils.compute_reconstruction_error(X_test, autoencoder)\n",
    "autoencoder_metrics = {\n",
    "    \"reconstruction_error\": cutils.format_metric(reconstruction_error),\n",
    "    \"reconstruction_error_noise\": cutils.format_metric(reconstruction_error_noise),\n",
    "}\n",
    "\n",
    "pprint(autoencoder_metrics)\n"
   ]
  },
  {
   "cell_type": "code",
   "execution_count": 21,
   "metadata": {},
   "outputs": [
    {
     "name": "stderr",
     "output_type": "stream",
     "text": [
      "d:\\PycharmProjects\\CF-Robustness-Benchmark\\venv\\Lib\\site-packages\\keras\\src\\engine\\training.py:3079: UserWarning: You are saving your model as an HDF5 file via `model.save()`. This file format is considered legacy. We recommend using instead the native Keras format, e.g. `model.save('my_model.keras')`.\n",
      "  saving_api.save_model(\n"
     ]
    }
   ],
   "source": [
    "autoencoder.save(r\"D:\\PycharmProjects\\CF-Robustness-Benchmark\\notebooks\\experiments\\fmnist_ae\\multi_fmnist_autoencoder.h5\")"
   ]
  },
  {
   "cell_type": "markdown",
   "metadata": {},
   "source": [
    "## Load classifier"
   ]
  },
  {
   "cell_type": "code",
   "execution_count": null,
   "metadata": {},
   "outputs": [],
   "source": [
    "# weights_dir = r'D:\\PycharmProjects\\Counterfactual-Robustness-Benchmark\\src\\models\\weights'\n",
    "saved_model_dir = r'D:\\PycharmProjects\\CF-Robustness-Benchmark\\notebooks\\experiments\\fmnist_classification\\multi\\tf_checkpoints'\n",
    "file_name = f'classifier_{DESIRED_CLASS}.keras'\n",
    "\n",
    "baseline_classifier = load_model(osp.join(saved_model_dir, file_name), \n",
    "                        custom_objects={'CNNtf': CNNtf})"
   ]
  },
  {
   "cell_type": "code",
   "execution_count": 62,
   "metadata": {},
   "outputs": [
    {
     "name": "stdout",
     "output_type": "stream",
     "text": [
      "125/125 [==============================] - 1s 4ms/step\n"
     ]
    },
    {
     "ename": "ValueError",
     "evalue": "operands could not be broadcast together with shapes (4000,) (10000,) ",
     "output_type": "error",
     "traceback": [
      "\u001b[1;31m---------------------------------------------------------------------------\u001b[0m",
      "\u001b[1;31mValueError\u001b[0m                                Traceback (most recent call last)",
      "Cell \u001b[1;32mIn[62], line 3\u001b[0m\n\u001b[0;32m      1\u001b[0m y_prob \u001b[38;5;241m=\u001b[39m baseline_classifier\u001b[38;5;241m.\u001b[39mpredict(X_test)\n\u001b[1;32m----> 3\u001b[0m accuracy \u001b[38;5;241m=\u001b[39m (\u001b[43my_prob\u001b[49m\u001b[38;5;241;43m.\u001b[39;49m\u001b[43margmax\u001b[49m\u001b[43m(\u001b[49m\u001b[43maxis\u001b[49m\u001b[38;5;241;43m=\u001b[39;49m\u001b[38;5;241;43m1\u001b[39;49m\u001b[43m)\u001b[49m\u001b[43m \u001b[49m\u001b[38;5;241;43m==\u001b[39;49m\u001b[43m \u001b[49m\u001b[43my_test\u001b[49m)\u001b[38;5;241m.\u001b[39mmean()\n\u001b[0;32m      4\u001b[0m \u001b[38;5;28mprint\u001b[39m(\u001b[38;5;124mf\u001b[39m\u001b[38;5;124m\"\u001b[39m\u001b[38;5;124mClassifier accuracy test: \u001b[39m\u001b[38;5;132;01m{\u001b[39;00maccuracy\u001b[38;5;132;01m:\u001b[39;00m\u001b[38;5;124m.3%\u001b[39m\u001b[38;5;132;01m}\u001b[39;00m\u001b[38;5;124m\"\u001b[39m)\n",
      "\u001b[1;31mValueError\u001b[0m: operands could not be broadcast together with shapes (4000,) (10000,) "
     ]
    }
   ],
   "source": [
    "y_prob = baseline_classifier.predict(X_test)\n",
    "\n",
    "accuracy = (y_prob.argmax(axis=1) == y_test).mean()\n",
    "print(f\"Classifier accuracy test: {accuracy:.3%}\")"
   ]
  },
  {
   "cell_type": "markdown",
   "metadata": {},
   "source": [
    "Load AE"
   ]
  },
  {
   "cell_type": "code",
   "execution_count": 26,
   "metadata": {},
   "outputs": [
    {
     "name": "stdout",
     "output_type": "stream",
     "text": [
      "AE average reconstruction error: 2.990\n"
     ]
    }
   ],
   "source": [
    "weights_dir = r'D:\\PycharmProjects\\CF-Robustness-Benchmark\\notebooks\\experiments\\fmnist_ae'\n",
    "autoencoder = load_model(osp.join(weights_dir, \"multi_fmnist_autoencoder.h5\"),\n",
    "                             custom_objects={'mse': losses.mse})\n",
    "reconstruction_error_test = cutils.compute_reconstruction_error(X_test, autoencoder)\n",
    "print(f\"AE average reconstruction error: {reconstruction_error_test.mean():.3f}\")"
   ]
  },
  {
   "cell_type": "markdown",
   "metadata": {},
   "source": [
    "# Training of CounterGAN"
   ]
  },
  {
   "cell_type": "code",
   "execution_count": 27,
   "metadata": {},
   "outputs": [],
   "source": [
    "from src.cf_methods.countergan import create_generator, create_discriminator, define_countergan"
   ]
  },
  {
   "cell_type": "code",
   "execution_count": 36,
   "metadata": {},
   "outputs": [],
   "source": [
    "generator = create_generator(in_shape=(28, 28, 1))\n",
    "discriminator = create_discriminator(in_shape=(28, 28, 1))\n",
    "save_dir = r'D:\\PycharmProjects\\CF-Robustness-Benchmark\\cf_output\\fmnist\\countergan_multi\\visualizations'\n",
    "os.makedirs(save_dir, exist_ok=True)"
   ]
  },
  {
   "cell_type": "code",
   "execution_count": 37,
   "metadata": {},
   "outputs": [],
   "source": [
    "def train_countergan(n_discriminator_steps, n_generator_steps, n_training_iterations,\n",
    "                     classifier, discriminator, generator, batches,\n",
    "                     weighted_version=False, negative_batches=None, positive_batches=None,\n",
    "                     ):\n",
    "    \"\"\" Main function: train the CounteRGAN\"\"\"\n",
    "\n",
    "    def check_divergence(x_generated):\n",
    "        return np.all(np.isnan(x_generated))\n",
    "\n",
    "    def print_training_information(generator, classifier, X_test, iteration):\n",
    "        X_gen = generator.predict(X_test)\n",
    "        clf_pred_test = classifier.predict(X_test) # y_M \n",
    "        clf_pred = classifier.predict(X_gen)  # y_cf\n",
    "\n",
    "        delta_clf_pred = (clf_pred - clf_pred_test)[:, DESIRED_CLASS]\n",
    "        y_target = to_categorical([DESIRED_CLASS] * len(clf_pred), num_classes=N_CLASSES)\n",
    "        print('='*88)\n",
    "        print(f\"Training iteration {iteration} at {datetime.now()}\")\n",
    "\n",
    "        # Plot original images, residuals, and generated images\n",
    "        sample_indices  = np.random.choice(len(X_test), 10, replace=False)\n",
    "        residuals = X_gen[sample_indices]-X_test[sample_indices]\n",
    "\n",
    "        \n",
    "        cutils.plot_generated_images(X_test[sample_indices], n_plots=10, n_plots_per_row=10, save_path=osp.join(save_dir, f'original_images_iter_{iteration}.png'))\n",
    "        cutils.plot_generated_images(residuals, n_plots=10, n_plots_per_row=10, residuals=True, save_path=osp.join(save_dir, f'residuals_iter_{iteration}.png'))\n",
    "        cutils.plot_generated_images(X_gen[sample_indices], n_plots=10, n_plots_per_row=10, save_path=osp.join(save_dir, f'generated_images_iter_{iteration}.png'))\n",
    "\n",
    "        reconstruction_error = np.mean(cutils.compute_reconstruction_error(X_gen, autoencoder))\n",
    "        print(f\"Autoencoder reconstruction error (infinity to 0): {reconstruction_error:.3f}\")\n",
    "        print(f\"Counterfactual prediction gain (0 to 1): {delta_clf_pred.mean():.3f}\")\n",
    "        print(f\"Sparsity (L1, infinity to 0): {np.mean(np.abs(X_gen-X_test)):.3f}\")\n",
    "\n",
    "\n",
    "    countergan = define_countergan(generator, discriminator, classifier)\n",
    "\n",
    "    for iteration in tqdm(range(n_training_iterations)):\n",
    "        # Periodically print and plot training information\n",
    "        if (iteration % 100 == 0) or (iteration == n_training_iterations - 1):\n",
    "            print_training_information(generator, classifier, X_test, iteration)\n",
    "\n",
    "        # Train the discriminator\n",
    "        discriminator.trainable = True\n",
    "        for _ in range(n_discriminator_steps):\n",
    "            x_fake_input, _ = next(batches)\n",
    "            x_real = x_fake_input\n",
    "\n",
    "            x_fake = cutils.generate_fake_samples(x_fake_input, generator)\n",
    "\n",
    "            x_batch = np.concatenate([x_real, x_fake])\n",
    "            y_batch = np.concatenate([np.ones(len(x_real)), np.zeros(len(x_fake))])\n",
    "\n",
    "            # Shuffle real and fake examples\n",
    "            p = np.random.permutation(len(y_batch))\n",
    "            x_batch, y_batch = x_batch[p], y_batch[p]\n",
    "            discriminator.train_on_batch(x_batch, y_batch)\n",
    "\n",
    "        # Train the generator\n",
    "        discriminator.trainable = False\n",
    "        for _ in range(n_generator_steps):\n",
    "            x_fake_input, _ = next(batches)\n",
    "            y_fake = np.ones(len(x_fake_input))\n",
    "            y_target = to_categorical([DESIRED_CLASS] * len(x_fake_input),\n",
    "                                          num_classes=N_CLASSES)\n",
    "            \n",
    "            #print(x_fake_input.shape, x_fake_input.dtype)\n",
    "            #print(y_fake.shape, y_target.shape)\n",
    "            countergan.train_on_batch(x_fake_input, [y_fake, y_target])\n",
    "    \n",
    "    return countergan"
   ]
  },
  {
   "cell_type": "code",
   "execution_count": 38,
   "metadata": {},
   "outputs": [],
   "source": [
    "batches = cutils.infinite_data_stream(X_train, y_train, batch_size=128)"
   ]
  },
  {
   "cell_type": "code",
   "execution_count": 45,
   "metadata": {},
   "outputs": [
    {
     "name": "stderr",
     "output_type": "stream",
     "text": [
      "  0%|          | 0/10000 [00:00<?, ?it/s]"
     ]
    },
    {
     "name": "stdout",
     "output_type": "stream",
     "text": [
      "313/313 [==============================] - 7s 23ms/step\n",
      "313/313 [==============================] - 1s 4ms/step\n",
      "313/313 [==============================] - 1s 4ms/step\n",
      "========================================================================================\n",
      "Training iteration 0 at 2025-05-31 23:19:17.674548\n"
     ]
    },
    {
     "data": {
      "image/png": "[encoded data removed]",
      "text/plain": [
       "<Figure size 640x480 with 10 Axes>"
      ]
     },
     "metadata": {},
     "output_type": "display_data"
    },
    {
     "data": {
      "image/png": "[encoded data removed]",
      "text/plain": [
       "<Figure size 640x480 with 10 Axes>"
      ]
     },
     "metadata": {},
     "output_type": "display_data"
    },
    {
     "data": {
      "image/png": "[encoded data removed]",
      "text/plain": [
       "<Figure size 640x480 with 10 Axes>"
      ]
     },
     "metadata": {},
     "output_type": "display_data"
    },
    {
     "name": "stdout",
     "output_type": "stream",
     "text": [
      "Autoencoder reconstruction error (infinity to 0): 7.092\n",
      "Counterfactual prediction gain (0 to 1): 0.878\n",
      "Sparsity (L1, infinity to 0): 0.448\n"
     ]
    },
    {
     "name": "stderr",
     "output_type": "stream",
     "text": [
      "  0%|          | 10/10000 [00:34<9:28:31,  3.41s/it]\n"
     ]
    },
    {
     "ename": "KeyboardInterrupt",
     "evalue": "",
     "output_type": "error",
     "traceback": [
      "\u001b[1;31m---------------------------------------------------------------------------\u001b[0m",
      "\u001b[1;31mKeyboardInterrupt\u001b[0m                         Traceback (most recent call last)",
      "Cell \u001b[1;32mIn[45], line 2\u001b[0m\n\u001b[0;32m      1\u001b[0m method_name \u001b[38;5;241m=\u001b[39m \u001b[38;5;124m\"\u001b[39m\u001b[38;5;124mcountergan\u001b[39m\u001b[38;5;124m\"\u001b[39m\n\u001b[1;32m----> 2\u001b[0m countergan \u001b[38;5;241m=\u001b[39m \u001b[43mtrain_countergan\u001b[49m\u001b[43m(\u001b[49m\u001b[38;5;241;43m2\u001b[39;49m\u001b[43m,\u001b[49m\u001b[43m \u001b[49m\u001b[38;5;241;43m3\u001b[39;49m\u001b[43m,\u001b[49m\u001b[43m \u001b[49m\u001b[38;5;241;43m10000\u001b[39;49m\u001b[43m,\u001b[49m\u001b[43m \u001b[49m\u001b[43mbaseline_classifier\u001b[49m\u001b[43m,\u001b[49m\u001b[43m \u001b[49m\u001b[43mdiscriminator\u001b[49m\u001b[43m,\u001b[49m\u001b[43m \u001b[49m\u001b[43mgenerator\u001b[49m\u001b[43m,\u001b[49m\u001b[43m \u001b[49m\u001b[43mbatches\u001b[49m\u001b[43m)\u001b[49m\n",
      "Cell \u001b[1;32mIn[37], line 68\u001b[0m, in \u001b[0;36mtrain_countergan\u001b[1;34m(n_discriminator_steps, n_generator_steps, n_training_iterations, classifier, discriminator, generator, batches, weighted_version, negative_batches, positive_batches)\u001b[0m\n\u001b[0;32m     63\u001b[0m         y_target \u001b[38;5;241m=\u001b[39m to_categorical([DESIRED_CLASS] \u001b[38;5;241m*\u001b[39m \u001b[38;5;28mlen\u001b[39m(x_fake_input),\n\u001b[0;32m     64\u001b[0m                                       num_classes\u001b[38;5;241m=\u001b[39mN_CLASSES)\n\u001b[0;32m     66\u001b[0m         \u001b[38;5;66;03m#print(x_fake_input.shape, x_fake_input.dtype)\u001b[39;00m\n\u001b[0;32m     67\u001b[0m         \u001b[38;5;66;03m#print(y_fake.shape, y_target.shape)\u001b[39;00m\n\u001b[1;32m---> 68\u001b[0m         \u001b[43mcountergan\u001b[49m\u001b[38;5;241;43m.\u001b[39;49m\u001b[43mtrain_on_batch\u001b[49m\u001b[43m(\u001b[49m\u001b[43mx_fake_input\u001b[49m\u001b[43m,\u001b[49m\u001b[43m \u001b[49m\u001b[43m[\u001b[49m\u001b[43my_fake\u001b[49m\u001b[43m,\u001b[49m\u001b[43m \u001b[49m\u001b[43my_target\u001b[49m\u001b[43m]\u001b[49m\u001b[43m)\u001b[49m\n\u001b[0;32m     70\u001b[0m \u001b[38;5;28;01mreturn\u001b[39;00m countergan\n",
      "File \u001b[1;32md:\\PycharmProjects\\CF-Robustness-Benchmark\\venv\\Lib\\site-packages\\keras\\src\\engine\\training.py:2763\u001b[0m, in \u001b[0;36mModel.train_on_batch\u001b[1;34m(self, x, y, sample_weight, class_weight, reset_metrics, return_dict)\u001b[0m\n\u001b[0;32m   2759\u001b[0m     iterator \u001b[38;5;241m=\u001b[39m data_adapter\u001b[38;5;241m.\u001b[39msingle_batch_iterator(\n\u001b[0;32m   2760\u001b[0m         \u001b[38;5;28mself\u001b[39m\u001b[38;5;241m.\u001b[39mdistribute_strategy, x, y, sample_weight, class_weight\n\u001b[0;32m   2761\u001b[0m     )\n\u001b[0;32m   2762\u001b[0m     \u001b[38;5;28mself\u001b[39m\u001b[38;5;241m.\u001b[39mtrain_function \u001b[38;5;241m=\u001b[39m \u001b[38;5;28mself\u001b[39m\u001b[38;5;241m.\u001b[39mmake_train_function()\n\u001b[1;32m-> 2763\u001b[0m     logs \u001b[38;5;241m=\u001b[39m \u001b[38;5;28;43mself\u001b[39;49m\u001b[38;5;241;43m.\u001b[39;49m\u001b[43mtrain_function\u001b[49m\u001b[43m(\u001b[49m\u001b[43miterator\u001b[49m\u001b[43m)\u001b[49m\n\u001b[0;32m   2765\u001b[0m logs \u001b[38;5;241m=\u001b[39m tf_utils\u001b[38;5;241m.\u001b[39msync_to_numpy_or_python_type(logs)\n\u001b[0;32m   2766\u001b[0m \u001b[38;5;28;01mif\u001b[39;00m return_dict:\n",
      "File \u001b[1;32md:\\PycharmProjects\\CF-Robustness-Benchmark\\venv\\Lib\\site-packages\\tensorflow\\python\\util\\traceback_utils.py:150\u001b[0m, in \u001b[0;36mfilter_traceback.<locals>.error_handler\u001b[1;34m(*args, **kwargs)\u001b[0m\n\u001b[0;32m    148\u001b[0m filtered_tb \u001b[38;5;241m=\u001b[39m \u001b[38;5;28;01mNone\u001b[39;00m\n\u001b[0;32m    149\u001b[0m \u001b[38;5;28;01mtry\u001b[39;00m:\n\u001b[1;32m--> 150\u001b[0m   \u001b[38;5;28;01mreturn\u001b[39;00m \u001b[43mfn\u001b[49m\u001b[43m(\u001b[49m\u001b[38;5;241;43m*\u001b[39;49m\u001b[43margs\u001b[49m\u001b[43m,\u001b[49m\u001b[43m \u001b[49m\u001b[38;5;241;43m*\u001b[39;49m\u001b[38;5;241;43m*\u001b[39;49m\u001b[43mkwargs\u001b[49m\u001b[43m)\u001b[49m\n\u001b[0;32m    151\u001b[0m \u001b[38;5;28;01mexcept\u001b[39;00m \u001b[38;5;167;01mException\u001b[39;00m \u001b[38;5;28;01mas\u001b[39;00m e:\n\u001b[0;32m    152\u001b[0m   filtered_tb \u001b[38;5;241m=\u001b[39m _process_traceback_frames(e\u001b[38;5;241m.\u001b[39m__traceback__)\n",
      "File \u001b[1;32md:\\PycharmProjects\\CF-Robustness-Benchmark\\venv\\Lib\\site-packages\\tensorflow\\python\\eager\\polymorphic_function\\polymorphic_function.py:831\u001b[0m, in \u001b[0;36mFunction.__call__\u001b[1;34m(self, *args, **kwds)\u001b[0m\n\u001b[0;32m    828\u001b[0m compiler \u001b[38;5;241m=\u001b[39m \u001b[38;5;124m\"\u001b[39m\u001b[38;5;124mxla\u001b[39m\u001b[38;5;124m\"\u001b[39m \u001b[38;5;28;01mif\u001b[39;00m \u001b[38;5;28mself\u001b[39m\u001b[38;5;241m.\u001b[39m_jit_compile \u001b[38;5;28;01melse\u001b[39;00m \u001b[38;5;124m\"\u001b[39m\u001b[38;5;124mnonXla\u001b[39m\u001b[38;5;124m\"\u001b[39m\n\u001b[0;32m    830\u001b[0m \u001b[38;5;28;01mwith\u001b[39;00m OptionalXlaContext(\u001b[38;5;28mself\u001b[39m\u001b[38;5;241m.\u001b[39m_jit_compile):\n\u001b[1;32m--> 831\u001b[0m   result \u001b[38;5;241m=\u001b[39m \u001b[38;5;28;43mself\u001b[39;49m\u001b[38;5;241;43m.\u001b[39;49m\u001b[43m_call\u001b[49m\u001b[43m(\u001b[49m\u001b[38;5;241;43m*\u001b[39;49m\u001b[43margs\u001b[49m\u001b[43m,\u001b[49m\u001b[43m \u001b[49m\u001b[38;5;241;43m*\u001b[39;49m\u001b[38;5;241;43m*\u001b[39;49m\u001b[43mkwds\u001b[49m\u001b[43m)\u001b[49m\n\u001b[0;32m    833\u001b[0m new_tracing_count \u001b[38;5;241m=\u001b[39m \u001b[38;5;28mself\u001b[39m\u001b[38;5;241m.\u001b[39mexperimental_get_tracing_count()\n\u001b[0;32m    834\u001b[0m without_tracing \u001b[38;5;241m=\u001b[39m (tracing_count \u001b[38;5;241m==\u001b[39m new_tracing_count)\n",
      "File \u001b[1;32md:\\PycharmProjects\\CF-Robustness-Benchmark\\venv\\Lib\\site-packages\\tensorflow\\python\\eager\\polymorphic_function\\polymorphic_function.py:867\u001b[0m, in \u001b[0;36mFunction._call\u001b[1;34m(self, *args, **kwds)\u001b[0m\n\u001b[0;32m    864\u001b[0m   \u001b[38;5;28mself\u001b[39m\u001b[38;5;241m.\u001b[39m_lock\u001b[38;5;241m.\u001b[39mrelease()\n\u001b[0;32m    865\u001b[0m   \u001b[38;5;66;03m# In this case we have created variables on the first call, so we run the\u001b[39;00m\n\u001b[0;32m    866\u001b[0m   \u001b[38;5;66;03m# defunned version which is guaranteed to never create variables.\u001b[39;00m\n\u001b[1;32m--> 867\u001b[0m   \u001b[38;5;28;01mreturn\u001b[39;00m \u001b[43mtracing_compilation\u001b[49m\u001b[38;5;241;43m.\u001b[39;49m\u001b[43mcall_function\u001b[49m\u001b[43m(\u001b[49m\n\u001b[0;32m    868\u001b[0m \u001b[43m      \u001b[49m\u001b[43margs\u001b[49m\u001b[43m,\u001b[49m\u001b[43m \u001b[49m\u001b[43mkwds\u001b[49m\u001b[43m,\u001b[49m\u001b[43m \u001b[49m\u001b[38;5;28;43mself\u001b[39;49m\u001b[38;5;241;43m.\u001b[39;49m\u001b[43m_no_variable_creation_config\u001b[49m\n\u001b[0;32m    869\u001b[0m \u001b[43m  \u001b[49m\u001b[43m)\u001b[49m\n\u001b[0;32m    870\u001b[0m \u001b[38;5;28;01melif\u001b[39;00m \u001b[38;5;28mself\u001b[39m\u001b[38;5;241m.\u001b[39m_variable_creation_config \u001b[38;5;129;01mis\u001b[39;00m \u001b[38;5;129;01mnot\u001b[39;00m \u001b[38;5;28;01mNone\u001b[39;00m:\n\u001b[0;32m    871\u001b[0m   \u001b[38;5;66;03m# Release the lock early so that multiple threads can perform the call\u001b[39;00m\n\u001b[0;32m    872\u001b[0m   \u001b[38;5;66;03m# in parallel.\u001b[39;00m\n\u001b[0;32m    873\u001b[0m   \u001b[38;5;28mself\u001b[39m\u001b[38;5;241m.\u001b[39m_lock\u001b[38;5;241m.\u001b[39mrelease()\n",
      "File \u001b[1;32md:\\PycharmProjects\\CF-Robustness-Benchmark\\venv\\Lib\\site-packages\\tensorflow\\python\\eager\\polymorphic_function\\tracing_compilation.py:139\u001b[0m, in \u001b[0;36mcall_function\u001b[1;34m(args, kwargs, tracing_options)\u001b[0m\n\u001b[0;32m    137\u001b[0m bound_args \u001b[38;5;241m=\u001b[39m function\u001b[38;5;241m.\u001b[39mfunction_type\u001b[38;5;241m.\u001b[39mbind(\u001b[38;5;241m*\u001b[39margs, \u001b[38;5;241m*\u001b[39m\u001b[38;5;241m*\u001b[39mkwargs)\n\u001b[0;32m    138\u001b[0m flat_inputs \u001b[38;5;241m=\u001b[39m function\u001b[38;5;241m.\u001b[39mfunction_type\u001b[38;5;241m.\u001b[39munpack_inputs(bound_args)\n\u001b[1;32m--> 139\u001b[0m \u001b[38;5;28;01mreturn\u001b[39;00m \u001b[43mfunction\u001b[49m\u001b[38;5;241;43m.\u001b[39;49m\u001b[43m_call_flat\u001b[49m\u001b[43m(\u001b[49m\u001b[43m  \u001b[49m\u001b[38;5;66;43;03m# pylint: disable=protected-access\u001b[39;49;00m\n\u001b[0;32m    140\u001b[0m \u001b[43m    \u001b[49m\u001b[43mflat_inputs\u001b[49m\u001b[43m,\u001b[49m\u001b[43m \u001b[49m\u001b[43mcaptured_inputs\u001b[49m\u001b[38;5;241;43m=\u001b[39;49m\u001b[43mfunction\u001b[49m\u001b[38;5;241;43m.\u001b[39;49m\u001b[43mcaptured_inputs\u001b[49m\n\u001b[0;32m    141\u001b[0m \u001b[43m\u001b[49m\u001b[43m)\u001b[49m\n",
      "File \u001b[1;32md:\\PycharmProjects\\CF-Robustness-Benchmark\\venv\\Lib\\site-packages\\tensorflow\\python\\eager\\polymorphic_function\\concrete_function.py:1264\u001b[0m, in \u001b[0;36mConcreteFunction._call_flat\u001b[1;34m(self, tensor_inputs, captured_inputs)\u001b[0m\n\u001b[0;32m   1260\u001b[0m possible_gradient_type \u001b[38;5;241m=\u001b[39m gradients_util\u001b[38;5;241m.\u001b[39mPossibleTapeGradientTypes(args)\n\u001b[0;32m   1261\u001b[0m \u001b[38;5;28;01mif\u001b[39;00m (possible_gradient_type \u001b[38;5;241m==\u001b[39m gradients_util\u001b[38;5;241m.\u001b[39mPOSSIBLE_GRADIENT_TYPES_NONE\n\u001b[0;32m   1262\u001b[0m     \u001b[38;5;129;01mand\u001b[39;00m executing_eagerly):\n\u001b[0;32m   1263\u001b[0m   \u001b[38;5;66;03m# No tape is watching; skip to running the function.\u001b[39;00m\n\u001b[1;32m-> 1264\u001b[0m   \u001b[38;5;28;01mreturn\u001b[39;00m \u001b[38;5;28;43mself\u001b[39;49m\u001b[38;5;241;43m.\u001b[39;49m\u001b[43m_inference_function\u001b[49m\u001b[38;5;241;43m.\u001b[39;49m\u001b[43mflat_call\u001b[49m\u001b[43m(\u001b[49m\u001b[43margs\u001b[49m\u001b[43m)\u001b[49m\n\u001b[0;32m   1265\u001b[0m forward_backward \u001b[38;5;241m=\u001b[39m \u001b[38;5;28mself\u001b[39m\u001b[38;5;241m.\u001b[39m_select_forward_and_backward_functions(\n\u001b[0;32m   1266\u001b[0m     args,\n\u001b[0;32m   1267\u001b[0m     possible_gradient_type,\n\u001b[0;32m   1268\u001b[0m     executing_eagerly)\n\u001b[0;32m   1269\u001b[0m forward_function, args_with_tangents \u001b[38;5;241m=\u001b[39m forward_backward\u001b[38;5;241m.\u001b[39mforward()\n",
      "File \u001b[1;32md:\\PycharmProjects\\CF-Robustness-Benchmark\\venv\\Lib\\site-packages\\tensorflow\\python\\eager\\polymorphic_function\\atomic_function.py:217\u001b[0m, in \u001b[0;36mAtomicFunction.flat_call\u001b[1;34m(self, args)\u001b[0m\n\u001b[0;32m    215\u001b[0m \u001b[38;5;28;01mdef\u001b[39;00m\u001b[38;5;250m \u001b[39m\u001b[38;5;21mflat_call\u001b[39m(\u001b[38;5;28mself\u001b[39m, args: Sequence[core\u001b[38;5;241m.\u001b[39mTensor]) \u001b[38;5;241m-\u001b[39m\u001b[38;5;241m>\u001b[39m Any:\n\u001b[0;32m    216\u001b[0m \u001b[38;5;250m  \u001b[39m\u001b[38;5;124;03m\"\"\"Calls with tensor inputs and returns the structured output.\"\"\"\u001b[39;00m\n\u001b[1;32m--> 217\u001b[0m   flat_outputs \u001b[38;5;241m=\u001b[39m \u001b[38;5;28;43mself\u001b[39;49m\u001b[43m(\u001b[49m\u001b[38;5;241;43m*\u001b[39;49m\u001b[43margs\u001b[49m\u001b[43m)\u001b[49m\n\u001b[0;32m    218\u001b[0m   \u001b[38;5;28;01mreturn\u001b[39;00m \u001b[38;5;28mself\u001b[39m\u001b[38;5;241m.\u001b[39mfunction_type\u001b[38;5;241m.\u001b[39mpack_output(flat_outputs)\n",
      "File \u001b[1;32md:\\PycharmProjects\\CF-Robustness-Benchmark\\venv\\Lib\\site-packages\\tensorflow\\python\\eager\\polymorphic_function\\atomic_function.py:252\u001b[0m, in \u001b[0;36mAtomicFunction.__call__\u001b[1;34m(self, *args)\u001b[0m\n\u001b[0;32m    250\u001b[0m \u001b[38;5;28;01mwith\u001b[39;00m record\u001b[38;5;241m.\u001b[39mstop_recording():\n\u001b[0;32m    251\u001b[0m   \u001b[38;5;28;01mif\u001b[39;00m \u001b[38;5;28mself\u001b[39m\u001b[38;5;241m.\u001b[39m_bound_context\u001b[38;5;241m.\u001b[39mexecuting_eagerly():\n\u001b[1;32m--> 252\u001b[0m     outputs \u001b[38;5;241m=\u001b[39m \u001b[38;5;28;43mself\u001b[39;49m\u001b[38;5;241;43m.\u001b[39;49m\u001b[43m_bound_context\u001b[49m\u001b[38;5;241;43m.\u001b[39;49m\u001b[43mcall_function\u001b[49m\u001b[43m(\u001b[49m\n\u001b[0;32m    253\u001b[0m \u001b[43m        \u001b[49m\u001b[38;5;28;43mself\u001b[39;49m\u001b[38;5;241;43m.\u001b[39;49m\u001b[43mname\u001b[49m\u001b[43m,\u001b[49m\n\u001b[0;32m    254\u001b[0m \u001b[43m        \u001b[49m\u001b[38;5;28;43mlist\u001b[39;49m\u001b[43m(\u001b[49m\u001b[43margs\u001b[49m\u001b[43m)\u001b[49m\u001b[43m,\u001b[49m\n\u001b[0;32m    255\u001b[0m \u001b[43m        \u001b[49m\u001b[38;5;28;43mlen\u001b[39;49m\u001b[43m(\u001b[49m\u001b[38;5;28;43mself\u001b[39;49m\u001b[38;5;241;43m.\u001b[39;49m\u001b[43mfunction_type\u001b[49m\u001b[38;5;241;43m.\u001b[39;49m\u001b[43mflat_outputs\u001b[49m\u001b[43m)\u001b[49m\u001b[43m,\u001b[49m\n\u001b[0;32m    256\u001b[0m \u001b[43m    \u001b[49m\u001b[43m)\u001b[49m\n\u001b[0;32m    257\u001b[0m   \u001b[38;5;28;01melse\u001b[39;00m:\n\u001b[0;32m    258\u001b[0m     outputs \u001b[38;5;241m=\u001b[39m make_call_op_in_graph(\n\u001b[0;32m    259\u001b[0m         \u001b[38;5;28mself\u001b[39m,\n\u001b[0;32m    260\u001b[0m         \u001b[38;5;28mlist\u001b[39m(args),\n\u001b[0;32m    261\u001b[0m         \u001b[38;5;28mself\u001b[39m\u001b[38;5;241m.\u001b[39m_bound_context\u001b[38;5;241m.\u001b[39mfunction_call_options\u001b[38;5;241m.\u001b[39mas_attrs(),\n\u001b[0;32m    262\u001b[0m     )\n",
      "File \u001b[1;32md:\\PycharmProjects\\CF-Robustness-Benchmark\\venv\\Lib\\site-packages\\tensorflow\\python\\eager\\context.py:1479\u001b[0m, in \u001b[0;36mContext.call_function\u001b[1;34m(self, name, tensor_inputs, num_outputs)\u001b[0m\n\u001b[0;32m   1477\u001b[0m cancellation_context \u001b[38;5;241m=\u001b[39m cancellation\u001b[38;5;241m.\u001b[39mcontext()\n\u001b[0;32m   1478\u001b[0m \u001b[38;5;28;01mif\u001b[39;00m cancellation_context \u001b[38;5;129;01mis\u001b[39;00m \u001b[38;5;28;01mNone\u001b[39;00m:\n\u001b[1;32m-> 1479\u001b[0m   outputs \u001b[38;5;241m=\u001b[39m \u001b[43mexecute\u001b[49m\u001b[38;5;241;43m.\u001b[39;49m\u001b[43mexecute\u001b[49m\u001b[43m(\u001b[49m\n\u001b[0;32m   1480\u001b[0m \u001b[43m      \u001b[49m\u001b[43mname\u001b[49m\u001b[38;5;241;43m.\u001b[39;49m\u001b[43mdecode\u001b[49m\u001b[43m(\u001b[49m\u001b[38;5;124;43m\"\u001b[39;49m\u001b[38;5;124;43mutf-8\u001b[39;49m\u001b[38;5;124;43m\"\u001b[39;49m\u001b[43m)\u001b[49m\u001b[43m,\u001b[49m\n\u001b[0;32m   1481\u001b[0m \u001b[43m      \u001b[49m\u001b[43mnum_outputs\u001b[49m\u001b[38;5;241;43m=\u001b[39;49m\u001b[43mnum_outputs\u001b[49m\u001b[43m,\u001b[49m\n\u001b[0;32m   1482\u001b[0m \u001b[43m      \u001b[49m\u001b[43minputs\u001b[49m\u001b[38;5;241;43m=\u001b[39;49m\u001b[43mtensor_inputs\u001b[49m\u001b[43m,\u001b[49m\n\u001b[0;32m   1483\u001b[0m \u001b[43m      \u001b[49m\u001b[43mattrs\u001b[49m\u001b[38;5;241;43m=\u001b[39;49m\u001b[43mattrs\u001b[49m\u001b[43m,\u001b[49m\n\u001b[0;32m   1484\u001b[0m \u001b[43m      \u001b[49m\u001b[43mctx\u001b[49m\u001b[38;5;241;43m=\u001b[39;49m\u001b[38;5;28;43mself\u001b[39;49m\u001b[43m,\u001b[49m\n\u001b[0;32m   1485\u001b[0m \u001b[43m  \u001b[49m\u001b[43m)\u001b[49m\n\u001b[0;32m   1486\u001b[0m \u001b[38;5;28;01melse\u001b[39;00m:\n\u001b[0;32m   1487\u001b[0m   outputs \u001b[38;5;241m=\u001b[39m execute\u001b[38;5;241m.\u001b[39mexecute_with_cancellation(\n\u001b[0;32m   1488\u001b[0m       name\u001b[38;5;241m.\u001b[39mdecode(\u001b[38;5;124m\"\u001b[39m\u001b[38;5;124mutf-8\u001b[39m\u001b[38;5;124m\"\u001b[39m),\n\u001b[0;32m   1489\u001b[0m       num_outputs\u001b[38;5;241m=\u001b[39mnum_outputs,\n\u001b[1;32m   (...)\u001b[0m\n\u001b[0;32m   1493\u001b[0m       cancellation_manager\u001b[38;5;241m=\u001b[39mcancellation_context,\n\u001b[0;32m   1494\u001b[0m   )\n",
      "File \u001b[1;32md:\\PycharmProjects\\CF-Robustness-Benchmark\\venv\\Lib\\site-packages\\tensorflow\\python\\eager\\execute.py:60\u001b[0m, in \u001b[0;36mquick_execute\u001b[1;34m(op_name, num_outputs, inputs, attrs, ctx, name)\u001b[0m\n\u001b[0;32m     53\u001b[0m   \u001b[38;5;66;03m# Convert any objects of type core_types.Tensor to Tensor.\u001b[39;00m\n\u001b[0;32m     54\u001b[0m   inputs \u001b[38;5;241m=\u001b[39m [\n\u001b[0;32m     55\u001b[0m       tensor_conversion_registry\u001b[38;5;241m.\u001b[39mconvert(t)\n\u001b[0;32m     56\u001b[0m       \u001b[38;5;28;01mif\u001b[39;00m \u001b[38;5;28misinstance\u001b[39m(t, core_types\u001b[38;5;241m.\u001b[39mTensor)\n\u001b[0;32m     57\u001b[0m       \u001b[38;5;28;01melse\u001b[39;00m t\n\u001b[0;32m     58\u001b[0m       \u001b[38;5;28;01mfor\u001b[39;00m t \u001b[38;5;129;01min\u001b[39;00m inputs\n\u001b[0;32m     59\u001b[0m   ]\n\u001b[1;32m---> 60\u001b[0m   tensors \u001b[38;5;241m=\u001b[39m \u001b[43mpywrap_tfe\u001b[49m\u001b[38;5;241;43m.\u001b[39;49m\u001b[43mTFE_Py_Execute\u001b[49m\u001b[43m(\u001b[49m\u001b[43mctx\u001b[49m\u001b[38;5;241;43m.\u001b[39;49m\u001b[43m_handle\u001b[49m\u001b[43m,\u001b[49m\u001b[43m \u001b[49m\u001b[43mdevice_name\u001b[49m\u001b[43m,\u001b[49m\u001b[43m \u001b[49m\u001b[43mop_name\u001b[49m\u001b[43m,\u001b[49m\n\u001b[0;32m     61\u001b[0m \u001b[43m                                      \u001b[49m\u001b[43minputs\u001b[49m\u001b[43m,\u001b[49m\u001b[43m \u001b[49m\u001b[43mattrs\u001b[49m\u001b[43m,\u001b[49m\u001b[43m \u001b[49m\u001b[43mnum_outputs\u001b[49m\u001b[43m)\u001b[49m\n\u001b[0;32m     62\u001b[0m \u001b[38;5;28;01mexcept\u001b[39;00m core\u001b[38;5;241m.\u001b[39m_NotOkStatusException \u001b[38;5;28;01mas\u001b[39;00m e:\n\u001b[0;32m     63\u001b[0m   \u001b[38;5;28;01mif\u001b[39;00m name \u001b[38;5;129;01mis\u001b[39;00m \u001b[38;5;129;01mnot\u001b[39;00m \u001b[38;5;28;01mNone\u001b[39;00m:\n",
      "\u001b[1;31mKeyboardInterrupt\u001b[0m: "
     ]
    }
   ],
   "source": [
    "method_name = \"countergan\"\n",
    "countergan = train_countergan(2, 3, 10000, baseline_classifier, discriminator, generator, batches)"
   ]
  },
  {
   "cell_type": "code",
   "execution_count": 19,
   "metadata": {},
   "outputs": [],
   "source": [
    "models_save_dir = r'D:\\PycharmProjects\\CF-Robustness-Benchmark\\cf_output\\fmnist\\countergan_binary\\checkpoints'"
   ]
  },
  {
   "cell_type": "code",
   "execution_count": 20,
   "metadata": {},
   "outputs": [],
   "source": [
    "generator.save(osp.join(models_save_dir, 'generator_iter_2900.keras'))\n",
    "discriminator.save(osp.join(models_save_dir, 'discriminator_iter_2900.keras'))"
   ]
  },
  {
   "cell_type": "markdown",
   "metadata": {},
   "source": [
    "# Evaluation of CounterGAN"
   ]
  },
  {
   "cell_type": "markdown",
   "metadata": {},
   "source": [
    "Load perts of CounteRGAN"
   ]
  },
  {
   "cell_type": "code",
   "execution_count": 30,
   "metadata": {},
   "outputs": [
    {
     "name": "stderr",
     "output_type": "stream",
     "text": [
      "WARNING:absl:Skipping variable loading for optimizer 'Adam', because it has 25 variables whereas the saved optimizer has 1 variables. \n",
      "WARNING:absl:Skipping variable loading for optimizer 'Adam', because it has 1 variables whereas the saved optimizer has 17 variables. \n"
     ]
    }
   ],
   "source": [
    "generator = load_model(r'D:\\PycharmProjects\\RecourseRobustnessBenchmark\\carla_visual\\recourse_methods\\countergan\\weights\\binary_generator_targetc_8_5000it.keras')\n",
    "discriminator = load_model(r'D:\\PycharmProjects\\RecourseRobustnessBenchmark\\carla_visual\\recourse_methods\\countergan\\weights\\binary_discriminator_targetc_8_5000it.keras')"
   ]
  },
  {
   "cell_type": "code",
   "execution_count": 13,
   "metadata": {},
   "outputs": [
    {
     "name": "stdout",
     "output_type": "stream",
     "text": [
      "Total number of factual instances:  2000\n"
     ]
    }
   ],
   "source": [
    "class_ind = np.where(tf.argmax(y_test, axis=1)==class_encodings[INIT_CLASS])[0]\n",
    "factuals = X_test[class_ind]\n",
    "labels =  y_test[class_ind]\n",
    "\n",
    "# factuals = tf.concat(factuals, axis=0)\n",
    "# labels = tf.concat(labels, axis=0)\n",
    "\n",
    "shuffled_indices = tf.random.shuffle(tf.range(labels.shape[0]))  # Generate shuffled indices\n",
    "labels = tf.gather(labels, shuffled_indices)  # Reorder labels\n",
    "\n",
    "# Shuffle images if needed to align with new label order\n",
    "factuals = tf.gather(factuals, shuffled_indices)\n",
    "print('Total number of factual instances: ', factuals.shape[0])"
   ]
  },
  {
   "cell_type": "code",
   "execution_count": 14,
   "metadata": {},
   "outputs": [],
   "source": [
    "predictions = tf.argmax(baseline_classifier.predict(factuals, verbose=0), axis=1)\n",
    "_, valid_indices = np.where([predictions == tf.argmax(labels, axis=1)])\n",
    "factuals = tf.gather(factuals, valid_indices)\n",
    "labels = tf.gather(labels, valid_indices) "
   ]
  },
  {
   "cell_type": "code",
   "execution_count": 15,
   "metadata": {},
   "outputs": [
    {
     "name": "stdout",
     "output_type": "stream",
     "text": [
      "Validity of the generated CFEs: 0.00%\n"
     ]
    }
   ],
   "source": [
    "cfes = generator.predict(factuals, verbose=0)\n",
    "cfes_pred = tf.argmax(baseline_classifier.predict(cfes, verbose=0), axis=1)\n",
    "validity = len(np.where(cfes_pred == tf.ones_like(cfes_pred)*class_encodings[DESIRED_CLASS])[0]) / len(cfes)\n",
    "print(f'Validity of the generated CFEs: {validity:.2%}')"
   ]
  },
  {
   "cell_type": "code",
   "execution_count": 16,
   "metadata": {},
   "outputs": [
    {
     "data": {
      "image/png": "[encoded data removed]",
      "text/plain": [
       "<Figure size 1000x400 with 10 Axes>"
      ]
     },
     "metadata": {},
     "output_type": "display_data"
    }
   ],
   "source": [
    "n_rows = 2\n",
    "n_cols = 5\n",
    "\n",
    "k = 0\n",
    "\n",
    "fig, axs = plt.subplots(n_rows, n_cols, figsize=(10, 4))\n",
    "for i in range(n_rows):\n",
    "    for j in range(n_cols):\n",
    "        if i == 0:\n",
    "            axs[i, j].imshow(factuals[k].numpy(), cmap='gray')\n",
    "            axs[i, j].axis('off')\n",
    "            axs[i, j].set_ylabel('CFE /wo noise')\n",
    "        else:\n",
    "            axs[i, j].imshow(cfes[k], cmap='gray')\n",
    "            # axs[i, j].set_title('epsilon='+str(noise)) \n",
    "            axs[i, j].axis('off')\n",
    "            axs[i, j].set_ylabel('CFE /w noise')\n",
    "        k += 1\n",
    "plt.show()"
   ]
  },
  {
   "cell_type": "markdown",
   "metadata": {},
   "source": [
    "## Robustness Evaluation"
   ]
  },
  {
   "cell_type": "markdown",
   "metadata": {},
   "source": [
    "### Local Instability"
   ]
  },
  {
   "cell_type": "code",
   "execution_count": 35,
   "metadata": {},
   "outputs": [],
   "source": [
    "from src.evaluation.local_instability import perturb_sample\n",
    "from src.evaluation.local_instability import calculate_sparsity, calculate_ssim\n",
    "from src.utils.visualization import plot_boxplot"
   ]
  },
  {
   "cell_type": "code",
   "execution_count": 36,
   "metadata": {},
   "outputs": [],
   "source": [
    "noise_levels = [0.001, 0.0025, 0.005, 0.0075, 0.01]"
   ]
  },
  {
   "cell_type": "code",
   "execution_count": 37,
   "metadata": {},
   "outputs": [
    {
     "name": "stdout",
     "output_type": "stream",
     "text": [
      "Number of valid perturbed factuals for the added noise level 0.001:  1135\n",
      "Number of valid perturbed factuals for the added noise level 0.0025:  1134\n",
      "Number of valid perturbed factuals for the added noise level 0.005:  1133\n",
      "Number of valid perturbed factuals for the added noise level 0.0075:  1132\n",
      "Number of valid perturbed factuals for the added noise level 0.01:  1129\n"
     ]
    }
   ],
   "source": [
    "factuals_pert = {}\n",
    "pert_indices = {}\n",
    "\n",
    "for noise_level in noise_levels:\n",
    "    pert_sample = perturb_sample(factuals, n_samples=1, noise_magnitude=noise_level) #.permute(0, 2, 3, 1).numpy()\n",
    "\n",
    "    # Check whether perturbed instances lead to the same class prediction\n",
    "    predictions = tf.argmax(baseline_classifier.predict(pert_sample, verbose=0), axis=1)\n",
    "   \n",
    "    targets = tf.argmax(labels, axis=1)\n",
    "    indices = np.where(predictions == targets)[0]\n",
    "    pert_indices[noise_level] = indices\n",
    "\n",
    "    factuals_pert[noise_level] = tf.gather(pert_sample, indices, axis=0)\n",
    "    print(f'Number of valid perturbed factuals for the added noise level {noise_level}: ', factuals_pert[noise_level].shape[0])"
   ]
  },
  {
   "cell_type": "code",
   "execution_count": 38,
   "metadata": {},
   "outputs": [],
   "source": [
    "from functools import reduce\n",
    "\n",
    "n = 100\n",
    "final_indices = reduce(np.intersect1d, (valid_indices, *list(pert_indices.values())))[:n]"
   ]
  },
  {
   "cell_type": "code",
   "execution_count": 41,
   "metadata": {},
   "outputs": [],
   "source": [
    "factuals = tf.gather(factuals, final_indices) \n",
    "labels = tf.gather(labels, final_indices)"
   ]
  },
  {
   "cell_type": "code",
   "execution_count": 42,
   "metadata": {},
   "outputs": [],
   "source": [
    "cfes = tf.gather(cfes, final_indices).numpy()\n",
    "factuals_pert = {k : tf.gather(v, final_indices) for k, v in factuals_pert.items()}"
   ]
  },
  {
   "cell_type": "code",
   "execution_count": 43,
   "metadata": {},
   "outputs": [],
   "source": [
    "cfes_pert =  {k: generator.predict(v, verbose=0) for k, v in factuals_pert.items()} "
   ]
  },
  {
   "cell_type": "code",
   "execution_count": null,
   "metadata": {},
   "outputs": [],
   "source": [
    "validity_list = []\n",
    "for noise_level, cf_prediction in zip(noise_levels, cf_pert_predictions):\n",
    "    validity = calculate_validity(cf_prediction, cf_targets_tensor)\n",
    "    print(f'Validity under the noise level {noise_level}:', validity)\n",
    "    validity_list.append(validity)\n",
    "\n",
    "output_dir = r'D:\\PycharmProjects\\RecourseRobustnessBenchmark\\experiments\\binary_classification\\output'\n",
    "with open(osp.join(output_dir, f'countergan_bin_validity_pert_n{n}.pkl'), 'wb') as f:\n",
    "    pickle.dump(validity_list, f)"
   ]
  },
  {
   "cell_type": "code",
   "execution_count": 59,
   "metadata": {},
   "outputs": [
    {
     "name": "stdout",
     "output_type": "stream",
     "text": [
      "Validity of the generated CFEs for correctly classified instances: 15.00%\n",
      "Validity of the generated CFEs for correctly classified instances: 14.00%\n",
      "Validity of the generated CFEs for correctly classified instances: 11.00%\n",
      "Validity of the generated CFEs for correctly classified instances: 11.00%\n",
      "Validity of the generated CFEs for correctly classified instances: 9.00%\n"
     ]
    }
   ],
   "source": [
    "cfes_pert_predictions = {}\n",
    "validity_list = []\n",
    "\n",
    "for noise_level in noise_levels:\n",
    "    predictions = tf.argmax(baseline_classifier.predict(cfes_pert[noise_level], verbose=0), axis=1)\n",
    "    cfes_pert_predictions[noise_level] = predictions\n",
    "\n",
    "    validity = len(np.where(predictions == tf.ones_like(predictions)*class_encodings[DESIRED_CLASS])[0]) / len(cfes)\n",
    "    print(f'Validity of the generated CFEs for correctly classified instances: {validity:.2%}')\n",
    "    validity_list.append(validity)\n",
    "\n",
    "output_dir = r'D:\\PycharmProjects\\Counterfactual-Robustness-Benchmark\\output\\countergan_binary'\n",
    "with open(osp.join(output_dir, 'countergan_bin_validity.pkl'), 'wb') as f:\n",
    "    pickle.dump(validity_list, f)"
   ]
  },
  {
   "cell_type": "code",
   "execution_count": 44,
   "metadata": {},
   "outputs": [
    {
     "data": {
      "image/png": "[encoded data removed]",
      "text/plain": [
       "<Figure size 1000x400 with 15 Axes>"
      ]
     },
     "metadata": {},
     "output_type": "display_data"
    }
   ],
   "source": [
    "n_rows = 3\n",
    "n_cols = 5\n",
    "\n",
    "ind = 20\n",
    "\n",
    "# factuals_pert = {}    \n",
    "cfes_pert_predictions = {}\n",
    "\n",
    "for noise_level in noise_levels:\n",
    "    # factuals_pert[noise_level] = perturb_sample(factuals, n_samples=1, noise_magnitude=noise_level)\n",
    "    cfes_pert_predictions[noise_level] = tf.argmax(baseline_classifier.predict(cfes_pert[noise_level], verbose=0), axis=1)\n",
    "\n",
    "fig, axs = plt.subplots(n_rows, n_cols, figsize=(10, 4))\n",
    "for i in range(n_rows):\n",
    "    for j in range(n_cols):\n",
    "        noise = noise_levels[j]\n",
    "        if i == 0: \n",
    "            pert_image = factuals_pert[noise][ind]  #perturb_sample(factuals_tensor[ind].unsqueeze(0), noise_magnitude=noise).squeeze().squeeze()\n",
    "            axs[i, j].imshow(pert_image, cmap='gray')\n",
    "            axs[i, j].set_title('epsilon='+str(noise)) \n",
    "            axs[i, j].axis('off')\n",
    "        elif i == 1:\n",
    "            axs[i, j].imshow(cfes[ind].squeeze(), cmap='gray')\n",
    "            axs[i, j].axis('off')\n",
    "            axs[i, j].set_title(str(cfes_pert_predictions[noise_level][ind].numpy().item())) \n",
    "            axs[i, j].set_ylabel('CFE /wo noise')\n",
    "        else:\n",
    "            axs[i, j].imshow(cfes_pert[noise][ind], cmap='gray')\n",
    "            # axs[i, j].set_title('epsilon='+str(noise)) \n",
    "            axs[i, j].axis('off')\n",
    "            axs[i, j].set_ylabel('CFE /w noise')\n",
    "plt.show()"
   ]
  },
  {
   "cell_type": "code",
   "execution_count": 45,
   "metadata": {},
   "outputs": [
    {
     "name": "stderr",
     "output_type": "stream",
     "text": [
      "100%|██████████| 100/100 [00:00<00:00, 294.62it/s]\n",
      "1it [00:00,  2.87it/s]"
     ]
    },
    {
     "name": "stdout",
     "output_type": "stream",
     "text": [
      "Average Instability (L1) for the set of counterfactuals of size : 20.15952703475952\n",
      "Average SSIM for the set of counterfactuals of size : 0.9100335168838501\n"
     ]
    },
    {
     "name": "stderr",
     "output_type": "stream",
     "text": [
      "100%|██████████| 100/100 [00:00<00:00, 387.79it/s]\n",
      "2it [00:00,  3.36it/s]"
     ]
    },
    {
     "name": "stdout",
     "output_type": "stream",
     "text": [
      "Average Instability (L1) for the set of counterfactuals of size : 32.76341459274292\n",
      "Average SSIM for the set of counterfactuals of size : 0.8130669122934342\n"
     ]
    },
    {
     "name": "stderr",
     "output_type": "stream",
     "text": [
      "100%|██████████| 100/100 [00:00<00:00, 364.12it/s]\n",
      "3it [00:00,  3.45it/s]"
     ]
    },
    {
     "name": "stdout",
     "output_type": "stream",
     "text": [
      "Average Instability (L1) for the set of counterfactuals of size : 48.02870323181153\n",
      "Average SSIM for the set of counterfactuals of size : 0.7001548224687576\n"
     ]
    },
    {
     "name": "stderr",
     "output_type": "stream",
     "text": [
      "100%|██████████| 100/100 [00:00<00:00, 344.58it/s]\n",
      "4it [00:01,  3.43it/s]"
     ]
    },
    {
     "name": "stdout",
     "output_type": "stream",
     "text": [
      "Average Instability (L1) for the set of counterfactuals of size : 61.15798969268799\n",
      "Average SSIM for the set of counterfactuals of size : 0.6127428635954857\n"
     ]
    },
    {
     "name": "stderr",
     "output_type": "stream",
     "text": [
      "100%|██████████| 100/100 [00:00<00:00, 294.82it/s]\n",
      "5it [00:01,  3.26it/s]"
     ]
    },
    {
     "name": "stdout",
     "output_type": "stream",
     "text": [
      "Average Instability (L1) for the set of counterfactuals of size : 73.39838424682617\n",
      "Average SSIM for the set of counterfactuals of size : 0.5417368584871292\n"
     ]
    },
    {
     "name": "stderr",
     "output_type": "stream",
     "text": [
      "\n"
     ]
    }
   ],
   "source": [
    "# Calculating L1 distance between the explanations of original and perturbed instances\n",
    "l1_list = []\n",
    "ssim_list = []\n",
    "\n",
    "\n",
    "for i, noise_level in tqdm(enumerate(cfes_pert.keys())):\n",
    "    l1_temp = []\n",
    "    ssim_temp = []\n",
    "\n",
    "    cfs_pert = cfes_pert[noise_level]\n",
    "\n",
    "    for i in tqdm(range(cfes_pert[noise_level].shape[0])): \n",
    "\n",
    "        l1_distance = calculate_sparsity(cfes[i].flatten(), cfes_pert[noise_level][i].flatten()).item()\n",
    "        # sum(abs(cfes[i].flatten() - cfes_pert[noise_level][i].flatten())) #\n",
    "        l1_temp.append(l1_distance)\n",
    "\n",
    "        ssim = calculate_ssim(torch.Tensor(cfes[i]).permute(2, 0, 1).unsqueeze(0), \n",
    "                              torch.Tensor(cfes_pert[noise_level][i]).permute(2, 0, 1).unsqueeze(0)).item()\n",
    "        ssim_temp.append(ssim)\n",
    "\n",
    "    print(f'Average Instability (L1) for the set of counterfactuals of size : {np.mean(l1_temp)}')    \n",
    "    l1_list.append(l1_temp)\n",
    "    \n",
    "    print(f'Average SSIM for the set of counterfactuals of size : {np.mean(ssim_temp)}')    \n",
    "    ssim_list.append(ssim_temp)"
   ]
  },
  {
   "cell_type": "code",
   "execution_count": 57,
   "metadata": {},
   "outputs": [],
   "source": [
    "output_dir = r'D:\\PycharmProjects\\Counterfactual-Robustness-Benchmark\\output\\countergan_binary'\n",
    "with open(osp.join(output_dir, 'countergan_li_l1.pkl'), 'wb') as f:\n",
    "    pickle.dump(l1_list, f)\n",
    "\n",
    "with open(osp.join(output_dir, 'countergan_ssim.pkl'), 'wb') as f:\n",
    "    pickle.dump(ssim_list, f)"
   ]
  },
  {
   "cell_type": "code",
   "execution_count": 46,
   "metadata": {},
   "outputs": [
    {
     "data": {
      "image/png": "[encoded data removed]",
      "text/plain": [
       "<Figure size 1000x400 with 1 Axes>"
      ]
     },
     "metadata": {},
     "output_type": "display_data"
    }
   ],
   "source": [
    "plt.style.use(\"seaborn-v0_8-notebook\")\n",
    "plt.rcParams['figure.figsize'] = [10, 4]\n",
    "\n",
    "plot_boxplot(data=l1_list, mean_values=[np.round(np.mean(inst),2) for inst in l1_list],\n",
    "             tick_labels=[f'eps={noise_level}' for noise_level in noise_levels],\n",
    "             y_label='L1 distance', colors=['lightyellow'], title='Local Instability')"
   ]
  },
  {
   "cell_type": "code",
   "execution_count": 47,
   "metadata": {},
   "outputs": [
    {
     "data": {
      "image/png": "[encoded data removed]",
      "text/plain": [
       "<Figure size 1000x400 with 1 Axes>"
      ]
     },
     "metadata": {},
     "output_type": "display_data"
    }
   ],
   "source": [
    "plot_boxplot(data=ssim_list, mean_values=[np.round(np.mean(inst),2) for inst in ssim_list],\n",
    "             tick_labels=[f'eps={noise_level} ' for noise_level in noise_levels],\n",
    "             y_label='SSIM', colors=['lightgreen'], title='Local Instability')"
   ]
  },
  {
   "cell_type": "markdown",
   "metadata": {},
   "source": [
    "## Local Lipschitz Continuity"
   ]
  },
  {
   "cell_type": "code",
   "execution_count": 59,
   "metadata": {},
   "outputs": [
    {
     "name": "stdout",
     "output_type": "stream",
     "text": [
      "Are the lengths of initial points (factuals) and CFEs generated for them equal : True\n"
     ]
    }
   ],
   "source": [
    "original_points = factuals\n",
    "original_cfes = cfes\n",
    "print(\"Are the lengths of initial points (factuals) and CFEs generated for them equal :\", original_cfes.shape[0] == original_points.shape[0])\n"
   ]
  },
  {
   "cell_type": "code",
   "execution_count": 60,
   "metadata": {},
   "outputs": [
    {
     "name": "stderr",
     "output_type": "stream",
     "text": [
      "100%|██████████| 100/100 [01:00<00:00,  1.64it/s]\n"
     ]
    }
   ],
   "source": [
    "noise_magnitude = 0.001\n",
    "\n",
    "lip_estimates = []\n",
    "\n",
    "for original_point, original_cfe in tqdm(zip(original_points, original_cfes), total=original_points.shape[0]):\n",
    "\n",
    "    neighbor_points = perturb_sample(tf.expand_dims(original_point, axis=0), n_samples=50, noise_magnitude=noise_magnitude)    \n",
    "    neighbor_cfes = generator.predict(neighbor_points, verbose=False)\n",
    "\n",
    "    lip_estimate = 0\n",
    "    for m, p in zip(neighbor_cfes, neighbor_points):\n",
    "        num = np.linalg.norm((original_cfe - m).flatten(), ord=2) \n",
    "        denom = np.linalg.norm((original_point.numpy() - p).flatten(), ord=2)\n",
    "        lip = num / denom\n",
    "        lip_estimate = max(lip, lip_estimate)\n",
    " \n",
    "    lip_estimates.append(lip_estimate)\n"
   ]
  },
  {
   "cell_type": "code",
   "execution_count": 61,
   "metadata": {},
   "outputs": [],
   "source": [
    "output_dir = r'D:\\PycharmProjects\\Counterfactual-Robustness-Benchmark\\output\\countergan_binary'\n",
    "with open(osp.join(output_dir, 'countergan_lle.pkl'), 'wb') as f:\n",
    "    pickle.dump(lip_estimates, f)"
   ]
  },
  {
   "cell_type": "code",
   "execution_count": 62,
   "metadata": {},
   "outputs": [
    {
     "data": {
      "image/png": "[encoded data removed]",
      "text/plain": [
       "<Figure size 600x400 with 1 Axes>"
      ]
     },
     "metadata": {},
     "output_type": "display_data"
    }
   ],
   "source": [
    "plt.rcParams['figure.figsize'] = [6, 4]\n",
    "plot_boxplot(data=lip_estimates, mean_values=[np.round(np.mean(lip_estimates), 5)],\n",
    "             tick_labels=[''],\n",
    "             y_label='Local Lipschitz Estimate', colors=['lightpink'], title='Local Lipschitz Continuity')"
   ]
  },
  {
   "cell_type": "markdown",
   "metadata": {},
   "source": [
    "## Invalidation Rate"
   ]
  },
  {
   "cell_type": "markdown",
   "metadata": {},
   "source": [
    "Weights reinitialization"
   ]
  },
  {
   "cell_type": "code",
   "execution_count": 48,
   "metadata": {},
   "outputs": [
    {
     "name": "stdout",
     "output_type": "stream",
     "text": [
      "66/66 [==============================] - 1s 7ms/step\n",
      "Classifier accuracy test: 99.905%\n",
      "66/66 [==============================] - 1s 6ms/step\n",
      "Classifier accuracy test: 99.573%\n",
      "66/66 [==============================] - 0s 6ms/step\n",
      "Classifier accuracy test: 99.953%\n",
      "66/66 [==============================] - 0s 5ms/step\n",
      "Classifier accuracy test: 99.953%\n",
      "66/66 [==============================] - 0s 5ms/step\n",
      "Classifier accuracy test: 99.953%\n",
      "66/66 [==============================] - 0s 5ms/step\n",
      "Classifier accuracy test: 99.763%\n",
      "66/66 [==============================] - 0s 5ms/step\n",
      "Classifier accuracy test: 100.000%\n",
      "66/66 [==============================] - 0s 5ms/step\n",
      "Classifier accuracy test: 99.905%\n",
      "66/66 [==============================] - 0s 5ms/step\n",
      "Classifier accuracy test: 99.953%\n",
      "66/66 [==============================] - 0s 6ms/step\n",
      "Classifier accuracy test: 99.953%\n"
     ]
    }
   ],
   "source": [
    "classifiers_weights_dir = r'D:\\PycharmProjects\\Counterfactual-Robustness-Benchmark\\src\\models\\weights\\tf\\binary_mc'\n",
    "\n",
    "batch_size = 128\n",
    "\n",
    "\n",
    "classifiers_list = []\n",
    "for clf_fname in os.listdir(classifiers_weights_dir):\n",
    "    cnn_perturbed = load_model(osp.join(classifiers_weights_dir, clf_fname), \n",
    "                            custom_objects={'CNNtf': CNNtf})\n",
    "    classifiers_list.append(cnn_perturbed)\n",
    "\n",
    "    logits = cnn_perturbed.predict(X_test)\n",
    "    accuracy = (logits.argmax(axis=1) == y_test[:, 0]).numpy().mean()\n",
    "    print(f\"Classifier accuracy test: {accuracy:.3%}\")"
   ]
  },
  {
   "cell_type": "markdown",
   "metadata": {},
   "source": [
    "Evaluate IR only for the valid explanations for the baseline classifier"
   ]
  },
  {
   "cell_type": "code",
   "execution_count": 49,
   "metadata": {},
   "outputs": [
    {
     "name": "stdout",
     "output_type": "stream",
     "text": [
      "Validity of the generated CFEs for correctly classified instances: 15.00%\n"
     ]
    }
   ],
   "source": [
    "predictions = tf.argmax(baseline_classifier.predict(cfes, verbose=0), axis=1)\n",
    "indices = np.where(predictions == tf.ones_like(predictions)*class_encodings[DESIRED_CLASS])[0]\n",
    "cfes_subsample = tf.gather(cfes, indices)\n",
    "cfes_subsample.shape\n",
    "\n",
    "validity = len(np.where(predictions == tf.ones_like(predictions)*class_encodings[DESIRED_CLASS])[0]) / len(cfes)\n",
    "print(f'Validity of the generated CFEs for correctly classified instances: {validity:.2%}')"
   ]
  },
  {
   "cell_type": "code",
   "execution_count": 52,
   "metadata": {},
   "outputs": [
    {
     "name": "stdout",
     "output_type": "stream",
     "text": [
      "number of invalidated instances 1\n",
      "Model 0: IR=0.01, validity=0.14\n",
      "\n",
      "number of invalidated instances 7\n",
      "Model 1: IR=0.07, validity=0.08\n",
      "\n",
      "number of invalidated instances 0\n",
      "Model 2: IR=0.0, validity=0.15\n",
      "\n",
      "number of invalidated instances 3\n",
      "Model 3: IR=0.03, validity=0.12\n",
      "\n",
      "number of invalidated instances 0\n",
      "Model 4: IR=0.0, validity=0.15\n",
      "\n",
      "number of invalidated instances 0\n",
      "Model 5: IR=0.0, validity=0.15\n",
      "\n",
      "number of invalidated instances 0\n",
      "Model 6: IR=0.0, validity=0.15\n",
      "\n",
      "number of invalidated instances 0\n",
      "Model 7: IR=0.0, validity=0.15\n",
      "\n",
      "number of invalidated instances 2\n",
      "Model 8: IR=0.02, validity=0.13\n",
      "\n",
      "number of invalidated instances 2\n",
      "Model 9: IR=0.02, validity=0.13\n",
      "\n",
      "Average IR among 10 models:  0.015 0.021095023109728987\n",
      "Average VaR among 10 models:  0.135 0.02109502310972898\n"
     ]
    }
   ],
   "source": [
    "invalidation_rate_list = []\n",
    "validity_list = []\n",
    "total_cfs = cfes.shape[0]\n",
    "\n",
    "for i, classifier in enumerate(classifiers_list):\n",
    "    invalidation_rate = 0\n",
    "\n",
    "    baseline_pred = tf.argmax(baseline_classifier.predict(cfes_subsample, verbose=0), axis=1)\n",
    "    alternative_pred = tf.argmax(classifier.predict(cfes_subsample, verbose=0), axis=1)\n",
    "\n",
    "    inv_indices = tf.where(baseline_pred != alternative_pred)\n",
    "    inv_instances = tf.gather(cfes_subsample, inv_indices) \n",
    "    inv_predictions = tf.gather(alternative_pred, inv_indices)\n",
    "    print('number of invalidated instances', inv_indices.shape[0])\n",
    "    # fig, ax = plt.subplots(1, 3)\n",
    "    # for i in range(3):\n",
    "    #     ax[i].imshow(inv_instances[i][0], cmap='gray')\n",
    "    #     ax[i].axis('off')\n",
    "    #     ax[i].set_title(inv_predictions[i].numpy())\n",
    "    \n",
    "    invalidation_rate = inv_indices.shape[0] / total_cfs\n",
    "    invalidation_rate_list.append(invalidation_rate)\n",
    "\n",
    "    validity = tf.where(alternative_pred == class_encodings[DESIRED_CLASS]).shape[0] / total_cfs\n",
    "\n",
    "    validity_list.append(validity)\n",
    "\n",
    "    print(f'Model {i}: IR={invalidation_rate}, validity={validity}\\n')\n",
    "\n",
    "print(f'Average IR among {len(classifiers_list)} models: ', np.mean(invalidation_rate_list), np.std(invalidation_rate_list))\n",
    "print(f'Average VaR among {len(classifiers_list)} models: ', np.mean(validity_list), np.std(validity_list))\n"
   ]
  },
  {
   "cell_type": "markdown",
   "metadata": {},
   "source": [
    "## Stability "
   ]
  },
  {
   "cell_type": "code",
   "execution_count": 54,
   "metadata": {},
   "outputs": [
    {
     "name": "stdout",
     "output_type": "stream",
     "text": [
      "Average Stability of the model 0: 0.607 +- 0.04\n",
      "Average Stability of the model 1: 0.589 +- 0.04\n",
      "Average Stability of the model 2: 0.774 +- 0.08\n",
      "Average Stability of the model 3: 0.799 +- 0.04\n",
      "Average Stability of the model 4: 0.666 +- 0.06\n",
      "Average Stability of the model 5: 0.891 +- 0.1\n",
      "Average Stability of the model 6: 0.836 +- 0.08\n",
      "Average Stability of the model 7: 0.866 +- 0.07\n",
      "Average Stability of the model 8: 0.618 +- 0.04\n",
      "Average Stability of the model 9: 0.856 +- 0.05\n"
     ]
    }
   ],
   "source": [
    "k = 1000\n",
    "sigma = 0.001\n",
    "\n",
    "average_stability_list = []\n",
    "\n",
    "\n",
    "for i, classifier in enumerate(classifiers_list):\n",
    "    stability_list = []\n",
    "    stability = 0\n",
    "\n",
    "    original_logits = classifier.predict(cfes_subsample, verbose=0)\n",
    "    # To calculate stability of only valid CFE, they need to be identified\n",
    "    valid_cfs_ind = tf.where(original_logits.argmax(axis=1) == class_encodings[DESIRED_CLASS])[:, 0]\n",
    "    original_logits_subsample = tf.gather(original_logits, valid_cfs_ind)\n",
    "\n",
    "    original_probabilities = tf.nn.softmax(original_logits_subsample, axis=-1)[:, class_encodings[DESIRED_CLASS]]\n",
    "\n",
    "    valid_cfs_subsample = tf.gather(cfes_subsample, valid_cfs_ind)\n",
    "    cf_sample_pert = perturb_sample(valid_cfs_subsample, n_samples=k, noise_magnitude=sigma)\n",
    "\n",
    "    logits = classifier.predict(cf_sample_pert, verbose=0)\n",
    "    probabilities = tf.nn.softmax(logits, axis=-1)[:, class_encodings[DESIRED_CLASS]]\n",
    "\n",
    "    for j in range(original_probabilities.shape[0]):\n",
    "        original_probabilities_i = tf.expand_dims(original_probabilities[j], axis=-1)\n",
    "        # print(original_probabilities_i.shape)\n",
    "        model_variance = abs(original_probabilities_i - probabilities[j*k : j*k+k])\n",
    "        # print(probabilities[i*k:i*k+k].shape)\n",
    "        # print(model_variance.shape)\n",
    "        stability = (probabilities[j*k:j*k+k] - model_variance).numpy().mean()\n",
    "        stability_list.append(stability)\n",
    "\n",
    "    avg_i_stability = np.mean(stability_list)\n",
    "    print(f'Average Stability of the model {i}: {round(avg_i_stability.item(), 3)} +- {round(np.std(stability_list).item(), 2)}')\n",
    "    average_stability_list.append(avg_i_stability)\n"
   ]
  },
  {
   "cell_type": "code",
   "execution_count": 55,
   "metadata": {},
   "outputs": [
    {
     "name": "stdout",
     "output_type": "stream",
     "text": [
      "Average stability across 10 equally performative models: 0.75 +- 0.112\n"
     ]
    }
   ],
   "source": [
    "print(f\"Average stability across {len(average_stability_list)} equally performative models: \\\n",
    "{round(np.mean(average_stability_list).item(), 3)} +- {round(np.std(average_stability_list).item(), 3)}\")"
   ]
  },
  {
   "cell_type": "code",
   "execution_count": null,
   "metadata": {},
   "outputs": [],
   "source": []
  }
 ],
 "metadata": {
  "kernelspec": {
   "display_name": "venv",
   "language": "python",
   "name": "python3"
  },
  "language_info": {
   "codemirror_mode": {
    "name": "ipython",
    "version": 3
   },
   "file_extension": ".py",
   "mimetype": "text/x-python",
   "name": "python",
   "nbconvert_exporter": "python",
   "pygments_lexer": "ipython3",
   "version": "3.11.7"
  }
 },
 "nbformat": 4,
 "nbformat_minor": 2
}
