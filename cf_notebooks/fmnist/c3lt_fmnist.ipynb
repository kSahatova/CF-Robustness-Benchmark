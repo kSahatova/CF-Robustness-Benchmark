{
 "cells": [
  {
   "cell_type": "code",
   "execution_count": 1,
   "metadata": {},
   "outputs": [
    {
     "name": "stderr",
     "output_type": "stream",
     "text": [
      "2025-05-13 08:27:31.475488: E external/local_xla/xla/stream_executor/cuda/cuda_fft.cc:467] Unable to register cuFFT factory: Attempting to register factory for plugin cuFFT when one has already been registered\n",
      "WARNING: All log messages before absl::InitializeLog() is called are written to STDERR\n",
      "E0000 00:00:1747117651.493856 3815910 cuda_dnn.cc:8579] Unable to register cuDNN factory: Attempting to register factory for plugin cuDNN when one has already been registered\n",
      "E0000 00:00:1747117651.499407 3815910 cuda_blas.cc:1407] Unable to register cuBLAS factory: Attempting to register factory for plugin cuBLAS when one has already been registered\n",
      "W0000 00:00:1747117651.514069 3815910 computation_placer.cc:177] computation placer already registered. Please check linkage and avoid linking the same target more than once.\n",
      "W0000 00:00:1747117651.514088 3815910 computation_placer.cc:177] computation placer already registered. Please check linkage and avoid linking the same target more than once.\n",
      "W0000 00:00:1747117651.514090 3815910 computation_placer.cc:177] computation placer already registered. Please check linkage and avoid linking the same target more than once.\n",
      "W0000 00:00:1747117651.514092 3815910 computation_placer.cc:177] computation placer already registered. Please check linkage and avoid linking the same target more than once.\n",
      "2025-05-13 08:27:31.518545: I tensorflow/core/platform/cpu_feature_guard.cc:210] This TensorFlow binary is optimized to use available CPU instructions in performance-critical operations.\n",
      "To enable the following instructions: AVX2 AVX512F FMA, in other operations, rebuild TensorFlow with the appropriate compiler flags.\n",
      "/data/leuven/365/vsc36567/miniconda3/lib/python3.12/site-packages/albumentations/__init__.py:28: UserWarning: A new version of Albumentations is available: '2.0.6' (you have '2.0.4'). Upgrade using: pip install -U albumentations. To disable automatic update checks, set the environment variable NO_ALBUMENTATIONS_UPDATE to 1.\n",
      "  check_for_updates()\n"
     ]
    }
   ],
   "source": [
    "import os\n",
    "import argparse\n",
    "import numpy as np\n",
    "import os.path as osp\n",
    "from copy import deepcopy\n",
    "from easydict import EasyDict as edict\n",
    "import matplotlib.pyplot as plt\n",
    "\n",
    "import torch\n",
    "import torch.nn as nn\n",
    "from torch.utils.data import DataLoader\n",
    "\n",
    "from src.cf_methods import c3lt \n",
    "from src.datasets import DatasetBuilder\n",
    "\n",
    "from src.models.classifiers import SimpleCNNtorch\n",
    "from src.evaluation.local_instability import perturb_sample\n",
    "from src.utils import extract_factual_instances, filter_valid_factuals\n",
    "from src.utils import seed_everything, get_config, load_model_weights\n",
    "from src.utils import evaluate_classification_model, plot_boxplot"
   ]
  },
  {
   "cell_type": "code",
   "execution_count": 2,
   "metadata": {},
   "outputs": [],
   "source": [
    "seed_everything()"
   ]
  },
  {
   "cell_type": "code",
   "execution_count": 3,
   "metadata": {},
   "outputs": [],
   "source": [
    "import sys\n",
    "sys.argv = ['']"
   ]
  },
  {
   "cell_type": "code",
   "execution_count": 4,
   "metadata": {},
   "outputs": [],
   "source": [
    "config_path = r'/data/leuven/365/vsc36567/CF-Robustness-Benchmark/configs/revise_fmnist_binary.yaml'\n",
    "config = get_config(config_path)"
   ]
  },
  {
   "cell_type": "code",
   "execution_count": 5,
   "metadata": {},
   "outputs": [],
   "source": [
    "config.data.classes = [0, 2, 4, 6]\n",
    "config.data.num_classes = len(config.data.classes)\n",
    "ds_builder = DatasetBuilder(config)\n",
    "ds_builder.setup()\n",
    "train_loader, val_loader, test_loader = ds_builder.get_dataloaders()"
   ]
  },
  {
   "cell_type": "code",
   "execution_count": 13,
   "metadata": {},
   "outputs": [],
   "source": [
    "# Create an args object to pass all relevant parameters \n",
    "weights_dir = '/data/leuven/365/vsc36567/CF-Robustness-Benchmark/src/cf_methods/c3lt/weights'\n",
    "# '/data/leuven/365/vsc36567/Counterfactual-Robustness-Benchmark/src/recourse_methods/c3lt/weights'\n",
    "clf_dir = '/data/leuven/365/vsc36567/CF-Robustness-Benchmark/notebooks/experiments/fmnist_classification/multiclass/checkpoints'\n",
    "# '/data/leuven/365/vsc36567/Counterfactual-Robustness-Benchmark/src/models/weights'\n",
    "log_path ='/data/leuven/365/vsc36567/CF-Robustness-Benchmark/cf_output/fmnist/c3lt_multiclass'\n",
    "\n",
    "args = c3lt.args.init_parser()\n",
    "args.device = \"cuda\" if torch.cuda.is_available() else \"cpu\"\n",
    "args.log_path = log_path\n",
    "args.gen_path = osp.join(weights_dir, 'generator_fmnist.pth')\n",
    "args.disc_path = osp.join(weights_dir, 'discriminator_fmnist.pth')\n",
    "args.enc_path = osp.join(weights_dir, 'encoder_fmnist.pth')\n",
    "args.cls_path = osp.join(clf_dir, 'fmnist__epoch=12_val_accuracy=0.84.pth')\n",
    "args.dataset_path = '/data/leuven/365/vsc36567/CF-Robustness-Benchmark/data'\n",
    "args.cls_1 = 3  # 6\n",
    "args.cls_2 = 2  # 4\n",
    "args.num_classes = 2\n",
    "args.classifier_args={**config.classifier.args, \n",
    "                    'num_classes': config.data.num_classes,\n",
    "                    'img_size': config.data.img_size\n",
    "}\n",
    "args.ndf=32\n",
    "args.epochs=110\n",
    "# args.cls_type = 'bce'\n",
    "args.extracted_layers = ['main']\n",
    "args.output = '/data/leuven/365/vsc36567/CF-Robustness-Benchmark/cf_output/fmnist/c3lt_multiclass/results'"
   ]
  },
  {
   "cell_type": "code",
   "execution_count": 14,
   "metadata": {},
   "outputs": [],
   "source": [
    "def dataloader_pair(args, dataset, is_train):\n",
    "    \"\"\"\n",
    "        returns dataloaders for a class pair.\n",
    "\n",
    "    :param args:\n",
    "    :param is_train:\n",
    "    :return:\n",
    "    \"\"\"\n",
    "    dataset_1 = deepcopy(dataset)\n",
    "    dataset_2 = deepcopy(dataset)\n",
    "\n",
    "    # extract samples only of class 1\n",
    "    idx_1 = dataset_1.data.targets == args.cls_1\n",
    "    dataset_1.data.data = dataset_1.data.data[idx_1]\n",
    "    dataset_1.data.targets = dataset_1.data.targets[idx_1]\n",
    "\n",
    "    # extract samples only of class 2\n",
    "    idx_2 = dataset_2.data.targets == args.cls_2\n",
    "    dataset_2.data.data = dataset_2.data.data[idx_2]\n",
    "    dataset_2.data.targets = dataset_2.data.targets[idx_2]\n",
    "\n",
    "    dataloader_1 = DataLoader(dataset_1, batch_size=args.batch_size,\n",
    "                              shuffle=is_train, pin_memory=True, drop_last=False)\n",
    "    dataloader_2 = DataLoader(dataset_2, batch_size=args.batch_size,\n",
    "                              shuffle=is_train, pin_memory=True, drop_last=False)\n",
    "\n",
    "    return  dataloader_1, dataloader_2"
   ]
  },
  {
   "cell_type": "code",
   "execution_count": 15,
   "metadata": {},
   "outputs": [],
   "source": [
    "dataloaders = dataloader_pair(args, ds_builder.train_dataset, is_train=True)\n",
    "dataloaders_test = dataloader_pair(args, ds_builder.test_dataset, is_train=False)"
   ]
  },
  {
   "cell_type": "markdown",
   "metadata": {},
   "source": [
    "# Training"
   ]
  },
  {
   "cell_type": "code",
   "execution_count": 16,
   "metadata": {},
   "outputs": [
    {
     "name": "stdout",
     "output_type": "stream",
     "text": [
      "Generator loaded!\n",
      "Discriminator loaded!\n",
      "Encoder loaded!\n",
      "Classifier loaded!\n",
      "\n",
      "Training Starts...\n",
      "\n",
      "[Epoch 0/110] [TRAIN Loss: 1.48407]\n",
      "\n",
      "EVAL [CLS loss: 0.5698]  [PROX loss: 0.0614]  [CYC Loss: 0.2554]  [ADV loss: 0.8616]  [EVAL loss: 0.6023] \n",
      "EVAL [COUT: 0.4531]  [Validity: 81.90 %]  [Proximity: 0.2199]\n",
      "\n",
      "[Epoch 1/110] [TRAIN Loss: 0.28818]\n",
      "[Epoch 2/110] [TRAIN Loss: 0.13350]\n",
      "[Epoch 3/110] [TRAIN Loss: 0.09375]\n",
      "[Epoch 4/110] [TRAIN Loss: 0.07460]\n",
      "[Epoch 5/110] [TRAIN Loss: 0.06499]\n",
      "[Epoch 6/110] [TRAIN Loss: 0.06002]\n",
      "[Epoch 7/110] [TRAIN Loss: 0.05687]\n",
      "[Epoch 8/110] [TRAIN Loss: 0.05395]\n",
      "[Epoch 9/110] [TRAIN Loss: 0.05167]\n",
      "[Epoch 10/110] [TRAIN Loss: 0.04978]\n",
      "\n",
      "EVAL [CLS loss: 0.0095]  [PROX loss: 0.0615]  [CYC Loss: 0.3400]  [ADV loss: 0.9781]  [EVAL loss: 0.0506] \n",
      "EVAL [COUT: 0.8042]  [Validity: 99.80 %]  [Proximity: 0.2625]\n",
      "\n",
      "[Epoch 11/110] [TRAIN Loss: 0.04808]\n",
      "[Epoch 12/110] [TRAIN Loss: 0.04646]\n",
      "[Epoch 13/110] [TRAIN Loss: 0.04482]\n",
      "[Epoch 14/110] [TRAIN Loss: 0.04317]\n",
      "[Epoch 15/110] [TRAIN Loss: 0.04161]\n",
      "[Epoch 16/110] [TRAIN Loss: 0.03934]\n",
      "[Epoch 17/110] [TRAIN Loss: 0.03723]\n",
      "[Epoch 18/110] [TRAIN Loss: 0.03503]\n",
      "[Epoch 19/110] [TRAIN Loss: 0.03317]\n",
      "[Epoch 20/110] [TRAIN Loss: 0.03137]\n",
      "\n",
      "EVAL [CLS loss: 0.0064]  [PROX loss: 0.0580]  [CYC Loss: 0.1955]  [ADV loss: 0.8250]  [EVAL loss: 0.0326] \n",
      "EVAL [COUT: 0.8223]  [Validity: 99.80 %]  [Proximity: 0.2528]\n",
      "\n",
      "[Epoch 21/110] [TRAIN Loss: 0.02980]\n",
      "[Epoch 22/110] [TRAIN Loss: 0.02862]\n",
      "[Epoch 23/110] [TRAIN Loss: 0.02751]\n",
      "[Epoch 24/110] [TRAIN Loss: 0.02664]\n",
      "[Epoch 25/110] [TRAIN Loss: 0.02611]\n",
      "[Epoch 26/110] [TRAIN Loss: 0.02579]\n",
      "[Epoch 27/110] [TRAIN Loss: 0.02550]\n",
      "[Epoch 28/110] [TRAIN Loss: 0.02523]\n",
      "[Epoch 29/110] [TRAIN Loss: 0.02495]\n",
      "[Epoch 30/110] [TRAIN Loss: 0.02470]\n",
      "\n",
      "EVAL [CLS loss: 0.0067]  [PROX loss: 0.0565]  [CYC Loss: 0.1497]  [ADV loss: 0.7607]  [EVAL loss: 0.0281] \n",
      "EVAL [COUT: 0.8327]  [Validity: 99.60 %]  [Proximity: 0.2489]\n",
      "\n",
      "[Epoch 31/110] [TRAIN Loss: 0.02447]\n",
      "[Epoch 32/110] [TRAIN Loss: 0.02427]\n",
      "[Epoch 33/110] [TRAIN Loss: 0.02407]\n",
      "[Epoch 34/110] [TRAIN Loss: 0.02389]\n",
      "[Epoch 35/110] [TRAIN Loss: 0.02374]\n",
      "[Epoch 36/110] [TRAIN Loss: 0.02357]\n",
      "[Epoch 37/110] [TRAIN Loss: 0.02340]\n",
      "[Epoch 38/110] [TRAIN Loss: 0.02324]\n",
      "[Epoch 39/110] [TRAIN Loss: 0.02309]\n",
      "[Epoch 40/110] [TRAIN Loss: 0.02294]\n",
      "\n",
      "EVAL [CLS loss: 0.0070]  [PROX loss: 0.0553]  [CYC Loss: 0.1383]  [ADV loss: 0.7461]  [EVAL loss: 0.0271] \n",
      "EVAL [COUT: 0.8384]  [Validity: 99.60 %]  [Proximity: 0.2463]\n",
      "\n",
      "[Epoch 41/110] [TRAIN Loss: 0.02280]\n",
      "[Epoch 42/110] [TRAIN Loss: 0.02267]\n",
      "[Epoch 43/110] [TRAIN Loss: 0.02254]\n",
      "[Epoch 44/110] [TRAIN Loss: 0.02239]\n",
      "[Epoch 45/110] [TRAIN Loss: 0.02226]\n",
      "[Epoch 46/110] [TRAIN Loss: 0.02213]\n",
      "[Epoch 47/110] [TRAIN Loss: 0.02200]\n",
      "[Epoch 48/110] [TRAIN Loss: 0.02187]\n",
      "[Epoch 49/110] [TRAIN Loss: 0.02174]\n",
      "[Epoch 50/110] [TRAIN Loss: 0.02164]\n",
      "\n",
      "EVAL [CLS loss: 0.0069]  [PROX loss: 0.0541]  [CYC Loss: 0.1298]  [ADV loss: 0.7384]  [EVAL loss: 0.0261] \n",
      "EVAL [COUT: 0.8430]  [Validity: 99.70 %]  [Proximity: 0.2433]\n",
      "\n",
      "[Epoch 51/110] [TRAIN Loss: 0.02157]\n",
      "[Epoch 52/110] [TRAIN Loss: 0.02151]\n",
      "[Epoch 53/110] [TRAIN Loss: 0.02145]\n",
      "[Epoch 54/110] [TRAIN Loss: 0.02138]\n",
      "[Epoch 55/110] [TRAIN Loss: 0.02132]\n",
      "[Epoch 56/110] [TRAIN Loss: 0.02126]\n",
      "[Epoch 57/110] [TRAIN Loss: 0.02120]\n",
      "[Epoch 58/110] [TRAIN Loss: 0.02114]\n",
      "[Epoch 59/110] [TRAIN Loss: 0.02107]\n",
      "[Epoch 60/110] [TRAIN Loss: 0.02101]\n",
      "\n",
      "EVAL [CLS loss: 0.0066]  [PROX loss: 0.0534]  [CYC Loss: 0.1254]  [ADV loss: 0.7325]  [EVAL loss: 0.0252] \n",
      "EVAL [COUT: 0.8449]  [Validity: 99.70 %]  [Proximity: 0.2413]\n",
      "\n",
      "[Epoch 61/110] [TRAIN Loss: 0.02095]\n",
      "[Epoch 62/110] [TRAIN Loss: 0.02089]\n",
      "[Epoch 63/110] [TRAIN Loss: 0.02083]\n",
      "[Epoch 64/110] [TRAIN Loss: 0.02077]\n",
      "[Epoch 65/110] [TRAIN Loss: 0.02071]\n",
      "[Epoch 66/110] [TRAIN Loss: 0.02065]\n",
      "[Epoch 67/110] [TRAIN Loss: 0.02059]\n",
      "[Epoch 68/110] [TRAIN Loss: 0.02053]\n",
      "[Epoch 69/110] [TRAIN Loss: 0.02046]\n",
      "[Epoch 70/110] [TRAIN Loss: 0.02040]\n",
      "\n",
      "EVAL [CLS loss: 0.0062]  [PROX loss: 0.0526]  [CYC Loss: 0.1211]  [ADV loss: 0.7291]  [EVAL loss: 0.0243] \n",
      "EVAL [COUT: 0.8468]  [Validity: 99.70 %]  [Proximity: 0.2387]\n",
      "\n",
      "[Epoch 71/110] [TRAIN Loss: 0.02034]\n",
      "[Epoch 72/110] [TRAIN Loss: 0.02028]\n",
      "[Epoch 73/110] [TRAIN Loss: 0.02022]\n",
      "[Epoch 74/110] [TRAIN Loss: 0.02016]\n",
      "[Epoch 75/110] [TRAIN Loss: 0.02012]\n",
      "[Epoch 76/110] [TRAIN Loss: 0.02008]\n",
      "[Epoch 77/110] [TRAIN Loss: 0.02005]\n",
      "[Epoch 78/110] [TRAIN Loss: 0.02002]\n",
      "[Epoch 79/110] [TRAIN Loss: 0.01999]\n",
      "[Epoch 80/110] [TRAIN Loss: 0.01995]\n",
      "\n",
      "EVAL [CLS loss: 0.0061]  [PROX loss: 0.0521]  [CYC Loss: 0.1180]  [ADV loss: 0.7262]  [EVAL loss: 0.0238] \n",
      "EVAL [COUT: 0.8482]  [Validity: 99.70 %]  [Proximity: 0.2363]\n",
      "\n",
      "[Epoch 81/110] [TRAIN Loss: 0.01992]\n",
      "[Epoch 82/110] [TRAIN Loss: 0.01989]\n",
      "[Epoch 83/110] [TRAIN Loss: 0.01986]\n",
      "[Epoch 84/110] [TRAIN Loss: 0.01983]\n",
      "[Epoch 85/110] [TRAIN Loss: 0.01979]\n",
      "[Epoch 86/110] [TRAIN Loss: 0.01976]\n",
      "[Epoch 87/110] [TRAIN Loss: 0.01973]\n",
      "[Epoch 88/110] [TRAIN Loss: 0.01969]\n",
      "[Epoch 89/110] [TRAIN Loss: 0.01966]\n",
      "[Epoch 90/110] [TRAIN Loss: 0.01963]\n",
      "\n",
      "EVAL [CLS loss: 0.0059]  [PROX loss: 0.0516]  [CYC Loss: 0.1157]  [ADV loss: 0.7235]  [EVAL loss: 0.0233] \n",
      "EVAL [COUT: 0.8488]  [Validity: 99.70 %]  [Proximity: 0.2344]\n",
      "\n",
      "[Epoch 91/110] [TRAIN Loss: 0.01960]\n",
      "[Epoch 92/110] [TRAIN Loss: 0.01956]\n",
      "[Epoch 93/110] [TRAIN Loss: 0.01953]\n",
      "[Epoch 94/110] [TRAIN Loss: 0.01949]\n",
      "[Epoch 95/110] [TRAIN Loss: 0.01946]\n",
      "[Epoch 96/110] [TRAIN Loss: 0.01942]\n",
      "[Epoch 97/110] [TRAIN Loss: 0.01939]\n",
      "[Epoch 98/110] [TRAIN Loss: 0.01935]\n",
      "[Epoch 99/110] [TRAIN Loss: 0.01931]\n",
      "[Epoch 100/110] [TRAIN Loss: 0.01928]\n",
      "\n",
      "EVAL [CLS loss: 0.0058]  [PROX loss: 0.0511]  [CYC Loss: 0.1133]  [ADV loss: 0.7206]  [EVAL loss: 0.0230] \n",
      "EVAL [COUT: 0.8496]  [Validity: 99.80 %]  [Proximity: 0.2321]\n",
      "\n",
      "[Epoch 101/110] [TRAIN Loss: 0.01926]\n",
      "[Epoch 102/110] [TRAIN Loss: 0.01925]\n",
      "[Epoch 103/110] [TRAIN Loss: 0.01923]\n",
      "[Epoch 104/110] [TRAIN Loss: 0.01921]\n",
      "[Epoch 105/110] [TRAIN Loss: 0.01919]\n",
      "[Epoch 106/110] [TRAIN Loss: 0.01917]\n",
      "[Epoch 107/110] [TRAIN Loss: 0.01915]\n",
      "[Epoch 108/110] [TRAIN Loss: 0.01913]\n",
      "[Epoch 109/110] [TRAIN Loss: 0.01911]\n",
      "[Epoch 110/110] [TRAIN Loss: 0.01909]\n",
      "\n",
      "EVAL [CLS loss: 0.0058]  [PROX loss: 0.0508]  [CYC Loss: 0.1119]  [ADV loss: 0.7188]  [EVAL loss: 0.0228] \n",
      "EVAL [COUT: 0.8503]  [Validity: 99.70 %]  [Proximity: 0.2308]\n",
      "\n",
      "\n",
      "Evaluation Starts...\n",
      "\n",
      "\n",
      "EVAL [CLS loss: 0.0058]  [PROX loss: 0.0508]  [CYC Loss: 0.1119]  [ADV loss: 0.7188]  [EVAL loss: 0.0228] \n",
      "EVAL [COUT: 0.8503]  [Validity: 99.70 %]  [Proximity: 0.2308]\n",
      "\n"
     ]
    }
   ],
   "source": [
    "c3lt.train.train_c3lt(args, [dataloaders, dataloaders_test])"
   ]
  },
  {
   "cell_type": "markdown",
   "metadata": {},
   "source": [
    "# Inference"
   ]
  },
  {
   "cell_type": "code",
   "execution_count": 17,
   "metadata": {},
   "outputs": [],
   "source": [
    "import pickle\n",
    "from src.evaluation.local_instability import perturb_sample"
   ]
  },
  {
   "cell_type": "code",
   "execution_count": 19,
   "metadata": {},
   "outputs": [
    {
     "data": {
      "text/plain": [
       "<All keys matched successfully>"
      ]
     },
     "execution_count": 19,
     "metadata": {},
     "output_type": "execute_result"
    }
   ],
   "source": [
    "g_2 = c3lt.modules.NLMappingConv(args.latent_dim).to(args.device)\n",
    "mapper_weights_path = '/data/leuven/365/vsc36567/CF-Robustness-Benchmark/cf_output/fmnist/c3lt_multiclass/results_2_4/snaps/map_1_to_2_100.pt'\n",
    "# load_model_weights(g, framework='torch', weights_path=mapper_weights_path)\n",
    "g_2.load_state_dict(torch.load(\n",
    "                    mapper_weights_path, weights_only=False,\n",
    "                    map_location=torch.device(args.device)))\n",
    "\n",
    "g_6 = c3lt.modules.NLMappingConv(args.latent_dim).to(args.device)\n",
    "mapper_weights_path = '/data/leuven/365/vsc36567/CF-Robustness-Benchmark/cf_output/fmnist/c3lt_multiclass/results_6_4/snaps/map_3_to_2_100.pt'\n",
    "# load_model_weights(g, framework='torch', weights_path=mapper_weights_path)\n",
    "g_6.load_state_dict(torch.load(\n",
    "                    mapper_weights_path, weights_only=False,\n",
    "                    map_location=torch.device(args.device)))\n",
    "\n",
    "# g_9 = c3lt.modules.NLMappingConv(args.latent_dim).to(args.device)\n",
    "# mapper_weights_path = '/data/leuven/365/vsc36567/Counterfactual-Robustness-Benchmark/output/c3lt_multi/results_9_8/snaps/map_9_to_8_150.pt'\n",
    "# load_model_weights(g_9, framework='torch', weights_path=mapper_weights_path)"
   ]
  },
  {
   "cell_type": "code",
   "execution_count": 20,
   "metadata": {},
   "outputs": [
    {
     "name": "stdout",
     "output_type": "stream",
     "text": [
      "Generator loaded!\n",
      "Discriminator loaded!\n"
     ]
    }
   ],
   "source": [
    "gen, discr = c3lt.helper.load_pretrained_gan(args)"
   ]
  },
  {
   "cell_type": "code",
   "execution_count": 21,
   "metadata": {},
   "outputs": [
    {
     "name": "stdout",
     "output_type": "stream",
     "text": [
      "Classifier loaded!\n"
     ]
    }
   ],
   "source": [
    "baseline_classifier = c3lt.helper.load_pretrained_classifier(args)"
   ]
  },
  {
   "cell_type": "code",
   "execution_count": 22,
   "metadata": {},
   "outputs": [
    {
     "name": "stdout",
     "output_type": "stream",
     "text": [
      "Encoder loaded!\n"
     ]
    }
   ],
   "source": [
    "encoder = c3lt.helper.load_pretrained_encoder(args)"
   ]
  },
  {
   "cell_type": "code",
   "execution_count": 23,
   "metadata": {},
   "outputs": [],
   "source": [
    "device = \"cuda\" if torch.cuda.is_available() else \"cpu\""
   ]
  },
  {
   "cell_type": "code",
   "execution_count": 24,
   "metadata": {},
   "outputs": [],
   "source": [
    "cfes = []\n",
    "factuals_list = []\n",
    "labels_list = []\n",
    "factual_classes = [2, 6]\n",
    "\n",
    "for images, labels in test_loader:\n",
    "    for fclass in factual_classes: \n",
    "        indices = np.where(labels == fclass)[0]\n",
    "        factuals_list.append(images[indices])\n",
    "        labels_list.append(labels[indices])"
   ]
  },
  {
   "cell_type": "code",
   "execution_count": 25,
   "metadata": {},
   "outputs": [
    {
     "data": {
      "text/plain": [
       "(torch.Size([1000, 1, 28, 28]), torch.Size([1000]))"
      ]
     },
     "execution_count": 25,
     "metadata": {},
     "output_type": "execute_result"
    }
   ],
   "source": [
    "factuals = torch.concat(factuals_list)\n",
    "labels = torch.concat(labels_list)\n",
    "factuals.shape, labels.shape"
   ]
  },
  {
   "cell_type": "code",
   "execution_count": 26,
   "metadata": {},
   "outputs": [
    {
     "data": {
      "text/plain": [
       "(torch.Size([872, 1, 28, 28]), torch.Size([872]))"
      ]
     },
     "execution_count": 26,
     "metadata": {},
     "output_type": "execute_result"
    }
   ],
   "source": [
    "predictions = torch.argmax(baseline_classifier(factuals.to(device)), axis=1).detach().cpu()\n",
    "valid_indices = np.where(predictions == labels)[0]\n",
    "factuals = factuals[valid_indices] \n",
    "labels = labels[valid_indices]\n",
    "factuals.shape, labels.shape"
   ]
  },
  {
   "cell_type": "markdown",
   "metadata": {},
   "source": [
    "## Local Instability"
   ]
  },
  {
   "cell_type": "code",
   "execution_count": 28,
   "metadata": {},
   "outputs": [],
   "source": [
    "noise_levels = [0.001, 0.0025, 0.005, 0.0075, 0.01]"
   ]
  },
  {
   "cell_type": "code",
   "execution_count": 29,
   "metadata": {},
   "outputs": [
    {
     "name": "stdout",
     "output_type": "stream",
     "text": [
      "Number of valid perturbed factuals for the added noise level 0.001:  855\n",
      "Number of valid perturbed factuals for the added noise level 0.0025:  857\n",
      "Number of valid perturbed factuals for the added noise level 0.005:  830\n",
      "Number of valid perturbed factuals for the added noise level 0.0075:  809\n",
      "Number of valid perturbed factuals for the added noise level 0.01:  797\n"
     ]
    }
   ],
   "source": [
    "from functools import reduce\n",
    "\n",
    "\n",
    "save_dir = r'/data/leuven/365/vsc36567/CF-Robustness-Benchmark/cf_output/fmnist/c3lt_multiclass'\n",
    "\n",
    "n = 100\n",
    "factuals_pert = {}    \n",
    "indices_pert = {}\n",
    "\n",
    "for noise_level in noise_levels:\n",
    "    factuals_pert[noise_level] = perturb_sample(factuals, n_samples=1, noise_magnitude=noise_level)\n",
    "    pert_sample = torch.Tensor(factuals_pert[noise_level])\n",
    "\n",
    "    # Check whether perturbed instances lead to the same class prediction\n",
    "    predictions = torch.argmax(baseline_classifier(pert_sample.to(device)), axis=1).detach().cpu()\n",
    "    indices = np.where(predictions == labels)[0]\n",
    "    print(f'Number of valid perturbed factuals for the added noise level {noise_level}: ', indices.shape[0])\n",
    "    pert_sample = pert_sample[indices] \n",
    "    indices_pert[noise_level] = indices"
   ]
  },
  {
   "cell_type": "code",
   "execution_count": 30,
   "metadata": {},
   "outputs": [],
   "source": [
    "final_indices = reduce(np.intersect1d, (valid_indices, *list(indices_pert.values())))[:n]\n",
    "factuals = factuals[final_indices] \n",
    "factuals_pert = {k : v[final_indices] for k, v in factuals_pert.items()}\n",
    "\n",
    "with open(osp.join(save_dir, 'factuals.pkl'), 'wb') as f:\n",
    "    pickle.dump(factuals, f)\n",
    "\n",
    "for noise_level in noise_levels:\n",
    "    with open(osp.join(save_dir, f'factuals_perturbed_noise_{noise_level}.pkl'), 'wb') as f:\n",
    "        pickle.dump(factuals_pert[noise_level], f)"
   ]
  },
  {
   "cell_type": "code",
   "execution_count": 32,
   "metadata": {},
   "outputs": [],
   "source": [
    "mappers = {2: g_2, 6: g_6}"
   ]
  },
  {
   "cell_type": "code",
   "execution_count": 62,
   "metadata": {},
   "outputs": [
    {
     "data": {
      "image/png": "[encoded data removed]",
      "text/plain": [
       "<Figure size 1000x400 with 10 Axes>"
      ]
     },
     "metadata": {},
     "output_type": "display_data"
    }
   ],
   "source": [
    "ind = 35\n",
    "\n",
    "fig, axs = plt.subplots(2, 5, figsize=(10, 4))\n",
    "for i in range(2):\n",
    "    for j in range(5):\n",
    "        noise = noise_levels[j]\n",
    "        if i == 0: \n",
    "            pert_image = factuals_pert[noise][ind].squeeze().squeeze() #perturb_sample(factuals_tensor[ind].unsqueeze(0), noise_magnitude=noise).squeeze().squeeze()\n",
    "            axs[i, j].imshow(pert_image, cmap='gray')\n",
    "            axs[i, j].set_title('$\\\\epsilon$='+str(noise)) \n",
    "            axs[i, j].axis('off')\n",
    "        else:\n",
    "            pert_sample = torch.Tensor(factuals_pert[noise]).to(device)\n",
    "            latent_code_pert = encoder(pert_sample)\n",
    "            mapper = mappers[labels[ind].item()]\n",
    "            mapping_pert = mapper(latent_code_pert)\n",
    "            cfes_pert_sample = gen(mapping_pert)\n",
    "            axs[i, j].imshow(cfes_pert_sample[ind].detach().cpu().numpy().transpose(1, 2, 0), cmap='gray')"
   ]
  },
  {
   "cell_type": "code",
   "execution_count": 16,
   "metadata": {},
   "outputs": [
    {
     "name": "stdout",
     "output_type": "stream",
     "text": [
      "100 factual instances were loaded.\n"
     ]
    }
   ],
   "source": [
    "# with open('/data/leuven/365/vsc36567/Counterfactual-Robustness-Benchmark/counterfactuals/c3lt_multi/factuals.pkl', 'rb') as f:\n",
    "#     factuals = pickle.load(f)\n",
    "#     print(f'{factuals.shape[0]} factual instances were loaded.')"
   ]
  },
  {
   "cell_type": "code",
   "execution_count": 22,
   "metadata": {},
   "outputs": [],
   "source": [
    "# factuals_pert = {}\n",
    "# save_dir = '/data/leuven/365/vsc36567/Counterfactual-Robustness-Benchmark/counterfactuals/c3lt_multi'\n",
    "\n",
    "# for noise_level in noise_levels:\n",
    "#     with open(osp.join(save_dir, f'factuals_perturbed_noise_{noise_level}.pkl'), 'rb') as f:\n",
    "#         factuals_pert[noise_level] = pickle.load(f)"
   ]
  },
  {
   "cell_type": "markdown",
   "metadata": {},
   "source": [
    "Generate counterfcatual explanations"
   ]
  },
  {
   "cell_type": "code",
   "execution_count": 38,
   "metadata": {},
   "outputs": [
    {
     "data": {
      "text/plain": [
       "torch.Size([100, 1, 28, 28])"
      ]
     },
     "execution_count": 38,
     "metadata": {},
     "output_type": "execute_result"
    }
   ],
   "source": [
    "mappers = {2: g_2, 6: g_6}\n",
    "\n",
    "cfes = []\n",
    "factuals = factuals.to(device)\n",
    "latent_codes = encoder(factuals)\n",
    "for idx, latent_code in enumerate(latent_codes):\n",
    "    mapper = mappers[labels[idx].item()]\n",
    "    map_to_target_class = mapper(latent_code.unsqueeze(0))\n",
    "    cfes.append(gen(map_to_target_class))\n",
    "cfes = torch.concat(cfes)\n",
    "cfes.shape"
   ]
  },
  {
   "cell_type": "code",
   "execution_count": 39,
   "metadata": {},
   "outputs": [],
   "source": [
    "# factuals = factuals.to(device)\n",
    "# latent_code = encoder(factuals)\n",
    "# map_to_target_class = g(latent_code)\n",
    "# cfes = gen(map_to_target_class)"
   ]
  },
  {
   "cell_type": "code",
   "execution_count": 39,
   "metadata": {},
   "outputs": [],
   "source": [
    "cfes_pert = {}\n",
    "\n",
    "for noise_level in noise_levels:\n",
    "    cfes_list = []\n",
    "    pert_sample = torch.Tensor(factuals_pert[noise_level]).to(device)\n",
    "    latent_codes_pert = encoder(pert_sample)\n",
    "    for idx, latent_code_pert in enumerate(latent_codes_pert):\n",
    "        mapper = mappers[labels[idx].item()]\n",
    "        map_to_target_class = mapper(latent_code_pert.unsqueeze(0))\n",
    "        cfes_list.append(gen(map_to_target_class))\n",
    "\n",
    "    cfes_pert[noise_level] = torch.concat(cfes_list)"
   ]
  },
  {
   "cell_type": "code",
   "execution_count": 64,
   "metadata": {},
   "outputs": [
    {
     "data": {
      "image/png": "[encoded data removed]",
      "text/plain": [
       "<Figure size 1000x400 with 10 Axes>"
      ]
     },
     "metadata": {},
     "output_type": "display_data"
    }
   ],
   "source": [
    "import matplotlib.pyplot as plt\n",
    "\n",
    "n_rows = 2\n",
    "n_cols = 5\n",
    "\n",
    "ind = 10\n",
    "\n",
    "fig, axs = plt.subplots(n_rows, n_cols, figsize=(10, 4))\n",
    "for i in range(n_rows):\n",
    "    for j in range(n_cols):\n",
    "        noise = noise_levels[j]\n",
    "        if i == 0: \n",
    "            pert_image = factuals_pert[noise][ind].squeeze().squeeze() #perturb_sample(factuals_tensor[ind].unsqueeze(0), noise_magnitude=noise).squeeze().squeeze()\n",
    "            axs[i, j].imshow(pert_image, cmap='gray')\n",
    "            axs[i, j].set_title('$\\\\epsilon$='+str(noise)) \n",
    "            axs[i, j].axis('off')\n",
    "        # elif i == 1:\n",
    "        #     axs[i, j].imshow(cfes[ind].squeeze().detach().cpu(), cmap='gray')\n",
    "        #     axs[i, j].axis('off')\n",
    "        #     axs[i, j].set_ylabel('CFE /wo noise')\n",
    "        else:\n",
    "            axs[i, j].imshow(cfes_pert[noise][ind].detach().cpu().numpy().transpose(1, 2, 0), cmap='gray')\n",
    "            # axs[i, j].set_title('epsilon='+str(noise)) \n",
    "            axs[i, j].axis('off')\n",
    "            axs[i, j].set_ylabel('CFE /w noise')\n",
    "plt.show()"
   ]
  },
  {
   "cell_type": "code",
   "execution_count": 42,
   "metadata": {},
   "outputs": [
    {
     "name": "stdout",
     "output_type": "stream",
     "text": [
      "Validity of the generated explanations: 1.0\n"
     ]
    }
   ],
   "source": [
    "validity = np.where(torch.argmax(baseline_classifier(cfes), axis=1).detach().cpu() == 2)[0]\n",
    "validity = validity.shape[0] / cfes.shape[0]\n",
    "print('Validity of the generated explanations:', validity)"
   ]
  },
  {
   "cell_type": "code",
   "execution_count": 44,
   "metadata": {},
   "outputs": [
    {
     "name": "stdout",
     "output_type": "stream",
     "text": [
      "Validity for the added noise level 0.001:  1.0\n",
      "Validity for the added noise level 0.0025:  1.0\n",
      "Validity for the added noise level 0.005:  1.0\n",
      "Validity for the added noise level 0.0075:  1.0\n",
      "Validity for the added noise level 0.01:  1.0\n"
     ]
    }
   ],
   "source": [
    "target_class = 2\n",
    "\n",
    "validity_dict = {}\n",
    "for noise_level in noise_levels:\n",
    "    predictions = torch.argmax(baseline_classifier(torch.Tensor(cfes_pert[noise_level])), axis=1).detach().cpu()\n",
    "    indices = np.where(predictions == target_class)[0]\n",
    "    validity = indices.shape[0] / predictions.shape[0]\n",
    "    validity_dict[noise_level] = validity\n",
    "    print(f'Validity for the added noise level {noise_level}: ',  validity)\n",
    "\n",
    "with open(osp.join(save_dir, f'c3lt_validity.pkl'), 'wb') as f:\n",
    "        pickle.dump(validity_dict, f)"
   ]
  },
  {
   "cell_type": "code",
   "execution_count": 41,
   "metadata": {},
   "outputs": [],
   "source": [
    "# cfes_pert = {}\n",
    "\n",
    "# for noise_level in noise_levels:\n",
    "#     pert_sample = torch.Tensor(factuals_pert[noise_level]).to(device)\n",
    "#     latent_code_pert = encoder(pert_sample)\n",
    "#     mapping_pert = g(latent_code_pert)\n",
    "#     cfes_pert[noise_level] = gen(mapping_pert) "
   ]
  },
  {
   "cell_type": "code",
   "execution_count": 45,
   "metadata": {},
   "outputs": [
    {
     "data": {
      "image/png": "[encoded data removed]",
      "text/plain": [
       "<Figure size 1000x400 with 15 Axes>"
      ]
     },
     "metadata": {},
     "output_type": "display_data"
    }
   ],
   "source": [
    "import matplotlib.pyplot as plt\n",
    "\n",
    "n_rows = 3\n",
    "n_cols = 5\n",
    "\n",
    "ind = 15\n",
    "\n",
    "# factuals_pert = {}    \n",
    "\n",
    "# for noise_level in noise_levels:\n",
    "#     factuals_pert[noise_level] = perturb_sample(factuals_tensor, n_samples=1, noise_magnitude=noise_level)\n",
    "\n",
    "fig, axs = plt.subplots(n_rows, n_cols, figsize=(10, 4))\n",
    "for i in range(n_rows):\n",
    "    for j in range(n_cols):\n",
    "        noise = noise_levels[j]\n",
    "        if i == 0: \n",
    "            pert_image = factuals_pert[noise][ind].squeeze().squeeze() #perturb_sample(factuals_tensor[ind].unsqueeze(0), noise_magnitude=noise).squeeze().squeeze()\n",
    "            axs[i, j].imshow(pert_image, cmap='gray')\n",
    "            axs[i, j].set_title('epsilon='+str(noise)) \n",
    "            axs[i, j].axis('off')\n",
    "        elif i == 1:\n",
    "            axs[i, j].imshow(cfes[ind].squeeze().detach().cpu(), cmap='gray')\n",
    "            axs[i, j].axis('off')\n",
    "            axs[i, j].set_ylabel('CFE /wo noise')\n",
    "        else:\n",
    "            axs[i, j].imshow(cfes_pert[noise][ind].detach().cpu().numpy().transpose(1, 2, 0), cmap='gray')\n",
    "            # axs[i, j].set_title('epsilon='+str(noise)) \n",
    "            axs[i, j].axis('off')\n",
    "            axs[i, j].set_ylabel('CFE /w noise')\n",
    "plt.show()"
   ]
  },
  {
   "cell_type": "code",
   "execution_count": 43,
   "metadata": {},
   "outputs": [
    {
     "name": "stdout",
     "output_type": "stream",
     "text": [
      "Validity for the added noise level 0.001:  1.0\n",
      "Validity for the added noise level 0.0025:  1.0\n",
      "Validity for the added noise level 0.005:  1.0\n",
      "Validity for the added noise level 0.0075:  1.0\n",
      "Validity for the added noise level 0.01:  1.0\n"
     ]
    }
   ],
   "source": [
    "target_class = 1\n",
    "\n",
    "validity_dict = {}\n",
    "for noise_level in noise_levels:\n",
    "    predictions = torch.argmax(baseline_classifier(torch.Tensor(cfes_pert[noise_level])), axis=1).detach().cpu()\n",
    "    indices = np.where(predictions == target_class)[0]\n",
    "    validity = indices.shape[0] / predictions.shape[0]\n",
    "    validity_dict[noise_level] = validity\n",
    "    print(f'Validity for the added noise level {noise_level}: ',  validity)\n",
    "\n",
    "with open(osp.join(save_dir, \n",
    "        f'c3lt_fmnist_0_4_validity.pkl'), 'wb') as f:\n",
    "        pickle.dump(validity_dict, f)"
   ]
  },
  {
   "cell_type": "code",
   "execution_count": 47,
   "metadata": {},
   "outputs": [],
   "source": [
    "from src.evaluation.local_instability import calculate_sparsity, calculate_ssim\n",
    "from src.utils.visualization import plot_boxplot"
   ]
  },
  {
   "cell_type": "code",
   "execution_count": 48,
   "metadata": {},
   "outputs": [],
   "source": [
    "instability_l1_list = []\n",
    "ssim_list = []\n",
    "\n",
    "for noise_level, cfe_pert_list in cfes_pert.items():\n",
    "    # print('noise level:', noise_level)\n",
    "    l1_temp = []\n",
    "    ssim_temp = []\n",
    "    for i in range(len(cfes)):\n",
    "        cf = cfes[i].detach().cpu()\n",
    "        cf_pert = cfe_pert_list[i].detach().cpu()\n",
    "\n",
    "        if len(cf) == 0:\n",
    "            continue\n",
    "        if len(cf_pert) == 0:\n",
    "            continue\n",
    "\n",
    "        cf_tensor = torch.Tensor(cf)\n",
    "        cf = cf_tensor.permute(1, 2, 0).flatten()\n",
    "\n",
    "        cf_pert_tensor = torch.Tensor(cf_pert)\n",
    "        cf_perturbed = cf_pert_tensor.permute(1, 2, 0).flatten()        \n",
    "\n",
    "        l1_distance = sum(abs(cf - cf_perturbed)) # np.linalg.norm(cf.flatten() - cf_perturbed.flatten(), ord=1)\n",
    "        l1_temp.append(l1_distance)\n",
    "\n",
    "        ssim = calculate_ssim(cf_tensor.unsqueeze(0), cf_pert_tensor.unsqueeze(0)).item()\n",
    "        ssim_temp.append(ssim)\n",
    "\n",
    "    instability_l1_list.append(l1_temp)\n",
    "    ssim_list.append(ssim_temp)\n",
    "        \n",
    "\n",
    "# output_dir = r'/data/leuven/365/vsc36567/Counterfactual-Robustness-Benchmark/output/c3lt_binary'\n",
    "\n",
    "with open(osp.join(save_dir, f'c3lt_li_l1.pkl'), 'wb') as f:\n",
    "    pickle.dump(instability_l1_list, f)\n",
    "\n",
    "with open(osp.join(save_dir, f'c3lt_ssim.pkl'), 'wb') as f:\n",
    "    pickle.dump(ssim_list, f)"
   ]
  },
  {
   "cell_type": "code",
   "execution_count": 49,
   "metadata": {},
   "outputs": [
    {
     "data": {
      "image/png": "[encoded data removed]",
      "text/plain": [
       "<Figure size 800x550 with 1 Axes>"
      ]
     },
     "metadata": {},
     "output_type": "display_data"
    }
   ],
   "source": [
    "plt.style.use(\"seaborn-v0_8\")\n",
    "\n",
    "\n",
    "plot_boxplot(data=instability_l1_list, mean_values=np.round(np.mean(instability_l1_list, axis=1), 2),\n",
    "             tick_labels=[f'eps={noise_level}' for noise_level in noise_levels],\n",
    "             y_label='Local Instability', colors=['lightyellow'], title='L1 distance between CFEs of similar inputs')"
   ]
  },
  {
   "cell_type": "code",
   "execution_count": 50,
   "metadata": {},
   "outputs": [
    {
     "data": {
      "image/png": "[encoded data removed]",
      "text/plain": [
       "<Figure size 800x400 with 1 Axes>"
      ]
     },
     "metadata": {},
     "output_type": "display_data"
    }
   ],
   "source": [
    "plt.rcParams['figure.figsize'] = [8, 4]\n",
    "\n",
    "plot_boxplot(data=ssim_list, mean_values=np.round(np.mean(ssim_list, axis=1), 2),\n",
    "             tick_labels=[f'eps={noise_level}' for noise_level in noise_levels],\n",
    "             y_label='Local Instability', colors=['lightgreen'], title='SSIM between CFEs of similar inputs')"
   ]
  },
  {
   "cell_type": "markdown",
   "metadata": {},
   "source": [
    "## Local Lipschitz Continuity"
   ]
  },
  {
   "cell_type": "code",
   "execution_count": 30,
   "metadata": {},
   "outputs": [
    {
     "name": "stdout",
     "output_type": "stream",
     "text": [
      "Are the lengths of initial points (factuals) and CFEs generated for them equal : True\n"
     ]
    }
   ],
   "source": [
    "original_points = factuals # factuals_tensor[:n]\n",
    "original_cfes = cfes\n",
    "print(\"Are the lengths of initial points (factuals) and CFEs generated for them equal :\", len(original_cfes) == original_points.shape[0])\n"
   ]
  },
  {
   "cell_type": "code",
   "execution_count": 31,
   "metadata": {},
   "outputs": [
    {
     "name": "stderr",
     "output_type": "stream",
     "text": [
      "30it [00:00, 20760.46it/s]\n",
      "30it [00:00, 21432.31it/s]\n",
      "30it [00:00, 25564.63it/s]\n",
      "30it [00:00, 26681.32it/s]\n",
      "30it [00:00, 21254.92it/s]\n",
      "30it [00:00, 21355.93it/s]\n",
      "30it [00:00, 26296.58it/s]\n",
      "30it [00:00, 9171.22it/s]\n",
      "30it [00:00, 22729.25it/s]\n",
      "30it [00:00, 26357.17it/s]\n",
      "30it [00:00, 22223.44it/s]\n",
      "30it [00:00, 21898.56it/s]\n",
      "30it [00:00, 22353.73it/s]\n",
      "30it [00:00, 21998.10it/s]\n",
      "30it [00:00, 22700.54it/s]\n",
      "30it [00:00, 22117.97it/s]\n",
      "30it [00:00, 26143.59it/s]\n",
      "30it [00:00, 22509.68it/s]\n",
      "30it [00:00, 22623.00it/s]\n",
      "30it [00:00, 22558.11it/s]\n",
      "30it [00:00, 22708.74it/s]\n",
      "30it [00:00, 23168.68it/s]\n",
      "30it [00:00, 25960.21it/s]\n",
      "30it [00:00, 22219.52it/s]\n",
      "30it [00:00, 22437.43it/s]\n",
      "30it [00:00, 22353.73it/s]\n",
      "30it [00:00, 22623.00it/s]\n",
      "30it [00:00, 22680.09it/s]\n",
      "30it [00:00, 22778.62it/s]\n",
      "30it [00:00, 4984.52it/s]\n",
      "30it [00:00, 22610.80it/s]\n",
      "30it [00:00, 22725.14it/s]\n",
      "30it [00:00, 22659.67it/s]\n",
      "30it [00:00, 22341.82it/s]\n",
      "30it [00:00, 22795.13it/s]\n",
      "30it [00:00, 22433.43it/s]\n",
      "30it [00:00, 26551.83it/s]\n",
      "30it [00:00, 22944.77it/s]\n",
      "30it [00:00, 22322.00it/s]\n",
      "30it [00:00, 22558.11it/s]\n",
      "30it [00:00, 26886.56it/s]\n",
      "30it [00:00, 26703.97it/s]\n",
      "30it [00:00, 21932.91it/s]\n",
      "30it [00:00, 26641.78it/s]\n",
      "30it [00:00, 22278.53it/s]\n",
      "30it [00:00, 16037.36it/s]\n",
      "30it [00:00, 21605.27it/s]\n",
      "30it [00:00, 20968.03it/s]\n",
      "30it [00:00, 19334.53it/s]\n",
      "30it [00:00, 19716.25it/s]\n",
      "50it [00:10,  4.57it/s]\n"
     ]
    }
   ],
   "source": [
    "from tqdm import tqdm\n",
    "\n",
    "\n",
    "i = 0\n",
    "lip_estimates = []\n",
    "noise_magnitude = 0.001\n",
    "\n",
    "original_points = original_points.detach().cpu()\n",
    "original_cfes = original_cfes.detach().cpu()\n",
    "for original_point, original_cfe in tqdm(zip(original_points[:50], original_cfes[:50])):\n",
    "\n",
    "    neighbor_points = perturb_sample(original_point.unsqueeze(0), n_samples=30, noise_magnitude=noise_magnitude) \n",
    "    neighbor_points = torch.Tensor(neighbor_points)  \n",
    "    latent_vector = encoder(neighbor_points.to(device))\n",
    "    mapping_pert = g(latent_vector)\n",
    "    neighbor_cfes = gen(mapping_pert).detach().cpu() \n",
    "    \n",
    "\n",
    "    lip_estimate = 0\n",
    "    for m, p in tqdm(zip(neighbor_cfes, neighbor_points)):\n",
    "        # lip = np.linalg.norm(original_cfe - m) / np.linalg.norm(original_point - p)\n",
    "        num = np.linalg.norm((original_cfe - m).flatten(), ord=2) \n",
    "        denom = np.linalg.norm((original_point - p).flatten(), ord=2)\n",
    "        lip = num / denom\n",
    "        lip_estimate = max(lip, lip_estimate)\n",
    " \n",
    "    lip_estimates.append(lip_estimate.item())\n",
    "    i += 1"
   ]
  },
  {
   "cell_type": "code",
   "execution_count": 32,
   "metadata": {},
   "outputs": [],
   "source": [
    "output_dir = r'/vsc-hard-mounts/leuven-data/365/vsc36567/Counterfactual-Robustness-Benchmark/output/c3lt_binary'\n",
    "with open(osp.join(output_dir, f'c3lt_lle.pkl'), 'wb') as f:\n",
    "        pickle.dump(lip_estimates, f)"
   ]
  },
  {
   "cell_type": "code",
   "execution_count": 33,
   "metadata": {},
   "outputs": [
    {
     "data": {
      "image/png": "[encoded data removed]",
      "text/plain": [
       "<Figure size 600x400 with 1 Axes>"
      ]
     },
     "metadata": {},
     "output_type": "display_data"
    }
   ],
   "source": [
    "plt.rcParams['figure.figsize'] = [6, 4]\n",
    "plot_boxplot(data=lip_estimates, mean_values=[np.round(np.mean(lip_estimates), 5)],\n",
    "             tick_labels=[f''],\n",
    "             y_label='Local Lipschitz Continuity', colors=['lightpink'], title='')"
   ]
  },
  {
   "cell_type": "code",
   "execution_count": null,
   "metadata": {},
   "outputs": [],
   "source": []
  },
  {
   "cell_type": "markdown",
   "metadata": {},
   "source": [
    "## Invalidation Rate"
   ]
  },
  {
   "cell_type": "code",
   "execution_count": 52,
   "metadata": {},
   "outputs": [
    {
     "name": "stdout",
     "output_type": "stream",
     "text": [
      "Accuracy for the test dataset: 81.176%\n",
      "Accuracy for the test dataset: 80.680%\n",
      "Accuracy for the test dataset: 81.052%\n",
      "Accuracy for the test dataset: 81.597%\n",
      "Accuracy for the test dataset: 79.886%\n",
      "Accuracy for the test dataset: 81.076%\n",
      "Accuracy for the test dataset: 79.712%\n",
      "Accuracy for the test dataset: 81.672%\n",
      "Accuracy for the test dataset: 80.556%\n",
      "Accuracy for the test dataset: 80.630%\n"
     ]
    }
   ],
   "source": [
    "classifiers_weights_dir = r'/data/leuven/365/vsc36567/CF-Robustness-Benchmark/notebooks/experiments/fmnist_classification/multiclass/checkpoints/mc_all'\n",
    "\n",
    "\n",
    "classifiers_list = []\n",
    "for clf_weights in os.listdir(classifiers_weights_dir):\n",
    "    cnn_perturbed = SimpleCNNtorch(**args.classifier_args)\n",
    "    # load_model_weights(model=cnn_perturbed, weights_path=osp.join(classifiers_weights_dir, clf_weights))\n",
    "    checkpoint = torch.load(\n",
    "                    osp.join(classifiers_weights_dir, clf_weights), weights_only=False,\n",
    "                    map_location=torch.device(device)\n",
    "                )\n",
    "            \n",
    "    cnn_perturbed.load_state_dict(checkpoint)\n",
    "    classifiers_list.append(cnn_perturbed)\n",
    "    evaluate_classification_model(cnn_perturbed, dataloader=test_loader, num_classes=config.data.num_classes)"
   ]
  },
  {
   "cell_type": "code",
   "execution_count": 58,
   "metadata": {},
   "outputs": [
    {
     "name": "stdout",
     "output_type": "stream",
     "text": [
      "Model 0: IR=0.0, validity=1.0\n",
      "\n",
      "Model 1: IR=0.0, validity=1.0\n",
      "\n",
      "Model 2: IR=0.0, validity=1.0\n",
      "\n",
      "Model 3: IR=0.0, validity=1.0\n",
      "\n",
      "Model 4: IR=0.0, validity=1.0\n",
      "\n",
      "Model 5: IR=0.0, validity=1.0\n",
      "\n",
      "Model 6: IR=0.0, validity=1.0\n",
      "\n",
      "Model 7: IR=0.0, validity=1.0\n",
      "\n",
      "Model 8: IR=0.0, validity=1.0\n",
      "\n",
      "Model 9: IR=0.0, validity=1.0\n",
      "\n",
      "Average IR : 0.000 +- 0.000\n",
      "Average VaR : 1.000 +- 0.000\n"
     ]
    }
   ],
   "source": [
    "target_class = 2\n",
    "validity_list = []\n",
    "invalidation_rate_list = []\n",
    "device = 'cuda' if torch.cuda.is_available() else 'cpu'\n",
    "\n",
    "for i, classifier in enumerate(classifiers_list):\n",
    "    validity = 0\n",
    "    invalidation_rate = 0\n",
    "    total_found_cfs = 0\n",
    "    \n",
    "    classifier.eval()\n",
    "    with torch.no_grad():\n",
    "        classifier = classifier.to(device)\n",
    "\n",
    "        baseline_pred = torch.argmax(baseline_classifier(cfes), axis=1)\n",
    "        alternative_pred = torch.argmax(classifier(cfes), axis=1)\n",
    "    \n",
    "    invalidation_rate = np.where(baseline_pred.detach().cpu() != alternative_pred.detach().cpu())[0].shape[0] / baseline_pred.shape[0]\n",
    "    validity = np.where(alternative_pred.detach().cpu() == target_class)[0].shape[0] / alternative_pred.shape[0]\n",
    "\n",
    "    # invalidation_rate /= total_found_cfs\n",
    "    invalidation_rate_list.append(invalidation_rate)\n",
    "    validity_list.append(validity)\n",
    "    print(f'Model {i}: IR={invalidation_rate}, validity={validity}\\n')\n",
    "\n",
    "print('Average IR : {:.3f} +- {:.3f}'.format(np.mean(invalidation_rate_list), np.std(invalidation_rate_list)))\n",
    "print('Average VaR : {:.3f} +- {:.3f}'.format(np.mean(validity_list), np.std(validity_list)))"
   ]
  },
  {
   "cell_type": "markdown",
   "metadata": {},
   "source": [
    "## Stability\n"
   ]
  },
  {
   "cell_type": "code",
   "execution_count": 54,
   "metadata": {},
   "outputs": [],
   "source": [
    "import torch.nn.functional as F"
   ]
  },
  {
   "cell_type": "code",
   "execution_count": 59,
   "metadata": {},
   "outputs": [
    {
     "data": {
      "text/plain": [
       "2"
      ]
     },
     "execution_count": 59,
     "metadata": {},
     "output_type": "execute_result"
    }
   ],
   "source": [
    "target_class"
   ]
  },
  {
   "cell_type": "code",
   "execution_count": 60,
   "metadata": {},
   "outputs": [
    {
     "name": "stdout",
     "output_type": "stream",
     "text": [
      "Stability of the model 0: 0.98 +- 0.0\n",
      "Stability of the model 1: 0.994 +- 0.0\n",
      "Stability of the model 2: 0.993 +- 0.0\n",
      "Stability of the model 3: 0.997 +- 0.0\n",
      "Stability of the model 4: 0.996 +- 0.0\n",
      "Stability of the model 5: 0.995 +- 0.0\n",
      "Stability of the model 6: 0.996 +- 0.0\n",
      "Stability of the model 7: 0.997 +- 0.0\n",
      "Stability of the model 8: 0.997 +- 0.0\n",
      "Stability of the model 9: 0.994 +- 0.0\n"
     ]
    }
   ],
   "source": [
    "k = 1000\n",
    "sigma = 0.001\n",
    "device = 'cuda' if torch.cuda.is_available() else 'cpu'\n",
    "\n",
    "average_stability_list = []\n",
    "for i, classifier in enumerate(classifiers_list):\n",
    "    stability_list = []\n",
    "    for cfe in cfes:\n",
    "\n",
    "        cfe = torch.Tensor(cfe).unsqueeze(0).detach().cpu()\n",
    "        cfe_sampled = torch.Tensor(perturb_sample(cfe, n_samples=k, noise_magnitude=sigma))\n",
    "\n",
    "        with torch.no_grad():\n",
    "            cf_logits = classifier(cfe.to(device))\n",
    "            cf_probabilities = F.softmax(cf_logits, dim=-1)[:, target_class]\n",
    "\n",
    "            cf_sampled_logits = classifier(cfe_sampled.to(device))\n",
    "            cf_sampled_probabilities = F.softmax(cf_sampled_logits, dim=-1)[:, target_class]\n",
    "        \n",
    "        model_variance = abs(cf_probabilities - cf_sampled_probabilities)\n",
    "\n",
    "        stability = (cf_sampled_probabilities - model_variance).mean()\n",
    "        stability_list.append(stability.item())\n",
    "\n",
    "    avg_i_stability = np.mean(stability_list)\n",
    "    print(f'Stability of the model {i}: {round(avg_i_stability.item(), 3)} +- {round(np.std(stability_list).item(), 2)}')\n",
    "    average_stability_list.append(avg_i_stability) "
   ]
  },
  {
   "cell_type": "code",
   "execution_count": 61,
   "metadata": {},
   "outputs": [
    {
     "name": "stdout",
     "output_type": "stream",
     "text": [
      "Average stability over 10 models: 0.994\n"
     ]
    }
   ],
   "source": [
    "print(f'Average stability over {len(classifiers_list)} models:', np.mean(average_stability_list).round(4))"
   ]
  },
  {
   "cell_type": "code",
   "execution_count": null,
   "metadata": {},
   "outputs": [],
   "source": []
  }
 ],
 "metadata": {
  "kernelspec": {
   "display_name": "venv",
   "language": "python",
   "name": "python3"
  },
  "language_info": {
   "codemirror_mode": {
    "name": "ipython",
    "version": 3
   },
   "file_extension": ".py",
   "mimetype": "text/x-python",
   "name": "python",
   "nbconvert_exporter": "python",
   "pygments_lexer": "ipython3",
   "version": "3.12.4"
  }
 },
 "nbformat": 4,
 "nbformat_minor": 2
}
