{
 "cells": [
  {
   "cell_type": "code",
   "execution_count": 59,
   "metadata": {},
   "outputs": [],
   "source": [
    "import os\n",
    "import argparse\n",
    "import numpy as np\n",
    "import os.path as osp\n",
    "from copy import deepcopy\n",
    "from easydict import EasyDict as edict\n",
    "import matplotlib.pyplot as plt\n",
    "\n",
    "import torch\n",
    "import torch.nn as nn\n",
    "from torch.utils.data import DataLoader\n",
    "import torch.nn.functional as F\n",
    "\n",
    "from src.cf_methods import c3lt \n",
    "from src.datasets import DatasetBuilder\n",
    "\n",
    "from src.models.classifiers import SimpleCNNtorch\n",
    "from src.evaluation.local_instability import perturb_sample\n",
    "from src.utils import extract_factual_instances, filter_valid_factuals\n",
    "from src.utils import seed_everything, get_config, load_model_weights\n",
    "from src.utils import evaluate_classification_model, plot_boxplot"
   ]
  },
  {
   "cell_type": "code",
   "execution_count": 2,
   "metadata": {},
   "outputs": [],
   "source": [
    "seed_everything()"
   ]
  },
  {
   "cell_type": "code",
   "execution_count": 3,
   "metadata": {},
   "outputs": [],
   "source": [
    "import sys\n",
    "sys.argv = ['']"
   ]
  },
  {
   "cell_type": "code",
   "execution_count": 10,
   "metadata": {},
   "outputs": [],
   "source": [
    "repo_path = '/data/leuven/365/vsc36567/CF-Robustness-Benchmark'\n",
    "config_path = 'configs/revise_fmnist_binary.yaml'\n",
    "config = get_config(osp.join(repo_path, config_path))"
   ]
  },
  {
   "cell_type": "code",
   "execution_count": 11,
   "metadata": {},
   "outputs": [],
   "source": [
    "config.data.classes = [0, 2, 4, 6]\n",
    "config.data.num_classes = len(config.data.classes)\n",
    "ds_builder = DatasetBuilder(config)\n",
    "ds_builder.setup()\n",
    "train_loader, val_loader, test_loader = ds_builder.get_dataloaders()"
   ]
  },
  {
   "cell_type": "code",
   "execution_count": 12,
   "metadata": {},
   "outputs": [],
   "source": [
    "# Create an args object to pass all relevant parameters \n",
    "weights_dir = '/data/leuven/365/vsc36567/CF-Robustness-Benchmark/src/cf_methods/c3lt/weights/fmnist'\n",
    "# '/data/leuven/365/vsc36567/Counterfactual-Robustness-Benchmark/src/recourse_methods/c3lt/weights'\n",
    "clf_dir = '/data/leuven/365/vsc36567/CF-Robustness-Benchmark/notebooks/experiments/fmnist_classification/multiclass/checkpoints'\n",
    "# '/data/leuven/365/vsc36567/Counterfactual-Robustness-Benchmark/src/models/weights'\n",
    "log_path ='/data/leuven/365/vsc36567/CF-Robustness-Benchmark/cf_output/fmnist/c3lt_multiclass'\n",
    "\n",
    "args = c3lt.args.init_parser()\n",
    "args.device = \"cuda\" if torch.cuda.is_available() else \"cpu\"\n",
    "args.log_path = log_path\n",
    "args.gen_path = osp.join(weights_dir, 'generator_fmnist.pth')\n",
    "args.disc_path = osp.join(weights_dir, 'discriminator_fmnist.pth')\n",
    "args.enc_path = osp.join(weights_dir, 'encoder_fmnist.pth')\n",
    "args.cls_path = osp.join(clf_dir, 'fmnist__epoch=12_val_accuracy=0.84.pth')\n",
    "args.dataset_path = '/data/leuven/365/vsc36567/CF-Robustness-Benchmark/data'\n",
    "args.cls_1 = 0  # 6\n",
    "args.cls_2 = 2  # 4\n",
    "args.num_classes = 2\n",
    "args.classifier_args={**config.classifier.args, \n",
    "                    'num_classes': config.data.num_classes,\n",
    "                    'img_size': config.data.img_size\n",
    "}\n",
    "args.ndf=32\n",
    "args.epochs=110\n",
    "# args.cls_type = 'bce'\n",
    "args.extracted_layers = ['main']\n",
    "args.output = '/data/leuven/365/vsc36567/CF-Robustness-Benchmark/cf_output/fmnist/c3lt_multiclass/results'"
   ]
  },
  {
   "cell_type": "code",
   "execution_count": 13,
   "metadata": {},
   "outputs": [],
   "source": [
    "def dataloader_pair(args, dataset, is_train):\n",
    "    \"\"\"\n",
    "        returns dataloaders for a class pair.\n",
    "\n",
    "    :param args:\n",
    "    :param is_train:\n",
    "    :return:\n",
    "    \"\"\"\n",
    "    dataset_1 = deepcopy(dataset)\n",
    "    dataset_2 = deepcopy(dataset)\n",
    "\n",
    "    # extract samples only of class 1\n",
    "    idx_1 = dataset_1.data.targets == args.cls_1\n",
    "    dataset_1.data.data = dataset_1.data.data[idx_1]\n",
    "    dataset_1.data.targets = dataset_1.data.targets[idx_1]\n",
    "\n",
    "    # extract samples only of class 2\n",
    "    idx_2 = dataset_2.data.targets == args.cls_2\n",
    "    dataset_2.data.data = dataset_2.data.data[idx_2]\n",
    "    dataset_2.data.targets = dataset_2.data.targets[idx_2]\n",
    "\n",
    "    dataloader_1 = DataLoader(dataset_1, batch_size=args.batch_size,\n",
    "                              shuffle=is_train, pin_memory=True, drop_last=False)\n",
    "    dataloader_2 = DataLoader(dataset_2, batch_size=args.batch_size,\n",
    "                              shuffle=is_train, pin_memory=True, drop_last=False)\n",
    "\n",
    "    return  dataloader_1, dataloader_2"
   ]
  },
  {
   "cell_type": "code",
   "execution_count": 14,
   "metadata": {},
   "outputs": [],
   "source": [
    "dataloaders = dataloader_pair(args, ds_builder.train_dataset, is_train=True)\n",
    "dataloaders_test = dataloader_pair(args, ds_builder.test_dataset, is_train=False)"
   ]
  },
  {
   "cell_type": "markdown",
   "metadata": {},
   "source": [
    "# Training"
   ]
  },
  {
   "cell_type": "code",
   "execution_count": 21,
   "metadata": {},
   "outputs": [
    {
     "name": "stdout",
     "output_type": "stream",
     "text": [
      "Generator loaded!\n",
      "Discriminator loaded!\n",
      "Encoder loaded!\n",
      "Classifier loaded!\n",
      "\n",
      "Training Starts...\n",
      "\n",
      "[Epoch 0/110] [TRAIN Loss: 0.87014]\n",
      "\n",
      "EVAL [CLS loss: 0.0795]  [PROX loss: 0.0657]  [CYC Loss: 0.2356]  [ADV loss: 0.7108]  [EVAL loss: 0.1103] \n",
      "EVAL [COUT: 0.6953]  [Validity: 99.00 %]  [Proximity: 0.2752]\n",
      "\n",
      "[Epoch 1/110] [TRAIN Loss: 0.07343]\n",
      "[Epoch 2/110] [TRAIN Loss: 0.05502]\n",
      "[Epoch 3/110] [TRAIN Loss: 0.05023]\n",
      "[Epoch 4/110] [TRAIN Loss: 0.04617]\n",
      "[Epoch 5/110] [TRAIN Loss: 0.04355]\n",
      "[Epoch 6/110] [TRAIN Loss: 0.04111]\n",
      "[Epoch 7/110] [TRAIN Loss: 0.03908]\n",
      "[Epoch 8/110] [TRAIN Loss: 0.03736]\n",
      "[Epoch 9/110] [TRAIN Loss: 0.03550]\n",
      "[Epoch 10/110] [TRAIN Loss: 0.03389]\n",
      "\n",
      "EVAL [CLS loss: 0.0059]  [PROX loss: 0.0659]  [CYC Loss: 0.1961]  [ADV loss: 0.5865]  [EVAL loss: 0.0327] \n",
      "EVAL [COUT: 0.7551]  [Validity: 99.90 %]  [Proximity: 0.2816]\n",
      "\n",
      "[Epoch 11/110] [TRAIN Loss: 0.03256]\n",
      "[Epoch 12/110] [TRAIN Loss: 0.03133]\n",
      "[Epoch 13/110] [TRAIN Loss: 0.03045]\n",
      "[Epoch 14/110] [TRAIN Loss: 0.02926]\n",
      "[Epoch 15/110] [TRAIN Loss: 0.02846]\n",
      "[Epoch 16/110] [TRAIN Loss: 0.02738]\n",
      "[Epoch 17/110] [TRAIN Loss: 0.02673]\n",
      "[Epoch 18/110] [TRAIN Loss: 0.02626]\n",
      "[Epoch 19/110] [TRAIN Loss: 0.02555]\n",
      "[Epoch 20/110] [TRAIN Loss: 0.02508]\n",
      "\n",
      "EVAL [CLS loss: 0.0042]  [PROX loss: 0.0641]  [CYC Loss: 0.1410]  [ADV loss: 0.5824]  [EVAL loss: 0.0253] \n",
      "EVAL [COUT: 0.7722]  [Validity: 100.00 %]  [Proximity: 0.2760]\n",
      "\n",
      "[Epoch 21/110] [TRAIN Loss: 0.02464]\n",
      "[Epoch 22/110] [TRAIN Loss: 0.02444]\n",
      "[Epoch 23/110] [TRAIN Loss: 0.02397]\n",
      "[Epoch 24/110] [TRAIN Loss: 0.02357]\n",
      "[Epoch 25/110] [TRAIN Loss: 0.02324]\n",
      "[Epoch 26/110] [TRAIN Loss: 0.02304]\n",
      "[Epoch 27/110] [TRAIN Loss: 0.02289]\n",
      "[Epoch 28/110] [TRAIN Loss: 0.02275]\n",
      "[Epoch 29/110] [TRAIN Loss: 0.02261]\n",
      "[Epoch 30/110] [TRAIN Loss: 0.02247]\n",
      "\n",
      "EVAL [CLS loss: 0.0023]  [PROX loss: 0.0633]  [CYC Loss: 0.1265]  [ADV loss: 0.5809]  [EVAL loss: 0.0219] \n",
      "EVAL [COUT: 0.7840]  [Validity: 100.00 %]  [Proximity: 0.2725]\n",
      "\n",
      "[Epoch 31/110] [TRAIN Loss: 0.02235]\n",
      "[Epoch 32/110] [TRAIN Loss: 0.02222]\n",
      "[Epoch 33/110] [TRAIN Loss: 0.02209]\n",
      "[Epoch 34/110] [TRAIN Loss: 0.02194]\n",
      "[Epoch 35/110] [TRAIN Loss: 0.02181]\n",
      "[Epoch 36/110] [TRAIN Loss: 0.02170]\n",
      "[Epoch 37/110] [TRAIN Loss: 0.02159]\n",
      "[Epoch 38/110] [TRAIN Loss: 0.02146]\n",
      "[Epoch 39/110] [TRAIN Loss: 0.02133]\n",
      "[Epoch 40/110] [TRAIN Loss: 0.02121]\n",
      "\n",
      "EVAL [CLS loss: 0.0034]  [PROX loss: 0.0629]  [CYC Loss: 0.1184]  [ADV loss: 0.5744]  [EVAL loss: 0.0221] \n",
      "EVAL [COUT: 0.7891]  [Validity: 99.90 %]  [Proximity: 0.2696]\n",
      "\n",
      "[Epoch 41/110] [TRAIN Loss: 0.02109]\n",
      "[Epoch 42/110] [TRAIN Loss: 0.02098]\n",
      "[Epoch 43/110] [TRAIN Loss: 0.02088]\n",
      "[Epoch 44/110] [TRAIN Loss: 0.02078]\n",
      "[Epoch 45/110] [TRAIN Loss: 0.02067]\n",
      "[Epoch 46/110] [TRAIN Loss: 0.02057]\n",
      "[Epoch 47/110] [TRAIN Loss: 0.02047]\n",
      "[Epoch 48/110] [TRAIN Loss: 0.02038]\n",
      "[Epoch 49/110] [TRAIN Loss: 0.02028]\n",
      "[Epoch 50/110] [TRAIN Loss: 0.02021]\n",
      "\n",
      "EVAL [CLS loss: 0.0039]  [PROX loss: 0.0625]  [CYC Loss: 0.1114]  [ADV loss: 0.5709]  [EVAL loss: 0.0219] \n",
      "EVAL [COUT: 0.7924]  [Validity: 99.90 %]  [Proximity: 0.2681]\n",
      "\n",
      "[Epoch 51/110] [TRAIN Loss: 0.02016]\n",
      "[Epoch 52/110] [TRAIN Loss: 0.02011]\n",
      "[Epoch 53/110] [TRAIN Loss: 0.02006]\n",
      "[Epoch 54/110] [TRAIN Loss: 0.02001]\n",
      "[Epoch 55/110] [TRAIN Loss: 0.01997]\n",
      "[Epoch 56/110] [TRAIN Loss: 0.01992]\n",
      "[Epoch 57/110] [TRAIN Loss: 0.01987]\n",
      "[Epoch 58/110] [TRAIN Loss: 0.01983]\n",
      "[Epoch 59/110] [TRAIN Loss: 0.01978]\n",
      "[Epoch 60/110] [TRAIN Loss: 0.01973]\n",
      "\n",
      "EVAL [CLS loss: 0.0038]  [PROX loss: 0.0622]  [CYC Loss: 0.1078]  [ADV loss: 0.5677]  [EVAL loss: 0.0214] \n",
      "EVAL [COUT: 0.7935]  [Validity: 99.90 %]  [Proximity: 0.2672]\n",
      "\n",
      "[Epoch 61/110] [TRAIN Loss: 0.01968]\n",
      "[Epoch 62/110] [TRAIN Loss: 0.01964]\n",
      "[Epoch 63/110] [TRAIN Loss: 0.01959]\n",
      "[Epoch 64/110] [TRAIN Loss: 0.01954]\n",
      "[Epoch 65/110] [TRAIN Loss: 0.01949]\n",
      "[Epoch 66/110] [TRAIN Loss: 0.01944]\n",
      "[Epoch 67/110] [TRAIN Loss: 0.01940]\n",
      "[Epoch 68/110] [TRAIN Loss: 0.01935]\n",
      "[Epoch 69/110] [TRAIN Loss: 0.01931]\n",
      "[Epoch 70/110] [TRAIN Loss: 0.01928]\n",
      "\n",
      "EVAL [CLS loss: 0.0038]  [PROX loss: 0.0620]  [CYC Loss: 0.1041]  [ADV loss: 0.5629]  [EVAL loss: 0.0210] \n",
      "EVAL [COUT: 0.7941]  [Validity: 99.90 %]  [Proximity: 0.2666]\n",
      "\n",
      "[Epoch 71/110] [TRAIN Loss: 0.01922]\n",
      "[Epoch 72/110] [TRAIN Loss: 0.01916]\n",
      "[Epoch 73/110] [TRAIN Loss: 0.01911]\n",
      "[Epoch 74/110] [TRAIN Loss: 0.01906]\n",
      "[Epoch 75/110] [TRAIN Loss: 0.01902]\n",
      "[Epoch 76/110] [TRAIN Loss: 0.01900]\n",
      "[Epoch 77/110] [TRAIN Loss: 0.01897]\n",
      "[Epoch 78/110] [TRAIN Loss: 0.01895]\n",
      "[Epoch 79/110] [TRAIN Loss: 0.01892]\n",
      "[Epoch 80/110] [TRAIN Loss: 0.01890]\n",
      "\n",
      "EVAL [CLS loss: 0.0039]  [PROX loss: 0.0617]  [CYC Loss: 0.1014]  [ADV loss: 0.5609]  [EVAL loss: 0.0208] \n",
      "EVAL [COUT: 0.7951]  [Validity: 99.90 %]  [Proximity: 0.2661]\n",
      "\n",
      "[Epoch 81/110] [TRAIN Loss: 0.01887]\n",
      "[Epoch 82/110] [TRAIN Loss: 0.01885]\n",
      "[Epoch 83/110] [TRAIN Loss: 0.01882]\n",
      "[Epoch 84/110] [TRAIN Loss: 0.01880]\n",
      "[Epoch 85/110] [TRAIN Loss: 0.01877]\n",
      "[Epoch 86/110] [TRAIN Loss: 0.01874]\n",
      "[Epoch 87/110] [TRAIN Loss: 0.01872]\n",
      "[Epoch 88/110] [TRAIN Loss: 0.01869]\n",
      "[Epoch 89/110] [TRAIN Loss: 0.01866]\n",
      "[Epoch 90/110] [TRAIN Loss: 0.01864]\n",
      "\n",
      "EVAL [CLS loss: 0.0039]  [PROX loss: 0.0616]  [CYC Loss: 0.0993]  [ADV loss: 0.5587]  [EVAL loss: 0.0206] \n",
      "EVAL [COUT: 0.7952]  [Validity: 99.90 %]  [Proximity: 0.2658]\n",
      "\n",
      "[Epoch 91/110] [TRAIN Loss: 0.01861]\n",
      "[Epoch 92/110] [TRAIN Loss: 0.01858]\n",
      "[Epoch 93/110] [TRAIN Loss: 0.01856]\n",
      "[Epoch 94/110] [TRAIN Loss: 0.01853]\n",
      "[Epoch 95/110] [TRAIN Loss: 0.01850]\n",
      "[Epoch 96/110] [TRAIN Loss: 0.01847]\n",
      "[Epoch 97/110] [TRAIN Loss: 0.01844]\n",
      "[Epoch 98/110] [TRAIN Loss: 0.01842]\n",
      "[Epoch 99/110] [TRAIN Loss: 0.01839]\n",
      "[Epoch 100/110] [TRAIN Loss: 0.01836]\n",
      "\n",
      "EVAL [CLS loss: 0.0040]  [PROX loss: 0.0614]  [CYC Loss: 0.0972]  [ADV loss: 0.5562]  [EVAL loss: 0.0204] \n",
      "EVAL [COUT: 0.7954]  [Validity: 99.90 %]  [Proximity: 0.2655]\n",
      "\n",
      "[Epoch 101/110] [TRAIN Loss: 0.01835]\n",
      "[Epoch 102/110] [TRAIN Loss: 0.01833]\n",
      "[Epoch 103/110] [TRAIN Loss: 0.01832]\n",
      "[Epoch 104/110] [TRAIN Loss: 0.01830]\n",
      "[Epoch 105/110] [TRAIN Loss: 0.01829]\n",
      "[Epoch 106/110] [TRAIN Loss: 0.01827]\n",
      "[Epoch 107/110] [TRAIN Loss: 0.01826]\n",
      "[Epoch 108/110] [TRAIN Loss: 0.01824]\n",
      "[Epoch 109/110] [TRAIN Loss: 0.01823]\n",
      "[Epoch 110/110] [TRAIN Loss: 0.01821]\n",
      "\n",
      "EVAL [CLS loss: 0.0040]  [PROX loss: 0.0613]  [CYC Loss: 0.0959]  [ADV loss: 0.5550]  [EVAL loss: 0.0203] \n",
      "EVAL [COUT: 0.7954]  [Validity: 100.00 %]  [Proximity: 0.2652]\n",
      "\n",
      "\n",
      "Evaluation Starts...\n",
      "\n",
      "\n",
      "EVAL [CLS loss: 0.0040]  [PROX loss: 0.0613]  [CYC Loss: 0.0959]  [ADV loss: 0.5550]  [EVAL loss: 0.0203] \n",
      "EVAL [COUT: 0.7954]  [Validity: 100.00 %]  [Proximity: 0.2652]\n",
      "\n"
     ]
    }
   ],
   "source": [
    "c3lt.train.train_c3lt(args, [dataloaders, dataloaders_test])"
   ]
  },
  {
   "cell_type": "markdown",
   "metadata": {},
   "source": [
    "# Inference"
   ]
  },
  {
   "cell_type": "code",
   "execution_count": 15,
   "metadata": {},
   "outputs": [],
   "source": [
    "import pickle\n",
    "from src.evaluation.local_instability import perturb_sample"
   ]
  },
  {
   "cell_type": "code",
   "execution_count": 24,
   "metadata": {},
   "outputs": [],
   "source": [
    "target_class = 4\n",
    "target_class_ind = 2\n",
    "initial_classes = [0, 2, 6]\n",
    "device = \"cuda\" if torch.cuda.is_available() else \"cpu\"\n",
    "\n",
    "mappers = {0: osp.join(repo_path, f'cf_output/{config.data.name}/c3lt_multiclass/results_0_4/snaps/map_0_to_{target_class_ind}_100.pt'), \n",
    "           2: osp.join(repo_path, f'cf_output/{config.data.name}/c3lt_multiclass/results_2_4/snaps/map_1_to_{target_class_ind}_100.pt'),\n",
    "           6: osp.join(repo_path, f'cf_output/{config.data.name}/c3lt_multiclass/results_6_4/snaps/map_3_to_{target_class_ind}_100.pt')}"
   ]
  },
  {
   "cell_type": "code",
   "execution_count": 25,
   "metadata": {},
   "outputs": [
    {
     "name": "stdout",
     "output_type": "stream",
     "text": [
      "Classifier loaded!\n",
      "Generator loaded!\n",
      "Discriminator loaded!\n",
      "Encoder loaded!\n"
     ]
    }
   ],
   "source": [
    "expl_model = c3lt.C3LTModel(args, task='multiclass')\n",
    "expl_model.setup_model(mapper_weights_path=mappers)\n",
    "baseline_classifier = expl_model.classifier"
   ]
  },
  {
   "cell_type": "code",
   "execution_count": 30,
   "metadata": {},
   "outputs": [],
   "source": [
    "factuals, labels = extract_factual_instances(test_loader, initial_classes)\n",
    "factuals, labels = filter_valid_factuals(factuals, labels, baseline_classifier, device)"
   ]
  },
  {
   "cell_type": "markdown",
   "metadata": {},
   "source": [
    "## Local Instability"
   ]
  },
  {
   "cell_type": "code",
   "execution_count": 27,
   "metadata": {},
   "outputs": [],
   "source": [
    "from src.evaluation.local_instability import calculate_ssim, calculate_sparsity\n",
    "from src.utils import plot_perturbed_factuals_and_cf\n",
    "from functools import reduce"
   ]
  },
  {
   "cell_type": "code",
   "execution_count": 28,
   "metadata": {},
   "outputs": [],
   "source": [
    "noise_levels = [0.001, 0.0025, 0.005, 0.0075, 0.01]\n",
    "save_dir = f'/data/leuven/365/vsc36567/CF-Robustness-Benchmark/cf_output/{config.data.name}/c3lt_multiclass'\n"
   ]
  },
  {
   "cell_type": "code",
   "execution_count": 32,
   "metadata": {},
   "outputs": [
    {
     "name": "stdout",
     "output_type": "stream",
     "text": [
      "Number of valid perturbed factuals for the added noise level 0.001:  1688\n",
      "Number of valid perturbed factuals for the added noise level 0.0025:  1666\n",
      "Number of valid perturbed factuals for the added noise level 0.005:  1630\n",
      "Number of valid perturbed factuals for the added noise level 0.0075:  1617\n",
      "Number of valid perturbed factuals for the added noise level 0.01:  1585\n"
     ]
    }
   ],
   "source": [
    "n = 100\n",
    "factuals_pert = {}    \n",
    "indices_pert = {}\n",
    "\n",
    "for noise_level in noise_levels:\n",
    "    factuals_pert[noise_level] = perturb_sample(factuals, n_samples=1, noise_magnitude=noise_level)\n",
    "    pert_sample = torch.Tensor(factuals_pert[noise_level])\n",
    "\n",
    "    # Check whether perturbed instances lead to the same class prediction\n",
    "    predictions = torch.argmax(baseline_classifier(pert_sample.to(device)), axis=1).detach().cpu()\n",
    "    indices = np.where(predictions == labels)[0]\n",
    "    print(f'Number of valid perturbed factuals for the added noise level {noise_level}: ', indices.shape[0])\n",
    "    pert_sample = pert_sample[indices] \n",
    "    indices_pert[noise_level] = indices"
   ]
  },
  {
   "cell_type": "code",
   "execution_count": 33,
   "metadata": {},
   "outputs": [],
   "source": [
    "final_indices = reduce(np.intersect1d, list(indices_pert.values()))[:n]\n",
    "factuals = factuals[final_indices] \n",
    "labels = labels[final_indices] \n",
    "factuals_pert = {k : v[final_indices] for k, v in factuals_pert.items()}"
   ]
  },
  {
   "cell_type": "markdown",
   "metadata": {},
   "source": [
    "Generating counterfactrual explanations and evaluate their  validity  "
   ]
  },
  {
   "cell_type": "code",
   "execution_count": 34,
   "metadata": {},
   "outputs": [],
   "source": [
    "factuals = factuals.to(device)\n",
    "cfes = expl_model.get_counterfactuals(factuals, labels)"
   ]
  },
  {
   "cell_type": "code",
   "execution_count": 36,
   "metadata": {},
   "outputs": [
    {
     "name": "stdout",
     "output_type": "stream",
     "text": [
      "Validity of the generated explanations: 1.0\n"
     ]
    }
   ],
   "source": [
    "validity = np.where(torch.argmax(baseline_classifier(cfes), axis=1).detach().cpu() == target_class_ind)[0]\n",
    "validity = validity.shape[0] / cfes.shape[0]\n",
    "print('Validity of the generated explanations:', validity)"
   ]
  },
  {
   "cell_type": "code",
   "execution_count": 37,
   "metadata": {},
   "outputs": [],
   "source": [
    "cfes_pert = {}\n",
    "\n",
    "for noise_level in noise_levels:\n",
    "    pert_sample = torch.Tensor(factuals_pert[noise_level]).to(device)\n",
    "    cfes_pert[noise_level] = expl_model.get_counterfactuals(pert_sample, labels) "
   ]
  },
  {
   "cell_type": "code",
   "execution_count": 39,
   "metadata": {},
   "outputs": [
    {
     "name": "stdout",
     "output_type": "stream",
     "text": [
      "Validity for the added noise level 0.001:  1.0\n",
      "Validity for the added noise level 0.0025:  1.0\n",
      "Validity for the added noise level 0.005:  1.0\n",
      "Validity for the added noise level 0.0075:  1.0\n",
      "Validity for the added noise level 0.01:  1.0\n"
     ]
    }
   ],
   "source": [
    "validity_list = []\n",
    "for noise_level in noise_levels:\n",
    "    predictions = torch.argmax(baseline_classifier(torch.Tensor(cfes_pert[noise_level])), axis=1).detach().cpu()\n",
    "    indices = np.where(predictions == target_class_ind)[0]\n",
    "    validity = indices.shape[0] / predictions.shape[0]\n",
    "    validity_list.append(validity)\n",
    "    print(f'Validity for the added noise level {noise_level}: ',  validity)\n",
    "\n",
    "with open(osp.join(save_dir, f'fmnist_{target_class}_validity.pkl'), 'wb') as f:\n",
    "    pickle.dump(validity_list, f)"
   ]
  },
  {
   "cell_type": "code",
   "execution_count": 44,
   "metadata": {},
   "outputs": [
    {
     "data": {
      "image/png": "[encoded data removed]",
      "text/plain": [
       "<Figure size 1000x400 with 12 Axes>"
      ]
     },
     "metadata": {},
     "output_type": "display_data"
    }
   ],
   "source": [
    "ind = 99\n",
    "factuals_pert_list = [factuals_pert[noise_level][ind] for noise_level in noise_levels]\n",
    "cfes_pert_list = [cfes_pert[noise_level][ind].detach().cpu() for noise_level in noise_levels]\n",
    "plot_perturbed_factuals_and_cf(factuals[ind].cpu(), factuals_pert_list, \n",
    "                               cfes[ind].cpu(), cfes_pert_list,\n",
    "                               noise_levels)"
   ]
  },
  {
   "cell_type": "code",
   "execution_count": 45,
   "metadata": {},
   "outputs": [],
   "source": [
    "instability_l1_list = []\n",
    "ssim_list = []\n",
    "\n",
    "for noise_level, cfe_pert_list in cfes_pert.items():\n",
    "    l1_temp = []\n",
    "    ssim_temp = []\n",
    "    for i in range(len(cfes)):\n",
    "        cf = cfes[i].detach().cpu()\n",
    "        cf_pert = cfe_pert_list[i].detach().cpu()\n",
    "\n",
    "        if len(cf) == 0:\n",
    "            continue\n",
    "        if len(cf_pert) == 0:\n",
    "            continue\n",
    "\n",
    "        cf_tensor = torch.Tensor(cf)\n",
    "        cf = cf_tensor.permute(1, 2, 0).flatten()\n",
    "\n",
    "        cf_pert_tensor = torch.Tensor(cf_pert)\n",
    "        cf_perturbed = cf_pert_tensor.permute(1, 2, 0).flatten()        \n",
    "\n",
    "        l1_distance = sum(abs(cf - cf_perturbed)).item() \n",
    "        l1_temp.append(l1_distance)\n",
    "\n",
    "        ssim = calculate_ssim(cf_tensor.unsqueeze(0), cf_pert_tensor.unsqueeze(0)).item()\n",
    "        ssim_temp.append(ssim)\n",
    "\n",
    "    instability_l1_list.append(l1_temp)\n",
    "    ssim_list.append(ssim_temp)\n",
    "        \n",
    "\n",
    "with open(osp.join(save_dir, f'{config.data.name}_{target_class}_li_l1.pkl'), 'wb') as f:\n",
    "    pickle.dump(instability_l1_list, f)\n",
    "\n",
    "with open(osp.join(save_dir, f'{config.data.name}_{target_class}_ssim.pkl'), 'wb') as f:\n",
    "    pickle.dump(ssim_list, f)"
   ]
  },
  {
   "cell_type": "code",
   "execution_count": 46,
   "metadata": {},
   "outputs": [
    {
     "data": {
      "image/png": "[encoded data removed]",
      "text/plain": [
       "<Figure size 800x550 with 1 Axes>"
      ]
     },
     "metadata": {},
     "output_type": "display_data"
    }
   ],
   "source": [
    "plt.style.use(\"seaborn-v0_8\")\n",
    "\n",
    "\n",
    "plot_boxplot(data=instability_l1_list, mean_values=np.round(np.mean(instability_l1_list, axis=1), 2),\n",
    "             tick_labels=[f'eps={noise_level}' for noise_level in noise_levels],\n",
    "             y_label='Local Instability', colors=['lightyellow'], title='L1 distance between CFEs of similar inputs')"
   ]
  },
  {
   "cell_type": "code",
   "execution_count": 47,
   "metadata": {},
   "outputs": [
    {
     "data": {
      "image/png": "[encoded data removed]",
      "text/plain": [
       "<Figure size 800x400 with 1 Axes>"
      ]
     },
     "metadata": {},
     "output_type": "display_data"
    }
   ],
   "source": [
    "plt.rcParams['figure.figsize'] = [8, 4]\n",
    "\n",
    "plot_boxplot(data=ssim_list, mean_values=np.round(np.mean(ssim_list, axis=1), 2),\n",
    "             tick_labels=[f'eps={noise_level}' for noise_level in noise_levels],\n",
    "             y_label='Local Instability', colors=['lightgreen'], title='SSIM between CFEs of similar inputs')"
   ]
  },
  {
   "cell_type": "markdown",
   "metadata": {},
   "source": [
    "## Local Lipschitz Continuity"
   ]
  },
  {
   "cell_type": "code",
   "execution_count": 52,
   "metadata": {},
   "outputs": [
    {
     "name": "stdout",
     "output_type": "stream",
     "text": [
      "Are the lengths of initial points (factuals) and CFEs generated for them equal : True\n"
     ]
    }
   ],
   "source": [
    "original_points = factuals # factuals_tensor[:n]\n",
    "original_cfes = cfes\n",
    "print(\"Are the lengths of initial points (factuals) and CFEs generated for them equal :\", len(original_cfes) == original_points.shape[0])\n"
   ]
  },
  {
   "cell_type": "code",
   "execution_count": 53,
   "metadata": {},
   "outputs": [
    {
     "name": "stderr",
     "output_type": "stream",
     "text": [
      "30it [00:00, 15994.55it/s]\n",
      "30it [00:00, 21147.75it/s]\n",
      "30it [00:00, 22700.54it/s]\n",
      "30it [00:00, 20181.09it/s]\n",
      "30it [00:00, 20849.90it/s]\n",
      "30it [00:00, 22795.13it/s]\n",
      "30it [00:00, 22762.14it/s]\n",
      "30it [00:00, 19856.26it/s]\n",
      "30it [00:00, 22890.51it/s]\n",
      "30it [00:00, 23062.52it/s]\n",
      "30it [00:00, 22758.02it/s]\n",
      "30it [00:00, 23202.86it/s]\n",
      "30it [00:00, 22965.71it/s]\n",
      "30it [00:00, 22848.94it/s]\n",
      "30it [00:00, 22965.71it/s]\n",
      "30it [00:00, 22663.75it/s]\n",
      "30it [00:00, 22655.59it/s]\n",
      "30it [00:00, 23087.91it/s]\n",
      "30it [00:00, 22203.83it/s]\n",
      "30it [00:00, 8633.81it/s]\n",
      "30it [00:00, 22869.71it/s]\n",
      "30it [00:00, 22627.07it/s]\n",
      "30it [00:00, 22890.51it/s]\n",
      "30it [00:00, 22160.82it/s]\n",
      "30it [00:00, 23519.46it/s]\n",
      "30it [00:00, 22574.29it/s]\n",
      "30it [00:00, 20058.84it/s]\n",
      "30it [00:00, 21031.11it/s]\n",
      "30it [00:00, 22869.71it/s]\n",
      "30it [00:00, 22882.18it/s]\n",
      "30it [00:06,  4.53it/s]\n"
     ]
    }
   ],
   "source": [
    "i = 0\n",
    "lip_estimates = []\n",
    "noise_magnitude = 0.001\n",
    "\n",
    "original_points = original_points.detach().cpu()\n",
    "original_cfes = original_cfes.detach().cpu()\n",
    "for original_point, original_cfe in tqdm(zip(original_points[:30], original_cfes[:30])):\n",
    "\n",
    "    neighbor_points = perturb_sample(original_point.unsqueeze(0), n_samples=30, noise_magnitude=noise_magnitude) \n",
    "    neighbor_points = torch.Tensor(neighbor_points).to(device)  \n",
    "    neighbor_cfes = expl_model.get_counterfactuals(neighbor_points, labels).detach().cpu() \n",
    "    neighbor_points = neighbor_points.detach().cpu() \n",
    "\n",
    "    lip_estimate = 0\n",
    "    for m, p in tqdm(zip(neighbor_cfes, neighbor_points)):\n",
    "        num = np.linalg.norm((original_cfe - m).flatten(), ord=2) \n",
    "        denom = np.linalg.norm((original_point - p).flatten(), ord=2)\n",
    "        lip = num / denom\n",
    "        lip_estimate = max(lip, lip_estimate)\n",
    " \n",
    "    lip_estimates.append(lip_estimate.item())\n",
    "    i += 1"
   ]
  },
  {
   "cell_type": "code",
   "execution_count": 54,
   "metadata": {},
   "outputs": [],
   "source": [
    "with open(osp.join(save_dir, f'{config.data.name}_{target_class}_lle.pkl'), 'wb') as f:\n",
    "        pickle.dump(lip_estimates, f)"
   ]
  },
  {
   "cell_type": "code",
   "execution_count": 55,
   "metadata": {},
   "outputs": [
    {
     "data": {
      "image/png": "[encoded data removed]",
      "text/plain": [
       "<Figure size 600x400 with 1 Axes>"
      ]
     },
     "metadata": {},
     "output_type": "display_data"
    }
   ],
   "source": [
    "plt.rcParams['figure.figsize'] = [6, 4]\n",
    "plot_boxplot(data=lip_estimates, mean_values=[np.round(np.mean(lip_estimates), 5)],\n",
    "             tick_labels=[f''],\n",
    "             y_label='Local Lipschitz Continuity', colors=['lightpink'], title='')"
   ]
  },
  {
   "cell_type": "markdown",
   "metadata": {},
   "source": [
    "## Invalidation Rate"
   ]
  },
  {
   "cell_type": "code",
   "execution_count": 56,
   "metadata": {},
   "outputs": [
    {
     "name": "stdout",
     "output_type": "stream",
     "text": [
      "Accuracy for the test dataset: 81.176%\n",
      "Accuracy for the test dataset: 80.680%\n",
      "Accuracy for the test dataset: 81.052%\n",
      "Accuracy for the test dataset: 81.597%\n",
      "Accuracy for the test dataset: 79.886%\n",
      "Accuracy for the test dataset: 81.076%\n",
      "Accuracy for the test dataset: 79.712%\n",
      "Accuracy for the test dataset: 81.672%\n",
      "Accuracy for the test dataset: 80.556%\n",
      "Accuracy for the test dataset: 80.630%\n"
     ]
    }
   ],
   "source": [
    "classifiers_weights_dir = r'/data/leuven/365/vsc36567/CF-Robustness-Benchmark/notebooks/experiments/fmnist_classification/multiclass/checkpoints/mc_all'\n",
    "\n",
    "\n",
    "classifiers_list = []\n",
    "for clf_weights in os.listdir(classifiers_weights_dir):\n",
    "    cnn_perturbed = SimpleCNNtorch(**args.classifier_args)\n",
    "    # load_model_weights(model=cnn_perturbed, weights_path=osp.join(classifiers_weights_dir, clf_weights))\n",
    "    checkpoint = torch.load(\n",
    "                    osp.join(classifiers_weights_dir, clf_weights), weights_only=False,\n",
    "                    map_location=torch.device(device)\n",
    "                )\n",
    "            \n",
    "    cnn_perturbed.load_state_dict(checkpoint)\n",
    "    classifiers_list.append(cnn_perturbed)\n",
    "    evaluate_classification_model(cnn_perturbed, dataloader=test_loader, num_classes=config.data.num_classes)"
   ]
  },
  {
   "cell_type": "code",
   "execution_count": 60,
   "metadata": {},
   "outputs": [
    {
     "name": "stdout",
     "output_type": "stream",
     "text": [
      "Model 0: IR=0.0, validity=1.0\n",
      "Model 1: IR=0.0, validity=1.0\n",
      "Model 2: IR=0.0, validity=1.0\n",
      "Model 3: IR=0.0, validity=1.0\n",
      "Model 4: IR=0.0, validity=1.0\n",
      "Model 5: IR=0.0, validity=1.0\n",
      "Model 6: IR=0.0, validity=1.0\n",
      "Model 7: IR=0.0, validity=1.0\n",
      "Model 8: IR=0.0, validity=1.0\n",
      "Model 9: IR=0.0, validity=1.0\n",
      "Average IR : 0.000 +- 0.000\n",
      "Average VaR : 1.000 +- 0.000\n"
     ]
    }
   ],
   "source": [
    "validity_list = []\n",
    "invalidation_rate_list = []\n",
    "\n",
    "for i, classifier in enumerate(classifiers_list):\n",
    "    validity = 0\n",
    "    invalidation_rate = 0\n",
    "    total_found_cfs = 0\n",
    "    \n",
    "    classifier.eval()\n",
    "    with torch.no_grad():\n",
    "        classifier = classifier.to(device)\n",
    "\n",
    "        baseline_pred = torch.argmax(baseline_classifier(cfes), axis=1)\n",
    "        alternative_pred = torch.argmax(classifier(cfes), axis=1)\n",
    "    \n",
    "    invalidation_rate = np.where(baseline_pred.detach().cpu() != alternative_pred.detach().cpu())[0].shape[0] / baseline_pred.shape[0]\n",
    "    validity = np.where(alternative_pred.detach().cpu() == target_class_ind)[0].shape[0] / alternative_pred.shape[0]\n",
    "\n",
    "    # invalidation_rate /= total_found_cfs\n",
    "    invalidation_rate_list.append(invalidation_rate)\n",
    "    validity_list.append(validity)\n",
    "    print(f'Model {i}: IR={invalidation_rate}, validity={validity}')\n",
    "\n",
    "print('Average IR : {:.3f} +- {:.3f}'.format(np.mean(invalidation_rate_list), np.std(invalidation_rate_list)))\n",
    "print('Average VaR : {:.3f} +- {:.3f}'.format(np.mean(validity_list), np.std(validity_list)))"
   ]
  },
  {
   "cell_type": "markdown",
   "metadata": {},
   "source": [
    "## Stability\n"
   ]
  },
  {
   "cell_type": "code",
   "execution_count": 62,
   "metadata": {},
   "outputs": [
    {
     "name": "stdout",
     "output_type": "stream",
     "text": [
      "Stability of the model 0: 0.996 +- 0.00506\n",
      "Stability of the model 1: 0.998 +- 0.00083\n",
      "Stability of the model 2: 0.998 +- 0.0007\n",
      "Stability of the model 3: 0.998 +- 0.00076\n",
      "Stability of the model 4: 0.998 +- 0.00118\n",
      "Stability of the model 5: 0.999 +- 0.00031\n",
      "Stability of the model 6: 1.0 +- 0.00023\n",
      "Stability of the model 7: 1.0 +- 0.00014\n",
      "Stability of the model 8: 0.993 +- 0.00391\n",
      "Stability of the model 9: 0.999 +- 0.00108\n"
     ]
    }
   ],
   "source": [
    "k = 1000\n",
    "sigma = 0.001\n",
    "\n",
    "average_stability_list = []\n",
    "for i, classifier in enumerate(classifiers_list):\n",
    "    stability_list = []\n",
    "    for cfe in cfes:\n",
    "\n",
    "        cfe = torch.Tensor(cfe).unsqueeze(0).detach().cpu()\n",
    "        cfe_sampled = torch.Tensor(perturb_sample(cfe, n_samples=k, noise_magnitude=sigma))\n",
    "\n",
    "        with torch.no_grad():\n",
    "            cf_logits = classifier(cfe.to(device))\n",
    "            cf_probabilities = F.softmax(cf_logits, dim=-1)[:, target_class_ind]\n",
    "\n",
    "            cf_sampled_logits = classifier(cfe_sampled.to(device))\n",
    "            cf_sampled_probabilities = F.softmax(cf_sampled_logits, dim=-1)[:, target_class_ind]\n",
    "        \n",
    "        model_variance = abs(cf_probabilities - cf_sampled_probabilities)\n",
    "\n",
    "        stability = (cf_sampled_probabilities - model_variance).mean()\n",
    "        stability_list.append(stability.item())\n",
    "\n",
    "    avg_i_stability = np.mean(stability_list)\n",
    "    print(f'Stability of the model {i}: {avg_i_stability.round(3)} +- {np.std(stability_list).round(5)}')\n",
    "    average_stability_list.append(avg_i_stability)"
   ]
  },
  {
   "cell_type": "code",
   "execution_count": 63,
   "metadata": {},
   "outputs": [
    {
     "name": "stdout",
     "output_type": "stream",
     "text": [
      "Average stability : 0.998 +- 0.002\n"
     ]
    }
   ],
   "source": [
    "print('Average stability : {:.3f} +- {:.3f}'.format(np.mean(average_stability_list).round(3), \n",
    "                                             np.std(average_stability_list).round(3)))"
   ]
  },
  {
   "cell_type": "markdown",
   "metadata": {},
   "source": [
    "## LOF"
   ]
  },
  {
   "cell_type": "code",
   "execution_count": 64,
   "metadata": {},
   "outputs": [],
   "source": [
    "from src.evaluation.lof import estimate_anom_cfe_in_target_class"
   ]
  },
  {
   "cell_type": "code",
   "execution_count": 65,
   "metadata": {},
   "outputs": [],
   "source": [
    "cfes_array = cfes.detach().cpu().numpy()"
   ]
  },
  {
   "cell_type": "code",
   "execution_count": 66,
   "metadata": {},
   "outputs": [
    {
     "name": "stdout",
     "output_type": "stream",
     "text": [
      "Average negative LOF (the lower values the more anomaluous): -1.297 +- 0.067\n"
     ]
    }
   ],
   "source": [
    "target_class_ascores, target_class_classes = estimate_anom_cfe_in_target_class(5, [target_class_ind], -1.1, test_loader, cfes_array)\n",
    "print('Average negative LOF (the lower values the more anomaluous): {:.3f} +- {:.3f}'.format(np.mean(target_class_ascores), \n",
    "                                                                                            np.std(target_class_ascores)))"
   ]
  },
  {
   "cell_type": "code",
   "execution_count": 67,
   "metadata": {},
   "outputs": [
    {
     "name": "stdout",
     "output_type": "stream",
     "text": [
      "Average negative LOF (the lower values the more anomaluous): -1.326 +- 0.070\n"
     ]
    }
   ],
   "source": [
    "all_class_ind = list(range(config.data.num_classes))\n",
    "anomaly_scores, anomaly_classes = estimate_anom_cfe_in_target_class(5, all_class_ind, -1.1, test_loader, cfes_array)\n",
    "print('Average negative LOF (the lower values the more anomaluous): {:.3f} +- {:.3f}'.format(np.mean(anomaly_scores), np.std(anomaly_scores)))"
   ]
  },
  {
   "cell_type": "code",
   "execution_count": 68,
   "metadata": {},
   "outputs": [],
   "source": [
    "with open(osp.join(save_dir, f'fmnist_{target_class}_ir_var_rs_lof.pkl'), 'wb') as f:\n",
    "    pickle.dump({'ir': (np.mean(invalidation_rate_list), np.std(invalidation_rate_list)),\n",
    "                'var': (np.mean(validity_list), np.std(validity_list)),\n",
    "                'rs': (np.mean(average_stability_list), np.std(average_stability_list)),\n",
    "                'lof_target_class': (np.mean(target_class_ascores), np.std(target_class_ascores)),\n",
    "                'lof_test_set': (np.mean(anomaly_scores), np.std(anomaly_scores))\n",
    "                }, f)"
   ]
  },
  {
   "cell_type": "code",
   "execution_count": null,
   "metadata": {},
   "outputs": [],
   "source": []
  }
 ],
 "metadata": {
  "kernelspec": {
   "display_name": "venv",
   "language": "python",
   "name": "python3"
  },
  "language_info": {
   "codemirror_mode": {
    "name": "ipython",
    "version": 3
   },
   "file_extension": ".py",
   "mimetype": "text/x-python",
   "name": "python",
   "nbconvert_exporter": "python",
   "pygments_lexer": "ipython3",
   "version": "3.12.4"
  }
 },
 "nbformat": 4,
 "nbformat_minor": 2
}
