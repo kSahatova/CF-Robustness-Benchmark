{
 "cells": [
  {
   "cell_type": "code",
   "execution_count": 1,
   "id": "d037efbf",
   "metadata": {},
   "outputs": [
    {
     "name": "stderr",
     "output_type": "stream",
     "text": [
      "/data/leuven/365/vsc36567/miniconda3/lib/python3.12/site-packages/albumentations/__init__.py:28: UserWarning: A new version of Albumentations is available: '2.0.8' (you have '2.0.4'). Upgrade using: pip install -U albumentations. To disable automatic update checks, set the environment variable NO_ALBUMENTATIONS_UPDATE to 1.\n",
      "  check_for_updates()\n",
      "2025-05-30 11:52:09.397043: E external/local_xla/xla/stream_executor/cuda/cuda_fft.cc:467] Unable to register cuFFT factory: Attempting to register factory for plugin cuFFT when one has already been registered\n",
      "WARNING: All log messages before absl::InitializeLog() is called are written to STDERR\n",
      "E0000 00:00:1748598729.414414 1336372 cuda_dnn.cc:8579] Unable to register cuDNN factory: Attempting to register factory for plugin cuDNN when one has already been registered\n",
      "E0000 00:00:1748598729.419627 1336372 cuda_blas.cc:1407] Unable to register cuBLAS factory: Attempting to register factory for plugin cuBLAS when one has already been registered\n",
      "W0000 00:00:1748598729.433526 1336372 computation_placer.cc:177] computation placer already registered. Please check linkage and avoid linking the same target more than once.\n",
      "W0000 00:00:1748598729.433544 1336372 computation_placer.cc:177] computation placer already registered. Please check linkage and avoid linking the same target more than once.\n",
      "W0000 00:00:1748598729.433545 1336372 computation_placer.cc:177] computation placer already registered. Please check linkage and avoid linking the same target more than once.\n",
      "W0000 00:00:1748598729.433547 1336372 computation_placer.cc:177] computation placer already registered. Please check linkage and avoid linking the same target more than once.\n",
      "2025-05-30 11:52:09.438136: I tensorflow/core/platform/cpu_feature_guard.cc:210] This TensorFlow binary is optimized to use available CPU instructions in performance-critical operations.\n",
      "To enable the following instructions: AVX2 AVX512F FMA, in other operations, rebuild TensorFlow with the appropriate compiler flags.\n"
     ]
    }
   ],
   "source": [
    "import warnings\n",
    "\n",
    "import os\n",
    "import torch\n",
    "import pickle\n",
    "import numpy as np\n",
    "import os.path as osp\n",
    "from tqdm import tqdm\n",
    "\n",
    "from functools import reduce\n",
    "import torch.nn.functional as F\n",
    "import matplotlib.pyplot as plt\n",
    "\n",
    "from src.datasets import DatasetBuilder\n",
    "from src.models.classifiers import SimpleCNNtorch\n",
    "from src.models.vae import BetaVAE\n",
    "from src.cf_methods import Revise\n",
    "from src.evaluation.local_instability import perturb_sample\n",
    "from src.utils import extract_factual_instances, filter_valid_factuals\n",
    "from src.utils import seed_everything, get_config, load_model_weights\n",
    "from src.utils import evaluate_classification_model, plot_boxplot"
   ]
  },
  {
   "cell_type": "code",
   "execution_count": 2,
   "id": "f4d9f5ba",
   "metadata": {},
   "outputs": [],
   "source": [
    "seed_everything()\n",
    "warnings.filterwarnings(\"ignore\", category=UserWarning)"
   ]
  },
  {
   "cell_type": "code",
   "execution_count": 3,
   "id": "3019140f",
   "metadata": {},
   "outputs": [],
   "source": [
    "config_path = r'/data/leuven/365/vsc36567/CF-Robustness-Benchmark/configs/revise_fmnist_binary.yaml'\n",
    "# r\"D:\\PycharmProjects\\CF-Robustness-Benchmark\\configs\\revise_mnist_binary.yaml\"\n",
    "config = get_config(config_path)"
   ]
  },
  {
   "cell_type": "code",
   "execution_count": 4,
   "id": "7a67998e",
   "metadata": {},
   "outputs": [],
   "source": [
    "config.data.classes = [0, 2, 4, 6]\n",
    "config.data.num_classes = len(config.data.classes)\n",
    "config.vae.checkpoints_path = \"/data/leuven/365/vsc36567/CF-Robustness-Benchmark/notebooks/experiments/fmnist_vae/multiclass/checkpoints/fmnist__epoch=34.pth\""
   ]
  },
  {
   "cell_type": "code",
   "execution_count": 19,
   "id": "0bcba42d",
   "metadata": {},
   "outputs": [],
   "source": [
    "config.save_dir = '/data/leuven/365/vsc36567/CF-Robustness-Benchmark/cf_output/fmnist/revise_multiclass'"
   ]
  },
  {
   "cell_type": "code",
   "execution_count": 5,
   "id": "7b394649",
   "metadata": {},
   "outputs": [],
   "source": [
    "ds_builder = DatasetBuilder(config)\n",
    "ds_builder.setup()\n",
    "train_loader, val_loader, test_loader = ds_builder.get_dataloaders()"
   ]
  },
  {
   "cell_type": "code",
   "execution_count": 6,
   "id": "9c8b1ad4",
   "metadata": {},
   "outputs": [],
   "source": [
    "os.makedirs(config.save_dir, exist_ok=True)\n",
    "class_names = ds_builder.class_encodings\n",
    "classes4fname = (\"_\").join([str(i) for i in class_names.values()]) if config.data.num_classes == 2 else \"\"\n",
    "ds_name = config.data.name"
   ]
  },
  {
   "cell_type": "markdown",
   "id": "0871437d",
   "metadata": {},
   "source": [
    "### Load the classifier and VAE"
   ]
  },
  {
   "cell_type": "code",
   "execution_count": 7,
   "id": "978e66b6",
   "metadata": {},
   "outputs": [
    {
     "name": "stdout",
     "output_type": "stream",
     "text": [
      "Accuracy for the test dataset: 81.994%\n"
     ]
    }
   ],
   "source": [
    "device = config.accelerator\n",
    "config.classifier.checkpoints_path = r'/data/leuven/365/vsc36567/CF-Robustness-Benchmark/notebooks/experiments/fmnist_classification/multiclass/checkpoints/fmnist__epoch=12_val_accuracy=0.84.pth'\n",
    "baseline_classifier = SimpleCNNtorch(**config.classifier.args,\n",
    "                                    num_classes=config.data.num_classes,\n",
    "                                    img_size=config.data.img_size)\n",
    "load_model_weights(baseline_classifier, weights_path=config.classifier.checkpoints_path, lightning_used=True)\n",
    "evaluate_classification_model(baseline_classifier, test_loader, config.data.num_classes)\n",
    "baseline_classifier = baseline_classifier.to(device)"
   ]
  },
  {
   "cell_type": "code",
   "execution_count": 8,
   "id": "718fd699",
   "metadata": {},
   "outputs": [],
   "source": [
    "vae = BetaVAE(**config.vae.args, input_size=(config.data.img_size, config.data.img_size))\n",
    "config.vae.checkpoints_path = r\"/data/leuven/365/vsc36567/CF-Robustness-Benchmark/notebooks/experiments/fmnist_vae/multiclass/checkpoints/fmnist__epoch=34.pth\"\n",
    "load_model_weights(vae, weights_path=config.vae.checkpoints_path, lightning_used=True)"
   ]
  },
  {
   "cell_type": "code",
   "execution_count": 9,
   "id": "d09cdeaa",
   "metadata": {},
   "outputs": [
    {
     "data": {
      "image/png": "[encoded data removed]",
      "text/plain": [
       "<Figure size 1500x400 with 16 Axes>"
      ]
     },
     "metadata": {},
     "output_type": "display_data"
    }
   ],
   "source": [
    "vae = vae.to(device)\n",
    "vae.eval()\n",
    "with torch.no_grad():\n",
    "    images, _ = next(iter(test_loader))\n",
    "    images = images.to(device)\n",
    "\n",
    "    z, _ = vae.encoder(images)\n",
    "    recon_images = vae.decoder(z)\n",
    "    recon_images = recon_images.to(device)\n",
    "\n",
    "    # plot reconstructed images\n",
    "    _, axes = plt.subplots(2, 8, figsize=(15, 4))\n",
    "    for i in range(8):\n",
    "        axes[0, i].imshow(images[i].permute(1, 2, 0).cpu().squeeze(), cmap='gray')\n",
    "        axes[0, i].axis('off')\n",
    "        axes[1, i].imshow(recon_images[i].permute(1, 2, 0).cpu().squeeze(), cmap='gray')\n",
    "        axes[1, i].axis('off')"
   ]
  },
  {
   "cell_type": "markdown",
   "id": "479603ff",
   "metadata": {},
   "source": [
    "### Preparing factual test instances and their perturbed versions"
   ]
  },
  {
   "cell_type": "code",
   "execution_count": 10,
   "id": "a48ec5ec",
   "metadata": {},
   "outputs": [],
   "source": [
    "factuals, labels = extract_factual_instances(test_loader, init_class_idx=[0, 2, 6])\n",
    "factuals, labels = filter_valid_factuals(factuals, labels, baseline_classifier, device)"
   ]
  },
  {
   "cell_type": "code",
   "execution_count": 11,
   "id": "08ee3fff",
   "metadata": {},
   "outputs": [
    {
     "name": "stdout",
     "output_type": "stream",
     "text": [
      "Accuracy: 100%\n"
     ]
    }
   ],
   "source": [
    "# Checking for correctly predicted factuals \n",
    "preds = torch.argmax(baseline_classifier(factuals.to(device)), axis=1).detach().cpu()\n",
    "print('Accuracy: {:.0%}'.format(torch.where(preds == labels)[0].shape[0] / factuals.shape[0]))"
   ]
  },
  {
   "cell_type": "code",
   "execution_count": 12,
   "id": "0e8d9034",
   "metadata": {},
   "outputs": [],
   "source": [
    "noise_magnitudes = [0.001, 0.0025, 0.005, 0.0075, 0.01]"
   ]
  },
  {
   "cell_type": "markdown",
   "id": "439a284f",
   "metadata": {},
   "source": [
    "Prepare perturbed factual instances for the generation of CFEs. We need those perturbed factuals that\n",
    "are predicted correctly by the classifier"
   ]
  },
  {
   "cell_type": "code",
   "execution_count": 13,
   "id": "b12f7d3e",
   "metadata": {},
   "outputs": [
    {
     "name": "stdout",
     "output_type": "stream",
     "text": [
      "Number of valid perturbed factuals for the added noise level 0.001:  1695\n",
      "Number of valid perturbed factuals for the added noise level 0.0025:  1654\n",
      "Number of valid perturbed factuals for the added noise level 0.005:  1620\n",
      "Number of valid perturbed factuals for the added noise level 0.0075:  1609\n",
      "Number of valid perturbed factuals for the added noise level 0.01:  1596\n"
     ]
    }
   ],
   "source": [
    "n = 100\n",
    "factuals_pert = {}\n",
    "indices_pert = {}\n",
    "\n",
    "for noise in noise_magnitudes:\n",
    "    pert_sample = perturb_sample(factuals, n_samples=1, noise_magnitude=noise)\n",
    "    pert_sample = torch.Tensor(pert_sample)\n",
    "\n",
    "    # Check whether perturbed instances lead to the same class prediction\n",
    "    predictions = torch.argmax(baseline_classifier(pert_sample.to(device)), axis=1).detach().cpu()\n",
    "    indices = np.where(predictions == labels)[0]\n",
    "    print(f'Number of valid perturbed factuals for the added noise level {noise}: ', indices.shape[0])\n",
    "    factuals_pert[noise] = pert_sample\n",
    "    indices_pert[noise] = indices\n",
    "\n",
    "final_indices = reduce(np.intersect1d, list(indices_pert.values()))\n",
    "factuals_pert = {k : v[final_indices][:n] for k, v in factuals_pert.items()}\n",
    "factuals = factuals[final_indices][:n]\n",
    "labels = labels[final_indices][:n]"
   ]
  },
  {
   "cell_type": "markdown",
   "id": "5ae6b476",
   "metadata": {},
   "source": [
    "Visualize the factual instances perturbed with different noise magnitude"
   ]
  },
  {
   "cell_type": "code",
   "execution_count": 14,
   "id": "f124b049",
   "metadata": {},
   "outputs": [
    {
     "data": {
      "image/png": "[encoded data removed]",
      "text/plain": [
       "<Figure size 1000x400 with 6 Axes>"
      ]
     },
     "metadata": {},
     "output_type": "display_data"
    }
   ],
   "source": [
    "ind = 10\n",
    "n_rows = 1\n",
    "n_cols = len(noise_magnitudes) + 1\n",
    "fig, axs = plt.subplots(n_rows, n_cols, figsize=(10, 4))\n",
    "\n",
    "for j in range(n_cols):\n",
    "    if j == 0: \n",
    "        axs[j].imshow(factuals[ind].squeeze().squeeze(), cmap='gray')\n",
    "        axs[j].set_title('$\\\\epsilon$=0') \n",
    "        axs[j].axis('off')\n",
    "    else:\n",
    "        noise = noise_magnitudes[j-1]\n",
    "        pert_image = factuals_pert[noise][ind].squeeze().squeeze() \n",
    "        axs[j].imshow(pert_image, cmap='gray')\n",
    "        axs[j].set_title('$\\\\epsilon$='+str(noise)) \n",
    "        axs[j].axis('off')\n",
    "        \n",
    "plt.show()"
   ]
  },
  {
   "cell_type": "markdown",
   "id": "89a7c4fa",
   "metadata": {},
   "source": [
    "# Generate CFEs"
   ]
  },
  {
   "cell_type": "code",
   "execution_count": 15,
   "id": "015a1d05",
   "metadata": {},
   "outputs": [
    {
     "data": {
      "text/plain": [
       "array([[0., 0., 1., 0.]])"
      ]
     },
     "execution_count": 15,
     "metadata": {},
     "output_type": "execute_result"
    }
   ],
   "source": [
    "target_class = 4\n",
    "target_class_ind = 2\n",
    "hparams = config.revise_hyperparameters\n",
    "hparams['max_iter'] = 1000\n",
    "hparams['lambda'] = 0.05\n",
    "hparams['target_class_ind'] = np.zeros((1, config.data.num_classes))\n",
    "hparams['target_class_ind'][0, target_class_ind] = 1\n",
    "revise_method = Revise(baseline_classifier, vae, hparams)\n",
    "hparams['target_class_ind']"
   ]
  },
  {
   "cell_type": "code",
   "execution_count": 18,
   "id": "69cc1b4b",
   "metadata": {},
   "outputs": [
    {
     "name": "stderr",
     "output_type": "stream",
     "text": [
      "100%|██████████| 100/100 [05:44<00:00,  3.44s/it]\n"
     ]
    }
   ],
   "source": [
    "cfes = revise_method.get_counterfactuals(factuals, verbose=False)"
   ]
  },
  {
   "cell_type": "code",
   "execution_count": 20,
   "id": "0a2d1d50",
   "metadata": {},
   "outputs": [],
   "source": [
    "fname = f'cfes_{ds_name.lower()}_{target_class}.pkl'\n",
    "with open(osp.join(config.save_dir, fname), 'wb') as f:\n",
    "    pickle.dump(cfes, f)"
   ]
  },
  {
   "cell_type": "markdown",
   "id": "ec9d4b46",
   "metadata": {},
   "source": [
    "Read already generated CFEs"
   ]
  },
  {
   "cell_type": "code",
   "execution_count": 16,
   "id": "18516fc7",
   "metadata": {},
   "outputs": [],
   "source": [
    "fname = f'cfes_{ds_name.lower()}_{target_class}.pkl'\n",
    "with open(osp.join(config.save_dir, fname), 'rb') as f:\n",
    "    cfes = pickle.load(f)"
   ]
  },
  {
   "cell_type": "code",
   "execution_count": 22,
   "id": "7a25fd4e",
   "metadata": {},
   "outputs": [
    {
     "name": "stderr",
     "output_type": "stream",
     "text": [
      "100%|██████████| 100/100 [05:32<00:00,  3.33s/it]\n",
      "100%|██████████| 100/100 [05:32<00:00,  3.32s/it]\n",
      "100%|██████████| 100/100 [05:30<00:00,  3.31s/it]\n",
      "100%|██████████| 100/100 [05:31<00:00,  3.31s/it]\n",
      "100%|██████████| 100/100 [05:30<00:00,  3.31s/it]\n"
     ]
    }
   ],
   "source": [
    "cfes_pert = {} \n",
    "\n",
    "for noise in noise_magnitudes:\n",
    "    cfes_pert[noise] = revise_method.get_counterfactuals(factuals_pert[noise], verbose=False)\n",
    "    fname = f'cfes_{ds_name.lower()}_{target_class}_noise_{noise}.pkl'\n",
    "    with open(osp.join(config.save_dir, fname), 'wb') as f:\n",
    "        pickle.dump(cfes_pert[noise], f)"
   ]
  },
  {
   "cell_type": "markdown",
   "id": "212260f5",
   "metadata": {},
   "source": [
    "Read already generated perturbed CFEs"
   ]
  },
  {
   "cell_type": "code",
   "execution_count": 18,
   "id": "f2b61729",
   "metadata": {},
   "outputs": [],
   "source": [
    "cfes_pert = {} \n",
    "\n",
    "for noise in noise_magnitudes:\n",
    "    fname = f'cfes_{ds_name.lower()}_{target_class}_noise_{noise}.pkl'\n",
    "    with open(osp.join(config.save_dir, fname), 'rb') as f:\n",
    "        cfes_pert[noise] = pickle.load(f)"
   ]
  },
  {
   "cell_type": "code",
   "execution_count": 22,
   "id": "ff4576a4",
   "metadata": {},
   "outputs": [
    {
     "data": {
      "image/png": "[encoded data removed]",
      "text/plain": [
       "<Figure size 1000x400 with 10 Axes>"
      ]
     },
     "metadata": {},
     "output_type": "display_data"
    }
   ],
   "source": [
    "n_rows = 2\n",
    "n_cols = 5\n",
    "\n",
    "ind = 5\n",
    "\n",
    "fig, axs = plt.subplots(n_rows, n_cols, figsize=(10, 4))\n",
    "for i in range(n_rows):\n",
    "    for j in range(n_cols):\n",
    "        noise = noise_magnitudes[j]\n",
    "        if i == 0: \n",
    "            pert_image = factuals_pert[noise][ind].squeeze().squeeze() \n",
    "            axs[i, j].imshow(pert_image, cmap='gray')\n",
    "            axs[i, j].set_title('$\\\\epsilon$='+str(noise)) \n",
    "            axs[i, j].axis('off')\n",
    "        # elif i == 1:\n",
    "        #     axs[i, j].imshow(cfes[ind].squeeze(), cmap='gray')\n",
    "        #     axs[i, j].axis('off')\n",
    "        #     axs[i, j].set_ylabel('CFE /wo noise')\n",
    "        else:\n",
    "            axs[i, j].imshow(cfes_pert[noise][ind].transpose(1, 2, 0), cmap='gray')\n",
    "            pred_class = class_names[torch.argmax(baseline_classifier(torch.Tensor(cfes_pert[noise][ind]).unsqueeze(0).to(device))).item()]\n",
    "            axs[i, j].set_title('pred='+str(pred_class))\n",
    "            # axs[i, j].set_title('epsilon='+str(noise)) \n",
    "            axs[i, j].axis('off')\n",
    "            axs[i, j].set_ylabel('CFE /w noise')\n",
    "plt.show()"
   ]
  },
  {
   "cell_type": "markdown",
   "id": "6111499c",
   "metadata": {},
   "source": [
    "## Local Instability"
   ]
  },
  {
   "cell_type": "code",
   "execution_count": 32,
   "id": "07c5e78d",
   "metadata": {},
   "outputs": [],
   "source": [
    "from src.evaluation.local_instability import calculate_sparsity, calculate_ssim"
   ]
  },
  {
   "cell_type": "markdown",
   "id": "e452fbdd",
   "metadata": {},
   "source": [
    "Checking validity of explanations after perturbation"
   ]
  },
  {
   "cell_type": "code",
   "execution_count": 34,
   "id": "8317da7b",
   "metadata": {},
   "outputs": [
    {
     "name": "stdout",
     "output_type": "stream",
     "text": [
      "Initial validity:  0.66\n"
     ]
    }
   ],
   "source": [
    "validity = 0\n",
    "for cfe in cfes:\n",
    "    if len(cfe) !=0:\n",
    "        pred = torch.argmax(baseline_classifier(torch.Tensor(cfe).unsqueeze(0).to(device)), axis=1).detach().cpu()\n",
    "        if pred == target_class_ind:    \n",
    "            validity += 1\n",
    "validity /= len(cfes)\n",
    "print('Initial validity: ', validity)"
   ]
  },
  {
   "cell_type": "code",
   "execution_count": 35,
   "metadata": {},
   "outputs": [
    {
     "name": "stdout",
     "output_type": "stream",
     "text": [
      "Validity for the added noise level 0.001:  0.74\n",
      "Validity for the added noise level 0.0025:  0.83\n",
      "Validity for the added noise level 0.005:  0.87\n",
      "Validity for the added noise level 0.0075:  0.85\n",
      "Validity for the added noise level 0.01:  0.85\n"
     ]
    }
   ],
   "source": [
    "target_cls_ind = 2\n",
    "\n",
    "validity_list = []\n",
    "for noise in noise_magnitudes:\n",
    "    predictions = []\n",
    "    validity = 0\n",
    "    total_cfes_found = len(cfes_pert[noise])\n",
    "    for i, cfe_pert in enumerate(cfes_pert[noise]):\n",
    "        if len(cfe_pert) == 0:\n",
    "            continue\n",
    "\n",
    "        predictions = torch.argmax(baseline_classifier(torch.Tensor(cfe_pert).unsqueeze(0).to(device)), axis=1).detach().cpu()\n",
    "        if predictions == target_cls_ind: \n",
    "            validity += 1 \n",
    "    validity /= total_cfes_found\n",
    "    validity_list.append(validity) \n",
    "    print(f'Validity for the added noise level {noise}: ',  validity)\n",
    "\n",
    "fname = f'{ds_name.lower()}_{target_class}_validity.pkl'\n",
    "with open(osp.join(config.save_dir, fname), 'wb') as f:\n",
    "    pickle.dump(validity_list, f)"
   ]
  },
  {
   "cell_type": "code",
   "execution_count": 36,
   "id": "f22bf62f",
   "metadata": {},
   "outputs": [],
   "source": [
    "instability_l1_list = []\n",
    "ssim_list = []\n",
    "\n",
    "for noise, cfe_pert_list in cfes_pert.items():\n",
    "    l1_temp = []\n",
    "    ssim_temp = []\n",
    "    for i in range(len(cfes)):\n",
    "        cf = cfes[i]\n",
    "        cf_pert = cfe_pert_list[i]\n",
    "\n",
    "        if len(cf) != 0 and len(cf_pert) != 0:\n",
    "\n",
    "            cf_tensor = torch.Tensor(cf)\n",
    "            cf = cf_tensor.permute(1, 2, 0).flatten()\n",
    "\n",
    "            cf_pert_tensor = torch.Tensor(cf_pert)\n",
    "            cf_perturbed = cf_pert_tensor.permute(1, 2, 0).flatten()        \n",
    "\n",
    "            l1_distance = sum(abs(cf - cf_perturbed)).item() # np.linalg.norm(cf.flatten() - cf_perturbed.flatten(), ord=1)\n",
    "            l1_temp.append(l1_distance)\n",
    "\n",
    "            ssim = calculate_ssim(cf_tensor.unsqueeze(0), cf_pert_tensor.unsqueeze(0)).item()\n",
    "            ssim_temp.append(ssim)\n",
    "\n",
    "    instability_l1_list.append(l1_temp)\n",
    "    ssim_list.append(ssim_temp)\n",
    "\n",
    "with open(osp.join(config.save_dir, f'{ds_name.lower()}_{target_class}_li_l1.pkl'), 'wb') as f:\n",
    "    pickle.dump(instability_l1_list, f)\n",
    "\n",
    "with open(osp.join(config.save_dir, f'{ds_name.lower()}_{target_class}_ssim.pkl'), 'wb') as f:\n",
    "    pickle.dump(ssim_list, f)"
   ]
  },
  {
   "cell_type": "code",
   "execution_count": 37,
   "id": "f0495078",
   "metadata": {},
   "outputs": [
    {
     "data": {
      "image/png": "[encoded data removed]",
      "text/plain": [
       "<Figure size 800x400 with 1 Axes>"
      ]
     },
     "metadata": {},
     "output_type": "display_data"
    }
   ],
   "source": [
    "import pandas as pd\n",
    "plt.style.use(\"seaborn-v0_8\")\n",
    "plt.rcParams['figure.figsize'] = [8, 4]\n",
    "\n",
    "plot_boxplot(data=instability_l1_list, mean_values=[np.mean(li).round(2) for li in instability_l1_list],\n",
    "            tick_labels=[f'$\\\\epsilon$={noise_level}' for noise_level in noise_magnitudes],\n",
    "            y_label='Local Instability', colors=['lightyellow'], \n",
    "            title='L1 distance between CFEs of similar inputs')"
   ]
  },
  {
   "cell_type": "code",
   "execution_count": 38,
   "id": "ae05efa5",
   "metadata": {},
   "outputs": [
    {
     "data": {
      "image/png": "[encoded data removed]",
      "text/plain": [
       "<Figure size 800x400 with 1 Axes>"
      ]
     },
     "metadata": {},
     "output_type": "display_data"
    }
   ],
   "source": [
    "plot_boxplot(data=ssim_list, mean_values=[np.mean(li).round(2) for li in ssim_list],\n",
    "             tick_labels=[f'$\\\\epsilon$={noise_level}' for noise_level in noise_magnitudes],\n",
    "             y_label='Local Instability', colors=['lightgreen'], title='SSIM between CFEs of similar inputs')"
   ]
  },
  {
   "cell_type": "markdown",
   "id": "647d6b4e",
   "metadata": {},
   "source": [
    "## Local Lipschitz Continuity"
   ]
  },
  {
   "cell_type": "code",
   "execution_count": 23,
   "id": "f8adabae",
   "metadata": {},
   "outputs": [
    {
     "name": "stdout",
     "output_type": "stream",
     "text": [
      "Are the lengths of initial points (factuals) and CFEs generated for them equal : True\n"
     ]
    }
   ],
   "source": [
    "original_points = factuals\n",
    "original_cfes = cfes\n",
    "print(\"Are the lengths of initial points (factuals) and CFEs generated for them equal :\", len(original_cfes) == original_points.shape[0])"
   ]
  },
  {
   "cell_type": "code",
   "execution_count": 32,
   "id": "55f0ea87",
   "metadata": {},
   "outputs": [
    {
     "name": "stderr",
     "output_type": "stream",
     "text": [
      "100%|██████████| 30/30 [01:40<00:00,  3.34s/it]\n",
      "30it [00:00, 21013.55it/s]\n",
      "100%|██████████| 30/30 [01:39<00:00,  3.32s/it]\n",
      "30it [00:00, 8429.63it/s]\n",
      "100%|██████████| 30/30 [01:38<00:00,  3.28s/it]\n",
      "30it [00:00, 6593.78it/s]\n",
      "100%|██████████| 30/30 [01:37<00:00,  3.27s/it]\n",
      "30it [00:00, 105384.52it/s]\n",
      "100%|██████████| 30/30 [01:39<00:00,  3.32s/it]\n",
      "30it [00:00, 26013.88it/s]\n",
      "100%|██████████| 30/30 [01:39<00:00,  3.31s/it]\n",
      "30it [00:00, 23541.46it/s]\n",
      "100%|██████████| 30/30 [01:39<00:00,  3.33s/it]\n",
      "30it [00:00, 26368.21it/s]\n",
      "100%|██████████| 30/30 [01:38<00:00,  3.28s/it]\n",
      "30it [00:00, 66682.10it/s]\n",
      "100%|██████████| 30/30 [01:39<00:00,  3.33s/it]\n",
      "30it [00:00, 23207.14it/s]\n",
      " 77%|███████▋  | 23/30 [01:17<00:23,  3.39s/it]\n",
      "10it [16:12, 97.24s/it]\n"
     ]
    },
    {
     "ename": "KeyboardInterrupt",
     "evalue": "",
     "output_type": "error",
     "traceback": [
      "\u001b[0;31m---------------------------------------------------------------------------\u001b[0m",
      "\u001b[0;31mKeyboardInterrupt\u001b[0m                         Traceback (most recent call last)",
      "Cell \u001b[0;32mIn[32], line 16\u001b[0m\n\u001b[1;32m     12\u001b[0m neighbor_points \u001b[38;5;241m=\u001b[39m perturb_sample(original_point\u001b[38;5;241m.\u001b[39munsqueeze(\u001b[38;5;241m0\u001b[39m), \n\u001b[1;32m     13\u001b[0m                                 n_samples\u001b[38;5;241m=\u001b[39m\u001b[38;5;241m30\u001b[39m, \n\u001b[1;32m     14\u001b[0m                                 noise_magnitude\u001b[38;5;241m=\u001b[39mnoise_magnitude)    \n\u001b[1;32m     15\u001b[0m neighbor_points \u001b[38;5;241m=\u001b[39m torch\u001b[38;5;241m.\u001b[39mTensor(neighbor_points)\n\u001b[0;32m---> 16\u001b[0m neighbor_cfes \u001b[38;5;241m=\u001b[39m \u001b[43mrevise_method\u001b[49m\u001b[38;5;241;43m.\u001b[39;49m\u001b[43mget_counterfactuals\u001b[49m\u001b[43m(\u001b[49m\u001b[43mneighbor_points\u001b[49m\u001b[43m,\u001b[49m\u001b[43m \u001b[49m\u001b[43mverbose\u001b[49m\u001b[38;5;241;43m=\u001b[39;49m\u001b[38;5;28;43;01mFalse\u001b[39;49;00m\u001b[43m)\u001b[49m\n\u001b[1;32m     18\u001b[0m lip_estimate \u001b[38;5;241m=\u001b[39m \u001b[38;5;241m0\u001b[39m\n\u001b[1;32m     19\u001b[0m \u001b[38;5;28;01mfor\u001b[39;00m m, p \u001b[38;5;129;01min\u001b[39;00m tqdm(\u001b[38;5;28mzip\u001b[39m(neighbor_cfes, neighbor_points)):\n",
      "File \u001b[0;32m/vsc-hard-mounts/leuven-data/365/vsc36567/CF-Robustness-Benchmark/src/cf_methods/revise/model.py:96\u001b[0m, in \u001b[0;36mRevise.get_counterfactuals\u001b[0;34m(self, factuals, verbose)\u001b[0m\n\u001b[1;32m     93\u001b[0m \u001b[38;5;28;01mdef\u001b[39;00m\u001b[38;5;250m \u001b[39m\u001b[38;5;21mget_counterfactuals\u001b[39m(\n\u001b[1;32m     94\u001b[0m     \u001b[38;5;28mself\u001b[39m, factuals: torch\u001b[38;5;241m.\u001b[39mTensor, verbose: \u001b[38;5;28mbool\u001b[39m\n\u001b[1;32m     95\u001b[0m ) \u001b[38;5;241m-\u001b[39m\u001b[38;5;241m>\u001b[39m torch\u001b[38;5;241m.\u001b[39mTensor:\n\u001b[0;32m---> 96\u001b[0m     \u001b[38;5;28;01mreturn\u001b[39;00m \u001b[38;5;28;43mself\u001b[39;49m\u001b[38;5;241;43m.\u001b[39;49m\u001b[43m_counterfactual_optimization\u001b[49m\u001b[43m(\u001b[49m\u001b[43mfactuals\u001b[49m\u001b[43m,\u001b[49m\u001b[43m \u001b[49m\u001b[43mverbose\u001b[49m\u001b[43m)\u001b[49m\n",
      "File \u001b[0;32m/vsc-hard-mounts/leuven-data/365/vsc36567/CF-Robustness-Benchmark/src/cf_methods/revise/model.py:144\u001b[0m, in \u001b[0;36mRevise._counterfactual_optimization\u001b[0;34m(self, factuals, verbose)\u001b[0m\n\u001b[1;32m    141\u001b[0m         candidate_distances\u001b[38;5;241m.\u001b[39mappend(loss\u001b[38;5;241m.\u001b[39mcpu()\u001b[38;5;241m.\u001b[39mdetach()\u001b[38;5;241m.\u001b[39mnumpy())\n\u001b[1;32m    143\u001b[0m     loss\u001b[38;5;241m.\u001b[39mbackward()\n\u001b[0;32m--> 144\u001b[0m     \u001b[43moptim\u001b[49m\u001b[38;5;241;43m.\u001b[39;49m\u001b[43mstep\u001b[49m\u001b[43m(\u001b[49m\u001b[43m)\u001b[49m\n\u001b[1;32m    145\u001b[0m     optim\u001b[38;5;241m.\u001b[39mzero_grad()\n\u001b[1;32m    147\u001b[0m \u001b[38;5;66;03m# Choose the nearest counterfactual\u001b[39;00m\n",
      "File \u001b[0;32m/data/leuven/365/vsc36567/miniconda3/lib/python3.12/site-packages/torch/optim/optimizer.py:478\u001b[0m, in \u001b[0;36mOptimizer.profile_hook_step.<locals>.wrapper\u001b[0;34m(*args, **kwargs)\u001b[0m\n\u001b[1;32m    476\u001b[0m \u001b[38;5;28mself\u001b[39m \u001b[38;5;241m=\u001b[39m cast(Optimizer, \u001b[38;5;28mself\u001b[39m)\n\u001b[1;32m    477\u001b[0m profile_name \u001b[38;5;241m=\u001b[39m \u001b[38;5;124mf\u001b[39m\u001b[38;5;124m\"\u001b[39m\u001b[38;5;124mOptimizer.step#\u001b[39m\u001b[38;5;132;01m{\u001b[39;00m\u001b[38;5;28mself\u001b[39m\u001b[38;5;241m.\u001b[39m\u001b[38;5;18m__class__\u001b[39m\u001b[38;5;241m.\u001b[39m\u001b[38;5;18m__name__\u001b[39m\u001b[38;5;132;01m}\u001b[39;00m\u001b[38;5;124m.step\u001b[39m\u001b[38;5;124m\"\u001b[39m\n\u001b[0;32m--> 478\u001b[0m \u001b[43m\u001b[49m\u001b[38;5;28;43;01mwith\u001b[39;49;00m\u001b[43m \u001b[49m\u001b[43mtorch\u001b[49m\u001b[38;5;241;43m.\u001b[39;49m\u001b[43mautograd\u001b[49m\u001b[38;5;241;43m.\u001b[39;49m\u001b[43mprofiler\u001b[49m\u001b[38;5;241;43m.\u001b[39;49m\u001b[43mrecord_function\u001b[49m\u001b[43m(\u001b[49m\u001b[43mprofile_name\u001b[49m\u001b[43m)\u001b[49m\u001b[43m:\u001b[49m\n\u001b[1;32m    479\u001b[0m \u001b[43m    \u001b[49m\u001b[38;5;66;43;03m# call optimizer step pre hooks\u001b[39;49;00m\n\u001b[1;32m    480\u001b[0m \u001b[43m    \u001b[49m\u001b[38;5;28;43;01mfor\u001b[39;49;00m\u001b[43m \u001b[49m\u001b[43mpre_hook\u001b[49m\u001b[43m \u001b[49m\u001b[38;5;129;43;01min\u001b[39;49;00m\u001b[43m \u001b[49m\u001b[43mchain\u001b[49m\u001b[43m(\u001b[49m\n\u001b[1;32m    481\u001b[0m \u001b[43m        \u001b[49m\u001b[43m_global_optimizer_pre_hooks\u001b[49m\u001b[38;5;241;43m.\u001b[39;49m\u001b[43mvalues\u001b[49m\u001b[43m(\u001b[49m\u001b[43m)\u001b[49m\u001b[43m,\u001b[49m\n\u001b[1;32m    482\u001b[0m \u001b[43m        \u001b[49m\u001b[38;5;28;43mself\u001b[39;49m\u001b[38;5;241;43m.\u001b[39;49m\u001b[43m_optimizer_step_pre_hooks\u001b[49m\u001b[38;5;241;43m.\u001b[39;49m\u001b[43mvalues\u001b[49m\u001b[43m(\u001b[49m\u001b[43m)\u001b[49m\u001b[43m,\u001b[49m\n\u001b[1;32m    483\u001b[0m \u001b[43m    \u001b[49m\u001b[43m)\u001b[49m\u001b[43m:\u001b[49m\n\u001b[1;32m    484\u001b[0m \u001b[43m        \u001b[49m\u001b[43mresult\u001b[49m\u001b[43m \u001b[49m\u001b[38;5;241;43m=\u001b[39;49m\u001b[43m \u001b[49m\u001b[43mpre_hook\u001b[49m\u001b[43m(\u001b[49m\u001b[38;5;28;43mself\u001b[39;49m\u001b[43m,\u001b[49m\u001b[43m \u001b[49m\u001b[43margs\u001b[49m\u001b[43m,\u001b[49m\u001b[43m \u001b[49m\u001b[43mkwargs\u001b[49m\u001b[43m)\u001b[49m\n",
      "File \u001b[0;32m/data/leuven/365/vsc36567/miniconda3/lib/python3.12/site-packages/torch/autograd/profiler.py:769\u001b[0m, in \u001b[0;36mrecord_function.__exit__\u001b[0;34m(self, exc_type, exc_value, traceback)\u001b[0m\n\u001b[1;32m    767\u001b[0m \u001b[38;5;28;01mif\u001b[39;00m \u001b[38;5;129;01mnot\u001b[39;00m torch\u001b[38;5;241m.\u001b[39mjit\u001b[38;5;241m.\u001b[39mis_scripting():\n\u001b[1;32m    768\u001b[0m     \u001b[38;5;28;01mwith\u001b[39;00m torch\u001b[38;5;241m.\u001b[39m_C\u001b[38;5;241m.\u001b[39mDisableTorchFunctionSubclass():\n\u001b[0;32m--> 769\u001b[0m         \u001b[43mtorch\u001b[49m\u001b[38;5;241;43m.\u001b[39;49m\u001b[43mops\u001b[49m\u001b[38;5;241;43m.\u001b[39;49m\u001b[43mprofiler\u001b[49m\u001b[38;5;241;43m.\u001b[39;49m\u001b[43m_record_function_exit\u001b[49m\u001b[38;5;241;43m.\u001b[39;49m\u001b[43m_RecordFunction\u001b[49m\u001b[43m(\u001b[49m\u001b[43mrecord\u001b[49m\u001b[43m)\u001b[49m\n\u001b[1;32m    770\u001b[0m \u001b[38;5;28;01melse\u001b[39;00m:\n\u001b[1;32m    771\u001b[0m     torch\u001b[38;5;241m.\u001b[39mops\u001b[38;5;241m.\u001b[39mprofiler\u001b[38;5;241m.\u001b[39m_record_function_exit(record)\n",
      "File \u001b[0;32m/data/leuven/365/vsc36567/miniconda3/lib/python3.12/site-packages/torch/_ops.py:960\u001b[0m, in \u001b[0;36mTorchBindOpOverload.__call__\u001b[0;34m(self, *args, **kwargs)\u001b[0m\n\u001b[1;32m    958\u001b[0m     \u001b[38;5;28;01mwith\u001b[39;00m \u001b[38;5;28mself\u001b[39m\u001b[38;5;241m.\u001b[39m_register_as_effectful_op_temporarily():\n\u001b[1;32m    959\u001b[0m         \u001b[38;5;28;01mreturn\u001b[39;00m \u001b[38;5;28mself\u001b[39m\u001b[38;5;241m.\u001b[39m_dispatch_in_python(args, kwargs, \u001b[38;5;28mself\u001b[39m\u001b[38;5;241m.\u001b[39m_fallthrough_keys())\n\u001b[0;32m--> 960\u001b[0m \u001b[38;5;28;01mreturn\u001b[39;00m \u001b[38;5;28;43mself\u001b[39;49m\u001b[38;5;241;43m.\u001b[39;49m\u001b[43m_op\u001b[49m\u001b[43m(\u001b[49m\u001b[38;5;241;43m*\u001b[39;49m\u001b[43margs\u001b[49m\u001b[43m,\u001b[49m\u001b[43m \u001b[49m\u001b[38;5;241;43m*\u001b[39;49m\u001b[38;5;241;43m*\u001b[39;49m\u001b[43mkwargs\u001b[49m\u001b[43m)\u001b[49m\n",
      "\u001b[0;31mKeyboardInterrupt\u001b[0m: "
     ]
    }
   ],
   "source": [
    "noise_magnitude = 0.001\n",
    "n_samples = 15\n",
    "# revise_method._params[\"max_iter\"] = 1000\n",
    "\n",
    "lip_estimates = []\n",
    "\n",
    "i = 0\n",
    "for original_point, original_cfe in tqdm(zip(original_points[n_samples:], original_cfes[n_samples:])):\n",
    "    if isinstance(original_cfe, list):\n",
    "        continue\n",
    "\n",
    "    neighbor_points = perturb_sample(original_point.unsqueeze(0), \n",
    "                                    n_samples=30, \n",
    "                                    noise_magnitude=noise_magnitude)    \n",
    "    neighbor_points = torch.Tensor(neighbor_points)\n",
    "    neighbor_cfes = revise_method.get_counterfactuals(neighbor_points, verbose=False)\n",
    "\n",
    "    lip_estimate = 0\n",
    "    for m, p in tqdm(zip(neighbor_cfes, neighbor_points)):\n",
    "        if not isinstance(m, list):\n",
    "            num = np.linalg.norm((original_cfe - m).flatten(), ord=2) \n",
    "            denom = np.linalg.norm((original_point - p).flatten(), ord=2)\n",
    "            lip = num / denom\n",
    "            lip_estimate = max(lip, lip_estimate)\n",
    "\n",
    "    lip_estimates.append(lip_estimate)\n",
    "    i += 1"
   ]
  },
  {
   "cell_type": "code",
   "execution_count": 33,
   "id": "5052ea82",
   "metadata": {},
   "outputs": [],
   "source": [
    "with open(osp.join(config.save_dir, f'{ds_name.lower()}_{target_class}_lle_rest10.pkl'), 'wb') as f:\n",
    "        pickle.dump(lip_estimates, f)"
   ]
  },
  {
   "cell_type": "code",
   "execution_count": 31,
   "id": "dca29168",
   "metadata": {},
   "outputs": [
    {
     "data": {
      "text/plain": [
       "('fmnist_4_lle.pkl',\n",
       " '/data/leuven/365/vsc36567/CF-Robustness-Benchmark/cf_output/fmnist/revise_multiclass')"
      ]
     },
     "execution_count": 31,
     "metadata": {},
     "output_type": "execute_result"
    }
   ],
   "source": [
    "f'{ds_name.lower()}_{target_class}_lle.pkl', config.save_dir"
   ]
  },
  {
   "cell_type": "markdown",
   "id": "e04652e5",
   "metadata": {},
   "source": [
    "## Invalidation Rate"
   ]
  },
  {
   "cell_type": "code",
   "execution_count": 39,
   "id": "48bfca27",
   "metadata": {},
   "outputs": [
    {
     "name": "stdout",
     "output_type": "stream",
     "text": [
      "fmnist__3261.pth\n",
      "Accuracy for the test dataset: 81.176%\n",
      "fmnist__1013.pth\n",
      "Accuracy for the test dataset: 80.680%\n",
      "fmnist__2913.pth\n",
      "Accuracy for the test dataset: 81.052%\n",
      "fmnist__2067.pth\n",
      "Accuracy for the test dataset: 81.597%\n",
      "fmnist__1334.pth\n",
      "Accuracy for the test dataset: 79.886%\n",
      "fmnist__2828.pth\n",
      "Accuracy for the test dataset: 81.076%\n",
      "fmnist__2915.pth\n",
      "Accuracy for the test dataset: 79.712%\n",
      "fmnist__2334.pth\n",
      "Accuracy for the test dataset: 81.672%\n",
      "fmnist__1967.pth\n",
      "Accuracy for the test dataset: 80.556%\n",
      "fmnist__2279.pth\n",
      "Accuracy for the test dataset: 80.630%\n"
     ]
    }
   ],
   "source": [
    "classifiers_weights_dir = r'/data/leuven/365/vsc36567/CF-Robustness-Benchmark/notebooks/experiments/fmnist_classification/multiclass/checkpoints/mc_all'\n",
    "# r\"/data/leuven/365/vsc36567/CF-Robustness-Benchmark/notebooks/experiments/fmnist_classification/multiclass/checkpoints/mc_all\"\n",
    "# r\"/data/leuven/365/vsc36567/CF-Robustness-Benchmark/notebooks/experiments/mnist_classification/binary/checkpoints/mc_1_7\"\n",
    "\n",
    "\n",
    "classifiers_list = []\n",
    "for clf_weights in os.listdir(classifiers_weights_dir):\n",
    "    cnn_perturbed = SimpleCNNtorch(**config.classifier.args,\n",
    "                                    num_classes=config.data.num_classes,\n",
    "                                    img_size=config.data.img_size)\n",
    "    # load_model_weights(model=cnn_perturbed, \n",
    "    #                     weights_path=osp.join(classifiers_weights_dir, clf_weights))\n",
    "    checkpoint = torch.load(\n",
    "                    osp.join(classifiers_weights_dir, clf_weights), weights_only=False,\n",
    "                    map_location=torch.device(device)\n",
    "                )\n",
    "            \n",
    "    cnn_perturbed.load_state_dict(checkpoint)\n",
    "    classifiers_list.append(cnn_perturbed)\n",
    "    print(clf_weights)\n",
    "    evaluate_classification_model(cnn_perturbed, \n",
    "                                    dataloader=test_loader, \n",
    "                                    num_classes=config.data.num_classes)"
   ]
  },
  {
   "cell_type": "code",
   "execution_count": 43,
   "id": "32e5bdbb",
   "metadata": {},
   "outputs": [
    {
     "name": "stdout",
     "output_type": "stream",
     "text": [
      "Model 0: IR=0.9545, validity=0.0455\n",
      "Model 1: IR=0.9848, validity=0.0152\n",
      "Model 2: IR=0.9242, validity=0.0758\n",
      "Model 3: IR=0.9242, validity=0.0758\n",
      "Model 4: IR=0.9091, validity=0.0909\n",
      "Model 5: IR=0.8182, validity=0.1818\n",
      "Model 6: IR=0.9091, validity=0.0909\n",
      "Model 7: IR=0.9697, validity=0.0303\n",
      "Model 8: IR=0.9091, validity=0.0909\n",
      "Model 9: IR=0.9697, validity=0.0303\n",
      "Average IR : 0.927 +- 0.045\n",
      "Average VaR : 0.073 +- 0.045\n"
     ]
    }
   ],
   "source": [
    "validity_list = []\n",
    "invalidation_rate_list = []\n",
    "\n",
    "for i, classifier in enumerate(classifiers_list):\n",
    "    validity = 0\n",
    "    invalidation_rate = 0\n",
    "    total_found_cfs = 0\n",
    "    \n",
    "    for cfe in cfes:\n",
    "        if isinstance(cfe, list):\n",
    "            continue\n",
    "        \n",
    "        cfe = torch.Tensor(cfe).unsqueeze(0).to(device)\n",
    "        classifier.eval()\n",
    "        with torch.no_grad():\n",
    "            classifier = classifier.to(device)\n",
    "\n",
    "            baseline_pred = torch.argmax(baseline_classifier(cfe), axis=1)\n",
    "            alternative_pred = torch.argmax(classifier(cfe), axis=1)\n",
    "\n",
    "        total_found_cfs += 1\n",
    "\n",
    "        if baseline_pred != alternative_pred:\n",
    "            invalidation_rate += 1\n",
    "\n",
    "        if alternative_pred == target_class_ind:\n",
    "                validity += 1\n",
    "\n",
    "    invalidation_rate /= total_found_cfs\n",
    "    validity /= total_found_cfs\n",
    "\n",
    "    invalidation_rate_list.append(invalidation_rate)\n",
    "    validity_list.append(validity)\n",
    "    print(f'Model {i}: IR={np.round(invalidation_rate, 4)}, validity={np.round(validity, 4)}')\n",
    "\n",
    "print('Average IR : {:.3f} +- {:.3f}'.format(np.mean(invalidation_rate_list), np.std(invalidation_rate_list)))\n",
    "print('Average VaR : {:.3f} +- {:.3f}'.format(np.mean(validity_list), np.std(validity_list)))"
   ]
  },
  {
   "cell_type": "markdown",
   "id": "45aa7afc",
   "metadata": {},
   "source": [
    "## Relaxed Stability"
   ]
  },
  {
   "cell_type": "code",
   "execution_count": 44,
   "id": "90105fdc",
   "metadata": {},
   "outputs": [
    {
     "name": "stdout",
     "output_type": "stream",
     "text": [
      "Stability of the model 0: 0.046 +- 0.114\n",
      "Stability of the model 1: 0.035 +- 0.076\n",
      "Stability of the model 2: 0.064 +- 0.144\n",
      "Stability of the model 3: 0.068 +- 0.133\n",
      "Stability of the model 4: 0.082 +- 0.144\n",
      "Stability of the model 5: 0.125 +- 0.209\n",
      "Stability of the model 6: 0.068 +- 0.136\n",
      "Stability of the model 7: 0.052 +- 0.126\n",
      "Stability of the model 8: 0.074 +- 0.125\n",
      "Stability of the model 9: 0.039 +- 0.097\n"
     ]
    }
   ],
   "source": [
    "k = 1000\n",
    "sigma = 0.001\n",
    "\n",
    "average_stability_list = []\n",
    "for i, classifier in enumerate(classifiers_list):\n",
    "    stability_list = []\n",
    "    for cfe in cfes:\n",
    "        if isinstance(cfe, list):\n",
    "            continue\n",
    "\n",
    "        cfe = torch.Tensor(cfe).unsqueeze(0)\n",
    "        cfe_sampled = torch.Tensor(perturb_sample(cfe, n_samples=k, noise_magnitude=sigma))\n",
    "\n",
    "        with torch.no_grad():\n",
    "            cf_logits = classifier(cfe.to(device))\n",
    "            cf_probabilities = F.softmax(cf_logits, dim=-1)[:, target_class_ind]\n",
    "\n",
    "            cf_sampled_logits = classifier(cfe_sampled.to(device))\n",
    "            cf_sampled_probabilities = F.softmax(cf_sampled_logits, dim=-1)[:, target_class_ind]\n",
    "        \n",
    "        model_variance = abs(cf_probabilities - cf_sampled_probabilities)\n",
    "\n",
    "        stability = (cf_sampled_probabilities - model_variance).mean()\n",
    "        stability_list.append(stability.item())\n",
    "\n",
    "    avg_i_stability = np.mean(stability_list)\n",
    "    print('Stability of the model {}: {:.3f} +- {:.3f}'.format(i, avg_i_stability.item(), np.std(stability_list).item()))\n",
    "    average_stability_list.append(avg_i_stability)"
   ]
  },
  {
   "cell_type": "code",
   "execution_count": 47,
   "id": "9897de06",
   "metadata": {},
   "outputs": [
    {
     "name": "stdout",
     "output_type": "stream",
     "text": [
      "Average RS: 0.065 +- 0.025\n"
     ]
    }
   ],
   "source": [
    "print('Average RS: {:.3f} +- {:.3f}'.format(np.mean(average_stability_list), np.std(average_stability_list)))"
   ]
  },
  {
   "cell_type": "markdown",
   "id": "07cfc8fe",
   "metadata": {},
   "source": []
  },
  {
   "cell_type": "markdown",
   "id": "beb11b6d",
   "metadata": {},
   "source": [
    "## LOF"
   ]
  },
  {
   "cell_type": "code",
   "execution_count": 48,
   "id": "52ab5648",
   "metadata": {},
   "outputs": [],
   "source": [
    "from src.evaluation.lof import estimate_anom_cfe_in_target_class"
   ]
  },
  {
   "cell_type": "code",
   "execution_count": 53,
   "id": "584d0b7c",
   "metadata": {},
   "outputs": [
    {
     "data": {
      "text/plain": [
       "(66, 1, 28, 28)"
      ]
     },
     "execution_count": 53,
     "metadata": {},
     "output_type": "execute_result"
    }
   ],
   "source": [
    "cfes_array = np.array([cfe for cfe in cfes if not isinstance(cfe, list)])\n",
    "cfes_array.shape"
   ]
  },
  {
   "cell_type": "code",
   "execution_count": 54,
   "id": "75a06ae6",
   "metadata": {},
   "outputs": [
    {
     "name": "stdout",
     "output_type": "stream",
     "text": [
      "Average negative LOF (the lower values the more anomaluous): -1.441 +- 0.405\n"
     ]
    }
   ],
   "source": [
    "target_class_ascores, target_class_classes = estimate_anom_cfe_in_target_class(5, [2], -1.1, test_loader, cfes_array)\n",
    "print('Average negative LOF (the lower values the more anomaluous): {:.3f} +- {:.3f}'.format(np.mean(target_class_ascores), \n",
    "                                                                                            np.std(target_class_ascores)))"
   ]
  },
  {
   "cell_type": "code",
   "execution_count": 55,
   "id": "04f21afb",
   "metadata": {},
   "outputs": [
    {
     "name": "stdout",
     "output_type": "stream",
     "text": [
      "Average negative LOF (the lower values the more anomaluous): -1.183 +- 0.209\n"
     ]
    }
   ],
   "source": [
    "anomaly_scores, anomaly_classes = estimate_anom_cfe_in_target_class(5, [0, 1, 2, 3], -1.1, test_loader, cfes_array)\n",
    "print('Average negative LOF (the lower values the more anomaluous): {:.3f} +- {:.3f}'.format(np.mean(anomaly_scores), np.std(anomaly_scores)))"
   ]
  },
  {
   "cell_type": "code",
   "execution_count": null,
   "id": "c36503e3",
   "metadata": {},
   "outputs": [],
   "source": [
    "# couldn't save bc of the finished session \n",
    "with open(osp.join(save_dir, f'fmnist_{target_class}_ir_var_rs_lof.pkl'), 'wb') as f:\n",
    "    pickle.dump({'ir': (np.mean(invalidation_rate_list), np.std(invalidation_rate_list)),\n",
    "                'var': (np.mean(validity_list), np.std(validity_list)),\n",
    "                'rs': (np.mean(average_stability_list), np.std(average_stability_list)),\n",
    "                'lof_target_class': (np.mean(target_class_ascores), np.std(target_class_ascores)),\n",
    "                'lof_test_set': (np.mean(anomaly_scores), np.std(anomaly_scores))\n",
    "                }, f)"
   ]
  }
 ],
 "metadata": {
  "kernelspec": {
   "display_name": "venv",
   "language": "python",
   "name": "python3"
  },
  "language_info": {
   "codemirror_mode": {
    "name": "ipython",
    "version": 3
   },
   "file_extension": ".py",
   "mimetype": "text/x-python",
   "name": "python",
   "nbconvert_exporter": "python",
   "pygments_lexer": "ipython3",
   "version": "3.12.4"
  }
 },
 "nbformat": 4,
 "nbformat_minor": 5
}
