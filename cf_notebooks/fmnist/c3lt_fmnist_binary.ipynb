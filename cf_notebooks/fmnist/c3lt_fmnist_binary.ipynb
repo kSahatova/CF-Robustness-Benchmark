{
 "cells": [
  {
   "cell_type": "code",
   "execution_count": 1,
   "metadata": {},
   "outputs": [
    {
     "name": "stderr",
     "output_type": "stream",
     "text": [
      "2025-05-29 10:29:10.665722: E external/local_xla/xla/stream_executor/cuda/cuda_fft.cc:467] Unable to register cuFFT factory: Attempting to register factory for plugin cuFFT when one has already been registered\n",
      "WARNING: All log messages before absl::InitializeLog() is called are written to STDERR\n",
      "E0000 00:00:1748507350.683649 1014911 cuda_dnn.cc:8579] Unable to register cuDNN factory: Attempting to register factory for plugin cuDNN when one has already been registered\n",
      "E0000 00:00:1748507350.689113 1014911 cuda_blas.cc:1407] Unable to register cuBLAS factory: Attempting to register factory for plugin cuBLAS when one has already been registered\n",
      "W0000 00:00:1748507350.703702 1014911 computation_placer.cc:177] computation placer already registered. Please check linkage and avoid linking the same target more than once.\n",
      "W0000 00:00:1748507350.703721 1014911 computation_placer.cc:177] computation placer already registered. Please check linkage and avoid linking the same target more than once.\n",
      "W0000 00:00:1748507350.703723 1014911 computation_placer.cc:177] computation placer already registered. Please check linkage and avoid linking the same target more than once.\n",
      "W0000 00:00:1748507350.703724 1014911 computation_placer.cc:177] computation placer already registered. Please check linkage and avoid linking the same target more than once.\n",
      "2025-05-29 10:29:10.708226: I tensorflow/core/platform/cpu_feature_guard.cc:210] This TensorFlow binary is optimized to use available CPU instructions in performance-critical operations.\n",
      "To enable the following instructions: AVX2 AVX512F FMA, in other operations, rebuild TensorFlow with the appropriate compiler flags.\n",
      "/data/leuven/365/vsc36567/miniconda3/lib/python3.12/site-packages/albumentations/__init__.py:28: UserWarning: A new version of Albumentations is available: '2.0.8' (you have '2.0.4'). Upgrade using: pip install -U albumentations. To disable automatic update checks, set the environment variable NO_ALBUMENTATIONS_UPDATE to 1.\n",
      "  check_for_updates()\n"
     ]
    }
   ],
   "source": [
    "import os\n",
    "import argparse\n",
    "import numpy as np\n",
    "import os.path as osp\n",
    "from copy import deepcopy\n",
    "from easydict import EasyDict as edict\n",
    "import matplotlib.pyplot as plt\n",
    "\n",
    "import torch\n",
    "import torch.nn as nn\n",
    "from torch.utils.data import DataLoader\n",
    "\n",
    "from src.cf_methods import c3lt \n",
    "from src.datasets import DatasetBuilder\n",
    "\n",
    "from src.models.classifiers import SimpleCNNtorch\n",
    "from src.evaluation.local_instability import perturb_sample\n",
    "from src.utils import extract_factual_instances, filter_valid_factuals\n",
    "from src.utils import seed_everything, get_config, load_model_weights\n",
    "from src.utils import evaluate_classification_model, plot_boxplot"
   ]
  },
  {
   "cell_type": "code",
   "execution_count": 2,
   "metadata": {},
   "outputs": [],
   "source": [
    "seed_everything()"
   ]
  },
  {
   "cell_type": "code",
   "execution_count": 3,
   "metadata": {},
   "outputs": [],
   "source": [
    "import sys\n",
    "sys.argv = ['']"
   ]
  },
  {
   "cell_type": "code",
   "execution_count": 4,
   "metadata": {},
   "outputs": [],
   "source": [
    "config_path = r'/data/leuven/365/vsc36567/CF-Robustness-Benchmark/configs/revise_fmnist_binary.yaml'\n",
    "config = get_config(config_path)\n",
    "ds_builder = DatasetBuilder(config)\n",
    "ds_builder.setup()\n",
    "train_loader, val_loader, test_loader = ds_builder.get_dataloaders()"
   ]
  },
  {
   "cell_type": "code",
   "execution_count": 8,
   "metadata": {},
   "outputs": [],
   "source": [
    "# Create an args object to pass all relevant parameters \n",
    "weights_dir = '/data/leuven/365/vsc36567/CF-Robustness-Benchmark/src/cf_methods/c3lt/weights/fmnist'\n",
    "# '/data/leuven/365/vsc36567/Counterfactual-Robustness-Benchmark/src/recourse_methods/c3lt/weights'\n",
    "clf_dir = '/data/leuven/365/vsc36567/CF-Robustness-Benchmark/notebooks/experiments/fmnist_classification/binary/checkpoints'\n",
    "# '/data/leuven/365/vsc36567/Counterfactual-Robustness-Benchmark/src/models/weights'\n",
    "log_path ='/data/leuven/365/vsc36567/CF-Robustness-Benchmark/cf_output/fmnist/c3lt_binary'\n",
    "\n",
    "args = c3lt.args.init_parser()\n",
    "args.device = \"cuda\" if torch.cuda.is_available() else \"cpu\"\n",
    "args.log_path = log_path\n",
    "args.gen_path = osp.join(weights_dir, 'generator_fmnist_0_4.pth')\n",
    "args.disc_path = osp.join(weights_dir, 'discriminator_fmnist_0_4.pth')\n",
    "args.enc_path = osp.join(weights_dir, 'encoder_fmnist_0_4.pth')\n",
    "args.cls_path = osp.join(clf_dir, 'fmnist_0_4_epoch=06_val_accuracy=0.99.pth')\n",
    "args.dataset_path = '/data/leuven/365/vsc36567/Cf-Robustness-Benchmark/data'\n",
    "args.cls_1 = 0  # 0\n",
    "args.cls_2 = 1  # 4\n",
    "args.num_classes = 2\n",
    "args.classifier_args={**config.classifier.args, \n",
    "                    'num_classes': config.data.num_classes,\n",
    "                    'img_size': config.data.img_size\n",
    "}\n",
    "args.ndf=32\n",
    "# args.cls_type = 'bce'\n",
    "args.extracted_layers = ['main']\n",
    "args.output = '/data/leuven/365/vsc36567/CF-Robustness-Benchmark/cf_output/fmnist/c3lt_binary/results'"
   ]
  },
  {
   "cell_type": "code",
   "execution_count": 9,
   "metadata": {},
   "outputs": [],
   "source": [
    "def dataloader_pair(args, dataset, is_train):\n",
    "    \"\"\"\n",
    "        returns dataloaders for a class pair.\n",
    "\n",
    "    :param args:\n",
    "    :param is_train:\n",
    "    :return:\n",
    "    \"\"\"\n",
    "    dataset_1 = deepcopy(dataset)\n",
    "    dataset_2 = deepcopy(dataset)\n",
    "\n",
    "    # extract samples only of class 1\n",
    "    idx_1 = dataset_1.data.targets == args.cls_1\n",
    "    dataset_1.data.data = dataset_1.data.data[idx_1]\n",
    "    dataset_1.data.targets = dataset_1.data.targets[idx_1]\n",
    "\n",
    "    # extract samples only of class 2\n",
    "    idx_2 = dataset_2.data.targets == args.cls_2\n",
    "    dataset_2.data.data = dataset_2.data.data[idx_2]\n",
    "    dataset_2.data.targets = dataset_2.data.targets[idx_2]\n",
    "\n",
    "    dataloader_1 = DataLoader(dataset_1, batch_size=args.batch_size,\n",
    "                              shuffle=is_train, pin_memory=True, drop_last=False)\n",
    "    dataloader_2 = DataLoader(dataset_2, batch_size=args.batch_size,\n",
    "                              shuffle=is_train, pin_memory=True, drop_last=False)\n",
    "\n",
    "    return  dataloader_1, dataloader_2"
   ]
  },
  {
   "cell_type": "code",
   "execution_count": 10,
   "metadata": {},
   "outputs": [],
   "source": [
    "dataloaders = dataloader_pair(args, ds_builder.train_dataset, is_train=True)\n",
    "dataloaders_test = dataloader_pair(args, ds_builder.test_dataset, is_train=False)"
   ]
  },
  {
   "cell_type": "markdown",
   "metadata": {},
   "source": [
    "# Training"
   ]
  },
  {
   "cell_type": "code",
   "execution_count": 11,
   "metadata": {},
   "outputs": [
    {
     "name": "stdout",
     "output_type": "stream",
     "text": [
      "Generator loaded!\n",
      "Discriminator loaded!\n",
      "Encoder loaded!\n",
      "Classifier loaded!\n",
      "\n",
      "Training Starts...\n",
      "\n",
      "[Epoch 0/200] [TRAIN Loss: 0.50250]\n",
      "\n",
      "EVAL [CLS loss: 0.0000]  [PROX loss: 0.0734]  [CYC Loss: 0.2372]  [ADV loss: 1.2246]  [EVAL loss: 0.0323] \n",
      "EVAL [COUT: 0.7941]  [Validity: 100.00 %]  [Proximity: 0.3292]\n",
      "\n",
      "[Epoch 1/200] [TRAIN Loss: 0.03447]\n",
      "[Epoch 2/200] [TRAIN Loss: 0.03316]\n",
      "[Epoch 3/200] [TRAIN Loss: 0.03167]\n",
      "[Epoch 4/200] [TRAIN Loss: 0.03024]\n",
      "[Epoch 5/200] [TRAIN Loss: 0.02893]\n",
      "[Epoch 6/200] [TRAIN Loss: 0.02774]\n",
      "[Epoch 7/200] [TRAIN Loss: 0.02667]\n",
      "[Epoch 8/200] [TRAIN Loss: 0.02576]\n",
      "[Epoch 9/200] [TRAIN Loss: 0.02501]\n",
      "[Epoch 10/200] [TRAIN Loss: 0.02438]\n",
      "\n",
      "EVAL [CLS loss: 0.0000]  [PROX loss: 0.0719]  [CYC Loss: 0.1383]  [ADV loss: 1.2325]  [EVAL loss: 0.0223] \n",
      "EVAL [COUT: 0.7961]  [Validity: 100.00 %]  [Proximity: 0.3176]\n",
      "\n",
      "[Epoch 11/200] [TRAIN Loss: 0.02384]\n",
      "[Epoch 12/200] [TRAIN Loss: 0.02337]\n",
      "[Epoch 13/200] [TRAIN Loss: 0.02295]\n",
      "[Epoch 14/200] [TRAIN Loss: 0.02259]\n",
      "[Epoch 15/200] [TRAIN Loss: 0.02226]\n",
      "[Epoch 16/200] [TRAIN Loss: 0.02196]\n",
      "[Epoch 17/200] [TRAIN Loss: 0.02168]\n",
      "[Epoch 18/200] [TRAIN Loss: 0.02143]\n",
      "[Epoch 19/200] [TRAIN Loss: 0.02120]\n",
      "[Epoch 20/200] [TRAIN Loss: 0.02098]\n",
      "\n",
      "EVAL [CLS loss: 0.0003]  [PROX loss: 0.0689]  [CYC Loss: 0.1108]  [ADV loss: 1.2111]  [EVAL loss: 0.0194] \n",
      "EVAL [COUT: 0.7973]  [Validity: 100.00 %]  [Proximity: 0.3014]\n",
      "\n",
      "[Epoch 21/200] [TRAIN Loss: 0.02078]\n",
      "[Epoch 22/200] [TRAIN Loss: 0.02059]\n",
      "[Epoch 23/200] [TRAIN Loss: 0.02041]\n",
      "[Epoch 24/200] [TRAIN Loss: 0.02024]\n",
      "[Epoch 25/200] [TRAIN Loss: 0.02011]\n",
      "[Epoch 26/200] [TRAIN Loss: 0.02003]\n",
      "[Epoch 27/200] [TRAIN Loss: 0.01995]\n",
      "[Epoch 28/200] [TRAIN Loss: 0.01987]\n",
      "[Epoch 29/200] [TRAIN Loss: 0.01979]\n",
      "[Epoch 30/200] [TRAIN Loss: 0.01971]\n",
      "\n",
      "EVAL [CLS loss: 0.0012]  [PROX loss: 0.0673]  [CYC Loss: 0.1005]  [ADV loss: 1.2008]  [EVAL loss: 0.0192] \n",
      "EVAL [COUT: 0.7973]  [Validity: 99.90 %]  [Proximity: 0.2926]\n",
      "\n",
      "[Epoch 31/200] [TRAIN Loss: 0.01963]\n",
      "[Epoch 32/200] [TRAIN Loss: 0.01956]\n",
      "[Epoch 33/200] [TRAIN Loss: 0.01948]\n",
      "[Epoch 34/200] [TRAIN Loss: 0.01940]\n",
      "[Epoch 35/200] [TRAIN Loss: 0.01933]\n",
      "[Epoch 36/200] [TRAIN Loss: 0.01926]\n",
      "[Epoch 37/200] [TRAIN Loss: 0.01919]\n",
      "[Epoch 38/200] [TRAIN Loss: 0.01912]\n",
      "[Epoch 39/200] [TRAIN Loss: 0.01904]\n",
      "[Epoch 40/200] [TRAIN Loss: 0.01897]\n",
      "\n",
      "EVAL [CLS loss: 0.0020]  [PROX loss: 0.0663]  [CYC Loss: 0.0943]  [ADV loss: 1.1933]  [EVAL loss: 0.0193] \n",
      "EVAL [COUT: 0.7977]  [Validity: 99.90 %]  [Proximity: 0.2865]\n",
      "\n",
      "[Epoch 41/200] [TRAIN Loss: 0.01890]\n",
      "[Epoch 42/200] [TRAIN Loss: 0.01883]\n",
      "[Epoch 43/200] [TRAIN Loss: 0.01876]\n",
      "[Epoch 44/200] [TRAIN Loss: 0.01870]\n",
      "[Epoch 45/200] [TRAIN Loss: 0.01863]\n",
      "[Epoch 46/200] [TRAIN Loss: 0.01856]\n",
      "[Epoch 47/200] [TRAIN Loss: 0.01850]\n",
      "[Epoch 48/200] [TRAIN Loss: 0.01843]\n",
      "[Epoch 49/200] [TRAIN Loss: 0.01837]\n",
      "[Epoch 50/200] [TRAIN Loss: 0.01831]\n",
      "\n",
      "EVAL [CLS loss: 0.0025]  [PROX loss: 0.0654]  [CYC Loss: 0.0890]  [ADV loss: 1.1878]  [EVAL loss: 0.0192] \n",
      "EVAL [COUT: 0.7982]  [Validity: 99.90 %]  [Proximity: 0.2806]\n",
      "\n",
      "[Epoch 51/200] [TRAIN Loss: 0.01828]\n",
      "[Epoch 52/200] [TRAIN Loss: 0.01825]\n",
      "[Epoch 53/200] [TRAIN Loss: 0.01822]\n",
      "[Epoch 54/200] [TRAIN Loss: 0.01818]\n",
      "[Epoch 55/200] [TRAIN Loss: 0.01815]\n",
      "[Epoch 56/200] [TRAIN Loss: 0.01812]\n",
      "[Epoch 57/200] [TRAIN Loss: 0.01809]\n",
      "[Epoch 58/200] [TRAIN Loss: 0.01805]\n",
      "[Epoch 59/200] [TRAIN Loss: 0.01802]\n",
      "[Epoch 60/200] [TRAIN Loss: 0.01798]\n",
      "\n",
      "EVAL [CLS loss: 0.0031]  [PROX loss: 0.0648]  [CYC Loss: 0.0863]  [ADV loss: 1.1839]  [EVAL loss: 0.0194] \n",
      "EVAL [COUT: 0.7983]  [Validity: 99.90 %]  [Proximity: 0.2771]\n",
      "\n",
      "[Epoch 61/200] [TRAIN Loss: 0.01795]\n",
      "[Epoch 62/200] [TRAIN Loss: 0.01792]\n",
      "[Epoch 63/200] [TRAIN Loss: 0.01788]\n",
      "[Epoch 64/200] [TRAIN Loss: 0.01785]\n",
      "[Epoch 65/200] [TRAIN Loss: 0.01781]\n",
      "[Epoch 66/200] [TRAIN Loss: 0.01778]\n",
      "[Epoch 67/200] [TRAIN Loss: 0.01774]\n",
      "[Epoch 68/200] [TRAIN Loss: 0.01771]\n",
      "[Epoch 69/200] [TRAIN Loss: 0.01767]\n",
      "[Epoch 70/200] [TRAIN Loss: 0.01764]\n",
      "\n",
      "EVAL [CLS loss: 0.0051]  [PROX loss: 0.0641]  [CYC Loss: 0.0836]  [ADV loss: 1.1791]  [EVAL loss: 0.0211] \n",
      "EVAL [COUT: 0.7983]  [Validity: 99.90 %]  [Proximity: 0.2730]\n",
      "\n",
      "[Epoch 71/200] [TRAIN Loss: 0.01760]\n",
      "[Epoch 72/200] [TRAIN Loss: 0.01757]\n",
      "[Epoch 73/200] [TRAIN Loss: 0.01753]\n",
      "[Epoch 74/200] [TRAIN Loss: 0.01750]\n",
      "[Epoch 75/200] [TRAIN Loss: 0.01747]\n",
      "[Epoch 76/200] [TRAIN Loss: 0.01745]\n",
      "[Epoch 77/200] [TRAIN Loss: 0.01743]\n",
      "[Epoch 78/200] [TRAIN Loss: 0.01741]\n",
      "[Epoch 79/200] [TRAIN Loss: 0.01740]\n",
      "[Epoch 80/200] [TRAIN Loss: 0.01738]\n",
      "\n",
      "EVAL [CLS loss: 0.0065]  [PROX loss: 0.0637]  [CYC Loss: 0.0816]  [ADV loss: 1.1754]  [EVAL loss: 0.0222] \n",
      "EVAL [COUT: 0.7986]  [Validity: 99.90 %]  [Proximity: 0.2696]\n",
      "\n",
      "[Epoch 81/200] [TRAIN Loss: 0.01736]\n",
      "[Epoch 82/200] [TRAIN Loss: 0.01734]\n",
      "[Epoch 83/200] [TRAIN Loss: 0.01732]\n",
      "[Epoch 84/200] [TRAIN Loss: 0.01730]\n",
      "[Epoch 85/200] [TRAIN Loss: 0.01728]\n",
      "[Epoch 86/200] [TRAIN Loss: 0.01726]\n",
      "[Epoch 87/200] [TRAIN Loss: 0.01724]\n",
      "[Epoch 88/200] [TRAIN Loss: 0.01722]\n",
      "[Epoch 89/200] [TRAIN Loss: 0.01720]\n",
      "[Epoch 90/200] [TRAIN Loss: 0.01718]\n",
      "\n",
      "EVAL [CLS loss: 0.0072]  [PROX loss: 0.0632]  [CYC Loss: 0.0801]  [ADV loss: 1.1712]  [EVAL loss: 0.0227] \n",
      "EVAL [COUT: 0.7989]  [Validity: 99.90 %]  [Proximity: 0.2664]\n",
      "\n",
      "[Epoch 91/200] [TRAIN Loss: 0.01716]\n",
      "[Epoch 92/200] [TRAIN Loss: 0.01714]\n",
      "[Epoch 93/200] [TRAIN Loss: 0.01711]\n",
      "[Epoch 94/200] [TRAIN Loss: 0.01709]\n",
      "[Epoch 95/200] [TRAIN Loss: 0.01707]\n",
      "[Epoch 96/200] [TRAIN Loss: 0.01705]\n",
      "[Epoch 97/200] [TRAIN Loss: 0.01703]\n",
      "[Epoch 98/200] [TRAIN Loss: 0.01700]\n",
      "[Epoch 99/200] [TRAIN Loss: 0.01698]\n",
      "[Epoch 100/200] [TRAIN Loss: 0.01696]\n",
      "\n",
      "EVAL [CLS loss: 0.0077]  [PROX loss: 0.0627]  [CYC Loss: 0.0786]  [ADV loss: 1.1671]  [EVAL loss: 0.0230] \n",
      "EVAL [COUT: 0.7994]  [Validity: 99.90 %]  [Proximity: 0.2626]\n",
      "\n",
      "[Epoch 101/200] [TRAIN Loss: 0.01695]\n",
      "[Epoch 102/200] [TRAIN Loss: 0.01694]\n",
      "[Epoch 103/200] [TRAIN Loss: 0.01693]\n",
      "[Epoch 104/200] [TRAIN Loss: 0.01691]\n",
      "[Epoch 105/200] [TRAIN Loss: 0.01690]\n",
      "[Epoch 106/200] [TRAIN Loss: 0.01689]\n",
      "[Epoch 107/200] [TRAIN Loss: 0.01688]\n",
      "[Epoch 108/200] [TRAIN Loss: 0.01686]\n",
      "[Epoch 109/200] [TRAIN Loss: 0.01685]\n",
      "[Epoch 110/200] [TRAIN Loss: 0.01684]\n",
      "\n",
      "EVAL [CLS loss: 0.0079]  [PROX loss: 0.0623]  [CYC Loss: 0.0777]  [ADV loss: 1.1653]  [EVAL loss: 0.0231] \n",
      "EVAL [COUT: 0.8001]  [Validity: 99.90 %]  [Proximity: 0.2602]\n",
      "\n",
      "[Epoch 111/200] [TRAIN Loss: 0.01682]\n",
      "[Epoch 112/200] [TRAIN Loss: 0.01681]\n",
      "[Epoch 113/200] [TRAIN Loss: 0.01680]\n",
      "[Epoch 114/200] [TRAIN Loss: 0.01678]\n",
      "[Epoch 115/200] [TRAIN Loss: 0.01677]\n",
      "[Epoch 116/200] [TRAIN Loss: 0.01675]\n",
      "[Epoch 117/200] [TRAIN Loss: 0.01674]\n",
      "[Epoch 118/200] [TRAIN Loss: 0.01672]\n",
      "[Epoch 119/200] [TRAIN Loss: 0.01671]\n",
      "[Epoch 120/200] [TRAIN Loss: 0.01670]\n",
      "\n",
      "EVAL [CLS loss: 0.0078]  [PROX loss: 0.0619]  [CYC Loss: 0.0767]  [ADV loss: 1.1630]  [EVAL loss: 0.0229] \n",
      "EVAL [COUT: 0.8009]  [Validity: 99.90 %]  [Proximity: 0.2573]\n",
      "\n",
      "[Epoch 121/200] [TRAIN Loss: 0.01668]\n",
      "[Epoch 122/200] [TRAIN Loss: 0.01667]\n",
      "[Epoch 123/200] [TRAIN Loss: 0.01665]\n",
      "[Epoch 124/200] [TRAIN Loss: 0.01663]\n",
      "[Epoch 125/200] [TRAIN Loss: 0.01662]\n",
      "[Epoch 126/200] [TRAIN Loss: 0.01661]\n",
      "[Epoch 127/200] [TRAIN Loss: 0.01660]\n",
      "[Epoch 128/200] [TRAIN Loss: 0.01660]\n",
      "[Epoch 129/200] [TRAIN Loss: 0.01659]\n",
      "[Epoch 130/200] [TRAIN Loss: 0.01658]\n",
      "\n",
      "EVAL [CLS loss: 0.0079]  [PROX loss: 0.0616]  [CYC Loss: 0.0759]  [ADV loss: 1.1618]  [EVAL loss: 0.0228] \n",
      "EVAL [COUT: 0.8018]  [Validity: 99.90 %]  [Proximity: 0.2548]\n",
      "\n",
      "[Epoch 131/200] [TRAIN Loss: 0.01657]\n",
      "[Epoch 132/200] [TRAIN Loss: 0.01656]\n",
      "[Epoch 133/200] [TRAIN Loss: 0.01655]\n",
      "[Epoch 134/200] [TRAIN Loss: 0.01654]\n",
      "[Epoch 135/200] [TRAIN Loss: 0.01654]\n",
      "[Epoch 136/200] [TRAIN Loss: 0.01653]\n",
      "[Epoch 137/200] [TRAIN Loss: 0.01652]\n",
      "[Epoch 138/200] [TRAIN Loss: 0.01651]\n",
      "[Epoch 139/200] [TRAIN Loss: 0.01650]\n",
      "[Epoch 140/200] [TRAIN Loss: 0.01649]\n",
      "\n",
      "EVAL [CLS loss: 0.0079]  [PROX loss: 0.0613]  [CYC Loss: 0.0753]  [ADV loss: 1.1610]  [EVAL loss: 0.0227] \n",
      "EVAL [COUT: 0.8025]  [Validity: 99.90 %]  [Proximity: 0.2526]\n",
      "\n",
      "[Epoch 141/200] [TRAIN Loss: 0.01648]\n",
      "[Epoch 142/200] [TRAIN Loss: 0.01647]\n",
      "[Epoch 143/200] [TRAIN Loss: 0.01646]\n",
      "[Epoch 144/200] [TRAIN Loss: 0.01645]\n",
      "[Epoch 145/200] [TRAIN Loss: 0.01644]\n",
      "[Epoch 146/200] [TRAIN Loss: 0.01643]\n",
      "[Epoch 147/200] [TRAIN Loss: 0.01642]\n",
      "[Epoch 148/200] [TRAIN Loss: 0.01641]\n",
      "[Epoch 149/200] [TRAIN Loss: 0.01639]\n",
      "[Epoch 150/200] [TRAIN Loss: 0.01639]\n",
      "\n",
      "EVAL [CLS loss: 0.0078]  [PROX loss: 0.0610]  [CYC Loss: 0.0746]  [ADV loss: 1.1604]  [EVAL loss: 0.0225] \n",
      "EVAL [COUT: 0.8036]  [Validity: 99.90 %]  [Proximity: 0.2502]\n",
      "\n",
      "[Epoch 151/200] [TRAIN Loss: 0.01638]\n",
      "[Epoch 152/200] [TRAIN Loss: 0.01637]\n",
      "[Epoch 153/200] [TRAIN Loss: 0.01637]\n",
      "[Epoch 154/200] [TRAIN Loss: 0.01636]\n",
      "[Epoch 155/200] [TRAIN Loss: 0.01636]\n",
      "[Epoch 156/200] [TRAIN Loss: 0.01635]\n",
      "[Epoch 157/200] [TRAIN Loss: 0.01634]\n",
      "[Epoch 158/200] [TRAIN Loss: 0.01634]\n",
      "[Epoch 159/200] [TRAIN Loss: 0.01633]\n",
      "[Epoch 160/200] [TRAIN Loss: 0.01633]\n",
      "\n",
      "EVAL [CLS loss: 0.0079]  [PROX loss: 0.0608]  [CYC Loss: 0.0742]  [ADV loss: 1.1600]  [EVAL loss: 0.0225] \n",
      "EVAL [COUT: 0.8040]  [Validity: 99.90 %]  [Proximity: 0.2487]\n",
      "\n",
      "[Epoch 161/200] [TRAIN Loss: 0.01632]\n",
      "[Epoch 162/200] [TRAIN Loss: 0.01631]\n",
      "[Epoch 163/200] [TRAIN Loss: 0.01631]\n",
      "[Epoch 164/200] [TRAIN Loss: 0.01630]\n",
      "[Epoch 165/200] [TRAIN Loss: 0.01629]\n",
      "[Epoch 166/200] [TRAIN Loss: 0.01629]\n",
      "[Epoch 167/200] [TRAIN Loss: 0.01628]\n",
      "[Epoch 168/200] [TRAIN Loss: 0.01627]\n",
      "[Epoch 169/200] [TRAIN Loss: 0.01626]\n",
      "[Epoch 170/200] [TRAIN Loss: 0.01626]\n",
      "\n",
      "EVAL [CLS loss: 0.0079]  [PROX loss: 0.0605]  [CYC Loss: 0.0738]  [ADV loss: 1.1597]  [EVAL loss: 0.0225] \n",
      "EVAL [COUT: 0.8046]  [Validity: 99.90 %]  [Proximity: 0.2471]\n",
      "\n",
      "[Epoch 171/200] [TRAIN Loss: 0.01625]\n",
      "[Epoch 172/200] [TRAIN Loss: 0.01624]\n",
      "[Epoch 173/200] [TRAIN Loss: 0.01623]\n",
      "[Epoch 174/200] [TRAIN Loss: 0.01623]\n",
      "[Epoch 175/200] [TRAIN Loss: 0.01622]\n",
      "[Epoch 176/200] [TRAIN Loss: 0.01622]\n",
      "[Epoch 177/200] [TRAIN Loss: 0.01621]\n",
      "[Epoch 178/200] [TRAIN Loss: 0.01621]\n",
      "[Epoch 179/200] [TRAIN Loss: 0.01620]\n",
      "[Epoch 180/200] [TRAIN Loss: 0.01620]\n",
      "\n",
      "EVAL [CLS loss: 0.0080]  [PROX loss: 0.0603]  [CYC Loss: 0.0734]  [ADV loss: 1.1595]  [EVAL loss: 0.0225] \n",
      "EVAL [COUT: 0.8051]  [Validity: 99.90 %]  [Proximity: 0.2458]\n",
      "\n",
      "[Epoch 181/200] [TRAIN Loss: 0.01620]\n",
      "[Epoch 182/200] [TRAIN Loss: 0.01619]\n",
      "[Epoch 183/200] [TRAIN Loss: 0.01619]\n",
      "[Epoch 184/200] [TRAIN Loss: 0.01618]\n",
      "[Epoch 185/200] [TRAIN Loss: 0.01618]\n",
      "[Epoch 186/200] [TRAIN Loss: 0.01617]\n",
      "[Epoch 187/200] [TRAIN Loss: 0.01617]\n",
      "[Epoch 188/200] [TRAIN Loss: 0.01616]\n",
      "[Epoch 189/200] [TRAIN Loss: 0.01616]\n",
      "[Epoch 190/200] [TRAIN Loss: 0.01616]\n",
      "\n",
      "EVAL [CLS loss: 0.0081]  [PROX loss: 0.0602]  [CYC Loss: 0.0731]  [ADV loss: 1.1593]  [EVAL loss: 0.0225] \n",
      "EVAL [COUT: 0.8054]  [Validity: 100.00 %]  [Proximity: 0.2448]\n",
      "\n",
      "[Epoch 191/200] [TRAIN Loss: 0.01615]\n",
      "[Epoch 192/200] [TRAIN Loss: 0.01615]\n",
      "[Epoch 193/200] [TRAIN Loss: 0.01614]\n",
      "[Epoch 194/200] [TRAIN Loss: 0.01614]\n",
      "[Epoch 195/200] [TRAIN Loss: 0.01613]\n",
      "[Epoch 196/200] [TRAIN Loss: 0.01613]\n",
      "[Epoch 197/200] [TRAIN Loss: 0.01612]\n",
      "[Epoch 198/200] [TRAIN Loss: 0.01612]\n",
      "[Epoch 199/200] [TRAIN Loss: 0.01611]\n",
      "[Epoch 200/200] [TRAIN Loss: 0.01611]\n",
      "\n",
      "EVAL [CLS loss: 0.0081]  [PROX loss: 0.0600]  [CYC Loss: 0.0728]  [ADV loss: 1.1591]  [EVAL loss: 0.0226] \n",
      "EVAL [COUT: 0.8057]  [Validity: 100.00 %]  [Proximity: 0.2438]\n",
      "\n",
      "\n",
      "Evaluation Starts...\n",
      "\n",
      "\n",
      "EVAL [CLS loss: 0.0081]  [PROX loss: 0.0600]  [CYC Loss: 0.0728]  [ADV loss: 1.1591]  [EVAL loss: 0.0226] \n",
      "EVAL [COUT: 0.8057]  [Validity: 100.00 %]  [Proximity: 0.2438]\n",
      "\n"
     ]
    }
   ],
   "source": [
    "c3lt.train.train_c3lt(args, [dataloaders, dataloaders_test])"
   ]
  },
  {
   "cell_type": "markdown",
   "metadata": {},
   "source": [
    "# Inference"
   ]
  },
  {
   "cell_type": "code",
   "execution_count": 54,
   "metadata": {},
   "outputs": [],
   "source": [
    "import pickle\n",
    "import torch.nn.functional as F\n",
    "from src.cf_methods.c3lt import C3LTModel\n",
    "from src.evaluation.local_instability import perturb_sample\n",
    "from src.utils import plot_perturbed_factuals_and_cf\n",
    "from src.evaluation.local_instability import calculate_sparsity, calculate_ssim\n",
    "from src.utils.visualization import plot_boxplot"
   ]
  },
  {
   "cell_type": "code",
   "execution_count": 28,
   "metadata": {},
   "outputs": [],
   "source": [
    "args.output = r'/data/leuven/365/vsc36567/CF-Robustness-Benchmark/cf_output/fmnist/c3lt_binary/results_0_4'\n",
    "device = config.accelerator\n",
    "target_class = 4 \n",
    "target_class_ind = 1"
   ]
  },
  {
   "cell_type": "code",
   "execution_count": 16,
   "metadata": {},
   "outputs": [
    {
     "name": "stdout",
     "output_type": "stream",
     "text": [
      "Classifier loaded!\n",
      "Generator loaded!\n",
      "Discriminator loaded!\n",
      "Encoder loaded!\n"
     ]
    }
   ],
   "source": [
    "expl_model = C3LTModel(args, task='binary')\n",
    "expl_model.setup_model(mapper_weights_path=osp.join(args.output, 'snaps', 'map_0_to_1_150.pt'))\n",
    "baseline_classifier = expl_model.classifier"
   ]
  },
  {
   "cell_type": "code",
   "execution_count": 18,
   "metadata": {},
   "outputs": [],
   "source": [
    "factuals, labels = extract_factual_instances(test_loader, [args.cls_1])\n",
    "factuals, labels = filter_valid_factuals(factuals, labels, baseline_classifier, device)"
   ]
  },
  {
   "cell_type": "markdown",
   "metadata": {},
   "source": [
    "## Local Instability"
   ]
  },
  {
   "cell_type": "code",
   "execution_count": 19,
   "metadata": {},
   "outputs": [],
   "source": [
    "noise_levels = [0.001, 0.0025, 0.005, 0.0075, 0.01]"
   ]
  },
  {
   "cell_type": "code",
   "execution_count": 22,
   "metadata": {},
   "outputs": [
    {
     "name": "stdout",
     "output_type": "stream",
     "text": [
      "Number of valid perturbed factuals for the added noise level 0.001:  990\n",
      "Number of valid perturbed factuals for the added noise level 0.0025:  989\n",
      "Number of valid perturbed factuals for the added noise level 0.005:  989\n",
      "Number of valid perturbed factuals for the added noise level 0.0075:  989\n",
      "Number of valid perturbed factuals for the added noise level 0.01:  987\n"
     ]
    }
   ],
   "source": [
    "from functools import reduce\n",
    "\n",
    "\n",
    "save_dir = r'/data/leuven/365/vsc36567/CF-Robustness-Benchmark/cf_output/fmnist/c3lt_binary'\n",
    "\n",
    "n = 100\n",
    "factuals_pert = {}    \n",
    "indices_pert = {}\n",
    "\n",
    "for noise_level in noise_levels:\n",
    "    factuals_pert[noise_level] = perturb_sample(factuals, n_samples=1, noise_magnitude=noise_level)\n",
    "    pert_sample = torch.Tensor(factuals_pert[noise_level])\n",
    "\n",
    "    # Check whether perturbed instances lead to the same class prediction\n",
    "    predictions = torch.argmax(baseline_classifier(pert_sample.to(device)), axis=1).detach().cpu()\n",
    "    indices = np.where(predictions == labels)[0]\n",
    "    print(f'Number of valid perturbed factuals for the added noise level {noise_level}: ', indices.shape[0])\n",
    "    pert_sample = pert_sample[indices] \n",
    "    indices_pert[noise_level] = indices"
   ]
  },
  {
   "cell_type": "code",
   "execution_count": 24,
   "metadata": {},
   "outputs": [],
   "source": [
    "final_indices = reduce(np.intersect1d, list(indices_pert.values()))[:n]\n",
    "factuals = factuals[final_indices] \n",
    "labels = labels[final_indices]\n",
    "factuals_pert = {k : v[final_indices] for k, v in factuals_pert.items()}"
   ]
  },
  {
   "cell_type": "code",
   "execution_count": 26,
   "metadata": {},
   "outputs": [],
   "source": [
    "factuals = factuals.to(device)\n",
    "cfes = expl_model.get_counterfactuals(factuals, labels)"
   ]
  },
  {
   "cell_type": "code",
   "execution_count": 29,
   "metadata": {},
   "outputs": [
    {
     "name": "stdout",
     "output_type": "stream",
     "text": [
      "Validity of the generated explanations: 0.99\n"
     ]
    }
   ],
   "source": [
    "validity = np.where(torch.argmax(baseline_classifier(cfes), axis=1).detach().cpu() == target_class_ind)[0]\n",
    "validity = validity.shape[0] / cfes.shape[0]\n",
    "print('Validity of the generated explanations:', validity)"
   ]
  },
  {
   "cell_type": "code",
   "execution_count": 30,
   "metadata": {},
   "outputs": [],
   "source": [
    "cfes_pert = {}\n",
    "\n",
    "for noise_level in noise_levels:\n",
    "    pert_sample = torch.Tensor(factuals_pert[noise_level]).to(device)\n",
    "    cfes_pert[noise_level] = expl_model.get_counterfactuals(pert_sample, labels) "
   ]
  },
  {
   "cell_type": "code",
   "execution_count": 31,
   "metadata": {},
   "outputs": [
    {
     "name": "stdout",
     "output_type": "stream",
     "text": [
      "Validity for the added noise level 0.001:  1.0\n",
      "Validity for the added noise level 0.0025:  1.0\n",
      "Validity for the added noise level 0.005:  1.0\n",
      "Validity for the added noise level 0.0075:  1.0\n",
      "Validity for the added noise level 0.01:  1.0\n"
     ]
    }
   ],
   "source": [
    "validity_list = []\n",
    "for noise_level in noise_levels:\n",
    "    predictions = torch.argmax(baseline_classifier(torch.Tensor(cfes_pert[noise_level])), axis=1).detach().cpu()\n",
    "    indices = np.where(predictions == target_class_ind)[0]\n",
    "    validity = indices.shape[0] / predictions.shape[0]\n",
    "    validity_list.append(validity)\n",
    "    print(f'Validity for the added noise level {noise_level}: ',  validity)\n",
    "\n",
    "with open(osp.join(save_dir, f'fmnist_{target_class}_validity.pkl'), 'wb') as f:\n",
    "    pickle.dump(validity_list, f)"
   ]
  },
  {
   "cell_type": "code",
   "execution_count": 42,
   "metadata": {},
   "outputs": [
    {
     "data": {
      "image/png": "[encoded data removed]",
      "text/plain": [
       "<Figure size 1000x400 with 12 Axes>"
      ]
     },
     "metadata": {},
     "output_type": "display_data"
    }
   ],
   "source": [
    "ind = 80\n",
    "factuals_pert_list = [factuals_pert[noise_level][ind] for noise_level in noise_levels]\n",
    "cfes_pert_list = [cfes_pert[noise_level][ind].detach().cpu() for noise_level in noise_levels]\n",
    "plot_perturbed_factuals_and_cf(factuals[ind].cpu(), factuals_pert_list, \n",
    "                               cfes[ind].cpu(), cfes_pert_list,\n",
    "                               noise_levels)"
   ]
  },
  {
   "cell_type": "code",
   "execution_count": 44,
   "metadata": {},
   "outputs": [],
   "source": [
    "instability_l1_list = []\n",
    "ssim_list = []\n",
    "\n",
    "for noise_level, cfe_pert_list in cfes_pert.items():\n",
    "    # print('noise level:', noise_level)\n",
    "    l1_temp = []\n",
    "    ssim_temp = []\n",
    "    for i in range(len(cfes)):\n",
    "        cf = cfes[i].detach().cpu()\n",
    "        cf_pert = cfe_pert_list[i].detach().cpu()\n",
    "\n",
    "        if len(cf) == 0:\n",
    "            continue\n",
    "        if len(cf_pert) == 0:\n",
    "            continue\n",
    "\n",
    "        cf_tensor = torch.Tensor(cf)\n",
    "        cf = cf_tensor.permute(1, 2, 0).flatten()\n",
    "\n",
    "        cf_pert_tensor = torch.Tensor(cf_pert)\n",
    "        cf_perturbed = cf_pert_tensor.permute(1, 2, 0).flatten()        \n",
    "\n",
    "        l1_distance = sum(abs(cf - cf_perturbed)).item() \n",
    "        l1_temp.append(l1_distance)\n",
    "\n",
    "        ssim = calculate_ssim(cf_tensor.unsqueeze(0), cf_pert_tensor.unsqueeze(0)).item()\n",
    "        ssim_temp.append(ssim)\n",
    "\n",
    "    instability_l1_list.append(l1_temp)\n",
    "    ssim_list.append(ssim_temp)\n",
    "        \n",
    "\n",
    "\n",
    "with open(osp.join(save_dir, f'fmnist_{target_class}_li_l1.pkl'), 'wb') as f:\n",
    "    pickle.dump(instability_l1_list, f)\n",
    "\n",
    "with open(osp.join(save_dir, f'fmnist_{target_class}_ssim.pkl'), 'wb') as f:\n",
    "    pickle.dump(ssim_list, f)"
   ]
  },
  {
   "cell_type": "code",
   "execution_count": 45,
   "metadata": {},
   "outputs": [
    {
     "data": {
      "image/png": "[encoded data removed]",
      "text/plain": [
       "<Figure size 800x550 with 1 Axes>"
      ]
     },
     "metadata": {},
     "output_type": "display_data"
    }
   ],
   "source": [
    "plt.style.use(\"seaborn-v0_8\")\n",
    "\n",
    "\n",
    "plot_boxplot(data=instability_l1_list, mean_values=np.round(np.mean(instability_l1_list, axis=1), 2),\n",
    "             tick_labels=[f'eps={noise_level}' for noise_level in noise_levels],\n",
    "             y_label='Local Instability', colors=['lightyellow'], title='L1 distance between CFEs of similar inputs')"
   ]
  },
  {
   "cell_type": "code",
   "execution_count": 46,
   "metadata": {},
   "outputs": [
    {
     "data": {
      "image/png": "[encoded data removed]",
      "text/plain": [
       "<Figure size 800x400 with 1 Axes>"
      ]
     },
     "metadata": {},
     "output_type": "display_data"
    }
   ],
   "source": [
    "plt.rcParams['figure.figsize'] = [8, 4]\n",
    "\n",
    "plot_boxplot(data=ssim_list, mean_values=np.round(np.mean(ssim_list, axis=1), 2),\n",
    "             tick_labels=[f'eps={noise_level}' for noise_level in noise_levels],\n",
    "             y_label='Local Instability', colors=['lightgreen'], title='SSIM between CFEs of similar inputs')"
   ]
  },
  {
   "cell_type": "markdown",
   "metadata": {},
   "source": [
    "## Local Lipschitz Continuity"
   ]
  },
  {
   "cell_type": "code",
   "execution_count": 47,
   "metadata": {},
   "outputs": [
    {
     "name": "stdout",
     "output_type": "stream",
     "text": [
      "Are the lengths of initial points (factuals) and CFEs generated for them equal : True\n"
     ]
    }
   ],
   "source": [
    "original_points = factuals \n",
    "original_cfes = cfes\n",
    "print(\"Are the lengths of initial points (factuals) and CFEs generated for them equal :\", len(original_cfes) == original_points.shape[0])\n"
   ]
  },
  {
   "cell_type": "code",
   "execution_count": 48,
   "metadata": {},
   "outputs": [
    {
     "name": "stderr",
     "output_type": "stream",
     "text": [
      "30it [00:00, 17886.16it/s]\n",
      "30it [00:00, 23100.63it/s]\n",
      "30it [00:00, 22932.23it/s]\n",
      "30it [00:00, 4121.09it/s]\n",
      "30it [00:00, 22733.36it/s]\n",
      "30it [00:00, 22928.05it/s]\n",
      "30it [00:00, 22869.71it/s]\n",
      "30it [00:00, 23262.92it/s]\n",
      "30it [00:00, 22944.77it/s]\n",
      "30it [00:00, 22940.59it/s]\n",
      "30it [00:00, 22923.87it/s]\n",
      "30it [00:00, 21403.15it/s]\n",
      "30it [00:00, 22953.14it/s]\n",
      "30it [00:00, 22890.51it/s]\n",
      "30it [00:00, 15594.14it/s]\n",
      "30it [00:00, 22898.84it/s]\n",
      "30it [00:00, 23007.70it/s]\n",
      "30it [00:00, 22894.67it/s]\n",
      "30it [00:00, 23075.21it/s]\n",
      "30it [00:00, 23366.60it/s]\n",
      "30it [00:00, 23219.99it/s]\n",
      "30it [00:00, 23126.10it/s]\n",
      "30it [00:00, 22928.05it/s]\n",
      "30it [00:00, 20164.92it/s]\n",
      "30it [00:00, 20081.25it/s]\n",
      "30it [00:00, 20842.99it/s]\n",
      "30it [00:00, 21392.23it/s]\n",
      "30it [00:00, 22919.69it/s]\n",
      "30it [00:00, 23020.33it/s]\n",
      "30it [00:00, 21204.77it/s]\n",
      "30it [00:04,  6.44it/s]\n"
     ]
    }
   ],
   "source": [
    "from tqdm import tqdm\n",
    "\n",
    "\n",
    "i = 0\n",
    "lip_estimates = []\n",
    "noise_magnitude = 0.001\n",
    "\n",
    "original_points = original_points.detach().cpu()\n",
    "original_cfes = original_cfes.detach().cpu()\n",
    "for original_point, original_cfe in tqdm(zip(original_points[:30], original_cfes[:30])):\n",
    "\n",
    "    neighbor_points = perturb_sample(original_point.unsqueeze(0), n_samples=30, noise_magnitude=noise_magnitude) \n",
    "    neighbor_points = torch.Tensor(neighbor_points).to(device)  \n",
    "    neighbor_cfes = expl_model.get_counterfactuals(neighbor_points, labels).detach().cpu() \n",
    "    neighbor_points = neighbor_points.detach().cpu()\n",
    "    \n",
    "\n",
    "    lip_estimate = 0\n",
    "    for m, p in tqdm(zip(neighbor_cfes, neighbor_points)):\n",
    "        # lip = np.linalg.norm(original_cfe - m) / np.linalg.norm(original_point - p)\n",
    "        num = np.linalg.norm((original_cfe - m).flatten(), ord=2) \n",
    "        denom = np.linalg.norm((original_point - p).flatten(), ord=2)\n",
    "        lip = num / denom\n",
    "        lip_estimate = max(lip, lip_estimate)\n",
    " \n",
    "    lip_estimates.append(lip_estimate.item())\n",
    "    i += 1"
   ]
  },
  {
   "cell_type": "code",
   "execution_count": 49,
   "metadata": {},
   "outputs": [],
   "source": [
    "with open(osp.join(save_dir, f'fmnist_{target_class}_lle.pkl'), 'wb') as f:\n",
    "        pickle.dump(lip_estimates, f)"
   ]
  },
  {
   "cell_type": "code",
   "execution_count": 50,
   "metadata": {},
   "outputs": [
    {
     "data": {
      "image/png": "[encoded data removed]",
      "text/plain": [
       "<Figure size 600x400 with 1 Axes>"
      ]
     },
     "metadata": {},
     "output_type": "display_data"
    }
   ],
   "source": [
    "plt.rcParams['figure.figsize'] = [6, 4]\n",
    "plot_boxplot(data=lip_estimates, mean_values=[np.round(np.mean(lip_estimates), 5)],\n",
    "             tick_labels=[f''],\n",
    "             y_label='Local Lipschitz Continuity', colors=['lightpink'], title='')"
   ]
  },
  {
   "cell_type": "markdown",
   "metadata": {},
   "source": [
    "## Invalidation Rate"
   ]
  },
  {
   "cell_type": "code",
   "execution_count": 52,
   "metadata": {},
   "outputs": [
    {
     "name": "stdout",
     "output_type": "stream",
     "text": [
      "Accuracy for the test dataset: 98.682%\n",
      "Accuracy for the test dataset: 97.705%\n",
      "Accuracy for the test dataset: 97.607%\n",
      "Accuracy for the test dataset: 97.705%\n",
      "Accuracy for the test dataset: 97.803%\n",
      "Accuracy for the test dataset: 96.484%\n",
      "Accuracy for the test dataset: 97.266%\n",
      "Accuracy for the test dataset: 97.705%\n",
      "Accuracy for the test dataset: 98.193%\n",
      "Accuracy for the test dataset: 97.852%\n"
     ]
    }
   ],
   "source": [
    "classifiers_weights_dir = r'/data/leuven/365/vsc36567/CF-Robustness-Benchmark/notebooks/experiments/fmnist_classification/binary/checkpoints/mc_0_4'\n",
    "\n",
    "\n",
    "classifiers_list = []\n",
    "for clf_weights in os.listdir(classifiers_weights_dir):\n",
    "    cnn_perturbed = SimpleCNNtorch(**args.classifier_args)\n",
    "    load_model_weights(model=cnn_perturbed, weights_path=osp.join(classifiers_weights_dir, clf_weights), lightning_used=True)\n",
    "    classifiers_list.append(cnn_perturbed)\n",
    "    evaluate_classification_model(cnn_perturbed, dataloader=test_loader, num_classes=config.data.num_classes)"
   ]
  },
  {
   "cell_type": "code",
   "execution_count": 53,
   "metadata": {},
   "outputs": [
    {
     "name": "stdout",
     "output_type": "stream",
     "text": [
      "Model 0: IR=0.01, validity=1.0\n",
      "Model 1: IR=0.01, validity=1.0\n",
      "Model 2: IR=0.01, validity=0.98\n",
      "Model 3: IR=0.01, validity=0.98\n",
      "Model 4: IR=0.01, validity=1.0\n",
      "Model 5: IR=0.01, validity=1.0\n",
      "Model 6: IR=0.0, validity=0.99\n",
      "Model 7: IR=0.0, validity=0.99\n",
      "Model 8: IR=0.01, validity=1.0\n",
      "Model 9: IR=0.01, validity=1.0\n",
      "Average IR : 0.008 +- 0.004\n",
      "Average VaR : 0.994 +- 0.008\n"
     ]
    }
   ],
   "source": [
    "validity_list = []\n",
    "invalidation_rate_list = []\n",
    "\n",
    "for i, classifier in enumerate(classifiers_list):\n",
    "    validity = 0\n",
    "    invalidation_rate = 0\n",
    "    total_found_cfs = 0\n",
    "    \n",
    "    classifier.eval()\n",
    "    with torch.no_grad():\n",
    "        classifier = classifier.to(device)\n",
    "\n",
    "        baseline_pred = torch.argmax(baseline_classifier(cfes), axis=1)\n",
    "        alternative_pred = torch.argmax(classifier(cfes), axis=1)\n",
    "    \n",
    "    invalidation_rate = np.where(baseline_pred.detach().cpu() != alternative_pred.detach().cpu())[0].shape[0] / baseline_pred.shape[0]\n",
    "    validity = np.where(alternative_pred.detach().cpu() == target_class_ind)[0].shape[0] / alternative_pred.shape[0]\n",
    "\n",
    "    # invalidation_rate /= total_found_cfs\n",
    "    invalidation_rate_list.append(invalidation_rate)\n",
    "    validity_list.append(validity)\n",
    "    print(f'Model {i}: IR={invalidation_rate}, validity={validity}')\n",
    "\n",
    "print('Average IR : {:.3f} +- {:.3f}'.format(np.mean(invalidation_rate_list), np.std(invalidation_rate_list)))\n",
    "print('Average VaR : {:.3f} +- {:.3f}'.format(np.mean(validity_list), np.std(validity_list)))"
   ]
  },
  {
   "cell_type": "markdown",
   "metadata": {},
   "source": [
    "## Stability\n"
   ]
  },
  {
   "cell_type": "code",
   "execution_count": 55,
   "metadata": {},
   "outputs": [
    {
     "name": "stdout",
     "output_type": "stream",
     "text": [
      "Stability of the model 0: 0.99 +- 0.06\n",
      "Stability of the model 1: 0.992 +- 0.04\n",
      "Stability of the model 2: 0.97 +- 0.12\n",
      "Stability of the model 3: 0.976 +- 0.11\n",
      "Stability of the model 4: 0.986 +- 0.06\n",
      "Stability of the model 5: 0.987 +- 0.06\n",
      "Stability of the model 6: 0.98 +- 0.09\n",
      "Stability of the model 7: 0.974 +- 0.09\n",
      "Stability of the model 8: 0.984 +- 0.07\n",
      "Stability of the model 9: 0.983 +- 0.07\n"
     ]
    }
   ],
   "source": [
    "k = 1000\n",
    "sigma = 0.001\n",
    "\n",
    "average_stability_list = []\n",
    "for i, classifier in enumerate(classifiers_list):\n",
    "    stability_list = []\n",
    "    for cfe in cfes:\n",
    "\n",
    "        cfe = torch.Tensor(cfe).unsqueeze(0).detach().cpu()\n",
    "        cfe_sampled = torch.Tensor(perturb_sample(cfe, n_samples=k, noise_magnitude=sigma))\n",
    "\n",
    "        with torch.no_grad():\n",
    "            cf_logits = classifier(cfe.to(device))\n",
    "            cf_probabilities = F.softmax(cf_logits, dim=-1)[:, target_class_ind]\n",
    "\n",
    "            cf_sampled_logits = classifier(cfe_sampled.to(device))\n",
    "            cf_sampled_probabilities = F.softmax(cf_sampled_logits, dim=-1)[:, target_class_ind]\n",
    "        \n",
    "        model_variance = abs(cf_probabilities - cf_sampled_probabilities)\n",
    "\n",
    "        stability = (cf_sampled_probabilities - model_variance).mean()\n",
    "        stability_list.append(stability.item())\n",
    "\n",
    "    avg_i_stability = np.mean(stability_list)\n",
    "    print(f'Stability of the model {i}: {round(avg_i_stability.item(), 3)} +- {round(np.std(stability_list).item(), 2)}')\n",
    "    average_stability_list.append(avg_i_stability) "
   ]
  },
  {
   "cell_type": "code",
   "execution_count": 58,
   "metadata": {},
   "outputs": [
    {
     "name": "stdout",
     "output_type": "stream",
     "text": [
      "Average stability : 0.982 +- 0.007\n"
     ]
    }
   ],
   "source": [
    "print('Average stability : {:.3f} +- {:.3f}'.format(np.mean(average_stability_list).round(3), \n",
    "                                             np.std(average_stability_list).round(3)))"
   ]
  },
  {
   "cell_type": "markdown",
   "metadata": {},
   "source": [
    "## LOF"
   ]
  },
  {
   "cell_type": "code",
   "execution_count": 59,
   "metadata": {},
   "outputs": [],
   "source": [
    "from src.evaluation.lof import estimate_anom_cfe_in_target_class"
   ]
  },
  {
   "cell_type": "code",
   "execution_count": 60,
   "metadata": {},
   "outputs": [],
   "source": [
    "cfes_array = cfes.detach().cpu().numpy()"
   ]
  },
  {
   "cell_type": "code",
   "execution_count": 62,
   "metadata": {},
   "outputs": [
    {
     "name": "stdout",
     "output_type": "stream",
     "text": [
      "Average negative LOF (the lower values the more anomaluous): -1.018 +- 0.031\n"
     ]
    }
   ],
   "source": [
    "target_class_ascores, target_class_classes = estimate_anom_cfe_in_target_class(5, [1], -1.1, test_loader, cfes_array)\n",
    "print('Average negative LOF (the lower values the more anomaluous): {:.3f} +- {:.3f}'.format(np.mean(target_class_ascores), \n",
    "                                                                                            np.std(target_class_ascores)))"
   ]
  },
  {
   "cell_type": "code",
   "execution_count": 63,
   "metadata": {},
   "outputs": [
    {
     "name": "stdout",
     "output_type": "stream",
     "text": [
      "Average negative LOF (the lower values the more anomaluous): -1.022 +- 0.033\n"
     ]
    }
   ],
   "source": [
    "anomaly_scores, anomaly_classes = estimate_anom_cfe_in_target_class(5, [0, 1], -1.1, test_loader, cfes_array)\n",
    "print('Average negative LOF (the lower values the more anomaluous): {:.3f} +- {:.3f}'.format(np.mean(anomaly_scores), np.std(anomaly_scores)))"
   ]
  },
  {
   "cell_type": "code",
   "execution_count": 65,
   "metadata": {},
   "outputs": [],
   "source": [
    "with open(osp.join(save_dir, f'fmnist_{target_class}_ir_var_rs_lof.pkl'), 'wb') as f:\n",
    "    pickle.dump({'ir': (np.mean(invalidation_rate_list), np.std(invalidation_rate_list)),\n",
    "                'var': (np.mean(validity_list), np.std(validity_list)),\n",
    "                'rs': (np.mean(average_stability_list), np.std(average_stability_list)),\n",
    "                'lof_target_class': (np.mean(target_class_ascores), np.std(target_class_ascores)),\n",
    "                'lof_test_set': (np.mean(anomaly_scores), np.std(anomaly_scores))\n",
    "                }, f)"
   ]
  },
  {
   "cell_type": "code",
   "execution_count": 66,
   "metadata": {},
   "outputs": [],
   "source": [
    "with open(osp.join(save_dir, f'fmnist_{target_class}_ir_var_rs_lof.pkl'), 'rb') as f:\n",
    "    r = pickle.load(f)"
   ]
  },
  {
   "cell_type": "code",
   "execution_count": 67,
   "metadata": {},
   "outputs": [
    {
     "data": {
      "text/plain": [
       "{'ir': (np.float64(0.007999999999999998), np.float64(0.004)),\n",
       " 'var': (np.float64(0.994), np.float64(0.008000000000000007)),\n",
       " 'rs': (np.float64(0.9821584345996379), np.float64(0.006756975385459651)),\n",
       " 'lof_target_class': (np.float32(-1.0183502), np.float32(0.03096331)),\n",
       " 'lof_test_set': (np.float32(-1.0216428), np.float32(0.033483483))}"
      ]
     },
     "execution_count": 67,
     "metadata": {},
     "output_type": "execute_result"
    }
   ],
   "source": [
    "r"
   ]
  },
  {
   "cell_type": "code",
   "execution_count": null,
   "metadata": {},
   "outputs": [],
   "source": []
  }
 ],
 "metadata": {
  "kernelspec": {
   "display_name": "venv",
   "language": "python",
   "name": "python3"
  },
  "language_info": {
   "codemirror_mode": {
    "name": "ipython",
    "version": 3
   },
   "file_extension": ".py",
   "mimetype": "text/x-python",
   "name": "python",
   "nbconvert_exporter": "python",
   "pygments_lexer": "ipython3",
   "version": "3.12.4"
  }
 },
 "nbformat": 4,
 "nbformat_minor": 2
}
