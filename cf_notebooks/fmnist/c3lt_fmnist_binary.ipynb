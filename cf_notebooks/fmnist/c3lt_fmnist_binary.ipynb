{
 "cells": [
  {
   "cell_type": "code",
   "execution_count": 1,
   "metadata": {},
   "outputs": [
    {
     "name": "stderr",
     "output_type": "stream",
     "text": [
      "2025-05-13 07:35:47.522975: E external/local_xla/xla/stream_executor/cuda/cuda_fft.cc:467] Unable to register cuFFT factory: Attempting to register factory for plugin cuFFT when one has already been registered\n",
      "WARNING: All log messages before absl::InitializeLog() is called are written to STDERR\n",
      "E0000 00:00:1747114547.541326 3795206 cuda_dnn.cc:8579] Unable to register cuDNN factory: Attempting to register factory for plugin cuDNN when one has already been registered\n",
      "E0000 00:00:1747114547.546709 3795206 cuda_blas.cc:1407] Unable to register cuBLAS factory: Attempting to register factory for plugin cuBLAS when one has already been registered\n",
      "W0000 00:00:1747114547.561057 3795206 computation_placer.cc:177] computation placer already registered. Please check linkage and avoid linking the same target more than once.\n",
      "W0000 00:00:1747114547.561076 3795206 computation_placer.cc:177] computation placer already registered. Please check linkage and avoid linking the same target more than once.\n",
      "W0000 00:00:1747114547.561078 3795206 computation_placer.cc:177] computation placer already registered. Please check linkage and avoid linking the same target more than once.\n",
      "W0000 00:00:1747114547.561080 3795206 computation_placer.cc:177] computation placer already registered. Please check linkage and avoid linking the same target more than once.\n",
      "2025-05-13 07:35:47.565759: I tensorflow/core/platform/cpu_feature_guard.cc:210] This TensorFlow binary is optimized to use available CPU instructions in performance-critical operations.\n",
      "To enable the following instructions: AVX2 AVX512F FMA, in other operations, rebuild TensorFlow with the appropriate compiler flags.\n",
      "/data/leuven/365/vsc36567/miniconda3/lib/python3.12/site-packages/albumentations/__init__.py:28: UserWarning: A new version of Albumentations is available: '2.0.6' (you have '2.0.4'). Upgrade using: pip install -U albumentations. To disable automatic update checks, set the environment variable NO_ALBUMENTATIONS_UPDATE to 1.\n",
      "  check_for_updates()\n"
     ]
    }
   ],
   "source": [
    "import os\n",
    "import argparse\n",
    "import numpy as np\n",
    "import os.path as osp\n",
    "from copy import deepcopy\n",
    "from easydict import EasyDict as edict\n",
    "import matplotlib.pyplot as plt\n",
    "\n",
    "import torch\n",
    "import torch.nn as nn\n",
    "from torch.utils.data import DataLoader\n",
    "\n",
    "from src.cf_methods import c3lt \n",
    "from src.datasets import DatasetBuilder\n",
    "\n",
    "from src.models.classifiers import SimpleCNNtorch\n",
    "from src.evaluation.local_instability import perturb_sample\n",
    "from src.utils import extract_factual_instances, filter_valid_factuals\n",
    "from src.utils import seed_everything, get_config, load_model_weights\n",
    "from src.utils import evaluate_classification_model, plot_boxplot"
   ]
  },
  {
   "cell_type": "code",
   "execution_count": 2,
   "metadata": {},
   "outputs": [],
   "source": [
    "seed_everything()"
   ]
  },
  {
   "cell_type": "code",
   "execution_count": 3,
   "metadata": {},
   "outputs": [],
   "source": [
    "import sys\n",
    "sys.argv = ['']"
   ]
  },
  {
   "cell_type": "code",
   "execution_count": 15,
   "metadata": {},
   "outputs": [],
   "source": [
    "config_path = r'/data/leuven/365/vsc36567/CF-Robustness-Benchmark/configs/revise_fmnist_binary.yaml'\n",
    "config = get_config(config_path)\n",
    "ds_builder = DatasetBuilder(config)\n",
    "ds_builder.setup()\n",
    "train_loader, val_loader, test_loader = ds_builder.get_dataloaders()"
   ]
  },
  {
   "cell_type": "code",
   "execution_count": 16,
   "metadata": {},
   "outputs": [],
   "source": [
    "# Create an args object to pass all relevant parameters \n",
    "weights_dir = '/data/leuven/365/vsc36567/CF-Robustness-Benchmark/src/cf_methods/c3lt/weights'\n",
    "# '/data/leuven/365/vsc36567/Counterfactual-Robustness-Benchmark/src/recourse_methods/c3lt/weights'\n",
    "clf_dir = '/data/leuven/365/vsc36567/CF-Robustness-Benchmark/notebooks/experiments/fmnist_classification/binary/checkpoints'\n",
    "# '/data/leuven/365/vsc36567/Counterfactual-Robustness-Benchmark/src/models/weights'\n",
    "log_path ='/data/leuven/365/vsc36567/CF-Robustness-Benchmark/cf_output/fmnist/c3lt_binary'\n",
    "\n",
    "args = c3lt.args.init_parser()\n",
    "args.device = \"cuda\" if torch.cuda.is_available() else \"cpu\"\n",
    "args.log_path = log_path\n",
    "args.gen_path = osp.join(weights_dir, 'generator_fmnist.pth')\n",
    "args.disc_path = osp.join(weights_dir, 'discriminator_fmnist.pth')\n",
    "args.enc_path = osp.join(weights_dir, 'encoder_fmnist.pth')\n",
    "args.cls_path = osp.join(clf_dir, 'fmnist_0_4_epoch=06_val_accuracy=0.99.pth')\n",
    "args.dataset_path = '/data/leuven/365/vsc36567/Cf-Robustness-Benchmark/data'\n",
    "args.cls_1 = 0  # 0\n",
    "args.cls_2 = 1  # 4\n",
    "args.num_classes = 2\n",
    "args.classifier_args={**config.classifier.args, \n",
    "                    'num_classes': config.data.num_classes,\n",
    "                    'img_size': config.data.img_size\n",
    "}\n",
    "args.ndf=32\n",
    "# args.cls_type = 'bce'\n",
    "args.extracted_layers = ['main']\n",
    "args.output = '/data/leuven/365/vsc36567/CF-Robustness-Benchmark/cf_output/fmnist/c3lt_binary/results'"
   ]
  },
  {
   "cell_type": "code",
   "execution_count": 17,
   "metadata": {},
   "outputs": [],
   "source": [
    "def dataloader_pair(args, dataset, is_train):\n",
    "    \"\"\"\n",
    "        returns dataloaders for a class pair.\n",
    "\n",
    "    :param args:\n",
    "    :param is_train:\n",
    "    :return:\n",
    "    \"\"\"\n",
    "    dataset_1 = deepcopy(dataset)\n",
    "    dataset_2 = deepcopy(dataset)\n",
    "\n",
    "    # extract samples only of class 1\n",
    "    idx_1 = dataset_1.data.targets == args.cls_1\n",
    "    dataset_1.data.data = dataset_1.data.data[idx_1]\n",
    "    dataset_1.data.targets = dataset_1.data.targets[idx_1]\n",
    "\n",
    "    # extract samples only of class 2\n",
    "    idx_2 = dataset_2.data.targets == args.cls_2\n",
    "    dataset_2.data.data = dataset_2.data.data[idx_2]\n",
    "    dataset_2.data.targets = dataset_2.data.targets[idx_2]\n",
    "\n",
    "    dataloader_1 = DataLoader(dataset_1, batch_size=args.batch_size,\n",
    "                              shuffle=is_train, pin_memory=True, drop_last=False)\n",
    "    dataloader_2 = DataLoader(dataset_2, batch_size=args.batch_size,\n",
    "                              shuffle=is_train, pin_memory=True, drop_last=False)\n",
    "\n",
    "    return  dataloader_1, dataloader_2"
   ]
  },
  {
   "cell_type": "code",
   "execution_count": 18,
   "metadata": {},
   "outputs": [],
   "source": [
    "dataloaders = dataloader_pair(args, ds_builder.train_dataset, is_train=True)\n",
    "dataloaders_test = dataloader_pair(args, ds_builder.test_dataset, is_train=False)"
   ]
  },
  {
   "cell_type": "markdown",
   "metadata": {},
   "source": [
    "# Training"
   ]
  },
  {
   "cell_type": "code",
   "execution_count": 12,
   "metadata": {},
   "outputs": [
    {
     "name": "stdout",
     "output_type": "stream",
     "text": [
      "Generator loaded!\n",
      "Discriminator loaded!\n",
      "Encoder loaded!\n",
      "Classifier loaded!\n",
      "\n",
      "Training Starts...\n",
      "\n",
      "[Epoch 0/200] [TRAIN Loss: 0.28786]\n",
      "\n",
      "EVAL [CLS loss: 0.0138]  [PROX loss: 0.0712]  [CYC Loss: 0.2235]  [ADV loss: 0.6671]  [EVAL loss: 0.0439] \n",
      "EVAL [COUT: 0.7846]  [Validity: 99.60 %]  [Proximity: 0.3136]\n",
      "\n",
      "[Epoch 1/200] [TRAIN Loss: 0.03772]\n",
      "[Epoch 2/200] [TRAIN Loss: 0.03440]\n",
      "[Epoch 3/200] [TRAIN Loss: 0.03199]\n",
      "[Epoch 4/200] [TRAIN Loss: 0.03014]\n",
      "[Epoch 5/200] [TRAIN Loss: 0.02855]\n",
      "[Epoch 6/200] [TRAIN Loss: 0.02719]\n",
      "[Epoch 7/200] [TRAIN Loss: 0.02620]\n",
      "[Epoch 8/200] [TRAIN Loss: 0.02537]\n",
      "[Epoch 9/200] [TRAIN Loss: 0.02469]\n",
      "[Epoch 10/200] [TRAIN Loss: 0.02411]\n",
      "\n",
      "EVAL [CLS loss: 0.0053]  [PROX loss: 0.0676]  [CYC Loss: 0.1402]  [ADV loss: 0.6528]  [EVAL loss: 0.0267] \n",
      "EVAL [COUT: 0.8013]  [Validity: 99.70 %]  [Proximity: 0.2955]\n",
      "\n",
      "[Epoch 11/200] [TRAIN Loss: 0.02361]\n",
      "[Epoch 12/200] [TRAIN Loss: 0.02311]\n",
      "[Epoch 13/200] [TRAIN Loss: 0.02269]\n",
      "[Epoch 14/200] [TRAIN Loss: 0.02233]\n",
      "[Epoch 15/200] [TRAIN Loss: 0.02198]\n",
      "[Epoch 16/200] [TRAIN Loss: 0.02164]\n",
      "[Epoch 17/200] [TRAIN Loss: 0.02133]\n",
      "[Epoch 18/200] [TRAIN Loss: 0.02106]\n",
      "[Epoch 19/200] [TRAIN Loss: 0.02079]\n",
      "[Epoch 20/200] [TRAIN Loss: 0.02055]\n",
      "\n",
      "EVAL [CLS loss: 0.0071]  [PROX loss: 0.0650]  [CYC Loss: 0.1139]  [ADV loss: 0.6395]  [EVAL loss: 0.0256] \n",
      "EVAL [COUT: 0.8102]  [Validity: 99.50 %]  [Proximity: 0.2788]\n",
      "\n",
      "[Epoch 21/200] [TRAIN Loss: 0.02032]\n",
      "[Epoch 22/200] [TRAIN Loss: 0.02011]\n",
      "[Epoch 23/200] [TRAIN Loss: 0.01992]\n",
      "[Epoch 24/200] [TRAIN Loss: 0.01972]\n",
      "[Epoch 25/200] [TRAIN Loss: 0.01956]\n",
      "[Epoch 26/200] [TRAIN Loss: 0.01947]\n",
      "[Epoch 27/200] [TRAIN Loss: 0.01937]\n",
      "[Epoch 28/200] [TRAIN Loss: 0.01928]\n",
      "[Epoch 29/200] [TRAIN Loss: 0.01918]\n",
      "[Epoch 30/200] [TRAIN Loss: 0.01909]\n",
      "\n",
      "EVAL [CLS loss: 0.0086]  [PROX loss: 0.0632]  [CYC Loss: 0.1031]  [ADV loss: 0.6230]  [EVAL loss: 0.0258] \n",
      "EVAL [COUT: 0.8159]  [Validity: 99.50 %]  [Proximity: 0.2697]\n",
      "\n",
      "[Epoch 31/200] [TRAIN Loss: 0.01900]\n",
      "[Epoch 32/200] [TRAIN Loss: 0.01891]\n",
      "[Epoch 33/200] [TRAIN Loss: 0.01882]\n",
      "[Epoch 34/200] [TRAIN Loss: 0.01873]\n",
      "[Epoch 35/200] [TRAIN Loss: 0.01864]\n",
      "[Epoch 36/200] [TRAIN Loss: 0.01856]\n",
      "[Epoch 37/200] [TRAIN Loss: 0.01847]\n",
      "[Epoch 38/200] [TRAIN Loss: 0.01839]\n",
      "[Epoch 39/200] [TRAIN Loss: 0.01830]\n",
      "[Epoch 40/200] [TRAIN Loss: 0.01822]\n",
      "\n",
      "EVAL [CLS loss: 0.0087]  [PROX loss: 0.0616]  [CYC Loss: 0.0966]  [ADV loss: 0.6108]  [EVAL loss: 0.0252] \n",
      "EVAL [COUT: 0.8227]  [Validity: 99.50 %]  [Proximity: 0.2631]\n",
      "\n",
      "[Epoch 41/200] [TRAIN Loss: 0.01813]\n",
      "[Epoch 42/200] [TRAIN Loss: 0.01805]\n",
      "[Epoch 43/200] [TRAIN Loss: 0.01797]\n",
      "[Epoch 44/200] [TRAIN Loss: 0.01789]\n",
      "[Epoch 45/200] [TRAIN Loss: 0.01781]\n",
      "[Epoch 46/200] [TRAIN Loss: 0.01774]\n",
      "[Epoch 47/200] [TRAIN Loss: 0.01766]\n",
      "[Epoch 48/200] [TRAIN Loss: 0.01759]\n",
      "[Epoch 49/200] [TRAIN Loss: 0.01751]\n",
      "[Epoch 50/200] [TRAIN Loss: 0.01745]\n",
      "\n",
      "EVAL [CLS loss: 0.0085]  [PROX loss: 0.0605]  [CYC Loss: 0.0911]  [ADV loss: 0.6016]  [EVAL loss: 0.0243] \n",
      "EVAL [COUT: 0.8279]  [Validity: 99.60 %]  [Proximity: 0.2582]\n",
      "\n",
      "[Epoch 51/200] [TRAIN Loss: 0.01741]\n",
      "[Epoch 52/200] [TRAIN Loss: 0.01738]\n",
      "[Epoch 53/200] [TRAIN Loss: 0.01734]\n",
      "[Epoch 54/200] [TRAIN Loss: 0.01730]\n",
      "[Epoch 55/200] [TRAIN Loss: 0.01727]\n",
      "[Epoch 56/200] [TRAIN Loss: 0.01723]\n",
      "[Epoch 57/200] [TRAIN Loss: 0.01719]\n",
      "[Epoch 58/200] [TRAIN Loss: 0.01715]\n",
      "[Epoch 59/200] [TRAIN Loss: 0.01711]\n",
      "[Epoch 60/200] [TRAIN Loss: 0.01707]\n",
      "\n",
      "EVAL [CLS loss: 0.0075]  [PROX loss: 0.0597]  [CYC Loss: 0.0883]  [ADV loss: 0.5976]  [EVAL loss: 0.0229] \n",
      "EVAL [COUT: 0.8305]  [Validity: 99.60 %]  [Proximity: 0.2554]\n",
      "\n",
      "[Epoch 61/200] [TRAIN Loss: 0.01703]\n",
      "[Epoch 62/200] [TRAIN Loss: 0.01700]\n",
      "[Epoch 63/200] [TRAIN Loss: 0.01696]\n",
      "[Epoch 64/200] [TRAIN Loss: 0.01692]\n",
      "[Epoch 65/200] [TRAIN Loss: 0.01688]\n",
      "[Epoch 66/200] [TRAIN Loss: 0.01684]\n",
      "[Epoch 67/200] [TRAIN Loss: 0.01680]\n",
      "[Epoch 68/200] [TRAIN Loss: 0.01676]\n",
      "[Epoch 69/200] [TRAIN Loss: 0.01672]\n",
      "[Epoch 70/200] [TRAIN Loss: 0.01668]\n",
      "\n",
      "EVAL [CLS loss: 0.0069]  [PROX loss: 0.0589]  [CYC Loss: 0.0856]  [ADV loss: 0.5925]  [EVAL loss: 0.0219] \n",
      "EVAL [COUT: 0.8330]  [Validity: 99.60 %]  [Proximity: 0.2524]\n",
      "\n",
      "[Epoch 71/200] [TRAIN Loss: 0.01664]\n",
      "[Epoch 72/200] [TRAIN Loss: 0.01659]\n",
      "[Epoch 73/200] [TRAIN Loss: 0.01655]\n",
      "[Epoch 74/200] [TRAIN Loss: 0.01651]\n",
      "[Epoch 75/200] [TRAIN Loss: 0.01648]\n",
      "[Epoch 76/200] [TRAIN Loss: 0.01646]\n",
      "[Epoch 77/200] [TRAIN Loss: 0.01643]\n",
      "[Epoch 78/200] [TRAIN Loss: 0.01641]\n",
      "[Epoch 79/200] [TRAIN Loss: 0.01639]\n",
      "[Epoch 80/200] [TRAIN Loss: 0.01637]\n",
      "\n",
      "EVAL [CLS loss: 0.0069]  [PROX loss: 0.0582]  [CYC Loss: 0.0836]  [ADV loss: 0.5888]  [EVAL loss: 0.0216] \n",
      "EVAL [COUT: 0.8347]  [Validity: 99.60 %]  [Proximity: 0.2501]\n",
      "\n",
      "[Epoch 81/200] [TRAIN Loss: 0.01634]\n",
      "[Epoch 82/200] [TRAIN Loss: 0.01632]\n",
      "[Epoch 83/200] [TRAIN Loss: 0.01630]\n",
      "[Epoch 84/200] [TRAIN Loss: 0.01628]\n",
      "[Epoch 85/200] [TRAIN Loss: 0.01626]\n",
      "[Epoch 86/200] [TRAIN Loss: 0.01623]\n",
      "[Epoch 87/200] [TRAIN Loss: 0.01621]\n",
      "[Epoch 88/200] [TRAIN Loss: 0.01619]\n",
      "[Epoch 89/200] [TRAIN Loss: 0.01617]\n",
      "[Epoch 90/200] [TRAIN Loss: 0.01614]\n",
      "\n",
      "EVAL [CLS loss: 0.0071]  [PROX loss: 0.0577]  [CYC Loss: 0.0821]  [ADV loss: 0.5873]  [EVAL loss: 0.0216] \n",
      "EVAL [COUT: 0.8354]  [Validity: 99.60 %]  [Proximity: 0.2487]\n",
      "\n",
      "[Epoch 91/200] [TRAIN Loss: 0.01612]\n",
      "[Epoch 92/200] [TRAIN Loss: 0.01610]\n",
      "[Epoch 93/200] [TRAIN Loss: 0.01608]\n",
      "[Epoch 94/200] [TRAIN Loss: 0.01605]\n",
      "[Epoch 95/200] [TRAIN Loss: 0.01603]\n",
      "[Epoch 96/200] [TRAIN Loss: 0.01601]\n",
      "[Epoch 97/200] [TRAIN Loss: 0.01598]\n",
      "[Epoch 98/200] [TRAIN Loss: 0.01596]\n",
      "[Epoch 99/200] [TRAIN Loss: 0.01594]\n",
      "[Epoch 100/200] [TRAIN Loss: 0.01592]\n",
      "\n",
      "EVAL [CLS loss: 0.0072]  [PROX loss: 0.0572]  [CYC Loss: 0.0805]  [ADV loss: 0.5855]  [EVAL loss: 0.0215] \n",
      "EVAL [COUT: 0.8363]  [Validity: 99.60 %]  [Proximity: 0.2473]\n",
      "\n",
      "[Epoch 101/200] [TRAIN Loss: 0.01590]\n",
      "[Epoch 102/200] [TRAIN Loss: 0.01589]\n",
      "[Epoch 103/200] [TRAIN Loss: 0.01588]\n",
      "[Epoch 104/200] [TRAIN Loss: 0.01587]\n",
      "[Epoch 105/200] [TRAIN Loss: 0.01586]\n",
      "[Epoch 106/200] [TRAIN Loss: 0.01584]\n",
      "[Epoch 107/200] [TRAIN Loss: 0.01583]\n",
      "[Epoch 108/200] [TRAIN Loss: 0.01582]\n",
      "[Epoch 109/200] [TRAIN Loss: 0.01580]\n",
      "[Epoch 110/200] [TRAIN Loss: 0.01579]\n",
      "\n",
      "EVAL [CLS loss: 0.0069]  [PROX loss: 0.0570]  [CYC Loss: 0.0796]  [ADV loss: 0.5847]  [EVAL loss: 0.0211] \n",
      "EVAL [COUT: 0.8367]  [Validity: 99.60 %]  [Proximity: 0.2466]\n",
      "\n",
      "[Epoch 111/200] [TRAIN Loss: 0.01578]\n",
      "[Epoch 112/200] [TRAIN Loss: 0.01576]\n",
      "[Epoch 113/200] [TRAIN Loss: 0.01575]\n",
      "[Epoch 114/200] [TRAIN Loss: 0.01574]\n",
      "[Epoch 115/200] [TRAIN Loss: 0.01572]\n",
      "[Epoch 116/200] [TRAIN Loss: 0.01571]\n",
      "[Epoch 117/200] [TRAIN Loss: 0.01570]\n",
      "[Epoch 118/200] [TRAIN Loss: 0.01568]\n",
      "[Epoch 119/200] [TRAIN Loss: 0.01567]\n",
      "[Epoch 120/200] [TRAIN Loss: 0.01565]\n",
      "\n",
      "EVAL [CLS loss: 0.0059]  [PROX loss: 0.0567]  [CYC Loss: 0.0786]  [ADV loss: 0.5827]  [EVAL loss: 0.0200] \n",
      "EVAL [COUT: 0.8379]  [Validity: 99.60 %]  [Proximity: 0.2458]\n",
      "\n",
      "[Epoch 121/200] [TRAIN Loss: 0.01564]\n",
      "[Epoch 122/200] [TRAIN Loss: 0.01562]\n",
      "[Epoch 123/200] [TRAIN Loss: 0.01561]\n",
      "[Epoch 124/200] [TRAIN Loss: 0.01559]\n",
      "[Epoch 125/200] [TRAIN Loss: 0.01558]\n",
      "[Epoch 126/200] [TRAIN Loss: 0.01557]\n",
      "[Epoch 127/200] [TRAIN Loss: 0.01556]\n",
      "[Epoch 128/200] [TRAIN Loss: 0.01555]\n",
      "[Epoch 129/200] [TRAIN Loss: 0.01555]\n",
      "[Epoch 130/200] [TRAIN Loss: 0.01554]\n",
      "\n",
      "EVAL [CLS loss: 0.0056]  [PROX loss: 0.0565]  [CYC Loss: 0.0779]  [ADV loss: 0.5814]  [EVAL loss: 0.0196] \n",
      "EVAL [COUT: 0.8389]  [Validity: 99.70 %]  [Proximity: 0.2452]\n",
      "\n",
      "[Epoch 131/200] [TRAIN Loss: 0.01553]\n",
      "[Epoch 132/200] [TRAIN Loss: 0.01552]\n",
      "[Epoch 133/200] [TRAIN Loss: 0.01551]\n",
      "[Epoch 134/200] [TRAIN Loss: 0.01551]\n",
      "[Epoch 135/200] [TRAIN Loss: 0.01550]\n",
      "[Epoch 136/200] [TRAIN Loss: 0.01549]\n",
      "[Epoch 137/200] [TRAIN Loss: 0.01548]\n",
      "[Epoch 138/200] [TRAIN Loss: 0.01547]\n",
      "[Epoch 139/200] [TRAIN Loss: 0.01546]\n",
      "[Epoch 140/200] [TRAIN Loss: 0.01545]\n",
      "\n",
      "EVAL [CLS loss: 0.0055]  [PROX loss: 0.0563]  [CYC Loss: 0.0772]  [ADV loss: 0.5800]  [EVAL loss: 0.0194] \n",
      "EVAL [COUT: 0.8392]  [Validity: 99.70 %]  [Proximity: 0.2447]\n",
      "\n",
      "[Epoch 141/200] [TRAIN Loss: 0.01545]\n",
      "[Epoch 142/200] [TRAIN Loss: 0.01544]\n",
      "[Epoch 143/200] [TRAIN Loss: 0.01543]\n",
      "[Epoch 144/200] [TRAIN Loss: 0.01542]\n",
      "[Epoch 145/200] [TRAIN Loss: 0.01541]\n",
      "[Epoch 146/200] [TRAIN Loss: 0.01540]\n",
      "[Epoch 147/200] [TRAIN Loss: 0.01539]\n",
      "[Epoch 148/200] [TRAIN Loss: 0.01538]\n",
      "[Epoch 149/200] [TRAIN Loss: 0.01537]\n",
      "[Epoch 150/200] [TRAIN Loss: 0.01536]\n",
      "\n",
      "EVAL [CLS loss: 0.0054]  [PROX loss: 0.0562]  [CYC Loss: 0.0766]  [ADV loss: 0.5782]  [EVAL loss: 0.0192] \n",
      "EVAL [COUT: 0.8396]  [Validity: 99.70 %]  [Proximity: 0.2441]\n",
      "\n",
      "[Epoch 151/200] [TRAIN Loss: 0.01535]\n",
      "[Epoch 152/200] [TRAIN Loss: 0.01535]\n"
     ]
    },
    {
     "ename": "KeyboardInterrupt",
     "evalue": "",
     "output_type": "error",
     "traceback": [
      "\u001b[0;31m---------------------------------------------------------------------------\u001b[0m",
      "\u001b[0;31mKeyboardInterrupt\u001b[0m                         Traceback (most recent call last)",
      "Cell \u001b[0;32mIn[12], line 1\u001b[0m\n\u001b[0;32m----> 1\u001b[0m \u001b[43mc3lt\u001b[49m\u001b[38;5;241;43m.\u001b[39;49m\u001b[43mtrain\u001b[49m\u001b[38;5;241;43m.\u001b[39;49m\u001b[43mtrain_c3lt\u001b[49m\u001b[43m(\u001b[49m\u001b[43margs\u001b[49m\u001b[43m,\u001b[49m\u001b[43m \u001b[49m\u001b[43m[\u001b[49m\u001b[43mdataloaders\u001b[49m\u001b[43m,\u001b[49m\u001b[43m \u001b[49m\u001b[43mdataloaders_test\u001b[49m\u001b[43m]\u001b[49m\u001b[43m)\u001b[49m\n",
      "File \u001b[0;32m/vsc-hard-mounts/leuven-data/365/vsc36567/CF-Robustness-Benchmark/src/cf_methods/c3lt/train.py:73\u001b[0m, in \u001b[0;36mtrain_c3lt\u001b[0;34m(args, dataloaders)\u001b[0m\n\u001b[1;32m     70\u001b[0m imgs_2_cf, recon_imgs_2 \u001b[38;5;241m=\u001b[39m path_imgs_2[\u001b[38;5;241m-\u001b[39m\u001b[38;5;241m1\u001b[39m], path_imgs_2[\u001b[38;5;241m0\u001b[39m]\n\u001b[1;32m     72\u001b[0m \u001b[38;5;66;03m# classification loss\u001b[39;00m\n\u001b[0;32m---> 73\u001b[0m cls_loss \u001b[38;5;241m=\u001b[39m (\u001b[43mclassifier_loss\u001b[49m\u001b[43m(\u001b[49m\u001b[43mclassifier\u001b[49m\u001b[43m,\u001b[49m\u001b[43m \u001b[49m\u001b[43mimgs_1_cf\u001b[49m\u001b[43m,\u001b[49m\u001b[43m \u001b[49m\u001b[43margs\u001b[49m\u001b[38;5;241;43m.\u001b[39;49m\u001b[43mcls_2\u001b[49m\u001b[43m,\u001b[49m\u001b[43m \u001b[49m\u001b[43margs\u001b[49m\u001b[43m)\u001b[49m \u001b[38;5;241m+\u001b[39m\n\u001b[1;32m     74\u001b[0m             classifier_loss(classifier, imgs_2_cf, args\u001b[38;5;241m.\u001b[39mcls_1, args)\n\u001b[1;32m     75\u001b[0m             ) \u001b[38;5;241m/\u001b[39m \u001b[38;5;241m2\u001b[39m\n\u001b[1;32m     77\u001b[0m \u001b[38;5;66;03m# proximity loss\u001b[39;00m\n\u001b[1;32m     78\u001b[0m \u001b[38;5;28;01mif\u001b[39;00m args\u001b[38;5;241m.\u001b[39malpha:\n\u001b[1;32m     79\u001b[0m     \u001b[38;5;66;03m# TODO imgs v.s. recon_imgs\u001b[39;00m\n",
      "File \u001b[0;32m/vsc-hard-mounts/leuven-data/365/vsc36567/CF-Robustness-Benchmark/src/cf_methods/c3lt/helper.py:190\u001b[0m, in \u001b[0;36mclassifier_loss\u001b[0;34m(classifier, images, target_class, args, reduction)\u001b[0m\n\u001b[1;32m    183\u001b[0m \u001b[38;5;28;01melif\u001b[39;00m args\u001b[38;5;241m.\u001b[39mcls_type \u001b[38;5;241m==\u001b[39m \u001b[38;5;124m\"\u001b[39m\u001b[38;5;124mnll\u001b[39m\u001b[38;5;124m\"\u001b[39m:\n\u001b[1;32m    184\u001b[0m     loss \u001b[38;5;241m=\u001b[39m nn\u001b[38;5;241m.\u001b[39mNLLLoss(reduction\u001b[38;5;241m=\u001b[39mreduction)\n\u001b[1;32m    185\u001b[0m     target \u001b[38;5;241m=\u001b[39m (\n\u001b[1;32m    186\u001b[0m         \u001b[43mtorch\u001b[49m\u001b[38;5;241;43m.\u001b[39;49m\u001b[43mempty\u001b[49m\u001b[43m(\u001b[49m\n\u001b[1;32m    187\u001b[0m \u001b[43m            \u001b[49m\u001b[43mimages\u001b[49m\u001b[38;5;241;43m.\u001b[39;49m\u001b[43mshape\u001b[49m\u001b[43m[\u001b[49m\u001b[38;5;241;43m0\u001b[39;49m\u001b[43m]\u001b[49m\u001b[43m,\u001b[49m\n\u001b[1;32m    188\u001b[0m \u001b[43m        \u001b[49m\u001b[43m)\u001b[49m\n\u001b[1;32m    189\u001b[0m \u001b[43m        \u001b[49m\u001b[38;5;241;43m.\u001b[39;49m\u001b[43mfill_\u001b[49m\u001b[43m(\u001b[49m\u001b[43mtarget_class\u001b[49m\u001b[43m)\u001b[49m\n\u001b[0;32m--> 190\u001b[0m \u001b[43m        \u001b[49m\u001b[38;5;241;43m.\u001b[39;49m\u001b[43mto\u001b[49m\u001b[43m(\u001b[49m\u001b[43mimages\u001b[49m\u001b[38;5;241;43m.\u001b[39;49m\u001b[43mdevice\u001b[49m\u001b[43m)\u001b[49m\n\u001b[1;32m    191\u001b[0m         \u001b[38;5;241m.\u001b[39mlong()\n\u001b[1;32m    192\u001b[0m     )\n\u001b[1;32m    193\u001b[0m     \u001b[38;5;28;01mreturn\u001b[39;00m loss(classifier(images), target)\n\u001b[1;32m    194\u001b[0m \u001b[38;5;28;01melif\u001b[39;00m args\u001b[38;5;241m.\u001b[39mcls_type \u001b[38;5;241m==\u001b[39m \u001b[38;5;124m\"\u001b[39m\u001b[38;5;124mbce\u001b[39m\u001b[38;5;124m\"\u001b[39m:\n",
      "\u001b[0;31mKeyboardInterrupt\u001b[0m: "
     ]
    }
   ],
   "source": [
    "c3lt.train.train_c3lt(args, [dataloaders, dataloaders_test])"
   ]
  },
  {
   "cell_type": "markdown",
   "metadata": {},
   "source": [
    "# Inference"
   ]
  },
  {
   "cell_type": "code",
   "execution_count": 19,
   "metadata": {},
   "outputs": [],
   "source": [
    "import pickle\n",
    "from src.evaluation.local_instability import perturb_sample"
   ]
  },
  {
   "cell_type": "code",
   "execution_count": 23,
   "metadata": {},
   "outputs": [
    {
     "data": {
      "text/plain": [
       "<All keys matched successfully>"
      ]
     },
     "execution_count": 23,
     "metadata": {},
     "output_type": "execute_result"
    }
   ],
   "source": [
    "g = c3lt.modules.NLMappingConv(args.latent_dim).to(args.device)\n",
    "mapper_weights_path = '/data/leuven/365/vsc36567/CF-Robustness-Benchmark/cf_output/fmnist/c3lt_binary/results_0_4/snaps/map_0_to_1_150.pt'\n",
    "# load_model_weights(g, framework='torch', weights_path=mapper_weights_path)\n",
    "checkpoint = torch.load(\n",
    "                    mapper_weights_path, weights_only=False,\n",
    "                    map_location=torch.device(args.device)\n",
    "                )\n",
    "            \n",
    "g.load_state_dict(checkpoint)"
   ]
  },
  {
   "cell_type": "code",
   "execution_count": 24,
   "metadata": {},
   "outputs": [
    {
     "name": "stdout",
     "output_type": "stream",
     "text": [
      "Generator loaded!\n",
      "Discriminator loaded!\n"
     ]
    }
   ],
   "source": [
    "gen, discr = c3lt.helper.load_pretrained_gan(args)"
   ]
  },
  {
   "cell_type": "code",
   "execution_count": 25,
   "metadata": {},
   "outputs": [
    {
     "name": "stdout",
     "output_type": "stream",
     "text": [
      "Classifier loaded!\n"
     ]
    }
   ],
   "source": [
    "baseline_classifier = c3lt.helper.load_pretrained_classifier(args)"
   ]
  },
  {
   "cell_type": "code",
   "execution_count": 26,
   "metadata": {},
   "outputs": [
    {
     "name": "stdout",
     "output_type": "stream",
     "text": [
      "Encoder loaded!\n"
     ]
    }
   ],
   "source": [
    "encoder = c3lt.helper.load_pretrained_encoder(args)"
   ]
  },
  {
   "cell_type": "code",
   "execution_count": 30,
   "metadata": {},
   "outputs": [],
   "source": [
    "device = \"cuda\" if torch.cuda.is_available() else \"cpu\""
   ]
  },
  {
   "cell_type": "code",
   "execution_count": 31,
   "metadata": {},
   "outputs": [],
   "source": [
    "cfes = []\n",
    "factuals_list = []\n",
    "labels_list = []\n",
    "\n",
    "factual_class = 0\n",
    "for images, labels in test_loader:\n",
    "    indices = np.where(labels == factual_class)[0]\n",
    "    factuals_list.append(images[indices])\n",
    "    labels_list.append(labels[indices])"
   ]
  },
  {
   "cell_type": "code",
   "execution_count": 32,
   "metadata": {},
   "outputs": [
    {
     "data": {
      "text/plain": [
       "(torch.Size([1000, 1, 28, 28]), torch.Size([1000]))"
      ]
     },
     "execution_count": 32,
     "metadata": {},
     "output_type": "execute_result"
    }
   ],
   "source": [
    "factuals = torch.concat(factuals_list)\n",
    "labels = torch.concat(labels_list)\n",
    "factuals.shape, labels.shape"
   ]
  },
  {
   "cell_type": "code",
   "execution_count": 33,
   "metadata": {},
   "outputs": [
    {
     "data": {
      "text/plain": [
       "(torch.Size([990, 1, 28, 28]), torch.Size([990]))"
      ]
     },
     "execution_count": 33,
     "metadata": {},
     "output_type": "execute_result"
    }
   ],
   "source": [
    "predictions = torch.argmax(baseline_classifier(factuals.to(device)), axis=1).detach().cpu()\n",
    "valid_indices = np.where(predictions == labels)[0]\n",
    "factuals = factuals[valid_indices] \n",
    "labels = labels[valid_indices]\n",
    "factuals.shape, labels.shape"
   ]
  },
  {
   "cell_type": "markdown",
   "metadata": {},
   "source": [
    "## Local Instability"
   ]
  },
  {
   "cell_type": "code",
   "execution_count": 34,
   "metadata": {},
   "outputs": [],
   "source": [
    "noise_levels = [0.001, 0.0025, 0.005, 0.0075, 0.01]"
   ]
  },
  {
   "cell_type": "code",
   "execution_count": 35,
   "metadata": {},
   "outputs": [
    {
     "name": "stdout",
     "output_type": "stream",
     "text": [
      "Number of valid perturbed factuals for the added noise level 0.001:  989\n",
      "Number of valid perturbed factuals for the added noise level 0.0025:  990\n",
      "Number of valid perturbed factuals for the added noise level 0.005:  988\n",
      "Number of valid perturbed factuals for the added noise level 0.0075:  989\n",
      "Number of valid perturbed factuals for the added noise level 0.01:  988\n"
     ]
    }
   ],
   "source": [
    "from functools import reduce\n",
    "\n",
    "\n",
    "save_dir = r'/data/leuven/365/vsc36567/CF-Robustness-Benchmark/cf_output/fmnist/c3lt_binary'\n",
    "\n",
    "n = 100\n",
    "factuals_pert = {}    \n",
    "indices_pert = {}\n",
    "\n",
    "for noise_level in noise_levels:\n",
    "    factuals_pert[noise_level] = perturb_sample(factuals, n_samples=1, noise_magnitude=noise_level)\n",
    "    pert_sample = torch.Tensor(factuals_pert[noise_level])\n",
    "\n",
    "    # Check whether perturbed instances lead to the same class prediction\n",
    "    predictions = torch.argmax(baseline_classifier(pert_sample.to(device)), axis=1).detach().cpu()\n",
    "    indices = np.where(predictions == labels)[0]\n",
    "    print(f'Number of valid perturbed factuals for the added noise level {noise_level}: ', indices.shape[0])\n",
    "    pert_sample = pert_sample[indices] \n",
    "    indices_pert[noise_level] = indices"
   ]
  },
  {
   "cell_type": "code",
   "execution_count": 36,
   "metadata": {},
   "outputs": [],
   "source": [
    "final_indices = reduce(np.intersect1d, (valid_indices, *list(indices_pert.values())))[:n]\n",
    "factuals = factuals[final_indices] \n",
    "factuals_pert = {k : v[final_indices] for k, v in factuals_pert.items()}\n",
    "\n",
    "with open(osp.join(save_dir, 'factuals.pkl'), 'wb') as f:\n",
    "    pickle.dump(factuals, f)\n",
    "\n",
    "for noise_level in noise_levels:\n",
    "    with open(osp.join(save_dir, f'factuals_perturbed_noise_{noise_level}.pkl'), 'wb') as f:\n",
    "        pickle.dump(factuals_pert[noise_level], f)"
   ]
  },
  {
   "cell_type": "code",
   "execution_count": 38,
   "metadata": {},
   "outputs": [
    {
     "data": {
      "image/png": "[encoded data removed]",
      "text/plain": [
       "<Figure size 1000x400 with 10 Axes>"
      ]
     },
     "metadata": {},
     "output_type": "display_data"
    }
   ],
   "source": [
    "ind = 11\n",
    "\n",
    "fig, axs = plt.subplots(2, 5, figsize=(10, 4))\n",
    "for i in range(2):\n",
    "    for j in range(5):\n",
    "        noise = noise_levels[j]\n",
    "        if i == 0: \n",
    "            pert_image = factuals_pert[noise][ind].squeeze().squeeze() #perturb_sample(factuals_tensor[ind].unsqueeze(0), noise_magnitude=noise).squeeze().squeeze()\n",
    "            axs[i, j].imshow(pert_image, cmap='gray')\n",
    "            axs[i, j].set_title('$\\\\epsilon$='+str(noise)) \n",
    "            axs[i, j].axis('off')\n",
    "        else:\n",
    "            pert_sample = torch.Tensor(factuals_pert[noise]).to(device)\n",
    "            latent_code_pert = encoder(pert_sample)\n",
    "            mapping_pert = g(latent_code_pert)\n",
    "            cfes_pert_sample = gen(mapping_pert)\n",
    "            axs[i, j].imshow(cfes_pert_sample[ind].detach().cpu().numpy().transpose(1, 2, 0), cmap='gray')\n",
    "            axs[i, j].axis('off')"
   ]
  },
  {
   "cell_type": "code",
   "execution_count": 16,
   "metadata": {},
   "outputs": [
    {
     "name": "stdout",
     "output_type": "stream",
     "text": [
      "100 factual instances were loaded.\n"
     ]
    }
   ],
   "source": [
    "# with open('/data/leuven/365/vsc36567/Counterfactual-Robustness-Benchmark/counterfactuals/c3lt_multi/factuals.pkl', 'rb') as f:\n",
    "#     factuals = pickle.load(f)\n",
    "#     print(f'{factuals.shape[0]} factual instances were loaded.')"
   ]
  },
  {
   "cell_type": "code",
   "execution_count": 22,
   "metadata": {},
   "outputs": [],
   "source": [
    "# factuals_pert = {}\n",
    "# save_dir = '/data/leuven/365/vsc36567/Counterfactual-Robustness-Benchmark/counterfactuals/c3lt_multi'\n",
    "\n",
    "# for noise_level in noise_levels:\n",
    "#     with open(osp.join(save_dir, f'factuals_perturbed_noise_{noise_level}.pkl'), 'rb') as f:\n",
    "#         factuals_pert[noise_level] = pickle.load(f)"
   ]
  },
  {
   "cell_type": "markdown",
   "metadata": {},
   "source": [
    "Generate counterfcatual explanations"
   ]
  },
  {
   "cell_type": "code",
   "execution_count": 39,
   "metadata": {},
   "outputs": [],
   "source": [
    "factuals = factuals.to(device)\n",
    "latent_code = encoder(factuals)\n",
    "map_to_target_class = g(latent_code)\n",
    "cfes = gen(map_to_target_class)"
   ]
  },
  {
   "cell_type": "code",
   "execution_count": 40,
   "metadata": {},
   "outputs": [
    {
     "name": "stdout",
     "output_type": "stream",
     "text": [
      "Validity of the generated explanations: 1.0\n"
     ]
    }
   ],
   "source": [
    "validity = np.where(torch.argmax(baseline_classifier(cfes), axis=1).detach().cpu() == 1)[0]\n",
    "validity = validity.shape[0] / cfes.shape[0]\n",
    "print('Validity of the generated explanations:', validity)"
   ]
  },
  {
   "cell_type": "code",
   "execution_count": 41,
   "metadata": {},
   "outputs": [],
   "source": [
    "cfes_pert = {}\n",
    "\n",
    "for noise_level in noise_levels:\n",
    "    pert_sample = torch.Tensor(factuals_pert[noise_level]).to(device)\n",
    "    latent_code_pert = encoder(pert_sample)\n",
    "    mapping_pert = g(latent_code_pert)\n",
    "    cfes_pert[noise_level] = gen(mapping_pert) "
   ]
  },
  {
   "cell_type": "code",
   "execution_count": 42,
   "metadata": {},
   "outputs": [
    {
     "data": {
      "image/png": "[encoded data removed]",
      "text/plain": [
       "<Figure size 1000x400 with 15 Axes>"
      ]
     },
     "metadata": {},
     "output_type": "display_data"
    }
   ],
   "source": [
    "import matplotlib.pyplot as plt\n",
    "\n",
    "n_rows = 3\n",
    "n_cols = 5\n",
    "\n",
    "ind = 15\n",
    "\n",
    "# factuals_pert = {}    \n",
    "\n",
    "# for noise_level in noise_levels:\n",
    "#     factuals_pert[noise_level] = perturb_sample(factuals_tensor, n_samples=1, noise_magnitude=noise_level)\n",
    "\n",
    "fig, axs = plt.subplots(n_rows, n_cols, figsize=(10, 4))\n",
    "for i in range(n_rows):\n",
    "    for j in range(n_cols):\n",
    "        noise = noise_levels[j]\n",
    "        if i == 0: \n",
    "            pert_image = factuals_pert[noise][ind].squeeze().squeeze() #perturb_sample(factuals_tensor[ind].unsqueeze(0), noise_magnitude=noise).squeeze().squeeze()\n",
    "            axs[i, j].imshow(pert_image, cmap='gray')\n",
    "            axs[i, j].set_title('epsilon='+str(noise)) \n",
    "            axs[i, j].axis('off')\n",
    "        elif i == 1:\n",
    "            axs[i, j].imshow(cfes[ind].squeeze().detach().cpu(), cmap='gray')\n",
    "            axs[i, j].axis('off')\n",
    "            axs[i, j].set_ylabel('CFE /wo noise')\n",
    "        else:\n",
    "            axs[i, j].imshow(cfes_pert[noise][ind].detach().cpu().numpy().transpose(1, 2, 0), cmap='gray')\n",
    "            # axs[i, j].set_title('epsilon='+str(noise)) \n",
    "            axs[i, j].axis('off')\n",
    "            axs[i, j].set_ylabel('CFE /w noise')\n",
    "plt.show()"
   ]
  },
  {
   "cell_type": "code",
   "execution_count": 43,
   "metadata": {},
   "outputs": [
    {
     "name": "stdout",
     "output_type": "stream",
     "text": [
      "Validity for the added noise level 0.001:  1.0\n",
      "Validity for the added noise level 0.0025:  1.0\n",
      "Validity for the added noise level 0.005:  1.0\n",
      "Validity for the added noise level 0.0075:  1.0\n",
      "Validity for the added noise level 0.01:  1.0\n"
     ]
    }
   ],
   "source": [
    "target_class = 1\n",
    "\n",
    "validity_dict = {}\n",
    "for noise_level in noise_levels:\n",
    "    predictions = torch.argmax(baseline_classifier(torch.Tensor(cfes_pert[noise_level])), axis=1).detach().cpu()\n",
    "    indices = np.where(predictions == target_class)[0]\n",
    "    validity = indices.shape[0] / predictions.shape[0]\n",
    "    validity_dict[noise_level] = validity\n",
    "    print(f'Validity for the added noise level {noise_level}: ',  validity)\n",
    "\n",
    "with open(osp.join(save_dir, \n",
    "        f'c3lt_fmnist_0_4_validity.pkl'), 'wb') as f:\n",
    "        pickle.dump(validity_dict, f)"
   ]
  },
  {
   "cell_type": "code",
   "execution_count": 44,
   "metadata": {},
   "outputs": [],
   "source": [
    "from src.evaluation.local_instability import calculate_sparsity, calculate_ssim\n",
    "from src.utils.visualization import plot_boxplot"
   ]
  },
  {
   "cell_type": "code",
   "execution_count": 45,
   "metadata": {},
   "outputs": [],
   "source": [
    "instability_l1_list = []\n",
    "ssim_list = []\n",
    "\n",
    "for noise_level, cfe_pert_list in cfes_pert.items():\n",
    "    # print('noise level:', noise_level)\n",
    "    l1_temp = []\n",
    "    ssim_temp = []\n",
    "    for i in range(len(cfes)):\n",
    "        cf = cfes[i].detach().cpu()\n",
    "        cf_pert = cfe_pert_list[i].detach().cpu()\n",
    "\n",
    "        if len(cf) == 0:\n",
    "            continue\n",
    "        if len(cf_pert) == 0:\n",
    "            continue\n",
    "\n",
    "        cf_tensor = torch.Tensor(cf)\n",
    "        cf = cf_tensor.permute(1, 2, 0).flatten()\n",
    "\n",
    "        cf_pert_tensor = torch.Tensor(cf_pert)\n",
    "        cf_perturbed = cf_pert_tensor.permute(1, 2, 0).flatten()        \n",
    "\n",
    "        l1_distance = sum(abs(cf - cf_perturbed)) # np.linalg.norm(cf.flatten() - cf_perturbed.flatten(), ord=1)\n",
    "        l1_temp.append(l1_distance)\n",
    "\n",
    "        ssim = calculate_ssim(cf_tensor.unsqueeze(0), cf_pert_tensor.unsqueeze(0)).item()\n",
    "        ssim_temp.append(ssim)\n",
    "\n",
    "    instability_l1_list.append(l1_temp)\n",
    "    ssim_list.append(ssim_temp)\n",
    "        \n",
    "\n",
    "# output_dir = r'/data/leuven/365/vsc36567/Counterfactual-Robustness-Benchmark/output/c3lt_binary'\n",
    "\n",
    "with open(osp.join(save_dir, f'c3lt_0_4_li_l1.pkl'), 'wb') as f:\n",
    "    pickle.dump(instability_l1_list, f)\n",
    "\n",
    "with open(osp.join(save_dir, f'c3lt_0_4_ssim.pkl'), 'wb') as f:\n",
    "    pickle.dump(ssim_list, f)"
   ]
  },
  {
   "cell_type": "code",
   "execution_count": 46,
   "metadata": {},
   "outputs": [
    {
     "data": {
      "image/png": "[encoded data removed]",
      "text/plain": [
       "<Figure size 800x550 with 1 Axes>"
      ]
     },
     "metadata": {},
     "output_type": "display_data"
    }
   ],
   "source": [
    "plt.style.use(\"seaborn-v0_8\")\n",
    "\n",
    "\n",
    "plot_boxplot(data=instability_l1_list, mean_values=np.round(np.mean(instability_l1_list, axis=1), 2),\n",
    "             tick_labels=[f'eps={noise_level}' for noise_level in noise_levels],\n",
    "             y_label='Local Instability', colors=['lightyellow'], title='L1 distance between CFEs of similar inputs')"
   ]
  },
  {
   "cell_type": "code",
   "execution_count": 47,
   "metadata": {},
   "outputs": [
    {
     "data": {
      "image/png": "[encoded data removed]",
      "text/plain": [
       "<Figure size 800x400 with 1 Axes>"
      ]
     },
     "metadata": {},
     "output_type": "display_data"
    }
   ],
   "source": [
    "plt.rcParams['figure.figsize'] = [8, 4]\n",
    "\n",
    "plot_boxplot(data=ssim_list, mean_values=np.round(np.mean(ssim_list, axis=1), 2),\n",
    "             tick_labels=[f'eps={noise_level}' for noise_level in noise_levels],\n",
    "             y_label='Local Instability', colors=['lightgreen'], title='SSIM between CFEs of similar inputs')"
   ]
  },
  {
   "cell_type": "markdown",
   "metadata": {},
   "source": [
    "## Local Lipschitz Continuity"
   ]
  },
  {
   "cell_type": "code",
   "execution_count": 30,
   "metadata": {},
   "outputs": [
    {
     "name": "stdout",
     "output_type": "stream",
     "text": [
      "Are the lengths of initial points (factuals) and CFEs generated for them equal : True\n"
     ]
    }
   ],
   "source": [
    "original_points = factuals # factuals_tensor[:n]\n",
    "original_cfes = cfes\n",
    "print(\"Are the lengths of initial points (factuals) and CFEs generated for them equal :\", len(original_cfes) == original_points.shape[0])\n"
   ]
  },
  {
   "cell_type": "code",
   "execution_count": 31,
   "metadata": {},
   "outputs": [
    {
     "name": "stderr",
     "output_type": "stream",
     "text": [
      "30it [00:00, 20760.46it/s]\n",
      "30it [00:00, 21432.31it/s]\n",
      "30it [00:00, 25564.63it/s]\n",
      "30it [00:00, 26681.32it/s]\n",
      "30it [00:00, 21254.92it/s]\n",
      "30it [00:00, 21355.93it/s]\n",
      "30it [00:00, 26296.58it/s]\n",
      "30it [00:00, 9171.22it/s]\n",
      "30it [00:00, 22729.25it/s]\n",
      "30it [00:00, 26357.17it/s]\n",
      "30it [00:00, 22223.44it/s]\n",
      "30it [00:00, 21898.56it/s]\n",
      "30it [00:00, 22353.73it/s]\n",
      "30it [00:00, 21998.10it/s]\n",
      "30it [00:00, 22700.54it/s]\n",
      "30it [00:00, 22117.97it/s]\n",
      "30it [00:00, 26143.59it/s]\n",
      "30it [00:00, 22509.68it/s]\n",
      "30it [00:00, 22623.00it/s]\n",
      "30it [00:00, 22558.11it/s]\n",
      "30it [00:00, 22708.74it/s]\n",
      "30it [00:00, 23168.68it/s]\n",
      "30it [00:00, 25960.21it/s]\n",
      "30it [00:00, 22219.52it/s]\n",
      "30it [00:00, 22437.43it/s]\n",
      "30it [00:00, 22353.73it/s]\n",
      "30it [00:00, 22623.00it/s]\n",
      "30it [00:00, 22680.09it/s]\n",
      "30it [00:00, 22778.62it/s]\n",
      "30it [00:00, 4984.52it/s]\n",
      "30it [00:00, 22610.80it/s]\n",
      "30it [00:00, 22725.14it/s]\n",
      "30it [00:00, 22659.67it/s]\n",
      "30it [00:00, 22341.82it/s]\n",
      "30it [00:00, 22795.13it/s]\n",
      "30it [00:00, 22433.43it/s]\n",
      "30it [00:00, 26551.83it/s]\n",
      "30it [00:00, 22944.77it/s]\n",
      "30it [00:00, 22322.00it/s]\n",
      "30it [00:00, 22558.11it/s]\n",
      "30it [00:00, 26886.56it/s]\n",
      "30it [00:00, 26703.97it/s]\n",
      "30it [00:00, 21932.91it/s]\n",
      "30it [00:00, 26641.78it/s]\n",
      "30it [00:00, 22278.53it/s]\n",
      "30it [00:00, 16037.36it/s]\n",
      "30it [00:00, 21605.27it/s]\n",
      "30it [00:00, 20968.03it/s]\n",
      "30it [00:00, 19334.53it/s]\n",
      "30it [00:00, 19716.25it/s]\n",
      "50it [00:10,  4.57it/s]\n"
     ]
    }
   ],
   "source": [
    "from tqdm import tqdm\n",
    "\n",
    "\n",
    "i = 0\n",
    "lip_estimates = []\n",
    "noise_magnitude = 0.001\n",
    "\n",
    "original_points = original_points.detach().cpu()\n",
    "original_cfes = original_cfes.detach().cpu()\n",
    "for original_point, original_cfe in tqdm(zip(original_points[:50], original_cfes[:50])):\n",
    "\n",
    "    neighbor_points = perturb_sample(original_point.unsqueeze(0), n_samples=30, noise_magnitude=noise_magnitude) \n",
    "    neighbor_points = torch.Tensor(neighbor_points)  \n",
    "    latent_vector = encoder(neighbor_points.to(device))\n",
    "    mapping_pert = g(latent_vector)\n",
    "    neighbor_cfes = gen(mapping_pert).detach().cpu() \n",
    "    \n",
    "\n",
    "    lip_estimate = 0\n",
    "    for m, p in tqdm(zip(neighbor_cfes, neighbor_points)):\n",
    "        # lip = np.linalg.norm(original_cfe - m) / np.linalg.norm(original_point - p)\n",
    "        num = np.linalg.norm((original_cfe - m).flatten(), ord=2) \n",
    "        denom = np.linalg.norm((original_point - p).flatten(), ord=2)\n",
    "        lip = num / denom\n",
    "        lip_estimate = max(lip, lip_estimate)\n",
    " \n",
    "    lip_estimates.append(lip_estimate.item())\n",
    "    i += 1"
   ]
  },
  {
   "cell_type": "code",
   "execution_count": 32,
   "metadata": {},
   "outputs": [],
   "source": [
    "output_dir = r'/vsc-hard-mounts/leuven-data/365/vsc36567/Counterfactual-Robustness-Benchmark/output/c3lt_binary'\n",
    "with open(osp.join(output_dir, f'c3lt_lle.pkl'), 'wb') as f:\n",
    "        pickle.dump(lip_estimates, f)"
   ]
  },
  {
   "cell_type": "code",
   "execution_count": 33,
   "metadata": {},
   "outputs": [
    {
     "data": {
      "image/png": "[encoded data removed]",
      "text/plain": [
       "<Figure size 600x400 with 1 Axes>"
      ]
     },
     "metadata": {},
     "output_type": "display_data"
    }
   ],
   "source": [
    "plt.rcParams['figure.figsize'] = [6, 4]\n",
    "plot_boxplot(data=lip_estimates, mean_values=[np.round(np.mean(lip_estimates), 5)],\n",
    "             tick_labels=[f''],\n",
    "             y_label='Local Lipschitz Continuity', colors=['lightpink'], title='')"
   ]
  },
  {
   "cell_type": "code",
   "execution_count": null,
   "metadata": {},
   "outputs": [],
   "source": []
  },
  {
   "cell_type": "markdown",
   "metadata": {},
   "source": [
    "## Invalidation Rate"
   ]
  },
  {
   "cell_type": "code",
   "execution_count": 51,
   "metadata": {},
   "outputs": [
    {
     "name": "stdout",
     "output_type": "stream",
     "text": [
      "Accuracy for the test dataset: 98.682%\n",
      "Accuracy for the test dataset: 97.705%\n",
      "Accuracy for the test dataset: 97.607%\n",
      "Accuracy for the test dataset: 97.705%\n",
      "Accuracy for the test dataset: 97.803%\n",
      "Accuracy for the test dataset: 96.484%\n",
      "Accuracy for the test dataset: 97.266%\n",
      "Accuracy for the test dataset: 97.705%\n",
      "Accuracy for the test dataset: 98.193%\n",
      "Accuracy for the test dataset: 97.852%\n"
     ]
    }
   ],
   "source": [
    "classifiers_weights_dir = r'/data/leuven/365/vsc36567/CF-Robustness-Benchmark/notebooks/experiments/fmnist_classification/binary/checkpoints/mc_0_4'\n",
    "\n",
    "\n",
    "classifiers_list = []\n",
    "for clf_weights in os.listdir(classifiers_weights_dir):\n",
    "    cnn_perturbed = SimpleCNNtorch(**args.classifier_args)\n",
    "    load_model_weights(model=cnn_perturbed, weights_path=osp.join(classifiers_weights_dir, clf_weights))\n",
    "    classifiers_list.append(cnn_perturbed)\n",
    "    evaluate_classification_model(cnn_perturbed, dataloader=test_loader, num_classes=config.data.num_classes)"
   ]
  },
  {
   "cell_type": "code",
   "execution_count": 52,
   "metadata": {},
   "outputs": [
    {
     "name": "stdout",
     "output_type": "stream",
     "text": [
      "Model 0: IR=0.0, validity=1.0\n",
      "\n",
      "Model 1: IR=0.0, validity=1.0\n",
      "\n",
      "Model 2: IR=0.0, validity=1.0\n",
      "\n",
      "Model 3: IR=0.0, validity=1.0\n",
      "\n",
      "Model 4: IR=0.0, validity=1.0\n",
      "\n",
      "Model 5: IR=0.0, validity=1.0\n",
      "\n",
      "Model 6: IR=0.0, validity=1.0\n",
      "\n",
      "Model 7: IR=0.0, validity=1.0\n",
      "\n",
      "Model 8: IR=0.0, validity=1.0\n",
      "\n",
      "Model 9: IR=0.0, validity=1.0\n",
      "\n",
      "Average IR : 0.000 +- 0.000\n",
      "Average VaR : 1.000 +- 0.000\n"
     ]
    }
   ],
   "source": [
    "target_class = 1\n",
    "validity_list = []\n",
    "invalidation_rate_list = []\n",
    "device = 'cuda' if torch.cuda.is_available() else 'cpu'\n",
    "\n",
    "for i, classifier in enumerate(classifiers_list):\n",
    "    validity = 0\n",
    "    invalidation_rate = 0\n",
    "    total_found_cfs = 0\n",
    "    \n",
    "    classifier.eval()\n",
    "    with torch.no_grad():\n",
    "        classifier = classifier.to(device)\n",
    "\n",
    "        baseline_pred = torch.argmax(baseline_classifier(cfes), axis=1)\n",
    "        alternative_pred = torch.argmax(classifier(cfes), axis=1)\n",
    "    \n",
    "    invalidation_rate = np.where(baseline_pred.detach().cpu() != alternative_pred.detach().cpu())[0].shape[0] / baseline_pred.shape[0]\n",
    "    validity = np.where(alternative_pred.detach().cpu() == target_class)[0].shape[0] / alternative_pred.shape[0]\n",
    "\n",
    "    # invalidation_rate /= total_found_cfs\n",
    "    invalidation_rate_list.append(invalidation_rate)\n",
    "    validity_list.append(validity)\n",
    "    print(f'Model {i}: IR={invalidation_rate}, validity={validity}\\n')\n",
    "\n",
    "print('Average IR : {:.3f} +- {:.3f}'.format(np.mean(invalidation_rate_list), np.std(invalidation_rate_list)))\n",
    "print('Average VaR : {:.3f} +- {:.3f}'.format(np.mean(validity_list), np.std(validity_list)))"
   ]
  },
  {
   "cell_type": "markdown",
   "metadata": {},
   "source": [
    "## Stability\n"
   ]
  },
  {
   "cell_type": "code",
   "execution_count": 53,
   "metadata": {},
   "outputs": [],
   "source": [
    "import torch.nn.functional as F"
   ]
  },
  {
   "cell_type": "code",
   "execution_count": 54,
   "metadata": {},
   "outputs": [
    {
     "name": "stdout",
     "output_type": "stream",
     "text": [
      "Stability of the model 0: 1.0 +- 0.0\n",
      "Stability of the model 1: 1.0 +- 0.0\n"
     ]
    },
    {
     "ename": "KeyboardInterrupt",
     "evalue": "",
     "output_type": "error",
     "traceback": [
      "\u001b[0;31m---------------------------------------------------------------------------\u001b[0m",
      "\u001b[0;31mKeyboardInterrupt\u001b[0m                         Traceback (most recent call last)",
      "Cell \u001b[0;32mIn[54], line 11\u001b[0m\n\u001b[1;32m      8\u001b[0m \u001b[38;5;28;01mfor\u001b[39;00m cfe \u001b[38;5;129;01min\u001b[39;00m cfes:\n\u001b[1;32m     10\u001b[0m     cfe \u001b[38;5;241m=\u001b[39m torch\u001b[38;5;241m.\u001b[39mTensor(cfe)\u001b[38;5;241m.\u001b[39munsqueeze(\u001b[38;5;241m0\u001b[39m)\u001b[38;5;241m.\u001b[39mdetach()\u001b[38;5;241m.\u001b[39mcpu()\n\u001b[0;32m---> 11\u001b[0m     cfe_sampled \u001b[38;5;241m=\u001b[39m torch\u001b[38;5;241m.\u001b[39mTensor(\u001b[43mperturb_sample\u001b[49m\u001b[43m(\u001b[49m\u001b[43mcfe\u001b[49m\u001b[43m,\u001b[49m\u001b[43m \u001b[49m\u001b[43mn_samples\u001b[49m\u001b[38;5;241;43m=\u001b[39;49m\u001b[43mk\u001b[49m\u001b[43m,\u001b[49m\u001b[43m \u001b[49m\u001b[43mnoise_magnitude\u001b[49m\u001b[38;5;241;43m=\u001b[39;49m\u001b[43msigma\u001b[49m\u001b[43m)\u001b[49m)\n\u001b[1;32m     13\u001b[0m     \u001b[38;5;28;01mwith\u001b[39;00m torch\u001b[38;5;241m.\u001b[39mno_grad():\n\u001b[1;32m     14\u001b[0m         cf_logits \u001b[38;5;241m=\u001b[39m classifier(cfe\u001b[38;5;241m.\u001b[39mto(device))\n",
      "File \u001b[0;32m/vsc-hard-mounts/leuven-data/365/vsc36567/CF-Robustness-Benchmark/src/evaluation/local_instability.py:19\u001b[0m, in \u001b[0;36mperturb_sample\u001b[0;34m(input_images, n_samples, noise_magnitude)\u001b[0m\n\u001b[1;32m     16\u001b[0m covariance \u001b[38;5;241m=\u001b[39m np\u001b[38;5;241m.\u001b[39meye(channels \u001b[38;5;241m*\u001b[39m height \u001b[38;5;241m*\u001b[39m width) \u001b[38;5;241m*\u001b[39m noise_magnitude  \u001b[38;5;66;03m# Diagonal covariance\u001b[39;00m\n\u001b[1;32m     18\u001b[0m \u001b[38;5;66;03m# Create the MultivariateNormal distribution\u001b[39;00m\n\u001b[0;32m---> 19\u001b[0m noise \u001b[38;5;241m=\u001b[39m \u001b[43mmultivariate_normal\u001b[49m\u001b[43m(\u001b[49m\u001b[43mmean\u001b[49m\u001b[43m,\u001b[49m\u001b[43m \u001b[49m\u001b[43mcovariance\u001b[49m\u001b[43m,\u001b[49m\u001b[43m \u001b[49m\u001b[43msize\u001b[49m\u001b[38;5;241;43m=\u001b[39;49m\u001b[43m(\u001b[49m\u001b[43mbatch_size\u001b[49m\u001b[43m \u001b[49m\u001b[38;5;241;43m*\u001b[39;49m\u001b[43m \u001b[49m\u001b[43mn_samples\u001b[49m\u001b[43m,\u001b[49m\u001b[43m)\u001b[49m\u001b[43m)\u001b[49m\n\u001b[1;32m     20\u001b[0m noise \u001b[38;5;241m=\u001b[39m noise\u001b[38;5;241m.\u001b[39mreshape(batch_size \u001b[38;5;241m*\u001b[39m n_samples, channels, height, width)\n\u001b[1;32m     22\u001b[0m \u001b[38;5;66;03m# Perturb the input images with the generated noise\u001b[39;00m\n",
      "File \u001b[0;32mnumpy/random/mtrand.pyx:4261\u001b[0m, in \u001b[0;36mnumpy.random.mtrand.RandomState.multivariate_normal\u001b[0;34m()\u001b[0m\n",
      "File \u001b[0;32m/data/leuven/365/vsc36567/miniconda3/lib/python3.12/site-packages/numpy/linalg/_linalg.py:1796\u001b[0m, in \u001b[0;36msvd\u001b[0;34m(a, full_matrices, compute_uv, hermitian)\u001b[0m\n\u001b[1;32m   1792\u001b[0m signature \u001b[38;5;241m=\u001b[39m \u001b[38;5;124m'\u001b[39m\u001b[38;5;124mD->DdD\u001b[39m\u001b[38;5;124m'\u001b[39m \u001b[38;5;28;01mif\u001b[39;00m isComplexType(t) \u001b[38;5;28;01melse\u001b[39;00m \u001b[38;5;124m'\u001b[39m\u001b[38;5;124md->ddd\u001b[39m\u001b[38;5;124m'\u001b[39m\n\u001b[1;32m   1793\u001b[0m \u001b[38;5;28;01mwith\u001b[39;00m errstate(call\u001b[38;5;241m=\u001b[39m_raise_linalgerror_svd_nonconvergence,\n\u001b[1;32m   1794\u001b[0m               invalid\u001b[38;5;241m=\u001b[39m\u001b[38;5;124m'\u001b[39m\u001b[38;5;124mcall\u001b[39m\u001b[38;5;124m'\u001b[39m, over\u001b[38;5;241m=\u001b[39m\u001b[38;5;124m'\u001b[39m\u001b[38;5;124mignore\u001b[39m\u001b[38;5;124m'\u001b[39m, divide\u001b[38;5;241m=\u001b[39m\u001b[38;5;124m'\u001b[39m\u001b[38;5;124mignore\u001b[39m\u001b[38;5;124m'\u001b[39m,\n\u001b[1;32m   1795\u001b[0m               under\u001b[38;5;241m=\u001b[39m\u001b[38;5;124m'\u001b[39m\u001b[38;5;124mignore\u001b[39m\u001b[38;5;124m'\u001b[39m):\n\u001b[0;32m-> 1796\u001b[0m     u, s, vh \u001b[38;5;241m=\u001b[39m \u001b[43mgufunc\u001b[49m\u001b[43m(\u001b[49m\u001b[43ma\u001b[49m\u001b[43m,\u001b[49m\u001b[43m \u001b[49m\u001b[43msignature\u001b[49m\u001b[38;5;241;43m=\u001b[39;49m\u001b[43msignature\u001b[49m\u001b[43m)\u001b[49m\n\u001b[1;32m   1797\u001b[0m u \u001b[38;5;241m=\u001b[39m u\u001b[38;5;241m.\u001b[39mastype(result_t, copy\u001b[38;5;241m=\u001b[39m\u001b[38;5;28;01mFalse\u001b[39;00m)\n\u001b[1;32m   1798\u001b[0m s \u001b[38;5;241m=\u001b[39m s\u001b[38;5;241m.\u001b[39mastype(_realType(result_t), copy\u001b[38;5;241m=\u001b[39m\u001b[38;5;28;01mFalse\u001b[39;00m)\n",
      "\u001b[0;31mKeyboardInterrupt\u001b[0m: "
     ]
    }
   ],
   "source": [
    "k = 1000\n",
    "sigma = 0.001\n",
    "device = 'cuda' if torch.cuda.is_available() else 'cpu'\n",
    "\n",
    "average_stability_list = []\n",
    "for i, classifier in enumerate(classifiers_list):\n",
    "    stability_list = []\n",
    "    for cfe in cfes:\n",
    "\n",
    "        cfe = torch.Tensor(cfe).unsqueeze(0).detach().cpu()\n",
    "        cfe_sampled = torch.Tensor(perturb_sample(cfe, n_samples=k, noise_magnitude=sigma))\n",
    "\n",
    "        with torch.no_grad():\n",
    "            cf_logits = classifier(cfe.to(device))\n",
    "            cf_probabilities = F.softmax(cf_logits, dim=-1)[:, target_class]\n",
    "\n",
    "            cf_sampled_logits = classifier(cfe_sampled.to(device))\n",
    "            cf_sampled_probabilities = F.softmax(cf_sampled_logits, dim=-1)[:, target_class]\n",
    "        \n",
    "        model_variance = abs(cf_probabilities - cf_sampled_probabilities)\n",
    "\n",
    "        stability = (cf_sampled_probabilities - model_variance).mean()\n",
    "        stability_list.append(stability.item())\n",
    "\n",
    "    avg_i_stability = np.mean(stability_list)\n",
    "    print(f'Stability of the model {i}: {round(avg_i_stability.item(), 3)} +- {round(np.std(stability_list).item(), 2)}')\n",
    "    average_stability_list.append(avg_i_stability) "
   ]
  },
  {
   "cell_type": "code",
   "execution_count": 45,
   "metadata": {},
   "outputs": [
    {
     "name": "stdout",
     "output_type": "stream",
     "text": [
      "Average stability over 10 models: 0.6866\n"
     ]
    }
   ],
   "source": [
    "print(f'Average stability over {len(classifiers_list)} models:', np.mean(average_stability_list).round(4))"
   ]
  },
  {
   "cell_type": "code",
   "execution_count": null,
   "metadata": {},
   "outputs": [],
   "source": []
  }
 ],
 "metadata": {
  "kernelspec": {
   "display_name": "venv",
   "language": "python",
   "name": "python3"
  },
  "language_info": {
   "codemirror_mode": {
    "name": "ipython",
    "version": 3
   },
   "file_extension": ".py",
   "mimetype": "text/x-python",
   "name": "python",
   "nbconvert_exporter": "python",
   "pygments_lexer": "ipython3",
   "version": "3.12.4"
  }
 },
 "nbformat": 4,
 "nbformat_minor": 2
}
