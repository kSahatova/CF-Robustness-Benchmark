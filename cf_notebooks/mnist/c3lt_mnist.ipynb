{
 "cells": [
  {
   "cell_type": "code",
   "execution_count": 1,
   "metadata": {},
   "outputs": [
    {
     "name": "stderr",
     "output_type": "stream",
     "text": [
      "2025-05-27 21:54:49.127480: E external/local_xla/xla/stream_executor/cuda/cuda_fft.cc:467] Unable to register cuFFT factory: Attempting to register factory for plugin cuFFT when one has already been registered\n",
      "WARNING: All log messages before absl::InitializeLog() is called are written to STDERR\n",
      "E0000 00:00:1748375689.145029  622873 cuda_dnn.cc:8579] Unable to register cuDNN factory: Attempting to register factory for plugin cuDNN when one has already been registered\n",
      "E0000 00:00:1748375689.150415  622873 cuda_blas.cc:1407] Unable to register cuBLAS factory: Attempting to register factory for plugin cuBLAS when one has already been registered\n",
      "W0000 00:00:1748375689.164636  622873 computation_placer.cc:177] computation placer already registered. Please check linkage and avoid linking the same target more than once.\n",
      "W0000 00:00:1748375689.164655  622873 computation_placer.cc:177] computation placer already registered. Please check linkage and avoid linking the same target more than once.\n",
      "W0000 00:00:1748375689.164657  622873 computation_placer.cc:177] computation placer already registered. Please check linkage and avoid linking the same target more than once.\n",
      "W0000 00:00:1748375689.164659  622873 computation_placer.cc:177] computation placer already registered. Please check linkage and avoid linking the same target more than once.\n",
      "2025-05-27 21:54:49.169032: I tensorflow/core/platform/cpu_feature_guard.cc:210] This TensorFlow binary is optimized to use available CPU instructions in performance-critical operations.\n",
      "To enable the following instructions: AVX2 AVX512F FMA, in other operations, rebuild TensorFlow with the appropriate compiler flags.\n",
      "/data/leuven/365/vsc36567/miniconda3/lib/python3.12/site-packages/albumentations/__init__.py:28: UserWarning: A new version of Albumentations is available: '2.0.7' (you have '2.0.4'). Upgrade using: pip install -U albumentations. To disable automatic update checks, set the environment variable NO_ALBUMENTATIONS_UPDATE to 1.\n",
      "  check_for_updates()\n"
     ]
    }
   ],
   "source": [
    "import os\n",
    "import pickle\n",
    "import numpy as np\n",
    "import os.path as osp\n",
    "import matplotlib.pyplot as plt\n",
    "\n",
    "import torch\n",
    "import torch.nn.functional as F\n",
    "\n",
    "from src.cf_methods import c3lt \n",
    "from src.datasets import DatasetBuilder\n",
    "\n",
    "from src.models.classifiers import SimpleCNNtorch\n",
    "from src.evaluation.local_instability import perturb_sample\n",
    "from src.utils import seed_everything, get_config, load_model_weights\n",
    "from src.utils import evaluate_classification_model, plot_boxplot\n",
    "from src.utils import extract_factual_instances, filter_valid_factuals "
   ]
  },
  {
   "cell_type": "code",
   "execution_count": 2,
   "metadata": {},
   "outputs": [],
   "source": [
    "seed_everything()"
   ]
  },
  {
   "cell_type": "code",
   "execution_count": 3,
   "metadata": {},
   "outputs": [],
   "source": [
    "import sys\n",
    "sys.argv = ['']"
   ]
  },
  {
   "cell_type": "code",
   "execution_count": 4,
   "metadata": {},
   "outputs": [],
   "source": [
    "repo_path =  '/data/leuven/365/vsc36567/CF-Robustness-Benchmark'\n",
    "# 'D:\\PycharmProjects\\CF-Robustness-Benchmark' \n",
    "config_path = osp.join(repo_path, 'configs/train_classifier_mnist.yaml')\n",
    "\n",
    "config = get_config(config_path)\n",
    "config.data.classes = [0, 1, 2, 3, 4, 5, 6, 7, 8, 9]   \n",
    "config.data.num_classes = 10\n",
    "config.data_dir = osp.join(repo_path, config.data_dir)\n",
    "\n",
    "ds_builder = DatasetBuilder(config)\n",
    "ds_builder.setup()\n",
    "train_loader, val_loader, test_loader = ds_builder.get_dataloaders() \n",
    "device = \"cuda\" if torch.cuda.is_available() else \"cpu\""
   ]
  },
  {
   "cell_type": "code",
   "execution_count": 5,
   "metadata": {},
   "outputs": [],
   "source": [
    "# Create an args object to pass all relevant parameters \n",
    "weights_dir = osp.join(repo_path, 'src/cf_methods/c3lt/weights/mnist')\n",
    "clf_dir = osp.join(repo_path, 'notebooks/experiments/mnist_classification/multiclass/checkpoints')\n",
    "log_path = osp.join(repo_path, 'cf_output/mnist/c3lt_multi')\n",
    "\n",
    "args = c3lt.args.init_parser()\n",
    "args.device = \"cuda\" if torch.cuda.is_available() else \"cpu\"\n",
    "args.log_path = log_path\n",
    "args.gen_path = osp.join(weights_dir, 'generator_mnist.pth')\n",
    "args.disc_path = osp.join(weights_dir, 'discriminator_mnist.pth')\n",
    "args.enc_path = osp.join(weights_dir, 'encoder_mnist.pth')\n",
    "args.cls_path = osp.join(clf_dir, 'mnist__epoch=08_val_accuracy=0.99.pth')\n",
    "args.dataset_path = config.data_dir\n",
    "args.cls_1 = 3  # 9\n",
    "args.cls_2 = 7  # 7\n",
    "args.num_classes = 2 # mapping function only takes two classes\n",
    "args.classifier_args={**config.classifier.args, \n",
    "                    'num_classes': config.data.num_classes,\n",
    "                    'img_size': config.data.img_size\n",
    "}\n",
    "args.ndf = 16\n",
    "args.epochs = 150\n",
    "# args.cls_type = 'bce'\n",
    "args.extracted_layers = ['main']\n",
    "args.output = osp.join(repo_path, 'cf_output/mnist/c3lt_multi/results')\n",
    "os.makedirs(args.output+'/snaps', exist_ok=True)"
   ]
  },
  {
   "cell_type": "code",
   "execution_count": 6,
   "metadata": {},
   "outputs": [],
   "source": [
    "dataloaders = c3lt.helper.dataloader_pair(args, ds_builder.train_dataset, is_train=True)\n",
    "dataloaders_test = c3lt.helper.dataloader_pair(args, ds_builder.test_dataset, is_train=False)"
   ]
  },
  {
   "cell_type": "markdown",
   "metadata": {},
   "source": [
    "# Training"
   ]
  },
  {
   "cell_type": "code",
   "execution_count": 7,
   "metadata": {},
   "outputs": [
    {
     "name": "stdout",
     "output_type": "stream",
     "text": [
      "Generator loaded!\n",
      "Discriminator loaded!\n",
      "Encoder loaded!\n",
      "Classifier loaded!\n",
      "\n",
      "Training Starts...\n",
      "\n",
      "[Epoch 0/150] [TRAIN Loss: 3.49955]\n",
      "\n",
      "EVAL [CLS loss: 0.0106]  [PROX loss: 0.0696]  [CYC Loss: 0.3385]  [ADV loss: 0.9029]  [EVAL loss: 0.0523] \n",
      "EVAL [COUT: 0.8711]  [Validity: 99.90 %]  [Proximity: 0.1797]\n",
      "\n",
      "[Epoch 1/150] [TRAIN Loss: 0.04501]\n",
      "[Epoch 2/150] [TRAIN Loss: 0.04416]\n",
      "[Epoch 3/150] [TRAIN Loss: 0.04374]\n",
      "[Epoch 4/150] [TRAIN Loss: 0.04324]\n",
      "[Epoch 5/150] [TRAIN Loss: 0.04267]\n",
      "[Epoch 6/150] [TRAIN Loss: 0.04207]\n",
      "[Epoch 7/150] [TRAIN Loss: 0.04141]\n",
      "[Epoch 8/150] [TRAIN Loss: 0.04072]\n",
      "[Epoch 9/150] [TRAIN Loss: 0.03997]\n",
      "[Epoch 10/150] [TRAIN Loss: 0.03921]\n",
      "\n",
      "EVAL [CLS loss: 0.0091]  [PROX loss: 0.0689]  [CYC Loss: 0.2956]  [ADV loss: 0.8863]  [EVAL loss: 0.0465] \n",
      "EVAL [COUT: 0.8706]  [Validity: 99.90 %]  [Proximity: 0.1792]\n",
      "\n",
      "[Epoch 11/150] [TRAIN Loss: 0.03841]\n",
      "[Epoch 12/150] [TRAIN Loss: 0.03758]\n",
      "[Epoch 13/150] [TRAIN Loss: 0.03670]\n",
      "[Epoch 14/150] [TRAIN Loss: 0.03579]\n",
      "[Epoch 15/150] [TRAIN Loss: 0.03489]\n",
      "[Epoch 16/150] [TRAIN Loss: 0.03397]\n",
      "[Epoch 17/150] [TRAIN Loss: 0.03306]\n",
      "[Epoch 18/150] [TRAIN Loss: 0.03209]\n",
      "[Epoch 19/150] [TRAIN Loss: 0.03119]\n",
      "[Epoch 20/150] [TRAIN Loss: 0.03046]\n",
      "\n",
      "EVAL [CLS loss: 0.0109]  [PROX loss: 0.0672]  [CYC Loss: 0.2097]  [ADV loss: 0.9280]  [EVAL loss: 0.0396] \n",
      "EVAL [COUT: 0.8711]  [Validity: 99.90 %]  [Proximity: 0.1762]\n",
      "\n",
      "[Epoch 21/150] [TRAIN Loss: 0.02963]\n",
      "[Epoch 22/150] [TRAIN Loss: 0.02871]\n",
      "[Epoch 23/150] [TRAIN Loss: 0.02764]\n",
      "[Epoch 24/150] [TRAIN Loss: 0.02658]\n",
      "[Epoch 25/150] [TRAIN Loss: 0.02582]\n",
      "[Epoch 26/150] [TRAIN Loss: 0.02539]\n",
      "[Epoch 27/150] [TRAIN Loss: 0.02496]\n",
      "[Epoch 28/150] [TRAIN Loss: 0.02456]\n",
      "[Epoch 29/150] [TRAIN Loss: 0.02419]\n",
      "[Epoch 30/150] [TRAIN Loss: 0.02384]\n",
      "\n",
      "EVAL [CLS loss: 0.0142]  [PROX loss: 0.0663]  [CYC Loss: 0.1485]  [ADV loss: 0.8923]  [EVAL loss: 0.0366] \n",
      "EVAL [COUT: 0.8698]  [Validity: 99.80 %]  [Proximity: 0.1743]\n",
      "\n",
      "[Epoch 31/150] [TRAIN Loss: 0.02351]\n",
      "[Epoch 32/150] [TRAIN Loss: 0.02319]\n",
      "[Epoch 33/150] [TRAIN Loss: 0.02291]\n",
      "[Epoch 34/150] [TRAIN Loss: 0.02264]\n",
      "[Epoch 35/150] [TRAIN Loss: 0.02239]\n",
      "[Epoch 36/150] [TRAIN Loss: 0.02214]\n",
      "[Epoch 37/150] [TRAIN Loss: 0.02190]\n",
      "[Epoch 38/150] [TRAIN Loss: 0.02170]\n",
      "[Epoch 39/150] [TRAIN Loss: 0.02148]\n",
      "[Epoch 40/150] [TRAIN Loss: 0.02129]\n",
      "\n",
      "EVAL [CLS loss: 0.0177]  [PROX loss: 0.0659]  [CYC Loss: 0.1244]  [ADV loss: 0.8996]  [EVAL loss: 0.0376] \n",
      "EVAL [COUT: 0.8696]  [Validity: 99.80 %]  [Proximity: 0.1740]\n",
      "\n",
      "[Epoch 41/150] [TRAIN Loss: 0.02111]\n",
      "[Epoch 42/150] [TRAIN Loss: 0.02095]\n",
      "[Epoch 43/150] [TRAIN Loss: 0.02079]\n",
      "[Epoch 44/150] [TRAIN Loss: 0.02065]\n",
      "[Epoch 45/150] [TRAIN Loss: 0.02050]\n",
      "[Epoch 46/150] [TRAIN Loss: 0.02036]\n",
      "[Epoch 47/150] [TRAIN Loss: 0.02024]\n",
      "[Epoch 48/150] [TRAIN Loss: 0.02011]\n",
      "[Epoch 49/150] [TRAIN Loss: 0.02000]\n",
      "[Epoch 50/150] [TRAIN Loss: 0.01991]\n",
      "\n",
      "EVAL [CLS loss: 0.0183]  [PROX loss: 0.0656]  [CYC Loss: 0.1116]  [ADV loss: 0.8764]  [EVAL loss: 0.0369] \n",
      "EVAL [COUT: 0.8696]  [Validity: 99.80 %]  [Proximity: 0.1736]\n",
      "\n",
      "[Epoch 51/150] [TRAIN Loss: 0.01985]\n",
      "[Epoch 52/150] [TRAIN Loss: 0.01980]\n",
      "[Epoch 53/150] [TRAIN Loss: 0.01974]\n",
      "[Epoch 54/150] [TRAIN Loss: 0.01967]\n",
      "[Epoch 55/150] [TRAIN Loss: 0.01962]\n",
      "[Epoch 56/150] [TRAIN Loss: 0.01956]\n",
      "[Epoch 57/150] [TRAIN Loss: 0.01950]\n",
      "[Epoch 58/150] [TRAIN Loss: 0.01945]\n",
      "[Epoch 59/150] [TRAIN Loss: 0.01939]\n",
      "[Epoch 60/150] [TRAIN Loss: 0.01933]\n",
      "\n",
      "EVAL [CLS loss: 0.0181]  [PROX loss: 0.0654]  [CYC Loss: 0.1061]  [ADV loss: 0.8691]  [EVAL loss: 0.0361] \n",
      "EVAL [COUT: 0.8689]  [Validity: 99.70 %]  [Proximity: 0.1735]\n",
      "\n",
      "[Epoch 61/150] [TRAIN Loss: 0.01927]\n",
      "[Epoch 62/150] [TRAIN Loss: 0.01921]\n",
      "[Epoch 63/150] [TRAIN Loss: 0.01916]\n",
      "[Epoch 64/150] [TRAIN Loss: 0.01910]\n",
      "[Epoch 65/150] [TRAIN Loss: 0.01904]\n",
      "[Epoch 66/150] [TRAIN Loss: 0.01899]\n",
      "[Epoch 67/150] [TRAIN Loss: 0.01893]\n",
      "[Epoch 68/150] [TRAIN Loss: 0.01887]\n",
      "[Epoch 69/150] [TRAIN Loss: 0.01882]\n",
      "[Epoch 70/150] [TRAIN Loss: 0.01876]\n",
      "\n",
      "EVAL [CLS loss: 0.0193]  [PROX loss: 0.0652]  [CYC Loss: 0.1007]  [ADV loss: 0.8646]  [EVAL loss: 0.0367] \n",
      "EVAL [COUT: 0.8691]  [Validity: 99.70 %]  [Proximity: 0.1733]\n",
      "\n",
      "[Epoch 71/150] [TRAIN Loss: 0.01870]\n",
      "[Epoch 72/150] [TRAIN Loss: 0.01865]\n",
      "[Epoch 73/150] [TRAIN Loss: 0.01859]\n",
      "[Epoch 74/150] [TRAIN Loss: 0.01854]\n",
      "[Epoch 75/150] [TRAIN Loss: 0.01850]\n",
      "[Epoch 76/150] [TRAIN Loss: 0.01847]\n",
      "[Epoch 77/150] [TRAIN Loss: 0.01844]\n",
      "[Epoch 78/150] [TRAIN Loss: 0.01841]\n",
      "[Epoch 79/150] [TRAIN Loss: 0.01839]\n",
      "[Epoch 80/150] [TRAIN Loss: 0.01836]\n",
      "\n",
      "EVAL [CLS loss: 0.0208]  [PROX loss: 0.0650]  [CYC Loss: 0.0971]  [ADV loss: 0.8590]  [EVAL loss: 0.0379] \n",
      "EVAL [COUT: 0.8692]  [Validity: 99.70 %]  [Proximity: 0.1731]\n",
      "\n",
      "[Epoch 81/150] [TRAIN Loss: 0.01833]\n",
      "[Epoch 82/150] [TRAIN Loss: 0.01830]\n",
      "[Epoch 83/150] [TRAIN Loss: 0.01828]\n",
      "[Epoch 84/150] [TRAIN Loss: 0.01825]\n",
      "[Epoch 85/150] [TRAIN Loss: 0.01822]\n",
      "[Epoch 86/150] [TRAIN Loss: 0.01819]\n",
      "[Epoch 87/150] [TRAIN Loss: 0.01816]\n",
      "[Epoch 88/150] [TRAIN Loss: 0.01813]\n",
      "[Epoch 89/150] [TRAIN Loss: 0.01810]\n",
      "[Epoch 90/150] [TRAIN Loss: 0.01806]\n",
      "\n",
      "EVAL [CLS loss: 0.0220]  [PROX loss: 0.0649]  [CYC Loss: 0.0943]  [ADV loss: 0.8535]  [EVAL loss: 0.0388] \n",
      "EVAL [COUT: 0.8692]  [Validity: 99.70 %]  [Proximity: 0.1730]\n",
      "\n",
      "[Epoch 91/150] [TRAIN Loss: 0.01804]\n",
      "[Epoch 92/150] [TRAIN Loss: 0.01801]\n",
      "[Epoch 93/150] [TRAIN Loss: 0.01798]\n",
      "[Epoch 94/150] [TRAIN Loss: 0.01794]\n",
      "[Epoch 95/150] [TRAIN Loss: 0.01791]\n",
      "[Epoch 96/150] [TRAIN Loss: 0.01789]\n",
      "[Epoch 97/150] [TRAIN Loss: 0.01784]\n",
      "[Epoch 98/150] [TRAIN Loss: 0.01782]\n",
      "[Epoch 99/150] [TRAIN Loss: 0.01779]\n",
      "[Epoch 100/150] [TRAIN Loss: 0.01776]\n",
      "\n",
      "EVAL [CLS loss: 0.0232]  [PROX loss: 0.0648]  [CYC Loss: 0.0916]  [ADV loss: 0.8489]  [EVAL loss: 0.0396] \n",
      "EVAL [COUT: 0.8689]  [Validity: 99.60 %]  [Proximity: 0.1729]\n",
      "\n",
      "[Epoch 101/150] [TRAIN Loss: 0.01774]\n",
      "[Epoch 102/150] [TRAIN Loss: 0.01772]\n",
      "[Epoch 103/150] [TRAIN Loss: 0.01771]\n",
      "[Epoch 104/150] [TRAIN Loss: 0.01769]\n",
      "[Epoch 105/150] [TRAIN Loss: 0.01767]\n",
      "[Epoch 106/150] [TRAIN Loss: 0.01766]\n",
      "[Epoch 107/150] [TRAIN Loss: 0.01764]\n",
      "[Epoch 108/150] [TRAIN Loss: 0.01762]\n",
      "[Epoch 109/150] [TRAIN Loss: 0.01760]\n",
      "[Epoch 110/150] [TRAIN Loss: 0.01758]\n",
      "\n",
      "EVAL [CLS loss: 0.0242]  [PROX loss: 0.0647]  [CYC Loss: 0.0900]  [ADV loss: 0.8461]  [EVAL loss: 0.0405] \n",
      "EVAL [COUT: 0.8684]  [Validity: 99.50 %]  [Proximity: 0.1728]\n",
      "\n",
      "[Epoch 111/150] [TRAIN Loss: 0.01756]\n",
      "[Epoch 112/150] [TRAIN Loss: 0.01755]\n",
      "[Epoch 113/150] [TRAIN Loss: 0.01752]\n",
      "[Epoch 114/150] [TRAIN Loss: 0.01750]\n",
      "[Epoch 115/150] [TRAIN Loss: 0.01749]\n",
      "[Epoch 116/150] [TRAIN Loss: 0.01746]\n",
      "[Epoch 117/150] [TRAIN Loss: 0.01745]\n",
      "[Epoch 118/150] [TRAIN Loss: 0.01742]\n",
      "[Epoch 119/150] [TRAIN Loss: 0.01740]\n",
      "[Epoch 120/150] [TRAIN Loss: 0.01738]\n",
      "\n",
      "EVAL [CLS loss: 0.0262]  [PROX loss: 0.0646]  [CYC Loss: 0.0882]  [ADV loss: 0.8426]  [EVAL loss: 0.0423] \n",
      "EVAL [COUT: 0.8669]  [Validity: 99.41 %]  [Proximity: 0.1727]\n",
      "\n",
      "[Epoch 121/150] [TRAIN Loss: 0.01736]\n",
      "[Epoch 122/150] [TRAIN Loss: 0.01734]\n",
      "[Epoch 123/150] [TRAIN Loss: 0.01732]\n",
      "[Epoch 124/150] [TRAIN Loss: 0.01730]\n",
      "[Epoch 125/150] [TRAIN Loss: 0.01728]\n",
      "[Epoch 126/150] [TRAIN Loss: 0.01726]\n",
      "[Epoch 127/150] [TRAIN Loss: 0.01725]\n",
      "[Epoch 128/150] [TRAIN Loss: 0.01725]\n",
      "[Epoch 129/150] [TRAIN Loss: 0.01723]\n",
      "[Epoch 130/150] [TRAIN Loss: 0.01723]\n",
      "\n",
      "EVAL [CLS loss: 0.0286]  [PROX loss: 0.0645]  [CYC Loss: 0.0868]  [ADV loss: 0.8396]  [EVAL loss: 0.0446] \n",
      "EVAL [COUT: 0.8663]  [Validity: 99.41 %]  [Proximity: 0.1727]\n",
      "\n",
      "[Epoch 131/150] [TRAIN Loss: 0.01721]\n",
      "[Epoch 132/150] [TRAIN Loss: 0.01720]\n",
      "[Epoch 133/150] [TRAIN Loss: 0.01719]\n",
      "[Epoch 134/150] [TRAIN Loss: 0.01718]\n",
      "[Epoch 135/150] [TRAIN Loss: 0.01716]\n",
      "[Epoch 136/150] [TRAIN Loss: 0.01715]\n",
      "[Epoch 137/150] [TRAIN Loss: 0.01713]\n",
      "[Epoch 138/150] [TRAIN Loss: 0.01712]\n",
      "[Epoch 139/150] [TRAIN Loss: 0.01711]\n",
      "[Epoch 140/150] [TRAIN Loss: 0.01709]\n",
      "\n",
      "EVAL [CLS loss: 0.0306]  [PROX loss: 0.0644]  [CYC Loss: 0.0856]  [ADV loss: 0.8368]  [EVAL loss: 0.0464] \n",
      "EVAL [COUT: 0.8660]  [Validity: 99.31 %]  [Proximity: 0.1726]\n",
      "\n",
      "[Epoch 141/150] [TRAIN Loss: 0.01708]\n",
      "[Epoch 142/150] [TRAIN Loss: 0.01706]\n",
      "[Epoch 143/150] [TRAIN Loss: 0.01705]\n",
      "[Epoch 144/150] [TRAIN Loss: 0.01704]\n",
      "[Epoch 145/150] [TRAIN Loss: 0.01702]\n",
      "[Epoch 146/150] [TRAIN Loss: 0.01701]\n",
      "[Epoch 147/150] [TRAIN Loss: 0.01700]\n",
      "[Epoch 148/150] [TRAIN Loss: 0.01698]\n",
      "[Epoch 149/150] [TRAIN Loss: 0.01696]\n",
      "[Epoch 150/150] [TRAIN Loss: 0.01695]\n",
      "\n",
      "EVAL [CLS loss: 0.0324]  [PROX loss: 0.0643]  [CYC Loss: 0.0843]  [ADV loss: 0.8334]  [EVAL loss: 0.0480] \n",
      "EVAL [COUT: 0.8660]  [Validity: 99.31 %]  [Proximity: 0.1725]\n",
      "\n",
      "\n",
      "Evaluation Starts...\n",
      "\n",
      "\n",
      "EVAL [CLS loss: 0.0324]  [PROX loss: 0.0643]  [CYC Loss: 0.0843]  [ADV loss: 0.8334]  [EVAL loss: 0.0480] \n",
      "EVAL [COUT: 0.8660]  [Validity: 99.31 %]  [Proximity: 0.1725]\n",
      "\n"
     ]
    }
   ],
   "source": [
    "c3lt.train.train_c3lt(args, [dataloaders, dataloaders_test])"
   ]
  },
  {
   "cell_type": "markdown",
   "metadata": {},
   "source": [
    "# Robustness evaluation"
   ]
  },
  {
   "cell_type": "code",
   "execution_count": 7,
   "metadata": {},
   "outputs": [],
   "source": [
    "target_class = 7\n",
    "initial_classes = [9, 4, 3]\n",
    "\n",
    "mappers = {9: osp.join(repo_path, 'cf_output/mnist/c3lt_multi/results_9_7/snaps/map_9_to_7_150.pt'), \n",
    "           4: osp.join(repo_path, 'cf_output/mnist/c3lt_multi/results_4_7/snaps/map_4_to_7_150.pt'),\n",
    "           3: osp.join(repo_path, 'cf_output/mnist/c3lt_multi/results_3_7/snaps/map_3_to_7_150.pt')}"
   ]
  },
  {
   "cell_type": "code",
   "execution_count": 8,
   "metadata": {},
   "outputs": [
    {
     "name": "stdout",
     "output_type": "stream",
     "text": [
      "Classifier loaded!\n",
      "Generator loaded!\n",
      "Discriminator loaded!\n",
      "Encoder loaded!\n"
     ]
    }
   ],
   "source": [
    "expl_model = c3lt.C3LTModel(args, task='multiclass')\n",
    "expl_model.setup_model(mapper_weights_path=mappers)\n",
    "baseline_classifier = expl_model.classifier"
   ]
  },
  {
   "cell_type": "code",
   "execution_count": 9,
   "metadata": {},
   "outputs": [],
   "source": [
    "factuals, labels = extract_factual_instances(test_loader, initial_classes)\n",
    "factuals, labels = filter_valid_factuals(factuals, labels, baseline_classifier, device)"
   ]
  },
  {
   "cell_type": "markdown",
   "metadata": {},
   "source": [
    "## Local Instability"
   ]
  },
  {
   "cell_type": "code",
   "execution_count": 10,
   "metadata": {},
   "outputs": [],
   "source": [
    "from src.evaluation.local_instability import calculate_ssim, calculate_sparsity\n",
    "from src.utils import plot_perturbed_factuals_and_cf\n",
    "from functools import reduce"
   ]
  },
  {
   "cell_type": "code",
   "execution_count": 11,
   "metadata": {},
   "outputs": [],
   "source": [
    "save_dir = osp.join(repo_path, 'cf_output/mnist/c3lt_multi')\n",
    "n = 100\n",
    "noise_levels = [0.001, 0.0025, 0.005, 0.0075, 0.01]"
   ]
  },
  {
   "cell_type": "code",
   "execution_count": 12,
   "metadata": {},
   "outputs": [
    {
     "name": "stdout",
     "output_type": "stream",
     "text": [
      "Initial number of factual instances:  2959\n",
      "Number of valid perturbed factuals for the added noise level 0.001:  2958\n",
      "Number of valid perturbed factuals for the added noise level 0.0025:  2956\n",
      "Number of valid perturbed factuals for the added noise level 0.005:  2953\n",
      "Number of valid perturbed factuals for the added noise level 0.0075:  2952\n",
      "Number of valid perturbed factuals for the added noise level 0.01:  2942\n"
     ]
    }
   ],
   "source": [
    "factuals_pert = {}    \n",
    "indices_pert = {}\n",
    "print('Initial number of factual instances: ', factuals.shape[0])\n",
    "\n",
    "for noise_level in noise_levels:\n",
    "    factuals_pert[noise_level] = perturb_sample(factuals, n_samples=1, noise_magnitude=noise_level)\n",
    "    pert_sample = torch.Tensor(factuals_pert[noise_level])\n",
    "\n",
    "    # Check whether perturbed instances lead to the same class prediction\n",
    "    predictions = torch.argmax(baseline_classifier(pert_sample.to(device)), axis=1).detach().cpu()\n",
    "    indices = np.where(predictions == labels)[0]\n",
    "    print(f'Number of valid perturbed factuals for the added noise level {noise_level}: ', indices.shape[0])\n",
    "    pert_sample = pert_sample[indices] \n",
    "    indices_pert[noise_level] = indices"
   ]
  },
  {
   "cell_type": "code",
   "execution_count": 13,
   "metadata": {},
   "outputs": [],
   "source": [
    "final_indices = reduce(np.intersect1d, list(indices_pert.values()))\n",
    "np.random.shuffle(final_indices)\n",
    "final_indices = final_indices[:n]\n",
    "factuals = factuals[final_indices] \n",
    "labels = labels[final_indices]\n",
    "factuals_pert = {k : v[final_indices] for k, v in factuals_pert.items()}"
   ]
  },
  {
   "cell_type": "markdown",
   "metadata": {},
   "source": [
    "Generating counterfactrual explanations and evaluate their  validity  "
   ]
  },
  {
   "cell_type": "code",
   "execution_count": 14,
   "metadata": {},
   "outputs": [],
   "source": [
    "factuals = factuals.to(device)\n",
    "cfes = expl_model.get_counterfactuals(factuals, labels)"
   ]
  },
  {
   "cell_type": "code",
   "execution_count": 15,
   "metadata": {},
   "outputs": [
    {
     "name": "stdout",
     "output_type": "stream",
     "text": [
      "Validity of the generated explanations: 1.0\n"
     ]
    }
   ],
   "source": [
    "validity = np.where(torch.argmax(baseline_classifier(cfes), axis=1).detach().cpu() == target_class)[0]\n",
    "validity = validity.shape[0] / cfes.shape[0]\n",
    "print('Validity of the generated explanations:', validity)"
   ]
  },
  {
   "cell_type": "code",
   "execution_count": 16,
   "metadata": {},
   "outputs": [],
   "source": [
    "cfes_pert = {}\n",
    "\n",
    "for noise_level in noise_levels:\n",
    "    pert_sample = torch.Tensor(factuals_pert[noise_level]).to(device)\n",
    "    cfes_pert[noise_level] = expl_model.get_counterfactuals(pert_sample, labels) "
   ]
  },
  {
   "cell_type": "code",
   "execution_count": 17,
   "metadata": {},
   "outputs": [
    {
     "name": "stdout",
     "output_type": "stream",
     "text": [
      "Validity for the added noise level 0.001:  1.0\n",
      "Validity for the added noise level 0.0025:  1.0\n",
      "Validity for the added noise level 0.005:  1.0\n",
      "Validity for the added noise level 0.0075:  1.0\n",
      "Validity for the added noise level 0.01:  1.0\n"
     ]
    }
   ],
   "source": [
    "validity_list = []\n",
    "for noise_level in noise_levels:\n",
    "    predictions = torch.argmax(baseline_classifier(torch.Tensor(cfes_pert[noise_level])), axis=1).detach().cpu()\n",
    "    indices = np.where(predictions == target_class)[0]\n",
    "    validity = indices.shape[0] / predictions.shape[0]\n",
    "    validity_list.append(validity)\n",
    "    print(f'Validity for the added noise level {noise_level}: ',  validity)\n",
    "\n",
    "with open(osp.join(save_dir, f'mnist_{target_class}_validity.pkl'), 'wb') as f:\n",
    "    pickle.dump(validity_list, f)"
   ]
  },
  {
   "cell_type": "code",
   "execution_count": 18,
   "metadata": {},
   "outputs": [
    {
     "data": {
      "image/png": "[encoded data removed]",
      "text/plain": [
       "<Figure size 1000x400 with 12 Axes>"
      ]
     },
     "metadata": {},
     "output_type": "display_data"
    }
   ],
   "source": [
    "ind = 0\n",
    "factuals_pert_list = [factuals_pert[noise_level][ind] for noise_level in noise_levels]\n",
    "cfes_pert_list = [cfes_pert[noise_level][ind].detach().cpu() for noise_level in noise_levels]\n",
    "plot_perturbed_factuals_and_cf(factuals[ind].cpu(), factuals_pert_list, \n",
    "                               cfes[ind].cpu(), cfes_pert_list,\n",
    "                               noise_levels)"
   ]
  },
  {
   "cell_type": "code",
   "execution_count": 19,
   "metadata": {},
   "outputs": [],
   "source": [
    "instability_l1_list = []\n",
    "ssim_list = []\n",
    "\n",
    "for noise_level, cfe_pert_list in cfes_pert.items():\n",
    "    l1_temp = []\n",
    "    ssim_temp = []\n",
    "    for i in range(len(cfes)):\n",
    "        cf = cfes[i].detach().cpu()\n",
    "        cf_pert = cfe_pert_list[i].detach().cpu()\n",
    "\n",
    "        if len(cf) == 0:\n",
    "            continue\n",
    "        if len(cf_pert) == 0:\n",
    "            continue\n",
    "\n",
    "        cf_tensor = torch.Tensor(cf)\n",
    "        cf = cf_tensor.permute(1, 2, 0).flatten()\n",
    "\n",
    "        cf_pert_tensor = torch.Tensor(cf_pert)\n",
    "        cf_perturbed = cf_pert_tensor.permute(1, 2, 0).flatten()        \n",
    "\n",
    "        l1_distance =  calculate_sparsity(cf, cf_perturbed).item()\n",
    "        l1_temp.append(l1_distance)\n",
    "\n",
    "        ssim = calculate_ssim(cf_tensor.unsqueeze(0), cf_pert_tensor.unsqueeze(0)).item()\n",
    "        ssim_temp.append(ssim)\n",
    "\n",
    "    instability_l1_list.append(l1_temp)\n",
    "    ssim_list.append(ssim_temp)\n",
    "        \n",
    "\n",
    "with open(osp.join(save_dir, f'mnist_{target_class}_li_l1.pkl'), 'wb') as f:\n",
    "    pickle.dump(instability_l1_list, f)\n",
    "\n",
    "with open(osp.join(save_dir, f'mnist_{target_class}_ssim.pkl'), 'wb') as f:\n",
    "    pickle.dump(ssim_list, f)"
   ]
  },
  {
   "cell_type": "code",
   "execution_count": 20,
   "metadata": {},
   "outputs": [
    {
     "data": {
      "image/png": "[encoded data removed]",
      "text/plain": [
       "<Figure size 800x550 with 1 Axes>"
      ]
     },
     "metadata": {},
     "output_type": "display_data"
    }
   ],
   "source": [
    "plt.style.use(\"seaborn-v0_8-bright\")\n",
    "\n",
    "\n",
    "plot_boxplot(data=instability_l1_list, mean_values=np.round(np.mean(instability_l1_list, axis=1), 2),\n",
    "             tick_labels=[f'eps={noise_level}' for noise_level in noise_levels],\n",
    "             y_label='Local Instability', colors=['lightyellow'], title='L1 distance between CFEs of similar inputs')"
   ]
  },
  {
   "cell_type": "code",
   "execution_count": 21,
   "metadata": {},
   "outputs": [
    {
     "data": {
      "image/png": "[encoded data removed]",
      "text/plain": [
       "<Figure size 800x400 with 1 Axes>"
      ]
     },
     "metadata": {},
     "output_type": "display_data"
    }
   ],
   "source": [
    "plt.rcParams['figure.figsize'] = [8, 4]\n",
    "\n",
    "plot_boxplot(data=ssim_list, mean_values=np.round(np.mean(ssim_list, axis=1), 2),\n",
    "             tick_labels=[f'eps={noise_level}' for noise_level in noise_levels],\n",
    "             y_label='Local Instability', colors=['lightgreen'], title='SSIM between CFEs of similar inputs')"
   ]
  },
  {
   "cell_type": "markdown",
   "metadata": {},
   "source": [
    "## Local Lipschitz Continuity"
   ]
  },
  {
   "cell_type": "code",
   "execution_count": 22,
   "metadata": {},
   "outputs": [
    {
     "name": "stdout",
     "output_type": "stream",
     "text": [
      "Are the lengths of initial points (factuals) and CFEs generated for them equal : True\n"
     ]
    }
   ],
   "source": [
    "original_points = factuals # factuals_tensor[:n]\n",
    "original_cfes = cfes\n",
    "print(\"Are the lengths of initial points (factuals) and CFEs generated for them equal :\", len(original_cfes) == original_points.shape[0])\n"
   ]
  },
  {
   "cell_type": "code",
   "execution_count": 25,
   "metadata": {},
   "outputs": [
    {
     "name": "stderr",
     "output_type": "stream",
     "text": [
      "30it [00:00, 19828.10it/s]\n",
      "30it [00:00, 23198.58it/s]\n",
      "30it [00:00, 22745.68it/s]\n",
      "30it [00:00, 22844.79it/s]\n",
      "30it [00:00, 22990.89it/s]\n",
      "30it [00:00, 22882.18it/s]\n",
      "30it [00:00, 23104.87it/s]\n",
      "30it [00:00, 22562.15it/s]\n",
      "30it [00:00, 22545.98it/s]\n",
      "30it [00:00, 22762.14it/s]\n",
      "30it [00:00, 22449.44it/s]\n",
      "30it [00:00, 23168.68it/s]\n",
      "30it [00:00, 20757.03it/s]\n",
      "30it [00:00, 23267.22it/s]\n",
      "30it [00:00, 22898.84it/s]\n",
      "30it [00:00, 23075.21it/s]\n",
      "30it [00:00, 22911.35it/s]\n",
      "30it [00:00, 22160.82it/s]\n",
      "30it [00:00, 22903.01it/s]\n",
      "30it [00:00, 23049.85it/s]\n",
      "30it [00:00, 22590.51it/s]\n",
      "30it [00:00, 22907.18it/s]\n",
      "30it [00:00, 22944.77it/s]\n",
      "30it [00:00, 23117.60it/s]\n",
      "30it [00:00, 22815.80it/s]\n",
      "30it [00:00, 22712.84it/s]\n",
      "30it [00:00, 22712.84it/s]\n",
      "30it [00:00, 22919.69it/s]\n",
      "30it [00:00, 22873.86it/s]\n",
      "30it [00:00, 20113.35it/s]\n",
      "30it [00:00, 20943.60it/s]\n",
      "30it [00:00, 19988.74it/s]\n",
      "30it [00:00, 19875.08it/s]\n",
      "30it [00:00, 3957.89it/s]\n",
      "30it [00:00, 20177.86it/s]\n",
      "30it [00:00, 19352.37it/s]\n",
      "30it [00:00, 19862.53it/s]\n",
      "30it [00:00, 20001.45it/s]\n",
      "30it [00:00, 20155.23it/s]\n",
      "30it [00:00, 20600.71it/s]\n",
      "30it [00:00, 19710.08it/s]\n",
      "30it [00:00, 19569.07it/s]\n",
      "30it [00:00, 19834.35it/s]\n",
      "30it [00:00, 22940.59it/s]\n",
      "30it [00:00, 20036.48it/s]\n",
      "30it [00:00, 20078.05it/s]\n",
      "30it [00:00, 19472.16it/s]\n",
      "30it [00:00, 19900.22it/s]\n",
      "30it [00:00, 19837.48it/s]\n",
      "30it [00:00, 19821.85it/s]\n",
      "50it [00:10,  4.82it/s]\n"
     ]
    }
   ],
   "source": [
    "from tqdm import tqdm\n",
    "\n",
    "\n",
    "i = 0\n",
    "lip_estimates = []\n",
    "noise_magnitude = 0.001\n",
    "\n",
    "original_points = original_points.detach().cpu()\n",
    "original_cfes = original_cfes.detach().cpu()\n",
    "for original_point, original_cfe in tqdm(zip(original_points[:50], original_cfes[:50])):\n",
    "\n",
    "    neighbor_points = perturb_sample(original_point.unsqueeze(0), n_samples=30, noise_magnitude=noise_magnitude) \n",
    "    neighbor_points = torch.Tensor(neighbor_points).to(device)  \n",
    "    neighbor_cfes = expl_model.get_counterfactuals(neighbor_points, labels).detach().cpu() \n",
    "    neighbor_points = neighbor_points.detach().cpu()\n",
    "\n",
    "    lip_estimate = 0\n",
    "    for m, p in tqdm(zip(neighbor_cfes, neighbor_points)):\n",
    "        num = np.linalg.norm((original_cfe - m).flatten(), ord=2) \n",
    "        denom = np.linalg.norm((original_point - p).flatten(), ord=2)\n",
    "        lip = num / denom\n",
    "        lip_estimate = max(lip, lip_estimate)\n",
    " \n",
    "    lip_estimates.append(lip_estimate.item())\n",
    "    i += 1"
   ]
  },
  {
   "cell_type": "code",
   "execution_count": 26,
   "metadata": {},
   "outputs": [],
   "source": [
    "with open(osp.join(save_dir, f'mnist_{target_class}_lle.pkl'), 'wb') as f:\n",
    "        pickle.dump(lip_estimates, f)"
   ]
  },
  {
   "cell_type": "code",
   "execution_count": 27,
   "metadata": {},
   "outputs": [
    {
     "data": {
      "image/png": "[encoded data removed]",
      "text/plain": [
       "<Figure size 600x400 with 1 Axes>"
      ]
     },
     "metadata": {},
     "output_type": "display_data"
    }
   ],
   "source": [
    "plt.rcParams['figure.figsize'] = [6, 4]\n",
    "plot_boxplot(data=lip_estimates, mean_values=[np.round(np.mean(lip_estimates), 5)],\n",
    "             tick_labels=[''],\n",
    "             y_label='Local Lipschitz Continuity', colors=['lightpink'], title='')"
   ]
  },
  {
   "cell_type": "markdown",
   "metadata": {},
   "source": [
    "## Invalidation Rate"
   ]
  },
  {
   "cell_type": "code",
   "execution_count": 28,
   "metadata": {},
   "outputs": [
    {
     "name": "stdout",
     "output_type": "stream",
     "text": [
      "Accuracy for the test dataset: 99.084%\n",
      "Accuracy for the test dataset: 98.776%\n",
      "Accuracy for the test dataset: 98.806%\n",
      "Accuracy for the test dataset: 98.826%\n",
      "Accuracy for the test dataset: 98.955%\n",
      "Accuracy for the test dataset: 99.084%\n",
      "Accuracy for the test dataset: 98.428%\n",
      "Accuracy for the test dataset: 98.706%\n",
      "Accuracy for the test dataset: 98.776%\n",
      "Accuracy for the test dataset: 98.746%\n"
     ]
    }
   ],
   "source": [
    "classifiers_weights_dir = osp.join(repo_path, r'notebooks/experiments/mnist_classification/multiclass/checkpoints/mc_all')\n",
    "\n",
    "classifiers_list = []\n",
    "for clf_weights in os.listdir(classifiers_weights_dir):\n",
    "    cnn_perturbed = SimpleCNNtorch(**args.classifier_args)\n",
    "    load_model_weights(model=cnn_perturbed, weights_path=osp.join(classifiers_weights_dir, clf_weights), lightning_used=False)\n",
    "    classifiers_list.append(cnn_perturbed)\n",
    "    evaluate_classification_model(cnn_perturbed, dataloader=test_loader, num_classes=config.data.num_classes)"
   ]
  },
  {
   "cell_type": "code",
   "execution_count": 29,
   "metadata": {},
   "outputs": [
    {
     "name": "stdout",
     "output_type": "stream",
     "text": [
      "Model 0: IR=0.0, validity=1.0\n",
      "\n",
      "Model 1: IR=0.0, validity=1.0\n",
      "\n",
      "Model 2: IR=0.0, validity=1.0\n",
      "\n",
      "Model 3: IR=0.0, validity=1.0\n",
      "\n",
      "Model 4: IR=0.0, validity=1.0\n",
      "\n",
      "Model 5: IR=0.0, validity=1.0\n",
      "\n",
      "Model 6: IR=0.0, validity=1.0\n",
      "\n",
      "Model 7: IR=0.0, validity=1.0\n",
      "\n",
      "Model 8: IR=0.0, validity=1.0\n",
      "\n",
      "Model 9: IR=0.0, validity=1.0\n",
      "\n",
      "Average IR : 0.000 +- 0.000\n",
      "Average VaR : 1.000 +- 0.000\n"
     ]
    }
   ],
   "source": [
    "validity_list = []\n",
    "invalidation_rate_list = []\n",
    "\n",
    "for i, classifier in enumerate(classifiers_list):\n",
    "    validity = 0\n",
    "    invalidation_rate = 0\n",
    "    total_found_cfs = 0\n",
    "    \n",
    "    classifier.eval()\n",
    "    with torch.no_grad():\n",
    "        classifier = classifier.to(device)\n",
    "\n",
    "        baseline_pred = torch.argmax(baseline_classifier(cfes), axis=1)\n",
    "        alternative_pred = torch.argmax(classifier(cfes), axis=1)\n",
    "    \n",
    "    invalidation_rate = np.where(baseline_pred.detach().cpu() != alternative_pred.detach().cpu())[0].shape[0] / baseline_pred.shape[0]\n",
    "    validity = np.where(alternative_pred.detach().cpu() == target_class)[0].shape[0] / alternative_pred.shape[0]\n",
    "\n",
    "    # invalidation_rate /= total_found_cfs\n",
    "    invalidation_rate_list.append(invalidation_rate)\n",
    "    validity_list.append(validity)\n",
    "    print(f'Model {i}: IR={invalidation_rate}, validity={validity}\\n')\n",
    "\n",
    "print('Average IR : {:.3f} +- {:.3f}'.format(np.mean(invalidation_rate_list), np.std(invalidation_rate_list)))\n",
    "print('Average VaR : {:.3f} +- {:.3f}'.format(np.mean(validity_list), np.std(validity_list)))"
   ]
  },
  {
   "cell_type": "markdown",
   "metadata": {},
   "source": [
    "## Stability\n"
   ]
  },
  {
   "cell_type": "code",
   "execution_count": 32,
   "metadata": {},
   "outputs": [
    {
     "name": "stdout",
     "output_type": "stream",
     "text": [
      "Stability of the model 0: 1.0 +- 0.0\n",
      "Stability of the model 1: 1.0 +- 0.0\n",
      "Stability of the model 2: 1.0 +- 0.0\n",
      "Stability of the model 3: 1.0 +- 0.0\n",
      "Stability of the model 4: 1.0 +- 0.0\n",
      "Stability of the model 5: 1.0 +- 0.0\n",
      "Stability of the model 6: 1.0 +- 0.0\n",
      "Stability of the model 7: 1.0 +- 0.0\n",
      "Stability of the model 8: 1.0 +- 0.0\n",
      "Stability of the model 9: 1.0 +- 0.0\n"
     ]
    }
   ],
   "source": [
    "k = 1000\n",
    "sigma = 0.001\n",
    "device = 'cuda' if torch.cuda.is_available() else 'cpu'\n",
    "\n",
    "average_stability_list = []\n",
    "for i, classifier in enumerate(classifiers_list):\n",
    "    stability_list = []\n",
    "    for cfe in cfes:\n",
    "\n",
    "        cfe = torch.Tensor(cfe).unsqueeze(0).detach().cpu()\n",
    "        cfe_sampled = torch.Tensor(perturb_sample(cfe, n_samples=k, noise_magnitude=sigma))\n",
    "\n",
    "        with torch.no_grad():\n",
    "            cf_logits = classifier(cfe.to(device))\n",
    "            cf_probabilities = F.softmax(cf_logits, dim=-1)[:, target_class]\n",
    "\n",
    "            cf_sampled_logits = classifier(cfe_sampled.to(device))\n",
    "            cf_sampled_probabilities = F.softmax(cf_sampled_logits, dim=-1)[:, target_class]\n",
    "        \n",
    "        model_variance = abs(cf_probabilities - cf_sampled_probabilities)\n",
    "\n",
    "        stability = (cf_sampled_probabilities - model_variance).mean()\n",
    "        stability_list.append(stability.item())\n",
    "\n",
    "    avg_i_stability = np.mean(stability_list)\n",
    "    print(f'Stability of the model {i}: {avg_i_stability.round(3).item()} +- {np.std(stability_list).round(2).item()}')\n",
    "    average_stability_list.append(avg_i_stability) "
   ]
  },
  {
   "cell_type": "code",
   "execution_count": 33,
   "metadata": {},
   "outputs": [
    {
     "name": "stdout",
     "output_type": "stream",
     "text": [
      "Average stability over 10 models: 1.0 +- 0.0\n"
     ]
    }
   ],
   "source": [
    "print(f'Average stability over {len(classifiers_list)} models: {np.mean(average_stability_list).round(4)} +- {np.std(average_stability_list).round(2).item()}')"
   ]
  },
  {
   "cell_type": "code",
   "execution_count": null,
   "metadata": {},
   "outputs": [],
   "source": []
  }
 ],
 "metadata": {
  "kernelspec": {
   "display_name": "venv",
   "language": "python",
   "name": "python3"
  },
  "language_info": {
   "codemirror_mode": {
    "name": "ipython",
    "version": 3
   },
   "file_extension": ".py",
   "mimetype": "text/x-python",
   "name": "python",
   "nbconvert_exporter": "python",
   "pygments_lexer": "ipython3",
   "version": "3.12.4"
  }
 },
 "nbformat": 4,
 "nbformat_minor": 2
}
