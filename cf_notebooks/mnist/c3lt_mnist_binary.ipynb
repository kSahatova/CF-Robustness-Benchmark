{
 "cells": [
  {
   "cell_type": "code",
   "execution_count": 1,
   "metadata": {},
   "outputs": [
    {
     "name": "stderr",
     "output_type": "stream",
     "text": [
      "2025-05-27 15:58:04.872600: E external/local_xla/xla/stream_executor/cuda/cuda_fft.cc:467] Unable to register cuFFT factory: Attempting to register factory for plugin cuFFT when one has already been registered\n",
      "WARNING: All log messages before absl::InitializeLog() is called are written to STDERR\n",
      "E0000 00:00:1748354284.891525  547935 cuda_dnn.cc:8579] Unable to register cuDNN factory: Attempting to register factory for plugin cuDNN when one has already been registered\n",
      "E0000 00:00:1748354284.897260  547935 cuda_blas.cc:1407] Unable to register cuBLAS factory: Attempting to register factory for plugin cuBLAS when one has already been registered\n",
      "W0000 00:00:1748354284.912654  547935 computation_placer.cc:177] computation placer already registered. Please check linkage and avoid linking the same target more than once.\n",
      "W0000 00:00:1748354284.912673  547935 computation_placer.cc:177] computation placer already registered. Please check linkage and avoid linking the same target more than once.\n",
      "W0000 00:00:1748354284.912675  547935 computation_placer.cc:177] computation placer already registered. Please check linkage and avoid linking the same target more than once.\n",
      "W0000 00:00:1748354284.912676  547935 computation_placer.cc:177] computation placer already registered. Please check linkage and avoid linking the same target more than once.\n",
      "2025-05-27 15:58:04.917388: I tensorflow/core/platform/cpu_feature_guard.cc:210] This TensorFlow binary is optimized to use available CPU instructions in performance-critical operations.\n",
      "To enable the following instructions: AVX2 AVX512F FMA, in other operations, rebuild TensorFlow with the appropriate compiler flags.\n",
      "/data/leuven/365/vsc36567/miniconda3/lib/python3.12/site-packages/albumentations/__init__.py:28: UserWarning: A new version of Albumentations is available: '2.0.7' (you have '2.0.4'). Upgrade using: pip install -U albumentations. To disable automatic update checks, set the environment variable NO_ALBUMENTATIONS_UPDATE to 1.\n",
      "  check_for_updates()\n"
     ]
    }
   ],
   "source": [
    "import os\n",
    "import pickle\n",
    "import numpy as np\n",
    "import os.path as osp\n",
    "import matplotlib.pyplot as plt\n",
    "\n",
    "import torch\n",
    "import torch.nn.functional as F\n",
    "\n",
    "from src.cf_methods import c3lt \n",
    "from src.datasets import DatasetBuilder\n",
    "\n",
    "from src.models.classifiers import SimpleCNNtorch\n",
    "from src.evaluation.local_instability import perturb_sample\n",
    "from src.utils import seed_everything, get_config, load_model_weights\n",
    "from src.utils import evaluate_classification_model, plot_boxplot\n",
    "from src.utils import extract_factual_instances, filter_valid_factuals"
   ]
  },
  {
   "cell_type": "code",
   "execution_count": 2,
   "metadata": {},
   "outputs": [],
   "source": [
    "seed_everything()"
   ]
  },
  {
   "cell_type": "code",
   "execution_count": 3,
   "metadata": {},
   "outputs": [],
   "source": [
    "import sys\n",
    "sys.argv = ['']"
   ]
  },
  {
   "cell_type": "code",
   "execution_count": 4,
   "metadata": {},
   "outputs": [],
   "source": [
    "repo_path =  '/data/leuven/365/vsc36567/CF-Robustness-Benchmark'\n",
    "# 'D:\\PycharmProjects\\CF-Robustness-Benchmark' \n",
    "config_path = osp.join(repo_path, 'configs/train_classifier_mnist.yaml')\n",
    "\n",
    "config = get_config(config_path)\n",
    "config.data_dir = osp.join(repo_path, config.data_dir)\n",
    "ds_builder = DatasetBuilder(config)\n",
    "ds_builder.setup()\n",
    "train_loader, val_loader, test_loader = ds_builder.get_dataloaders() \n",
    "device = \"cuda\" if torch.cuda.is_available() else \"cpu\""
   ]
  },
  {
   "cell_type": "code",
   "execution_count": 5,
   "metadata": {},
   "outputs": [],
   "source": [
    "# Create an args object to pass all relevant parameters \n",
    "weights_dir = osp.join(repo_path, 'src/cf_methods/c3lt/weights/mnist')\n",
    "clf_dir = osp.join(repo_path, 'notebooks/experiments/mnist_classification/binary/checkpoints')\n",
    "log_path = osp.join(repo_path, 'cf_output/mnist/c3lt_binary')\n",
    "\n",
    "args = c3lt.args.init_parser()\n",
    "args.device = \"cuda\" if torch.cuda.is_available() else \"cpu\"\n",
    "args.log_path = log_path\n",
    "args.gen_path = osp.join(weights_dir, 'generator_mnist_1_7.pth')\n",
    "args.disc_path = osp.join(weights_dir, 'discriminator_mnist_1_7.pth')\n",
    "args.enc_path = osp.join(weights_dir, 'encoder_mnist_1_7.pth')\n",
    "args.cls_path = osp.join(clf_dir, 'mnist_1_7_epoch=00_val_accuracy=0.99.pth')\n",
    "args.dataset_path = config.data_dir\n",
    "args.cls_1 = 0  # 1\n",
    "args.cls_2 = 1  # 7\n",
    "args.num_classes = 2\n",
    "args.classifier_args={**config.classifier.args, \n",
    "                    'num_classes': config.data.num_classes,\n",
    "                    'img_size': config.data.img_size\n",
    "}\n",
    "args.ndf=32\n",
    "args.epochs = 150\n",
    "# args.cls_type = 'bce'\n",
    "args.extracted_layers = ['main']\n",
    "# args.output = osp.join(repo_path, 'cf_output/mnist/c3lt_binary/results')\n",
    "# os.makedirs(args.output+'/snaps', exist_ok=True)"
   ]
  },
  {
   "cell_type": "code",
   "execution_count": 6,
   "metadata": {},
   "outputs": [],
   "source": [
    "dataloaders = c3lt.helper.dataloader_pair(args, ds_builder.train_dataset, is_train=True)\n",
    "dataloaders_test = c3lt.helper.dataloader_pair(args, ds_builder.test_dataset, is_train=False)"
   ]
  },
  {
   "cell_type": "markdown",
   "metadata": {},
   "source": [
    "# Training"
   ]
  },
  {
   "cell_type": "code",
   "execution_count": 9,
   "metadata": {},
   "outputs": [
    {
     "name": "stdout",
     "output_type": "stream",
     "text": [
      "Generator loaded!\n",
      "Discriminator loaded!\n",
      "Encoder loaded!\n",
      "Classifier loaded!\n",
      "\n",
      "Training Starts...\n",
      "\n",
      "[Epoch 0/150] [TRAIN Loss: 0.41059]\n",
      "\n",
      "EVAL [CLS loss: 0.0001]  [PROX loss: 0.0587]  [CYC Loss: 0.1857]  [ADV loss: 0.3769]  [EVAL loss: 0.0249] \n",
      "EVAL [COUT: 0.9476]  [Validity: 100.00 %]  [Proximity: 0.1711]\n",
      "\n",
      "[Epoch 1/150] [TRAIN Loss: 0.02595]\n",
      "[Epoch 2/150] [TRAIN Loss: 0.02495]\n",
      "[Epoch 3/150] [TRAIN Loss: 0.02388]\n",
      "[Epoch 4/150] [TRAIN Loss: 0.02285]\n",
      "[Epoch 5/150] [TRAIN Loss: 0.02190]\n",
      "[Epoch 6/150] [TRAIN Loss: 0.02107]\n",
      "[Epoch 7/150] [TRAIN Loss: 0.02037]\n",
      "[Epoch 8/150] [TRAIN Loss: 0.01977]\n",
      "[Epoch 9/150] [TRAIN Loss: 0.01922]\n",
      "[Epoch 10/150] [TRAIN Loss: 0.01873]\n",
      "\n",
      "EVAL [CLS loss: 0.0001]  [PROX loss: 0.0579]  [CYC Loss: 0.1123]  [ADV loss: 0.4058]  [EVAL loss: 0.0175] \n",
      "EVAL [COUT: 0.9486]  [Validity: 100.00 %]  [Proximity: 0.1694]\n",
      "\n",
      "[Epoch 11/150] [TRAIN Loss: 0.01829]\n",
      "[Epoch 12/150] [TRAIN Loss: 0.01789]\n",
      "[Epoch 13/150] [TRAIN Loss: 0.01751]\n",
      "[Epoch 14/150] [TRAIN Loss: 0.01718]\n",
      "[Epoch 15/150] [TRAIN Loss: 0.01687]\n",
      "[Epoch 16/150] [TRAIN Loss: 0.01658]\n",
      "[Epoch 17/150] [TRAIN Loss: 0.01631]\n",
      "[Epoch 18/150] [TRAIN Loss: 0.01606]\n",
      "[Epoch 19/150] [TRAIN Loss: 0.01582]\n",
      "[Epoch 20/150] [TRAIN Loss: 0.01560]\n",
      "\n",
      "EVAL [CLS loss: 0.0001]  [PROX loss: 0.0575]  [CYC Loss: 0.0836]  [ADV loss: 0.4053]  [EVAL loss: 0.0146] \n",
      "EVAL [COUT: 0.9483]  [Validity: 100.00 %]  [Proximity: 0.1653]\n",
      "\n",
      "[Epoch 21/150] [TRAIN Loss: 0.01540]\n",
      "[Epoch 22/150] [TRAIN Loss: 0.01520]\n",
      "[Epoch 23/150] [TRAIN Loss: 0.01503]\n",
      "[Epoch 24/150] [TRAIN Loss: 0.01486]\n",
      "[Epoch 25/150] [TRAIN Loss: 0.01473]\n",
      "[Epoch 26/150] [TRAIN Loss: 0.01465]\n",
      "[Epoch 27/150] [TRAIN Loss: 0.01457]\n",
      "[Epoch 28/150] [TRAIN Loss: 0.01449]\n",
      "[Epoch 29/150] [TRAIN Loss: 0.01441]\n",
      "[Epoch 30/150] [TRAIN Loss: 0.01433]\n",
      "\n",
      "EVAL [CLS loss: 0.0001]  [PROX loss: 0.0571]  [CYC Loss: 0.0722]  [ADV loss: 0.3981]  [EVAL loss: 0.0134] \n",
      "EVAL [COUT: 0.9482]  [Validity: 100.00 %]  [Proximity: 0.1624]\n",
      "\n",
      "[Epoch 31/150] [TRAIN Loss: 0.01426]\n",
      "[Epoch 32/150] [TRAIN Loss: 0.01419]\n",
      "[Epoch 33/150] [TRAIN Loss: 0.01412]\n",
      "[Epoch 34/150] [TRAIN Loss: 0.01404]\n",
      "[Epoch 35/150] [TRAIN Loss: 0.01397]\n",
      "[Epoch 36/150] [TRAIN Loss: 0.01389]\n",
      "[Epoch 37/150] [TRAIN Loss: 0.01382]\n",
      "[Epoch 38/150] [TRAIN Loss: 0.01375]\n",
      "[Epoch 39/150] [TRAIN Loss: 0.01369]\n",
      "[Epoch 40/150] [TRAIN Loss: 0.01362]\n",
      "\n",
      "EVAL [CLS loss: 0.0001]  [PROX loss: 0.0568]  [CYC Loss: 0.0654]  [ADV loss: 0.3931]  [EVAL loss: 0.0127] \n",
      "EVAL [COUT: 0.9480]  [Validity: 100.00 %]  [Proximity: 0.1600]\n",
      "\n",
      "[Epoch 41/150] [TRAIN Loss: 0.01355]\n",
      "[Epoch 42/150] [TRAIN Loss: 0.01349]\n",
      "[Epoch 43/150] [TRAIN Loss: 0.01342]\n",
      "[Epoch 44/150] [TRAIN Loss: 0.01335]\n",
      "[Epoch 45/150] [TRAIN Loss: 0.01329]\n",
      "[Epoch 46/150] [TRAIN Loss: 0.01322]\n",
      "[Epoch 47/150] [TRAIN Loss: 0.01317]\n",
      "[Epoch 48/150] [TRAIN Loss: 0.01310]\n",
      "[Epoch 49/150] [TRAIN Loss: 0.01304]\n",
      "[Epoch 50/150] [TRAIN Loss: 0.01300]\n",
      "\n",
      "EVAL [CLS loss: 0.0001]  [PROX loss: 0.0565]  [CYC Loss: 0.0599]  [ADV loss: 0.3888]  [EVAL loss: 0.0121] \n",
      "EVAL [COUT: 0.9480]  [Validity: 100.00 %]  [Proximity: 0.1573]\n",
      "\n",
      "[Epoch 51/150] [TRAIN Loss: 0.01297]\n",
      "[Epoch 52/150] [TRAIN Loss: 0.01294]\n",
      "[Epoch 53/150] [TRAIN Loss: 0.01291]\n",
      "[Epoch 54/150] [TRAIN Loss: 0.01288]\n",
      "[Epoch 55/150] [TRAIN Loss: 0.01284]\n",
      "[Epoch 56/150] [TRAIN Loss: 0.01281]\n",
      "[Epoch 57/150] [TRAIN Loss: 0.01278]\n",
      "[Epoch 58/150] [TRAIN Loss: 0.01275]\n",
      "[Epoch 59/150] [TRAIN Loss: 0.01273]\n",
      "[Epoch 60/150] [TRAIN Loss: 0.01269]\n",
      "\n",
      "EVAL [CLS loss: 0.0001]  [PROX loss: 0.0563]  [CYC Loss: 0.0570]  [ADV loss: 0.3837]  [EVAL loss: 0.0118] \n",
      "EVAL [COUT: 0.9479]  [Validity: 100.00 %]  [Proximity: 0.1557]\n",
      "\n",
      "[Epoch 61/150] [TRAIN Loss: 0.01266]\n",
      "[Epoch 62/150] [TRAIN Loss: 0.01263]\n",
      "[Epoch 63/150] [TRAIN Loss: 0.01260]\n",
      "[Epoch 64/150] [TRAIN Loss: 0.01256]\n",
      "[Epoch 65/150] [TRAIN Loss: 0.01253]\n",
      "[Epoch 66/150] [TRAIN Loss: 0.01250]\n",
      "[Epoch 67/150] [TRAIN Loss: 0.01247]\n",
      "[Epoch 68/150] [TRAIN Loss: 0.01243]\n",
      "[Epoch 69/150] [TRAIN Loss: 0.01240]\n",
      "[Epoch 70/150] [TRAIN Loss: 0.01237]\n",
      "\n",
      "EVAL [CLS loss: 0.0002]  [PROX loss: 0.0561]  [CYC Loss: 0.0542]  [ADV loss: 0.3787]  [EVAL loss: 0.0116] \n",
      "EVAL [COUT: 0.9476]  [Validity: 100.00 %]  [Proximity: 0.1538]\n",
      "\n",
      "[Epoch 71/150] [TRAIN Loss: 0.01234]\n",
      "[Epoch 72/150] [TRAIN Loss: 0.01231]\n",
      "[Epoch 73/150] [TRAIN Loss: 0.01228]\n",
      "[Epoch 74/150] [TRAIN Loss: 0.01224]\n",
      "[Epoch 75/150] [TRAIN Loss: 0.01222]\n",
      "[Epoch 76/150] [TRAIN Loss: 0.01221]\n",
      "[Epoch 77/150] [TRAIN Loss: 0.01219]\n",
      "[Epoch 78/150] [TRAIN Loss: 0.01217]\n",
      "[Epoch 79/150] [TRAIN Loss: 0.01216]\n",
      "[Epoch 80/150] [TRAIN Loss: 0.01214]\n",
      "\n",
      "EVAL [CLS loss: 0.0007]  [PROX loss: 0.0559]  [CYC Loss: 0.0521]  [ADV loss: 0.3761]  [EVAL loss: 0.0119] \n",
      "EVAL [COUT: 0.9468]  [Validity: 99.90 %]  [Proximity: 0.1523]\n",
      "\n",
      "[Epoch 81/150] [TRAIN Loss: 0.01212]\n",
      "[Epoch 82/150] [TRAIN Loss: 0.01210]\n",
      "[Epoch 83/150] [TRAIN Loss: 0.01209]\n",
      "[Epoch 84/150] [TRAIN Loss: 0.01207]\n",
      "[Epoch 85/150] [TRAIN Loss: 0.01205]\n",
      "[Epoch 86/150] [TRAIN Loss: 0.01203]\n",
      "[Epoch 87/150] [TRAIN Loss: 0.01201]\n",
      "[Epoch 88/150] [TRAIN Loss: 0.01200]\n",
      "[Epoch 89/150] [TRAIN Loss: 0.01198]\n",
      "[Epoch 90/150] [TRAIN Loss: 0.01196]\n",
      "\n",
      "EVAL [CLS loss: 0.0011]  [PROX loss: 0.0558]  [CYC Loss: 0.0505]  [ADV loss: 0.3738]  [EVAL loss: 0.0121] \n",
      "EVAL [COUT: 0.9467]  [Validity: 99.90 %]  [Proximity: 0.1510]\n",
      "\n",
      "[Epoch 91/150] [TRAIN Loss: 0.01194]\n",
      "[Epoch 92/150] [TRAIN Loss: 0.01193]\n",
      "[Epoch 93/150] [TRAIN Loss: 0.01190]\n",
      "[Epoch 94/150] [TRAIN Loss: 0.01189]\n",
      "[Epoch 95/150] [TRAIN Loss: 0.01187]\n",
      "[Epoch 96/150] [TRAIN Loss: 0.01185]\n",
      "[Epoch 97/150] [TRAIN Loss: 0.01183]\n",
      "[Epoch 98/150] [TRAIN Loss: 0.01182]\n",
      "[Epoch 99/150] [TRAIN Loss: 0.01180]\n",
      "[Epoch 100/150] [TRAIN Loss: 0.01178]\n",
      "\n",
      "EVAL [CLS loss: 0.0015]  [PROX loss: 0.0556]  [CYC Loss: 0.0489]  [ADV loss: 0.3724]  [EVAL loss: 0.0123] \n",
      "EVAL [COUT: 0.9467]  [Validity: 99.90 %]  [Proximity: 0.1496]\n",
      "\n",
      "[Epoch 101/150] [TRAIN Loss: 0.01177]\n",
      "[Epoch 102/150] [TRAIN Loss: 0.01176]\n",
      "[Epoch 103/150] [TRAIN Loss: 0.01174]\n",
      "[Epoch 104/150] [TRAIN Loss: 0.01173]\n",
      "[Epoch 105/150] [TRAIN Loss: 0.01173]\n",
      "[Epoch 106/150] [TRAIN Loss: 0.01172]\n",
      "[Epoch 107/150] [TRAIN Loss: 0.01170]\n",
      "[Epoch 108/150] [TRAIN Loss: 0.01169]\n",
      "[Epoch 109/150] [TRAIN Loss: 0.01168]\n",
      "[Epoch 110/150] [TRAIN Loss: 0.01167]\n",
      "\n",
      "EVAL [CLS loss: 0.0016]  [PROX loss: 0.0555]  [CYC Loss: 0.0480]  [ADV loss: 0.3720]  [EVAL loss: 0.0123] \n",
      "EVAL [COUT: 0.9468]  [Validity: 99.90 %]  [Proximity: 0.1488]\n",
      "\n",
      "[Epoch 111/150] [TRAIN Loss: 0.01166]\n",
      "[Epoch 112/150] [TRAIN Loss: 0.01164]\n",
      "[Epoch 113/150] [TRAIN Loss: 0.01164]\n",
      "[Epoch 114/150] [TRAIN Loss: 0.01163]\n",
      "[Epoch 115/150] [TRAIN Loss: 0.01161]\n",
      "[Epoch 116/150] [TRAIN Loss: 0.01160]\n",
      "[Epoch 117/150] [TRAIN Loss: 0.01159]\n",
      "[Epoch 118/150] [TRAIN Loss: 0.01158]\n",
      "[Epoch 119/150] [TRAIN Loss: 0.01156]\n",
      "[Epoch 120/150] [TRAIN Loss: 0.01155]\n",
      "\n",
      "EVAL [CLS loss: 0.0017]  [PROX loss: 0.0554]  [CYC Loss: 0.0469]  [ADV loss: 0.3713]  [EVAL loss: 0.0123] \n",
      "EVAL [COUT: 0.9468]  [Validity: 99.90 %]  [Proximity: 0.1478]\n",
      "\n",
      "[Epoch 121/150] [TRAIN Loss: 0.01155]\n",
      "[Epoch 122/150] [TRAIN Loss: 0.01153]\n",
      "[Epoch 123/150] [TRAIN Loss: 0.01151]\n",
      "[Epoch 124/150] [TRAIN Loss: 0.01150]\n",
      "[Epoch 125/150] [TRAIN Loss: 0.01149]\n",
      "[Epoch 126/150] [TRAIN Loss: 0.01149]\n",
      "[Epoch 127/150] [TRAIN Loss: 0.01148]\n",
      "[Epoch 128/150] [TRAIN Loss: 0.01147]\n",
      "[Epoch 129/150] [TRAIN Loss: 0.01147]\n",
      "[Epoch 130/150] [TRAIN Loss: 0.01145]\n",
      "\n",
      "EVAL [CLS loss: 0.0017]  [PROX loss: 0.0553]  [CYC Loss: 0.0461]  [ADV loss: 0.3702]  [EVAL loss: 0.0123] \n",
      "EVAL [COUT: 0.9469]  [Validity: 99.90 %]  [Proximity: 0.1470]\n",
      "\n",
      "[Epoch 131/150] [TRAIN Loss: 0.01145]\n",
      "[Epoch 132/150] [TRAIN Loss: 0.01144]\n",
      "[Epoch 133/150] [TRAIN Loss: 0.01143]\n",
      "[Epoch 134/150] [TRAIN Loss: 0.01144]\n",
      "[Epoch 135/150] [TRAIN Loss: 0.01142]\n",
      "[Epoch 136/150] [TRAIN Loss: 0.01141]\n",
      "[Epoch 137/150] [TRAIN Loss: 0.01141]\n",
      "[Epoch 138/150] [TRAIN Loss: 0.01140]\n",
      "[Epoch 139/150] [TRAIN Loss: 0.01139]\n",
      "[Epoch 140/150] [TRAIN Loss: 0.01138]\n",
      "\n",
      "EVAL [CLS loss: 0.0017]  [PROX loss: 0.0552]  [CYC Loss: 0.0455]  [ADV loss: 0.3696]  [EVAL loss: 0.0122] \n",
      "EVAL [COUT: 0.9470]  [Validity: 99.90 %]  [Proximity: 0.1463]\n",
      "\n",
      "[Epoch 141/150] [TRAIN Loss: 0.01138]\n",
      "[Epoch 142/150] [TRAIN Loss: 0.01137]\n",
      "[Epoch 143/150] [TRAIN Loss: 0.01136]\n",
      "[Epoch 144/150] [TRAIN Loss: 0.01135]\n",
      "[Epoch 145/150] [TRAIN Loss: 0.01134]\n",
      "[Epoch 146/150] [TRAIN Loss: 0.01134]\n",
      "[Epoch 147/150] [TRAIN Loss: 0.01132]\n",
      "[Epoch 148/150] [TRAIN Loss: 0.01132]\n",
      "[Epoch 149/150] [TRAIN Loss: 0.01131]\n",
      "[Epoch 150/150] [TRAIN Loss: 0.01130]\n",
      "\n",
      "EVAL [CLS loss: 0.0018]  [PROX loss: 0.0551]  [CYC Loss: 0.0448]  [ADV loss: 0.3693]  [EVAL loss: 0.0121] \n",
      "EVAL [COUT: 0.9471]  [Validity: 99.90 %]  [Proximity: 0.1455]\n",
      "\n",
      "\n",
      "Evaluation Starts...\n",
      "\n",
      "\n",
      "EVAL [CLS loss: 0.0018]  [PROX loss: 0.0551]  [CYC Loss: 0.0448]  [ADV loss: 0.3693]  [EVAL loss: 0.0121] \n",
      "EVAL [COUT: 0.9471]  [Validity: 99.90 %]  [Proximity: 0.1455]\n",
      "\n"
     ]
    }
   ],
   "source": [
    "c3lt.train.train_c3lt(args, [dataloaders, dataloaders_test])"
   ]
  },
  {
   "cell_type": "markdown",
   "metadata": {},
   "source": [
    "# Robustness evaluation"
   ]
  },
  {
   "cell_type": "code",
   "execution_count": 6,
   "metadata": {},
   "outputs": [],
   "source": [
    "from src.cf_methods.c3lt import C3LTModel"
   ]
  },
  {
   "cell_type": "code",
   "execution_count": 7,
   "metadata": {},
   "outputs": [],
   "source": [
    "args.output = r'/data/leuven/365/vsc36567/CF-Robustness-Benchmark/cf_output/mnist/c3lt_binary/results_1_7_binary_dcgan'"
   ]
  },
  {
   "cell_type": "code",
   "execution_count": 8,
   "metadata": {},
   "outputs": [
    {
     "name": "stdout",
     "output_type": "stream",
     "text": [
      "Classifier loaded!\n",
      "Generator loaded!\n",
      "Discriminator loaded!\n",
      "Encoder loaded!\n"
     ]
    }
   ],
   "source": [
    "expl_model = C3LTModel(args, task='binary')\n",
    "expl_model.setup_model(mapper_weights_path=osp.join(args.output, 'snaps', 'map_0_to_1_150.pt'))\n",
    "baseline_classifier = expl_model.classifier"
   ]
  },
  {
   "cell_type": "code",
   "execution_count": 9,
   "metadata": {},
   "outputs": [],
   "source": [
    "factuals, labels = extract_factual_instances(test_loader, [args.cls_1])\n",
    "factuals, labels = filter_valid_factuals(factuals, labels, baseline_classifier, device)"
   ]
  },
  {
   "cell_type": "markdown",
   "metadata": {},
   "source": [
    "## Local Instability"
   ]
  },
  {
   "cell_type": "code",
   "execution_count": 10,
   "metadata": {},
   "outputs": [],
   "source": [
    "from src.evaluation.local_instability import calculate_ssim, calculate_sparsity\n",
    "from src.utils import plot_perturbed_factuals_and_cf\n",
    "from functools import reduce"
   ]
  },
  {
   "cell_type": "code",
   "execution_count": 11,
   "metadata": {},
   "outputs": [],
   "source": [
    "save_dir = osp.join(repo_path, 'cf_output/mnist/c3lt_binary')\n",
    "n = 100\n",
    "target_class = 7\n",
    "target_class_ind = 1\n",
    "noise_levels = [0.001, 0.0025, 0.005, 0.0075, 0.01]"
   ]
  },
  {
   "cell_type": "code",
   "execution_count": 12,
   "metadata": {},
   "outputs": [
    {
     "name": "stdout",
     "output_type": "stream",
     "text": [
      "Number of valid perturbed factuals for the added noise level 0.001:  1132\n",
      "Number of valid perturbed factuals for the added noise level 0.0025:  1132\n",
      "Number of valid perturbed factuals for the added noise level 0.005:  1132\n",
      "Number of valid perturbed factuals for the added noise level 0.0075:  1132\n",
      "Number of valid perturbed factuals for the added noise level 0.01:  1132\n"
     ]
    }
   ],
   "source": [
    "factuals_pert = {}    \n",
    "indices_pert = {}\n",
    "\n",
    "for noise_level in noise_levels:\n",
    "    factuals_pert[noise_level] = perturb_sample(factuals, n_samples=1, noise_magnitude=noise_level)\n",
    "    pert_sample = torch.Tensor(factuals_pert[noise_level])\n",
    "\n",
    "    # Check whether perturbed instances lead to the same class prediction\n",
    "    predictions = torch.argmax(baseline_classifier(pert_sample.to(device)), axis=1).detach().cpu()\n",
    "    indices = np.where(predictions == labels)[0]\n",
    "    print(f'Number of valid perturbed factuals for the added noise level {noise_level}: ', indices.shape[0])\n",
    "    pert_sample = pert_sample[indices] \n",
    "    indices_pert[noise_level] = indices"
   ]
  },
  {
   "cell_type": "code",
   "execution_count": 13,
   "metadata": {},
   "outputs": [],
   "source": [
    "final_indices = reduce(np.intersect1d, list(indices_pert.values()))[:n]\n",
    "factuals = factuals[final_indices] \n",
    "labels = labels[final_indices]\n",
    "factuals_pert = {k : v[final_indices] for k, v in factuals_pert.items()}"
   ]
  },
  {
   "cell_type": "markdown",
   "metadata": {},
   "source": [
    "Generating counterfactrual explanations and evaluate their  validity  "
   ]
  },
  {
   "cell_type": "code",
   "execution_count": 14,
   "metadata": {},
   "outputs": [],
   "source": [
    "factuals = factuals.to(device)\n",
    "cfes = expl_model.get_counterfactuals(factuals, labels)"
   ]
  },
  {
   "cell_type": "code",
   "execution_count": 15,
   "metadata": {},
   "outputs": [
    {
     "name": "stdout",
     "output_type": "stream",
     "text": [
      "Validity of the generated explanations: 1.0\n"
     ]
    }
   ],
   "source": [
    "validity = np.where(torch.argmax(baseline_classifier(cfes), axis=1).detach().cpu() == target_class_ind)[0]\n",
    "validity = validity.shape[0] / cfes.shape[0]\n",
    "print('Validity of the generated explanations:', validity)"
   ]
  },
  {
   "cell_type": "code",
   "execution_count": 16,
   "metadata": {},
   "outputs": [],
   "source": [
    "cfes_pert = {}\n",
    "\n",
    "for noise_level in noise_levels:\n",
    "    pert_sample = torch.Tensor(factuals_pert[noise_level]).to(device)\n",
    "    cfes_pert[noise_level] = expl_model.get_counterfactuals(pert_sample, labels) "
   ]
  },
  {
   "cell_type": "code",
   "execution_count": 17,
   "metadata": {},
   "outputs": [
    {
     "name": "stdout",
     "output_type": "stream",
     "text": [
      "Validity for the added noise level 0.001:  1.0\n",
      "Validity for the added noise level 0.0025:  1.0\n",
      "Validity for the added noise level 0.005:  1.0\n",
      "Validity for the added noise level 0.0075:  1.0\n",
      "Validity for the added noise level 0.01:  1.0\n"
     ]
    }
   ],
   "source": [
    "validity_list = []\n",
    "for noise_level in noise_levels:\n",
    "    predictions = torch.argmax(baseline_classifier(torch.Tensor(cfes_pert[noise_level])), axis=1).detach().cpu()\n",
    "    indices = np.where(predictions == target_class_ind)[0]\n",
    "    validity = indices.shape[0] / predictions.shape[0]\n",
    "    validity_list.append(validity)\n",
    "    print(f'Validity for the added noise level {noise_level}: ',  validity)\n",
    "\n",
    "with open(osp.join(save_dir, f'mnist_{target_class}_validity.pkl'), 'wb') as f:\n",
    "    pickle.dump(validity_list, f)"
   ]
  },
  {
   "cell_type": "code",
   "execution_count": 19,
   "metadata": {},
   "outputs": [
    {
     "data": {
      "image/png": "[encoded data removed]",
      "text/plain": [
       "<Figure size 1000x400 with 12 Axes>"
      ]
     },
     "metadata": {},
     "output_type": "display_data"
    }
   ],
   "source": [
    "ind = 1\n",
    "factuals_pert_list = [factuals_pert[noise_level][ind] for noise_level in noise_levels]\n",
    "cfes_pert_list = [cfes_pert[noise_level][ind].detach().cpu() for noise_level in noise_levels]\n",
    "plot_perturbed_factuals_and_cf(factuals[ind].cpu(), factuals_pert_list, \n",
    "                               cfes[ind].cpu(), cfes_pert_list,\n",
    "                               noise_levels)"
   ]
  },
  {
   "cell_type": "code",
   "execution_count": 20,
   "metadata": {},
   "outputs": [],
   "source": [
    "instability_l1_list = []\n",
    "ssim_list = []\n",
    "\n",
    "for noise_level, cfe_pert_list in cfes_pert.items():\n",
    "    # print('noise level:', noise_level)\n",
    "    l1_temp = []\n",
    "    ssim_temp = []\n",
    "    for i in range(len(cfes)):\n",
    "        cf = cfes[i].detach().cpu()\n",
    "        cf_pert = cfe_pert_list[i].detach().cpu()\n",
    "\n",
    "        if len(cf) == 0:\n",
    "            continue\n",
    "        if len(cf_pert) == 0:\n",
    "            continue\n",
    "\n",
    "        cf_tensor = torch.Tensor(cf)\n",
    "        cf = cf_tensor.permute(1, 2, 0).flatten()\n",
    "\n",
    "        cf_pert_tensor = torch.Tensor(cf_pert)\n",
    "        cf_perturbed = cf_pert_tensor.permute(1, 2, 0).flatten()        \n",
    "\n",
    "        l1_distance =  calculate_sparsity(cf, cf_perturbed).item()\n",
    "        l1_temp.append(l1_distance)\n",
    "\n",
    "        ssim = calculate_ssim(cf_tensor.unsqueeze(0), cf_pert_tensor.unsqueeze(0)).item()\n",
    "        ssim_temp.append(ssim)\n",
    "\n",
    "    instability_l1_list.append(l1_temp)\n",
    "    ssim_list.append(ssim_temp)\n",
    "        \n",
    "\n",
    "with open(osp.join(save_dir, f'mnist_{target_class}_li_l1.pkl'), 'wb') as f:\n",
    "    pickle.dump(instability_l1_list, f)\n",
    "\n",
    "with open(osp.join(save_dir, f'mnist_{target_class}_ssim.pkl'), 'wb') as f:\n",
    "    pickle.dump(ssim_list, f)"
   ]
  },
  {
   "cell_type": "code",
   "execution_count": 21,
   "metadata": {},
   "outputs": [
    {
     "data": {
      "image/png": "[encoded data removed]",
      "text/plain": [
       "<Figure size 800x550 with 1 Axes>"
      ]
     },
     "metadata": {},
     "output_type": "display_data"
    }
   ],
   "source": [
    "plt.style.use(\"seaborn-v0_8-bright\")\n",
    "\n",
    "\n",
    "plot_boxplot(data=instability_l1_list, mean_values=np.round(np.mean(instability_l1_list, axis=1), 2),\n",
    "             tick_labels=[f'eps={noise_level}' for noise_level in noise_levels],\n",
    "             y_label='Local Instability', colors=['lightyellow'], title='L1 distance between CFEs of similar inputs')"
   ]
  },
  {
   "cell_type": "code",
   "execution_count": 22,
   "metadata": {},
   "outputs": [
    {
     "data": {
      "image/png": "[encoded data removed]",
      "text/plain": [
       "<Figure size 800x400 with 1 Axes>"
      ]
     },
     "metadata": {},
     "output_type": "display_data"
    }
   ],
   "source": [
    "plt.rcParams['figure.figsize'] = [8, 4]\n",
    "\n",
    "plot_boxplot(data=ssim_list, mean_values=np.round(np.mean(ssim_list, axis=1), 2),\n",
    "             tick_labels=[f'eps={noise_level}' for noise_level in noise_levels],\n",
    "             y_label='Local Instability', colors=['lightgreen'], title='SSIM between CFEs of similar inputs')"
   ]
  },
  {
   "cell_type": "markdown",
   "metadata": {},
   "source": [
    "## Local Lipschitz Continuity"
   ]
  },
  {
   "cell_type": "code",
   "execution_count": 27,
   "metadata": {},
   "outputs": [
    {
     "name": "stdout",
     "output_type": "stream",
     "text": [
      "Are the lengths of initial points (factuals) and CFEs generated for them equal : True\n"
     ]
    }
   ],
   "source": [
    "original_points = factuals # factuals_tensor[:n]\n",
    "original_cfes = cfes\n",
    "print(\"Are the lengths of initial points (factuals) and CFEs generated for them equal :\", len(original_cfes) == original_points.shape[0])\n"
   ]
  },
  {
   "cell_type": "code",
   "execution_count": 28,
   "metadata": {},
   "outputs": [
    {
     "data": {
      "text/plain": [
       "(device(type='cpu'), device(type='cpu'), device(type='cuda', index=0))"
      ]
     },
     "execution_count": 28,
     "metadata": {},
     "output_type": "execute_result"
    }
   ],
   "source": [
    "neighbor_cfes.device, original_cfe.device, original_points.device"
   ]
  },
  {
   "cell_type": "code",
   "execution_count": 32,
   "metadata": {},
   "outputs": [
    {
     "name": "stderr",
     "output_type": "stream",
     "text": [
      "30it [00:00, 13351.99it/s]\n",
      "30it [00:00, 15266.82it/s]\n",
      "30it [00:00, 15405.13it/s]\n",
      "30it [00:00, 15675.73it/s]\n",
      "30it [00:00, 15501.92it/s]\n",
      "30it [00:00, 15378.77it/s]\n",
      "30it [00:00, 13678.57it/s]\n",
      "30it [00:00, 15367.50it/s]\n",
      "30it [00:00, 15437.26it/s]\n",
      "30it [00:00, 15458.12it/s]\n",
      "30it [00:00, 13416.05it/s]\n",
      "30it [00:00, 15551.74it/s]\n",
      "30it [00:00, 15405.13it/s]\n",
      "30it [00:00, 14523.21it/s]\n",
      "30it [00:00, 14034.03it/s]\n",
      "30it [00:00, 15361.88it/s]\n",
      "30it [00:00, 13427.50it/s]\n",
      "30it [00:00, 15889.52it/s]\n",
      "30it [00:00, 15544.05it/s]\n",
      "30it [00:00, 15335.66it/s]\n",
      "30it [00:00, 14985.01it/s]\n",
      "30it [00:00, 15799.74it/s]\n",
      "30it [00:00, 15444.84it/s]\n",
      "30it [00:00, 14024.65it/s]\n",
      "30it [00:00, 15526.79it/s]\n",
      "30it [00:00, 15333.79it/s]\n",
      "30it [00:00, 15469.53it/s]\n",
      "30it [00:00, 15638.72it/s]\n",
      "30it [00:00, 15309.54it/s]\n",
      "30it [00:00, 15490.47it/s]\n",
      "30it [00:00, 15339.40it/s]\n",
      "30it [00:00, 15580.62it/s]\n",
      "30it [00:00, 15069.36it/s]\n",
      "30it [00:00, 14293.89it/s]\n",
      "30it [00:00, 13361.91it/s]\n",
      "30it [00:00, 14551.77it/s]\n",
      "30it [00:00, 14019.96it/s]\n",
      "30it [00:00, 15187.58it/s]\n",
      "30it [00:00, 15264.97it/s]\n",
      "30it [00:00, 15526.79it/s]\n",
      "30it [00:00, 15272.38it/s]\n",
      "30it [00:00, 15038.74it/s]\n",
      "30it [00:00, 15473.33it/s]\n",
      "30it [00:00, 15433.47it/s]\n",
      "30it [00:00, 15405.13it/s]\n",
      "30it [00:00, 15448.63it/s]\n",
      "30it [00:00, 15152.83it/s]\n",
      "30it [00:00, 13976.35it/s]\n",
      "30it [00:00, 14378.83it/s]\n",
      "30it [00:00, 14473.10it/s]\n",
      "50it [00:07,  6.47it/s]\n"
     ]
    }
   ],
   "source": [
    "from tqdm import tqdm\n",
    "\n",
    "\n",
    "i = 0\n",
    "lip_estimates = []\n",
    "noise_magnitude = 0.001\n",
    "\n",
    "original_points = original_points.detach().cpu()\n",
    "original_cfes = original_cfes.detach().cpu()\n",
    "for original_point, original_cfe in tqdm(zip(original_points[:50], original_cfes[:50])):\n",
    "\n",
    "    neighbor_points = perturb_sample(original_point.unsqueeze(0), n_samples=30, noise_magnitude=noise_magnitude) \n",
    "    neighbor_points = torch.Tensor(neighbor_points).to(device)  \n",
    "    neighbor_cfes = expl_model.get_counterfactuals(neighbor_points, labels).detach().cpu() \n",
    "    neighbor_points = neighbor_points.detach().cpu()\n",
    "\n",
    "    lip_estimate = 0\n",
    "    for m, p in tqdm(zip(neighbor_cfes, neighbor_points)):\n",
    "        num = np.linalg.norm((original_cfe - m).flatten(), ord=2) \n",
    "\n",
    "        denom = np.linalg.norm((original_point - p).flatten(), ord=2)\n",
    "        lip = num / denom\n",
    "        lip_estimate = max(lip, lip_estimate)\n",
    " \n",
    "    lip_estimates.append(lip_estimate.item())\n",
    "    i += 1"
   ]
  },
  {
   "cell_type": "code",
   "execution_count": 33,
   "metadata": {},
   "outputs": [],
   "source": [
    "with open(osp.join(save_dir, f'mnist_{target_class}_lle.pkl'), 'wb') as f:\n",
    "        pickle.dump(lip_estimates, f)"
   ]
  },
  {
   "cell_type": "code",
   "execution_count": 34,
   "metadata": {},
   "outputs": [
    {
     "data": {
      "image/png": "[encoded data removed]",
      "text/plain": [
       "<Figure size 600x400 with 1 Axes>"
      ]
     },
     "metadata": {},
     "output_type": "display_data"
    }
   ],
   "source": [
    "plt.rcParams['figure.figsize'] = [6, 4]\n",
    "plot_boxplot(data=lip_estimates, mean_values=[np.round(np.mean(lip_estimates), 5)],\n",
    "             tick_labels=[''],\n",
    "             y_label='Local Lipschitz Continuity', colors=['lightpink'], title='')"
   ]
  },
  {
   "cell_type": "markdown",
   "metadata": {},
   "source": [
    "## Invalidation Rate"
   ]
  },
  {
   "cell_type": "code",
   "execution_count": 24,
   "metadata": {},
   "outputs": [
    {
     "name": "stdout",
     "output_type": "stream",
     "text": [
      "Accuracy for the test dataset: 99.632%\n",
      "Accuracy for the test dataset: 99.173%\n",
      "Accuracy for the test dataset: 99.311%\n",
      "Accuracy for the test dataset: 99.403%\n",
      "Accuracy for the test dataset: 99.311%\n",
      "Accuracy for the test dataset: 99.540%\n",
      "Accuracy for the test dataset: 99.311%\n",
      "Accuracy for the test dataset: 99.494%\n",
      "Accuracy for the test dataset: 99.586%\n",
      "Accuracy for the test dataset: 99.449%\n"
     ]
    }
   ],
   "source": [
    "classifiers_weights_dir = osp.join(repo_path, r'notebooks/experiments/mnist_classification/binary/checkpoints/mc_1_7')\n",
    "\n",
    "\n",
    "classifiers_list = []\n",
    "for clf_weights in os.listdir(classifiers_weights_dir):\n",
    "    cnn_perturbed = SimpleCNNtorch(**args.classifier_args)\n",
    "    load_model_weights(model=cnn_perturbed, weights_path=osp.join(classifiers_weights_dir, clf_weights), lightning_used=True)\n",
    "    classifiers_list.append(cnn_perturbed)\n",
    "    evaluate_classification_model(cnn_perturbed, dataloader=test_loader, num_classes=config.data.num_classes)"
   ]
  },
  {
   "cell_type": "code",
   "execution_count": 25,
   "metadata": {},
   "outputs": [
    {
     "name": "stdout",
     "output_type": "stream",
     "text": [
      "Model 0: IR=0.0, validity=1.0\n",
      "\n",
      "Model 1: IR=0.0, validity=1.0\n",
      "\n",
      "Model 2: IR=0.0, validity=1.0\n",
      "\n",
      "Model 3: IR=0.0, validity=1.0\n",
      "\n",
      "Model 4: IR=0.0, validity=1.0\n",
      "\n",
      "Model 5: IR=0.0, validity=1.0\n",
      "\n",
      "Model 6: IR=0.0, validity=1.0\n",
      "\n",
      "Model 7: IR=0.0, validity=1.0\n",
      "\n",
      "Model 8: IR=0.0, validity=1.0\n",
      "\n",
      "Model 9: IR=0.0, validity=1.0\n",
      "\n",
      "Average IR : 0.000 +- 0.000\n",
      "Average VaR : 1.000 +- 0.000\n"
     ]
    }
   ],
   "source": [
    "validity_list = []\n",
    "invalidation_rate_list = []\n",
    "\n",
    "for i, classifier in enumerate(classifiers_list):\n",
    "    validity = 0\n",
    "    invalidation_rate = 0\n",
    "    total_found_cfs = 0\n",
    "    \n",
    "    classifier.eval()\n",
    "    with torch.no_grad():\n",
    "        classifier = classifier.to(device)\n",
    "\n",
    "        baseline_pred = torch.argmax(baseline_classifier(cfes), axis=1)\n",
    "        alternative_pred = torch.argmax(classifier(cfes), axis=1)\n",
    "    \n",
    "    invalidation_rate = np.where(baseline_pred.detach().cpu() != alternative_pred.detach().cpu())[0].shape[0] / baseline_pred.shape[0]\n",
    "    validity = np.where(alternative_pred.detach().cpu() == target_class_ind)[0].shape[0] / alternative_pred.shape[0]\n",
    "\n",
    "    # invalidation_rate /= total_found_cfs\n",
    "    invalidation_rate_list.append(invalidation_rate)\n",
    "    validity_list.append(validity)\n",
    "    print(f'Model {i}: IR={invalidation_rate}, validity={validity}\\n')\n",
    "\n",
    "print('Average IR : {:.3f} +- {:.3f}'.format(np.mean(invalidation_rate_list), np.std(invalidation_rate_list)))\n",
    "print('Average VaR : {:.3f} +- {:.3f}'.format(np.mean(validity_list), np.std(validity_list)))"
   ]
  },
  {
   "cell_type": "markdown",
   "metadata": {},
   "source": [
    "## Relaxed Stability\n"
   ]
  },
  {
   "cell_type": "code",
   "execution_count": 26,
   "metadata": {},
   "outputs": [
    {
     "name": "stdout",
     "output_type": "stream",
     "text": [
      "Stability of the model 0: 1.0 +- 0.0\n",
      "Stability of the model 1: 1.0 +- 0.0\n",
      "Stability of the model 2: 1.0 +- 0.0\n",
      "Stability of the model 3: 1.0 +- 0.0\n",
      "Stability of the model 4: 1.0 +- 0.0\n",
      "Stability of the model 5: 1.0 +- 0.0\n",
      "Stability of the model 6: 1.0 +- 0.0\n",
      "Stability of the model 7: 1.0 +- 0.0\n",
      "Stability of the model 8: 1.0 +- 0.0\n",
      "Stability of the model 9: 1.0 +- 0.0\n"
     ]
    }
   ],
   "source": [
    "k = 1000\n",
    "sigma = 0.001\n",
    "device = 'cuda' if torch.cuda.is_available() else 'cpu'\n",
    "\n",
    "average_stability_list = []\n",
    "for i, classifier in enumerate(classifiers_list):\n",
    "    stability_list = []\n",
    "    for cfe in cfes:\n",
    "\n",
    "        cfe = torch.Tensor(cfe).unsqueeze(0).detach().cpu()\n",
    "        cfe_sampled = torch.Tensor(perturb_sample(cfe, n_samples=k, noise_magnitude=sigma))\n",
    "\n",
    "        with torch.no_grad():\n",
    "            cf_logits = classifier(cfe.to(device))\n",
    "            cf_probabilities = F.softmax(cf_logits, dim=-1)[:, target_class_ind]\n",
    "\n",
    "            cf_sampled_logits = classifier(cfe_sampled.to(device))\n",
    "            cf_sampled_probabilities = F.softmax(cf_sampled_logits, dim=-1)[:, target_class_ind]\n",
    "        \n",
    "        model_variance = abs(cf_probabilities - cf_sampled_probabilities)\n",
    "\n",
    "        stability = (cf_sampled_probabilities - model_variance).mean()\n",
    "        stability_list.append(stability.item())\n",
    "\n",
    "    avg_i_stability = np.mean(stability_list)\n",
    "    print(f'Stability of the model {i}: {avg_i_stability.round(3).item()} +- {np.std(stability_list).round(2).item()}')\n",
    "    average_stability_list.append(avg_i_stability) "
   ]
  },
  {
   "cell_type": "code",
   "execution_count": 27,
   "metadata": {},
   "outputs": [
    {
     "name": "stdout",
     "output_type": "stream",
     "text": [
      "Average stability: 0.9999 +- 0.0001\n"
     ]
    }
   ],
   "source": [
    "print(f'Average stability: {np.mean(average_stability_list).round(4)} +- {np.std(average_stability_list).round(4)}')"
   ]
  },
  {
   "cell_type": "code",
   "execution_count": 29,
   "metadata": {},
   "outputs": [],
   "source": [
    "with open(osp.join(save_dir, 'mnist_7_ir_var_rs.pkl'), 'wb') as f:\n",
    "    pickle.dump({'ir': (np.mean(invalidation_rate_list), np.std(invalidation_rate_list)),\n",
    "                'var': (np.mean(validity_list), np.std(validity_list)),\n",
    "                'rs': (np.mean(average_stability_list), np.std(average_stability_list))\n",
    "                }, f)"
   ]
  },
  {
   "cell_type": "markdown",
   "metadata": {},
   "source": [
    "## LOF"
   ]
  },
  {
   "cell_type": "code",
   "execution_count": 18,
   "metadata": {},
   "outputs": [],
   "source": [
    "from src.evaluation.lof import estimate_anom_cfe_in_target_class"
   ]
  },
  {
   "cell_type": "code",
   "execution_count": 20,
   "metadata": {},
   "outputs": [
    {
     "name": "stdout",
     "output_type": "stream",
     "text": [
      "(array([-1,  1]), array([ 2, 98]))\n",
      "(array([-1,  1]), array([ 3, 97]))\n",
      "(array([-1,  1]), array([ 3, 97]))\n",
      "(array([-1,  1]), array([ 3, 97]))\n",
      "(array([-1,  1]), array([ 3, 97]))\n",
      "(array([-1,  1]), array([ 4, 96]))\n",
      "(array([-1,  1]), array([ 3, 97]))\n",
      "(array([-1,  1]), array([ 4, 96]))\n"
     ]
    }
   ],
   "source": [
    "for n_neighbours in [5, 7, 9, 11, 13, 15, 17, 19]:\n",
    "    anomaly_scores, anomaly_classes = estimate_anom_cfe_in_target_class(n_neighbours, 1, -1.2, \n",
    "                                                                        test_loader, cfes)\n",
    "    print(np.unique(anomaly_classes, return_counts=True))                                                                 "
   ]
  },
  {
   "cell_type": "code",
   "execution_count": null,
   "metadata": {},
   "outputs": [],
   "source": [
    "cfes_array = cfes.detach().cpu().numpy()"
   ]
  },
  {
   "cell_type": "code",
   "execution_count": 20,
   "metadata": {},
   "outputs": [
    {
     "name": "stdout",
     "output_type": "stream",
     "text": [
      "Average negative LOF (the lower values the more anomaluous): -1.048 +- 0.050\n"
     ]
    }
   ],
   "source": [
    "anomaly_scores, anomaly_classes = estimate_anom_cfe_in_target_class(5, [1], -1.1, test_loader, cfes_array)\n",
    "print('Average negative LOF (the lower values the more anomaluous): {:.3f} +- {:.3f}'.format(np.mean(anomaly_scores), np.std(anomaly_scores)))"
   ]
  },
  {
   "cell_type": "code",
   "execution_count": 21,
   "metadata": {},
   "outputs": [
    {
     "name": "stdout",
     "output_type": "stream",
     "text": [
      "Average negative LOF (the lower values the more anomaluous): -1.058 +- 0.135\n"
     ]
    }
   ],
   "source": [
    "anomaly_scores, anomaly_classes = estimate_anom_cfe_in_target_class(5, [0, 1], -1.1, test_loader, cfes_array)\n",
    "print('Average negative LOF (the lower values the more anomaluous): {:.3f} +- {:.3f}'.format(np.mean(anomaly_scores), np.std(anomaly_scores)))"
   ]
  },
  {
   "cell_type": "code",
   "execution_count": null,
   "metadata": {},
   "outputs": [],
   "source": []
  }
 ],
 "metadata": {
  "kernelspec": {
   "display_name": "venv",
   "language": "python",
   "name": "python3"
  },
  "language_info": {
   "codemirror_mode": {
    "name": "ipython",
    "version": 3
   },
   "file_extension": ".py",
   "mimetype": "text/x-python",
   "name": "python",
   "nbconvert_exporter": "python",
   "pygments_lexer": "ipython3",
   "version": "3.12.4"
  }
 },
 "nbformat": 4,
 "nbformat_minor": 2
}
