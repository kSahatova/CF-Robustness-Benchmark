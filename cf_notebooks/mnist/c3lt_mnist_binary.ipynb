{
 "cells": [
  {
   "cell_type": "code",
   "execution_count": 1,
   "metadata": {},
   "outputs": [
    {
     "name": "stderr",
     "output_type": "stream",
     "text": [
      "2025-05-13 09:23:21.020443: E external/local_xla/xla/stream_executor/cuda/cuda_fft.cc:467] Unable to register cuFFT factory: Attempting to register factory for plugin cuFFT when one has already been registered\n",
      "WARNING: All log messages before absl::InitializeLog() is called are written to STDERR\n",
      "E0000 00:00:1747121001.038888 3836913 cuda_dnn.cc:8579] Unable to register cuDNN factory: Attempting to register factory for plugin cuDNN when one has already been registered\n",
      "E0000 00:00:1747121001.044582 3836913 cuda_blas.cc:1407] Unable to register cuBLAS factory: Attempting to register factory for plugin cuBLAS when one has already been registered\n",
      "W0000 00:00:1747121001.059635 3836913 computation_placer.cc:177] computation placer already registered. Please check linkage and avoid linking the same target more than once.\n",
      "W0000 00:00:1747121001.059656 3836913 computation_placer.cc:177] computation placer already registered. Please check linkage and avoid linking the same target more than once.\n",
      "W0000 00:00:1747121001.059658 3836913 computation_placer.cc:177] computation placer already registered. Please check linkage and avoid linking the same target more than once.\n",
      "W0000 00:00:1747121001.059660 3836913 computation_placer.cc:177] computation placer already registered. Please check linkage and avoid linking the same target more than once.\n",
      "2025-05-13 09:23:21.064428: I tensorflow/core/platform/cpu_feature_guard.cc:210] This TensorFlow binary is optimized to use available CPU instructions in performance-critical operations.\n",
      "To enable the following instructions: AVX2 AVX512F FMA, in other operations, rebuild TensorFlow with the appropriate compiler flags.\n",
      "/data/leuven/365/vsc36567/miniconda3/lib/python3.12/site-packages/albumentations/__init__.py:28: UserWarning: A new version of Albumentations is available: '2.0.6' (you have '2.0.4'). Upgrade using: pip install -U albumentations. To disable automatic update checks, set the environment variable NO_ALBUMENTATIONS_UPDATE to 1.\n",
      "  check_for_updates()\n"
     ]
    }
   ],
   "source": [
    "import os\n",
    "import argparse\n",
    "import numpy as np\n",
    "import os.path as osp\n",
    "from copy import deepcopy\n",
    "from easydict import EasyDict as edict\n",
    "import matplotlib.pyplot as plt\n",
    "\n",
    "import torch\n",
    "import torch.nn as nn\n",
    "from torch.utils.data import DataLoader\n",
    "\n",
    "from src.cf_methods import c3lt \n",
    "from src.datasets import DatasetBuilder\n",
    "\n",
    "from src.models.classifiers import SimpleCNNtorch\n",
    "from src.evaluation.local_instability import perturb_sample\n",
    "from src.utils import extract_factual_instances, filter_valid_factuals\n",
    "from src.utils import seed_everything, get_config, load_model_weights\n",
    "from src.utils import evaluate_classification_model, plot_boxplot"
   ]
  },
  {
   "cell_type": "code",
   "execution_count": 2,
   "metadata": {},
   "outputs": [],
   "source": [
    "seed_everything()"
   ]
  },
  {
   "cell_type": "code",
   "execution_count": 3,
   "metadata": {},
   "outputs": [],
   "source": [
    "import sys\n",
    "sys.argv = ['']"
   ]
  },
  {
   "cell_type": "code",
   "execution_count": 25,
   "metadata": {},
   "outputs": [],
   "source": [
    "config_path = r'/data/leuven/365/vsc36567/CF-Robustness-Benchmark/configs/revise_mnist_binary.yaml'\n",
    "config = get_config(config_path)\n",
    "ds_builder = DatasetBuilder(config)\n",
    "ds_builder.setup()\n",
    "train_loader, val_loader, test_loader = ds_builder.get_dataloaders()"
   ]
  },
  {
   "cell_type": "code",
   "execution_count": 38,
   "metadata": {},
   "outputs": [],
   "source": [
    "# Create an args object to pass all relevant parameters \n",
    "weights_dir = '/data/leuven/365/vsc36567/CF-Robustness-Benchmark/src/cf_methods/c3lt/weights'\n",
    "# '/data/leuven/365/vsc36567/Counterfactual-Robustness-Benchmark/src/recourse_methods/c3lt/weights'\n",
    "clf_dir = '/data/leuven/365/vsc36567/CF-Robustness-Benchmark/notebooks/experiments/mnist_classification/binary/checkpoints'\n",
    "# '/data/leuven/365/vsc36567/Counterfactual-Robustness-Benchmark/src/models/weights'\n",
    "log_path ='/data/leuven/365/vsc36567/CF-Robustness-Benchmark/cf_output/mnist/c3lt_binary'\n",
    "\n",
    "args = c3lt.args.init_parser()\n",
    "args.device = \"cuda\" if torch.cuda.is_available() else \"cpu\"\n",
    "args.log_path = log_path\n",
    "args.gen_path = osp.join(weights_dir, 'generator_mnist.pth')\n",
    "args.disc_path = osp.join(weights_dir, 'discriminator_mnist.pth')\n",
    "args.enc_path = osp.join(weights_dir, 'encoder_mnist.pth')\n",
    "args.cls_path = osp.join(clf_dir, 'mnist_1_7_epoch=00_val_accuracy=0.99.pth')\n",
    "args.dataset_path = '/data/leuven/365/vsc36567/CF-Robustness-Benchmark/data'\n",
    "args.cls_1 = 0  # 0\n",
    "args.cls_2 = 1  # 4\n",
    "args.num_classes = 2\n",
    "args.classifier_args={**config.classifier.args, \n",
    "                    'num_classes': config.data.num_classes,\n",
    "                    'img_size': config.data.img_size\n",
    "}\n",
    "args.ndf=16\n",
    "args.epochs = 150\n",
    "# args.cls_type = 'bce'\n",
    "args.extracted_layers = ['main']\n",
    "args.output = '/data/leuven/365/vsc36567/CF-Robustness-Benchmark/cf_output/mnist/c3lt_binary/results'"
   ]
  },
  {
   "cell_type": "code",
   "execution_count": 31,
   "metadata": {},
   "outputs": [],
   "source": [
    "def dataloader_pair(args, dataset, is_train):\n",
    "    \"\"\"\n",
    "        returns dataloaders for a class pair.\n",
    "\n",
    "    :param args:\n",
    "    :param is_train:\n",
    "    :return:\n",
    "    \"\"\"\n",
    "    dataset_1 = deepcopy(dataset)\n",
    "    dataset_2 = deepcopy(dataset)\n",
    "\n",
    "    # extract samples only of class 1\n",
    "    idx_1 = dataset_1.data.targets == args.cls_1\n",
    "    dataset_1.data.data = dataset_1.data.data[idx_1]\n",
    "    dataset_1.data.targets = dataset_1.data.targets[idx_1]\n",
    "\n",
    "    # extract samples only of class 2\n",
    "    idx_2 = dataset_2.data.targets == args.cls_2\n",
    "    dataset_2.data.data = dataset_2.data.data[idx_2]\n",
    "    dataset_2.data.targets = dataset_2.data.targets[idx_2]\n",
    "\n",
    "    dataloader_1 = DataLoader(dataset_1, batch_size=args.batch_size,\n",
    "                              shuffle=is_train, pin_memory=True, drop_last=False)\n",
    "    dataloader_2 = DataLoader(dataset_2, batch_size=args.batch_size,\n",
    "                              shuffle=is_train, pin_memory=True, drop_last=False)\n",
    "\n",
    "    return  dataloader_1, dataloader_2"
   ]
  },
  {
   "cell_type": "code",
   "execution_count": 32,
   "metadata": {},
   "outputs": [],
   "source": [
    "dataloaders = dataloader_pair(args, ds_builder.train_dataset, is_train=True)\n",
    "dataloaders_test = dataloader_pair(args, ds_builder.test_dataset, is_train=False)"
   ]
  },
  {
   "cell_type": "markdown",
   "metadata": {},
   "source": [
    "# Training"
   ]
  },
  {
   "cell_type": "code",
   "execution_count": 37,
   "metadata": {},
   "outputs": [
    {
     "name": "stdout",
     "output_type": "stream",
     "text": [
      "Encoder loaded!\n"
     ]
    }
   ],
   "source": [
    "from src.cf_methods.c3lt.models import Generator, Discriminator, Encoder, MnistNet\n",
    "\n",
    "encoder = Encoder(latent_dim=args.latent_dim, ndf=16).to(args.device)\n",
    "\n",
    "encoder.load_state_dict(torch.load(args.enc_path, map_location=args.device))\n",
    "encoder.requires_grad = False\n",
    "encoder.eval()\n",
    "print(\"Encoder loaded!\")\n",
    "    "
   ]
  },
  {
   "cell_type": "code",
   "execution_count": 39,
   "metadata": {},
   "outputs": [
    {
     "name": "stdout",
     "output_type": "stream",
     "text": [
      "Generator loaded!\n",
      "Discriminator loaded!\n",
      "Encoder loaded!\n",
      "Classifier loaded!\n",
      "\n",
      "Training Starts...\n",
      "\n",
      "[Epoch 0/150] [TRAIN Loss: 0.25591]\n",
      "\n",
      "EVAL [CLS loss: 0.0005]  [PROX loss: 0.0572]  [CYC Loss: 0.1773]  [ADV loss: 0.8337]  [EVAL loss: 0.0247] \n",
      "EVAL [COUT: 0.9066]  [Validity: 100.00 %]  [Proximity: 0.1868]\n",
      "\n",
      "[Epoch 1/150] [TRAIN Loss: 0.02477]\n",
      "[Epoch 2/150] [TRAIN Loss: 0.02190]\n",
      "[Epoch 3/150] [TRAIN Loss: 0.01982]\n",
      "[Epoch 4/150] [TRAIN Loss: 0.01852]\n",
      "[Epoch 5/150] [TRAIN Loss: 0.01767]\n",
      "[Epoch 6/150] [TRAIN Loss: 0.01703]\n",
      "[Epoch 7/150] [TRAIN Loss: 0.01654]\n",
      "[Epoch 8/150] [TRAIN Loss: 0.01612]\n",
      "[Epoch 9/150] [TRAIN Loss: 0.01575]\n",
      "[Epoch 10/150] [TRAIN Loss: 0.01542]\n",
      "\n",
      "EVAL [CLS loss: 0.0003]  [PROX loss: 0.0501]  [CYC Loss: 0.0804]  [ADV loss: 0.8276]  [EVAL loss: 0.0142] \n",
      "EVAL [COUT: 0.9429]  [Validity: 100.00 %]  [Proximity: 0.1544]\n",
      "\n",
      "[Epoch 11/150] [TRAIN Loss: 0.01512]\n",
      "[Epoch 12/150] [TRAIN Loss: 0.01484]\n",
      "[Epoch 13/150] [TRAIN Loss: 0.01458]\n",
      "[Epoch 14/150] [TRAIN Loss: 0.01434]\n",
      "[Epoch 15/150] [TRAIN Loss: 0.01411]\n",
      "[Epoch 16/150] [TRAIN Loss: 0.01391]\n",
      "[Epoch 17/150] [TRAIN Loss: 0.01371]\n",
      "[Epoch 18/150] [TRAIN Loss: 0.01354]\n",
      "[Epoch 19/150] [TRAIN Loss: 0.01336]\n",
      "[Epoch 20/150] [TRAIN Loss: 0.01319]\n",
      "\n",
      "EVAL [CLS loss: 0.0003]  [PROX loss: 0.0463]  [CYC Loss: 0.0637]  [ADV loss: 0.7976]  [EVAL loss: 0.0121] \n",
      "EVAL [COUT: 0.9486]  [Validity: 100.00 %]  [Proximity: 0.1378]\n",
      "\n",
      "[Epoch 21/150] [TRAIN Loss: 0.01304]\n",
      "[Epoch 22/150] [TRAIN Loss: 0.01290]\n",
      "[Epoch 23/150] [TRAIN Loss: 0.01276]\n",
      "[Epoch 24/150] [TRAIN Loss: 0.01262]\n",
      "[Epoch 25/150] [TRAIN Loss: 0.01252]\n",
      "[Epoch 26/150] [TRAIN Loss: 0.01245]\n",
      "[Epoch 27/150] [TRAIN Loss: 0.01239]\n",
      "[Epoch 28/150] [TRAIN Loss: 0.01232]\n",
      "[Epoch 29/150] [TRAIN Loss: 0.01227]\n",
      "[Epoch 30/150] [TRAIN Loss: 0.01220]\n",
      "\n",
      "EVAL [CLS loss: 0.0003]  [PROX loss: 0.0442]  [CYC Loss: 0.0566]  [ADV loss: 0.8027]  [EVAL loss: 0.0112] \n",
      "EVAL [COUT: 0.9553]  [Validity: 100.00 %]  [Proximity: 0.1298]\n",
      "\n",
      "[Epoch 31/150] [TRAIN Loss: 0.01214]\n",
      "[Epoch 32/150] [TRAIN Loss: 0.01208]\n",
      "[Epoch 33/150] [TRAIN Loss: 0.01203]\n",
      "[Epoch 34/150] [TRAIN Loss: 0.01196]\n",
      "[Epoch 35/150] [TRAIN Loss: 0.01189]\n",
      "[Epoch 36/150] [TRAIN Loss: 0.01183]\n",
      "[Epoch 37/150] [TRAIN Loss: 0.01177]\n",
      "[Epoch 38/150] [TRAIN Loss: 0.01169]\n",
      "[Epoch 39/150] [TRAIN Loss: 0.01162]\n",
      "[Epoch 40/150] [TRAIN Loss: 0.01157]\n",
      "\n",
      "EVAL [CLS loss: 0.0004]  [PROX loss: 0.0421]  [CYC Loss: 0.0523]  [ADV loss: 0.8242]  [EVAL loss: 0.0106] \n",
      "EVAL [COUT: 0.9592]  [Validity: 100.00 %]  [Proximity: 0.1308]\n",
      "\n",
      "[Epoch 41/150] [TRAIN Loss: 0.01150]\n",
      "[Epoch 42/150] [TRAIN Loss: 0.01143]\n",
      "[Epoch 43/150] [TRAIN Loss: 0.01137]\n",
      "[Epoch 44/150] [TRAIN Loss: 0.01131]\n",
      "[Epoch 45/150] [TRAIN Loss: 0.01125]\n",
      "[Epoch 46/150] [TRAIN Loss: 0.01120]\n",
      "[Epoch 47/150] [TRAIN Loss: 0.01114]\n",
      "[Epoch 48/150] [TRAIN Loss: 0.01109]\n",
      "[Epoch 49/150] [TRAIN Loss: 0.01103]\n",
      "[Epoch 50/150] [TRAIN Loss: 0.01099]\n",
      "\n",
      "EVAL [CLS loss: 0.0004]  [PROX loss: 0.0403]  [CYC Loss: 0.0485]  [ADV loss: 0.8274]  [EVAL loss: 0.0101] \n",
      "EVAL [COUT: 0.9603]  [Validity: 100.00 %]  [Proximity: 0.1320]\n",
      "\n",
      "[Epoch 51/150] [TRAIN Loss: 0.01095]\n",
      "[Epoch 52/150] [TRAIN Loss: 0.01093]\n",
      "[Epoch 53/150] [TRAIN Loss: 0.01090]\n",
      "[Epoch 54/150] [TRAIN Loss: 0.01088]\n",
      "[Epoch 55/150] [TRAIN Loss: 0.01085]\n",
      "[Epoch 56/150] [TRAIN Loss: 0.01082]\n",
      "[Epoch 57/150] [TRAIN Loss: 0.01080]\n",
      "[Epoch 58/150] [TRAIN Loss: 0.01077]\n",
      "[Epoch 59/150] [TRAIN Loss: 0.01074]\n",
      "[Epoch 60/150] [TRAIN Loss: 0.01072]\n",
      "\n",
      "EVAL [CLS loss: 0.0005]  [PROX loss: 0.0397]  [CYC Loss: 0.0466]  [ADV loss: 0.8248]  [EVAL loss: 0.0099] \n",
      "EVAL [COUT: 0.9605]  [Validity: 100.00 %]  [Proximity: 0.1318]\n",
      "\n",
      "[Epoch 61/150] [TRAIN Loss: 0.01069]\n",
      "[Epoch 62/150] [TRAIN Loss: 0.01067]\n",
      "[Epoch 63/150] [TRAIN Loss: 0.01064]\n",
      "[Epoch 64/150] [TRAIN Loss: 0.01062]\n",
      "[Epoch 65/150] [TRAIN Loss: 0.01059]\n",
      "[Epoch 66/150] [TRAIN Loss: 0.01056]\n",
      "[Epoch 67/150] [TRAIN Loss: 0.01054]\n",
      "[Epoch 68/150] [TRAIN Loss: 0.01052]\n",
      "[Epoch 69/150] [TRAIN Loss: 0.01049]\n",
      "[Epoch 70/150] [TRAIN Loss: 0.01047]\n",
      "\n",
      "EVAL [CLS loss: 0.0005]  [PROX loss: 0.0392]  [CYC Loss: 0.0446]  [ADV loss: 0.8237]  [EVAL loss: 0.0097] \n",
      "EVAL [COUT: 0.9602]  [Validity: 100.00 %]  [Proximity: 0.1315]\n",
      "\n",
      "[Epoch 71/150] [TRAIN Loss: 0.01045]\n",
      "[Epoch 72/150] [TRAIN Loss: 0.01042]\n",
      "[Epoch 73/150] [TRAIN Loss: 0.01040]\n",
      "[Epoch 74/150] [TRAIN Loss: 0.01037]\n",
      "[Epoch 75/150] [TRAIN Loss: 0.01035]\n",
      "[Epoch 76/150] [TRAIN Loss: 0.01034]\n",
      "[Epoch 77/150] [TRAIN Loss: 0.01033]\n",
      "[Epoch 78/150] [TRAIN Loss: 0.01030]\n",
      "[Epoch 79/150] [TRAIN Loss: 0.01029]\n",
      "[Epoch 80/150] [TRAIN Loss: 0.01028]\n",
      "\n",
      "EVAL [CLS loss: 0.0005]  [PROX loss: 0.0390]  [CYC Loss: 0.0431]  [ADV loss: 0.8221]  [EVAL loss: 0.0096] \n",
      "EVAL [COUT: 0.9601]  [Validity: 100.00 %]  [Proximity: 0.1313]\n",
      "\n",
      "[Epoch 81/150] [TRAIN Loss: 0.01027]\n",
      "[Epoch 82/150] [TRAIN Loss: 0.01026]\n",
      "[Epoch 83/150] [TRAIN Loss: 0.01024]\n",
      "[Epoch 84/150] [TRAIN Loss: 0.01023]\n",
      "[Epoch 85/150] [TRAIN Loss: 0.01023]\n",
      "[Epoch 86/150] [TRAIN Loss: 0.01020]\n",
      "[Epoch 87/150] [TRAIN Loss: 0.01019]\n",
      "[Epoch 88/150] [TRAIN Loss: 0.01018]\n",
      "[Epoch 89/150] [TRAIN Loss: 0.01017]\n",
      "[Epoch 90/150] [TRAIN Loss: 0.01015]\n",
      "\n",
      "EVAL [CLS loss: 0.0005]  [PROX loss: 0.0388]  [CYC Loss: 0.0420]  [ADV loss: 0.8177]  [EVAL loss: 0.0094] \n",
      "EVAL [COUT: 0.9599]  [Validity: 100.00 %]  [Proximity: 0.1311]\n",
      "\n",
      "[Epoch 91/150] [TRAIN Loss: 0.01014]\n",
      "[Epoch 92/150] [TRAIN Loss: 0.01013]\n",
      "[Epoch 93/150] [TRAIN Loss: 0.01012]\n",
      "[Epoch 94/150] [TRAIN Loss: 0.01010]\n",
      "[Epoch 95/150] [TRAIN Loss: 0.01009]\n",
      "[Epoch 96/150] [TRAIN Loss: 0.01007]\n",
      "[Epoch 97/150] [TRAIN Loss: 0.01006]\n",
      "[Epoch 98/150] [TRAIN Loss: 0.01004]\n",
      "[Epoch 99/150] [TRAIN Loss: 0.01003]\n",
      "[Epoch 100/150] [TRAIN Loss: 0.01002]\n",
      "\n",
      "EVAL [CLS loss: 0.0006]  [PROX loss: 0.0387]  [CYC Loss: 0.0408]  [ADV loss: 0.8196]  [EVAL loss: 0.0093] \n",
      "EVAL [COUT: 0.9597]  [Validity: 100.00 %]  [Proximity: 0.1310]\n",
      "\n",
      "[Epoch 101/150] [TRAIN Loss: 0.01001]\n",
      "[Epoch 102/150] [TRAIN Loss: 0.01000]\n",
      "[Epoch 103/150] [TRAIN Loss: 0.00999]\n",
      "[Epoch 104/150] [TRAIN Loss: 0.00998]\n",
      "[Epoch 105/150] [TRAIN Loss: 0.00998]\n",
      "[Epoch 106/150] [TRAIN Loss: 0.00997]\n",
      "[Epoch 107/150] [TRAIN Loss: 0.00996]\n",
      "[Epoch 108/150] [TRAIN Loss: 0.00995]\n",
      "[Epoch 109/150] [TRAIN Loss: 0.00994]\n",
      "[Epoch 110/150] [TRAIN Loss: 0.00995]\n",
      "\n",
      "EVAL [CLS loss: 0.0005]  [PROX loss: 0.0386]  [CYC Loss: 0.0401]  [ADV loss: 0.8165]  [EVAL loss: 0.0092] \n",
      "EVAL [COUT: 0.9598]  [Validity: 100.00 %]  [Proximity: 0.1309]\n",
      "\n",
      "[Epoch 111/150] [TRAIN Loss: 0.00993]\n",
      "[Epoch 112/150] [TRAIN Loss: 0.00992]\n",
      "[Epoch 113/150] [TRAIN Loss: 0.00992]\n",
      "[Epoch 114/150] [TRAIN Loss: 0.00991]\n",
      "[Epoch 115/150] [TRAIN Loss: 0.00990]\n",
      "[Epoch 116/150] [TRAIN Loss: 0.00990]\n",
      "[Epoch 117/150] [TRAIN Loss: 0.00988]\n",
      "[Epoch 118/150] [TRAIN Loss: 0.00988]\n",
      "[Epoch 119/150] [TRAIN Loss: 0.00986]\n",
      "[Epoch 120/150] [TRAIN Loss: 0.00986]\n",
      "\n",
      "EVAL [CLS loss: 0.0005]  [PROX loss: 0.0385]  [CYC Loss: 0.0393]  [ADV loss: 0.8167]  [EVAL loss: 0.0091] \n",
      "EVAL [COUT: 0.9597]  [Validity: 100.00 %]  [Proximity: 0.1309]\n",
      "\n",
      "[Epoch 121/150] [TRAIN Loss: 0.00985]\n",
      "[Epoch 122/150] [TRAIN Loss: 0.00984]\n",
      "[Epoch 123/150] [TRAIN Loss: 0.00983]\n",
      "[Epoch 124/150] [TRAIN Loss: 0.00982]\n",
      "[Epoch 125/150] [TRAIN Loss: 0.00981]\n",
      "[Epoch 126/150] [TRAIN Loss: 0.00981]\n",
      "[Epoch 127/150] [TRAIN Loss: 0.00980]\n",
      "[Epoch 128/150] [TRAIN Loss: 0.00980]\n",
      "[Epoch 129/150] [TRAIN Loss: 0.00980]\n",
      "[Epoch 130/150] [TRAIN Loss: 0.00979]\n",
      "\n",
      "EVAL [CLS loss: 0.0005]  [PROX loss: 0.0385]  [CYC Loss: 0.0388]  [ADV loss: 0.8169]  [EVAL loss: 0.0090] \n",
      "EVAL [COUT: 0.9597]  [Validity: 100.00 %]  [Proximity: 0.1309]\n",
      "\n",
      "[Epoch 131/150] [TRAIN Loss: 0.00979]\n",
      "[Epoch 132/150] [TRAIN Loss: 0.00978]\n",
      "[Epoch 133/150] [TRAIN Loss: 0.00977]\n",
      "[Epoch 134/150] [TRAIN Loss: 0.00977]\n",
      "[Epoch 135/150] [TRAIN Loss: 0.00977]\n",
      "[Epoch 136/150] [TRAIN Loss: 0.00976]\n",
      "[Epoch 137/150] [TRAIN Loss: 0.00976]\n",
      "[Epoch 138/150] [TRAIN Loss: 0.00975]\n",
      "[Epoch 139/150] [TRAIN Loss: 0.00975]\n",
      "[Epoch 140/150] [TRAIN Loss: 0.00975]\n",
      "\n",
      "EVAL [CLS loss: 0.0005]  [PROX loss: 0.0384]  [CYC Loss: 0.0383]  [ADV loss: 0.8159]  [EVAL loss: 0.0090] \n",
      "EVAL [COUT: 0.9596]  [Validity: 100.00 %]  [Proximity: 0.1309]\n",
      "\n",
      "[Epoch 141/150] [TRAIN Loss: 0.00974]\n",
      "[Epoch 142/150] [TRAIN Loss: 0.00973]\n",
      "[Epoch 143/150] [TRAIN Loss: 0.00972]\n",
      "[Epoch 144/150] [TRAIN Loss: 0.00972]\n",
      "[Epoch 145/150] [TRAIN Loss: 0.00972]\n",
      "[Epoch 146/150] [TRAIN Loss: 0.00971]\n",
      "[Epoch 147/150] [TRAIN Loss: 0.00970]\n",
      "[Epoch 148/150] [TRAIN Loss: 0.00969]\n",
      "[Epoch 149/150] [TRAIN Loss: 0.00970]\n",
      "[Epoch 150/150] [TRAIN Loss: 0.00969]\n",
      "\n",
      "EVAL [CLS loss: 0.0005]  [PROX loss: 0.0384]  [CYC Loss: 0.0378]  [ADV loss: 0.8178]  [EVAL loss: 0.0089] \n",
      "EVAL [COUT: 0.9596]  [Validity: 100.00 %]  [Proximity: 0.1308]\n",
      "\n",
      "\n",
      "Evaluation Starts...\n",
      "\n",
      "\n",
      "EVAL [CLS loss: 0.0005]  [PROX loss: 0.0384]  [CYC Loss: 0.0378]  [ADV loss: 0.8178]  [EVAL loss: 0.0089] \n",
      "EVAL [COUT: 0.9596]  [Validity: 100.00 %]  [Proximity: 0.1308]\n",
      "\n"
     ]
    }
   ],
   "source": [
    "c3lt.train.train_c3lt(args, [dataloaders, dataloaders_test])"
   ]
  },
  {
   "cell_type": "markdown",
   "metadata": {},
   "source": [
    "# Inference"
   ]
  },
  {
   "cell_type": "code",
   "execution_count": 9,
   "metadata": {},
   "outputs": [],
   "source": [
    "import pickle\n",
    "from src.evaluation.local_instability import perturb_sample"
   ]
  },
  {
   "cell_type": "code",
   "execution_count": 12,
   "metadata": {},
   "outputs": [
    {
     "data": {
      "text/plain": [
       "<All keys matched successfully>"
      ]
     },
     "execution_count": 12,
     "metadata": {},
     "output_type": "execute_result"
    }
   ],
   "source": [
    "g = c3lt.modules.NLMappingConv(args.latent_dim).to(args.device)\n",
    "mapper_weights_path = '/data/leuven/365/vsc36567/CF-Robustness-Benchmark/cf_output/mnist/c3lt_binary/results/snaps/map_0_to_1_150.pt'\n",
    "# load_model_weights(g, framework='torch', weights_path=mapper_weights_path)\n",
    "checkpoint = torch.load(\n",
    "                    mapper_weights_path, weights_only=False,\n",
    "                    map_location=torch.device(args.device)\n",
    "                )\n",
    "g.load_state_dict(checkpoint)"
   ]
  },
  {
   "cell_type": "code",
   "execution_count": 13,
   "metadata": {},
   "outputs": [
    {
     "name": "stdout",
     "output_type": "stream",
     "text": [
      "Generator loaded!\n",
      "Discriminator loaded!\n"
     ]
    }
   ],
   "source": [
    "gen, discr = c3lt.helper.load_pretrained_gan(args)"
   ]
  },
  {
   "cell_type": "code",
   "execution_count": 14,
   "metadata": {},
   "outputs": [
    {
     "name": "stdout",
     "output_type": "stream",
     "text": [
      "Classifier loaded!\n"
     ]
    }
   ],
   "source": [
    "baseline_classifier = c3lt.helper.load_pretrained_classifier(args)"
   ]
  },
  {
   "cell_type": "code",
   "execution_count": 15,
   "metadata": {},
   "outputs": [
    {
     "name": "stdout",
     "output_type": "stream",
     "text": [
      "Encoder loaded!\n"
     ]
    }
   ],
   "source": [
    "encoder = c3lt.helper.load_pretrained_encoder(args)"
   ]
  },
  {
   "cell_type": "code",
   "execution_count": 16,
   "metadata": {},
   "outputs": [],
   "source": [
    "device = \"cuda\" if torch.cuda.is_available() else \"cpu\""
   ]
  },
  {
   "cell_type": "code",
   "execution_count": 17,
   "metadata": {},
   "outputs": [],
   "source": [
    "cfes = []\n",
    "factuals_list = []\n",
    "labels_list = []\n",
    "\n",
    "factual_class = 0\n",
    "for images, labels in test_loader:\n",
    "    indices = np.where(labels == factual_class)[0]\n",
    "    factuals_list.append(images[indices])\n",
    "    labels_list.append(labels[indices])"
   ]
  },
  {
   "cell_type": "code",
   "execution_count": 18,
   "metadata": {},
   "outputs": [
    {
     "data": {
      "text/plain": [
       "(torch.Size([1135, 1, 28, 28]), torch.Size([1135]))"
      ]
     },
     "execution_count": 18,
     "metadata": {},
     "output_type": "execute_result"
    }
   ],
   "source": [
    "factuals = torch.concat(factuals_list)\n",
    "labels = torch.concat(labels_list)\n",
    "factuals.shape, labels.shape"
   ]
  },
  {
   "cell_type": "code",
   "execution_count": 19,
   "metadata": {},
   "outputs": [
    {
     "data": {
      "text/plain": [
       "(torch.Size([1132, 1, 28, 28]), torch.Size([1132]))"
      ]
     },
     "execution_count": 19,
     "metadata": {},
     "output_type": "execute_result"
    }
   ],
   "source": [
    "predictions = torch.argmax(baseline_classifier(factuals.to(device)), axis=1).detach().cpu()\n",
    "valid_indices = np.where(predictions == labels)[0]\n",
    "factuals = factuals[valid_indices] \n",
    "labels = labels[valid_indices]\n",
    "factuals.shape, labels.shape"
   ]
  },
  {
   "cell_type": "markdown",
   "metadata": {},
   "source": [
    "## Local Instability"
   ]
  },
  {
   "cell_type": "code",
   "execution_count": 20,
   "metadata": {},
   "outputs": [],
   "source": [
    "noise_levels = [0.001, 0.0025, 0.005, 0.0075, 0.01]"
   ]
  },
  {
   "cell_type": "code",
   "execution_count": 21,
   "metadata": {},
   "outputs": [
    {
     "name": "stdout",
     "output_type": "stream",
     "text": [
      "Number of valid perturbed factuals for the added noise level 0.001:  1132\n",
      "Number of valid perturbed factuals for the added noise level 0.0025:  1132\n",
      "Number of valid perturbed factuals for the added noise level 0.005:  1132\n",
      "Number of valid perturbed factuals for the added noise level 0.0075:  1132\n",
      "Number of valid perturbed factuals for the added noise level 0.01:  1132\n"
     ]
    }
   ],
   "source": [
    "from functools import reduce\n",
    "\n",
    "\n",
    "save_dir = r'/data/leuven/365/vsc36567/CF-Robustness-Benchmark/cf_output/mnist/c3lt_binary'\n",
    "\n",
    "n = 100\n",
    "factuals_pert = {}    \n",
    "indices_pert = {}\n",
    "\n",
    "for noise_level in noise_levels:\n",
    "    factuals_pert[noise_level] = perturb_sample(factuals, n_samples=1, noise_magnitude=noise_level)\n",
    "    pert_sample = torch.Tensor(factuals_pert[noise_level])\n",
    "\n",
    "    # Check whether perturbed instances lead to the same class prediction\n",
    "    predictions = torch.argmax(baseline_classifier(pert_sample.to(device)), axis=1).detach().cpu()\n",
    "    indices = np.where(predictions == labels)[0]\n",
    "    print(f'Number of valid perturbed factuals for the added noise level {noise_level}: ', indices.shape[0])\n",
    "    pert_sample = pert_sample[indices] \n",
    "    indices_pert[noise_level] = indices"
   ]
  },
  {
   "cell_type": "code",
   "execution_count": 22,
   "metadata": {},
   "outputs": [],
   "source": [
    "final_indices = reduce(np.intersect1d, (valid_indices, *list(indices_pert.values())))[:n]\n",
    "factuals = factuals[final_indices] \n",
    "factuals_pert = {k : v[final_indices] for k, v in factuals_pert.items()}\n",
    "\n",
    "with open(osp.join(save_dir, 'factuals.pkl'), 'wb') as f:\n",
    "    pickle.dump(factuals, f)\n",
    "\n",
    "for noise_level in noise_levels:\n",
    "    with open(osp.join(save_dir, f'factuals_perturbed_noise_{noise_level}.pkl'), 'wb') as f:\n",
    "        pickle.dump(factuals_pert[noise_level], f)"
   ]
  },
  {
   "cell_type": "code",
   "execution_count": 24,
   "metadata": {},
   "outputs": [
    {
     "data": {
      "image/png": "[encoded data removed]",
      "text/plain": [
       "<Figure size 1000x400 with 10 Axes>"
      ]
     },
     "metadata": {},
     "output_type": "display_data"
    }
   ],
   "source": [
    "ind = 1\n",
    "\n",
    "fig, axs = plt.subplots(2, 5, figsize=(10, 4))\n",
    "for i in range(2):\n",
    "    for j in range(5):\n",
    "        noise = noise_levels[j]\n",
    "        if i == 0: \n",
    "            pert_image = factuals_pert[noise][ind].squeeze().squeeze() #perturb_sample(factuals_tensor[ind].unsqueeze(0), noise_magnitude=noise).squeeze().squeeze()\n",
    "            axs[i, j].imshow(pert_image, cmap='gray')\n",
    "            axs[i, j].set_title('$\\\\epsilon$='+str(noise)) \n",
    "            axs[i, j].axis('off')\n",
    "        else:\n",
    "            pert_sample = torch.Tensor(factuals_pert[noise]).to(device)\n",
    "            latent_code_pert = encoder(pert_sample)\n",
    "            mapping_pert = g(latent_code_pert)\n",
    "            cfes_pert_sample = gen(mapping_pert)\n",
    "            axs[i, j].imshow(cfes_pert_sample[ind].detach().cpu().numpy().transpose(1, 2, 0), cmap='gray')\n",
    "            axs[i, j].axis('off')"
   ]
  },
  {
   "cell_type": "code",
   "execution_count": 16,
   "metadata": {},
   "outputs": [
    {
     "name": "stdout",
     "output_type": "stream",
     "text": [
      "100 factual instances were loaded.\n"
     ]
    }
   ],
   "source": [
    "# with open('/data/leuven/365/vsc36567/Counterfactual-Robustness-Benchmark/counterfactuals/c3lt_multi/factuals.pkl', 'rb') as f:\n",
    "#     factuals = pickle.load(f)\n",
    "#     print(f'{factuals.shape[0]} factual instances were loaded.')"
   ]
  },
  {
   "cell_type": "code",
   "execution_count": 22,
   "metadata": {},
   "outputs": [],
   "source": [
    "# factuals_pert = {}\n",
    "# save_dir = '/data/leuven/365/vsc36567/Counterfactual-Robustness-Benchmark/counterfactuals/c3lt_multi'\n",
    "\n",
    "# for noise_level in noise_levels:\n",
    "#     with open(osp.join(save_dir, f'factuals_perturbed_noise_{noise_level}.pkl'), 'rb') as f:\n",
    "#         factuals_pert[noise_level] = pickle.load(f)"
   ]
  },
  {
   "cell_type": "markdown",
   "metadata": {},
   "source": [
    "Generate counterfcatual explanations"
   ]
  },
  {
   "cell_type": "code",
   "execution_count": 39,
   "metadata": {},
   "outputs": [],
   "source": [
    "factuals = factuals.to(device)\n",
    "latent_code = encoder(factuals)\n",
    "map_to_target_class = g(latent_code)\n",
    "cfes = gen(map_to_target_class)"
   ]
  },
  {
   "cell_type": "code",
   "execution_count": 40,
   "metadata": {},
   "outputs": [
    {
     "name": "stdout",
     "output_type": "stream",
     "text": [
      "Validity of the generated explanations: 1.0\n"
     ]
    }
   ],
   "source": [
    "validity = np.where(torch.argmax(baseline_classifier(cfes), axis=1).detach().cpu() == 1)[0]\n",
    "validity = validity.shape[0] / cfes.shape[0]\n",
    "print('Validity of the generated explanations:', validity)"
   ]
  },
  {
   "cell_type": "code",
   "execution_count": 41,
   "metadata": {},
   "outputs": [],
   "source": [
    "cfes_pert = {}\n",
    "\n",
    "for noise_level in noise_levels:\n",
    "    pert_sample = torch.Tensor(factuals_pert[noise_level]).to(device)\n",
    "    latent_code_pert = encoder(pert_sample)\n",
    "    mapping_pert = g(latent_code_pert)\n",
    "    cfes_pert[noise_level] = gen(mapping_pert) "
   ]
  },
  {
   "cell_type": "code",
   "execution_count": 42,
   "metadata": {},
   "outputs": [
    {
     "data": {
      "image/png": "[encoded data removed]",
      "text/plain": [
       "<Figure size 1000x400 with 15 Axes>"
      ]
     },
     "metadata": {},
     "output_type": "display_data"
    }
   ],
   "source": [
    "import matplotlib.pyplot as plt\n",
    "\n",
    "n_rows = 3\n",
    "n_cols = 5\n",
    "\n",
    "ind = 15\n",
    "\n",
    "# factuals_pert = {}    \n",
    "\n",
    "# for noise_level in noise_levels:\n",
    "#     factuals_pert[noise_level] = perturb_sample(factuals_tensor, n_samples=1, noise_magnitude=noise_level)\n",
    "\n",
    "fig, axs = plt.subplots(n_rows, n_cols, figsize=(10, 4))\n",
    "for i in range(n_rows):\n",
    "    for j in range(n_cols):\n",
    "        noise = noise_levels[j]\n",
    "        if i == 0: \n",
    "            pert_image = factuals_pert[noise][ind].squeeze().squeeze() #perturb_sample(factuals_tensor[ind].unsqueeze(0), noise_magnitude=noise).squeeze().squeeze()\n",
    "            axs[i, j].imshow(pert_image, cmap='gray')\n",
    "            axs[i, j].set_title('epsilon='+str(noise)) \n",
    "            axs[i, j].axis('off')\n",
    "        elif i == 1:\n",
    "            axs[i, j].imshow(cfes[ind].squeeze().detach().cpu(), cmap='gray')\n",
    "            axs[i, j].axis('off')\n",
    "            axs[i, j].set_ylabel('CFE /wo noise')\n",
    "        else:\n",
    "            axs[i, j].imshow(cfes_pert[noise][ind].detach().cpu().numpy().transpose(1, 2, 0), cmap='gray')\n",
    "            # axs[i, j].set_title('epsilon='+str(noise)) \n",
    "            axs[i, j].axis('off')\n",
    "            axs[i, j].set_ylabel('CFE /w noise')\n",
    "plt.show()"
   ]
  },
  {
   "cell_type": "code",
   "execution_count": 43,
   "metadata": {},
   "outputs": [
    {
     "name": "stdout",
     "output_type": "stream",
     "text": [
      "Validity for the added noise level 0.001:  1.0\n",
      "Validity for the added noise level 0.0025:  1.0\n",
      "Validity for the added noise level 0.005:  1.0\n",
      "Validity for the added noise level 0.0075:  1.0\n",
      "Validity for the added noise level 0.01:  1.0\n"
     ]
    }
   ],
   "source": [
    "target_class = 1\n",
    "\n",
    "validity_dict = {}\n",
    "for noise_level in noise_levels:\n",
    "    predictions = torch.argmax(baseline_classifier(torch.Tensor(cfes_pert[noise_level])), axis=1).detach().cpu()\n",
    "    indices = np.where(predictions == target_class)[0]\n",
    "    validity = indices.shape[0] / predictions.shape[0]\n",
    "    validity_dict[noise_level] = validity\n",
    "    print(f'Validity for the added noise level {noise_level}: ',  validity)\n",
    "\n",
    "with open(osp.join(save_dir, \n",
    "        f'c3lt_fmnist_0_4_validity.pkl'), 'wb') as f:\n",
    "        pickle.dump(validity_dict, f)"
   ]
  },
  {
   "cell_type": "code",
   "execution_count": 44,
   "metadata": {},
   "outputs": [],
   "source": [
    "from src.evaluation.local_instability import calculate_sparsity, calculate_ssim\n",
    "from src.utils.visualization import plot_boxplot"
   ]
  },
  {
   "cell_type": "code",
   "execution_count": 45,
   "metadata": {},
   "outputs": [],
   "source": [
    "instability_l1_list = []\n",
    "ssim_list = []\n",
    "\n",
    "for noise_level, cfe_pert_list in cfes_pert.items():\n",
    "    # print('noise level:', noise_level)\n",
    "    l1_temp = []\n",
    "    ssim_temp = []\n",
    "    for i in range(len(cfes)):\n",
    "        cf = cfes[i].detach().cpu()\n",
    "        cf_pert = cfe_pert_list[i].detach().cpu()\n",
    "\n",
    "        if len(cf) == 0:\n",
    "            continue\n",
    "        if len(cf_pert) == 0:\n",
    "            continue\n",
    "\n",
    "        cf_tensor = torch.Tensor(cf)\n",
    "        cf = cf_tensor.permute(1, 2, 0).flatten()\n",
    "\n",
    "        cf_pert_tensor = torch.Tensor(cf_pert)\n",
    "        cf_perturbed = cf_pert_tensor.permute(1, 2, 0).flatten()        \n",
    "\n",
    "        l1_distance = sum(abs(cf - cf_perturbed)) # np.linalg.norm(cf.flatten() - cf_perturbed.flatten(), ord=1)\n",
    "        l1_temp.append(l1_distance)\n",
    "\n",
    "        ssim = calculate_ssim(cf_tensor.unsqueeze(0), cf_pert_tensor.unsqueeze(0)).item()\n",
    "        ssim_temp.append(ssim)\n",
    "\n",
    "    instability_l1_list.append(l1_temp)\n",
    "    ssim_list.append(ssim_temp)\n",
    "        \n",
    "\n",
    "# output_dir = r'/data/leuven/365/vsc36567/Counterfactual-Robustness-Benchmark/output/c3lt_binary'\n",
    "\n",
    "with open(osp.join(save_dir, f'c3lt_0_4_li_l1.pkl'), 'wb') as f:\n",
    "    pickle.dump(instability_l1_list, f)\n",
    "\n",
    "with open(osp.join(save_dir, f'c3lt_0_4_ssim.pkl'), 'wb') as f:\n",
    "    pickle.dump(ssim_list, f)"
   ]
  },
  {
   "cell_type": "code",
   "execution_count": 46,
   "metadata": {},
   "outputs": [
    {
     "data": {
      "image/png": "[encoded data removed]",
      "text/plain": [
       "<Figure size 800x550 with 1 Axes>"
      ]
     },
     "metadata": {},
     "output_type": "display_data"
    }
   ],
   "source": [
    "plt.style.use(\"seaborn-v0_8\")\n",
    "\n",
    "\n",
    "plot_boxplot(data=instability_l1_list, mean_values=np.round(np.mean(instability_l1_list, axis=1), 2),\n",
    "             tick_labels=[f'eps={noise_level}' for noise_level in noise_levels],\n",
    "             y_label='Local Instability', colors=['lightyellow'], title='L1 distance between CFEs of similar inputs')"
   ]
  },
  {
   "cell_type": "code",
   "execution_count": 47,
   "metadata": {},
   "outputs": [
    {
     "data": {
      "image/png": "[encoded data removed]",
      "text/plain": [
       "<Figure size 800x400 with 1 Axes>"
      ]
     },
     "metadata": {},
     "output_type": "display_data"
    }
   ],
   "source": [
    "plt.rcParams['figure.figsize'] = [8, 4]\n",
    "\n",
    "plot_boxplot(data=ssim_list, mean_values=np.round(np.mean(ssim_list, axis=1), 2),\n",
    "             tick_labels=[f'eps={noise_level}' for noise_level in noise_levels],\n",
    "             y_label='Local Instability', colors=['lightgreen'], title='SSIM between CFEs of similar inputs')"
   ]
  },
  {
   "cell_type": "markdown",
   "metadata": {},
   "source": [
    "## Local Lipschitz Continuity"
   ]
  },
  {
   "cell_type": "code",
   "execution_count": 30,
   "metadata": {},
   "outputs": [
    {
     "name": "stdout",
     "output_type": "stream",
     "text": [
      "Are the lengths of initial points (factuals) and CFEs generated for them equal : True\n"
     ]
    }
   ],
   "source": [
    "original_points = factuals # factuals_tensor[:n]\n",
    "original_cfes = cfes\n",
    "print(\"Are the lengths of initial points (factuals) and CFEs generated for them equal :\", len(original_cfes) == original_points.shape[0])\n"
   ]
  },
  {
   "cell_type": "code",
   "execution_count": 31,
   "metadata": {},
   "outputs": [
    {
     "name": "stderr",
     "output_type": "stream",
     "text": [
      "30it [00:00, 20760.46it/s]\n",
      "30it [00:00, 21432.31it/s]\n",
      "30it [00:00, 25564.63it/s]\n",
      "30it [00:00, 26681.32it/s]\n",
      "30it [00:00, 21254.92it/s]\n",
      "30it [00:00, 21355.93it/s]\n",
      "30it [00:00, 26296.58it/s]\n",
      "30it [00:00, 9171.22it/s]\n",
      "30it [00:00, 22729.25it/s]\n",
      "30it [00:00, 26357.17it/s]\n",
      "30it [00:00, 22223.44it/s]\n",
      "30it [00:00, 21898.56it/s]\n",
      "30it [00:00, 22353.73it/s]\n",
      "30it [00:00, 21998.10it/s]\n",
      "30it [00:00, 22700.54it/s]\n",
      "30it [00:00, 22117.97it/s]\n",
      "30it [00:00, 26143.59it/s]\n",
      "30it [00:00, 22509.68it/s]\n",
      "30it [00:00, 22623.00it/s]\n",
      "30it [00:00, 22558.11it/s]\n",
      "30it [00:00, 22708.74it/s]\n",
      "30it [00:00, 23168.68it/s]\n",
      "30it [00:00, 25960.21it/s]\n",
      "30it [00:00, 22219.52it/s]\n",
      "30it [00:00, 22437.43it/s]\n",
      "30it [00:00, 22353.73it/s]\n",
      "30it [00:00, 22623.00it/s]\n",
      "30it [00:00, 22680.09it/s]\n",
      "30it [00:00, 22778.62it/s]\n",
      "30it [00:00, 4984.52it/s]\n",
      "30it [00:00, 22610.80it/s]\n",
      "30it [00:00, 22725.14it/s]\n",
      "30it [00:00, 22659.67it/s]\n",
      "30it [00:00, 22341.82it/s]\n",
      "30it [00:00, 22795.13it/s]\n",
      "30it [00:00, 22433.43it/s]\n",
      "30it [00:00, 26551.83it/s]\n",
      "30it [00:00, 22944.77it/s]\n",
      "30it [00:00, 22322.00it/s]\n",
      "30it [00:00, 22558.11it/s]\n",
      "30it [00:00, 26886.56it/s]\n",
      "30it [00:00, 26703.97it/s]\n",
      "30it [00:00, 21932.91it/s]\n",
      "30it [00:00, 26641.78it/s]\n",
      "30it [00:00, 22278.53it/s]\n",
      "30it [00:00, 16037.36it/s]\n",
      "30it [00:00, 21605.27it/s]\n",
      "30it [00:00, 20968.03it/s]\n",
      "30it [00:00, 19334.53it/s]\n",
      "30it [00:00, 19716.25it/s]\n",
      "50it [00:10,  4.57it/s]\n"
     ]
    }
   ],
   "source": [
    "from tqdm import tqdm\n",
    "\n",
    "\n",
    "i = 0\n",
    "lip_estimates = []\n",
    "noise_magnitude = 0.001\n",
    "\n",
    "original_points = original_points.detach().cpu()\n",
    "original_cfes = original_cfes.detach().cpu()\n",
    "for original_point, original_cfe in tqdm(zip(original_points[:50], original_cfes[:50])):\n",
    "\n",
    "    neighbor_points = perturb_sample(original_point.unsqueeze(0), n_samples=30, noise_magnitude=noise_magnitude) \n",
    "    neighbor_points = torch.Tensor(neighbor_points)  \n",
    "    latent_vector = encoder(neighbor_points.to(device))\n",
    "    mapping_pert = g(latent_vector)\n",
    "    neighbor_cfes = gen(mapping_pert).detach().cpu() \n",
    "    \n",
    "\n",
    "    lip_estimate = 0\n",
    "    for m, p in tqdm(zip(neighbor_cfes, neighbor_points)):\n",
    "        # lip = np.linalg.norm(original_cfe - m) / np.linalg.norm(original_point - p)\n",
    "        num = np.linalg.norm((original_cfe - m).flatten(), ord=2) \n",
    "        denom = np.linalg.norm((original_point - p).flatten(), ord=2)\n",
    "        lip = num / denom\n",
    "        lip_estimate = max(lip, lip_estimate)\n",
    " \n",
    "    lip_estimates.append(lip_estimate.item())\n",
    "    i += 1"
   ]
  },
  {
   "cell_type": "code",
   "execution_count": 32,
   "metadata": {},
   "outputs": [],
   "source": [
    "output_dir = r'/vsc-hard-mounts/leuven-data/365/vsc36567/Counterfactual-Robustness-Benchmark/output/c3lt_binary'\n",
    "with open(osp.join(output_dir, f'c3lt_lle.pkl'), 'wb') as f:\n",
    "        pickle.dump(lip_estimates, f)"
   ]
  },
  {
   "cell_type": "code",
   "execution_count": 33,
   "metadata": {},
   "outputs": [
    {
     "data": {
      "image/png": "[encoded data removed]",
      "text/plain": [
       "<Figure size 600x400 with 1 Axes>"
      ]
     },
     "metadata": {},
     "output_type": "display_data"
    }
   ],
   "source": [
    "plt.rcParams['figure.figsize'] = [6, 4]\n",
    "plot_boxplot(data=lip_estimates, mean_values=[np.round(np.mean(lip_estimates), 5)],\n",
    "             tick_labels=[f''],\n",
    "             y_label='Local Lipschitz Continuity', colors=['lightpink'], title='')"
   ]
  },
  {
   "cell_type": "code",
   "execution_count": null,
   "metadata": {},
   "outputs": [],
   "source": []
  },
  {
   "cell_type": "markdown",
   "metadata": {},
   "source": [
    "## Invalidation Rate"
   ]
  },
  {
   "cell_type": "code",
   "execution_count": 51,
   "metadata": {},
   "outputs": [
    {
     "name": "stdout",
     "output_type": "stream",
     "text": [
      "Accuracy for the test dataset: 98.682%\n",
      "Accuracy for the test dataset: 97.705%\n",
      "Accuracy for the test dataset: 97.607%\n",
      "Accuracy for the test dataset: 97.705%\n",
      "Accuracy for the test dataset: 97.803%\n",
      "Accuracy for the test dataset: 96.484%\n",
      "Accuracy for the test dataset: 97.266%\n",
      "Accuracy for the test dataset: 97.705%\n",
      "Accuracy for the test dataset: 98.193%\n",
      "Accuracy for the test dataset: 97.852%\n"
     ]
    }
   ],
   "source": [
    "classifiers_weights_dir = r'/data/leuven/365/vsc36567/CF-Robustness-Benchmark/notebooks/experiments/fmnist_classification/binary/checkpoints/mc_0_4'\n",
    "\n",
    "\n",
    "classifiers_list = []\n",
    "for clf_weights in os.listdir(classifiers_weights_dir):\n",
    "    cnn_perturbed = SimpleCNNtorch(**args.classifier_args)\n",
    "    load_model_weights(model=cnn_perturbed, weights_path=osp.join(classifiers_weights_dir, clf_weights))\n",
    "    classifiers_list.append(cnn_perturbed)\n",
    "    evaluate_classification_model(cnn_perturbed, dataloader=test_loader, num_classes=config.data.num_classes)"
   ]
  },
  {
   "cell_type": "code",
   "execution_count": 52,
   "metadata": {},
   "outputs": [
    {
     "name": "stdout",
     "output_type": "stream",
     "text": [
      "Model 0: IR=0.0, validity=1.0\n",
      "\n",
      "Model 1: IR=0.0, validity=1.0\n",
      "\n",
      "Model 2: IR=0.0, validity=1.0\n",
      "\n",
      "Model 3: IR=0.0, validity=1.0\n",
      "\n",
      "Model 4: IR=0.0, validity=1.0\n",
      "\n",
      "Model 5: IR=0.0, validity=1.0\n",
      "\n",
      "Model 6: IR=0.0, validity=1.0\n",
      "\n",
      "Model 7: IR=0.0, validity=1.0\n",
      "\n",
      "Model 8: IR=0.0, validity=1.0\n",
      "\n",
      "Model 9: IR=0.0, validity=1.0\n",
      "\n",
      "Average IR : 0.000 +- 0.000\n",
      "Average VaR : 1.000 +- 0.000\n"
     ]
    }
   ],
   "source": [
    "target_class = 1\n",
    "validity_list = []\n",
    "invalidation_rate_list = []\n",
    "device = 'cuda' if torch.cuda.is_available() else 'cpu'\n",
    "\n",
    "for i, classifier in enumerate(classifiers_list):\n",
    "    validity = 0\n",
    "    invalidation_rate = 0\n",
    "    total_found_cfs = 0\n",
    "    \n",
    "    classifier.eval()\n",
    "    with torch.no_grad():\n",
    "        classifier = classifier.to(device)\n",
    "\n",
    "        baseline_pred = torch.argmax(baseline_classifier(cfes), axis=1)\n",
    "        alternative_pred = torch.argmax(classifier(cfes), axis=1)\n",
    "    \n",
    "    invalidation_rate = np.where(baseline_pred.detach().cpu() != alternative_pred.detach().cpu())[0].shape[0] / baseline_pred.shape[0]\n",
    "    validity = np.where(alternative_pred.detach().cpu() == target_class)[0].shape[0] / alternative_pred.shape[0]\n",
    "\n",
    "    # invalidation_rate /= total_found_cfs\n",
    "    invalidation_rate_list.append(invalidation_rate)\n",
    "    validity_list.append(validity)\n",
    "    print(f'Model {i}: IR={invalidation_rate}, validity={validity}\\n')\n",
    "\n",
    "print('Average IR : {:.3f} +- {:.3f}'.format(np.mean(invalidation_rate_list), np.std(invalidation_rate_list)))\n",
    "print('Average VaR : {:.3f} +- {:.3f}'.format(np.mean(validity_list), np.std(validity_list)))"
   ]
  },
  {
   "cell_type": "markdown",
   "metadata": {},
   "source": [
    "## Stability\n"
   ]
  },
  {
   "cell_type": "code",
   "execution_count": 53,
   "metadata": {},
   "outputs": [],
   "source": [
    "import torch.nn.functional as F"
   ]
  },
  {
   "cell_type": "code",
   "execution_count": 54,
   "metadata": {},
   "outputs": [
    {
     "name": "stdout",
     "output_type": "stream",
     "text": [
      "Stability of the model 0: 1.0 +- 0.0\n",
      "Stability of the model 1: 1.0 +- 0.0\n"
     ]
    },
    {
     "ename": "KeyboardInterrupt",
     "evalue": "",
     "output_type": "error",
     "traceback": [
      "\u001b[0;31m---------------------------------------------------------------------------\u001b[0m",
      "\u001b[0;31mKeyboardInterrupt\u001b[0m                         Traceback (most recent call last)",
      "Cell \u001b[0;32mIn[54], line 11\u001b[0m\n\u001b[1;32m      8\u001b[0m \u001b[38;5;28;01mfor\u001b[39;00m cfe \u001b[38;5;129;01min\u001b[39;00m cfes:\n\u001b[1;32m     10\u001b[0m     cfe \u001b[38;5;241m=\u001b[39m torch\u001b[38;5;241m.\u001b[39mTensor(cfe)\u001b[38;5;241m.\u001b[39munsqueeze(\u001b[38;5;241m0\u001b[39m)\u001b[38;5;241m.\u001b[39mdetach()\u001b[38;5;241m.\u001b[39mcpu()\n\u001b[0;32m---> 11\u001b[0m     cfe_sampled \u001b[38;5;241m=\u001b[39m torch\u001b[38;5;241m.\u001b[39mTensor(\u001b[43mperturb_sample\u001b[49m\u001b[43m(\u001b[49m\u001b[43mcfe\u001b[49m\u001b[43m,\u001b[49m\u001b[43m \u001b[49m\u001b[43mn_samples\u001b[49m\u001b[38;5;241;43m=\u001b[39;49m\u001b[43mk\u001b[49m\u001b[43m,\u001b[49m\u001b[43m \u001b[49m\u001b[43mnoise_magnitude\u001b[49m\u001b[38;5;241;43m=\u001b[39;49m\u001b[43msigma\u001b[49m\u001b[43m)\u001b[49m)\n\u001b[1;32m     13\u001b[0m     \u001b[38;5;28;01mwith\u001b[39;00m torch\u001b[38;5;241m.\u001b[39mno_grad():\n\u001b[1;32m     14\u001b[0m         cf_logits \u001b[38;5;241m=\u001b[39m classifier(cfe\u001b[38;5;241m.\u001b[39mto(device))\n",
      "File \u001b[0;32m/vsc-hard-mounts/leuven-data/365/vsc36567/CF-Robustness-Benchmark/src/evaluation/local_instability.py:19\u001b[0m, in \u001b[0;36mperturb_sample\u001b[0;34m(input_images, n_samples, noise_magnitude)\u001b[0m\n\u001b[1;32m     16\u001b[0m covariance \u001b[38;5;241m=\u001b[39m np\u001b[38;5;241m.\u001b[39meye(channels \u001b[38;5;241m*\u001b[39m height \u001b[38;5;241m*\u001b[39m width) \u001b[38;5;241m*\u001b[39m noise_magnitude  \u001b[38;5;66;03m# Diagonal covariance\u001b[39;00m\n\u001b[1;32m     18\u001b[0m \u001b[38;5;66;03m# Create the MultivariateNormal distribution\u001b[39;00m\n\u001b[0;32m---> 19\u001b[0m noise \u001b[38;5;241m=\u001b[39m \u001b[43mmultivariate_normal\u001b[49m\u001b[43m(\u001b[49m\u001b[43mmean\u001b[49m\u001b[43m,\u001b[49m\u001b[43m \u001b[49m\u001b[43mcovariance\u001b[49m\u001b[43m,\u001b[49m\u001b[43m \u001b[49m\u001b[43msize\u001b[49m\u001b[38;5;241;43m=\u001b[39;49m\u001b[43m(\u001b[49m\u001b[43mbatch_size\u001b[49m\u001b[43m \u001b[49m\u001b[38;5;241;43m*\u001b[39;49m\u001b[43m \u001b[49m\u001b[43mn_samples\u001b[49m\u001b[43m,\u001b[49m\u001b[43m)\u001b[49m\u001b[43m)\u001b[49m\n\u001b[1;32m     20\u001b[0m noise \u001b[38;5;241m=\u001b[39m noise\u001b[38;5;241m.\u001b[39mreshape(batch_size \u001b[38;5;241m*\u001b[39m n_samples, channels, height, width)\n\u001b[1;32m     22\u001b[0m \u001b[38;5;66;03m# Perturb the input images with the generated noise\u001b[39;00m\n",
      "File \u001b[0;32mnumpy/random/mtrand.pyx:4261\u001b[0m, in \u001b[0;36mnumpy.random.mtrand.RandomState.multivariate_normal\u001b[0;34m()\u001b[0m\n",
      "File \u001b[0;32m/data/leuven/365/vsc36567/miniconda3/lib/python3.12/site-packages/numpy/linalg/_linalg.py:1796\u001b[0m, in \u001b[0;36msvd\u001b[0;34m(a, full_matrices, compute_uv, hermitian)\u001b[0m\n\u001b[1;32m   1792\u001b[0m signature \u001b[38;5;241m=\u001b[39m \u001b[38;5;124m'\u001b[39m\u001b[38;5;124mD->DdD\u001b[39m\u001b[38;5;124m'\u001b[39m \u001b[38;5;28;01mif\u001b[39;00m isComplexType(t) \u001b[38;5;28;01melse\u001b[39;00m \u001b[38;5;124m'\u001b[39m\u001b[38;5;124md->ddd\u001b[39m\u001b[38;5;124m'\u001b[39m\n\u001b[1;32m   1793\u001b[0m \u001b[38;5;28;01mwith\u001b[39;00m errstate(call\u001b[38;5;241m=\u001b[39m_raise_linalgerror_svd_nonconvergence,\n\u001b[1;32m   1794\u001b[0m               invalid\u001b[38;5;241m=\u001b[39m\u001b[38;5;124m'\u001b[39m\u001b[38;5;124mcall\u001b[39m\u001b[38;5;124m'\u001b[39m, over\u001b[38;5;241m=\u001b[39m\u001b[38;5;124m'\u001b[39m\u001b[38;5;124mignore\u001b[39m\u001b[38;5;124m'\u001b[39m, divide\u001b[38;5;241m=\u001b[39m\u001b[38;5;124m'\u001b[39m\u001b[38;5;124mignore\u001b[39m\u001b[38;5;124m'\u001b[39m,\n\u001b[1;32m   1795\u001b[0m               under\u001b[38;5;241m=\u001b[39m\u001b[38;5;124m'\u001b[39m\u001b[38;5;124mignore\u001b[39m\u001b[38;5;124m'\u001b[39m):\n\u001b[0;32m-> 1796\u001b[0m     u, s, vh \u001b[38;5;241m=\u001b[39m \u001b[43mgufunc\u001b[49m\u001b[43m(\u001b[49m\u001b[43ma\u001b[49m\u001b[43m,\u001b[49m\u001b[43m \u001b[49m\u001b[43msignature\u001b[49m\u001b[38;5;241;43m=\u001b[39;49m\u001b[43msignature\u001b[49m\u001b[43m)\u001b[49m\n\u001b[1;32m   1797\u001b[0m u \u001b[38;5;241m=\u001b[39m u\u001b[38;5;241m.\u001b[39mastype(result_t, copy\u001b[38;5;241m=\u001b[39m\u001b[38;5;28;01mFalse\u001b[39;00m)\n\u001b[1;32m   1798\u001b[0m s \u001b[38;5;241m=\u001b[39m s\u001b[38;5;241m.\u001b[39mastype(_realType(result_t), copy\u001b[38;5;241m=\u001b[39m\u001b[38;5;28;01mFalse\u001b[39;00m)\n",
      "\u001b[0;31mKeyboardInterrupt\u001b[0m: "
     ]
    }
   ],
   "source": [
    "k = 1000\n",
    "sigma = 0.001\n",
    "device = 'cuda' if torch.cuda.is_available() else 'cpu'\n",
    "\n",
    "average_stability_list = []\n",
    "for i, classifier in enumerate(classifiers_list):\n",
    "    stability_list = []\n",
    "    for cfe in cfes:\n",
    "\n",
    "        cfe = torch.Tensor(cfe).unsqueeze(0).detach().cpu()\n",
    "        cfe_sampled = torch.Tensor(perturb_sample(cfe, n_samples=k, noise_magnitude=sigma))\n",
    "\n",
    "        with torch.no_grad():\n",
    "            cf_logits = classifier(cfe.to(device))\n",
    "            cf_probabilities = F.softmax(cf_logits, dim=-1)[:, target_class]\n",
    "\n",
    "            cf_sampled_logits = classifier(cfe_sampled.to(device))\n",
    "            cf_sampled_probabilities = F.softmax(cf_sampled_logits, dim=-1)[:, target_class]\n",
    "        \n",
    "        model_variance = abs(cf_probabilities - cf_sampled_probabilities)\n",
    "\n",
    "        stability = (cf_sampled_probabilities - model_variance).mean()\n",
    "        stability_list.append(stability.item())\n",
    "\n",
    "    avg_i_stability = np.mean(stability_list)\n",
    "    print(f'Stability of the model {i}: {round(avg_i_stability.item(), 3)} +- {round(np.std(stability_list).item(), 2)}')\n",
    "    average_stability_list.append(avg_i_stability) "
   ]
  },
  {
   "cell_type": "code",
   "execution_count": 45,
   "metadata": {},
   "outputs": [
    {
     "name": "stdout",
     "output_type": "stream",
     "text": [
      "Average stability over 10 models: 0.6866\n"
     ]
    }
   ],
   "source": [
    "print(f'Average stability over {len(classifiers_list)} models:', np.mean(average_stability_list).round(4))"
   ]
  },
  {
   "cell_type": "code",
   "execution_count": null,
   "metadata": {},
   "outputs": [],
   "source": []
  }
 ],
 "metadata": {
  "kernelspec": {
   "display_name": "venv",
   "language": "python",
   "name": "python3"
  },
  "language_info": {
   "codemirror_mode": {
    "name": "ipython",
    "version": 3
   },
   "file_extension": ".py",
   "mimetype": "text/x-python",
   "name": "python",
   "nbconvert_exporter": "python",
   "pygments_lexer": "ipython3",
   "version": "3.12.4"
  }
 },
 "nbformat": 4,
 "nbformat_minor": 2
}
