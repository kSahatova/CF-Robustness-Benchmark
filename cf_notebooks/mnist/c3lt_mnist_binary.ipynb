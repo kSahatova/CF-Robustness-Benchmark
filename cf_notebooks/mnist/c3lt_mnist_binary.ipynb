{
 "cells": [
  {
   "cell_type": "code",
   "execution_count": 71,
   "metadata": {},
   "outputs": [],
   "source": [
    "import os\n",
    "import pickle\n",
    "import numpy as np\n",
    "import os.path as osp\n",
    "import matplotlib.pyplot as plt\n",
    "\n",
    "import torch\n",
    "import torch.nn.functional as F\n",
    "\n",
    "from src.cf_methods import c3lt \n",
    "from src.datasets import DatasetBuilder\n",
    "\n",
    "from src.models.classifiers import SimpleCNNtorch\n",
    "from src.evaluation.local_instability import perturb_sample\n",
    "from src.utils import seed_everything, get_config, load_model_weights\n",
    "from src.utils import evaluate_classification_model, plot_boxplot\n",
    "from src.utils import extract_factual_instances, filter_valid_factuals"
   ]
  },
  {
   "cell_type": "code",
   "execution_count": 2,
   "metadata": {},
   "outputs": [],
   "source": [
    "seed_everything()"
   ]
  },
  {
   "cell_type": "code",
   "execution_count": 3,
   "metadata": {},
   "outputs": [],
   "source": [
    "import sys\n",
    "sys.argv = ['']"
   ]
  },
  {
   "cell_type": "code",
   "execution_count": 4,
   "metadata": {},
   "outputs": [],
   "source": [
    "repo_path = 'D:\\PycharmProjects\\CF-Robustness-Benchmark' # '/data/leuven/365/vsc36567/CF-Robustness-Benchmark'\n",
    "config_path = osp.join(repo_path, 'configs/train_classifier_mnist.yaml')\n",
    "\n",
    "config = get_config(config_path)\n",
    "config.data_dir = osp.join(repo_path, config.data_dir)\n",
    "ds_builder = DatasetBuilder(config)\n",
    "ds_builder.setup()\n",
    "train_loader, val_loader, test_loader = ds_builder.get_dataloaders() \n",
    "device = \"cuda\" if torch.cuda.is_available() else \"cpu\""
   ]
  },
  {
   "cell_type": "code",
   "execution_count": 5,
   "metadata": {},
   "outputs": [],
   "source": [
    "# Create an args object to pass all relevant parameters \n",
    "weights_dir = osp.join(repo_path, 'src/cf_methods/c3lt/weights')\n",
    "clf_dir = osp.join(repo_path, 'notebooks/experiments/mnist_classification/binary/checkpoints')\n",
    "log_path = osp.join(repo_path, 'cf_output/mnist/c3lt_binary')\n",
    "\n",
    "args = c3lt.args.init_parser()\n",
    "args.device = \"cuda\" if torch.cuda.is_available() else \"cpu\"\n",
    "args.log_path = log_path\n",
    "args.gen_path = osp.join(weights_dir, 'generator_mnist_1_7.pth')\n",
    "args.disc_path = osp.join(weights_dir, 'discriminator_mnist_1_7.pth')\n",
    "args.enc_path = osp.join(weights_dir, 'encoder_mnist_1_7.pth')\n",
    "args.cls_path = osp.join(clf_dir, 'mnist_1_7_epoch=00_val_accuracy=0.99.pth')\n",
    "args.dataset_path = config.data_dir\n",
    "args.cls_1 = 0  # 1\n",
    "args.cls_2 = 1  # 7\n",
    "args.num_classes = 2\n",
    "args.classifier_args={**config.classifier.args, \n",
    "                    'num_classes': config.data.num_classes,\n",
    "                    'img_size': config.data.img_size\n",
    "}\n",
    "args.ndf=32\n",
    "args.epochs = 150\n",
    "# args.cls_type = 'bce'\n",
    "args.extracted_layers = ['main']\n",
    "args.output = osp.join(repo_path, 'cf_output/mnist/c3lt_binary/results')\n",
    "os.makedirs(args.output+'/snaps', exist_ok=True)"
   ]
  },
  {
   "cell_type": "code",
   "execution_count": 6,
   "metadata": {},
   "outputs": [],
   "source": [
    "dataloaders = c3lt.helper.dataloader_pair(args, ds_builder.train_dataset, is_train=True)\n",
    "dataloaders_test = c3lt.helper.dataloader_pair(args, ds_builder.test_dataset, is_train=False)"
   ]
  },
  {
   "cell_type": "markdown",
   "metadata": {},
   "source": [
    "# Training"
   ]
  },
  {
   "cell_type": "code",
   "execution_count": 7,
   "metadata": {},
   "outputs": [
    {
     "name": "stdout",
     "output_type": "stream",
     "text": [
      "Generator loaded!\n",
      "Discriminator loaded!\n",
      "Encoder loaded!\n",
      "Classifier loaded!\n",
      "\n",
      "Training Starts...\n",
      "\n",
      "[Epoch 0/150] [TRAIN Loss: 0.41059]\n",
      "\n",
      "EVAL [CLS loss: 0.0001]  [PROX loss: 0.0587]  [CYC Loss: 0.1857]  [ADV loss: 0.3769]  [EVAL loss: 0.0249] \n",
      "EVAL [COUT: 0.9474]  [Validity: 100.00 %]  [Proximity: 0.1711]\n",
      "\n",
      "[Epoch 1/150] [TRAIN Loss: 0.02595]\n",
      "[Epoch 2/150] [TRAIN Loss: 0.02495]\n",
      "[Epoch 3/150] [TRAIN Loss: 0.02388]\n",
      "[Epoch 4/150] [TRAIN Loss: 0.02284]\n"
     ]
    },
    {
     "ename": "KeyboardInterrupt",
     "evalue": "",
     "output_type": "error",
     "traceback": [
      "\u001b[1;31m---------------------------------------------------------------------------\u001b[0m",
      "\u001b[1;31mKeyboardInterrupt\u001b[0m                         Traceback (most recent call last)",
      "Cell \u001b[1;32mIn[7], line 1\u001b[0m\n\u001b[1;32m----> 1\u001b[0m \u001b[43mc3lt\u001b[49m\u001b[38;5;241;43m.\u001b[39;49m\u001b[43mtrain\u001b[49m\u001b[38;5;241;43m.\u001b[39;49m\u001b[43mtrain_c3lt\u001b[49m\u001b[43m(\u001b[49m\u001b[43margs\u001b[49m\u001b[43m,\u001b[49m\u001b[43m \u001b[49m\u001b[43m[\u001b[49m\u001b[43mdataloaders\u001b[49m\u001b[43m,\u001b[49m\u001b[43m \u001b[49m\u001b[43mdataloaders_test\u001b[49m\u001b[43m]\u001b[49m\u001b[43m)\u001b[49m\n",
      "File \u001b[1;32md:\\pycharmprojects\\cf-robustness-benchmark\\src\\cf_methods\\c3lt\\train.py:69\u001b[0m, in \u001b[0;36mtrain_c3lt\u001b[1;34m(args, dataloaders)\u001b[0m\n\u001b[0;32m     66\u001b[0m path_imgs_1, latents_1 \u001b[38;5;241m=\u001b[39m forward_map(imgs_1, encoder, generator, g, args)\n\u001b[0;32m     67\u001b[0m imgs_1_cf, recon_imgs_1 \u001b[38;5;241m=\u001b[39m path_imgs_1[\u001b[38;5;241m-\u001b[39m\u001b[38;5;241m1\u001b[39m], path_imgs_1[\u001b[38;5;241m0\u001b[39m]\n\u001b[1;32m---> 69\u001b[0m path_imgs_2, latents_2 \u001b[38;5;241m=\u001b[39m \u001b[43mforward_map\u001b[49m\u001b[43m(\u001b[49m\u001b[43mimgs_2\u001b[49m\u001b[43m,\u001b[49m\u001b[43m \u001b[49m\u001b[43mencoder\u001b[49m\u001b[43m,\u001b[49m\u001b[43m \u001b[49m\u001b[43mgenerator\u001b[49m\u001b[43m,\u001b[49m\u001b[43m \u001b[49m\u001b[43mh\u001b[49m\u001b[43m,\u001b[49m\u001b[43m \u001b[49m\u001b[43margs\u001b[49m\u001b[43m)\u001b[49m\n\u001b[0;32m     70\u001b[0m imgs_2_cf, recon_imgs_2 \u001b[38;5;241m=\u001b[39m path_imgs_2[\u001b[38;5;241m-\u001b[39m\u001b[38;5;241m1\u001b[39m], path_imgs_2[\u001b[38;5;241m0\u001b[39m]\n\u001b[0;32m     72\u001b[0m \u001b[38;5;66;03m# classification loss\u001b[39;00m\n",
      "File \u001b[1;32md:\\pycharmprojects\\cf-robustness-benchmark\\src\\cf_methods\\c3lt\\helper.py:154\u001b[0m, in \u001b[0;36mforward_map\u001b[1;34m(imgs, encoder, generator, map_func, args)\u001b[0m\n\u001b[0;32m    152\u001b[0m z \u001b[38;5;241m=\u001b[39m encoder(imgs)\n\u001b[0;32m    153\u001b[0m out_z \u001b[38;5;241m=\u001b[39m nonlinear_map_step(z, map_func, args\u001b[38;5;241m.\u001b[39mn_steps)\n\u001b[1;32m--> 154\u001b[0m path_imgs \u001b[38;5;241m=\u001b[39m \u001b[38;5;28mlist\u001b[39m(\u001b[38;5;28mmap\u001b[39m(generator, out_z))\n\u001b[0;32m    155\u001b[0m \u001b[38;5;28;01mreturn\u001b[39;00m path_imgs, out_z\n",
      "File \u001b[1;32md:\\PycharmProjects\\CF-Robustness-Benchmark\\venv\\Lib\\site-packages\\torch\\nn\\modules\\module.py:1739\u001b[0m, in \u001b[0;36mModule._wrapped_call_impl\u001b[1;34m(self, *args, **kwargs)\u001b[0m\n\u001b[0;32m   1737\u001b[0m     \u001b[38;5;28;01mreturn\u001b[39;00m \u001b[38;5;28mself\u001b[39m\u001b[38;5;241m.\u001b[39m_compiled_call_impl(\u001b[38;5;241m*\u001b[39margs, \u001b[38;5;241m*\u001b[39m\u001b[38;5;241m*\u001b[39mkwargs)  \u001b[38;5;66;03m# type: ignore[misc]\u001b[39;00m\n\u001b[0;32m   1738\u001b[0m \u001b[38;5;28;01melse\u001b[39;00m:\n\u001b[1;32m-> 1739\u001b[0m     \u001b[38;5;28;01mreturn\u001b[39;00m \u001b[38;5;28;43mself\u001b[39;49m\u001b[38;5;241;43m.\u001b[39;49m\u001b[43m_call_impl\u001b[49m\u001b[43m(\u001b[49m\u001b[38;5;241;43m*\u001b[39;49m\u001b[43margs\u001b[49m\u001b[43m,\u001b[49m\u001b[43m \u001b[49m\u001b[38;5;241;43m*\u001b[39;49m\u001b[38;5;241;43m*\u001b[39;49m\u001b[43mkwargs\u001b[49m\u001b[43m)\u001b[49m\n",
      "File \u001b[1;32md:\\PycharmProjects\\CF-Robustness-Benchmark\\venv\\Lib\\site-packages\\torch\\nn\\modules\\module.py:1750\u001b[0m, in \u001b[0;36mModule._call_impl\u001b[1;34m(self, *args, **kwargs)\u001b[0m\n\u001b[0;32m   1745\u001b[0m \u001b[38;5;66;03m# If we don't have any hooks, we want to skip the rest of the logic in\u001b[39;00m\n\u001b[0;32m   1746\u001b[0m \u001b[38;5;66;03m# this function, and just call forward.\u001b[39;00m\n\u001b[0;32m   1747\u001b[0m \u001b[38;5;28;01mif\u001b[39;00m \u001b[38;5;129;01mnot\u001b[39;00m (\u001b[38;5;28mself\u001b[39m\u001b[38;5;241m.\u001b[39m_backward_hooks \u001b[38;5;129;01mor\u001b[39;00m \u001b[38;5;28mself\u001b[39m\u001b[38;5;241m.\u001b[39m_backward_pre_hooks \u001b[38;5;129;01mor\u001b[39;00m \u001b[38;5;28mself\u001b[39m\u001b[38;5;241m.\u001b[39m_forward_hooks \u001b[38;5;129;01mor\u001b[39;00m \u001b[38;5;28mself\u001b[39m\u001b[38;5;241m.\u001b[39m_forward_pre_hooks\n\u001b[0;32m   1748\u001b[0m         \u001b[38;5;129;01mor\u001b[39;00m _global_backward_pre_hooks \u001b[38;5;129;01mor\u001b[39;00m _global_backward_hooks\n\u001b[0;32m   1749\u001b[0m         \u001b[38;5;129;01mor\u001b[39;00m _global_forward_hooks \u001b[38;5;129;01mor\u001b[39;00m _global_forward_pre_hooks):\n\u001b[1;32m-> 1750\u001b[0m     \u001b[38;5;28;01mreturn\u001b[39;00m \u001b[43mforward_call\u001b[49m\u001b[43m(\u001b[49m\u001b[38;5;241;43m*\u001b[39;49m\u001b[43margs\u001b[49m\u001b[43m,\u001b[49m\u001b[43m \u001b[49m\u001b[38;5;241;43m*\u001b[39;49m\u001b[38;5;241;43m*\u001b[39;49m\u001b[43mkwargs\u001b[49m\u001b[43m)\u001b[49m\n\u001b[0;32m   1752\u001b[0m result \u001b[38;5;241m=\u001b[39m \u001b[38;5;28;01mNone\u001b[39;00m\n\u001b[0;32m   1753\u001b[0m called_always_called_hooks \u001b[38;5;241m=\u001b[39m \u001b[38;5;28mset\u001b[39m()\n",
      "File \u001b[1;32md:\\pycharmprojects\\cf-robustness-benchmark\\src\\cf_methods\\c3lt\\models.py:121\u001b[0m, in \u001b[0;36mGenerator.forward\u001b[1;34m(self, input)\u001b[0m\n\u001b[0;32m    119\u001b[0m     output \u001b[38;5;241m=\u001b[39m nn\u001b[38;5;241m.\u001b[39mparallel\u001b[38;5;241m.\u001b[39mdata_parallel(\u001b[38;5;28mself\u001b[39m\u001b[38;5;241m.\u001b[39mmain, \u001b[38;5;28minput\u001b[39m, \u001b[38;5;28mrange\u001b[39m(\u001b[38;5;28mself\u001b[39m\u001b[38;5;241m.\u001b[39mngpu))\n\u001b[0;32m    120\u001b[0m \u001b[38;5;28;01melse\u001b[39;00m:\n\u001b[1;32m--> 121\u001b[0m     output \u001b[38;5;241m=\u001b[39m \u001b[38;5;28;43mself\u001b[39;49m\u001b[38;5;241;43m.\u001b[39;49m\u001b[43mmain\u001b[49m\u001b[43m(\u001b[49m\u001b[38;5;28;43minput\u001b[39;49m\u001b[43m)\u001b[49m\n\u001b[0;32m    122\u001b[0m \u001b[38;5;28;01mreturn\u001b[39;00m output\n",
      "File \u001b[1;32md:\\PycharmProjects\\CF-Robustness-Benchmark\\venv\\Lib\\site-packages\\torch\\nn\\modules\\module.py:1739\u001b[0m, in \u001b[0;36mModule._wrapped_call_impl\u001b[1;34m(self, *args, **kwargs)\u001b[0m\n\u001b[0;32m   1737\u001b[0m     \u001b[38;5;28;01mreturn\u001b[39;00m \u001b[38;5;28mself\u001b[39m\u001b[38;5;241m.\u001b[39m_compiled_call_impl(\u001b[38;5;241m*\u001b[39margs, \u001b[38;5;241m*\u001b[39m\u001b[38;5;241m*\u001b[39mkwargs)  \u001b[38;5;66;03m# type: ignore[misc]\u001b[39;00m\n\u001b[0;32m   1738\u001b[0m \u001b[38;5;28;01melse\u001b[39;00m:\n\u001b[1;32m-> 1739\u001b[0m     \u001b[38;5;28;01mreturn\u001b[39;00m \u001b[38;5;28;43mself\u001b[39;49m\u001b[38;5;241;43m.\u001b[39;49m\u001b[43m_call_impl\u001b[49m\u001b[43m(\u001b[49m\u001b[38;5;241;43m*\u001b[39;49m\u001b[43margs\u001b[49m\u001b[43m,\u001b[49m\u001b[43m \u001b[49m\u001b[38;5;241;43m*\u001b[39;49m\u001b[38;5;241;43m*\u001b[39;49m\u001b[43mkwargs\u001b[49m\u001b[43m)\u001b[49m\n",
      "File \u001b[1;32md:\\PycharmProjects\\CF-Robustness-Benchmark\\venv\\Lib\\site-packages\\torch\\nn\\modules\\module.py:1750\u001b[0m, in \u001b[0;36mModule._call_impl\u001b[1;34m(self, *args, **kwargs)\u001b[0m\n\u001b[0;32m   1745\u001b[0m \u001b[38;5;66;03m# If we don't have any hooks, we want to skip the rest of the logic in\u001b[39;00m\n\u001b[0;32m   1746\u001b[0m \u001b[38;5;66;03m# this function, and just call forward.\u001b[39;00m\n\u001b[0;32m   1747\u001b[0m \u001b[38;5;28;01mif\u001b[39;00m \u001b[38;5;129;01mnot\u001b[39;00m (\u001b[38;5;28mself\u001b[39m\u001b[38;5;241m.\u001b[39m_backward_hooks \u001b[38;5;129;01mor\u001b[39;00m \u001b[38;5;28mself\u001b[39m\u001b[38;5;241m.\u001b[39m_backward_pre_hooks \u001b[38;5;129;01mor\u001b[39;00m \u001b[38;5;28mself\u001b[39m\u001b[38;5;241m.\u001b[39m_forward_hooks \u001b[38;5;129;01mor\u001b[39;00m \u001b[38;5;28mself\u001b[39m\u001b[38;5;241m.\u001b[39m_forward_pre_hooks\n\u001b[0;32m   1748\u001b[0m         \u001b[38;5;129;01mor\u001b[39;00m _global_backward_pre_hooks \u001b[38;5;129;01mor\u001b[39;00m _global_backward_hooks\n\u001b[0;32m   1749\u001b[0m         \u001b[38;5;129;01mor\u001b[39;00m _global_forward_hooks \u001b[38;5;129;01mor\u001b[39;00m _global_forward_pre_hooks):\n\u001b[1;32m-> 1750\u001b[0m     \u001b[38;5;28;01mreturn\u001b[39;00m \u001b[43mforward_call\u001b[49m\u001b[43m(\u001b[49m\u001b[38;5;241;43m*\u001b[39;49m\u001b[43margs\u001b[49m\u001b[43m,\u001b[49m\u001b[43m \u001b[49m\u001b[38;5;241;43m*\u001b[39;49m\u001b[38;5;241;43m*\u001b[39;49m\u001b[43mkwargs\u001b[49m\u001b[43m)\u001b[49m\n\u001b[0;32m   1752\u001b[0m result \u001b[38;5;241m=\u001b[39m \u001b[38;5;28;01mNone\u001b[39;00m\n\u001b[0;32m   1753\u001b[0m called_always_called_hooks \u001b[38;5;241m=\u001b[39m \u001b[38;5;28mset\u001b[39m()\n",
      "File \u001b[1;32md:\\PycharmProjects\\CF-Robustness-Benchmark\\venv\\Lib\\site-packages\\torch\\nn\\modules\\container.py:250\u001b[0m, in \u001b[0;36mSequential.forward\u001b[1;34m(self, input)\u001b[0m\n\u001b[0;32m    248\u001b[0m \u001b[38;5;28;01mdef\u001b[39;00m\u001b[38;5;250m \u001b[39m\u001b[38;5;21mforward\u001b[39m(\u001b[38;5;28mself\u001b[39m, \u001b[38;5;28minput\u001b[39m):\n\u001b[0;32m    249\u001b[0m     \u001b[38;5;28;01mfor\u001b[39;00m module \u001b[38;5;129;01min\u001b[39;00m \u001b[38;5;28mself\u001b[39m:\n\u001b[1;32m--> 250\u001b[0m         \u001b[38;5;28minput\u001b[39m \u001b[38;5;241m=\u001b[39m \u001b[43mmodule\u001b[49m\u001b[43m(\u001b[49m\u001b[38;5;28;43minput\u001b[39;49m\u001b[43m)\u001b[49m\n\u001b[0;32m    251\u001b[0m     \u001b[38;5;28;01mreturn\u001b[39;00m \u001b[38;5;28minput\u001b[39m\n",
      "File \u001b[1;32md:\\PycharmProjects\\CF-Robustness-Benchmark\\venv\\Lib\\site-packages\\torch\\nn\\modules\\module.py:1739\u001b[0m, in \u001b[0;36mModule._wrapped_call_impl\u001b[1;34m(self, *args, **kwargs)\u001b[0m\n\u001b[0;32m   1737\u001b[0m     \u001b[38;5;28;01mreturn\u001b[39;00m \u001b[38;5;28mself\u001b[39m\u001b[38;5;241m.\u001b[39m_compiled_call_impl(\u001b[38;5;241m*\u001b[39margs, \u001b[38;5;241m*\u001b[39m\u001b[38;5;241m*\u001b[39mkwargs)  \u001b[38;5;66;03m# type: ignore[misc]\u001b[39;00m\n\u001b[0;32m   1738\u001b[0m \u001b[38;5;28;01melse\u001b[39;00m:\n\u001b[1;32m-> 1739\u001b[0m     \u001b[38;5;28;01mreturn\u001b[39;00m \u001b[38;5;28;43mself\u001b[39;49m\u001b[38;5;241;43m.\u001b[39;49m\u001b[43m_call_impl\u001b[49m\u001b[43m(\u001b[49m\u001b[38;5;241;43m*\u001b[39;49m\u001b[43margs\u001b[49m\u001b[43m,\u001b[49m\u001b[43m \u001b[49m\u001b[38;5;241;43m*\u001b[39;49m\u001b[38;5;241;43m*\u001b[39;49m\u001b[43mkwargs\u001b[49m\u001b[43m)\u001b[49m\n",
      "File \u001b[1;32md:\\PycharmProjects\\CF-Robustness-Benchmark\\venv\\Lib\\site-packages\\torch\\nn\\modules\\module.py:1750\u001b[0m, in \u001b[0;36mModule._call_impl\u001b[1;34m(self, *args, **kwargs)\u001b[0m\n\u001b[0;32m   1745\u001b[0m \u001b[38;5;66;03m# If we don't have any hooks, we want to skip the rest of the logic in\u001b[39;00m\n\u001b[0;32m   1746\u001b[0m \u001b[38;5;66;03m# this function, and just call forward.\u001b[39;00m\n\u001b[0;32m   1747\u001b[0m \u001b[38;5;28;01mif\u001b[39;00m \u001b[38;5;129;01mnot\u001b[39;00m (\u001b[38;5;28mself\u001b[39m\u001b[38;5;241m.\u001b[39m_backward_hooks \u001b[38;5;129;01mor\u001b[39;00m \u001b[38;5;28mself\u001b[39m\u001b[38;5;241m.\u001b[39m_backward_pre_hooks \u001b[38;5;129;01mor\u001b[39;00m \u001b[38;5;28mself\u001b[39m\u001b[38;5;241m.\u001b[39m_forward_hooks \u001b[38;5;129;01mor\u001b[39;00m \u001b[38;5;28mself\u001b[39m\u001b[38;5;241m.\u001b[39m_forward_pre_hooks\n\u001b[0;32m   1748\u001b[0m         \u001b[38;5;129;01mor\u001b[39;00m _global_backward_pre_hooks \u001b[38;5;129;01mor\u001b[39;00m _global_backward_hooks\n\u001b[0;32m   1749\u001b[0m         \u001b[38;5;129;01mor\u001b[39;00m _global_forward_hooks \u001b[38;5;129;01mor\u001b[39;00m _global_forward_pre_hooks):\n\u001b[1;32m-> 1750\u001b[0m     \u001b[38;5;28;01mreturn\u001b[39;00m \u001b[43mforward_call\u001b[49m\u001b[43m(\u001b[49m\u001b[38;5;241;43m*\u001b[39;49m\u001b[43margs\u001b[49m\u001b[43m,\u001b[49m\u001b[43m \u001b[49m\u001b[38;5;241;43m*\u001b[39;49m\u001b[38;5;241;43m*\u001b[39;49m\u001b[43mkwargs\u001b[49m\u001b[43m)\u001b[49m\n\u001b[0;32m   1752\u001b[0m result \u001b[38;5;241m=\u001b[39m \u001b[38;5;28;01mNone\u001b[39;00m\n\u001b[0;32m   1753\u001b[0m called_always_called_hooks \u001b[38;5;241m=\u001b[39m \u001b[38;5;28mset\u001b[39m()\n",
      "File \u001b[1;32md:\\PycharmProjects\\CF-Robustness-Benchmark\\venv\\Lib\\site-packages\\torch\\nn\\modules\\conv.py:1162\u001b[0m, in \u001b[0;36mConvTranspose2d.forward\u001b[1;34m(self, input, output_size)\u001b[0m\n\u001b[0;32m   1151\u001b[0m num_spatial_dims \u001b[38;5;241m=\u001b[39m \u001b[38;5;241m2\u001b[39m\n\u001b[0;32m   1152\u001b[0m output_padding \u001b[38;5;241m=\u001b[39m \u001b[38;5;28mself\u001b[39m\u001b[38;5;241m.\u001b[39m_output_padding(\n\u001b[0;32m   1153\u001b[0m     \u001b[38;5;28minput\u001b[39m,\n\u001b[0;32m   1154\u001b[0m     output_size,\n\u001b[1;32m   (...)\u001b[0m\n\u001b[0;32m   1159\u001b[0m     \u001b[38;5;28mself\u001b[39m\u001b[38;5;241m.\u001b[39mdilation,  \u001b[38;5;66;03m# type: ignore[arg-type]\u001b[39;00m\n\u001b[0;32m   1160\u001b[0m )\n\u001b[1;32m-> 1162\u001b[0m \u001b[38;5;28;01mreturn\u001b[39;00m \u001b[43mF\u001b[49m\u001b[38;5;241;43m.\u001b[39;49m\u001b[43mconv_transpose2d\u001b[49m\u001b[43m(\u001b[49m\n\u001b[0;32m   1163\u001b[0m \u001b[43m    \u001b[49m\u001b[38;5;28;43minput\u001b[39;49m\u001b[43m,\u001b[49m\n\u001b[0;32m   1164\u001b[0m \u001b[43m    \u001b[49m\u001b[38;5;28;43mself\u001b[39;49m\u001b[38;5;241;43m.\u001b[39;49m\u001b[43mweight\u001b[49m\u001b[43m,\u001b[49m\n\u001b[0;32m   1165\u001b[0m \u001b[43m    \u001b[49m\u001b[38;5;28;43mself\u001b[39;49m\u001b[38;5;241;43m.\u001b[39;49m\u001b[43mbias\u001b[49m\u001b[43m,\u001b[49m\n\u001b[0;32m   1166\u001b[0m \u001b[43m    \u001b[49m\u001b[38;5;28;43mself\u001b[39;49m\u001b[38;5;241;43m.\u001b[39;49m\u001b[43mstride\u001b[49m\u001b[43m,\u001b[49m\n\u001b[0;32m   1167\u001b[0m \u001b[43m    \u001b[49m\u001b[38;5;28;43mself\u001b[39;49m\u001b[38;5;241;43m.\u001b[39;49m\u001b[43mpadding\u001b[49m\u001b[43m,\u001b[49m\n\u001b[0;32m   1168\u001b[0m \u001b[43m    \u001b[49m\u001b[43moutput_padding\u001b[49m\u001b[43m,\u001b[49m\n\u001b[0;32m   1169\u001b[0m \u001b[43m    \u001b[49m\u001b[38;5;28;43mself\u001b[39;49m\u001b[38;5;241;43m.\u001b[39;49m\u001b[43mgroups\u001b[49m\u001b[43m,\u001b[49m\n\u001b[0;32m   1170\u001b[0m \u001b[43m    \u001b[49m\u001b[38;5;28;43mself\u001b[39;49m\u001b[38;5;241;43m.\u001b[39;49m\u001b[43mdilation\u001b[49m\u001b[43m,\u001b[49m\n\u001b[0;32m   1171\u001b[0m \u001b[43m\u001b[49m\u001b[43m)\u001b[49m\n",
      "\u001b[1;31mKeyboardInterrupt\u001b[0m: "
     ]
    }
   ],
   "source": [
    "c3lt.train.train_c3lt(args, [dataloaders, dataloaders_test])"
   ]
  },
  {
   "cell_type": "markdown",
   "metadata": {},
   "source": [
    "# Robustness evaluation"
   ]
  },
  {
   "cell_type": "code",
   "execution_count": 7,
   "metadata": {},
   "outputs": [],
   "source": [
    "from src.cf_methods.c3lt import C3LTModel"
   ]
  },
  {
   "cell_type": "code",
   "execution_count": 47,
   "metadata": {},
   "outputs": [
    {
     "name": "stdout",
     "output_type": "stream",
     "text": [
      "Classifier loaded!\n",
      "Generator loaded!\n",
      "Discriminator loaded!\n",
      "Encoder loaded!\n"
     ]
    }
   ],
   "source": [
    "expl_model = C3LTModel(args)\n",
    "expl_model.setup_model(mapper_weights_path=osp.join(args.output, 'snaps', 'map_0_to_1_0.pt'))\n",
    "baseline_classifier = expl_model.classifier"
   ]
  },
  {
   "cell_type": "code",
   "execution_count": 48,
   "metadata": {},
   "outputs": [],
   "source": [
    "factuals, labels = extract_factual_instances(test_loader, [args.cls_1])\n",
    "factuals, labels = filter_valid_factuals(factuals, labels, baseline_classifier, device)"
   ]
  },
  {
   "cell_type": "markdown",
   "metadata": {},
   "source": [
    "## Local Instability"
   ]
  },
  {
   "cell_type": "code",
   "execution_count": 49,
   "metadata": {},
   "outputs": [],
   "source": [
    "from src.evaluation.local_instability import calculate_ssim, calculate_sparsity\n",
    "from src.utils import plot_perturbed_factuals_and_cf\n",
    "from functools import reduce"
   ]
  },
  {
   "cell_type": "code",
   "execution_count": null,
   "metadata": {},
   "outputs": [],
   "source": [
    "save_dir = osp.join(repo_path, 'cf_output/mnist/c3lt_binary')\n",
    "n = 100\n",
    "noise_levels = [0.001, 0.0025, 0.005, 0.0075, 0.01]"
   ]
  },
  {
   "cell_type": "code",
   "execution_count": null,
   "metadata": {},
   "outputs": [
    {
     "name": "stdout",
     "output_type": "stream",
     "text": [
      "Number of valid perturbed factuals for the added noise level 0.001:  1132\n",
      "Number of valid perturbed factuals for the added noise level 0.0025:  1132\n",
      "Number of valid perturbed factuals for the added noise level 0.005:  1132\n",
      "Number of valid perturbed factuals for the added noise level 0.0075:  1131\n",
      "Number of valid perturbed factuals for the added noise level 0.01:  1131\n"
     ]
    }
   ],
   "source": [
    "factuals_pert = {}    \n",
    "indices_pert = {}\n",
    "\n",
    "for noise_level in noise_levels:\n",
    "    factuals_pert[noise_level] = perturb_sample(factuals, n_samples=1, noise_magnitude=noise_level)\n",
    "    pert_sample = torch.Tensor(factuals_pert[noise_level])\n",
    "\n",
    "    # Check whether perturbed instances lead to the same class prediction\n",
    "    predictions = torch.argmax(baseline_classifier(pert_sample.to(device)), axis=1).detach().cpu()\n",
    "    indices = np.where(predictions == labels)[0]\n",
    "    print(f'Number of valid perturbed factuals for the added noise level {noise_level}: ', indices.shape[0])\n",
    "    pert_sample = pert_sample[indices] \n",
    "    indices_pert[noise_level] = indices"
   ]
  },
  {
   "cell_type": "code",
   "execution_count": 52,
   "metadata": {},
   "outputs": [],
   "source": [
    "final_indices = reduce(np.intersect1d, list(indices_pert.values()))[:n]\n",
    "factuals = factuals[final_indices] \n",
    "labels = labels[final_indices]\n",
    "factuals_pert = {k : v[final_indices] for k, v in factuals_pert.items()}"
   ]
  },
  {
   "cell_type": "markdown",
   "metadata": {},
   "source": [
    "Generating counterfactrual explanations and evaluate their  validity  "
   ]
  },
  {
   "cell_type": "code",
   "execution_count": 53,
   "metadata": {},
   "outputs": [],
   "source": [
    "factuals = factuals.to(device)\n",
    "cfes = expl_model.get_counterfactuals(factuals)"
   ]
  },
  {
   "cell_type": "code",
   "execution_count": 54,
   "metadata": {},
   "outputs": [
    {
     "name": "stdout",
     "output_type": "stream",
     "text": [
      "Validity of the generated explanations: 1.0\n"
     ]
    }
   ],
   "source": [
    "validity = np.where(torch.argmax(baseline_classifier(cfes), axis=1).detach().cpu() == 1)[0]\n",
    "validity = validity.shape[0] / cfes.shape[0]\n",
    "print('Validity of the generated explanations:', validity)"
   ]
  },
  {
   "cell_type": "code",
   "execution_count": 55,
   "metadata": {},
   "outputs": [],
   "source": [
    "cfes_pert = {}\n",
    "\n",
    "for noise_level in noise_levels:\n",
    "    pert_sample = torch.Tensor(factuals_pert[noise_level]).to(device)\n",
    "    cfes_pert[noise_level] = expl_model.get_counterfactuals(pert_sample) "
   ]
  },
  {
   "cell_type": "code",
   "execution_count": 56,
   "metadata": {},
   "outputs": [
    {
     "name": "stdout",
     "output_type": "stream",
     "text": [
      "Validity for the added noise level 0.001:  1.0\n",
      "Validity for the added noise level 0.0025:  1.0\n",
      "Validity for the added noise level 0.005:  1.0\n",
      "Validity for the added noise level 0.0075:  1.0\n",
      "Validity for the added noise level 0.01:  1.0\n"
     ]
    }
   ],
   "source": [
    "target_class = 1\n",
    "\n",
    "validity_dict = {}\n",
    "for noise_level in noise_levels:\n",
    "    predictions = torch.argmax(baseline_classifier(torch.Tensor(cfes_pert[noise_level])), axis=1).detach().cpu()\n",
    "    indices = np.where(predictions == target_class)[0]\n",
    "    validity = indices.shape[0] / predictions.shape[0]\n",
    "    validity_dict[noise_level] = validity\n",
    "    print(f'Validity for the added noise level {noise_level}: ',  validity)\n",
    "\n",
    "with open(osp.join(save_dir, 'mnist_1_7_validity.pkl'), 'wb') as f:\n",
    "    pickle.dump(validity_dict, f)"
   ]
  },
  {
   "cell_type": "code",
   "execution_count": 57,
   "metadata": {},
   "outputs": [
    {
     "data": {
      "image/png": "[encoded data removed]",
      "text/plain": [
       "<Figure size 1000x400 with 12 Axes>"
      ]
     },
     "metadata": {},
     "output_type": "display_data"
    }
   ],
   "source": [
    "ind = 25\n",
    "factuals_pert_list = [factuals_pert[noise_level][ind] for noise_level in noise_levels]\n",
    "cfes_pert_list = [cfes_pert[noise_level][ind] for noise_level in noise_levels]\n",
    "plot_perturbed_factuals_and_cf(factuals[ind], factuals_pert_list, \n",
    "                               cfes[ind], cfes_pert_list,\n",
    "                               noise_levels)"
   ]
  },
  {
   "cell_type": "code",
   "execution_count": 59,
   "metadata": {},
   "outputs": [],
   "source": [
    "instability_l1_list = []\n",
    "ssim_list = []\n",
    "\n",
    "for noise_level, cfe_pert_list in cfes_pert.items():\n",
    "    # print('noise level:', noise_level)\n",
    "    l1_temp = []\n",
    "    ssim_temp = []\n",
    "    for i in range(len(cfes)):\n",
    "        cf = cfes[i].detach().cpu()\n",
    "        cf_pert = cfe_pert_list[i].detach().cpu()\n",
    "\n",
    "        if len(cf) == 0:\n",
    "            continue\n",
    "        if len(cf_pert) == 0:\n",
    "            continue\n",
    "\n",
    "        cf_tensor = torch.Tensor(cf)\n",
    "        cf = cf_tensor.permute(1, 2, 0).flatten()\n",
    "\n",
    "        cf_pert_tensor = torch.Tensor(cf_pert)\n",
    "        cf_perturbed = cf_pert_tensor.permute(1, 2, 0).flatten()        \n",
    "\n",
    "        l1_distance =  calculate_sparsity(cf, cf_perturbed).item()\n",
    "        l1_temp.append(l1_distance)\n",
    "\n",
    "        ssim = calculate_ssim(cf_tensor.unsqueeze(0), cf_pert_tensor.unsqueeze(0)).item()\n",
    "        ssim_temp.append(ssim)\n",
    "\n",
    "    instability_l1_list.append(l1_temp)\n",
    "    ssim_list.append(ssim_temp)\n",
    "        \n",
    "\n",
    "# with open(osp.join(save_dir, 'mnist_1_7_li_l1.pkl'), 'wb') as f:\n",
    "#     pickle.dump(instability_l1_list, f)\n",
    "\n",
    "# with open(osp.join(save_dir, 'mnsut_1_7_ssim.pkl'), 'wb') as f:\n",
    "#     pickle.dump(ssim_list, f)"
   ]
  },
  {
   "cell_type": "code",
   "execution_count": 63,
   "metadata": {},
   "outputs": [
    {
     "data": {
      "image/png": "[encoded data removed]",
      "text/plain": [
       "<Figure size 800x550 with 1 Axes>"
      ]
     },
     "metadata": {},
     "output_type": "display_data"
    }
   ],
   "source": [
    "plt.style.use(\"seaborn-v0_8-bright\")\n",
    "\n",
    "\n",
    "plot_boxplot(data=instability_l1_list, mean_values=np.round(np.mean(instability_l1_list, axis=1), 2),\n",
    "             tick_labels=[f'eps={noise_level}' for noise_level in noise_levels],\n",
    "             y_label='Local Instability', colors=['lightyellow'], title='L1 distance between CFEs of similar inputs')"
   ]
  },
  {
   "cell_type": "code",
   "execution_count": 64,
   "metadata": {},
   "outputs": [
    {
     "data": {
      "image/png": "[encoded data removed]",
      "text/plain": [
       "<Figure size 800x400 with 1 Axes>"
      ]
     },
     "metadata": {},
     "output_type": "display_data"
    }
   ],
   "source": [
    "plt.rcParams['figure.figsize'] = [8, 4]\n",
    "\n",
    "plot_boxplot(data=ssim_list, mean_values=np.round(np.mean(ssim_list, axis=1), 2),\n",
    "             tick_labels=[f'eps={noise_level}' for noise_level in noise_levels],\n",
    "             y_label='Local Instability', colors=['lightgreen'], title='SSIM between CFEs of similar inputs')"
   ]
  },
  {
   "cell_type": "markdown",
   "metadata": {},
   "source": [
    "## Local Lipschitz Continuity"
   ]
  },
  {
   "cell_type": "code",
   "execution_count": 30,
   "metadata": {},
   "outputs": [
    {
     "name": "stdout",
     "output_type": "stream",
     "text": [
      "Are the lengths of initial points (factuals) and CFEs generated for them equal : True\n"
     ]
    }
   ],
   "source": [
    "original_points = factuals # factuals_tensor[:n]\n",
    "original_cfes = cfes\n",
    "print(\"Are the lengths of initial points (factuals) and CFEs generated for them equal :\", len(original_cfes) == original_points.shape[0])\n"
   ]
  },
  {
   "cell_type": "code",
   "execution_count": null,
   "metadata": {},
   "outputs": [
    {
     "name": "stderr",
     "output_type": "stream",
     "text": [
      "30it [00:00, 20760.46it/s]\n",
      "30it [00:00, 21432.31it/s]\n",
      "30it [00:00, 25564.63it/s]\n",
      "30it [00:00, 26681.32it/s]\n",
      "30it [00:00, 21254.92it/s]\n",
      "30it [00:00, 21355.93it/s]\n",
      "30it [00:00, 26296.58it/s]\n",
      "30it [00:00, 9171.22it/s]\n",
      "30it [00:00, 22729.25it/s]\n",
      "30it [00:00, 26357.17it/s]\n",
      "30it [00:00, 22223.44it/s]\n",
      "30it [00:00, 21898.56it/s]\n",
      "30it [00:00, 22353.73it/s]\n",
      "30it [00:00, 21998.10it/s]\n",
      "30it [00:00, 22700.54it/s]\n",
      "30it [00:00, 22117.97it/s]\n",
      "30it [00:00, 26143.59it/s]\n",
      "30it [00:00, 22509.68it/s]\n",
      "30it [00:00, 22623.00it/s]\n",
      "30it [00:00, 22558.11it/s]\n",
      "30it [00:00, 22708.74it/s]\n",
      "30it [00:00, 23168.68it/s]\n",
      "30it [00:00, 25960.21it/s]\n",
      "30it [00:00, 22219.52it/s]\n",
      "30it [00:00, 22437.43it/s]\n",
      "30it [00:00, 22353.73it/s]\n",
      "30it [00:00, 22623.00it/s]\n",
      "30it [00:00, 22680.09it/s]\n",
      "30it [00:00, 22778.62it/s]\n",
      "30it [00:00, 4984.52it/s]\n",
      "30it [00:00, 22610.80it/s]\n",
      "30it [00:00, 22725.14it/s]\n",
      "30it [00:00, 22659.67it/s]\n",
      "30it [00:00, 22341.82it/s]\n",
      "30it [00:00, 22795.13it/s]\n",
      "30it [00:00, 22433.43it/s]\n",
      "30it [00:00, 26551.83it/s]\n",
      "30it [00:00, 22944.77it/s]\n",
      "30it [00:00, 22322.00it/s]\n",
      "30it [00:00, 22558.11it/s]\n",
      "30it [00:00, 26886.56it/s]\n",
      "30it [00:00, 26703.97it/s]\n",
      "30it [00:00, 21932.91it/s]\n",
      "30it [00:00, 26641.78it/s]\n",
      "30it [00:00, 22278.53it/s]\n",
      "30it [00:00, 16037.36it/s]\n",
      "30it [00:00, 21605.27it/s]\n",
      "30it [00:00, 20968.03it/s]\n",
      "30it [00:00, 19334.53it/s]\n",
      "30it [00:00, 19716.25it/s]\n",
      "50it [00:10,  4.57it/s]\n"
     ]
    }
   ],
   "source": [
    "from tqdm import tqdm\n",
    "\n",
    "\n",
    "i = 0\n",
    "lip_estimates = []\n",
    "noise_magnitude = 0.001\n",
    "\n",
    "original_points = original_points.detach().cpu()\n",
    "original_cfes = original_cfes.detach().cpu()\n",
    "for original_point, original_cfe in tqdm(zip(original_points[:50], original_cfes[:50])):\n",
    "\n",
    "    neighbor_points = perturb_sample(original_point.unsqueeze(0), n_samples=30, noise_magnitude=noise_magnitude) \n",
    "    neighbor_points = torch.Tensor(neighbor_points).to(device)  \n",
    "    neighbor_cfes = expl_model.get_counterfactuals(neighbor_points).detach().cpu() \n",
    "    \n",
    "\n",
    "    lip_estimate = 0\n",
    "    for m, p in tqdm(zip(neighbor_cfes, neighbor_points)):\n",
    "        num = np.linalg.norm((original_cfe - m).flatten(), ord=2) \n",
    "        denom = np.linalg.norm((original_point - p).flatten(), ord=2)\n",
    "        lip = num / denom\n",
    "        lip_estimate = max(lip, lip_estimate)\n",
    " \n",
    "    lip_estimates.append(lip_estimate.item())\n",
    "    i += 1"
   ]
  },
  {
   "cell_type": "code",
   "execution_count": null,
   "metadata": {},
   "outputs": [],
   "source": [
    "with open(osp.join(save_dir, 'mnist_1_7_lle.pkl'), 'wb') as f:\n",
    "        pickle.dump(lip_estimates, f)"
   ]
  },
  {
   "cell_type": "code",
   "execution_count": null,
   "metadata": {},
   "outputs": [
    {
     "data": {
      "image/png": "[encoded data removed]",
      "text/plain": [
       "<Figure size 600x400 with 1 Axes>"
      ]
     },
     "metadata": {},
     "output_type": "display_data"
    }
   ],
   "source": [
    "plt.rcParams['figure.figsize'] = [6, 4]\n",
    "plot_boxplot(data=lip_estimates, mean_values=[np.round(np.mean(lip_estimates), 5)],\n",
    "             tick_labels=[''],\n",
    "             y_label='Local Lipschitz Continuity', colors=['lightpink'], title='')"
   ]
  },
  {
   "cell_type": "code",
   "execution_count": null,
   "metadata": {},
   "outputs": [],
   "source": []
  },
  {
   "cell_type": "markdown",
   "metadata": {},
   "source": [
    "## Invalidation Rate"
   ]
  },
  {
   "cell_type": "code",
   "execution_count": 68,
   "metadata": {},
   "outputs": [
    {
     "name": "stdout",
     "output_type": "stream",
     "text": [
      "Accuracy for the test dataset: 99.632%\n",
      "Accuracy for the test dataset: 99.173%\n",
      "Accuracy for the test dataset: 99.311%\n",
      "Accuracy for the test dataset: 99.403%\n",
      "Accuracy for the test dataset: 99.311%\n",
      "Accuracy for the test dataset: 99.540%\n",
      "Accuracy for the test dataset: 99.311%\n",
      "Accuracy for the test dataset: 99.494%\n",
      "Accuracy for the test dataset: 99.586%\n",
      "Accuracy for the test dataset: 99.449%\n"
     ]
    }
   ],
   "source": [
    "classifiers_weights_dir = osp.join(repo_path, r'notebooks/experiments/mnist_classification/binary/checkpoints/mc_1_7')\n",
    "\n",
    "\n",
    "classifiers_list = []\n",
    "for clf_weights in os.listdir(classifiers_weights_dir):\n",
    "    cnn_perturbed = SimpleCNNtorch(**args.classifier_args)\n",
    "    load_model_weights(model=cnn_perturbed, weights_path=osp.join(classifiers_weights_dir, clf_weights), lightning_used=True)\n",
    "    classifiers_list.append(cnn_perturbed)\n",
    "    evaluate_classification_model(cnn_perturbed, dataloader=test_loader, num_classes=config.data.num_classes)"
   ]
  },
  {
   "cell_type": "code",
   "execution_count": null,
   "metadata": {},
   "outputs": [
    {
     "name": "stdout",
     "output_type": "stream",
     "text": [
      "Model 0: IR=0.0, validity=1.0\n",
      "\n",
      "Model 1: IR=0.0, validity=1.0\n",
      "\n",
      "Model 2: IR=0.0, validity=1.0\n",
      "\n",
      "Model 3: IR=0.0, validity=1.0\n",
      "\n",
      "Model 4: IR=0.0, validity=1.0\n",
      "\n",
      "Model 5: IR=0.0, validity=1.0\n",
      "\n",
      "Model 6: IR=0.0, validity=1.0\n",
      "\n",
      "Model 7: IR=0.0, validity=1.0\n",
      "\n",
      "Model 8: IR=0.0, validity=1.0\n",
      "\n",
      "Model 9: IR=0.0, validity=1.0\n",
      "\n",
      "Average IR : 0.000 +- 0.000\n",
      "Average VaR : 1.000 +- 0.000\n"
     ]
    }
   ],
   "source": [
    "target_class = 1\n",
    "validity_list = []\n",
    "invalidation_rate_list = []\n",
    "\n",
    "for i, classifier in enumerate(classifiers_list):\n",
    "    validity = 0\n",
    "    invalidation_rate = 0\n",
    "    total_found_cfs = 0\n",
    "    \n",
    "    classifier.eval()\n",
    "    with torch.no_grad():\n",
    "        classifier = classifier.to(device)\n",
    "\n",
    "        baseline_pred = torch.argmax(baseline_classifier(cfes), axis=1)\n",
    "        alternative_pred = torch.argmax(classifier(cfes), axis=1)\n",
    "    \n",
    "    invalidation_rate = np.where(baseline_pred.detach().cpu() != alternative_pred.detach().cpu())[0].shape[0] / baseline_pred.shape[0]\n",
    "    validity = np.where(alternative_pred.detach().cpu() == target_class)[0].shape[0] / alternative_pred.shape[0]\n",
    "\n",
    "    # invalidation_rate /= total_found_cfs\n",
    "    invalidation_rate_list.append(invalidation_rate)\n",
    "    validity_list.append(validity)\n",
    "    print(f'Model {i}: IR={invalidation_rate}, validity={validity}\\n')\n",
    "\n",
    "print('Average IR : {:.3f} +- {:.3f}'.format(np.mean(invalidation_rate_list), np.std(invalidation_rate_list)))\n",
    "print('Average VaR : {:.3f} +- {:.3f}'.format(np.mean(validity_list), np.std(validity_list)))"
   ]
  },
  {
   "cell_type": "markdown",
   "metadata": {},
   "source": [
    "## Stability\n"
   ]
  },
  {
   "cell_type": "code",
   "execution_count": null,
   "metadata": {},
   "outputs": [],
   "source": [
    "k = 1000\n",
    "sigma = 0.001\n",
    "device = 'cuda' if torch.cuda.is_available() else 'cpu'\n",
    "\n",
    "average_stability_list = []\n",
    "for i, classifier in enumerate(classifiers_list):\n",
    "    stability_list = []\n",
    "    for cfe in cfes:\n",
    "\n",
    "        cfe = torch.Tensor(cfe).unsqueeze(0).detach().cpu()\n",
    "        cfe_sampled = torch.Tensor(perturb_sample(cfe, n_samples=k, noise_magnitude=sigma))\n",
    "\n",
    "        with torch.no_grad():\n",
    "            cf_logits = classifier(cfe.to(device))\n",
    "            cf_probabilities = F.softmax(cf_logits, dim=-1)[:, target_class]\n",
    "\n",
    "            cf_sampled_logits = classifier(cfe_sampled.to(device))\n",
    "            cf_sampled_probabilities = F.softmax(cf_sampled_logits, dim=-1)[:, target_class]\n",
    "        \n",
    "        model_variance = abs(cf_probabilities - cf_sampled_probabilities)\n",
    "\n",
    "        stability = (cf_sampled_probabilities - model_variance).mean()\n",
    "        stability_list.append(stability.item())\n",
    "\n",
    "    avg_i_stability = np.mean(stability_list)\n",
    "    print(f'Stability of the model {i}: {round(avg_i_stability.item(), 3)} +- {round(np.std(stability_list).item(), 2)}')\n",
    "    average_stability_list.append(avg_i_stability) "
   ]
  },
  {
   "cell_type": "code",
   "execution_count": 45,
   "metadata": {},
   "outputs": [
    {
     "name": "stdout",
     "output_type": "stream",
     "text": [
      "Average stability over 10 models: 0.6866\n"
     ]
    }
   ],
   "source": [
    "print(f'Average stability over {len(classifiers_list)} models:', np.mean(average_stability_list).round(4))"
   ]
  },
  {
   "cell_type": "code",
   "execution_count": null,
   "metadata": {},
   "outputs": [],
   "source": []
  }
 ],
 "metadata": {
  "kernelspec": {
   "display_name": "venv",
   "language": "python",
   "name": "python3"
  },
  "language_info": {
   "codemirror_mode": {
    "name": "ipython",
    "version": 3
   },
   "file_extension": ".py",
   "mimetype": "text/x-python",
   "name": "python",
   "nbconvert_exporter": "python",
   "pygments_lexer": "ipython3",
   "version": "3.11.7"
  }
 },
 "nbformat": 4,
 "nbformat_minor": 2
}
