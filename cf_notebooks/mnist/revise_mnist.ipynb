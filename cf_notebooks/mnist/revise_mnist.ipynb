{
 "cells": [
  {
   "cell_type": "code",
   "execution_count": 1,
   "id": "d037efbf",
   "metadata": {},
   "outputs": [
    {
     "name": "stderr",
     "output_type": "stream",
     "text": [
      "/data/leuven/365/vsc36567/miniconda3/lib/python3.12/site-packages/albumentations/__init__.py:28: UserWarning: A new version of Albumentations is available: '2.0.8' (you have '2.0.4'). Upgrade using: pip install -U albumentations. To disable automatic update checks, set the environment variable NO_ALBUMENTATIONS_UPDATE to 1.\n",
      "  check_for_updates()\n",
      "2025-05-28 00:24:23.329163: E external/local_xla/xla/stream_executor/cuda/cuda_fft.cc:467] Unable to register cuFFT factory: Attempting to register factory for plugin cuFFT when one has already been registered\n",
      "WARNING: All log messages before absl::InitializeLog() is called are written to STDERR\n",
      "E0000 00:00:1748384663.346928  683292 cuda_dnn.cc:8579] Unable to register cuDNN factory: Attempting to register factory for plugin cuDNN when one has already been registered\n",
      "E0000 00:00:1748384663.352216  683292 cuda_blas.cc:1407] Unable to register cuBLAS factory: Attempting to register factory for plugin cuBLAS when one has already been registered\n",
      "W0000 00:00:1748384663.366747  683292 computation_placer.cc:177] computation placer already registered. Please check linkage and avoid linking the same target more than once.\n",
      "W0000 00:00:1748384663.366766  683292 computation_placer.cc:177] computation placer already registered. Please check linkage and avoid linking the same target more than once.\n",
      "W0000 00:00:1748384663.366768  683292 computation_placer.cc:177] computation placer already registered. Please check linkage and avoid linking the same target more than once.\n",
      "W0000 00:00:1748384663.366770  683292 computation_placer.cc:177] computation placer already registered. Please check linkage and avoid linking the same target more than once.\n",
      "2025-05-28 00:24:23.371180: I tensorflow/core/platform/cpu_feature_guard.cc:210] This TensorFlow binary is optimized to use available CPU instructions in performance-critical operations.\n",
      "To enable the following instructions: AVX2 AVX512F FMA, in other operations, rebuild TensorFlow with the appropriate compiler flags.\n"
     ]
    }
   ],
   "source": [
    "import warnings\n",
    "\n",
    "import os\n",
    "import torch\n",
    "import pickle\n",
    "import numpy as np\n",
    "import os.path as osp\n",
    "from tqdm import tqdm\n",
    "\n",
    "from functools import reduce\n",
    "import torch.nn.functional as F\n",
    "import matplotlib.pyplot as plt\n",
    "\n",
    "from src.datasets import DatasetBuilder\n",
    "from src.models.classifiers import SimpleCNNtorch\n",
    "from src.models.vae import BetaVAE\n",
    "from src.cf_methods import Revise\n",
    "from src.evaluation.local_instability import perturb_sample\n",
    "from src.utils import extract_factual_instances, filter_valid_factuals\n",
    "from src.utils import seed_everything, get_config, load_model_weights\n",
    "from src.utils import evaluate_classification_model, plot_boxplot"
   ]
  },
  {
   "cell_type": "code",
   "execution_count": 22,
   "id": "f4d9f5ba",
   "metadata": {},
   "outputs": [],
   "source": [
    "seed_everything()\n",
    "warnings.filterwarnings(\"ignore\", category=UserWarning)"
   ]
  },
  {
   "cell_type": "code",
   "execution_count": 23,
   "id": "3019140f",
   "metadata": {},
   "outputs": [],
   "source": [
    "repo_path = '/data/leuven/365/vsc36567/CF-Robustness-Benchmark/'\n",
    "config_path = osp.join(repo_path, 'configs/revise_mnist_binary.yaml')\n",
    "# r\"D:\\PycharmProjects\\CF-Robustness-Benchmark\\configs\\revise_mnist_binary.yaml\"\n",
    "config = get_config(config_path)\n",
    "config.data_dir = osp.join(repo_path, config.data_dir)"
   ]
  },
  {
   "cell_type": "code",
   "execution_count": 36,
   "id": "7a67998e",
   "metadata": {},
   "outputs": [],
   "source": [
    "config.data.classes = [0, 1, 2, 3, 4, 5, 6, 7, 8, 9]\n",
    "config.data.num_classes = len(config.data.classes)\n",
    "config.vae.checkpoints_path = osp.join(repo_path, \"notebooks/experiments/mnist_vae/multiclass/checkpoints/mnist__epoch=05_total_loss=0.00.pth\")\n",
    "config.classifier.checkpoints_path = osp.join(repo_path,\"notebooks/experiments/mnist_classification/multiclass/checkpoints/mnist__epoch=08_val_accuracy=0.99.pth\")\n",
    "config.save_dir = osp.join(repo_path, 'cf_output/mnist/revise_multiclass')"
   ]
  },
  {
   "cell_type": "code",
   "execution_count": 25,
   "id": "7b394649",
   "metadata": {},
   "outputs": [],
   "source": [
    "ds_builder = DatasetBuilder(config)\n",
    "ds_builder.setup()\n",
    "train_loader, val_loader, test_loader = ds_builder.get_dataloaders()"
   ]
  },
  {
   "cell_type": "code",
   "execution_count": 38,
   "id": "9c8b1ad4",
   "metadata": {},
   "outputs": [],
   "source": [
    "os.makedirs(config.save_dir, exist_ok=True)\n",
    "class_names = ds_builder.class_encodings\n",
    "# classes4fname = (\"_\").join([str(i) for i in class_names.values()]) if config.data.num_classes == 2 else \"\"\n",
    "ds_name = config.data.name\n",
    "device = config.accelerator\n"
   ]
  },
  {
   "cell_type": "markdown",
   "id": "0871437d",
   "metadata": {},
   "source": [
    "### Load the classifier and VAE"
   ]
  },
  {
   "cell_type": "code",
   "execution_count": 26,
   "id": "978e66b6",
   "metadata": {},
   "outputs": [
    {
     "name": "stdout",
     "output_type": "stream",
     "text": [
      "Accuracy for the test dataset: 98.766%\n"
     ]
    }
   ],
   "source": [
    "device = config.accelerator\n",
    "baseline_classifier = SimpleCNNtorch(**config.classifier.args,\n",
    "                                    num_classes=config.data.num_classes,\n",
    "                                    img_size=config.data.img_size)\n",
    "load_model_weights(baseline_classifier, weights_path=config.classifier.checkpoints_path, lightning_used=True)\n",
    "evaluate_classification_model(baseline_classifier, test_loader, config.data.num_classes)\n",
    "baseline_classifier = baseline_classifier.to(device)"
   ]
  },
  {
   "cell_type": "code",
   "execution_count": 27,
   "id": "718fd699",
   "metadata": {},
   "outputs": [],
   "source": [
    "vae = BetaVAE(**config.vae.args, input_size=(config.data.img_size, config.data.img_size))\n",
    "load_model_weights(vae, weights_path=config.vae.checkpoints_path, lightning_used=True)"
   ]
  },
  {
   "cell_type": "code",
   "execution_count": 28,
   "id": "d09cdeaa",
   "metadata": {},
   "outputs": [
    {
     "data": {
      "image/png": "[encoded data removed]",
      "text/plain": [
       "<Figure size 1500x400 with 16 Axes>"
      ]
     },
     "metadata": {},
     "output_type": "display_data"
    }
   ],
   "source": [
    "vae = vae.to(device)\n",
    "vae.eval()\n",
    "with torch.no_grad():\n",
    "    images, _ = next(iter(test_loader))\n",
    "    images = images.to(device)\n",
    "\n",
    "    z, _ = vae.encoder(images)\n",
    "    recon_images = vae.decoder(z)\n",
    "    recon_images = recon_images.to(device)\n",
    "\n",
    "    # plot reconstructed images\n",
    "    _, axes = plt.subplots(2, 8, figsize=(15, 4))\n",
    "    for i in range(8):\n",
    "        axes[0, i].imshow(images[i].permute(1, 2, 0).cpu().squeeze(), cmap='gray')\n",
    "        axes[0, i].axis('off')\n",
    "        axes[1, i].imshow(recon_images[i].permute(1, 2, 0).cpu().squeeze(), cmap='gray')\n",
    "        axes[1, i].axis('off')"
   ]
  },
  {
   "cell_type": "markdown",
   "id": "479603ff",
   "metadata": {},
   "source": [
    "### Preparing factual test instances and their perturbed versions"
   ]
  },
  {
   "cell_type": "code",
   "execution_count": 29,
   "id": "a48ec5ec",
   "metadata": {},
   "outputs": [],
   "source": [
    "factuals, labels = extract_factual_instances(test_loader, init_class_idx=[3, 4, 9])\n",
    "factuals, labels = filter_valid_factuals(factuals, labels, baseline_classifier, device)"
   ]
  },
  {
   "cell_type": "code",
   "execution_count": 30,
   "id": "08ee3fff",
   "metadata": {},
   "outputs": [
    {
     "name": "stdout",
     "output_type": "stream",
     "text": [
      "Accuracy: 100%\n"
     ]
    }
   ],
   "source": [
    "# Checking for correctly predicted factuals \n",
    "preds = torch.argmax(baseline_classifier(factuals.to(device)), axis=1).detach().cpu()\n",
    "print('Accuracy: {:.0%}'.format(torch.where(preds == labels)[0].shape[0] / factuals.shape[0]))"
   ]
  },
  {
   "cell_type": "code",
   "execution_count": 31,
   "id": "0e8d9034",
   "metadata": {},
   "outputs": [],
   "source": [
    "noise_magnitudes = [0.001, 0.0025, 0.005, 0.0075, 0.01]"
   ]
  },
  {
   "cell_type": "markdown",
   "id": "439a284f",
   "metadata": {},
   "source": [
    "Prepare perturbed factual instances for the generation of CFEs. We need those perturbed factuals that\n",
    "are predicted correctly by the classifier"
   ]
  },
  {
   "cell_type": "code",
   "execution_count": 32,
   "id": "b12f7d3e",
   "metadata": {},
   "outputs": [
    {
     "name": "stdout",
     "output_type": "stream",
     "text": [
      "Number of valid perturbed factuals for the added noise level 0.001:  2958\n",
      "Number of valid perturbed factuals for the added noise level 0.0025:  2956\n",
      "Number of valid perturbed factuals for the added noise level 0.005:  2953\n",
      "Number of valid perturbed factuals for the added noise level 0.0075:  2952\n",
      "Number of valid perturbed factuals for the added noise level 0.01:  2942\n"
     ]
    }
   ],
   "source": [
    "n = 100\n",
    "factuals_pert = {}\n",
    "indices_pert = {}\n",
    "\n",
    "for noise in noise_magnitudes:\n",
    "    pert_sample = perturb_sample(factuals, n_samples=1, noise_magnitude=noise)\n",
    "    pert_sample = torch.Tensor(pert_sample)\n",
    "\n",
    "    # Check whether perturbed instances lead to the same class prediction\n",
    "    predictions = torch.argmax(baseline_classifier(pert_sample.to(device)), axis=1).detach().cpu()\n",
    "    indices = np.where(predictions == labels)[0]\n",
    "    print(f'Number of valid perturbed factuals for the added noise level {noise}: ', indices.shape[0])\n",
    "    factuals_pert[noise] = pert_sample\n",
    "    indices_pert[noise] = indices\n",
    "\n",
    "final_indices = reduce(np.intersect1d, list(indices_pert.values()))\n",
    "factuals_pert = {k : v[final_indices][:n] for k, v in factuals_pert.items()}\n",
    "factuals = factuals[final_indices][:n]\n",
    "labels = labels[final_indices][:n]"
   ]
  },
  {
   "cell_type": "markdown",
   "id": "5ae6b476",
   "metadata": {},
   "source": [
    "Visualize the factual instances perturbed with different noise magnitude"
   ]
  },
  {
   "cell_type": "code",
   "execution_count": 33,
   "id": "f124b049",
   "metadata": {},
   "outputs": [
    {
     "data": {
      "image/png": "[encoded data removed]",
      "text/plain": [
       "<Figure size 1000x400 with 6 Axes>"
      ]
     },
     "metadata": {},
     "output_type": "display_data"
    }
   ],
   "source": [
    "ind = 10\n",
    "n_rows = 1\n",
    "n_cols = len(noise_magnitudes) + 1\n",
    "fig, axs = plt.subplots(n_rows, n_cols, figsize=(10, 4))\n",
    "\n",
    "for j in range(n_cols):\n",
    "    if j == 0: \n",
    "        axs[j].imshow(factuals[ind].squeeze().squeeze(), cmap='gray')\n",
    "        axs[j].set_title('$\\\\epsilon$=0') \n",
    "        axs[j].axis('off')\n",
    "    else:\n",
    "        noise = noise_magnitudes[j-1]\n",
    "        pert_image = factuals_pert[noise][ind].squeeze().squeeze() \n",
    "        axs[j].imshow(pert_image, cmap='gray')\n",
    "        axs[j].set_title('$\\\\epsilon$='+str(noise)) \n",
    "        axs[j].axis('off')\n",
    "        \n",
    "plt.show()"
   ]
  },
  {
   "cell_type": "markdown",
   "id": "89a7c4fa",
   "metadata": {},
   "source": [
    "# Generate CFEs"
   ]
  },
  {
   "cell_type": "code",
   "execution_count": 34,
   "id": "015a1d05",
   "metadata": {},
   "outputs": [],
   "source": [
    "target_class = 7\n",
    "hparams = config.revise_hyperparameters\n",
    "hparams['target_class_ind'] = [[0, 0, 0, 0, 0, 0, 0, 1, 0, 0]]\n",
    "revise_method = Revise(baseline_classifier, vae, hparams)"
   ]
  },
  {
   "cell_type": "code",
   "execution_count": 35,
   "id": "69cc1b4b",
   "metadata": {},
   "outputs": [
    {
     "name": "stderr",
     "output_type": "stream",
     "text": [
      "100%|██████████| 100/100 [03:58<00:00,  2.38s/it]\n"
     ]
    }
   ],
   "source": [
    "cfes = revise_method.get_counterfactuals(factuals, verbose=False)"
   ]
  },
  {
   "cell_type": "code",
   "execution_count": 42,
   "id": "0a2d1d50",
   "metadata": {},
   "outputs": [],
   "source": [
    "fname = f'cfes_{ds_name.lower()}_{target_class}.pkl'\n",
    "with open(osp.join(config.save_dir, fname), 'wb') as f:\n",
    "    pickle.dump(cfes, f)"
   ]
  },
  {
   "cell_type": "markdown",
   "id": "ec9d4b46",
   "metadata": {},
   "source": [
    "Read already generated CFEs"
   ]
  },
  {
   "cell_type": "code",
   "execution_count": 17,
   "id": "18516fc7",
   "metadata": {},
   "outputs": [],
   "source": [
    "fname = f'cfes_{ds_name.lower()}_{classes4fname}.pkl'\n",
    "with open(osp.join(config.save_dir, fname), 'rb') as f:\n",
    "    cfes = pickle.load(f)"
   ]
  },
  {
   "cell_type": "code",
   "execution_count": 22,
   "id": "7a25fd4e",
   "metadata": {},
   "outputs": [
    {
     "name": "stderr",
     "output_type": "stream",
     "text": [
      "100%|██████████| 100/100 [05:41<00:00,  3.42s/it]\n",
      "100%|██████████| 100/100 [05:36<00:00,  3.37s/it]\n",
      "100%|██████████| 100/100 [05:32<00:00,  3.33s/it]\n",
      "100%|██████████| 100/100 [05:32<00:00,  3.33s/it]\n",
      "100%|██████████| 100/100 [05:30<00:00,  3.31s/it]\n"
     ]
    }
   ],
   "source": [
    "cfes_pert = {} \n",
    "\n",
    "for noise in noise_magnitudes:\n",
    "    cfes_pert[noise] = revise_method.get_counterfactuals(factuals_pert[noise], verbose=False)\n",
    "    fname = f'cfes_{ds_name.lower()}_{classes4fname}_noise_{noise}.pkl'\n",
    "    with open(osp.join(config.save_dir, fname), 'wb') as f:\n",
    "        pickle.dump(cfes_pert[noise], f)"
   ]
  },
  {
   "cell_type": "markdown",
   "id": "212260f5",
   "metadata": {},
   "source": [
    "Read already generated perturbed CFEs"
   ]
  },
  {
   "cell_type": "code",
   "execution_count": 18,
   "id": "f2b61729",
   "metadata": {},
   "outputs": [],
   "source": [
    "cfes_pert = {} \n",
    "\n",
    "for noise in noise_magnitudes:\n",
    "    fname = f'cfes_{ds_name.lower()}_{classes4fname}_noise_{noise}.pkl'\n",
    "    with open(osp.join(config.save_dir, fname), 'rb') as f:\n",
    "        cfes_pert[noise] = pickle.load(f)"
   ]
  },
  {
   "cell_type": "code",
   "execution_count": 23,
   "id": "ff4576a4",
   "metadata": {},
   "outputs": [
    {
     "data": {
      "image/png": "[encoded data removed]",
      "text/plain": [
       "<Figure size 1000x400 with 10 Axes>"
      ]
     },
     "metadata": {},
     "output_type": "display_data"
    }
   ],
   "source": [
    "n_rows = 2\n",
    "n_cols = 5\n",
    "\n",
    "ind = 10\n",
    "\n",
    "fig, axs = plt.subplots(n_rows, n_cols, figsize=(10, 4))\n",
    "for i in range(n_rows):\n",
    "    for j in range(n_cols):\n",
    "        noise = noise_magnitudes[j]\n",
    "        if i == 0: \n",
    "            pert_image = factuals_pert[noise][ind].squeeze().squeeze() \n",
    "            axs[i, j].imshow(pert_image, cmap='gray')\n",
    "            axs[i, j].set_title('$\\\\epsilon$='+str(noise)) \n",
    "            axs[i, j].axis('off')\n",
    "        # elif i == 1:\n",
    "        #     axs[i, j].imshow(cfes[ind].squeeze(), cmap='gray')\n",
    "        #     axs[i, j].axis('off')\n",
    "        #     axs[i, j].set_ylabel('CFE /wo noise')\n",
    "        else:\n",
    "            axs[i, j].imshow(cfes_pert[noise][ind].transpose(1, 2, 0), cmap='gray')\n",
    "            pred_class = class_names[torch.argmax(baseline_classifier(torch.Tensor(cfes_pert[noise][ind]).unsqueeze(0).to(device))).item()]\n",
    "            axs[i, j].set_title('pred='+str(pred_class))\n",
    "            # axs[i, j].set_title('epsilon='+str(noise)) \n",
    "            axs[i, j].axis('off')\n",
    "            axs[i, j].set_ylabel('CFE /w noise')\n",
    "plt.show()"
   ]
  },
  {
   "cell_type": "markdown",
   "id": "6111499c",
   "metadata": {},
   "source": [
    "## Local Instability"
   ]
  },
  {
   "cell_type": "code",
   "execution_count": 24,
   "id": "07c5e78d",
   "metadata": {},
   "outputs": [],
   "source": [
    "from src.evaluation.local_instability import calculate_sparsity, calculate_ssim"
   ]
  },
  {
   "cell_type": "markdown",
   "id": "e452fbdd",
   "metadata": {},
   "source": [
    "Checking validity of explanations after perturbation"
   ]
  },
  {
   "cell_type": "code",
   "execution_count": 38,
   "id": "8317da7b",
   "metadata": {},
   "outputs": [
    {
     "name": "stdout",
     "output_type": "stream",
     "text": [
      "Initial validity:  0.65\n"
     ]
    }
   ],
   "source": [
    "validity = 0\n",
    "for cfe in cfes:\n",
    "    if len(cfe) !=0:\n",
    "        pred = torch.argmax(baseline_classifier(torch.Tensor(cfe).unsqueeze(0).to(device)), axis=1).detach().cpu()\n",
    "        if pred == target_cls_ind:    \n",
    "            validity += 1\n",
    "validity /= len(cfes)\n",
    "print('Initial validity: ', validity)"
   ]
  },
  {
   "cell_type": "code",
   "execution_count": 25,
   "metadata": {},
   "outputs": [
    {
     "name": "stdout",
     "output_type": "stream",
     "text": [
      "Validity for the added noise level 0.001:  0.74\n",
      "Validity for the added noise level 0.0025:  0.83\n",
      "Validity for the added noise level 0.005:  0.87\n",
      "Validity for the added noise level 0.0075:  0.85\n",
      "Validity for the added noise level 0.01:  0.85\n"
     ]
    }
   ],
   "source": [
    "target_cls_ind = 2\n",
    "\n",
    "validity_dict = {}\n",
    "for noise in noise_magnitudes:\n",
    "    predictions = []\n",
    "    validity = 0\n",
    "    total_cfes_found = len(cfes_pert[noise])\n",
    "    for i, cfe_pert in enumerate(cfes_pert[noise]):\n",
    "        if len(cfe_pert) == 0:\n",
    "            continue\n",
    "\n",
    "        predictions = torch.argmax(baseline_classifier(torch.Tensor(cfe_pert).unsqueeze(0).to(device)), axis=1).detach().cpu()\n",
    "        if predictions == target_cls_ind: \n",
    "            validity += 1 \n",
    "    validity_dict[noise] = validity / total_cfes_found\n",
    "    print(f'Validity for the added noise level {noise}: ',  validity_dict[noise])\n",
    "\n",
    "fname = f'revise_{ds_name.lower()}_{classes4fname}_validity.pkl'\n",
    "with open(osp.join(config.save_dir, fname), 'wb') as f:\n",
    "    pickle.dump(validity_dict, f)"
   ]
  },
  {
   "cell_type": "code",
   "execution_count": 26,
   "id": "f22bf62f",
   "metadata": {},
   "outputs": [],
   "source": [
    "instability_l1_list = []\n",
    "ssim_list = []\n",
    "\n",
    "for noise, cfe_pert_list in cfes_pert.items():\n",
    "    l1_temp = []\n",
    "    ssim_temp = []\n",
    "    for i in range(len(cfes)):\n",
    "        cf = cfes[i]\n",
    "        cf_pert = cfe_pert_list[i]\n",
    "\n",
    "        if len(cf) != 0 and len(cf_pert) != 0:\n",
    "\n",
    "            cf_tensor = torch.Tensor(cf)\n",
    "            cf = cf_tensor.permute(1, 2, 0).flatten()\n",
    "\n",
    "            cf_pert_tensor = torch.Tensor(cf_pert)\n",
    "            cf_perturbed = cf_pert_tensor.permute(1, 2, 0).flatten()        \n",
    "\n",
    "            l1_distance = sum(abs(cf - cf_perturbed)).item() # np.linalg.norm(cf.flatten() - cf_perturbed.flatten(), ord=1)\n",
    "            l1_temp.append(l1_distance)\n",
    "\n",
    "            ssim = calculate_ssim(cf_tensor.unsqueeze(0), cf_pert_tensor.unsqueeze(0)).item()\n",
    "            ssim_temp.append(ssim)\n",
    "\n",
    "    instability_l1_list.append(l1_temp)\n",
    "    ssim_list.append(ssim_temp)\n",
    "\n",
    "with open(osp.join(config.save_dir, f'revise_{ds_name.lower()}_{classes4fname}_li_l1_.pkl'), 'wb') as f:\n",
    "    pickle.dump(instability_l1_list, f)\n",
    "\n",
    "with open(osp.join(config.save_dir, f'revise_{ds_name.lower()}_{classes4fname}_ssim.pkl'), 'wb') as f:\n",
    "    pickle.dump(ssim_list, f)"
   ]
  },
  {
   "cell_type": "code",
   "execution_count": 27,
   "id": "f0495078",
   "metadata": {},
   "outputs": [
    {
     "data": {
      "image/png": "[encoded data removed]",
      "text/plain": [
       "<Figure size 800x400 with 1 Axes>"
      ]
     },
     "metadata": {},
     "output_type": "display_data"
    }
   ],
   "source": [
    "import pandas as pd\n",
    "plt.style.use(\"seaborn-v0_8\")\n",
    "plt.rcParams['figure.figsize'] = [8, 4]\n",
    "\n",
    "plot_boxplot(data=instability_l1_list, mean_values=[np.mean(li).round(2) for li in instability_l1_list],\n",
    "            tick_labels=[f'$\\\\epsilon$={noise_level}' for noise_level in noise_magnitudes],\n",
    "            y_label='Local Instability', colors=['lightyellow'], \n",
    "            title='L1 distance between CFEs of similar inputs')"
   ]
  },
  {
   "cell_type": "code",
   "execution_count": 28,
   "id": "ae05efa5",
   "metadata": {},
   "outputs": [
    {
     "data": {
      "image/png": "[encoded data removed]",
      "text/plain": [
       "<Figure size 800x400 with 1 Axes>"
      ]
     },
     "metadata": {},
     "output_type": "display_data"
    }
   ],
   "source": [
    "plot_boxplot(data=ssim_list, mean_values=[np.mean(li).round(2) for li in ssim_list],\n",
    "             tick_labels=[f'$\\\\epsilon$={noise_level}' for noise_level in noise_magnitudes],\n",
    "             y_label='Local Instability', colors=['lightgreen'], title='SSIM between CFEs of similar inputs')"
   ]
  },
  {
   "cell_type": "markdown",
   "id": "647d6b4e",
   "metadata": {},
   "source": [
    "## Local Lipschitz Continuity"
   ]
  },
  {
   "cell_type": "code",
   "execution_count": 23,
   "id": "f8adabae",
   "metadata": {},
   "outputs": [
    {
     "name": "stdout",
     "output_type": "stream",
     "text": [
      "Are the lengths of initial points (factuals) and CFEs generated for them equal : True\n"
     ]
    }
   ],
   "source": [
    "original_points = factuals\n",
    "original_cfes = cfes\n",
    "print(\"Are the lengths of initial points (factuals) and CFEs generated for them equal :\", len(original_cfes) == original_points.shape[0])"
   ]
  },
  {
   "cell_type": "code",
   "execution_count": 25,
   "id": "55f0ea87",
   "metadata": {},
   "outputs": [
    {
     "name": "stderr",
     "output_type": "stream",
     "text": [
      " 20%|██        | 6/30 [00:16<01:05,  2.74s/it]\n",
      "0it [00:16, ?it/s]\n"
     ]
    },
    {
     "ename": "KeyboardInterrupt",
     "evalue": "",
     "output_type": "error",
     "traceback": [
      "\u001b[0;31m---------------------------------------------------------------------------\u001b[0m",
      "\u001b[0;31mKeyboardInterrupt\u001b[0m                         Traceback (most recent call last)",
      "Cell \u001b[0;32mIn[25], line 14\u001b[0m\n\u001b[1;32m     10\u001b[0m neighbor_points \u001b[38;5;241m=\u001b[39m perturb_sample(original_point\u001b[38;5;241m.\u001b[39munsqueeze(\u001b[38;5;241m0\u001b[39m), \n\u001b[1;32m     11\u001b[0m                                  n_samples\u001b[38;5;241m=\u001b[39m\u001b[38;5;241m30\u001b[39m, \n\u001b[1;32m     12\u001b[0m                                  noise_magnitude\u001b[38;5;241m=\u001b[39mnoise_magnitude)    \n\u001b[1;32m     13\u001b[0m neighbor_points \u001b[38;5;241m=\u001b[39m torch\u001b[38;5;241m.\u001b[39mTensor(neighbor_points)\n\u001b[0;32m---> 14\u001b[0m neighbor_cfes \u001b[38;5;241m=\u001b[39m \u001b[43mrevise_method\u001b[49m\u001b[38;5;241;43m.\u001b[39;49m\u001b[43mget_counterfactuals\u001b[49m\u001b[43m(\u001b[49m\u001b[43mneighbor_points\u001b[49m\u001b[43m,\u001b[49m\u001b[43m \u001b[49m\u001b[43mverbose\u001b[49m\u001b[38;5;241;43m=\u001b[39;49m\u001b[38;5;28;43;01mFalse\u001b[39;49;00m\u001b[43m)\u001b[49m\n\u001b[1;32m     16\u001b[0m lip_estimate \u001b[38;5;241m=\u001b[39m \u001b[38;5;241m0\u001b[39m\n\u001b[1;32m     17\u001b[0m \u001b[38;5;28;01mfor\u001b[39;00m m, p \u001b[38;5;129;01min\u001b[39;00m tqdm(\u001b[38;5;28mzip\u001b[39m(neighbor_cfes, neighbor_points)):\n",
      "File \u001b[0;32m/vsc-hard-mounts/leuven-data/365/vsc36567/CF-Robustness-Benchmark/src/cf_methods/revise/model.py:96\u001b[0m, in \u001b[0;36mRevise.get_counterfactuals\u001b[0;34m(self, factuals, verbose)\u001b[0m\n\u001b[1;32m     93\u001b[0m \u001b[38;5;28;01mdef\u001b[39;00m\u001b[38;5;250m \u001b[39m\u001b[38;5;21mget_counterfactuals\u001b[39m(\n\u001b[1;32m     94\u001b[0m     \u001b[38;5;28mself\u001b[39m, factuals: torch\u001b[38;5;241m.\u001b[39mTensor, verbose: \u001b[38;5;28mbool\u001b[39m\n\u001b[1;32m     95\u001b[0m ) \u001b[38;5;241m-\u001b[39m\u001b[38;5;241m>\u001b[39m torch\u001b[38;5;241m.\u001b[39mTensor:\n\u001b[0;32m---> 96\u001b[0m     \u001b[38;5;28;01mreturn\u001b[39;00m \u001b[38;5;28;43mself\u001b[39;49m\u001b[38;5;241;43m.\u001b[39;49m\u001b[43m_counterfactual_optimization\u001b[49m\u001b[43m(\u001b[49m\u001b[43mfactuals\u001b[49m\u001b[43m,\u001b[49m\u001b[43m \u001b[49m\u001b[43mverbose\u001b[49m\u001b[43m)\u001b[49m\n",
      "File \u001b[0;32m/vsc-hard-mounts/leuven-data/365/vsc36567/CF-Robustness-Benchmark/src/cf_methods/revise/model.py:130\u001b[0m, in \u001b[0;36mRevise._counterfactual_optimization\u001b[0;34m(self, factuals, verbose)\u001b[0m\n\u001b[1;32m    127\u001b[0m \u001b[38;5;28;01mfor\u001b[39;00m _ \u001b[38;5;129;01min\u001b[39;00m \u001b[38;5;28mrange\u001b[39m(\u001b[38;5;28mself\u001b[39m\u001b[38;5;241m.\u001b[39m_max_iter):\n\u001b[1;32m    128\u001b[0m     cf \u001b[38;5;241m=\u001b[39m \u001b[38;5;28mself\u001b[39m\u001b[38;5;241m.\u001b[39mvae\u001b[38;5;241m.\u001b[39mdecoder(z)\n\u001b[0;32m--> 130\u001b[0m     output \u001b[38;5;241m=\u001b[39m \u001b[38;5;28;43mself\u001b[39;49m\u001b[38;5;241;43m.\u001b[39;49m\u001b[43m_mlmodel\u001b[49m\u001b[43m(\u001b[49m\u001b[43mcf\u001b[49m\u001b[43m)\u001b[49m\n\u001b[1;32m    131\u001b[0m     predicted \u001b[38;5;241m=\u001b[39m torch\u001b[38;5;241m.\u001b[39margmax(output)\n\u001b[1;32m    133\u001b[0m     z\u001b[38;5;241m.\u001b[39mrequires_grad \u001b[38;5;241m=\u001b[39m \u001b[38;5;28;01mTrue\u001b[39;00m\n",
      "File \u001b[0;32m/data/leuven/365/vsc36567/miniconda3/lib/python3.12/site-packages/torch/nn/modules/module.py:1739\u001b[0m, in \u001b[0;36mModule._wrapped_call_impl\u001b[0;34m(self, *args, **kwargs)\u001b[0m\n\u001b[1;32m   1737\u001b[0m     \u001b[38;5;28;01mreturn\u001b[39;00m \u001b[38;5;28mself\u001b[39m\u001b[38;5;241m.\u001b[39m_compiled_call_impl(\u001b[38;5;241m*\u001b[39margs, \u001b[38;5;241m*\u001b[39m\u001b[38;5;241m*\u001b[39mkwargs)  \u001b[38;5;66;03m# type: ignore[misc]\u001b[39;00m\n\u001b[1;32m   1738\u001b[0m \u001b[38;5;28;01melse\u001b[39;00m:\n\u001b[0;32m-> 1739\u001b[0m     \u001b[38;5;28;01mreturn\u001b[39;00m \u001b[38;5;28;43mself\u001b[39;49m\u001b[38;5;241;43m.\u001b[39;49m\u001b[43m_call_impl\u001b[49m\u001b[43m(\u001b[49m\u001b[38;5;241;43m*\u001b[39;49m\u001b[43margs\u001b[49m\u001b[43m,\u001b[49m\u001b[43m \u001b[49m\u001b[38;5;241;43m*\u001b[39;49m\u001b[38;5;241;43m*\u001b[39;49m\u001b[43mkwargs\u001b[49m\u001b[43m)\u001b[49m\n",
      "File \u001b[0;32m/data/leuven/365/vsc36567/miniconda3/lib/python3.12/site-packages/torch/nn/modules/module.py:1750\u001b[0m, in \u001b[0;36mModule._call_impl\u001b[0;34m(self, *args, **kwargs)\u001b[0m\n\u001b[1;32m   1745\u001b[0m \u001b[38;5;66;03m# If we don't have any hooks, we want to skip the rest of the logic in\u001b[39;00m\n\u001b[1;32m   1746\u001b[0m \u001b[38;5;66;03m# this function, and just call forward.\u001b[39;00m\n\u001b[1;32m   1747\u001b[0m \u001b[38;5;28;01mif\u001b[39;00m \u001b[38;5;129;01mnot\u001b[39;00m (\u001b[38;5;28mself\u001b[39m\u001b[38;5;241m.\u001b[39m_backward_hooks \u001b[38;5;129;01mor\u001b[39;00m \u001b[38;5;28mself\u001b[39m\u001b[38;5;241m.\u001b[39m_backward_pre_hooks \u001b[38;5;129;01mor\u001b[39;00m \u001b[38;5;28mself\u001b[39m\u001b[38;5;241m.\u001b[39m_forward_hooks \u001b[38;5;129;01mor\u001b[39;00m \u001b[38;5;28mself\u001b[39m\u001b[38;5;241m.\u001b[39m_forward_pre_hooks\n\u001b[1;32m   1748\u001b[0m         \u001b[38;5;129;01mor\u001b[39;00m _global_backward_pre_hooks \u001b[38;5;129;01mor\u001b[39;00m _global_backward_hooks\n\u001b[1;32m   1749\u001b[0m         \u001b[38;5;129;01mor\u001b[39;00m _global_forward_hooks \u001b[38;5;129;01mor\u001b[39;00m _global_forward_pre_hooks):\n\u001b[0;32m-> 1750\u001b[0m     \u001b[38;5;28;01mreturn\u001b[39;00m \u001b[43mforward_call\u001b[49m\u001b[43m(\u001b[49m\u001b[38;5;241;43m*\u001b[39;49m\u001b[43margs\u001b[49m\u001b[43m,\u001b[49m\u001b[43m \u001b[49m\u001b[38;5;241;43m*\u001b[39;49m\u001b[38;5;241;43m*\u001b[39;49m\u001b[43mkwargs\u001b[49m\u001b[43m)\u001b[49m\n\u001b[1;32m   1752\u001b[0m result \u001b[38;5;241m=\u001b[39m \u001b[38;5;28;01mNone\u001b[39;00m\n\u001b[1;32m   1753\u001b[0m called_always_called_hooks \u001b[38;5;241m=\u001b[39m \u001b[38;5;28mset\u001b[39m()\n",
      "File \u001b[0;32m/vsc-hard-mounts/leuven-data/365/vsc36567/CF-Robustness-Benchmark/src/models/classifiers.py:174\u001b[0m, in \u001b[0;36mSimpleCNNtorch.forward\u001b[0;34m(self, x)\u001b[0m\n\u001b[1;32m    173\u001b[0m \u001b[38;5;28;01mdef\u001b[39;00m\u001b[38;5;250m \u001b[39m\u001b[38;5;21mforward\u001b[39m(\u001b[38;5;28mself\u001b[39m, x):\n\u001b[0;32m--> 174\u001b[0m     x \u001b[38;5;241m=\u001b[39m \u001b[38;5;28;43mself\u001b[39;49m\u001b[38;5;241;43m.\u001b[39;49m\u001b[43mmain\u001b[49m\u001b[43m(\u001b[49m\u001b[43mx\u001b[49m\u001b[43m)\u001b[49m\n\u001b[1;32m    175\u001b[0m     logits \u001b[38;5;241m=\u001b[39m \u001b[38;5;28mself\u001b[39m\u001b[38;5;241m.\u001b[39mclassifier(x)\n\u001b[1;32m    176\u001b[0m     \u001b[38;5;28;01mif\u001b[39;00m \u001b[38;5;28mself\u001b[39m\u001b[38;5;241m.\u001b[39mactivate_softmax:\n",
      "File \u001b[0;32m/data/leuven/365/vsc36567/miniconda3/lib/python3.12/site-packages/torch/nn/modules/module.py:1739\u001b[0m, in \u001b[0;36mModule._wrapped_call_impl\u001b[0;34m(self, *args, **kwargs)\u001b[0m\n\u001b[1;32m   1737\u001b[0m     \u001b[38;5;28;01mreturn\u001b[39;00m \u001b[38;5;28mself\u001b[39m\u001b[38;5;241m.\u001b[39m_compiled_call_impl(\u001b[38;5;241m*\u001b[39margs, \u001b[38;5;241m*\u001b[39m\u001b[38;5;241m*\u001b[39mkwargs)  \u001b[38;5;66;03m# type: ignore[misc]\u001b[39;00m\n\u001b[1;32m   1738\u001b[0m \u001b[38;5;28;01melse\u001b[39;00m:\n\u001b[0;32m-> 1739\u001b[0m     \u001b[38;5;28;01mreturn\u001b[39;00m \u001b[38;5;28;43mself\u001b[39;49m\u001b[38;5;241;43m.\u001b[39;49m\u001b[43m_call_impl\u001b[49m\u001b[43m(\u001b[49m\u001b[38;5;241;43m*\u001b[39;49m\u001b[43margs\u001b[49m\u001b[43m,\u001b[49m\u001b[43m \u001b[49m\u001b[38;5;241;43m*\u001b[39;49m\u001b[38;5;241;43m*\u001b[39;49m\u001b[43mkwargs\u001b[49m\u001b[43m)\u001b[49m\n",
      "File \u001b[0;32m/data/leuven/365/vsc36567/miniconda3/lib/python3.12/site-packages/torch/nn/modules/module.py:1750\u001b[0m, in \u001b[0;36mModule._call_impl\u001b[0;34m(self, *args, **kwargs)\u001b[0m\n\u001b[1;32m   1745\u001b[0m \u001b[38;5;66;03m# If we don't have any hooks, we want to skip the rest of the logic in\u001b[39;00m\n\u001b[1;32m   1746\u001b[0m \u001b[38;5;66;03m# this function, and just call forward.\u001b[39;00m\n\u001b[1;32m   1747\u001b[0m \u001b[38;5;28;01mif\u001b[39;00m \u001b[38;5;129;01mnot\u001b[39;00m (\u001b[38;5;28mself\u001b[39m\u001b[38;5;241m.\u001b[39m_backward_hooks \u001b[38;5;129;01mor\u001b[39;00m \u001b[38;5;28mself\u001b[39m\u001b[38;5;241m.\u001b[39m_backward_pre_hooks \u001b[38;5;129;01mor\u001b[39;00m \u001b[38;5;28mself\u001b[39m\u001b[38;5;241m.\u001b[39m_forward_hooks \u001b[38;5;129;01mor\u001b[39;00m \u001b[38;5;28mself\u001b[39m\u001b[38;5;241m.\u001b[39m_forward_pre_hooks\n\u001b[1;32m   1748\u001b[0m         \u001b[38;5;129;01mor\u001b[39;00m _global_backward_pre_hooks \u001b[38;5;129;01mor\u001b[39;00m _global_backward_hooks\n\u001b[1;32m   1749\u001b[0m         \u001b[38;5;129;01mor\u001b[39;00m _global_forward_hooks \u001b[38;5;129;01mor\u001b[39;00m _global_forward_pre_hooks):\n\u001b[0;32m-> 1750\u001b[0m     \u001b[38;5;28;01mreturn\u001b[39;00m \u001b[43mforward_call\u001b[49m\u001b[43m(\u001b[49m\u001b[38;5;241;43m*\u001b[39;49m\u001b[43margs\u001b[49m\u001b[43m,\u001b[49m\u001b[43m \u001b[49m\u001b[38;5;241;43m*\u001b[39;49m\u001b[38;5;241;43m*\u001b[39;49m\u001b[43mkwargs\u001b[49m\u001b[43m)\u001b[49m\n\u001b[1;32m   1752\u001b[0m result \u001b[38;5;241m=\u001b[39m \u001b[38;5;28;01mNone\u001b[39;00m\n\u001b[1;32m   1753\u001b[0m called_always_called_hooks \u001b[38;5;241m=\u001b[39m \u001b[38;5;28mset\u001b[39m()\n",
      "File \u001b[0;32m/data/leuven/365/vsc36567/miniconda3/lib/python3.12/site-packages/torch/nn/modules/container.py:250\u001b[0m, in \u001b[0;36mSequential.forward\u001b[0;34m(self, input)\u001b[0m\n\u001b[1;32m    248\u001b[0m \u001b[38;5;28;01mdef\u001b[39;00m\u001b[38;5;250m \u001b[39m\u001b[38;5;21mforward\u001b[39m(\u001b[38;5;28mself\u001b[39m, \u001b[38;5;28minput\u001b[39m):\n\u001b[1;32m    249\u001b[0m     \u001b[38;5;28;01mfor\u001b[39;00m module \u001b[38;5;129;01min\u001b[39;00m \u001b[38;5;28mself\u001b[39m:\n\u001b[0;32m--> 250\u001b[0m         \u001b[38;5;28minput\u001b[39m \u001b[38;5;241m=\u001b[39m \u001b[43mmodule\u001b[49m\u001b[43m(\u001b[49m\u001b[38;5;28;43minput\u001b[39;49m\u001b[43m)\u001b[49m\n\u001b[1;32m    251\u001b[0m     \u001b[38;5;28;01mreturn\u001b[39;00m \u001b[38;5;28minput\u001b[39m\n",
      "File \u001b[0;32m/data/leuven/365/vsc36567/miniconda3/lib/python3.12/site-packages/torch/nn/modules/module.py:1739\u001b[0m, in \u001b[0;36mModule._wrapped_call_impl\u001b[0;34m(self, *args, **kwargs)\u001b[0m\n\u001b[1;32m   1737\u001b[0m     \u001b[38;5;28;01mreturn\u001b[39;00m \u001b[38;5;28mself\u001b[39m\u001b[38;5;241m.\u001b[39m_compiled_call_impl(\u001b[38;5;241m*\u001b[39margs, \u001b[38;5;241m*\u001b[39m\u001b[38;5;241m*\u001b[39mkwargs)  \u001b[38;5;66;03m# type: ignore[misc]\u001b[39;00m\n\u001b[1;32m   1738\u001b[0m \u001b[38;5;28;01melse\u001b[39;00m:\n\u001b[0;32m-> 1739\u001b[0m     \u001b[38;5;28;01mreturn\u001b[39;00m \u001b[38;5;28;43mself\u001b[39;49m\u001b[38;5;241;43m.\u001b[39;49m\u001b[43m_call_impl\u001b[49m\u001b[43m(\u001b[49m\u001b[38;5;241;43m*\u001b[39;49m\u001b[43margs\u001b[49m\u001b[43m,\u001b[49m\u001b[43m \u001b[49m\u001b[38;5;241;43m*\u001b[39;49m\u001b[38;5;241;43m*\u001b[39;49m\u001b[43mkwargs\u001b[49m\u001b[43m)\u001b[49m\n",
      "File \u001b[0;32m/data/leuven/365/vsc36567/miniconda3/lib/python3.12/site-packages/torch/nn/modules/module.py:1750\u001b[0m, in \u001b[0;36mModule._call_impl\u001b[0;34m(self, *args, **kwargs)\u001b[0m\n\u001b[1;32m   1745\u001b[0m \u001b[38;5;66;03m# If we don't have any hooks, we want to skip the rest of the logic in\u001b[39;00m\n\u001b[1;32m   1746\u001b[0m \u001b[38;5;66;03m# this function, and just call forward.\u001b[39;00m\n\u001b[1;32m   1747\u001b[0m \u001b[38;5;28;01mif\u001b[39;00m \u001b[38;5;129;01mnot\u001b[39;00m (\u001b[38;5;28mself\u001b[39m\u001b[38;5;241m.\u001b[39m_backward_hooks \u001b[38;5;129;01mor\u001b[39;00m \u001b[38;5;28mself\u001b[39m\u001b[38;5;241m.\u001b[39m_backward_pre_hooks \u001b[38;5;129;01mor\u001b[39;00m \u001b[38;5;28mself\u001b[39m\u001b[38;5;241m.\u001b[39m_forward_hooks \u001b[38;5;129;01mor\u001b[39;00m \u001b[38;5;28mself\u001b[39m\u001b[38;5;241m.\u001b[39m_forward_pre_hooks\n\u001b[1;32m   1748\u001b[0m         \u001b[38;5;129;01mor\u001b[39;00m _global_backward_pre_hooks \u001b[38;5;129;01mor\u001b[39;00m _global_backward_hooks\n\u001b[1;32m   1749\u001b[0m         \u001b[38;5;129;01mor\u001b[39;00m _global_forward_hooks \u001b[38;5;129;01mor\u001b[39;00m _global_forward_pre_hooks):\n\u001b[0;32m-> 1750\u001b[0m     \u001b[38;5;28;01mreturn\u001b[39;00m \u001b[43mforward_call\u001b[49m\u001b[43m(\u001b[49m\u001b[38;5;241;43m*\u001b[39;49m\u001b[43margs\u001b[49m\u001b[43m,\u001b[49m\u001b[43m \u001b[49m\u001b[38;5;241;43m*\u001b[39;49m\u001b[38;5;241;43m*\u001b[39;49m\u001b[43mkwargs\u001b[49m\u001b[43m)\u001b[49m\n\u001b[1;32m   1752\u001b[0m result \u001b[38;5;241m=\u001b[39m \u001b[38;5;28;01mNone\u001b[39;00m\n\u001b[1;32m   1753\u001b[0m called_always_called_hooks \u001b[38;5;241m=\u001b[39m \u001b[38;5;28mset\u001b[39m()\n",
      "File \u001b[0;32m/data/leuven/365/vsc36567/miniconda3/lib/python3.12/site-packages/torch/nn/modules/container.py:250\u001b[0m, in \u001b[0;36mSequential.forward\u001b[0;34m(self, input)\u001b[0m\n\u001b[1;32m    248\u001b[0m \u001b[38;5;28;01mdef\u001b[39;00m\u001b[38;5;250m \u001b[39m\u001b[38;5;21mforward\u001b[39m(\u001b[38;5;28mself\u001b[39m, \u001b[38;5;28minput\u001b[39m):\n\u001b[1;32m    249\u001b[0m     \u001b[38;5;28;01mfor\u001b[39;00m module \u001b[38;5;129;01min\u001b[39;00m \u001b[38;5;28mself\u001b[39m:\n\u001b[0;32m--> 250\u001b[0m         \u001b[38;5;28minput\u001b[39m \u001b[38;5;241m=\u001b[39m \u001b[43mmodule\u001b[49m\u001b[43m(\u001b[49m\u001b[38;5;28;43minput\u001b[39;49m\u001b[43m)\u001b[49m\n\u001b[1;32m    251\u001b[0m     \u001b[38;5;28;01mreturn\u001b[39;00m \u001b[38;5;28minput\u001b[39m\n",
      "File \u001b[0;32m/data/leuven/365/vsc36567/miniconda3/lib/python3.12/site-packages/torch/nn/modules/module.py:1739\u001b[0m, in \u001b[0;36mModule._wrapped_call_impl\u001b[0;34m(self, *args, **kwargs)\u001b[0m\n\u001b[1;32m   1737\u001b[0m     \u001b[38;5;28;01mreturn\u001b[39;00m \u001b[38;5;28mself\u001b[39m\u001b[38;5;241m.\u001b[39m_compiled_call_impl(\u001b[38;5;241m*\u001b[39margs, \u001b[38;5;241m*\u001b[39m\u001b[38;5;241m*\u001b[39mkwargs)  \u001b[38;5;66;03m# type: ignore[misc]\u001b[39;00m\n\u001b[1;32m   1738\u001b[0m \u001b[38;5;28;01melse\u001b[39;00m:\n\u001b[0;32m-> 1739\u001b[0m     \u001b[38;5;28;01mreturn\u001b[39;00m \u001b[38;5;28;43mself\u001b[39;49m\u001b[38;5;241;43m.\u001b[39;49m\u001b[43m_call_impl\u001b[49m\u001b[43m(\u001b[49m\u001b[38;5;241;43m*\u001b[39;49m\u001b[43margs\u001b[49m\u001b[43m,\u001b[49m\u001b[43m \u001b[49m\u001b[38;5;241;43m*\u001b[39;49m\u001b[38;5;241;43m*\u001b[39;49m\u001b[43mkwargs\u001b[49m\u001b[43m)\u001b[49m\n",
      "File \u001b[0;32m/data/leuven/365/vsc36567/miniconda3/lib/python3.12/site-packages/torch/nn/modules/module.py:1750\u001b[0m, in \u001b[0;36mModule._call_impl\u001b[0;34m(self, *args, **kwargs)\u001b[0m\n\u001b[1;32m   1745\u001b[0m \u001b[38;5;66;03m# If we don't have any hooks, we want to skip the rest of the logic in\u001b[39;00m\n\u001b[1;32m   1746\u001b[0m \u001b[38;5;66;03m# this function, and just call forward.\u001b[39;00m\n\u001b[1;32m   1747\u001b[0m \u001b[38;5;28;01mif\u001b[39;00m \u001b[38;5;129;01mnot\u001b[39;00m (\u001b[38;5;28mself\u001b[39m\u001b[38;5;241m.\u001b[39m_backward_hooks \u001b[38;5;129;01mor\u001b[39;00m \u001b[38;5;28mself\u001b[39m\u001b[38;5;241m.\u001b[39m_backward_pre_hooks \u001b[38;5;129;01mor\u001b[39;00m \u001b[38;5;28mself\u001b[39m\u001b[38;5;241m.\u001b[39m_forward_hooks \u001b[38;5;129;01mor\u001b[39;00m \u001b[38;5;28mself\u001b[39m\u001b[38;5;241m.\u001b[39m_forward_pre_hooks\n\u001b[1;32m   1748\u001b[0m         \u001b[38;5;129;01mor\u001b[39;00m _global_backward_pre_hooks \u001b[38;5;129;01mor\u001b[39;00m _global_backward_hooks\n\u001b[1;32m   1749\u001b[0m         \u001b[38;5;129;01mor\u001b[39;00m _global_forward_hooks \u001b[38;5;129;01mor\u001b[39;00m _global_forward_pre_hooks):\n\u001b[0;32m-> 1750\u001b[0m     \u001b[38;5;28;01mreturn\u001b[39;00m \u001b[43mforward_call\u001b[49m\u001b[43m(\u001b[49m\u001b[38;5;241;43m*\u001b[39;49m\u001b[43margs\u001b[49m\u001b[43m,\u001b[49m\u001b[43m \u001b[49m\u001b[38;5;241;43m*\u001b[39;49m\u001b[38;5;241;43m*\u001b[39;49m\u001b[43mkwargs\u001b[49m\u001b[43m)\u001b[49m\n\u001b[1;32m   1752\u001b[0m result \u001b[38;5;241m=\u001b[39m \u001b[38;5;28;01mNone\u001b[39;00m\n\u001b[1;32m   1753\u001b[0m called_always_called_hooks \u001b[38;5;241m=\u001b[39m \u001b[38;5;28mset\u001b[39m()\n",
      "File \u001b[0;32m/data/leuven/365/vsc36567/miniconda3/lib/python3.12/site-packages/torch/nn/modules/pooling.py:213\u001b[0m, in \u001b[0;36mMaxPool2d.forward\u001b[0;34m(self, input)\u001b[0m\n\u001b[1;32m    212\u001b[0m \u001b[38;5;28;01mdef\u001b[39;00m\u001b[38;5;250m \u001b[39m\u001b[38;5;21mforward\u001b[39m(\u001b[38;5;28mself\u001b[39m, \u001b[38;5;28minput\u001b[39m: Tensor):\n\u001b[0;32m--> 213\u001b[0m     \u001b[38;5;28;01mreturn\u001b[39;00m \u001b[43mF\u001b[49m\u001b[38;5;241;43m.\u001b[39;49m\u001b[43mmax_pool2d\u001b[49m\u001b[43m(\u001b[49m\n\u001b[1;32m    214\u001b[0m \u001b[43m        \u001b[49m\u001b[38;5;28;43minput\u001b[39;49m\u001b[43m,\u001b[49m\n\u001b[1;32m    215\u001b[0m \u001b[43m        \u001b[49m\u001b[38;5;28;43mself\u001b[39;49m\u001b[38;5;241;43m.\u001b[39;49m\u001b[43mkernel_size\u001b[49m\u001b[43m,\u001b[49m\n\u001b[1;32m    216\u001b[0m \u001b[43m        \u001b[49m\u001b[38;5;28;43mself\u001b[39;49m\u001b[38;5;241;43m.\u001b[39;49m\u001b[43mstride\u001b[49m\u001b[43m,\u001b[49m\n\u001b[1;32m    217\u001b[0m \u001b[43m        \u001b[49m\u001b[38;5;28;43mself\u001b[39;49m\u001b[38;5;241;43m.\u001b[39;49m\u001b[43mpadding\u001b[49m\u001b[43m,\u001b[49m\n\u001b[1;32m    218\u001b[0m \u001b[43m        \u001b[49m\u001b[38;5;28;43mself\u001b[39;49m\u001b[38;5;241;43m.\u001b[39;49m\u001b[43mdilation\u001b[49m\u001b[43m,\u001b[49m\n\u001b[1;32m    219\u001b[0m \u001b[43m        \u001b[49m\u001b[43mceil_mode\u001b[49m\u001b[38;5;241;43m=\u001b[39;49m\u001b[38;5;28;43mself\u001b[39;49m\u001b[38;5;241;43m.\u001b[39;49m\u001b[43mceil_mode\u001b[49m\u001b[43m,\u001b[49m\n\u001b[1;32m    220\u001b[0m \u001b[43m        \u001b[49m\u001b[43mreturn_indices\u001b[49m\u001b[38;5;241;43m=\u001b[39;49m\u001b[38;5;28;43mself\u001b[39;49m\u001b[38;5;241;43m.\u001b[39;49m\u001b[43mreturn_indices\u001b[49m\u001b[43m,\u001b[49m\n\u001b[1;32m    221\u001b[0m \u001b[43m    \u001b[49m\u001b[43m)\u001b[49m\n",
      "File \u001b[0;32m/data/leuven/365/vsc36567/miniconda3/lib/python3.12/site-packages/torch/_jit_internal.py:624\u001b[0m, in \u001b[0;36mboolean_dispatch.<locals>.fn\u001b[0;34m(*args, **kwargs)\u001b[0m\n\u001b[1;32m    622\u001b[0m     \u001b[38;5;28;01mreturn\u001b[39;00m if_true(\u001b[38;5;241m*\u001b[39margs, \u001b[38;5;241m*\u001b[39m\u001b[38;5;241m*\u001b[39mkwargs)\n\u001b[1;32m    623\u001b[0m \u001b[38;5;28;01melse\u001b[39;00m:\n\u001b[0;32m--> 624\u001b[0m     \u001b[38;5;28;01mreturn\u001b[39;00m \u001b[43mif_false\u001b[49m\u001b[43m(\u001b[49m\u001b[38;5;241;43m*\u001b[39;49m\u001b[43margs\u001b[49m\u001b[43m,\u001b[49m\u001b[43m \u001b[49m\u001b[38;5;241;43m*\u001b[39;49m\u001b[38;5;241;43m*\u001b[39;49m\u001b[43mkwargs\u001b[49m\u001b[43m)\u001b[49m\n",
      "File \u001b[0;32m/data/leuven/365/vsc36567/miniconda3/lib/python3.12/site-packages/torch/nn/functional.py:830\u001b[0m, in \u001b[0;36m_max_pool2d\u001b[0;34m(input, kernel_size, stride, padding, dilation, ceil_mode, return_indices)\u001b[0m\n\u001b[1;32m    828\u001b[0m \u001b[38;5;28;01mif\u001b[39;00m stride \u001b[38;5;129;01mis\u001b[39;00m \u001b[38;5;28;01mNone\u001b[39;00m:\n\u001b[1;32m    829\u001b[0m     stride \u001b[38;5;241m=\u001b[39m torch\u001b[38;5;241m.\u001b[39mjit\u001b[38;5;241m.\u001b[39mannotate(List[\u001b[38;5;28mint\u001b[39m], [])\n\u001b[0;32m--> 830\u001b[0m \u001b[38;5;28;01mreturn\u001b[39;00m \u001b[43mtorch\u001b[49m\u001b[38;5;241;43m.\u001b[39;49m\u001b[43mmax_pool2d\u001b[49m\u001b[43m(\u001b[49m\u001b[38;5;28;43minput\u001b[39;49m\u001b[43m,\u001b[49m\u001b[43m \u001b[49m\u001b[43mkernel_size\u001b[49m\u001b[43m,\u001b[49m\u001b[43m \u001b[49m\u001b[43mstride\u001b[49m\u001b[43m,\u001b[49m\u001b[43m \u001b[49m\u001b[43mpadding\u001b[49m\u001b[43m,\u001b[49m\u001b[43m \u001b[49m\u001b[43mdilation\u001b[49m\u001b[43m,\u001b[49m\u001b[43m \u001b[49m\u001b[43mceil_mode\u001b[49m\u001b[43m)\u001b[49m\n",
      "\u001b[0;31mKeyboardInterrupt\u001b[0m: "
     ]
    }
   ],
   "source": [
    "noise_magnitude = 0.001\n",
    "n_samples = 30\n",
    "revise_method._params[\"max_iter\"] = 400\n",
    "\n",
    "lip_estimates = []\n",
    "\n",
    "i = 0\n",
    "for original_point, original_cfe in tqdm(zip(original_points[:n_samples], original_cfes[:n_samples])):\n",
    "\n",
    "    neighbor_points = perturb_sample(original_point.unsqueeze(0), \n",
    "                                    n_samples=30, \n",
    "                                    noise_magnitude=noise_magnitude)    \n",
    "    neighbor_points = torch.Tensor(neighbor_points)\n",
    "    neighbor_cfes = revise_method.get_counterfactuals(neighbor_points, verbose=False)\n",
    "\n",
    "    lip_estimate = 0\n",
    "    for m, p in tqdm(zip(neighbor_cfes, neighbor_points)):\n",
    "        if not isinstance(m, list):\n",
    "            num = np.linalg.norm((original_cfe - m).flatten(), ord=2) \n",
    "            denom = np.linalg.norm((original_point - p).flatten(), ord=2)\n",
    "            lip = num / denom\n",
    "            lip_estimate = max(lip, lip_estimate)\n",
    "\n",
    "    lip_estimates.append(lip_estimate)\n",
    "    i += 1"
   ]
  },
  {
   "cell_type": "code",
   "execution_count": null,
   "id": "5052ea82",
   "metadata": {},
   "outputs": [],
   "source": [
    "with open(osp.join(config.save_dir, f'revise_{ds_name.lower()}_{classes4fname}_lle.pkl'), 'wb') as f:\n",
    "        pickle.dump(lip_estimates, f)"
   ]
  },
  {
   "cell_type": "markdown",
   "id": "e04652e5",
   "metadata": {},
   "source": [
    "## Invalidation Rate"
   ]
  },
  {
   "cell_type": "code",
   "execution_count": 29,
   "id": "93562873",
   "metadata": {},
   "outputs": [
    {
     "ename": "NameError",
     "evalue": "name 'classifiers_weights_dir' is not defined",
     "output_type": "error",
     "traceback": [
      "\u001b[0;31m---------------------------------------------------------------------------\u001b[0m",
      "\u001b[0;31mNameError\u001b[0m                                 Traceback (most recent call last)",
      "Cell \u001b[0;32mIn[29], line 1\u001b[0m\n\u001b[0;32m----> 1\u001b[0m os\u001b[38;5;241m.\u001b[39mlistdir(\u001b[43mclassifiers_weights_dir\u001b[49m)\n",
      "\u001b[0;31mNameError\u001b[0m: name 'classifiers_weights_dir' is not defined"
     ]
    }
   ],
   "source": [
    "os.listdir(classifiers_weights_dir)"
   ]
  },
  {
   "cell_type": "code",
   "execution_count": 33,
   "id": "48bfca27",
   "metadata": {},
   "outputs": [
    {
     "name": "stdout",
     "output_type": "stream",
     "text": [
      "fmnist__3261.pth\n",
      "Accuracy for the test dataset: 81.176%\n",
      "fmnist__1013.pth\n",
      "Accuracy for the test dataset: 80.680%\n",
      "fmnist__2913.pth\n",
      "Accuracy for the test dataset: 81.052%\n",
      "fmnist__2067.pth\n",
      "Accuracy for the test dataset: 81.597%\n",
      "fmnist__1334.pth\n",
      "Accuracy for the test dataset: 79.886%\n",
      "fmnist__2828.pth\n",
      "Accuracy for the test dataset: 81.076%\n",
      "fmnist__2915.pth\n",
      "Accuracy for the test dataset: 79.712%\n",
      "fmnist__2334.pth\n",
      "Accuracy for the test dataset: 81.672%\n",
      "fmnist__1967.pth\n",
      "Accuracy for the test dataset: 80.556%\n",
      "fmnist__2279.pth\n",
      "Accuracy for the test dataset: 80.630%\n"
     ]
    }
   ],
   "source": [
    "classifiers_weights_dir = r'/data/leuven/365/vsc36567/CF-Robustness-Benchmark/notebooks/experiments/fmnist_classification/multiclass/checkpoints/mc_all'\n",
    "# r\"/data/leuven/365/vsc36567/CF-Robustness-Benchmark/notebooks/experiments/fmnist_classification/multiclass/checkpoints/mc_all\"\n",
    "# r\"/data/leuven/365/vsc36567/CF-Robustness-Benchmark/notebooks/experiments/mnist_classification/binary/checkpoints/mc_1_7\"\n",
    "\n",
    "\n",
    "classifiers_list = []\n",
    "for clf_weights in os.listdir(classifiers_weights_dir):\n",
    "    cnn_perturbed = SimpleCNNtorch(**config.classifier.args,\n",
    "                                    num_classes=config.data.num_classes,\n",
    "                                    img_size=config.data.img_size)\n",
    "    # load_model_weights(model=cnn_perturbed, \n",
    "    #                     weights_path=osp.join(classifiers_weights_dir, clf_weights))\n",
    "    checkpoint = torch.load(\n",
    "                    osp.join(classifiers_weights_dir, clf_weights), weights_only=False,\n",
    "                    map_location=torch.device(device)\n",
    "                )\n",
    "            \n",
    "    cnn_perturbed.load_state_dict(checkpoint)\n",
    "    classifiers_list.append(cnn_perturbed)\n",
    "    print(clf_weights)\n",
    "    evaluate_classification_model(cnn_perturbed, \n",
    "                                    dataloader=test_loader, \n",
    "                                    num_classes=config.data.num_classes)"
   ]
  },
  {
   "cell_type": "code",
   "execution_count": 35,
   "id": "32e5bdbb",
   "metadata": {},
   "outputs": [
    {
     "name": "stdout",
     "output_type": "stream",
     "text": [
      "Model 0: IR=0.9692307692307692, validity=0\n",
      "Model 1: IR=0.9846153846153847, validity=0\n",
      "Model 2: IR=0.9230769230769231, validity=1\n",
      "Model 3: IR=0.9230769230769231, validity=3\n",
      "Model 4: IR=0.9230769230769231, validity=1\n",
      "Model 5: IR=0.8153846153846154, validity=0\n",
      "Model 6: IR=0.9384615384615385, validity=0\n",
      "Model 7: IR=0.9692307692307692, validity=1\n",
      "Model 8: IR=0.9076923076923077, validity=2\n",
      "Model 9: IR=0.9538461538461539, validity=0\n",
      "Average IR : 0.931 +- 0.045\n",
      "Average VaR : 0.012 +- 0.015\n"
     ]
    }
   ],
   "source": [
    "target_class = 1\n",
    "validity_list = []\n",
    "invalidation_rate_list = []\n",
    "\n",
    "for i, classifier in enumerate(classifiers_list):\n",
    "    validity = 0\n",
    "    invalidation_rate = 0\n",
    "    total_found_cfs = 0\n",
    "    \n",
    "    for cfe in cfes:\n",
    "        if isinstance(cfe, list):\n",
    "            continue\n",
    "        \n",
    "        cfe = torch.Tensor(cfe).unsqueeze(0).to(device)\n",
    "        classifier.eval()\n",
    "        with torch.no_grad():\n",
    "            classifier = classifier.to(device)\n",
    "\n",
    "            baseline_pred = torch.argmax(baseline_classifier(cfe), axis=1)\n",
    "            alternative_pred = torch.argmax(classifier(cfe), axis=1)\n",
    "\n",
    "        total_found_cfs += 1\n",
    "\n",
    "        if baseline_pred != alternative_pred:\n",
    "            invalidation_rate += 1\n",
    "\n",
    "        if alternative_pred == target_class:\n",
    "                validity += 1\n",
    "\n",
    "    invalidation_rate /= total_found_cfs\n",
    "    invalidation_rate_list.append(invalidation_rate)\n",
    "    validity_list.append(validity / total_found_cfs)\n",
    "    print(f'Model {i}: IR={invalidation_rate}, validity={validity}')\n",
    "\n",
    "print('Average IR : {:.3f} +- {:.3f}'.format(np.mean(invalidation_rate_list), np.std(invalidation_rate_list)))\n",
    "print('Average VaR : {:.3f} +- {:.3f}'.format(np.mean(validity_list), np.std(validity_list)))"
   ]
  },
  {
   "cell_type": "markdown",
   "id": "45aa7afc",
   "metadata": {},
   "source": [
    "## Relaxed Stability"
   ]
  },
  {
   "cell_type": "code",
   "execution_count": 36,
   "id": "90105fdc",
   "metadata": {},
   "outputs": [
    {
     "name": "stdout",
     "output_type": "stream",
     "text": [
      "Stability of the model 0: 0.029 +- 0.053\n",
      "Stability of the model 1: 0.043 +- 0.054\n",
      "Stability of the model 2: 0.031 +- 0.057\n",
      "Stability of the model 3: 0.048 +- 0.106\n",
      "Stability of the model 4: 0.048 +- 0.069\n",
      "Stability of the model 5: 0.029 +- 0.041\n",
      "Stability of the model 6: 0.029 +- 0.043\n",
      "Stability of the model 7: 0.026 +- 0.058\n",
      "Stability of the model 8: 0.051 +- 0.081\n",
      "Stability of the model 9: 0.015 +- 0.023\n"
     ]
    }
   ],
   "source": [
    "k = 1000\n",
    "sigma = 0.001\n",
    "device = 'cuda' if torch.cuda.is_available() else 'cpu'\n",
    "\n",
    "average_stability_list = []\n",
    "for i, classifier in enumerate(classifiers_list):\n",
    "    stability_list = []\n",
    "    for cfe in cfes:\n",
    "        if isinstance(cfe, list):\n",
    "            continue\n",
    "\n",
    "        cfe = torch.Tensor(cfe).unsqueeze(0)\n",
    "        cfe_sampled = torch.Tensor(perturb_sample(cfe, n_samples=k, noise_magnitude=sigma))\n",
    "\n",
    "        with torch.no_grad():\n",
    "            cf_logits = classifier(cfe.to(device))\n",
    "            cf_probabilities = F.softmax(cf_logits, dim=-1)[:, target_class]\n",
    "\n",
    "            cf_sampled_logits = classifier(cfe_sampled.to(device))\n",
    "            cf_sampled_probabilities = F.softmax(cf_sampled_logits, dim=-1)[:, target_class]\n",
    "        \n",
    "        model_variance = abs(cf_probabilities - cf_sampled_probabilities)\n",
    "\n",
    "        stability = (cf_sampled_probabilities - model_variance).mean()\n",
    "        stability_list.append(stability.item())\n",
    "\n",
    "    avg_i_stability = np.mean(stability_list)\n",
    "    print('Stability of the model {}: {:.3f} +- {:.3f}'.format(i, avg_i_stability.item(), np.std(stability_list).item()))\n",
    "    average_stability_list.append(avg_i_stability)"
   ]
  },
  {
   "cell_type": "code",
   "execution_count": 37,
   "id": "9897de06",
   "metadata": {},
   "outputs": [
    {
     "name": "stdout",
     "output_type": "stream",
     "text": [
      "Average RS: 0.035 +- 0.011\n"
     ]
    }
   ],
   "source": [
    "print('Average RS: {:.3f} +- {:.3f}'.format(np.mean(average_stability_list), np.std(average_stability_list)))"
   ]
  },
  {
   "cell_type": "markdown",
   "id": "07cfc8fe",
   "metadata": {},
   "source": []
  }
 ],
 "metadata": {
  "kernelspec": {
   "display_name": "venv",
   "language": "python",
   "name": "python3"
  },
  "language_info": {
   "codemirror_mode": {
    "name": "ipython",
    "version": 3
   },
   "file_extension": ".py",
   "mimetype": "text/x-python",
   "name": "python",
   "nbconvert_exporter": "python",
   "pygments_lexer": "ipython3",
   "version": "3.12.4"
  }
 },
 "nbformat": 4,
 "nbformat_minor": 5
}
