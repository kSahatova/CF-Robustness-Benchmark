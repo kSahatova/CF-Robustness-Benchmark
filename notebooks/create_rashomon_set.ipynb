{
 "cells": [
  {
   "cell_type": "code",
   "execution_count": 1,
   "id": "8e2a46d4",
   "metadata": {},
   "outputs": [
    {
     "name": "stderr",
     "output_type": "stream",
     "text": [
      "/data/leuven/365/vsc36567/miniconda3/lib/python3.12/site-packages/albumentations/__init__.py:28: UserWarning: A new version of Albumentations is available: '2.0.6' (you have '2.0.4'). Upgrade using: pip install -U albumentations. To disable automatic update checks, set the environment variable NO_ALBUMENTATIONS_UPDATE to 1.\n",
      "  check_for_updates()\n",
      "2025-05-13 04:50:40.335583: E external/local_xla/xla/stream_executor/cuda/cuda_fft.cc:467] Unable to register cuFFT factory: Attempting to register factory for plugin cuFFT when one has already been registered\n",
      "WARNING: All log messages before absl::InitializeLog() is called are written to STDERR\n",
      "E0000 00:00:1747104640.354052 3761728 cuda_dnn.cc:8579] Unable to register cuDNN factory: Attempting to register factory for plugin cuDNN when one has already been registered\n",
      "E0000 00:00:1747104640.359636 3761728 cuda_blas.cc:1407] Unable to register cuBLAS factory: Attempting to register factory for plugin cuBLAS when one has already been registered\n",
      "W0000 00:00:1747104640.374757 3761728 computation_placer.cc:177] computation placer already registered. Please check linkage and avoid linking the same target more than once.\n",
      "W0000 00:00:1747104640.374775 3761728 computation_placer.cc:177] computation placer already registered. Please check linkage and avoid linking the same target more than once.\n",
      "W0000 00:00:1747104640.374777 3761728 computation_placer.cc:177] computation placer already registered. Please check linkage and avoid linking the same target more than once.\n",
      "W0000 00:00:1747104640.374779 3761728 computation_placer.cc:177] computation placer already registered. Please check linkage and avoid linking the same target more than once.\n",
      "2025-05-13 04:50:40.379421: I tensorflow/core/platform/cpu_feature_guard.cc:210] This TensorFlow binary is optimized to use available CPU instructions in performance-critical operations.\n",
      "To enable the following instructions: AVX2 AVX512F FMA, in other operations, rebuild TensorFlow with the appropriate compiler flags.\n"
     ]
    }
   ],
   "source": [
    "import warnings\n",
    "\n",
    "import os\n",
    "import torch\n",
    "import pickle\n",
    "import numpy as np\n",
    "import os.path as osp\n",
    "from tqdm import tqdm\n",
    "from functools import reduce\n",
    "import matplotlib.pyplot as plt\n",
    "\n",
    "from lightning.pytorch import Trainer\n",
    "from lightning.pytorch.loggers import TensorBoardLogger\n",
    "from lightning.pytorch.callbacks import ModelCheckpoint\n",
    "from lightning.pytorch.callbacks.early_stopping import EarlyStopping\n",
    "\n",
    "from src.datasets import DatasetBuilder\n",
    "from src.models.classifiers import SimpleCNNtorch\n",
    "from src.models.lightning_wrappers import ClassifierLightningWrapper \n",
    "\n",
    "from src.utils.generic_utils import seed_everything, get_config, load_model_weights\n",
    "from src.utils.generic_utils import evaluate_classification_model"
   ]
  },
  {
   "cell_type": "code",
   "execution_count": 2,
   "id": "f979f5f9",
   "metadata": {},
   "outputs": [],
   "source": [
    "seed_everything()\n",
    "warnings.filterwarnings(\"ignore\", category=UserWarning)"
   ]
  },
  {
   "cell_type": "code",
   "execution_count": 3,
   "id": "0267461c",
   "metadata": {},
   "outputs": [],
   "source": [
    "config_path = r\"/data/leuven/365/vsc36567/CF-Robustness-Benchmark/configs/train_classifier_fmnist.yaml\"\n",
    "config = get_config(config_path)"
   ]
  },
  {
   "cell_type": "code",
   "execution_count": 4,
   "id": "7d64aff6",
   "metadata": {},
   "outputs": [],
   "source": [
    "config.data.classes = [0, 2, 4, 6]\n",
    "config.data.num_classes = len(config.data.classes)\n",
    "config.classifier.checkpoints_path = r\"/data/leuven/365/vsc36567/CF-Robustness-Benchmark/notebooks/experiments/fmnist_classification/multiclass/checkpoints/fmnist__epoch=12_val_accuracy=0.84.pth\" \n",
    "# r\"/data/leuven/365/vsc36567/CF-Robustness-Benchmark/notebooks/experiments/fmnist_classification/binary/checkpoints/fmnist_0_4_epoch=06_val_accuracy=0.99.pth\""
   ]
  },
  {
   "cell_type": "code",
   "execution_count": 5,
   "id": "8b1925cd",
   "metadata": {},
   "outputs": [],
   "source": [
    "ds_builder = DatasetBuilder(config)\n",
    "ds_builder.setup()\n",
    "train_loader, val_loader, test_loader = ds_builder.get_dataloaders()"
   ]
  },
  {
   "cell_type": "code",
   "execution_count": 6,
   "id": "20eabd10",
   "metadata": {},
   "outputs": [
    {
     "name": "stdout",
     "output_type": "stream",
     "text": [
      "Accuracy for the test dataset: 81.994%\n"
     ]
    }
   ],
   "source": [
    "baseline_classifier = SimpleCNNtorch(**config.classifier.args,\n",
    "                                    num_classes=config.data.num_classes,    \n",
    "                                    img_size=config.data.img_size)\n",
    "load_model_weights(baseline_classifier, weights_path=config.classifier.checkpoints_path)\n",
    "evaluate_classification_model(baseline_classifier, test_loader, config.data.num_classes)"
   ]
  },
  {
   "cell_type": "code",
   "execution_count": 7,
   "id": "125e986f",
   "metadata": {},
   "outputs": [],
   "source": [
    "expt_dir = \"/data/leuven/365/vsc36567/CF-Robustness-Benchmark/notebooks/experiments\"\n",
    "# r\"D:\\PycharmProjects\\CF-Robustness-Benchmark\\notebooks\\experiments\"\n",
    "expt_name = f\"{config.data.name}_classification\"\n",
    "expt_version = \"binary\"  if config.data.num_classes == 2 else \"multiclass\"\n",
    "checkpints_dir = osp.join(expt_dir, expt_name, expt_version, 'checkpoints', 'mc_all')\n",
    "class_names = ds_builder.class_encodings\n",
    "classes4fname = (\"_\").join([str(i) for i in class_names.values()]) if config.data.num_classes == 2 else \"\"\n",
    "\n",
    "early_stop_callback = EarlyStopping(\n",
    "    monitor=\"val_loss\",\n",
    "    min_delta=0.00,\n",
    "    patience=3,\n",
    "    verbose=False,\n",
    "    mode=\"min\",\n",
    ")\n",
    "tb_logger = TensorBoardLogger(save_dir=expt_dir, name=expt_name, version=expt_version)"
   ]
  },
  {
   "cell_type": "code",
   "execution_count": 8,
   "id": "dc68e1cc",
   "metadata": {},
   "outputs": [
    {
     "name": "stderr",
     "output_type": "stream",
     "text": [
      "  0%|          | 0/10 [00:00<?, ?it/s]GPU available: True (cuda), used: True\n",
      "TPU available: False, using: 0 TPU cores\n",
      "HPU available: False, using: 0 HPUs\n",
      "LOCAL_RANK: 0 - CUDA_VISIBLE_DEVICES: [0]\n",
      "\n",
      "  | Name          | Type             | Params | Mode \n",
      "-----------------------------------------------------------\n",
      "0 | model         | SimpleCNNtorch   | 25.3 K | train\n",
      "1 | loss_fn       | CrossEntropyLoss | 0      | train\n",
      "2 | train_metrics | MetricCollection | 0      | train\n",
      "3 | valid_metrics | MetricCollection | 0      | train\n",
      "-----------------------------------------------------------\n",
      "25.3 K    Trainable params\n",
      "0         Non-trainable params\n",
      "25.3 K    Total params\n",
      "0.101     Total estimated model params size (MB)\n",
      "25        Modules in train mode\n",
      "0         Modules in eval mode\n",
      "SLURM auto-requeueing enabled. Setting signal handlers.\n"
     ]
    },
    {
     "data": {
      "application/vnd.jupyter.widget-view+json": {
       "model_id": "578e64eda93747478397f016fad0f011",
       "version_major": 2,
       "version_minor": 0
      },
      "text/plain": [
       "Sanity Checking: |          | 0/? [00:00<?, ?it/s]"
      ]
     },
     "metadata": {},
     "output_type": "display_data"
    },
    {
     "data": {
      "application/vnd.jupyter.widget-view+json": {
       "model_id": "9884ab9d317648d696c1b4dc932ce2b8",
       "version_major": 2,
       "version_minor": 0
      },
      "text/plain": [
       "Training: |          | 0/? [00:00<?, ?it/s]"
      ]
     },
     "metadata": {},
     "output_type": "display_data"
    },
    {
     "data": {
      "application/vnd.jupyter.widget-view+json": {
       "model_id": "f9f81a6fb80b434892b6b28da57d5457",
       "version_major": 2,
       "version_minor": 0
      },
      "text/plain": [
       "Validation: |          | 0/? [00:00<?, ?it/s]"
      ]
     },
     "metadata": {},
     "output_type": "display_data"
    },
    {
     "data": {
      "application/vnd.jupyter.widget-view+json": {
       "model_id": "23f4338fdb324e7fb02e5021b660f720",
       "version_major": 2,
       "version_minor": 0
      },
      "text/plain": [
       "Validation: |          | 0/? [00:00<?, ?it/s]"
      ]
     },
     "metadata": {},
     "output_type": "display_data"
    },
    {
     "data": {
      "application/vnd.jupyter.widget-view+json": {
       "model_id": "9abe36a2c1dc4853a78203f4f6afe3f2",
       "version_major": 2,
       "version_minor": 0
      },
      "text/plain": [
       "Validation: |          | 0/? [00:00<?, ?it/s]"
      ]
     },
     "metadata": {},
     "output_type": "display_data"
    },
    {
     "data": {
      "application/vnd.jupyter.widget-view+json": {
       "model_id": "5402e0445f7348469a53930742f4ecd2",
       "version_major": 2,
       "version_minor": 0
      },
      "text/plain": [
       "Validation: |          | 0/? [00:00<?, ?it/s]"
      ]
     },
     "metadata": {},
     "output_type": "display_data"
    },
    {
     "data": {
      "application/vnd.jupyter.widget-view+json": {
       "model_id": "a7905e3cf27e41f984343c18b3dfdb0e",
       "version_major": 2,
       "version_minor": 0
      },
      "text/plain": [
       "Validation: |          | 0/? [00:00<?, ?it/s]"
      ]
     },
     "metadata": {},
     "output_type": "display_data"
    },
    {
     "data": {
      "application/vnd.jupyter.widget-view+json": {
       "model_id": "5b6f01b17591485fa2d03bcc279b5551",
       "version_major": 2,
       "version_minor": 0
      },
      "text/plain": [
       "Validation: |          | 0/? [00:00<?, ?it/s]"
      ]
     },
     "metadata": {},
     "output_type": "display_data"
    },
    {
     "data": {
      "application/vnd.jupyter.widget-view+json": {
       "model_id": "59f1ac81ad604fb8bab28ffc67794458",
       "version_major": 2,
       "version_minor": 0
      },
      "text/plain": [
       "Validation: |          | 0/? [00:00<?, ?it/s]"
      ]
     },
     "metadata": {},
     "output_type": "display_data"
    },
    {
     "data": {
      "application/vnd.jupyter.widget-view+json": {
       "model_id": "38f98d352b314a95a23238707626ea6a",
       "version_major": 2,
       "version_minor": 0
      },
      "text/plain": [
       "Validation: |          | 0/? [00:00<?, ?it/s]"
      ]
     },
     "metadata": {},
     "output_type": "display_data"
    },
    {
     "data": {
      "application/vnd.jupyter.widget-view+json": {
       "model_id": "ed74862f2e9a47fb91e16e654c40a2f9",
       "version_major": 2,
       "version_minor": 0
      },
      "text/plain": [
       "Validation: |          | 0/? [00:00<?, ?it/s]"
      ]
     },
     "metadata": {},
     "output_type": "display_data"
    },
    {
     "data": {
      "application/vnd.jupyter.widget-view+json": {
       "model_id": "1251c263f43a432aabd43b3a72bb7bbd",
       "version_major": 2,
       "version_minor": 0
      },
      "text/plain": [
       "Validation: |          | 0/? [00:00<?, ?it/s]"
      ]
     },
     "metadata": {},
     "output_type": "display_data"
    },
    {
     "name": "stderr",
     "output_type": "stream",
     "text": [
      "`Trainer.fit` stopped: `max_epochs=10` reached.\n"
     ]
    },
    {
     "name": "stdout",
     "output_type": "stream",
     "text": [
      "Accuracy for the test dataset: 81.052%\n"
     ]
    },
    {
     "name": "stderr",
     "output_type": "stream",
     "text": [
      " 10%|█         | 1/10 [00:52<07:51, 52.43s/it]GPU available: True (cuda), used: True\n",
      "TPU available: False, using: 0 TPU cores\n",
      "HPU available: False, using: 0 HPUs\n",
      "LOCAL_RANK: 0 - CUDA_VISIBLE_DEVICES: [0]\n",
      "\n",
      "  | Name          | Type             | Params | Mode \n",
      "-----------------------------------------------------------\n",
      "0 | model         | SimpleCNNtorch   | 25.3 K | train\n",
      "1 | loss_fn       | CrossEntropyLoss | 0      | train\n",
      "2 | train_metrics | MetricCollection | 0      | train\n",
      "3 | valid_metrics | MetricCollection | 0      | train\n",
      "-----------------------------------------------------------\n",
      "25.3 K    Trainable params\n",
      "0         Non-trainable params\n",
      "25.3 K    Total params\n",
      "0.101     Total estimated model params size (MB)\n",
      "25        Modules in train mode\n",
      "0         Modules in eval mode\n",
      "SLURM auto-requeueing enabled. Setting signal handlers.\n"
     ]
    },
    {
     "data": {
      "application/vnd.jupyter.widget-view+json": {
       "model_id": "bb9ccf73ef654de9bbb910980d8a88d4",
       "version_major": 2,
       "version_minor": 0
      },
      "text/plain": [
       "Sanity Checking: |          | 0/? [00:00<?, ?it/s]"
      ]
     },
     "metadata": {},
     "output_type": "display_data"
    },
    {
     "data": {
      "application/vnd.jupyter.widget-view+json": {
       "model_id": "265c629212074b5e8be26012d9bf1e5e",
       "version_major": 2,
       "version_minor": 0
      },
      "text/plain": [
       "Training: |          | 0/? [00:00<?, ?it/s]"
      ]
     },
     "metadata": {},
     "output_type": "display_data"
    },
    {
     "data": {
      "application/vnd.jupyter.widget-view+json": {
       "model_id": "47b24fa867fe4aa1855ec6dfaa3bd167",
       "version_major": 2,
       "version_minor": 0
      },
      "text/plain": [
       "Validation: |          | 0/? [00:00<?, ?it/s]"
      ]
     },
     "metadata": {},
     "output_type": "display_data"
    },
    {
     "data": {
      "application/vnd.jupyter.widget-view+json": {
       "model_id": "1f977493b0a84548bc7b922fccddb596",
       "version_major": 2,
       "version_minor": 0
      },
      "text/plain": [
       "Validation: |          | 0/? [00:00<?, ?it/s]"
      ]
     },
     "metadata": {},
     "output_type": "display_data"
    }
   ],
   "source": [
    "from random import randint\n",
    "from torchmetrics import Accuracy\n",
    "\n",
    "\n",
    "seed_list = [randint(1000, 3000) for _ in range(10)]\n",
    "num_classes = config.data.num_classes\n",
    "baseline_accuracy = 0.82\n",
    "\n",
    "for seed in tqdm(seed_list):\n",
    "    seed_everything(seed)\n",
    "\n",
    "    cnn_wi = SimpleCNNtorch(**config.classifier.args,\n",
    "                            num_classes=config.data.num_classes,\n",
    "                            img_size=config.data.img_size)\n",
    "    cnn_wrapper = ClassifierLightningWrapper(config, cnn_wi)\n",
    "    # chekpoint_callback = ModelCheckpoint(\n",
    "    #     monitor=\"val_accuracy\",\n",
    "    #     dirpath=checkpints_dir,\n",
    "    #     filename=f\"{config.data.name}_{classes4fname}_{seed}\",\n",
    "    #     save_top_k=1,\n",
    "    #     mode=\"max\",\n",
    "    #     save_weights_only=True,\n",
    "    # )\n",
    "    # chekpoint_callback.FILE_EXTENSION = '.pth'\n",
    "    trainer = Trainer(\n",
    "        log_every_n_steps=10,\n",
    "        max_epochs=10,\n",
    "        enable_checkpointing=False,\n",
    "        # callbacks=[early_stop_callback],\n",
    "        logger=tb_logger\n",
    "    )\n",
    "    trainer.fit(model=cnn_wrapper, \n",
    "            train_dataloaders=train_loader, \n",
    "            val_dataloaders=val_loader)\n",
    "    \n",
    "    # Check predictive power of the model\n",
    "    calc_metric = Accuracy(task=\"binary\" if num_classes==2 else \"multiclass\", num_classes=num_classes)\n",
    "\n",
    "    accuracy = 0\n",
    "    for images, labels in test_loader:\n",
    "        preds = torch.argmax(cnn_wi(images), axis=1, keepdim=False)\n",
    "        accuracy += calc_metric(preds, labels)\n",
    "    accuracy = (accuracy/len(test_loader)).item()\n",
    "    \n",
    "    print(\"Accuracy for the test dataset: {:.3%}\".format(accuracy))  \n",
    "\n",
    "    if baseline_accuracy - accuracy < 0.1:\n",
    "        fname = f\"{config.data.name}_{classes4fname}_{seed}.pth\"\n",
    "        torch.save(cnn_wi.state_dict(), osp.join(checkpints_dir, fname))\n",
    "        \n",
    "    else:\n",
    "        seed_list.append(randint(1000, 3000))\n",
    "        continue "
   ]
  },
  {
   "cell_type": "code",
   "execution_count": 16,
   "id": "a337c343",
   "metadata": {},
   "outputs": [
    {
     "data": {
      "text/plain": [
       "tensor(False)"
      ]
     },
     "execution_count": 16,
     "metadata": {},
     "output_type": "execute_result"
    }
   ],
   "source": [
    "baseline_accuracy - accuracy/len(test_loader) < 0.1"
   ]
  },
  {
   "cell_type": "code",
   "execution_count": null,
   "id": "14b14cf5",
   "metadata": {},
   "outputs": [],
   "source": []
  }
 ],
 "metadata": {
  "kernelspec": {
   "display_name": "venv",
   "language": "python",
   "name": "python3"
  },
  "language_info": {
   "codemirror_mode": {
    "name": "ipython",
    "version": 3
   },
   "file_extension": ".py",
   "mimetype": "text/x-python",
   "name": "python",
   "nbconvert_exporter": "python",
   "pygments_lexer": "ipython3",
   "version": "3.12.4"
  }
 },
 "nbformat": 4,
 "nbformat_minor": 5
}
