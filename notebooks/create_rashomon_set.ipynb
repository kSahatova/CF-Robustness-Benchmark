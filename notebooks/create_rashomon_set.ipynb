{
 "cells": [
  {
   "cell_type": "code",
   "execution_count": 1,
   "id": "8e2a46d4",
   "metadata": {},
   "outputs": [
    {
     "name": "stderr",
     "output_type": "stream",
     "text": [
      "d:\\PycharmProjects\\CF-Robustness-Benchmark\\venv\\Lib\\site-packages\\albumentations\\__init__.py:28: UserWarning: A new version of Albumentations is available: '2.0.6' (you have '2.0.5'). Upgrade using: pip install -U albumentations. To disable automatic update checks, set the environment variable NO_ALBUMENTATIONS_UPDATE to 1.\n",
      "  check_for_updates()\n"
     ]
    }
   ],
   "source": [
    "import warnings\n",
    "\n",
    "import os\n",
    "import torch\n",
    "import pickle\n",
    "import numpy as np\n",
    "import os.path as osp\n",
    "from tqdm import tqdm\n",
    "from functools import reduce\n",
    "import matplotlib.pyplot as plt\n",
    "\n",
    "from lightning.pytorch import Trainer\n",
    "from lightning.pytorch.loggers import TensorBoardLogger\n",
    "from lightning.pytorch.callbacks import ModelCheckpoint\n",
    "from lightning.pytorch.callbacks.early_stopping import EarlyStopping\n",
    "\n",
    "from src.datasets import DatasetBuilder\n",
    "from src.models.classifiers import SimpleCNNtorch\n",
    "from src.models.lightning_wrappers import ClassifierLightningWrapper \n",
    "\n",
    "from src.utils.generic_utils import seed_everything, get_config, load_model_weights\n",
    "from src.utils.generic_utils import evaluate_classification_model"
   ]
  },
  {
   "cell_type": "code",
   "execution_count": 2,
   "id": "f979f5f9",
   "metadata": {},
   "outputs": [],
   "source": [
    "seed_everything()\n",
    "warnings.filterwarnings(\"ignore\", category=UserWarning)"
   ]
  },
  {
   "cell_type": "code",
   "execution_count": 3,
   "id": "0267461c",
   "metadata": {},
   "outputs": [],
   "source": [
    "config_path = r\"D:\\PycharmProjects\\CF-Robustness-Benchmark\\configs\\train_classifier_mnist.yaml\"\n",
    "config = get_config(config_path)"
   ]
  },
  {
   "cell_type": "code",
   "execution_count": 4,
   "id": "8b1925cd",
   "metadata": {},
   "outputs": [],
   "source": [
    "ds_builder = DatasetBuilder(config)\n",
    "ds_builder.setup()\n",
    "train_loader, val_loader, test_loader = ds_builder.get_dataloaders()"
   ]
  },
  {
   "cell_type": "code",
   "execution_count": 5,
   "id": "20eabd10",
   "metadata": {},
   "outputs": [
    {
     "name": "stdout",
     "output_type": "stream",
     "text": [
      "Accuracy for the test dataset: 100.000%\n"
     ]
    }
   ],
   "source": [
    "baseline_classifier = SimpleCNNtorch(**config.classifier.args,\n",
    "                                     img_size=config.data.img_size)\n",
    "load_model_weights(baseline_classifier, weights_path=config.classifier.checkpoints_path)\n",
    "evaluate_classification_model(baseline_classifier, test_loader, config.data.num_classes)"
   ]
  },
  {
   "cell_type": "code",
   "execution_count": 6,
   "id": "125e986f",
   "metadata": {},
   "outputs": [],
   "source": [
    "experiment_dir = r\"D:\\PycharmProjects\\CF-Robustness-Benchmark\\notebooks\\experiments\"\n",
    "experiment_name = \"mnist_classification\"\n",
    "experiment_version = \"binary\"  if config.data.num_classes == 2 else \"multiclass\"\n",
    "checkpints_dir = osp.join(experiment_dir, experiment_name, experiment_version, 'checkpoints', 'mc_1_8')\n",
    "class_names = ds_builder.class_encodings\n",
    "classes4fname = (\"_\").join([str(i) for i in class_names.values()]) if config.data.num_classes == 2 else \"\"\n",
    "\n",
    "early_stop_callback = EarlyStopping(\n",
    "    monitor=\"val_loss\",\n",
    "    min_delta=0.00,\n",
    "    patience=3,\n",
    "    verbose=False,\n",
    "    mode=\"min\",\n",
    ")\n",
    "tb_logger = TensorBoardLogger(save_dir=experiment_dir, name=experiment_name, version=experiment_version)"
   ]
  },
  {
   "cell_type": "code",
   "execution_count": null,
   "id": "dc68e1cc",
   "metadata": {},
   "outputs": [
    {
     "name": "stderr",
     "output_type": "stream",
     "text": [
      "  0%|          | 0/10 [00:00<?, ?it/s]GPU available: False, used: False\n",
      "TPU available: False, using: 0 TPU cores\n",
      "HPU available: False, using: 0 HPUs\n",
      "\n",
      "  | Name          | Type             | Params | Mode \n",
      "-----------------------------------------------------------\n",
      "0 | model         | SimpleCNNtorch   | 25.0 K | train\n",
      "1 | loss_fn       | CrossEntropyLoss | 0      | train\n",
      "2 | train_metrics | MetricCollection | 0      | train\n",
      "3 | valid_metrics | MetricCollection | 0      | train\n",
      "-----------------------------------------------------------\n",
      "25.0 K    Trainable params\n",
      "0         Non-trainable params\n",
      "25.0 K    Total params\n",
      "0.100     Total estimated model params size (MB)\n",
      "25        Modules in train mode\n",
      "0         Modules in eval mode\n"
     ]
    },
    {
     "name": "stdout",
     "output_type": "stream",
     "text": [
      "Epoch 12: 100%|██████████| 158/158 [00:03<00:00, 42.28it/s, v_num=nary, train_loss_step=7.32e-5, val_loss=0.0057, val_accuracy=0.998, val_auc=0.998, train_loss_epoch=0.006, train_accuracy=0.999, train_auc=0.999]    \n"
     ]
    },
    {
     "name": "stderr",
     "output_type": "stream",
     "text": [
      " 10%|█         | 1/10 [00:42<06:22, 42.47s/it]GPU available: False, used: False\n",
      "TPU available: False, using: 0 TPU cores\n",
      "HPU available: False, using: 0 HPUs\n",
      "\n",
      "  | Name          | Type             | Params | Mode \n",
      "-----------------------------------------------------------\n",
      "0 | model         | SimpleCNNtorch   | 25.0 K | train\n",
      "1 | loss_fn       | CrossEntropyLoss | 0      | train\n",
      "2 | train_metrics | MetricCollection | 0      | train\n",
      "3 | valid_metrics | MetricCollection | 0      | train\n",
      "-----------------------------------------------------------\n",
      "25.0 K    Trainable params\n",
      "0         Non-trainable params\n",
      "25.0 K    Total params\n",
      "0.100     Total estimated model params size (MB)\n",
      "25        Modules in train mode\n",
      "0         Modules in eval mode\n"
     ]
    },
    {
     "name": "stdout",
     "output_type": "stream",
     "text": [
      "Accuracy for the test dataset: 99.953%\n",
      "Epoch 0: 100%|██████████| 158/158 [00:03<00:00, 45.17it/s, v_num=nary, train_loss_step=0.0158, val_loss=0.0194, val_accuracy=0.994, val_auc=0.993, train_loss_epoch=0.109]\n"
     ]
    },
    {
     "name": "stderr",
     "output_type": "stream",
     "text": [
      " 20%|██        | 2/10 [00:46<02:37, 19.68s/it]GPU available: False, used: False\n"
     ]
    },
    {
     "name": "stdout",
     "output_type": "stream",
     "text": [
      "Accuracy for the test dataset: 99.763%\n"
     ]
    },
    {
     "name": "stderr",
     "output_type": "stream",
     "text": [
      "TPU available: False, using: 0 TPU cores\n",
      "HPU available: False, using: 0 HPUs\n",
      "\n",
      "  | Name          | Type             | Params | Mode \n",
      "-----------------------------------------------------------\n",
      "0 | model         | SimpleCNNtorch   | 25.0 K | train\n",
      "1 | loss_fn       | CrossEntropyLoss | 0      | train\n",
      "2 | train_metrics | MetricCollection | 0      | train\n",
      "3 | valid_metrics | MetricCollection | 0      | train\n",
      "-----------------------------------------------------------\n",
      "25.0 K    Trainable params\n",
      "0         Non-trainable params\n",
      "25.0 K    Total params\n",
      "0.100     Total estimated model params size (MB)\n",
      "25        Modules in train mode\n",
      "0         Modules in eval mode\n"
     ]
    },
    {
     "name": "stdout",
     "output_type": "stream",
     "text": [
      "Epoch 0: 100%|██████████| 158/158 [00:03<00:00, 46.59it/s, v_num=nary, train_loss_step=0.160, val_loss=0.0369, val_accuracy=0.985, val_auc=0.984, train_loss_epoch=0.120]\n",
      "Accuracy for the test dataset: 99.524%\n"
     ]
    },
    {
     "name": "stderr",
     "output_type": "stream",
     "text": [
      " 30%|███       | 3/10 [00:49<01:26, 12.34s/it]GPU available: False, used: False\n",
      "TPU available: False, using: 0 TPU cores\n",
      "HPU available: False, using: 0 HPUs\n",
      "\n",
      "  | Name          | Type             | Params | Mode \n",
      "-----------------------------------------------------------\n",
      "0 | model         | SimpleCNNtorch   | 25.0 K | train\n",
      "1 | loss_fn       | CrossEntropyLoss | 0      | train\n",
      "2 | train_metrics | MetricCollection | 0      | train\n",
      "3 | valid_metrics | MetricCollection | 0      | train\n",
      "-----------------------------------------------------------\n",
      "25.0 K    Trainable params\n",
      "0         Non-trainable params\n",
      "25.0 K    Total params\n",
      "0.100     Total estimated model params size (MB)\n",
      "25        Modules in train mode\n",
      "0         Modules in eval mode\n"
     ]
    },
    {
     "name": "stdout",
     "output_type": "stream",
     "text": [
      "Epoch 0: 100%|██████████| 158/158 [00:03<00:00, 52.19it/s, v_num=nary, train_loss_step=0.0129, val_loss=0.0408, val_accuracy=0.985, val_auc=0.984, train_loss_epoch=0.114]\n",
      "Accuracy for the test dataset: 99.432%\n"
     ]
    },
    {
     "name": "stderr",
     "output_type": "stream",
     "text": [
      " 40%|████      | 4/10 [00:53<00:52,  8.74s/it]GPU available: False, used: False\n",
      "TPU available: False, using: 0 TPU cores\n",
      "HPU available: False, using: 0 HPUs\n",
      "\n",
      "  | Name          | Type             | Params | Mode \n",
      "-----------------------------------------------------------\n",
      "0 | model         | SimpleCNNtorch   | 25.0 K | train\n",
      "1 | loss_fn       | CrossEntropyLoss | 0      | train\n",
      "2 | train_metrics | MetricCollection | 0      | train\n",
      "3 | valid_metrics | MetricCollection | 0      | train\n",
      "-----------------------------------------------------------\n",
      "25.0 K    Trainable params\n",
      "0         Non-trainable params\n",
      "25.0 K    Total params\n",
      "0.100     Total estimated model params size (MB)\n",
      "25        Modules in train mode\n",
      "0         Modules in eval mode\n"
     ]
    },
    {
     "name": "stdout",
     "output_type": "stream",
     "text": [
      "Epoch 0: 100%|██████████| 158/158 [00:03<00:00, 48.31it/s, v_num=nary, train_loss_step=0.0845, val_loss=0.0167, val_accuracy=0.994, val_auc=0.995, train_loss_epoch=0.121]\n"
     ]
    },
    {
     "name": "stderr",
     "output_type": "stream",
     "text": [
      " 50%|█████     | 5/10 [00:56<00:34,  6.85s/it]GPU available: False, used: False\n",
      "TPU available: False, using: 0 TPU cores\n",
      "HPU available: False, using: 0 HPUs\n"
     ]
    },
    {
     "name": "stdout",
     "output_type": "stream",
     "text": [
      "Accuracy for the test dataset: 99.527%\n"
     ]
    },
    {
     "name": "stderr",
     "output_type": "stream",
     "text": [
      "\n",
      "  | Name          | Type             | Params | Mode \n",
      "-----------------------------------------------------------\n",
      "0 | model         | SimpleCNNtorch   | 25.0 K | train\n",
      "1 | loss_fn       | CrossEntropyLoss | 0      | train\n",
      "2 | train_metrics | MetricCollection | 0      | train\n",
      "3 | valid_metrics | MetricCollection | 0      | train\n",
      "-----------------------------------------------------------\n",
      "25.0 K    Trainable params\n",
      "0         Non-trainable params\n",
      "25.0 K    Total params\n",
      "0.100     Total estimated model params size (MB)\n",
      "25        Modules in train mode\n",
      "0         Modules in eval mode\n"
     ]
    },
    {
     "name": "stdout",
     "output_type": "stream",
     "text": [
      "Epoch 0: 100%|██████████| 158/158 [00:03<00:00, 51.65it/s, v_num=nary, train_loss_step=0.0309, val_loss=0.0206, val_accuracy=0.992, val_auc=0.992, train_loss_epoch=0.108]\n"
     ]
    },
    {
     "name": "stderr",
     "output_type": "stream",
     "text": [
      " 60%|██████    | 6/10 [00:59<00:22,  5.64s/it]GPU available: False, used: False\n"
     ]
    },
    {
     "name": "stdout",
     "output_type": "stream",
     "text": [
      "Accuracy for the test dataset: 99.811%\n"
     ]
    },
    {
     "name": "stderr",
     "output_type": "stream",
     "text": [
      "TPU available: False, using: 0 TPU cores\n",
      "HPU available: False, using: 0 HPUs\n",
      "\n",
      "  | Name          | Type             | Params | Mode \n",
      "-----------------------------------------------------------\n",
      "0 | model         | SimpleCNNtorch   | 25.0 K | train\n",
      "1 | loss_fn       | CrossEntropyLoss | 0      | train\n",
      "2 | train_metrics | MetricCollection | 0      | train\n",
      "3 | valid_metrics | MetricCollection | 0      | train\n",
      "-----------------------------------------------------------\n",
      "25.0 K    Trainable params\n",
      "0         Non-trainable params\n",
      "25.0 K    Total params\n",
      "0.100     Total estimated model params size (MB)\n",
      "25        Modules in train mode\n",
      "0         Modules in eval mode\n"
     ]
    },
    {
     "name": "stdout",
     "output_type": "stream",
     "text": [
      "Epoch 0: 100%|██████████| 158/158 [00:03<00:00, 48.77it/s, v_num=nary, train_loss_step=0.00718, val_loss=0.0214, val_accuracy=0.991, val_auc=0.991, train_loss_epoch=0.136]\n"
     ]
    },
    {
     "name": "stderr",
     "output_type": "stream",
     "text": [
      " 70%|███████   | 7/10 [01:03<00:14,  4.92s/it]GPU available: False, used: False\n"
     ]
    },
    {
     "name": "stdout",
     "output_type": "stream",
     "text": [
      "Accuracy for the test dataset: 99.621%\n"
     ]
    },
    {
     "name": "stderr",
     "output_type": "stream",
     "text": [
      "TPU available: False, using: 0 TPU cores\n",
      "HPU available: False, using: 0 HPUs\n",
      "\n",
      "  | Name          | Type             | Params | Mode \n",
      "-----------------------------------------------------------\n",
      "0 | model         | SimpleCNNtorch   | 25.0 K | train\n",
      "1 | loss_fn       | CrossEntropyLoss | 0      | train\n",
      "2 | train_metrics | MetricCollection | 0      | train\n",
      "3 | valid_metrics | MetricCollection | 0      | train\n",
      "-----------------------------------------------------------\n",
      "25.0 K    Trainable params\n",
      "0         Non-trainable params\n",
      "25.0 K    Total params\n",
      "0.100     Total estimated model params size (MB)\n",
      "25        Modules in train mode\n",
      "0         Modules in eval mode\n"
     ]
    },
    {
     "name": "stdout",
     "output_type": "stream",
     "text": [
      "Epoch 0: 100%|██████████| 158/158 [00:03<00:00, 48.98it/s, v_num=nary, train_loss_step=0.000576, val_loss=0.0404, val_accuracy=0.986, val_auc=0.985, train_loss_epoch=0.114]\n"
     ]
    },
    {
     "name": "stderr",
     "output_type": "stream",
     "text": [
      " 80%|████████  | 8/10 [01:06<00:08,  4.44s/it]"
     ]
    },
    {
     "name": "stdout",
     "output_type": "stream",
     "text": [
      "Accuracy for the test dataset: 99.384%\n"
     ]
    },
    {
     "name": "stderr",
     "output_type": "stream",
     "text": [
      "GPU available: False, used: False\n",
      "TPU available: False, using: 0 TPU cores\n",
      "HPU available: False, using: 0 HPUs\n",
      "\n",
      "  | Name          | Type             | Params | Mode \n",
      "-----------------------------------------------------------\n",
      "0 | model         | SimpleCNNtorch   | 25.0 K | train\n",
      "1 | loss_fn       | CrossEntropyLoss | 0      | train\n",
      "2 | train_metrics | MetricCollection | 0      | train\n",
      "3 | valid_metrics | MetricCollection | 0      | train\n",
      "-----------------------------------------------------------\n",
      "25.0 K    Trainable params\n",
      "0         Non-trainable params\n",
      "25.0 K    Total params\n",
      "0.100     Total estimated model params size (MB)\n",
      "25        Modules in train mode\n",
      "0         Modules in eval mode\n"
     ]
    },
    {
     "name": "stdout",
     "output_type": "stream",
     "text": [
      "Epoch 0: 100%|██████████| 158/158 [00:02<00:00, 55.46it/s, v_num=nary, train_loss_step=0.00337, val_loss=0.0253, val_accuracy=0.992, val_auc=0.991, train_loss_epoch=0.118]\n",
      "Accuracy for the test dataset: 99.763%\n"
     ]
    },
    {
     "name": "stderr",
     "output_type": "stream",
     "text": [
      " 90%|█████████ | 9/10 [01:09<00:04,  4.01s/it]GPU available: False, used: False\n",
      "TPU available: False, using: 0 TPU cores\n",
      "HPU available: False, using: 0 HPUs\n",
      "\n",
      "  | Name          | Type             | Params | Mode \n",
      "-----------------------------------------------------------\n",
      "0 | model         | SimpleCNNtorch   | 25.0 K | train\n",
      "1 | loss_fn       | CrossEntropyLoss | 0      | train\n",
      "2 | train_metrics | MetricCollection | 0      | train\n",
      "3 | valid_metrics | MetricCollection | 0      | train\n",
      "-----------------------------------------------------------\n",
      "25.0 K    Trainable params\n",
      "0         Non-trainable params\n",
      "25.0 K    Total params\n",
      "0.100     Total estimated model params size (MB)\n",
      "25        Modules in train mode\n",
      "0         Modules in eval mode\n"
     ]
    },
    {
     "name": "stdout",
     "output_type": "stream",
     "text": [
      "Epoch 0: 100%|██████████| 158/158 [00:03<00:00, 47.22it/s, v_num=nary, train_loss_step=0.0291, val_loss=0.0247, val_accuracy=0.991, val_auc=0.991, train_loss_epoch=0.136]\n",
      "Accuracy for the test dataset: 99.669%\n"
     ]
    },
    {
     "name": "stderr",
     "output_type": "stream",
     "text": [
      "100%|██████████| 10/10 [01:13<00:00,  7.33s/it]\n"
     ]
    }
   ],
   "source": [
    "from random import randint\n",
    "from torchmetrics import Accuracy\n",
    "\n",
    "\n",
    "seed_list = [randint(1000, 5000) for _ in range(10)]\n",
    "num_classes = config.data.num_classes\n",
    "baseline_accuracy = 1.0\n",
    "\n",
    "for seed in tqdm(seed_list):\n",
    "    seed_everything(seed)\n",
    "\n",
    "    cnn_wi = SimpleCNNtorch(**config.classifier.args,\n",
    "                            img_size=config.data.img_size)\n",
    "    cnn_wrapper = ClassifierLightningWrapper(config, cnn_wi)\n",
    "    chekpoint_callback = ModelCheckpoint(\n",
    "        monitor=\"val_accuracy\",\n",
    "        dirpath=checkpints_dir,\n",
    "        filename=f\"mnist_{classes4fname}_{seed}\",\n",
    "        save_top_k=1,\n",
    "        mode=\"max\",\n",
    "        save_weights_only=True,\n",
    "    )\n",
    "    chekpoint_callback.FILE_EXTENSION = '.pth'\n",
    "    trainer = Trainer(\n",
    "        log_every_n_steps=10,\n",
    "        max_epochs=15,\n",
    "        enable_checkpointing=True,\n",
    "        callbacks=[early_stop_callback, chekpoint_callback],\n",
    "        logger=tb_logger\n",
    "    )\n",
    "    trainer.fit(model=cnn_wrapper, \n",
    "            train_dataloaders=train_loader, \n",
    "            val_dataloaders=val_loader)\n",
    "    \n",
    "    # Check predictive power of the model\n",
    "    calc_metric = Accuracy(task=\"binary\" if num_classes==2 else \"multiclass\", num_classes=num_classes)\n",
    "\n",
    "    accuracy = 0\n",
    "    for images, labels in test_loader:\n",
    "        preds = torch.argmax(cnn_wi(images), axis=1, keepdim=False)\n",
    "        accuracy += calc_metric(preds, labels)\n",
    "\n",
    "    print(\"Accuracy for the test dataset: {:.3%}\".format(accuracy / len(test_loader)))  \n",
    "\n",
    "    if baseline_accuracy - accuracy > 0.1:\n",
    "        seed_list.append(randint(1000, 5000))\n",
    "        continue "
   ]
  },
  {
   "cell_type": "code",
   "execution_count": null,
   "id": "a337c343",
   "metadata": {},
   "outputs": [],
   "source": []
  }
 ],
 "metadata": {
  "kernelspec": {
   "display_name": "venv",
   "language": "python",
   "name": "python3"
  },
  "language_info": {
   "codemirror_mode": {
    "name": "ipython",
    "version": 3
   },
   "file_extension": ".py",
   "mimetype": "text/x-python",
   "name": "python",
   "nbconvert_exporter": "python",
   "pygments_lexer": "ipython3",
   "version": "3.11.7"
  }
 },
 "nbformat": 4,
 "nbformat_minor": 5
}
