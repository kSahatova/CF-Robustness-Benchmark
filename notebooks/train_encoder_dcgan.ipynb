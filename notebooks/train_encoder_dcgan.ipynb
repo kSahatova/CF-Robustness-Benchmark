{
 "cells": [
  {
   "cell_type": "code",
   "execution_count": 1,
   "metadata": {},
   "outputs": [
    {
     "name": "stderr",
     "output_type": "stream",
     "text": [
      "/data/leuven/365/vsc36567/miniconda3/lib/python3.12/site-packages/albumentations/__init__.py:28: UserWarning: A new version of Albumentations is available: '2.0.7' (you have '2.0.4'). Upgrade using: pip install -U albumentations. To disable automatic update checks, set the environment variable NO_ALBUMENTATIONS_UPDATE to 1.\n",
      "  check_for_updates()\n",
      "2025-05-26 14:27:27.653532: E external/local_xla/xla/stream_executor/cuda/cuda_fft.cc:467] Unable to register cuFFT factory: Attempting to register factory for plugin cuFFT when one has already been registered\n",
      "WARNING: All log messages before absl::InitializeLog() is called are written to STDERR\n",
      "E0000 00:00:1748262447.671044  261811 cuda_dnn.cc:8579] Unable to register cuDNN factory: Attempting to register factory for plugin cuDNN when one has already been registered\n",
      "E0000 00:00:1748262447.676342  261811 cuda_blas.cc:1407] Unable to register cuBLAS factory: Attempting to register factory for plugin cuBLAS when one has already been registered\n",
      "W0000 00:00:1748262447.690800  261811 computation_placer.cc:177] computation placer already registered. Please check linkage and avoid linking the same target more than once.\n",
      "W0000 00:00:1748262447.690820  261811 computation_placer.cc:177] computation placer already registered. Please check linkage and avoid linking the same target more than once.\n",
      "W0000 00:00:1748262447.690822  261811 computation_placer.cc:177] computation placer already registered. Please check linkage and avoid linking the same target more than once.\n",
      "W0000 00:00:1748262447.690824  261811 computation_placer.cc:177] computation placer already registered. Please check linkage and avoid linking the same target more than once.\n",
      "2025-05-26 14:27:27.695214: I tensorflow/core/platform/cpu_feature_guard.cc:210] This TensorFlow binary is optimized to use available CPU instructions in performance-critical operations.\n",
      "To enable the following instructions: AVX2 AVX512F FMA, in other operations, rebuild TensorFlow with the appropriate compiler flags.\n"
     ]
    }
   ],
   "source": [
    "import os.path as osp\n",
    "from tqdm import tqdm\n",
    "import matplotlib.pyplot as plt\n",
    "\n",
    "import torch\n",
    "import torch.nn as nn\n",
    "import torchvision.utils as vutils\n",
    "\n",
    "from src.datasets import DatasetBuilder\n",
    "\n",
    "from src.utils import seed_everything, get_config\n",
    "from src.cf_methods.c3lt import models "
   ]
  },
  {
   "cell_type": "code",
   "execution_count": 2,
   "metadata": {},
   "outputs": [],
   "source": [
    "seed_everything()\n",
    "\n",
    "plt.style.use('seaborn-v0_8-darkgrid')\n",
    "params = {\"text.color\" : \"black\"}\n",
    "plt.rcParams.update(params)"
   ]
  },
  {
   "cell_type": "markdown",
   "metadata": {},
   "source": [
    "## Load data"
   ]
  },
  {
   "cell_type": "code",
   "execution_count": 9,
   "metadata": {},
   "outputs": [],
   "source": [
    "repo_path = r'/data/leuven/365/vsc36567/CF-Robustness-Benchmark'  # \"D:\\PycharmProjects\\CF-Robustness-Benchmark\" \n",
    "config_path = osp.join(repo_path, r'configs/train_classifier_mnist.yaml')\n",
    "\n",
    "config = get_config(config_path)\n",
    "config.data.classes = [9, 4, 3, 7]\n",
    "config.data.num_classes = 4\n",
    "config.data_dir = osp.join(repo_path, config.data_dir)\n",
    "\n",
    "BATCH_SIZE = config.batch_size\n",
    "img_size = config.data.img_size"
   ]
  },
  {
   "cell_type": "code",
   "execution_count": 11,
   "metadata": {},
   "outputs": [],
   "source": [
    "ds_builder = DatasetBuilder(config)\n",
    "ds_builder.setup()\n",
    "train_loader, val_loader, test_loader = ds_builder.get_dataloaders()"
   ]
  },
  {
   "cell_type": "code",
   "execution_count": 12,
   "metadata": {},
   "outputs": [
    {
     "data": {
      "text/plain": [
       "[9, 4, 3, 7]"
      ]
     },
     "execution_count": 12,
     "metadata": {},
     "output_type": "execute_result"
    }
   ],
   "source": [
    "config.data.classes"
   ]
  },
  {
   "cell_type": "code",
   "execution_count": 9,
   "metadata": {},
   "outputs": [
    {
     "name": "stdout",
     "output_type": "stream",
     "text": [
      "Fashionmnist dataset has been successfully loaded\n",
      "Unique classes:  ['T-shirt/top', 'Trouser', 'Pullover', 'Dress', 'Coat', 'Sandal', 'Shirt', 'Sneaker', 'Bag', 'Ankle boot']\n"
     ]
    }
   ],
   "source": [
    "# preprocessing\n",
    "# download = True\n",
    "\n",
    "\n",
    "# data_dir = r'D:\\PycharmProjects\\Counterfactual-Robustness-Benchmark\\data'\n",
    "# r\"/vsc-hard-mounts/leuven-data/365/vsc36567/Counterfactual-Robustness-Benchmark/data\"\n",
    "# data_flag = \"FashionMNIST\"\n",
    "# ds_names = ['train', 'val','test']\n",
    "# device = 'cuda' if torch.cuda.is_available() else 'cpu'\n",
    "# classes = ['all'] #[1, 8]\n",
    "\n",
    "# datasets = {}\n",
    "# for ds_name in ds_names:\n",
    "#     datasets[ds_name] = FashionMNISTDataset(data_flag, \n",
    "#                                     split=ds_name, \n",
    "#                                     data_dir=data_dir, \n",
    "#                                     size=img_size, \n",
    "#                                     download=download,\n",
    "#                                     increase_channels=False,\n",
    "#                                     undersample=False,\n",
    "#                                     channels_first=True,\n",
    "#                                     classes=classes)\n",
    "\n",
    "# # unique_targets = np.unique(datasets['train'].data.targets).tolist()\n",
    "# NUM_CLASSES = len(datasets['train'].data.classes)\n",
    "\n",
    "# print(f\"{data_flag.capitalize()} dataset has been successfully loaded\")\n",
    "# print(\"Unique classes: \", datasets['train'].data.classes)"
   ]
  },
  {
   "cell_type": "code",
   "execution_count": 10,
   "metadata": {},
   "outputs": [],
   "source": [
    "# train_loader = DataLoader(dataset=datasets['train'], batch_size=BATCH_SIZE, shuffle=True)\n",
    "# val_loader = DataLoader(dataset=datasets['val'], batch_size=BATCH_SIZE, shuffle=True) \n",
    "# test_loader = DataLoader(dataset=datasets['test'], batch_size=BATCH_SIZE, shuffle=True) "
   ]
  },
  {
   "cell_type": "code",
   "execution_count": 13,
   "metadata": {},
   "outputs": [],
   "source": [
    "z = 100\n",
    "ngf = 64 # Size of feature maps in generator\n",
    "ndf = 64 # Size of feature maps in discriminator\n",
    "nc = 1 # Number of channels\n",
    "beta1 = 0.5 # Beta1 hyperparameter for Adam optimizers\n",
    "lr = 0.0002 # Learning rate for optimizers\n",
    "device = 'cuda' if torch.cuda.is_available() else 'cpu' "
   ]
  },
  {
   "cell_type": "markdown",
   "metadata": {},
   "source": [
    "## Build DCGAN object  "
   ]
  },
  {
   "cell_type": "code",
   "execution_count": 14,
   "metadata": {},
   "outputs": [],
   "source": [
    "# custom weights initialization called on ``netG`` and ``netD``\n",
    "def weights_init(m):\n",
    "    classname = m.__class__.__name__\n",
    "    if classname.find('Conv') != -1:\n",
    "        nn.init.normal_(m.weight.data, 0.0, 0.02)\n",
    "    elif classname.find('BatchNorm') != -1:\n",
    "        nn.init.normal_(m.weight.data, 1.0, 0.02)\n",
    "        nn.init.constant_(m.bias.data, 0)"
   ]
  },
  {
   "cell_type": "code",
   "execution_count": 15,
   "metadata": {},
   "outputs": [],
   "source": [
    "gen = models.Generator(latent_dim=z, ngf=ngf, nc=nc).to(device)\n",
    "discr = models.Discriminator(ndf=ndf, nc=1).to(device)\n",
    "\n",
    "gen.apply(weights_init);\n",
    "discr.apply(weights_init);"
   ]
  },
  {
   "cell_type": "code",
   "execution_count": 16,
   "metadata": {},
   "outputs": [],
   "source": [
    "# Initialize the ``BCELoss`` function\n",
    "criterion = nn.BCELoss()\n",
    "\n",
    "# Create batch of latent vectors that we will use to visualize\n",
    "#  the progression of the generator\n",
    "fixed_noise = torch.randn(BATCH_SIZE, z, 1, 1, device=device)\n",
    "\n",
    "# Establish convention for real and fake labels during training\n",
    "real_label = 1.\n",
    "fake_label = 0.\n",
    "\n",
    "# Setup Adam optimizers for both G and D\n",
    "optimizerG = torch.optim.Adam(gen.parameters(), lr=lr, betas=(beta1, 0.999))\n",
    "optimizerD = torch.optim.Adam(discr.parameters(), lr=lr, betas=(beta1, 0.999))"
   ]
  },
  {
   "cell_type": "code",
   "execution_count": 17,
   "metadata": {},
   "outputs": [
    {
     "name": "stdout",
     "output_type": "stream",
     "text": [
      "Starting Training Loop...\n",
      "[0/15][0/303]\tLoss_D: 1.6825\tLoss_G: 1.4942\tD(x): 0.4016\tD(G(z)): 0.4964 / 0.2442\n",
      "[0/15][50/303]\tLoss_D: 0.2232\tLoss_G: 4.3995\tD(x): 0.8976\tD(G(z)): 0.0934 / 0.0149\n",
      "[0/15][100/303]\tLoss_D: 0.5047\tLoss_G: 4.1447\tD(x): 0.6779\tD(G(z)): 0.0361 / 0.0294\n",
      "[0/15][150/303]\tLoss_D: 0.5981\tLoss_G: 1.8584\tD(x): 0.7045\tD(G(z)): 0.1579 / 0.1805\n",
      "[0/15][200/303]\tLoss_D: 0.4279\tLoss_G: 2.7682\tD(x): 0.8752\tD(G(z)): 0.2365 / 0.0760\n",
      "[0/15][250/303]\tLoss_D: 0.5013\tLoss_G: 2.7920\tD(x): 0.8015\tD(G(z)): 0.2149 / 0.0811\n",
      "[0/15][300/303]\tLoss_D: 0.4399\tLoss_G: 2.0207\tD(x): 0.7414\tD(G(z)): 0.1084 / 0.1612\n",
      "[1/15][0/303]\tLoss_D: 0.5208\tLoss_G: 3.6284\tD(x): 0.8966\tD(G(z)): 0.3115 / 0.0363\n",
      "[1/15][50/303]\tLoss_D: 0.5000\tLoss_G: 2.7233\tD(x): 0.8588\tD(G(z)): 0.2634 / 0.0857\n",
      "[1/15][100/303]\tLoss_D: 0.5417\tLoss_G: 3.1313\tD(x): 0.9437\tD(G(z)): 0.3476 / 0.0577\n",
      "[1/15][150/303]\tLoss_D: 0.4977\tLoss_G: 2.1245\tD(x): 0.7908\tD(G(z)): 0.2008 / 0.1498\n",
      "[1/15][200/303]\tLoss_D: 0.4897\tLoss_G: 2.0589\tD(x): 0.7178\tD(G(z)): 0.1119 / 0.1786\n",
      "[1/15][250/303]\tLoss_D: 0.7601\tLoss_G: 2.4335\tD(x): 0.7681\tD(G(z)): 0.3377 / 0.1157\n",
      "[1/15][300/303]\tLoss_D: 0.7465\tLoss_G: 1.0199\tD(x): 0.5758\tD(G(z)): 0.0914 / 0.4182\n",
      "[2/15][0/303]\tLoss_D: 0.6713\tLoss_G: 2.3040\tD(x): 0.8433\tD(G(z)): 0.3503 / 0.1309\n",
      "[2/15][50/303]\tLoss_D: 0.6678\tLoss_G: 1.9068\tD(x): 0.7253\tD(G(z)): 0.2499 / 0.1833\n",
      "[2/15][100/303]\tLoss_D: 0.7495\tLoss_G: 2.1454\tD(x): 0.8196\tD(G(z)): 0.3923 / 0.1374\n",
      "[2/15][150/303]\tLoss_D: 0.7685\tLoss_G: 1.5498\tD(x): 0.6780\tD(G(z)): 0.2800 / 0.2412\n",
      "[2/15][200/303]\tLoss_D: 0.8354\tLoss_G: 1.4116\tD(x): 0.6930\tD(G(z)): 0.3059 / 0.2868\n",
      "[2/15][250/303]\tLoss_D: 0.7044\tLoss_G: 2.4794\tD(x): 0.8128\tD(G(z)): 0.3506 / 0.1115\n",
      "[2/15][300/303]\tLoss_D: 0.8850\tLoss_G: 1.3414\tD(x): 0.6006\tD(G(z)): 0.2366 / 0.3126\n",
      "[3/15][0/303]\tLoss_D: 1.1859\tLoss_G: 2.9338\tD(x): 0.8727\tD(G(z)): 0.5934 / 0.0764\n",
      "[3/15][50/303]\tLoss_D: 0.9414\tLoss_G: 0.8207\tD(x): 0.5732\tD(G(z)): 0.2589 / 0.4764\n",
      "[3/15][100/303]\tLoss_D: 1.1984\tLoss_G: 2.3497\tD(x): 0.8146\tD(G(z)): 0.5683 / 0.1175\n",
      "[3/15][150/303]\tLoss_D: 0.8953\tLoss_G: 1.4770\tD(x): 0.6515\tD(G(z)): 0.3174 / 0.2514\n",
      "[3/15][200/303]\tLoss_D: 0.9355\tLoss_G: 1.4448\tD(x): 0.6590\tD(G(z)): 0.3419 / 0.2763\n",
      "[3/15][250/303]\tLoss_D: 1.3721\tLoss_G: 1.8994\tD(x): 0.8025\tD(G(z)): 0.6151 / 0.1693\n",
      "[3/15][300/303]\tLoss_D: 0.9556\tLoss_G: 1.7394\tD(x): 0.6514\tD(G(z)): 0.3542 / 0.2070\n",
      "[4/15][0/303]\tLoss_D: 1.1545\tLoss_G: 1.9400\tD(x): 0.6738\tD(G(z)): 0.4389 / 0.1894\n",
      "[4/15][50/303]\tLoss_D: 1.0425\tLoss_G: 1.1054\tD(x): 0.5672\tD(G(z)): 0.3091 / 0.3686\n",
      "[4/15][100/303]\tLoss_D: 1.0379\tLoss_G: 1.3296\tD(x): 0.6585\tD(G(z)): 0.3907 / 0.2992\n",
      "[4/15][150/303]\tLoss_D: 0.7763\tLoss_G: 1.5429\tD(x): 0.7425\tD(G(z)): 0.3327 / 0.2392\n",
      "[4/15][200/303]\tLoss_D: 1.0164\tLoss_G: 1.2522\tD(x): 0.5799\tD(G(z)): 0.3178 / 0.3186\n",
      "[4/15][250/303]\tLoss_D: 1.0151\tLoss_G: 1.2242\tD(x): 0.5278\tD(G(z)): 0.2715 / 0.3274\n",
      "[4/15][300/303]\tLoss_D: 0.9849\tLoss_G: 1.4336\tD(x): 0.6453\tD(G(z)): 0.3802 / 0.2746\n",
      "[5/15][0/303]\tLoss_D: 0.8986\tLoss_G: 1.6908\tD(x): 0.7323\tD(G(z)): 0.3823 / 0.2235\n",
      "[5/15][50/303]\tLoss_D: 1.0185\tLoss_G: 1.6360\tD(x): 0.6940\tD(G(z)): 0.4284 / 0.2232\n",
      "[5/15][100/303]\tLoss_D: 1.0399\tLoss_G: 1.1614\tD(x): 0.5423\tD(G(z)): 0.2930 / 0.3530\n",
      "[5/15][150/303]\tLoss_D: 1.1179\tLoss_G: 1.6238\tD(x): 0.5396\tD(G(z)): 0.3031 / 0.2555\n",
      "[5/15][200/303]\tLoss_D: 1.1987\tLoss_G: 1.7154\tD(x): 0.7177\tD(G(z)): 0.5320 / 0.2097\n",
      "[5/15][250/303]\tLoss_D: 1.1253\tLoss_G: 1.1666\tD(x): 0.5602\tD(G(z)): 0.3642 / 0.3423\n",
      "[5/15][300/303]\tLoss_D: 1.1120\tLoss_G: 1.0009\tD(x): 0.4804\tD(G(z)): 0.2519 / 0.4016\n",
      "[6/15][0/303]\tLoss_D: 1.0336\tLoss_G: 1.3354\tD(x): 0.5731\tD(G(z)): 0.3192 / 0.2997\n",
      "[6/15][50/303]\tLoss_D: 1.4048\tLoss_G: 2.0659\tD(x): 0.7943\tD(G(z)): 0.6525 / 0.1479\n",
      "[6/15][100/303]\tLoss_D: 0.9530\tLoss_G: 1.6136\tD(x): 0.6415\tD(G(z)): 0.3575 / 0.2264\n",
      "[6/15][150/303]\tLoss_D: 1.1009\tLoss_G: 1.5073\tD(x): 0.7297\tD(G(z)): 0.5067 / 0.2502\n",
      "[6/15][200/303]\tLoss_D: 1.3286\tLoss_G: 1.0668\tD(x): 0.5298\tD(G(z)): 0.4216 / 0.3854\n",
      "[6/15][250/303]\tLoss_D: 1.1986\tLoss_G: 1.2097\tD(x): 0.6293\tD(G(z)): 0.4714 / 0.3315\n",
      "[6/15][300/303]\tLoss_D: 1.0165\tLoss_G: 1.2162\tD(x): 0.6378\tD(G(z)): 0.3923 / 0.3222\n",
      "[7/15][0/303]\tLoss_D: 0.9524\tLoss_G: 1.6783\tD(x): 0.7608\tD(G(z)): 0.4618 / 0.2132\n",
      "[7/15][50/303]\tLoss_D: 1.5072\tLoss_G: 1.7572\tD(x): 0.8166\tD(G(z)): 0.6881 / 0.1988\n",
      "[7/15][100/303]\tLoss_D: 1.0930\tLoss_G: 1.1765\tD(x): 0.6357\tD(G(z)): 0.4262 / 0.3375\n",
      "[7/15][150/303]\tLoss_D: 1.2641\tLoss_G: 1.3339\tD(x): 0.5766\tD(G(z)): 0.4596 / 0.3062\n",
      "[7/15][200/303]\tLoss_D: 1.1541\tLoss_G: 1.6590\tD(x): 0.6931\tD(G(z)): 0.5038 / 0.2180\n",
      "[7/15][250/303]\tLoss_D: 1.1721\tLoss_G: 1.4295\tD(x): 0.5400\tD(G(z)): 0.3575 / 0.2734\n",
      "[7/15][300/303]\tLoss_D: 1.1360\tLoss_G: 0.9455\tD(x): 0.5114\tD(G(z)): 0.3093 / 0.4193\n",
      "[8/15][0/303]\tLoss_D: 1.2304\tLoss_G: 1.3525\tD(x): 0.5003\tD(G(z)): 0.3564 / 0.3076\n",
      "[8/15][50/303]\tLoss_D: 1.2952\tLoss_G: 0.8278\tD(x): 0.4215\tD(G(z)): 0.2864 / 0.4585\n",
      "[8/15][100/303]\tLoss_D: 1.2649\tLoss_G: 1.2990\tD(x): 0.6500\tD(G(z)): 0.5243 / 0.2977\n",
      "[8/15][150/303]\tLoss_D: 1.0330\tLoss_G: 1.5866\tD(x): 0.7182\tD(G(z)): 0.4652 / 0.2314\n",
      "[8/15][200/303]\tLoss_D: 1.1385\tLoss_G: 1.2524\tD(x): 0.5676\tD(G(z)): 0.3928 / 0.3174\n",
      "[8/15][250/303]\tLoss_D: 1.1318\tLoss_G: 1.2835\tD(x): 0.6549\tD(G(z)): 0.4546 / 0.3022\n",
      "[8/15][300/303]\tLoss_D: 1.1481\tLoss_G: 0.9127\tD(x): 0.5249\tD(G(z)): 0.3472 / 0.4202\n",
      "[9/15][0/303]\tLoss_D: 1.1579\tLoss_G: 1.1217\tD(x): 0.5459\tD(G(z)): 0.3718 / 0.3539\n",
      "[9/15][50/303]\tLoss_D: 0.9995\tLoss_G: 1.2876\tD(x): 0.5644\tD(G(z)): 0.3129 / 0.2999\n",
      "[9/15][100/303]\tLoss_D: 0.9334\tLoss_G: 1.2187\tD(x): 0.5749\tD(G(z)): 0.2878 / 0.3228\n",
      "[9/15][150/303]\tLoss_D: 1.2330\tLoss_G: 1.2518\tD(x): 0.5582\tD(G(z)): 0.4391 / 0.3059\n",
      "[9/15][200/303]\tLoss_D: 1.1001\tLoss_G: 1.0128\tD(x): 0.4802\tD(G(z)): 0.2636 / 0.3925\n",
      "[9/15][250/303]\tLoss_D: 1.0866\tLoss_G: 1.2432\tD(x): 0.5352\tD(G(z)): 0.3266 / 0.3280\n",
      "[9/15][300/303]\tLoss_D: 1.3918\tLoss_G: 0.9404\tD(x): 0.5449\tD(G(z)): 0.5078 / 0.4082\n",
      "[10/15][0/303]\tLoss_D: 1.0758\tLoss_G: 1.1317\tD(x): 0.6347\tD(G(z)): 0.4154 / 0.3525\n",
      "[10/15][50/303]\tLoss_D: 1.2164\tLoss_G: 0.8793\tD(x): 0.4966\tD(G(z)): 0.3576 / 0.4390\n",
      "[10/15][100/303]\tLoss_D: 1.3038\tLoss_G: 0.8484\tD(x): 0.4163\tD(G(z)): 0.2648 / 0.4521\n",
      "[10/15][150/303]\tLoss_D: 1.2511\tLoss_G: 1.0631\tD(x): 0.5124\tD(G(z)): 0.3962 / 0.3667\n",
      "[10/15][200/303]\tLoss_D: 1.0178\tLoss_G: 1.4597\tD(x): 0.6198\tD(G(z)): 0.3756 / 0.2643\n",
      "[10/15][250/303]\tLoss_D: 1.1733\tLoss_G: 1.3234\tD(x): 0.5888\tD(G(z)): 0.4308 / 0.2931\n",
      "[10/15][300/303]\tLoss_D: 1.0399\tLoss_G: 1.2413\tD(x): 0.5923\tD(G(z)): 0.3710 / 0.3126\n",
      "[11/15][0/303]\tLoss_D: 1.3120\tLoss_G: 1.1200\tD(x): 0.5327\tD(G(z)): 0.4016 / 0.3572\n",
      "[11/15][50/303]\tLoss_D: 1.1485\tLoss_G: 1.0124\tD(x): 0.5211\tD(G(z)): 0.3483 / 0.3810\n",
      "[11/15][100/303]\tLoss_D: 1.1410\tLoss_G: 1.4044\tD(x): 0.6056\tD(G(z)): 0.4255 / 0.2707\n",
      "[11/15][150/303]\tLoss_D: 1.2614\tLoss_G: 1.1307\tD(x): 0.5715\tD(G(z)): 0.4562 / 0.3519\n",
      "[11/15][200/303]\tLoss_D: 1.1036\tLoss_G: 1.1591\tD(x): 0.6198\tD(G(z)): 0.4278 / 0.3332\n",
      "[11/15][250/303]\tLoss_D: 1.2432\tLoss_G: 1.3297\tD(x): 0.5355\tD(G(z)): 0.3935 / 0.2958\n",
      "[11/15][300/303]\tLoss_D: 1.2107\tLoss_G: 1.1762\tD(x): 0.6052\tD(G(z)): 0.4634 / 0.3235\n",
      "[12/15][0/303]\tLoss_D: 1.2127\tLoss_G: 1.2430\tD(x): 0.5673\tD(G(z)): 0.4174 / 0.3152\n",
      "[12/15][50/303]\tLoss_D: 1.0728\tLoss_G: 1.2413\tD(x): 0.5781\tD(G(z)): 0.3625 / 0.3106\n",
      "[12/15][100/303]\tLoss_D: 1.1564\tLoss_G: 1.4201\tD(x): 0.6313\tD(G(z)): 0.4535 / 0.2639\n",
      "[12/15][150/303]\tLoss_D: 1.1461\tLoss_G: 1.1359\tD(x): 0.6421\tD(G(z)): 0.4612 / 0.3457\n",
      "[12/15][200/303]\tLoss_D: 1.1878\tLoss_G: 1.3626\tD(x): 0.6508\tD(G(z)): 0.4912 / 0.2856\n",
      "[12/15][250/303]\tLoss_D: 1.2235\tLoss_G: 0.9651\tD(x): 0.5117\tD(G(z)): 0.3800 / 0.4070\n",
      "[12/15][300/303]\tLoss_D: 1.1362\tLoss_G: 0.9760\tD(x): 0.5671\tD(G(z)): 0.3845 / 0.3931\n",
      "[13/15][0/303]\tLoss_D: 1.1467\tLoss_G: 1.4836\tD(x): 0.7240\tD(G(z)): 0.5128 / 0.2584\n",
      "[13/15][50/303]\tLoss_D: 1.0756\tLoss_G: 1.1494\tD(x): 0.5218\tD(G(z)): 0.3012 / 0.3517\n",
      "[13/15][100/303]\tLoss_D: 1.2319\tLoss_G: 1.0433\tD(x): 0.5259\tD(G(z)): 0.4015 / 0.3857\n",
      "[13/15][150/303]\tLoss_D: 1.1351\tLoss_G: 1.1540\tD(x): 0.5738\tD(G(z)): 0.3917 / 0.3376\n",
      "[13/15][200/303]\tLoss_D: 1.1888\tLoss_G: 0.9685\tD(x): 0.5462\tD(G(z)): 0.4013 / 0.4080\n",
      "[13/15][250/303]\tLoss_D: 1.0544\tLoss_G: 1.1679\tD(x): 0.6059\tD(G(z)): 0.3837 / 0.3306\n",
      "[13/15][300/303]\tLoss_D: 1.0564\tLoss_G: 1.2863\tD(x): 0.6161\tD(G(z)): 0.3925 / 0.3037\n",
      "[14/15][0/303]\tLoss_D: 1.3757\tLoss_G: 0.9903\tD(x): 0.4563\tD(G(z)): 0.3673 / 0.3949\n",
      "[14/15][50/303]\tLoss_D: 1.0428\tLoss_G: 1.3081\tD(x): 0.5743\tD(G(z)): 0.3517 / 0.3005\n",
      "[14/15][100/303]\tLoss_D: 1.1151\tLoss_G: 1.3175\tD(x): 0.6577\tD(G(z)): 0.4618 / 0.2963\n",
      "[14/15][150/303]\tLoss_D: 1.2357\tLoss_G: 1.0268\tD(x): 0.5705\tD(G(z)): 0.4338 / 0.3885\n",
      "[14/15][200/303]\tLoss_D: 1.1986\tLoss_G: 1.3618\tD(x): 0.6772\tD(G(z)): 0.5225 / 0.2757\n",
      "[14/15][250/303]\tLoss_D: 1.2603\tLoss_G: 1.0881\tD(x): 0.6203\tD(G(z)): 0.4987 / 0.3621\n",
      "[14/15][300/303]\tLoss_D: 1.1021\tLoss_G: 1.3650\tD(x): 0.6986\tD(G(z)): 0.4944 / 0.2788\n"
     ]
    }
   ],
   "source": [
    "# Training Loop\n",
    "\n",
    "# Lists to keep track of progress\n",
    "img_list = []\n",
    "G_losses = []\n",
    "D_losses = []\n",
    "iters = 0\n",
    "num_epochs = 15\n",
    "\n",
    "print(\"Starting Training Loop...\")\n",
    "# For each epoch\n",
    "for epoch in range(num_epochs):\n",
    "    # For each batch in the dataloader\n",
    "    for i, data in enumerate(train_loader, 0):\n",
    "\n",
    "        ############################\n",
    "        # (1) Update D network: maximize log(D(x)) + log(1 - D(G(z)))\n",
    "        ###########################\n",
    "        ## Train with all-real batch\n",
    "        discr.zero_grad()\n",
    "        # Format batch\n",
    "        real_cpu = data[0].to(device)\n",
    "        b_size = real_cpu.size(0)\n",
    "        label = torch.full((b_size,), real_label, dtype=torch.float, device=device)\n",
    "        # Forward pass real batch through D\n",
    "        output = discr(real_cpu).view(-1)\n",
    "        # Calculate loss on all-real batch\n",
    "        errD_real = criterion(output, label)\n",
    "        # Calculate gradients for D in backward pass\n",
    "        errD_real.backward()\n",
    "        D_x = output.mean().item()\n",
    "\n",
    "        ## Train with all-fake batch\n",
    "        # Generate batch of latent vectors\n",
    "        noise = torch.randn(b_size, z, 1, 1, device=device)\n",
    "        # Generate fake image batch with G\n",
    "        fake = gen(noise)\n",
    "        label.fill_(fake_label)\n",
    "        # Classify all fake batch with D\n",
    "        output = discr(fake.detach()).view(-1)\n",
    "        # Calculate D's loss on the all-fake batch\n",
    "        errD_fake = criterion(output, label)\n",
    "        # Calculate the gradients for this batch, accumulated (summed) with previous gradients\n",
    "        errD_fake.backward()\n",
    "        D_G_z1 = output.mean().item()\n",
    "        # Compute error of D as sum over the fake and the real batches\n",
    "        errD = errD_real + errD_fake\n",
    "        # Update D\n",
    "        optimizerD.step()\n",
    "\n",
    "        ############################\n",
    "        # (2) Update G network: maximize log(D(G(z)))\n",
    "        ###########################\n",
    "        gen.zero_grad()\n",
    "        label.fill_(real_label)  # fake labels are real for generator cost\n",
    "        # Since we just updated D, perform another forward pass of all-fake batch through D\n",
    "        output = discr(fake).view(-1)\n",
    "        # Calculate G's loss based on this output\n",
    "        errG = criterion(output, label)\n",
    "        # Calculate gradients for G\n",
    "        errG.backward()\n",
    "        D_G_z2 = output.mean().item()\n",
    "        # Update G\n",
    "        optimizerG.step()\n",
    "\n",
    "        # Output training stats\n",
    "        if i % 50 == 0:\n",
    "            print('[%d/%d][%d/%d]\\tLoss_D: %.4f\\tLoss_G: %.4f\\tD(x): %.4f\\tD(G(z)): %.4f / %.4f'\n",
    "                  % (epoch, num_epochs, i, len(train_loader),\n",
    "                     errD.item(), errG.item(), D_x, D_G_z1, D_G_z2))\n",
    "\n",
    "        # Save Losses for plotting later\n",
    "        G_losses.append(errG.item())\n",
    "        D_losses.append(errD.item())\n",
    "\n",
    "        # Check how the generator is doing by saving G's output on fixed_noise\n",
    "        if (iters % 500 == 0) or ((epoch == num_epochs-1) and (i == len(test_loader)-1)):\n",
    "            with torch.no_grad():\n",
    "                fake = gen(fixed_noise).detach().cpu()\n",
    "            img_list.append(vutils.make_grid(fake, padding=2, normalize=True))\n",
    "\n",
    "        iters += 1"
   ]
  },
  {
   "cell_type": "code",
   "execution_count": 20,
   "metadata": {},
   "outputs": [
    {
     "data": {
      "image/png": "[encoded data removed]",
      "text/plain": [
       "<Figure size 700x400 with 1 Axes>"
      ]
     },
     "metadata": {},
     "output_type": "display_data"
    }
   ],
   "source": [
    "plt.figure(figsize=(7,4))\n",
    "plt.title(\"Generator and Discriminator Loss During Training\")\n",
    "plt.plot(G_losses,label=\"G\")\n",
    "plt.plot(D_losses,label=\"D\")\n",
    "plt.xlabel(\"iterations\")\n",
    "plt.ylabel(\"Loss\")\n",
    "plt.legend()\n",
    "plt.show()"
   ]
  },
  {
   "cell_type": "code",
   "execution_count": 21,
   "metadata": {},
   "outputs": [
    {
     "data": {
      "image/png": "[encoded data removed]",
      "text/plain": [
       "<Figure size 1000x400 with 5 Axes>"
      ]
     },
     "metadata": {},
     "output_type": "display_data"
    }
   ],
   "source": [
    "n_samples = 5\n",
    "fig, axs = plt.subplots(1, n_samples, figsize=(10, 4))\n",
    "\n",
    "noise_vector = torch.randn(BATCH_SIZE, z, 1, 1, device=device)\n",
    "gen_images = gen(noise_vector).detach().cpu()\n",
    "\n",
    "for j in range(n_samples):\n",
    "    axs[j].imshow(gen_images[j].squeeze(0), cmap='gray')\n",
    "    axs[j].axis(\"off\")\n"
   ]
  },
  {
   "cell_type": "code",
   "execution_count": 22,
   "metadata": {},
   "outputs": [],
   "source": [
    "save_dir = osp.join(repo_path,  r'src/cf_methods/c3lt/weights')\n",
    "\n",
    "torch.save(gen.state_dict(), osp.join(save_dir, r'generator_mnist_multi7.pth'))\n",
    "torch.save(discr.state_dict(), osp.join(save_dir, r'discriminator_mnist_multi7.pth'))"
   ]
  },
  {
   "cell_type": "markdown",
   "metadata": {},
   "source": [
    "## Train AE"
   ]
  },
  {
   "cell_type": "code",
   "execution_count": 23,
   "metadata": {},
   "outputs": [],
   "source": [
    "ae = models.ConvolutionalAuntoencoder(latent_dim=z, nc=nc, ndf=32, ngpu=1).to(device)"
   ]
  },
  {
   "cell_type": "code",
   "execution_count": 24,
   "metadata": {},
   "outputs": [
    {
     "name": "stderr",
     "output_type": "stream",
     "text": [
      "100%|██████████| 303/303 [00:02<00:00, 139.94it/s]\n"
     ]
    },
    {
     "name": "stdout",
     "output_type": "stream",
     "text": [
      "Epoch: 1 \tTraining Loss: 23.817010\n"
     ]
    },
    {
     "name": "stderr",
     "output_type": "stream",
     "text": [
      "100%|██████████| 303/303 [00:01<00:00, 180.03it/s]\n"
     ]
    },
    {
     "name": "stdout",
     "output_type": "stream",
     "text": [
      "Epoch: 2 \tTraining Loss: 8.013300\n"
     ]
    },
    {
     "name": "stderr",
     "output_type": "stream",
     "text": [
      "100%|██████████| 303/303 [00:01<00:00, 180.28it/s]\n"
     ]
    },
    {
     "name": "stdout",
     "output_type": "stream",
     "text": [
      "Epoch: 3 \tTraining Loss: 2.345035\n"
     ]
    },
    {
     "name": "stderr",
     "output_type": "stream",
     "text": [
      "100%|██████████| 303/303 [00:01<00:00, 180.43it/s]\n"
     ]
    },
    {
     "name": "stdout",
     "output_type": "stream",
     "text": [
      "Epoch: 4 \tTraining Loss: 0.675048\n"
     ]
    },
    {
     "name": "stderr",
     "output_type": "stream",
     "text": [
      "100%|██████████| 303/303 [00:01<00:00, 180.08it/s]\n"
     ]
    },
    {
     "name": "stdout",
     "output_type": "stream",
     "text": [
      "Epoch: 5 \tTraining Loss: 0.322177\n"
     ]
    },
    {
     "name": "stderr",
     "output_type": "stream",
     "text": [
      "100%|██████████| 303/303 [00:01<00:00, 178.17it/s]\n"
     ]
    },
    {
     "name": "stdout",
     "output_type": "stream",
     "text": [
      "Epoch: 6 \tTraining Loss: 0.261446\n"
     ]
    },
    {
     "name": "stderr",
     "output_type": "stream",
     "text": [
      "100%|██████████| 303/303 [00:01<00:00, 179.60it/s]\n"
     ]
    },
    {
     "name": "stdout",
     "output_type": "stream",
     "text": [
      "Epoch: 7 \tTraining Loss: 0.242557\n"
     ]
    },
    {
     "name": "stderr",
     "output_type": "stream",
     "text": [
      "100%|██████████| 303/303 [00:01<00:00, 180.37it/s]\n"
     ]
    },
    {
     "name": "stdout",
     "output_type": "stream",
     "text": [
      "Epoch: 8 \tTraining Loss: 0.228071\n"
     ]
    },
    {
     "name": "stderr",
     "output_type": "stream",
     "text": [
      "100%|██████████| 303/303 [00:01<00:00, 179.84it/s]\n"
     ]
    },
    {
     "name": "stdout",
     "output_type": "stream",
     "text": [
      "Epoch: 9 \tTraining Loss: 0.216545\n"
     ]
    },
    {
     "name": "stderr",
     "output_type": "stream",
     "text": [
      "100%|██████████| 303/303 [00:01<00:00, 180.05it/s]\n"
     ]
    },
    {
     "name": "stdout",
     "output_type": "stream",
     "text": [
      "Epoch: 10 \tTraining Loss: 0.206762\n"
     ]
    },
    {
     "name": "stderr",
     "output_type": "stream",
     "text": [
      "100%|██████████| 303/303 [00:01<00:00, 180.51it/s]\n"
     ]
    },
    {
     "name": "stdout",
     "output_type": "stream",
     "text": [
      "Epoch: 11 \tTraining Loss: 0.198603\n"
     ]
    },
    {
     "name": "stderr",
     "output_type": "stream",
     "text": [
      "100%|██████████| 303/303 [00:01<00:00, 179.88it/s]\n"
     ]
    },
    {
     "name": "stdout",
     "output_type": "stream",
     "text": [
      "Epoch: 12 \tTraining Loss: 0.191316\n"
     ]
    },
    {
     "name": "stderr",
     "output_type": "stream",
     "text": [
      "100%|██████████| 303/303 [00:01<00:00, 180.50it/s]\n"
     ]
    },
    {
     "name": "stdout",
     "output_type": "stream",
     "text": [
      "Epoch: 13 \tTraining Loss: 0.185092\n"
     ]
    },
    {
     "name": "stderr",
     "output_type": "stream",
     "text": [
      "100%|██████████| 303/303 [00:01<00:00, 180.60it/s]\n"
     ]
    },
    {
     "name": "stdout",
     "output_type": "stream",
     "text": [
      "Epoch: 14 \tTraining Loss: 0.178888\n"
     ]
    },
    {
     "name": "stderr",
     "output_type": "stream",
     "text": [
      "100%|██████████| 303/303 [00:01<00:00, 180.60it/s]\n"
     ]
    },
    {
     "name": "stdout",
     "output_type": "stream",
     "text": [
      "Epoch: 15 \tTraining Loss: 0.174372\n"
     ]
    },
    {
     "name": "stderr",
     "output_type": "stream",
     "text": [
      "100%|██████████| 303/303 [00:01<00:00, 181.04it/s]\n"
     ]
    },
    {
     "name": "stdout",
     "output_type": "stream",
     "text": [
      "Epoch: 16 \tTraining Loss: 0.168833\n"
     ]
    },
    {
     "name": "stderr",
     "output_type": "stream",
     "text": [
      "100%|██████████| 303/303 [00:01<00:00, 181.31it/s]\n"
     ]
    },
    {
     "name": "stdout",
     "output_type": "stream",
     "text": [
      "Epoch: 17 \tTraining Loss: 0.164354\n"
     ]
    },
    {
     "name": "stderr",
     "output_type": "stream",
     "text": [
      "100%|██████████| 303/303 [00:01<00:00, 179.32it/s]\n"
     ]
    },
    {
     "name": "stdout",
     "output_type": "stream",
     "text": [
      "Epoch: 18 \tTraining Loss: 0.159599\n"
     ]
    },
    {
     "name": "stderr",
     "output_type": "stream",
     "text": [
      "100%|██████████| 303/303 [00:01<00:00, 180.92it/s]\n"
     ]
    },
    {
     "name": "stdout",
     "output_type": "stream",
     "text": [
      "Epoch: 19 \tTraining Loss: 0.157633\n"
     ]
    },
    {
     "name": "stderr",
     "output_type": "stream",
     "text": [
      "100%|██████████| 303/303 [00:01<00:00, 181.12it/s]\n"
     ]
    },
    {
     "name": "stdout",
     "output_type": "stream",
     "text": [
      "Epoch: 20 \tTraining Loss: 0.152966\n"
     ]
    },
    {
     "name": "stderr",
     "output_type": "stream",
     "text": [
      "100%|██████████| 303/303 [00:01<00:00, 180.93it/s]\n"
     ]
    },
    {
     "name": "stdout",
     "output_type": "stream",
     "text": [
      "Epoch: 21 \tTraining Loss: 0.149667\n"
     ]
    },
    {
     "name": "stderr",
     "output_type": "stream",
     "text": [
      "100%|██████████| 303/303 [00:01<00:00, 180.94it/s]\n"
     ]
    },
    {
     "name": "stdout",
     "output_type": "stream",
     "text": [
      "Epoch: 22 \tTraining Loss: 0.147380\n"
     ]
    },
    {
     "name": "stderr",
     "output_type": "stream",
     "text": [
      "100%|██████████| 303/303 [00:01<00:00, 181.08it/s]\n"
     ]
    },
    {
     "name": "stdout",
     "output_type": "stream",
     "text": [
      "Epoch: 23 \tTraining Loss: 0.144318\n"
     ]
    },
    {
     "name": "stderr",
     "output_type": "stream",
     "text": [
      "100%|██████████| 303/303 [00:01<00:00, 180.35it/s]\n"
     ]
    },
    {
     "name": "stdout",
     "output_type": "stream",
     "text": [
      "Epoch: 24 \tTraining Loss: 0.142883\n"
     ]
    },
    {
     "name": "stderr",
     "output_type": "stream",
     "text": [
      "100%|██████████| 303/303 [00:01<00:00, 180.72it/s]\n"
     ]
    },
    {
     "name": "stdout",
     "output_type": "stream",
     "text": [
      "Epoch: 25 \tTraining Loss: 0.140865\n"
     ]
    },
    {
     "name": "stderr",
     "output_type": "stream",
     "text": [
      "100%|██████████| 303/303 [00:01<00:00, 180.18it/s]\n"
     ]
    },
    {
     "name": "stdout",
     "output_type": "stream",
     "text": [
      "Epoch: 26 \tTraining Loss: 0.138450\n"
     ]
    },
    {
     "name": "stderr",
     "output_type": "stream",
     "text": [
      "100%|██████████| 303/303 [00:01<00:00, 180.42it/s]\n"
     ]
    },
    {
     "name": "stdout",
     "output_type": "stream",
     "text": [
      "Epoch: 27 \tTraining Loss: 0.135490\n"
     ]
    },
    {
     "name": "stderr",
     "output_type": "stream",
     "text": [
      "100%|██████████| 303/303 [00:01<00:00, 180.82it/s]\n"
     ]
    },
    {
     "name": "stdout",
     "output_type": "stream",
     "text": [
      "Epoch: 28 \tTraining Loss: 0.134193\n"
     ]
    },
    {
     "name": "stderr",
     "output_type": "stream",
     "text": [
      "100%|██████████| 303/303 [00:01<00:00, 180.33it/s]\n"
     ]
    },
    {
     "name": "stdout",
     "output_type": "stream",
     "text": [
      "Epoch: 29 \tTraining Loss: 0.132300\n"
     ]
    },
    {
     "name": "stderr",
     "output_type": "stream",
     "text": [
      "100%|██████████| 303/303 [00:01<00:00, 178.56it/s]"
     ]
    },
    {
     "name": "stdout",
     "output_type": "stream",
     "text": [
      "Epoch: 30 \tTraining Loss: 0.131397\n"
     ]
    },
    {
     "name": "stderr",
     "output_type": "stream",
     "text": [
      "\n"
     ]
    }
   ],
   "source": [
    "# specify loss function\n",
    "criterion = nn.MSELoss()\n",
    "\n",
    "# specify loss function\n",
    "optimizer = torch.optim.Adam(ae.parameters(), lr=0.001)\n",
    "\n",
    "# number of epochs to train the model\n",
    "n_epochs = 30\n",
    "\n",
    "for epoch in range(1, n_epochs+1):\n",
    "    # monitor training loss\n",
    "    train_loss = 0.0\n",
    "    \n",
    "\n",
    "    for data in tqdm(train_loader):\n",
    "        images, _ = data\n",
    "        images = images.to(device)\n",
    "\n",
    "        # clear the gradients of all optimized variables\n",
    "        optimizer.zero_grad()\n",
    "        outputs = ae(images)\n",
    "        loss = criterion(outputs, images)\n",
    "\n",
    "        loss.backward()\n",
    "        optimizer.step()\n",
    "        train_loss += loss.item()*images.size(0)\n",
    "            \n",
    "    # print avg training statistics \n",
    "    train_loss = train_loss/len(train_loader)\n",
    "    print('Epoch: {} \\tTraining Loss: {:.6f}'.format(epoch, train_loss))\n"
   ]
  },
  {
   "cell_type": "code",
   "execution_count": 27,
   "metadata": {},
   "outputs": [
    {
     "name": "stdout",
     "output_type": "stream",
     "text": [
      "Recon loass: 0.00197\n"
     ]
    },
    {
     "data": {
      "image/png": "[encoded data removed]",
      "text/plain": [
       "<Figure size 1000x400 with 10 Axes>"
      ]
     },
     "metadata": {},
     "output_type": "display_data"
    }
   ],
   "source": [
    "n_samples = 5\n",
    "fig, axs = plt.subplots(2, n_samples, figsize=(10, 4))\n",
    "\n",
    "images, _ = next(iter(train_loader))\n",
    "recon = ae(images.to(device)).detach().cpu()\n",
    "recon_loss = criterion(images, recon).item()\n",
    "\n",
    "for j in range(n_samples):\n",
    "    axs[0, j].imshow(images[j].squeeze(0), cmap='gray')\n",
    "    axs[0, j].axis(\"off\")\n",
    "    axs[1, j].imshow(recon[j].squeeze(0), cmap='gray')\n",
    "    axs[1, j].axis(\"off\")\n",
    "\n",
    "print(f'Recon loass: {recon_loss:.5f}')\n"
   ]
  },
  {
   "cell_type": "code",
   "execution_count": 28,
   "metadata": {},
   "outputs": [],
   "source": [
    "save_dir = osp.join(repo_path, './src/cf_methods/c3lt/weights')\n",
    "torch.save(ae.state_dict(), osp.join(save_dir, 'ae_mnist_multi7.pth'))\n",
    "torch.save(ae.encoder.state_dict(), osp.join(save_dir, 'encoder_mnist_multi7.pth'))"
   ]
  },
  {
   "cell_type": "code",
   "execution_count": null,
   "metadata": {},
   "outputs": [],
   "source": []
  },
  {
   "cell_type": "code",
   "execution_count": null,
   "metadata": {},
   "outputs": [],
   "source": []
  }
 ],
 "metadata": {
  "kernelspec": {
   "display_name": "venv",
   "language": "python",
   "name": "python3"
  },
  "language_info": {
   "codemirror_mode": {
    "name": "ipython",
    "version": 3
   },
   "file_extension": ".py",
   "mimetype": "text/x-python",
   "name": "python",
   "nbconvert_exporter": "python",
   "pygments_lexer": "ipython3",
   "version": "3.12.4"
  }
 },
 "nbformat": 4,
 "nbformat_minor": 2
}
