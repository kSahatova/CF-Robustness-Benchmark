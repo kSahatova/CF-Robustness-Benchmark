{
 "cells": [
  {
   "cell_type": "code",
   "execution_count": 1,
   "metadata": {},
   "outputs": [
    {
     "name": "stderr",
     "output_type": "stream",
     "text": [
      "/data/leuven/365/vsc36567/miniconda3/lib/python3.12/site-packages/albumentations/__init__.py:28: UserWarning: A new version of Albumentations is available: '2.0.8' (you have '2.0.4'). Upgrade using: pip install -U albumentations. To disable automatic update checks, set the environment variable NO_ALBUMENTATIONS_UPDATE to 1.\n",
      "  check_for_updates()\n",
      "2025-05-29 10:23:42.799570: E external/local_xla/xla/stream_executor/cuda/cuda_fft.cc:467] Unable to register cuFFT factory: Attempting to register factory for plugin cuFFT when one has already been registered\n",
      "WARNING: All log messages before absl::InitializeLog() is called are written to STDERR\n",
      "E0000 00:00:1748507022.817777 1011887 cuda_dnn.cc:8579] Unable to register cuDNN factory: Attempting to register factory for plugin cuDNN when one has already been registered\n",
      "E0000 00:00:1748507022.823255 1011887 cuda_blas.cc:1407] Unable to register cuBLAS factory: Attempting to register factory for plugin cuBLAS when one has already been registered\n",
      "W0000 00:00:1748507022.838285 1011887 computation_placer.cc:177] computation placer already registered. Please check linkage and avoid linking the same target more than once.\n",
      "W0000 00:00:1748507022.838304 1011887 computation_placer.cc:177] computation placer already registered. Please check linkage and avoid linking the same target more than once.\n",
      "W0000 00:00:1748507022.838306 1011887 computation_placer.cc:177] computation placer already registered. Please check linkage and avoid linking the same target more than once.\n",
      "W0000 00:00:1748507022.838308 1011887 computation_placer.cc:177] computation placer already registered. Please check linkage and avoid linking the same target more than once.\n",
      "2025-05-29 10:23:42.842906: I tensorflow/core/platform/cpu_feature_guard.cc:210] This TensorFlow binary is optimized to use available CPU instructions in performance-critical operations.\n",
      "To enable the following instructions: AVX2 AVX512F FMA, in other operations, rebuild TensorFlow with the appropriate compiler flags.\n"
     ]
    }
   ],
   "source": [
    "import os.path as osp\n",
    "from tqdm import tqdm\n",
    "import matplotlib.pyplot as plt\n",
    "\n",
    "import torch\n",
    "import torch.nn as nn\n",
    "import torchvision.utils as vutils\n",
    "\n",
    "from src.datasets import DatasetBuilder\n",
    "\n",
    "from src.utils import seed_everything, get_config\n",
    "from src.cf_methods.c3lt import models "
   ]
  },
  {
   "cell_type": "code",
   "execution_count": 2,
   "metadata": {},
   "outputs": [],
   "source": [
    "seed_everything()\n",
    "\n",
    "plt.style.use('seaborn-v0_8-darkgrid')\n",
    "params = {\"text.color\" : \"black\"}\n",
    "plt.rcParams.update(params)"
   ]
  },
  {
   "cell_type": "markdown",
   "metadata": {},
   "source": [
    "## Load data"
   ]
  },
  {
   "cell_type": "code",
   "execution_count": 7,
   "metadata": {},
   "outputs": [],
   "source": [
    "repo_path = r'/data/leuven/365/vsc36567/CF-Robustness-Benchmark'  # \"D:\\PycharmProjects\\CF-Robustness-Benchmark\" \n",
    "config_path = osp.join(repo_path, r'configs/train_classifier_fmnist.yaml')\n",
    "\n",
    "config = get_config(config_path)\n",
    "# config.data.classes = [9, 4, 3, 7]\n",
    "# config.data.num_classes = 4\n",
    "config.data_dir = osp.join(repo_path, config.data_dir)\n",
    "\n",
    "BATCH_SIZE = config.batch_size\n",
    "img_size = config.data.img_size"
   ]
  },
  {
   "cell_type": "code",
   "execution_count": 8,
   "metadata": {},
   "outputs": [],
   "source": [
    "ds_builder = DatasetBuilder(config)\n",
    "ds_builder.setup()\n",
    "train_loader, val_loader, test_loader = ds_builder.get_dataloaders()"
   ]
  },
  {
   "cell_type": "code",
   "execution_count": 10,
   "metadata": {},
   "outputs": [],
   "source": [
    "z = 100\n",
    "ngf = 64 # Size of feature maps in generator\n",
    "ndf = 64 # Size of feature maps in discriminator\n",
    "nc = 1 # Number of channels\n",
    "beta1 = 0.5 # Beta1 hyperparameter for Adam optimizers\n",
    "lr = 0.0002 # Learning rate for optimizers\n",
    "device = 'cuda' if torch.cuda.is_available() else 'cpu' "
   ]
  },
  {
   "cell_type": "markdown",
   "metadata": {},
   "source": [
    "## Build DCGAN object  "
   ]
  },
  {
   "cell_type": "code",
   "execution_count": 11,
   "metadata": {},
   "outputs": [],
   "source": [
    "# custom weights initialization called on ``netG`` and ``netD``\n",
    "def weights_init(m):\n",
    "    classname = m.__class__.__name__\n",
    "    if classname.find('Conv') != -1:\n",
    "        nn.init.normal_(m.weight.data, 0.0, 0.02)\n",
    "    elif classname.find('BatchNorm') != -1:\n",
    "        nn.init.normal_(m.weight.data, 1.0, 0.02)\n",
    "        nn.init.constant_(m.bias.data, 0)"
   ]
  },
  {
   "cell_type": "code",
   "execution_count": 12,
   "metadata": {},
   "outputs": [],
   "source": [
    "gen = models.Generator(latent_dim=z, ngf=ngf, nc=nc).to(device)\n",
    "discr = models.Discriminator(ndf=ndf, nc=1).to(device)\n",
    "\n",
    "gen.apply(weights_init);\n",
    "discr.apply(weights_init);"
   ]
  },
  {
   "cell_type": "code",
   "execution_count": 13,
   "metadata": {},
   "outputs": [],
   "source": [
    "# Initialize the ``BCELoss`` function\n",
    "criterion = nn.BCELoss()\n",
    "\n",
    "# Create batch of latent vectors that we will use to visualize\n",
    "#  the progression of the generator\n",
    "fixed_noise = torch.randn(BATCH_SIZE, z, 1, 1, device=device)\n",
    "\n",
    "# Establish convention for real and fake labels during training\n",
    "real_label = 1.\n",
    "fake_label = 0.\n",
    "\n",
    "# Setup Adam optimizers for both G and D\n",
    "optimizerG = torch.optim.Adam(gen.parameters(), lr=lr, betas=(beta1, 0.999))\n",
    "optimizerD = torch.optim.Adam(discr.parameters(), lr=lr, betas=(beta1, 0.999))"
   ]
  },
  {
   "cell_type": "code",
   "execution_count": 14,
   "metadata": {},
   "outputs": [
    {
     "name": "stdout",
     "output_type": "stream",
     "text": [
      "Starting Training Loop...\n",
      "[0/15][0/150]\tLoss_D: 1.9125\tLoss_G: 1.3771\tD(x): 0.3268\tD(G(z)): 0.4964 / 0.2729\n",
      "[0/15][50/150]\tLoss_D: 0.5675\tLoss_G: 2.6535\tD(x): 0.7928\tD(G(z)): 0.2442 / 0.0900\n",
      "[0/15][100/150]\tLoss_D: 0.7540\tLoss_G: 4.0011\tD(x): 0.7981\tD(G(z)): 0.3697 / 0.0307\n",
      "[1/15][0/150]\tLoss_D: 0.7177\tLoss_G: 2.6714\tD(x): 0.7956\tD(G(z)): 0.3398 / 0.0845\n",
      "[1/15][50/150]\tLoss_D: 1.0048\tLoss_G: 1.5732\tD(x): 0.4776\tD(G(z)): 0.0856 / 0.2341\n",
      "[1/15][100/150]\tLoss_D: 0.5716\tLoss_G: 1.8396\tD(x): 0.7588\tD(G(z)): 0.2247 / 0.1800\n",
      "[2/15][0/150]\tLoss_D: 0.6794\tLoss_G: 1.5706\tD(x): 0.6995\tD(G(z)): 0.2225 / 0.2433\n",
      "[2/15][50/150]\tLoss_D: 0.5985\tLoss_G: 1.5373\tD(x): 0.6924\tD(G(z)): 0.1734 / 0.2389\n",
      "[2/15][100/150]\tLoss_D: 0.5339\tLoss_G: 2.0471\tD(x): 0.8092\tD(G(z)): 0.2403 / 0.1537\n",
      "[3/15][0/150]\tLoss_D: 0.8967\tLoss_G: 1.0133\tD(x): 0.5447\tD(G(z)): 0.1675 / 0.4203\n",
      "[3/15][50/150]\tLoss_D: 0.6580\tLoss_G: 2.2456\tD(x): 0.7637\tD(G(z)): 0.2683 / 0.1482\n",
      "[3/15][100/150]\tLoss_D: 0.7620\tLoss_G: 1.7896\tD(x): 0.7174\tD(G(z)): 0.3015 / 0.2004\n",
      "[4/15][0/150]\tLoss_D: 0.8836\tLoss_G: 1.5446\tD(x): 0.6743\tD(G(z)): 0.3312 / 0.2381\n",
      "[4/15][50/150]\tLoss_D: 1.0437\tLoss_G: 0.8372\tD(x): 0.4497\tD(G(z)): 0.1244 / 0.4737\n",
      "[4/15][100/150]\tLoss_D: 0.8475\tLoss_G: 1.6749\tD(x): 0.6819\tD(G(z)): 0.3206 / 0.2203\n",
      "[5/15][0/150]\tLoss_D: 1.1643\tLoss_G: 0.8233\tD(x): 0.4572\tD(G(z)): 0.2333 / 0.4741\n",
      "[5/15][50/150]\tLoss_D: 1.2043\tLoss_G: 1.0613\tD(x): 0.4833\tD(G(z)): 0.2714 / 0.3877\n",
      "[5/15][100/150]\tLoss_D: 1.0937\tLoss_G: 2.0233\tD(x): 0.7282\tD(G(z)): 0.5008 / 0.1552\n",
      "[6/15][0/150]\tLoss_D: 1.0275\tLoss_G: 1.1205\tD(x): 0.5520\tD(G(z)): 0.2731 / 0.3673\n",
      "[6/15][50/150]\tLoss_D: 1.0326\tLoss_G: 2.4507\tD(x): 0.8722\tD(G(z)): 0.5598 / 0.1179\n",
      "[6/15][100/150]\tLoss_D: 0.9352\tLoss_G: 1.2452\tD(x): 0.5102\tD(G(z)): 0.1722 / 0.3328\n",
      "[7/15][0/150]\tLoss_D: 0.7599\tLoss_G: 1.5913\tD(x): 0.6324\tD(G(z)): 0.2337 / 0.2351\n",
      "[7/15][50/150]\tLoss_D: 0.9249\tLoss_G: 1.9122\tD(x): 0.8290\tD(G(z)): 0.4743 / 0.1729\n",
      "[7/15][100/150]\tLoss_D: 0.9767\tLoss_G: 1.8736\tD(x): 0.7161\tD(G(z)): 0.4323 / 0.1749\n",
      "[8/15][0/150]\tLoss_D: 1.0713\tLoss_G: 1.7665\tD(x): 0.7900\tD(G(z)): 0.5232 / 0.2063\n",
      "[8/15][50/150]\tLoss_D: 1.1013\tLoss_G: 1.4225\tD(x): 0.6387\tD(G(z)): 0.4178 / 0.2748\n",
      "[8/15][100/150]\tLoss_D: 1.0604\tLoss_G: 1.2975\tD(x): 0.5363\tD(G(z)): 0.2833 / 0.3121\n",
      "[9/15][0/150]\tLoss_D: 0.9962\tLoss_G: 1.0888\tD(x): 0.5533\tD(G(z)): 0.2867 / 0.3715\n",
      "[9/15][50/150]\tLoss_D: 0.9699\tLoss_G: 1.8002\tD(x): 0.7148\tD(G(z)): 0.4318 / 0.1931\n",
      "[9/15][100/150]\tLoss_D: 0.8944\tLoss_G: 1.4023\tD(x): 0.5730\tD(G(z)): 0.2158 / 0.2784\n",
      "[10/15][0/150]\tLoss_D: 1.0009\tLoss_G: 1.9518\tD(x): 0.7897\tD(G(z)): 0.4920 / 0.1710\n",
      "[10/15][50/150]\tLoss_D: 1.0811\tLoss_G: 1.4249\tD(x): 0.5962\tD(G(z)): 0.3717 / 0.2698\n",
      "[10/15][100/150]\tLoss_D: 0.9811\tLoss_G: 1.3886\tD(x): 0.6419\tD(G(z)): 0.3766 / 0.2715\n",
      "[11/15][0/150]\tLoss_D: 0.9916\tLoss_G: 2.2541\tD(x): 0.7558\tD(G(z)): 0.4706 / 0.1384\n",
      "[11/15][50/150]\tLoss_D: 0.9396\tLoss_G: 1.3669\tD(x): 0.5918\tD(G(z)): 0.2953 / 0.2808\n",
      "[11/15][100/150]\tLoss_D: 1.0535\tLoss_G: 1.4628\tD(x): 0.6570\tD(G(z)): 0.4324 / 0.2570\n",
      "[12/15][0/150]\tLoss_D: 0.9916\tLoss_G: 1.4801\tD(x): 0.6374\tD(G(z)): 0.3773 / 0.2578\n",
      "[12/15][50/150]\tLoss_D: 0.8704\tLoss_G: 1.8260\tD(x): 0.7030\tD(G(z)): 0.3703 / 0.1854\n",
      "[12/15][100/150]\tLoss_D: 1.0956\tLoss_G: 1.2089\tD(x): 0.6012\tD(G(z)): 0.3827 / 0.3298\n",
      "[13/15][0/150]\tLoss_D: 1.1301\tLoss_G: 1.2740\tD(x): 0.6020\tD(G(z)): 0.4019 / 0.3106\n",
      "[13/15][50/150]\tLoss_D: 1.0255\tLoss_G: 2.0787\tD(x): 0.7456\tD(G(z)): 0.4745 / 0.1406\n",
      "[13/15][100/150]\tLoss_D: 1.1583\tLoss_G: 1.2974\tD(x): 0.5360\tD(G(z)): 0.3491 / 0.2959\n",
      "[14/15][0/150]\tLoss_D: 1.0851\tLoss_G: 1.8693\tD(x): 0.6503\tD(G(z)): 0.4356 / 0.1848\n",
      "[14/15][50/150]\tLoss_D: 1.0027\tLoss_G: 1.0933\tD(x): 0.5621\tD(G(z)): 0.2886 / 0.3632\n",
      "[14/15][100/150]\tLoss_D: 1.2686\tLoss_G: 1.6766\tD(x): 0.6852\tD(G(z)): 0.5458 / 0.2110\n"
     ]
    }
   ],
   "source": [
    "# Training Loop\n",
    "\n",
    "# Lists to keep track of progress\n",
    "img_list = []\n",
    "G_losses = []\n",
    "D_losses = []\n",
    "iters = 0\n",
    "num_epochs = 15\n",
    "\n",
    "print(\"Starting Training Loop...\")\n",
    "# For each epoch\n",
    "for epoch in range(num_epochs):\n",
    "    # For each batch in the dataloader\n",
    "    for i, data in enumerate(train_loader, 0):\n",
    "\n",
    "        ############################\n",
    "        # (1) Update D network: maximize log(D(x)) + log(1 - D(G(z)))\n",
    "        ###########################\n",
    "        ## Train with all-real batch\n",
    "        discr.zero_grad()\n",
    "        # Format batch\n",
    "        real_cpu = data[0].to(device)\n",
    "        b_size = real_cpu.size(0)\n",
    "        label = torch.full((b_size,), real_label, dtype=torch.float, device=device)\n",
    "        # Forward pass real batch through D\n",
    "        output = discr(real_cpu).view(-1)\n",
    "        # Calculate loss on all-real batch\n",
    "        errD_real = criterion(output, label)\n",
    "        # Calculate gradients for D in backward pass\n",
    "        errD_real.backward()\n",
    "        D_x = output.mean().item()\n",
    "\n",
    "        ## Train with all-fake batch\n",
    "        # Generate batch of latent vectors\n",
    "        noise = torch.randn(b_size, z, 1, 1, device=device)\n",
    "        # Generate fake image batch with G\n",
    "        fake = gen(noise)\n",
    "        label.fill_(fake_label)\n",
    "        # Classify all fake batch with D\n",
    "        output = discr(fake.detach()).view(-1)\n",
    "        # Calculate D's loss on the all-fake batch\n",
    "        errD_fake = criterion(output, label)\n",
    "        # Calculate the gradients for this batch, accumulated (summed) with previous gradients\n",
    "        errD_fake.backward()\n",
    "        D_G_z1 = output.mean().item()\n",
    "        # Compute error of D as sum over the fake and the real batches\n",
    "        errD = errD_real + errD_fake\n",
    "        # Update D\n",
    "        optimizerD.step()\n",
    "\n",
    "        ############################\n",
    "        # (2) Update G network: maximize log(D(G(z)))\n",
    "        ###########################\n",
    "        gen.zero_grad()\n",
    "        label.fill_(real_label)  # fake labels are real for generator cost\n",
    "        # Since we just updated D, perform another forward pass of all-fake batch through D\n",
    "        output = discr(fake).view(-1)\n",
    "        # Calculate G's loss based on this output\n",
    "        errG = criterion(output, label)\n",
    "        # Calculate gradients for G\n",
    "        errG.backward()\n",
    "        D_G_z2 = output.mean().item()\n",
    "        # Update G\n",
    "        optimizerG.step()\n",
    "\n",
    "        # Output training stats\n",
    "        if i % 50 == 0:\n",
    "            print('[%d/%d][%d/%d]\\tLoss_D: %.4f\\tLoss_G: %.4f\\tD(x): %.4f\\tD(G(z)): %.4f / %.4f'\n",
    "                  % (epoch, num_epochs, i, len(train_loader),\n",
    "                     errD.item(), errG.item(), D_x, D_G_z1, D_G_z2))\n",
    "\n",
    "        # Save Losses for plotting later\n",
    "        G_losses.append(errG.item())\n",
    "        D_losses.append(errD.item())\n",
    "\n",
    "        # Check how the generator is doing by saving G's output on fixed_noise\n",
    "        if (iters % 500 == 0) or ((epoch == num_epochs-1) and (i == len(test_loader)-1)):\n",
    "            with torch.no_grad():\n",
    "                fake = gen(fixed_noise).detach().cpu()\n",
    "            img_list.append(vutils.make_grid(fake, padding=2, normalize=True))\n",
    "\n",
    "        iters += 1"
   ]
  },
  {
   "cell_type": "code",
   "execution_count": 15,
   "metadata": {},
   "outputs": [
    {
     "data": {
      "image/png": "[encoded data removed]",
      "text/plain": [
       "<Figure size 700x400 with 1 Axes>"
      ]
     },
     "metadata": {},
     "output_type": "display_data"
    }
   ],
   "source": [
    "plt.figure(figsize=(7,4))\n",
    "plt.title(\"Generator and Discriminator Loss During Training\")\n",
    "plt.plot(G_losses,label=\"G\")\n",
    "plt.plot(D_losses,label=\"D\")\n",
    "plt.xlabel(\"iterations\")\n",
    "plt.ylabel(\"Loss\")\n",
    "plt.legend()\n",
    "plt.show()"
   ]
  },
  {
   "cell_type": "code",
   "execution_count": 16,
   "metadata": {},
   "outputs": [
    {
     "data": {
      "image/png": "[encoded data removed]",
      "text/plain": [
       "<Figure size 1000x400 with 5 Axes>"
      ]
     },
     "metadata": {},
     "output_type": "display_data"
    }
   ],
   "source": [
    "n_samples = 5\n",
    "fig, axs = plt.subplots(1, n_samples, figsize=(10, 4))\n",
    "\n",
    "noise_vector = torch.randn(BATCH_SIZE, z, 1, 1, device=device)\n",
    "gen_images = gen(noise_vector).detach().cpu()\n",
    "\n",
    "for j in range(n_samples):\n",
    "    axs[j].imshow(gen_images[j].squeeze(0), cmap='gray')\n",
    "    axs[j].axis(\"off\")\n"
   ]
  },
  {
   "cell_type": "code",
   "execution_count": 17,
   "metadata": {},
   "outputs": [],
   "source": [
    "save_dir = osp.join(repo_path,  r'src/cf_methods/c3lt/weights')\n",
    "\n",
    "torch.save(gen.state_dict(), osp.join(save_dir, r'generator_fmnist_0_4.pth'))\n",
    "torch.save(discr.state_dict(), osp.join(save_dir, r'discriminator_fmnist_0_4.pth'))"
   ]
  },
  {
   "cell_type": "markdown",
   "metadata": {},
   "source": [
    "## Train AE"
   ]
  },
  {
   "cell_type": "code",
   "execution_count": 18,
   "metadata": {},
   "outputs": [],
   "source": [
    "ae = models.ConvolutionalAuntoencoder(latent_dim=z, nc=nc, ndf=32, ngpu=1).to(device)"
   ]
  },
  {
   "cell_type": "code",
   "execution_count": 19,
   "metadata": {},
   "outputs": [
    {
     "name": "stderr",
     "output_type": "stream",
     "text": [
      "100%|██████████| 150/150 [00:00<00:00, 163.85it/s]\n"
     ]
    },
    {
     "name": "stdout",
     "output_type": "stream",
     "text": [
      "Epoch: 1 \tTraining Loss: 30.590628\n"
     ]
    },
    {
     "name": "stderr",
     "output_type": "stream",
     "text": [
      "100%|██████████| 150/150 [00:00<00:00, 180.31it/s]\n"
     ]
    },
    {
     "name": "stdout",
     "output_type": "stream",
     "text": [
      "Epoch: 2 \tTraining Loss: 15.997351\n"
     ]
    },
    {
     "name": "stderr",
     "output_type": "stream",
     "text": [
      "100%|██████████| 150/150 [00:00<00:00, 179.97it/s]\n"
     ]
    },
    {
     "name": "stdout",
     "output_type": "stream",
     "text": [
      "Epoch: 3 \tTraining Loss: 8.552797\n"
     ]
    },
    {
     "name": "stderr",
     "output_type": "stream",
     "text": [
      "100%|██████████| 150/150 [00:00<00:00, 180.14it/s]\n"
     ]
    },
    {
     "name": "stdout",
     "output_type": "stream",
     "text": [
      "Epoch: 4 \tTraining Loss: 4.470956\n"
     ]
    },
    {
     "name": "stderr",
     "output_type": "stream",
     "text": [
      "100%|██████████| 150/150 [00:00<00:00, 180.43it/s]\n"
     ]
    },
    {
     "name": "stdout",
     "output_type": "stream",
     "text": [
      "Epoch: 5 \tTraining Loss: 2.332425\n"
     ]
    },
    {
     "name": "stderr",
     "output_type": "stream",
     "text": [
      "100%|██████████| 150/150 [00:00<00:00, 179.49it/s]\n"
     ]
    },
    {
     "name": "stdout",
     "output_type": "stream",
     "text": [
      "Epoch: 6 \tTraining Loss: 1.266880\n"
     ]
    },
    {
     "name": "stderr",
     "output_type": "stream",
     "text": [
      "100%|██████████| 150/150 [00:00<00:00, 180.67it/s]\n"
     ]
    },
    {
     "name": "stdout",
     "output_type": "stream",
     "text": [
      "Epoch: 7 \tTraining Loss: 0.767337\n"
     ]
    },
    {
     "name": "stderr",
     "output_type": "stream",
     "text": [
      "100%|██████████| 150/150 [00:00<00:00, 181.04it/s]\n"
     ]
    },
    {
     "name": "stdout",
     "output_type": "stream",
     "text": [
      "Epoch: 8 \tTraining Loss: 0.565002\n"
     ]
    },
    {
     "name": "stderr",
     "output_type": "stream",
     "text": [
      "100%|██████████| 150/150 [00:00<00:00, 180.10it/s]\n"
     ]
    },
    {
     "name": "stdout",
     "output_type": "stream",
     "text": [
      "Epoch: 9 \tTraining Loss: 0.476022\n"
     ]
    },
    {
     "name": "stderr",
     "output_type": "stream",
     "text": [
      "100%|██████████| 150/150 [00:00<00:00, 180.89it/s]\n"
     ]
    },
    {
     "name": "stdout",
     "output_type": "stream",
     "text": [
      "Epoch: 10 \tTraining Loss: 0.429677\n"
     ]
    },
    {
     "name": "stderr",
     "output_type": "stream",
     "text": [
      "100%|██████████| 150/150 [00:00<00:00, 180.06it/s]\n"
     ]
    },
    {
     "name": "stdout",
     "output_type": "stream",
     "text": [
      "Epoch: 11 \tTraining Loss: 0.411162\n"
     ]
    },
    {
     "name": "stderr",
     "output_type": "stream",
     "text": [
      "100%|██████████| 150/150 [00:00<00:00, 180.33it/s]\n"
     ]
    },
    {
     "name": "stdout",
     "output_type": "stream",
     "text": [
      "Epoch: 12 \tTraining Loss: 0.401251\n"
     ]
    },
    {
     "name": "stderr",
     "output_type": "stream",
     "text": [
      "100%|██████████| 150/150 [00:00<00:00, 180.16it/s]\n"
     ]
    },
    {
     "name": "stdout",
     "output_type": "stream",
     "text": [
      "Epoch: 13 \tTraining Loss: 0.389227\n"
     ]
    },
    {
     "name": "stderr",
     "output_type": "stream",
     "text": [
      "100%|██████████| 150/150 [00:00<00:00, 179.20it/s]\n"
     ]
    },
    {
     "name": "stdout",
     "output_type": "stream",
     "text": [
      "Epoch: 14 \tTraining Loss: 0.383974\n"
     ]
    },
    {
     "name": "stderr",
     "output_type": "stream",
     "text": [
      "100%|██████████| 150/150 [00:00<00:00, 178.95it/s]\n"
     ]
    },
    {
     "name": "stdout",
     "output_type": "stream",
     "text": [
      "Epoch: 15 \tTraining Loss: 0.378293\n"
     ]
    },
    {
     "name": "stderr",
     "output_type": "stream",
     "text": [
      "100%|██████████| 150/150 [00:00<00:00, 177.10it/s]\n"
     ]
    },
    {
     "name": "stdout",
     "output_type": "stream",
     "text": [
      "Epoch: 16 \tTraining Loss: 0.362533\n"
     ]
    },
    {
     "name": "stderr",
     "output_type": "stream",
     "text": [
      "100%|██████████| 150/150 [00:00<00:00, 178.54it/s]\n"
     ]
    },
    {
     "name": "stdout",
     "output_type": "stream",
     "text": [
      "Epoch: 17 \tTraining Loss: 0.358058\n"
     ]
    },
    {
     "name": "stderr",
     "output_type": "stream",
     "text": [
      "100%|██████████| 150/150 [00:00<00:00, 178.99it/s]\n"
     ]
    },
    {
     "name": "stdout",
     "output_type": "stream",
     "text": [
      "Epoch: 18 \tTraining Loss: 0.351673\n"
     ]
    },
    {
     "name": "stderr",
     "output_type": "stream",
     "text": [
      "100%|██████████| 150/150 [00:00<00:00, 179.84it/s]\n"
     ]
    },
    {
     "name": "stdout",
     "output_type": "stream",
     "text": [
      "Epoch: 19 \tTraining Loss: 0.344169\n"
     ]
    },
    {
     "name": "stderr",
     "output_type": "stream",
     "text": [
      "100%|██████████| 150/150 [00:00<00:00, 180.77it/s]\n"
     ]
    },
    {
     "name": "stdout",
     "output_type": "stream",
     "text": [
      "Epoch: 20 \tTraining Loss: 0.340825\n"
     ]
    },
    {
     "name": "stderr",
     "output_type": "stream",
     "text": [
      "100%|██████████| 150/150 [00:00<00:00, 180.19it/s]\n"
     ]
    },
    {
     "name": "stdout",
     "output_type": "stream",
     "text": [
      "Epoch: 21 \tTraining Loss: 0.338641\n"
     ]
    },
    {
     "name": "stderr",
     "output_type": "stream",
     "text": [
      "100%|██████████| 150/150 [00:00<00:00, 180.58it/s]\n"
     ]
    },
    {
     "name": "stdout",
     "output_type": "stream",
     "text": [
      "Epoch: 22 \tTraining Loss: 0.329751\n"
     ]
    },
    {
     "name": "stderr",
     "output_type": "stream",
     "text": [
      "100%|██████████| 150/150 [00:00<00:00, 179.92it/s]\n"
     ]
    },
    {
     "name": "stdout",
     "output_type": "stream",
     "text": [
      "Epoch: 23 \tTraining Loss: 0.324405\n"
     ]
    },
    {
     "name": "stderr",
     "output_type": "stream",
     "text": [
      "100%|██████████| 150/150 [00:00<00:00, 180.78it/s]\n"
     ]
    },
    {
     "name": "stdout",
     "output_type": "stream",
     "text": [
      "Epoch: 24 \tTraining Loss: 0.322927\n"
     ]
    },
    {
     "name": "stderr",
     "output_type": "stream",
     "text": [
      "100%|██████████| 150/150 [00:00<00:00, 180.94it/s]\n"
     ]
    },
    {
     "name": "stdout",
     "output_type": "stream",
     "text": [
      "Epoch: 25 \tTraining Loss: 0.317633\n"
     ]
    },
    {
     "name": "stderr",
     "output_type": "stream",
     "text": [
      "100%|██████████| 150/150 [00:00<00:00, 180.21it/s]\n"
     ]
    },
    {
     "name": "stdout",
     "output_type": "stream",
     "text": [
      "Epoch: 26 \tTraining Loss: 0.319342\n"
     ]
    },
    {
     "name": "stderr",
     "output_type": "stream",
     "text": [
      "100%|██████████| 150/150 [00:00<00:00, 179.82it/s]\n"
     ]
    },
    {
     "name": "stdout",
     "output_type": "stream",
     "text": [
      "Epoch: 27 \tTraining Loss: 0.317158\n"
     ]
    },
    {
     "name": "stderr",
     "output_type": "stream",
     "text": [
      "100%|██████████| 150/150 [00:00<00:00, 179.62it/s]\n"
     ]
    },
    {
     "name": "stdout",
     "output_type": "stream",
     "text": [
      "Epoch: 28 \tTraining Loss: 0.307442\n"
     ]
    },
    {
     "name": "stderr",
     "output_type": "stream",
     "text": [
      "100%|██████████| 150/150 [00:00<00:00, 180.07it/s]\n"
     ]
    },
    {
     "name": "stdout",
     "output_type": "stream",
     "text": [
      "Epoch: 29 \tTraining Loss: 0.314381\n"
     ]
    },
    {
     "name": "stderr",
     "output_type": "stream",
     "text": [
      "100%|██████████| 150/150 [00:00<00:00, 179.87it/s]"
     ]
    },
    {
     "name": "stdout",
     "output_type": "stream",
     "text": [
      "Epoch: 30 \tTraining Loss: 0.304826\n"
     ]
    },
    {
     "name": "stderr",
     "output_type": "stream",
     "text": [
      "\n"
     ]
    }
   ],
   "source": [
    "# specify loss function\n",
    "criterion = nn.MSELoss()\n",
    "\n",
    "# specify loss function\n",
    "optimizer = torch.optim.Adam(ae.parameters(), lr=0.001)\n",
    "\n",
    "# number of epochs to train the model\n",
    "n_epochs = 30\n",
    "\n",
    "for epoch in range(1, n_epochs+1):\n",
    "    # monitor training loss\n",
    "    train_loss = 0.0\n",
    "    \n",
    "\n",
    "    for data in tqdm(train_loader):\n",
    "        images, _ = data\n",
    "        images = images.to(device)\n",
    "\n",
    "        # clear the gradients of all optimized variables\n",
    "        optimizer.zero_grad()\n",
    "        outputs = ae(images)\n",
    "        loss = criterion(outputs, images)\n",
    "\n",
    "        loss.backward()\n",
    "        optimizer.step()\n",
    "        train_loss += loss.item()*images.size(0)\n",
    "            \n",
    "    # print avg training statistics \n",
    "    train_loss = train_loss/len(train_loader)\n",
    "    print('Epoch: {} \\tTraining Loss: {:.6f}'.format(epoch, train_loss))\n"
   ]
  },
  {
   "cell_type": "code",
   "execution_count": 20,
   "metadata": {},
   "outputs": [
    {
     "name": "stdout",
     "output_type": "stream",
     "text": [
      "Recon loass: 0.00536\n"
     ]
    },
    {
     "data": {
      "image/png": "[encoded data removed]",
      "text/plain": [
       "<Figure size 1000x400 with 10 Axes>"
      ]
     },
     "metadata": {},
     "output_type": "display_data"
    }
   ],
   "source": [
    "n_samples = 5\n",
    "fig, axs = plt.subplots(2, n_samples, figsize=(10, 4))\n",
    "\n",
    "images, _ = next(iter(train_loader))\n",
    "recon = ae(images.to(device)).detach().cpu()\n",
    "recon_loss = criterion(images, recon).item()\n",
    "\n",
    "for j in range(n_samples):\n",
    "    axs[0, j].imshow(images[j].squeeze(0), cmap='gray')\n",
    "    axs[0, j].axis(\"off\")\n",
    "    axs[1, j].imshow(recon[j].squeeze(0), cmap='gray')\n",
    "    axs[1, j].axis(\"off\")\n",
    "\n",
    "print(f'Recon loass: {recon_loss:.5f}')\n"
   ]
  },
  {
   "cell_type": "code",
   "execution_count": 21,
   "metadata": {},
   "outputs": [],
   "source": [
    "save_dir = osp.join(repo_path, './src/cf_methods/c3lt/weights')\n",
    "torch.save(ae.state_dict(), osp.join(save_dir, 'ae_fmnist_0_4.pth'))\n",
    "torch.save(ae.encoder.state_dict(), osp.join(save_dir, 'encoder_fmnist_0_4.pth'))"
   ]
  },
  {
   "cell_type": "code",
   "execution_count": null,
   "metadata": {},
   "outputs": [],
   "source": []
  },
  {
   "cell_type": "code",
   "execution_count": null,
   "metadata": {},
   "outputs": [],
   "source": []
  }
 ],
 "metadata": {
  "kernelspec": {
   "display_name": "venv",
   "language": "python",
   "name": "python3"
  },
  "language_info": {
   "codemirror_mode": {
    "name": "ipython",
    "version": 3
   },
   "file_extension": ".py",
   "mimetype": "text/x-python",
   "name": "python",
   "nbconvert_exporter": "python",
   "pygments_lexer": "ipython3",
   "version": "3.12.4"
  }
 },
 "nbformat": 4,
 "nbformat_minor": 2
}
