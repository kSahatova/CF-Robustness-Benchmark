{
 "cells": [
  {
   "cell_type": "code",
   "execution_count": 1,
   "metadata": {},
   "outputs": [
    {
     "name": "stderr",
     "output_type": "stream",
     "text": [
      "d:\\PycharmProjects\\CF-Robustness-Benchmark\\venv\\Lib\\site-packages\\albumentations\\__init__.py:28: UserWarning: A new version of Albumentations is available: '2.0.7' (you have '2.0.5'). Upgrade using: pip install -U albumentations. To disable automatic update checks, set the environment variable NO_ALBUMENTATIONS_UPDATE to 1.\n",
      "  check_for_updates()\n"
     ]
    }
   ],
   "source": [
    "import os.path as osp\n",
    "from tqdm import tqdm\n",
    "import matplotlib.pyplot as plt\n",
    "\n",
    "import torch\n",
    "import torch.nn as nn\n",
    "import torchvision.utils as vutils\n",
    "\n",
    "from src.datasets import DatasetBuilder\n",
    "\n",
    "from src.utils import seed_everything, get_config\n",
    "from src.cf_methods.c3lt import models "
   ]
  },
  {
   "cell_type": "code",
   "execution_count": 2,
   "metadata": {},
   "outputs": [],
   "source": [
    "seed_everything()\n",
    "\n",
    "plt.style.use('seaborn-v0_8-darkgrid')\n",
    "params = {\"text.color\" : \"black\"}\n",
    "plt.rcParams.update(params)"
   ]
  },
  {
   "cell_type": "markdown",
   "metadata": {},
   "source": [
    "## Load data"
   ]
  },
  {
   "cell_type": "code",
   "execution_count": 34,
   "metadata": {},
   "outputs": [],
   "source": [
    "repo_path = r\"D:\\PycharmProjects\\CF-Robustness-Benchmark\"\n",
    "config_path = osp.join(repo_path, r'configs\\train_classifier_mnist.yaml')\n",
    "# r'/data/leuven/365/vsc36567/CF-Robustness-Benchmark/configs/train_classifier_fmnist.yaml'\n",
    "\n",
    "config = get_config(config_path)\n",
    "\n",
    "BATCH_SIZE = config.batch_size\n",
    "img_size = config.data.img_size"
   ]
  },
  {
   "cell_type": "code",
   "execution_count": 35,
   "metadata": {},
   "outputs": [],
   "source": [
    "ds_builder = DatasetBuilder(config)\n",
    "ds_builder.setup()\n",
    "train_loader, val_loader, test_loader = ds_builder.get_dataloaders()"
   ]
  },
  {
   "cell_type": "code",
   "execution_count": 36,
   "metadata": {},
   "outputs": [
    {
     "data": {
      "text/plain": [
       "[1, 8]"
      ]
     },
     "execution_count": 36,
     "metadata": {},
     "output_type": "execute_result"
    }
   ],
   "source": [
    "config.data.classes"
   ]
  },
  {
   "cell_type": "code",
   "execution_count": 9,
   "metadata": {},
   "outputs": [
    {
     "name": "stdout",
     "output_type": "stream",
     "text": [
      "Fashionmnist dataset has been successfully loaded\n",
      "Unique classes:  ['T-shirt/top', 'Trouser', 'Pullover', 'Dress', 'Coat', 'Sandal', 'Shirt', 'Sneaker', 'Bag', 'Ankle boot']\n"
     ]
    }
   ],
   "source": [
    "# preprocessing\n",
    "# download = True\n",
    "\n",
    "\n",
    "# data_dir = r'D:\\PycharmProjects\\Counterfactual-Robustness-Benchmark\\data'\n",
    "# r\"/vsc-hard-mounts/leuven-data/365/vsc36567/Counterfactual-Robustness-Benchmark/data\"\n",
    "# data_flag = \"FashionMNIST\"\n",
    "# ds_names = ['train', 'val','test']\n",
    "# device = 'cuda' if torch.cuda.is_available() else 'cpu'\n",
    "# classes = ['all'] #[1, 8]\n",
    "\n",
    "# datasets = {}\n",
    "# for ds_name in ds_names:\n",
    "#     datasets[ds_name] = FashionMNISTDataset(data_flag, \n",
    "#                                     split=ds_name, \n",
    "#                                     data_dir=data_dir, \n",
    "#                                     size=img_size, \n",
    "#                                     download=download,\n",
    "#                                     increase_channels=False,\n",
    "#                                     undersample=False,\n",
    "#                                     channels_first=True,\n",
    "#                                     classes=classes)\n",
    "\n",
    "# # unique_targets = np.unique(datasets['train'].data.targets).tolist()\n",
    "# NUM_CLASSES = len(datasets['train'].data.classes)\n",
    "\n",
    "# print(f\"{data_flag.capitalize()} dataset has been successfully loaded\")\n",
    "# print(\"Unique classes: \", datasets['train'].data.classes)"
   ]
  },
  {
   "cell_type": "code",
   "execution_count": 10,
   "metadata": {},
   "outputs": [],
   "source": [
    "# train_loader = DataLoader(dataset=datasets['train'], batch_size=BATCH_SIZE, shuffle=True)\n",
    "# val_loader = DataLoader(dataset=datasets['val'], batch_size=BATCH_SIZE, shuffle=True) \n",
    "# test_loader = DataLoader(dataset=datasets['test'], batch_size=BATCH_SIZE, shuffle=True) "
   ]
  },
  {
   "cell_type": "code",
   "execution_count": 37,
   "metadata": {},
   "outputs": [],
   "source": [
    "z = 100\n",
    "ngf = 64 # Size of feature maps in generator\n",
    "ndf = 64 # Size of feature maps in discriminator\n",
    "nc = 1 # Number of channels\n",
    "beta1 = 0.5 # Beta1 hyperparameter for Adam optimizers\n",
    "lr = 0.0002 # Learning rate for optimizers\n",
    "device = 'cuda' if torch.cuda.is_available() else 'cpu' "
   ]
  },
  {
   "cell_type": "markdown",
   "metadata": {},
   "source": [
    "## Build DCGAN object  "
   ]
  },
  {
   "cell_type": "code",
   "execution_count": 38,
   "metadata": {},
   "outputs": [],
   "source": [
    "# custom weights initialization called on ``netG`` and ``netD``\n",
    "def weights_init(m):\n",
    "    classname = m.__class__.__name__\n",
    "    if classname.find('Conv') != -1:\n",
    "        nn.init.normal_(m.weight.data, 0.0, 0.02)\n",
    "    elif classname.find('BatchNorm') != -1:\n",
    "        nn.init.normal_(m.weight.data, 1.0, 0.02)\n",
    "        nn.init.constant_(m.bias.data, 0)"
   ]
  },
  {
   "cell_type": "code",
   "execution_count": 39,
   "metadata": {},
   "outputs": [],
   "source": [
    "gen = models.Generator(latent_dim=z, ngf=ngf, nc=nc).to(device)\n",
    "discr = models.Discriminator(ndf=ndf, nc=1).to(device)\n",
    "\n",
    "gen.apply(weights_init);\n",
    "discr.apply(weights_init);"
   ]
  },
  {
   "cell_type": "code",
   "execution_count": 40,
   "metadata": {},
   "outputs": [],
   "source": [
    "# Initialize the ``BCELoss`` function\n",
    "criterion = nn.BCELoss()\n",
    "\n",
    "# Create batch of latent vectors that we will use to visualize\n",
    "#  the progression of the generator\n",
    "fixed_noise = torch.randn(BATCH_SIZE, z, 1, 1, device=device)\n",
    "\n",
    "# Establish convention for real and fake labels during training\n",
    "real_label = 1.\n",
    "fake_label = 0.\n",
    "\n",
    "# Setup Adam optimizers for both G and D\n",
    "optimizerG = torch.optim.Adam(gen.parameters(), lr=lr, betas=(beta1, 0.999))\n",
    "optimizerD = torch.optim.Adam(discr.parameters(), lr=lr, betas=(beta1, 0.999))"
   ]
  },
  {
   "cell_type": "code",
   "execution_count": 41,
   "metadata": {},
   "outputs": [
    {
     "name": "stdout",
     "output_type": "stream",
     "text": [
      "Starting Training Loop...\n",
      "[0/15][0/158]\tLoss_D: 1.3098\tLoss_G: 1.5578\tD(x): 0.5660\tD(G(z)): 0.4933 / 0.2310\n",
      "[0/15][50/158]\tLoss_D: 0.1360\tLoss_G: 4.3543\tD(x): 0.9433\tD(G(z)): 0.0651 / 0.0208\n",
      "[0/15][100/158]\tLoss_D: 0.1492\tLoss_G: 3.6968\tD(x): 0.9421\tD(G(z)): 0.0754 / 0.0316\n",
      "[0/15][150/158]\tLoss_D: 0.8608\tLoss_G: 8.1764\tD(x): 0.9832\tD(G(z)): 0.5215 / 0.0007\n",
      "[1/15][0/158]\tLoss_D: 0.1959\tLoss_G: 4.2173\tD(x): 0.9040\tD(G(z)): 0.0797 / 0.0222\n",
      "[1/15][50/158]\tLoss_D: 0.3053\tLoss_G: 4.4772\tD(x): 0.8970\tD(G(z)): 0.1648 / 0.0142\n",
      "[1/15][100/158]\tLoss_D: 0.2929\tLoss_G: 2.6924\tD(x): 0.8605\tD(G(z)): 0.1136 / 0.0916\n",
      "[1/15][150/158]\tLoss_D: 0.3707\tLoss_G: 2.9639\tD(x): 0.8367\tD(G(z)): 0.1452 / 0.0837\n",
      "[2/15][0/158]\tLoss_D: 0.2376\tLoss_G: 3.3145\tD(x): 0.9193\tD(G(z)): 0.1266 / 0.0528\n",
      "[2/15][50/158]\tLoss_D: 0.3559\tLoss_G: 3.8177\tD(x): 0.9135\tD(G(z)): 0.2075 / 0.0327\n",
      "[2/15][100/158]\tLoss_D: 0.1998\tLoss_G: 3.2908\tD(x): 0.9071\tD(G(z)): 0.0902 / 0.0517\n",
      "[2/15][150/158]\tLoss_D: 0.2341\tLoss_G: 2.7251\tD(x): 0.8881\tD(G(z)): 0.1002 / 0.0859\n",
      "[3/15][0/158]\tLoss_D: 0.2143\tLoss_G: 3.1343\tD(x): 0.9182\tD(G(z)): 0.1115 / 0.0670\n",
      "[3/15][50/158]\tLoss_D: 0.3333\tLoss_G: 3.2748\tD(x): 0.9554\tD(G(z)): 0.2241 / 0.0555\n",
      "[3/15][100/158]\tLoss_D: 0.4534\tLoss_G: 3.5027\tD(x): 0.8932\tD(G(z)): 0.2611 / 0.0449\n",
      "[3/15][150/158]\tLoss_D: 0.2954\tLoss_G: 2.5897\tD(x): 0.8044\tD(G(z)): 0.0507 / 0.1017\n",
      "[4/15][0/158]\tLoss_D: 0.8619\tLoss_G: 5.2393\tD(x): 0.9687\tD(G(z)): 0.4828 / 0.0102\n",
      "[4/15][50/158]\tLoss_D: 0.5786\tLoss_G: 3.5488\tD(x): 0.9347\tD(G(z)): 0.3561 / 0.0474\n",
      "[4/15][100/158]\tLoss_D: 0.3867\tLoss_G: 3.3884\tD(x): 0.9492\tD(G(z)): 0.2670 / 0.0457\n",
      "[4/15][150/158]\tLoss_D: 0.5523\tLoss_G: 3.4049\tD(x): 0.8966\tD(G(z)): 0.3064 / 0.0497\n",
      "[5/15][0/158]\tLoss_D: 0.4227\tLoss_G: 1.4625\tD(x): 0.7520\tD(G(z)): 0.0917 / 0.2987\n",
      "[5/15][50/158]\tLoss_D: 0.5255\tLoss_G: 1.9549\tD(x): 0.7743\tD(G(z)): 0.2070 / 0.1816\n",
      "[5/15][100/158]\tLoss_D: 0.3405\tLoss_G: 3.0007\tD(x): 0.8550\tD(G(z)): 0.1440 / 0.0703\n",
      "[5/15][150/158]\tLoss_D: 0.5540\tLoss_G: 2.6979\tD(x): 0.6665\tD(G(z)): 0.0611 / 0.1042\n",
      "[6/15][0/158]\tLoss_D: 0.4124\tLoss_G: 3.5170\tD(x): 0.9481\tD(G(z)): 0.2817 / 0.0386\n",
      "[6/15][50/158]\tLoss_D: 0.3480\tLoss_G: 3.4870\tD(x): 0.9097\tD(G(z)): 0.2089 / 0.0394\n",
      "[6/15][100/158]\tLoss_D: 0.6074\tLoss_G: 1.9024\tD(x): 0.8247\tD(G(z)): 0.2674 / 0.2090\n",
      "[6/15][150/158]\tLoss_D: 0.5814\tLoss_G: 5.0208\tD(x): 0.9152\tD(G(z)): 0.3431 / 0.0127\n",
      "[7/15][0/158]\tLoss_D: 0.4680\tLoss_G: 3.8131\tD(x): 0.8974\tD(G(z)): 0.2566 / 0.0315\n",
      "[7/15][50/158]\tLoss_D: 0.6372\tLoss_G: 3.6585\tD(x): 0.8892\tD(G(z)): 0.3642 / 0.0342\n",
      "[7/15][100/158]\tLoss_D: 0.8383\tLoss_G: 3.0570\tD(x): 0.8895\tD(G(z)): 0.4622 / 0.0636\n",
      "[7/15][150/158]\tLoss_D: 0.6538\tLoss_G: 1.8870\tD(x): 0.6593\tD(G(z)): 0.1621 / 0.2105\n",
      "[8/15][0/158]\tLoss_D: 1.4517\tLoss_G: 4.3436\tD(x): 0.9761\tD(G(z)): 0.6912 / 0.0284\n",
      "[8/15][50/158]\tLoss_D: 0.4729\tLoss_G: 2.4481\tD(x): 0.8001\tD(G(z)): 0.1813 / 0.1161\n",
      "[8/15][100/158]\tLoss_D: 0.6226\tLoss_G: 2.9461\tD(x): 0.9200\tD(G(z)): 0.3874 / 0.0727\n",
      "[8/15][150/158]\tLoss_D: 0.5597\tLoss_G: 2.2516\tD(x): 0.7961\tD(G(z)): 0.2430 / 0.1375\n",
      "[9/15][0/158]\tLoss_D: 0.5201\tLoss_G: 2.0260\tD(x): 0.7128\tD(G(z)): 0.1171 / 0.1682\n",
      "[9/15][50/158]\tLoss_D: 0.7367\tLoss_G: 2.4898\tD(x): 0.7492\tD(G(z)): 0.2763 / 0.1101\n",
      "[9/15][100/158]\tLoss_D: 0.7063\tLoss_G: 2.8111\tD(x): 0.8504\tD(G(z)): 0.3732 / 0.0806\n",
      "[9/15][150/158]\tLoss_D: 0.7077\tLoss_G: 1.7479\tD(x): 0.5686\tD(G(z)): 0.0709 / 0.2190\n",
      "[10/15][0/158]\tLoss_D: 0.6559\tLoss_G: 1.2412\tD(x): 0.6734\tD(G(z)): 0.1809 / 0.3380\n",
      "[10/15][50/158]\tLoss_D: 0.6291\tLoss_G: 2.2919\tD(x): 0.6067\tD(G(z)): 0.0482 / 0.1429\n",
      "[10/15][100/158]\tLoss_D: 1.2112\tLoss_G: 1.9426\tD(x): 0.3619\tD(G(z)): 0.0176 / 0.1974\n",
      "[10/15][150/158]\tLoss_D: 0.4975\tLoss_G: 2.1075\tD(x): 0.8067\tD(G(z)): 0.2141 / 0.1601\n",
      "[11/15][0/158]\tLoss_D: 0.6842\tLoss_G: 2.3807\tD(x): 0.6692\tD(G(z)): 0.1591 / 0.1238\n",
      "[11/15][50/158]\tLoss_D: 0.4905\tLoss_G: 2.0859\tD(x): 0.8421\tD(G(z)): 0.2419 / 0.1527\n",
      "[11/15][100/158]\tLoss_D: 0.3427\tLoss_G: 2.3706\tD(x): 0.8092\tD(G(z)): 0.1100 / 0.1206\n",
      "[11/15][150/158]\tLoss_D: 0.6942\tLoss_G: 3.3214\tD(x): 0.9154\tD(G(z)): 0.3865 / 0.0496\n",
      "[12/15][0/158]\tLoss_D: 0.6696\tLoss_G: 2.7136\tD(x): 0.7762\tD(G(z)): 0.2950 / 0.0997\n",
      "[12/15][50/158]\tLoss_D: 0.5972\tLoss_G: 2.1965\tD(x): 0.6230\tD(G(z)): 0.0582 / 0.1395\n",
      "[12/15][100/158]\tLoss_D: 0.6124\tLoss_G: 1.9013\tD(x): 0.7560\tD(G(z)): 0.2466 / 0.1869\n",
      "[12/15][150/158]\tLoss_D: 0.8193\tLoss_G: 2.9845\tD(x): 0.8781\tD(G(z)): 0.4555 / 0.0672\n",
      "[13/15][0/158]\tLoss_D: 0.5536\tLoss_G: 2.3416\tD(x): 0.7583\tD(G(z)): 0.2049 / 0.1223\n",
      "[13/15][50/158]\tLoss_D: 0.8352\tLoss_G: 3.0792\tD(x): 0.7639\tD(G(z)): 0.3741 / 0.0616\n",
      "[13/15][100/158]\tLoss_D: 0.5589\tLoss_G: 2.8782\tD(x): 0.8592\tD(G(z)): 0.3061 / 0.0794\n",
      "[13/15][150/158]\tLoss_D: 0.6820\tLoss_G: 2.0728\tD(x): 0.6961\tD(G(z)): 0.2041 / 0.1575\n",
      "[14/15][0/158]\tLoss_D: 0.5250\tLoss_G: 3.3061\tD(x): 0.9031\tD(G(z)): 0.3059 / 0.0521\n",
      "[14/15][50/158]\tLoss_D: 0.7105\tLoss_G: 2.0868\tD(x): 0.5715\tD(G(z)): 0.0696 / 0.1785\n",
      "[14/15][100/158]\tLoss_D: 0.7402\tLoss_G: 3.8536\tD(x): 0.9288\tD(G(z)): 0.4381 / 0.0319\n",
      "[14/15][150/158]\tLoss_D: 0.7862\tLoss_G: 1.7338\tD(x): 0.5607\tD(G(z)): 0.1081 / 0.2370\n"
     ]
    }
   ],
   "source": [
    "# Training Loop\n",
    "\n",
    "# Lists to keep track of progress\n",
    "img_list = []\n",
    "G_losses = []\n",
    "D_losses = []\n",
    "iters = 0\n",
    "num_epochs = 15\n",
    "\n",
    "print(\"Starting Training Loop...\")\n",
    "# For each epoch\n",
    "for epoch in range(num_epochs):\n",
    "    # For each batch in the dataloader\n",
    "    for i, data in enumerate(train_loader, 0):\n",
    "\n",
    "        ############################\n",
    "        # (1) Update D network: maximize log(D(x)) + log(1 - D(G(z)))\n",
    "        ###########################\n",
    "        ## Train with all-real batch\n",
    "        discr.zero_grad()\n",
    "        # Format batch\n",
    "        real_cpu = data[0].to(device)\n",
    "        b_size = real_cpu.size(0)\n",
    "        label = torch.full((b_size,), real_label, dtype=torch.float, device=device)\n",
    "        # Forward pass real batch through D\n",
    "        output = discr(real_cpu).view(-1)\n",
    "        # Calculate loss on all-real batch\n",
    "        errD_real = criterion(output, label)\n",
    "        # Calculate gradients for D in backward pass\n",
    "        errD_real.backward()\n",
    "        D_x = output.mean().item()\n",
    "\n",
    "        ## Train with all-fake batch\n",
    "        # Generate batch of latent vectors\n",
    "        noise = torch.randn(b_size, z, 1, 1, device=device)\n",
    "        # Generate fake image batch with G\n",
    "        fake = gen(noise)\n",
    "        label.fill_(fake_label)\n",
    "        # Classify all fake batch with D\n",
    "        output = discr(fake.detach()).view(-1)\n",
    "        # Calculate D's loss on the all-fake batch\n",
    "        errD_fake = criterion(output, label)\n",
    "        # Calculate the gradients for this batch, accumulated (summed) with previous gradients\n",
    "        errD_fake.backward()\n",
    "        D_G_z1 = output.mean().item()\n",
    "        # Compute error of D as sum over the fake and the real batches\n",
    "        errD = errD_real + errD_fake\n",
    "        # Update D\n",
    "        optimizerD.step()\n",
    "\n",
    "        ############################\n",
    "        # (2) Update G network: maximize log(D(G(z)))\n",
    "        ###########################\n",
    "        gen.zero_grad()\n",
    "        label.fill_(real_label)  # fake labels are real for generator cost\n",
    "        # Since we just updated D, perform another forward pass of all-fake batch through D\n",
    "        output = discr(fake).view(-1)\n",
    "        # Calculate G's loss based on this output\n",
    "        errG = criterion(output, label)\n",
    "        # Calculate gradients for G\n",
    "        errG.backward()\n",
    "        D_G_z2 = output.mean().item()\n",
    "        # Update G\n",
    "        optimizerG.step()\n",
    "\n",
    "        # Output training stats\n",
    "        if i % 50 == 0:\n",
    "            print('[%d/%d][%d/%d]\\tLoss_D: %.4f\\tLoss_G: %.4f\\tD(x): %.4f\\tD(G(z)): %.4f / %.4f'\n",
    "                  % (epoch, num_epochs, i, len(train_loader),\n",
    "                     errD.item(), errG.item(), D_x, D_G_z1, D_G_z2))\n",
    "\n",
    "        # Save Losses for plotting later\n",
    "        G_losses.append(errG.item())\n",
    "        D_losses.append(errD.item())\n",
    "\n",
    "        # Check how the generator is doing by saving G's output on fixed_noise\n",
    "        if (iters % 500 == 0) or ((epoch == num_epochs-1) and (i == len(test_loader)-1)):\n",
    "            with torch.no_grad():\n",
    "                fake = gen(fixed_noise).detach().cpu()\n",
    "            img_list.append(vutils.make_grid(fake, padding=2, normalize=True))\n",
    "\n",
    "        iters += 1"
   ]
  },
  {
   "cell_type": "code",
   "execution_count": 42,
   "metadata": {},
   "outputs": [
    {
     "data": {
      "image/png": "[encoded data removed]",
      "text/plain": [
       "<Figure size 700x400 with 1 Axes>"
      ]
     },
     "metadata": {},
     "output_type": "display_data"
    }
   ],
   "source": [
    "plt.figure(figsize=(7,4))\n",
    "plt.title(\"Generator and Discriminator Loss During Training\")\n",
    "plt.plot(G_losses,label=\"G\")\n",
    "plt.plot(D_losses,label=\"D\")\n",
    "plt.xlabel(\"iterations\")\n",
    "plt.ylabel(\"Loss\")\n",
    "plt.legend()\n",
    "plt.show()"
   ]
  },
  {
   "cell_type": "code",
   "execution_count": 43,
   "metadata": {},
   "outputs": [
    {
     "data": {
      "image/png": "[encoded data removed]",
      "text/plain": [
       "<Figure size 1000x400 with 5 Axes>"
      ]
     },
     "metadata": {},
     "output_type": "display_data"
    }
   ],
   "source": [
    "n_samples = 5\n",
    "fig, axs = plt.subplots(1, n_samples, figsize=(10, 4))\n",
    "\n",
    "noise_vector = torch.randn(BATCH_SIZE, z, 1, 1, device=device)\n",
    "gen_images = gen(noise_vector).detach().cpu()\n",
    "\n",
    "for j in range(n_samples):\n",
    "    axs[j].imshow(gen_images[j].squeeze(0), cmap='gray')\n",
    "    axs[j].axis(\"off\")\n"
   ]
  },
  {
   "cell_type": "code",
   "execution_count": 44,
   "metadata": {},
   "outputs": [],
   "source": [
    "save_dir = osp.join(repo_path,  r'src/cf_methods/c3lt/weights')\n",
    "# r'D:\\PycharmProjects\\Counterfactual-Robustness-Benchmark\\src\\recourse_methods\\c3lt\\weights'\n",
    "# r'/data/leuven/365/vsc36567/Counterfactual-Robustness-Benchmark/src/recourse_methods/c3lt/weights'\n",
    "\n",
    "torch.save(gen.state_dict(), osp.join(save_dir, r'generator_mnist_1_8.pth'))\n",
    "torch.save(discr.state_dict(), osp.join(save_dir, r'discriminator_mnist_1_.pth'))"
   ]
  },
  {
   "cell_type": "markdown",
   "metadata": {},
   "source": [
    "## Train AE"
   ]
  },
  {
   "cell_type": "code",
   "execution_count": 45,
   "metadata": {},
   "outputs": [],
   "source": [
    "ae = models.ConvolutionalAuntoencoder(latent_dim=z, nc=nc, ndf=32, ngpu=1).to(device)"
   ]
  },
  {
   "cell_type": "code",
   "execution_count": 46,
   "metadata": {},
   "outputs": [
    {
     "name": "stderr",
     "output_type": "stream",
     "text": [
      "100%|██████████| 158/158 [00:05<00:00, 28.34it/s]\n"
     ]
    },
    {
     "name": "stdout",
     "output_type": "stream",
     "text": [
      "Epoch: 1 \tTraining Loss: 30.924112\n"
     ]
    },
    {
     "name": "stderr",
     "output_type": "stream",
     "text": [
      "100%|██████████| 158/158 [00:05<00:00, 29.28it/s]\n"
     ]
    },
    {
     "name": "stdout",
     "output_type": "stream",
     "text": [
      "Epoch: 2 \tTraining Loss: 17.540005\n"
     ]
    },
    {
     "name": "stderr",
     "output_type": "stream",
     "text": [
      "100%|██████████| 158/158 [00:05<00:00, 30.30it/s]\n"
     ]
    },
    {
     "name": "stdout",
     "output_type": "stream",
     "text": [
      "Epoch: 3 \tTraining Loss: 10.199658\n"
     ]
    },
    {
     "name": "stderr",
     "output_type": "stream",
     "text": [
      "100%|██████████| 158/158 [00:05<00:00, 28.71it/s]\n"
     ]
    },
    {
     "name": "stdout",
     "output_type": "stream",
     "text": [
      "Epoch: 4 \tTraining Loss: 5.602707\n"
     ]
    },
    {
     "name": "stderr",
     "output_type": "stream",
     "text": [
      "100%|██████████| 158/158 [00:06<00:00, 24.45it/s]\n"
     ]
    },
    {
     "name": "stdout",
     "output_type": "stream",
     "text": [
      "Epoch: 5 \tTraining Loss: 2.919363\n"
     ]
    },
    {
     "name": "stderr",
     "output_type": "stream",
     "text": [
      "100%|██████████| 158/158 [00:05<00:00, 28.48it/s]\n"
     ]
    },
    {
     "name": "stdout",
     "output_type": "stream",
     "text": [
      "Epoch: 6 \tTraining Loss: 1.466313\n"
     ]
    },
    {
     "name": "stderr",
     "output_type": "stream",
     "text": [
      "100%|██████████| 158/158 [00:05<00:00, 28.61it/s]\n"
     ]
    },
    {
     "name": "stdout",
     "output_type": "stream",
     "text": [
      "Epoch: 7 \tTraining Loss: 0.744586\n"
     ]
    },
    {
     "name": "stderr",
     "output_type": "stream",
     "text": [
      "100%|██████████| 158/158 [00:05<00:00, 28.31it/s]\n"
     ]
    },
    {
     "name": "stdout",
     "output_type": "stream",
     "text": [
      "Epoch: 8 \tTraining Loss: 0.419750\n"
     ]
    },
    {
     "name": "stderr",
     "output_type": "stream",
     "text": [
      "100%|██████████| 158/158 [00:05<00:00, 27.75it/s]\n"
     ]
    },
    {
     "name": "stdout",
     "output_type": "stream",
     "text": [
      "Epoch: 9 \tTraining Loss: 0.287064\n"
     ]
    },
    {
     "name": "stderr",
     "output_type": "stream",
     "text": [
      "100%|██████████| 158/158 [00:05<00:00, 27.32it/s]\n"
     ]
    },
    {
     "name": "stdout",
     "output_type": "stream",
     "text": [
      "Epoch: 10 \tTraining Loss: 0.241192\n"
     ]
    },
    {
     "name": "stderr",
     "output_type": "stream",
     "text": [
      "100%|██████████| 158/158 [00:05<00:00, 28.96it/s]\n"
     ]
    },
    {
     "name": "stdout",
     "output_type": "stream",
     "text": [
      "Epoch: 11 \tTraining Loss: 0.217060\n"
     ]
    },
    {
     "name": "stderr",
     "output_type": "stream",
     "text": [
      "100%|██████████| 158/158 [00:05<00:00, 28.63it/s]\n"
     ]
    },
    {
     "name": "stdout",
     "output_type": "stream",
     "text": [
      "Epoch: 12 \tTraining Loss: 0.205673\n"
     ]
    },
    {
     "name": "stderr",
     "output_type": "stream",
     "text": [
      "100%|██████████| 158/158 [00:05<00:00, 28.76it/s]\n"
     ]
    },
    {
     "name": "stdout",
     "output_type": "stream",
     "text": [
      "Epoch: 13 \tTraining Loss: 0.199972\n"
     ]
    },
    {
     "name": "stderr",
     "output_type": "stream",
     "text": [
      "100%|██████████| 158/158 [00:05<00:00, 28.45it/s]\n"
     ]
    },
    {
     "name": "stdout",
     "output_type": "stream",
     "text": [
      "Epoch: 14 \tTraining Loss: 0.195360\n"
     ]
    },
    {
     "name": "stderr",
     "output_type": "stream",
     "text": [
      "100%|██████████| 158/158 [00:05<00:00, 28.23it/s]\n"
     ]
    },
    {
     "name": "stdout",
     "output_type": "stream",
     "text": [
      "Epoch: 15 \tTraining Loss: 0.191749\n"
     ]
    },
    {
     "name": "stderr",
     "output_type": "stream",
     "text": [
      "100%|██████████| 158/158 [00:05<00:00, 27.58it/s]\n"
     ]
    },
    {
     "name": "stdout",
     "output_type": "stream",
     "text": [
      "Epoch: 16 \tTraining Loss: 0.181214\n"
     ]
    },
    {
     "name": "stderr",
     "output_type": "stream",
     "text": [
      "100%|██████████| 158/158 [00:05<00:00, 27.99it/s]\n"
     ]
    },
    {
     "name": "stdout",
     "output_type": "stream",
     "text": [
      "Epoch: 17 \tTraining Loss: 0.179340\n"
     ]
    },
    {
     "name": "stderr",
     "output_type": "stream",
     "text": [
      "100%|██████████| 158/158 [00:05<00:00, 27.73it/s]\n"
     ]
    },
    {
     "name": "stdout",
     "output_type": "stream",
     "text": [
      "Epoch: 18 \tTraining Loss: 0.176704\n"
     ]
    },
    {
     "name": "stderr",
     "output_type": "stream",
     "text": [
      "100%|██████████| 158/158 [00:05<00:00, 27.80it/s]\n"
     ]
    },
    {
     "name": "stdout",
     "output_type": "stream",
     "text": [
      "Epoch: 19 \tTraining Loss: 0.173688\n"
     ]
    },
    {
     "name": "stderr",
     "output_type": "stream",
     "text": [
      "100%|██████████| 158/158 [00:06<00:00, 26.22it/s]\n"
     ]
    },
    {
     "name": "stdout",
     "output_type": "stream",
     "text": [
      "Epoch: 20 \tTraining Loss: 0.168378\n"
     ]
    },
    {
     "name": "stderr",
     "output_type": "stream",
     "text": [
      "100%|██████████| 158/158 [00:05<00:00, 28.56it/s]\n"
     ]
    },
    {
     "name": "stdout",
     "output_type": "stream",
     "text": [
      "Epoch: 21 \tTraining Loss: 0.165213\n"
     ]
    },
    {
     "name": "stderr",
     "output_type": "stream",
     "text": [
      "100%|██████████| 158/158 [00:05<00:00, 27.75it/s]\n"
     ]
    },
    {
     "name": "stdout",
     "output_type": "stream",
     "text": [
      "Epoch: 22 \tTraining Loss: 0.160637\n"
     ]
    },
    {
     "name": "stderr",
     "output_type": "stream",
     "text": [
      "100%|██████████| 158/158 [00:05<00:00, 27.97it/s]\n"
     ]
    },
    {
     "name": "stdout",
     "output_type": "stream",
     "text": [
      "Epoch: 23 \tTraining Loss: 0.155803\n"
     ]
    },
    {
     "name": "stderr",
     "output_type": "stream",
     "text": [
      "100%|██████████| 158/158 [00:05<00:00, 27.95it/s]\n"
     ]
    },
    {
     "name": "stdout",
     "output_type": "stream",
     "text": [
      "Epoch: 24 \tTraining Loss: 0.153894\n"
     ]
    },
    {
     "name": "stderr",
     "output_type": "stream",
     "text": [
      "100%|██████████| 158/158 [00:05<00:00, 28.09it/s]\n"
     ]
    },
    {
     "name": "stdout",
     "output_type": "stream",
     "text": [
      "Epoch: 25 \tTraining Loss: 0.149047\n"
     ]
    },
    {
     "name": "stderr",
     "output_type": "stream",
     "text": [
      "100%|██████████| 158/158 [00:05<00:00, 28.04it/s]\n"
     ]
    },
    {
     "name": "stdout",
     "output_type": "stream",
     "text": [
      "Epoch: 26 \tTraining Loss: 0.146734\n"
     ]
    },
    {
     "name": "stderr",
     "output_type": "stream",
     "text": [
      "100%|██████████| 158/158 [00:05<00:00, 28.41it/s]\n"
     ]
    },
    {
     "name": "stdout",
     "output_type": "stream",
     "text": [
      "Epoch: 27 \tTraining Loss: 0.144967\n"
     ]
    },
    {
     "name": "stderr",
     "output_type": "stream",
     "text": [
      "100%|██████████| 158/158 [00:05<00:00, 28.02it/s]\n"
     ]
    },
    {
     "name": "stdout",
     "output_type": "stream",
     "text": [
      "Epoch: 28 \tTraining Loss: 0.140111\n"
     ]
    },
    {
     "name": "stderr",
     "output_type": "stream",
     "text": [
      "100%|██████████| 158/158 [00:05<00:00, 28.22it/s]\n"
     ]
    },
    {
     "name": "stdout",
     "output_type": "stream",
     "text": [
      "Epoch: 29 \tTraining Loss: 0.139155\n"
     ]
    },
    {
     "name": "stderr",
     "output_type": "stream",
     "text": [
      "100%|██████████| 158/158 [00:05<00:00, 27.66it/s]"
     ]
    },
    {
     "name": "stdout",
     "output_type": "stream",
     "text": [
      "Epoch: 30 \tTraining Loss: 0.136385\n"
     ]
    },
    {
     "name": "stderr",
     "output_type": "stream",
     "text": [
      "\n"
     ]
    }
   ],
   "source": [
    "# specify loss function\n",
    "criterion = nn.MSELoss()\n",
    "\n",
    "# specify loss function\n",
    "optimizer = torch.optim.Adam(ae.parameters(), lr=0.001)\n",
    "\n",
    "# number of epochs to train the model\n",
    "n_epochs = 30\n",
    "\n",
    "for epoch in range(1, n_epochs+1):\n",
    "    # monitor training loss\n",
    "    train_loss = 0.0\n",
    "    \n",
    "\n",
    "    for data in tqdm(train_loader):\n",
    "        images, _ = data\n",
    "        images = images.to(device)\n",
    "\n",
    "        # clear the gradients of all optimized variables\n",
    "        optimizer.zero_grad()\n",
    "        outputs = ae(images)\n",
    "        loss = criterion(outputs, images)\n",
    "\n",
    "        loss.backward()\n",
    "        optimizer.step()\n",
    "        train_loss += loss.item()*images.size(0)\n",
    "            \n",
    "    # print avg training statistics \n",
    "    train_loss = train_loss/len(train_loader)\n",
    "    print('Epoch: {} \\tTraining Loss: {:.6f}'.format(epoch, train_loss))\n"
   ]
  },
  {
   "cell_type": "code",
   "execution_count": 47,
   "metadata": {},
   "outputs": [
    {
     "name": "stdout",
     "output_type": "stream",
     "text": [
      "Recon loass: 0.00178\n"
     ]
    },
    {
     "data": {
      "image/png": "[encoded data removed]",
      "text/plain": [
       "<Figure size 1000x400 with 10 Axes>"
      ]
     },
     "metadata": {},
     "output_type": "display_data"
    }
   ],
   "source": [
    "n_samples = 5\n",
    "fig, axs = plt.subplots(2, n_samples, figsize=(10, 4))\n",
    "\n",
    "images, _ = next(iter(train_loader))\n",
    "recon = ae(images.to(device)).detach().cpu()\n",
    "recon_loss = criterion(images, recon).item()\n",
    "\n",
    "for j in range(n_samples):\n",
    "    axs[0, j].imshow(images[j].squeeze(0), cmap='gray')\n",
    "    axs[0, j].axis(\"off\")\n",
    "    axs[1, j].imshow(recon[j].squeeze(0), cmap='gray')\n",
    "    axs[1, j].axis(\"off\")\n",
    "\n",
    "print(f'Recon loass: {recon_loss:.5f}')\n"
   ]
  },
  {
   "cell_type": "code",
   "execution_count": 48,
   "metadata": {},
   "outputs": [],
   "source": [
    "save_dir = osp.join(repo_path, './src/cf_methods/c3lt/weights')\n",
    "torch.save(ae.state_dict(), osp.join(save_dir, 'ae_mnist_1_8.pth'))\n",
    "torch.save(ae.encoder.state_dict(), osp.join(save_dir, 'encoder_mnist_1_8.pth'))"
   ]
  },
  {
   "cell_type": "code",
   "execution_count": null,
   "metadata": {},
   "outputs": [],
   "source": []
  },
  {
   "cell_type": "code",
   "execution_count": null,
   "metadata": {},
   "outputs": [],
   "source": []
  }
 ],
 "metadata": {
  "kernelspec": {
   "display_name": "venv",
   "language": "python",
   "name": "python3"
  },
  "language_info": {
   "codemirror_mode": {
    "name": "ipython",
    "version": 3
   },
   "file_extension": ".py",
   "mimetype": "text/x-python",
   "name": "python",
   "nbconvert_exporter": "python",
   "pygments_lexer": "ipython3",
   "version": "3.11.7"
  }
 },
 "nbformat": 4,
 "nbformat_minor": 2
}
